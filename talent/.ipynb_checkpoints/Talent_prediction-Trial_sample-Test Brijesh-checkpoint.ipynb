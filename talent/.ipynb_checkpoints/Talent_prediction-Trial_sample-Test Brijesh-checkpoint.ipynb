{
 "cells": [
  {
   "cell_type": "code",
   "execution_count": 1,
   "metadata": {},
   "outputs": [],
   "source": [
    "import pandas as pd\n",
    "import numpy as np\n",
    "from sklearn.feature_extraction.text import CountVectorizer\n",
    "from sklearn.feature_extraction.text import TfidfVectorizer\n",
    "from sklearn.cluster import KMeans\n",
    "from sklearn.decomposition import PCA\n",
    "from sklearn.decomposition import TruncatedSVD\n",
    "from sklearn.ensemble import RandomForestClassifier\n",
    "from sklearn.linear_model.logistic import LogisticRegression\n",
    "from sklearn.linear_model import LinearRegression\n",
    "from sklearn.neighbors import KNeighborsClassifier\n",
    "from sklearn import metrics\n",
    "from sklearn import preprocessing\n",
    "\n",
    "from sklearn.naive_bayes import MultinomialNB\n",
    "from sklearn.preprocessing import Normalizer\n",
    "from sklearn.preprocessing import StandardScaler\n",
    "from sklearn import metrics\n",
    "import pandas as pd\n",
    "import numpy as np\n",
    "from sklearn.feature_extraction.text import TfidfVectorizer\n",
    "from sklearn.linear_model import LogisticRegression\n",
    "from sklearn import preprocessing\n",
    "from sklearn.model_selection import train_test_split\n",
    "\n",
    "from sklearn.naive_bayes import MultinomialNB\n",
    "from sklearn.ensemble import RandomForestClassifier\n",
    "from sklearn.svm import LinearSVC\n",
    "from sklearn.model_selection import cross_val_score\n",
    "%matplotlib notebook\n",
    "import numpy as np\n",
    "import matplotlib.pyplot as plt\n",
    "\n",
    "import sklearn.metrics as metrics\n"
   ]
  },
  {
   "cell_type": "code",
   "execution_count": 3,
   "metadata": {},
   "outputs": [],
   "source": [
    "df =  pd.read_csv('Data_sample.csv')\n",
    "df_test = pd.read_csv('Sep_test_new.csv',encoding='cp1252')"
   ]
  },
  {
   "cell_type": "code",
   "execution_count": 4,
   "metadata": {},
   "outputs": [
    {
     "data": {
      "text/plain": [
       "Index(['OfferId', 'OverallStatus', 'Status', 'Hiretype', 'RecruiterGPN',\n",
       "       'Title', 'DateOfBirth', 'Original State', 'PinCode', 'Source',\n",
       "       'Department', 'IT', 'Joining Center', 'Facility', 'Rank',\n",
       "       'IsRotationalShift', 'NoticePeriod', 'Qualification1', 'Big four',\n",
       "       'DAndI', 'hike%', 'JoiningBonus',\n",
       "       'GoodsTransportationTravelEligibility', 'Stipend', 'Experienced',\n",
       "       'IsNoticePeriodReimbursementProvided', 'ExpectedJoiningDate',\n",
       "       'ActualJoiningDate'],\n",
       "      dtype='object')"
      ]
     },
     "execution_count": 4,
     "metadata": {},
     "output_type": "execute_result"
    }
   ],
   "source": [
    "df.columns"
   ]
  },
  {
   "cell_type": "code",
   "execution_count": 5,
   "metadata": {},
   "outputs": [
    {
     "data": {
      "text/html": [
       "<div>\n",
       "<style scoped>\n",
       "    .dataframe tbody tr th:only-of-type {\n",
       "        vertical-align: middle;\n",
       "    }\n",
       "\n",
       "    .dataframe tbody tr th {\n",
       "        vertical-align: top;\n",
       "    }\n",
       "\n",
       "    .dataframe thead th {\n",
       "        text-align: right;\n",
       "    }\n",
       "</style>\n",
       "<table border=\"1\" class=\"dataframe\">\n",
       "  <thead>\n",
       "    <tr style=\"text-align: right;\">\n",
       "      <th></th>\n",
       "      <th>OfferId</th>\n",
       "      <th>OverallStatus</th>\n",
       "      <th>Status</th>\n",
       "      <th>Hiretype</th>\n",
       "      <th>RecruiterGPN</th>\n",
       "      <th>Title</th>\n",
       "      <th>DateOfBirth</th>\n",
       "      <th>Original State</th>\n",
       "      <th>PinCode</th>\n",
       "      <th>Source</th>\n",
       "      <th>...</th>\n",
       "      <th>Big four</th>\n",
       "      <th>DAndI</th>\n",
       "      <th>hike%</th>\n",
       "      <th>JoiningBonus</th>\n",
       "      <th>GoodsTransportationTravelEligibility</th>\n",
       "      <th>Stipend</th>\n",
       "      <th>Experienced</th>\n",
       "      <th>IsNoticePeriodReimbursementProvided</th>\n",
       "      <th>ExpectedJoiningDate</th>\n",
       "      <th>ActualJoiningDate</th>\n",
       "    </tr>\n",
       "  </thead>\n",
       "  <tbody>\n",
       "    <tr>\n",
       "      <th>0</th>\n",
       "      <td>20658</td>\n",
       "      <td>Joined</td>\n",
       "      <td>OfferAccepted</td>\n",
       "      <td>New Employee</td>\n",
       "      <td>XE020M42382</td>\n",
       "      <td>Mr</td>\n",
       "      <td>15-11-1985</td>\n",
       "      <td>Karnataka</td>\n",
       "      <td>560016</td>\n",
       "      <td>EMPLOYEE REFERRAL</td>\n",
       "      <td>...</td>\n",
       "      <td>1</td>\n",
       "      <td>0</td>\n",
       "      <td>33%</td>\n",
       "      <td>0</td>\n",
       "      <td>0</td>\n",
       "      <td>0</td>\n",
       "      <td>1</td>\n",
       "      <td>0</td>\n",
       "      <td>02-07-2018</td>\n",
       "      <td>02-07-2018</td>\n",
       "    </tr>\n",
       "    <tr>\n",
       "      <th>1</th>\n",
       "      <td>21331</td>\n",
       "      <td>Joined</td>\n",
       "      <td>OfferAccepted</td>\n",
       "      <td>New Employee</td>\n",
       "      <td>XE020M42382</td>\n",
       "      <td>Mr</td>\n",
       "      <td>01-02-1981</td>\n",
       "      <td>Karnataka</td>\n",
       "      <td>560037</td>\n",
       "      <td>PORTAL</td>\n",
       "      <td>...</td>\n",
       "      <td>0</td>\n",
       "      <td>0</td>\n",
       "      <td>31%</td>\n",
       "      <td>0</td>\n",
       "      <td>0</td>\n",
       "      <td>0</td>\n",
       "      <td>1</td>\n",
       "      <td>0</td>\n",
       "      <td>30-07-2018</td>\n",
       "      <td>30-07-2018</td>\n",
       "    </tr>\n",
       "    <tr>\n",
       "      <th>2</th>\n",
       "      <td>21383</td>\n",
       "      <td>Joined</td>\n",
       "      <td>OfferAccepted</td>\n",
       "      <td>New Employee</td>\n",
       "      <td>XE020M39949</td>\n",
       "      <td>Mr</td>\n",
       "      <td>16-03-1990</td>\n",
       "      <td>Karnataka</td>\n",
       "      <td>560007</td>\n",
       "      <td>EMPLOYEE REFERRAL</td>\n",
       "      <td>...</td>\n",
       "      <td>0</td>\n",
       "      <td>0</td>\n",
       "      <td>36%</td>\n",
       "      <td>0</td>\n",
       "      <td>0</td>\n",
       "      <td>0</td>\n",
       "      <td>1</td>\n",
       "      <td>0</td>\n",
       "      <td>16-07-2018</td>\n",
       "      <td>16-07-2018</td>\n",
       "    </tr>\n",
       "    <tr>\n",
       "      <th>3</th>\n",
       "      <td>21389</td>\n",
       "      <td>Joined</td>\n",
       "      <td>OfferAccepted</td>\n",
       "      <td>New Employee</td>\n",
       "      <td>XE020M42382</td>\n",
       "      <td>Ms</td>\n",
       "      <td>09-07-1988</td>\n",
       "      <td>New Delhi</td>\n",
       "      <td>110018</td>\n",
       "      <td>CONSULTANCY</td>\n",
       "      <td>...</td>\n",
       "      <td>1</td>\n",
       "      <td>0</td>\n",
       "      <td>36%</td>\n",
       "      <td>0</td>\n",
       "      <td>0</td>\n",
       "      <td>0</td>\n",
       "      <td>1</td>\n",
       "      <td>1</td>\n",
       "      <td>16-07-2018</td>\n",
       "      <td>16-07-2018</td>\n",
       "    </tr>\n",
       "    <tr>\n",
       "      <th>4</th>\n",
       "      <td>21597</td>\n",
       "      <td>Joined</td>\n",
       "      <td>OfferAccepted</td>\n",
       "      <td>New Employee</td>\n",
       "      <td>XE021301732</td>\n",
       "      <td>Mr</td>\n",
       "      <td>12-05-1987</td>\n",
       "      <td>Karnataka</td>\n",
       "      <td>560075</td>\n",
       "      <td>EMPLOYEE REFERRAL</td>\n",
       "      <td>...</td>\n",
       "      <td>0</td>\n",
       "      <td>0</td>\n",
       "      <td>23%</td>\n",
       "      <td>0</td>\n",
       "      <td>0</td>\n",
       "      <td>0</td>\n",
       "      <td>1</td>\n",
       "      <td>0</td>\n",
       "      <td>30-07-2018</td>\n",
       "      <td>30-07-2018</td>\n",
       "    </tr>\n",
       "  </tbody>\n",
       "</table>\n",
       "<p>5 rows × 28 columns</p>\n",
       "</div>"
      ],
      "text/plain": [
       "   OfferId OverallStatus         Status      Hiretype RecruiterGPN Title  \\\n",
       "0    20658        Joined  OfferAccepted  New Employee  XE020M42382    Mr   \n",
       "1    21331        Joined  OfferAccepted  New Employee  XE020M42382    Mr   \n",
       "2    21383        Joined  OfferAccepted  New Employee  XE020M39949    Mr   \n",
       "3    21389        Joined  OfferAccepted  New Employee  XE020M42382    Ms   \n",
       "4    21597        Joined  OfferAccepted  New Employee  XE021301732    Mr   \n",
       "\n",
       "  DateOfBirth Original State  PinCode             Source        ...          \\\n",
       "0  15-11-1985      Karnataka   560016  EMPLOYEE REFERRAL        ...           \n",
       "1  01-02-1981      Karnataka   560037             PORTAL        ...           \n",
       "2  16-03-1990      Karnataka   560007  EMPLOYEE REFERRAL        ...           \n",
       "3  09-07-1988      New Delhi   110018        CONSULTANCY        ...           \n",
       "4  12-05-1987      Karnataka   560075  EMPLOYEE REFERRAL        ...           \n",
       "\n",
       "  Big four  DAndI hike% JoiningBonus  GoodsTransportationTravelEligibility  \\\n",
       "0        1      0   33%            0                                     0   \n",
       "1        0      0   31%            0                                     0   \n",
       "2        0      0   36%            0                                     0   \n",
       "3        1      0   36%            0                                     0   \n",
       "4        0      0   23%            0                                     0   \n",
       "\n",
       "   Stipend  Experienced IsNoticePeriodReimbursementProvided  \\\n",
       "0        0            1                                   0   \n",
       "1        0            1                                   0   \n",
       "2        0            1                                   0   \n",
       "3        0            1                                   1   \n",
       "4        0            1                                   0   \n",
       "\n",
       "   ExpectedJoiningDate  ActualJoiningDate  \n",
       "0           02-07-2018         02-07-2018  \n",
       "1           30-07-2018         30-07-2018  \n",
       "2           16-07-2018         16-07-2018  \n",
       "3           16-07-2018         16-07-2018  \n",
       "4           30-07-2018         30-07-2018  \n",
       "\n",
       "[5 rows x 28 columns]"
      ]
     },
     "execution_count": 5,
     "metadata": {},
     "output_type": "execute_result"
    }
   ],
   "source": [
    "df.head()"
   ]
  },
  {
   "cell_type": "code",
   "execution_count": 6,
   "metadata": {},
   "outputs": [
    {
     "data": {
      "text/html": [
       "<div>\n",
       "<style scoped>\n",
       "    .dataframe tbody tr th:only-of-type {\n",
       "        vertical-align: middle;\n",
       "    }\n",
       "\n",
       "    .dataframe tbody tr th {\n",
       "        vertical-align: top;\n",
       "    }\n",
       "\n",
       "    .dataframe thead th {\n",
       "        text-align: right;\n",
       "    }\n",
       "</style>\n",
       "<table border=\"1\" class=\"dataframe\">\n",
       "  <thead>\n",
       "    <tr style=\"text-align: right;\">\n",
       "      <th></th>\n",
       "      <th>OfferId</th>\n",
       "      <th>OverallStatus</th>\n",
       "      <th>Status</th>\n",
       "      <th>Hiretype</th>\n",
       "      <th>RecruiterGPN</th>\n",
       "      <th>Title</th>\n",
       "      <th>DateOfBirth</th>\n",
       "      <th>Original State</th>\n",
       "      <th>PinCode</th>\n",
       "      <th>Source</th>\n",
       "      <th>...</th>\n",
       "      <th>Big four</th>\n",
       "      <th>DAndI</th>\n",
       "      <th>hike%</th>\n",
       "      <th>JoiningBonus</th>\n",
       "      <th>GoodsTransportationTravelEligibility</th>\n",
       "      <th>Stipend</th>\n",
       "      <th>Experienced</th>\n",
       "      <th>IsNoticePeriodReimbursementProvided</th>\n",
       "      <th>ExpectedJoiningDate</th>\n",
       "      <th>ActualJoiningDate</th>\n",
       "    </tr>\n",
       "  </thead>\n",
       "  <tbody>\n",
       "    <tr>\n",
       "      <th>0</th>\n",
       "      <td>20658</td>\n",
       "      <td>Joined</td>\n",
       "      <td>OfferAccepted</td>\n",
       "      <td>New Employee</td>\n",
       "      <td>XE020M42382</td>\n",
       "      <td>Mr</td>\n",
       "      <td>15-11-1985</td>\n",
       "      <td>Karnataka</td>\n",
       "      <td>560016</td>\n",
       "      <td>EMPLOYEE REFERRAL</td>\n",
       "      <td>...</td>\n",
       "      <td>1</td>\n",
       "      <td>0</td>\n",
       "      <td>33%</td>\n",
       "      <td>0</td>\n",
       "      <td>0</td>\n",
       "      <td>0</td>\n",
       "      <td>1</td>\n",
       "      <td>0</td>\n",
       "      <td>02-07-2018</td>\n",
       "      <td>02-07-2018</td>\n",
       "    </tr>\n",
       "    <tr>\n",
       "      <th>1</th>\n",
       "      <td>21331</td>\n",
       "      <td>Joined</td>\n",
       "      <td>OfferAccepted</td>\n",
       "      <td>New Employee</td>\n",
       "      <td>XE020M42382</td>\n",
       "      <td>Mr</td>\n",
       "      <td>01-02-1981</td>\n",
       "      <td>Karnataka</td>\n",
       "      <td>560037</td>\n",
       "      <td>PORTAL</td>\n",
       "      <td>...</td>\n",
       "      <td>0</td>\n",
       "      <td>0</td>\n",
       "      <td>31%</td>\n",
       "      <td>0</td>\n",
       "      <td>0</td>\n",
       "      <td>0</td>\n",
       "      <td>1</td>\n",
       "      <td>0</td>\n",
       "      <td>30-07-2018</td>\n",
       "      <td>30-07-2018</td>\n",
       "    </tr>\n",
       "    <tr>\n",
       "      <th>2</th>\n",
       "      <td>21383</td>\n",
       "      <td>Joined</td>\n",
       "      <td>OfferAccepted</td>\n",
       "      <td>New Employee</td>\n",
       "      <td>XE020M39949</td>\n",
       "      <td>Mr</td>\n",
       "      <td>16-03-1990</td>\n",
       "      <td>Karnataka</td>\n",
       "      <td>560007</td>\n",
       "      <td>EMPLOYEE REFERRAL</td>\n",
       "      <td>...</td>\n",
       "      <td>0</td>\n",
       "      <td>0</td>\n",
       "      <td>36%</td>\n",
       "      <td>0</td>\n",
       "      <td>0</td>\n",
       "      <td>0</td>\n",
       "      <td>1</td>\n",
       "      <td>0</td>\n",
       "      <td>16-07-2018</td>\n",
       "      <td>16-07-2018</td>\n",
       "    </tr>\n",
       "    <tr>\n",
       "      <th>3</th>\n",
       "      <td>21389</td>\n",
       "      <td>Joined</td>\n",
       "      <td>OfferAccepted</td>\n",
       "      <td>New Employee</td>\n",
       "      <td>XE020M42382</td>\n",
       "      <td>Ms</td>\n",
       "      <td>09-07-1988</td>\n",
       "      <td>New Delhi</td>\n",
       "      <td>110018</td>\n",
       "      <td>CONSULTANCY</td>\n",
       "      <td>...</td>\n",
       "      <td>1</td>\n",
       "      <td>0</td>\n",
       "      <td>36%</td>\n",
       "      <td>0</td>\n",
       "      <td>0</td>\n",
       "      <td>0</td>\n",
       "      <td>1</td>\n",
       "      <td>1</td>\n",
       "      <td>16-07-2018</td>\n",
       "      <td>16-07-2018</td>\n",
       "    </tr>\n",
       "    <tr>\n",
       "      <th>4</th>\n",
       "      <td>21597</td>\n",
       "      <td>Joined</td>\n",
       "      <td>OfferAccepted</td>\n",
       "      <td>New Employee</td>\n",
       "      <td>XE021301732</td>\n",
       "      <td>Mr</td>\n",
       "      <td>12-05-1987</td>\n",
       "      <td>Karnataka</td>\n",
       "      <td>560075</td>\n",
       "      <td>EMPLOYEE REFERRAL</td>\n",
       "      <td>...</td>\n",
       "      <td>0</td>\n",
       "      <td>0</td>\n",
       "      <td>23%</td>\n",
       "      <td>0</td>\n",
       "      <td>0</td>\n",
       "      <td>0</td>\n",
       "      <td>1</td>\n",
       "      <td>0</td>\n",
       "      <td>30-07-2018</td>\n",
       "      <td>30-07-2018</td>\n",
       "    </tr>\n",
       "  </tbody>\n",
       "</table>\n",
       "<p>5 rows × 28 columns</p>\n",
       "</div>"
      ],
      "text/plain": [
       "   OfferId OverallStatus         Status      Hiretype RecruiterGPN Title  \\\n",
       "0    20658        Joined  OfferAccepted  New Employee  XE020M42382    Mr   \n",
       "1    21331        Joined  OfferAccepted  New Employee  XE020M42382    Mr   \n",
       "2    21383        Joined  OfferAccepted  New Employee  XE020M39949    Mr   \n",
       "3    21389        Joined  OfferAccepted  New Employee  XE020M42382    Ms   \n",
       "4    21597        Joined  OfferAccepted  New Employee  XE021301732    Mr   \n",
       "\n",
       "  DateOfBirth Original State  PinCode             Source        ...          \\\n",
       "0  15-11-1985      Karnataka   560016  EMPLOYEE REFERRAL        ...           \n",
       "1  01-02-1981      Karnataka   560037             PORTAL        ...           \n",
       "2  16-03-1990      Karnataka   560007  EMPLOYEE REFERRAL        ...           \n",
       "3  09-07-1988      New Delhi   110018        CONSULTANCY        ...           \n",
       "4  12-05-1987      Karnataka   560075  EMPLOYEE REFERRAL        ...           \n",
       "\n",
       "  Big four  DAndI hike% JoiningBonus  GoodsTransportationTravelEligibility  \\\n",
       "0        1      0   33%            0                                     0   \n",
       "1        0      0   31%            0                                     0   \n",
       "2        0      0   36%            0                                     0   \n",
       "3        1      0   36%            0                                     0   \n",
       "4        0      0   23%            0                                     0   \n",
       "\n",
       "   Stipend  Experienced IsNoticePeriodReimbursementProvided  \\\n",
       "0        0            1                                   0   \n",
       "1        0            1                                   0   \n",
       "2        0            1                                   0   \n",
       "3        0            1                                   1   \n",
       "4        0            1                                   0   \n",
       "\n",
       "   ExpectedJoiningDate  ActualJoiningDate  \n",
       "0           02-07-2018         02-07-2018  \n",
       "1           30-07-2018         30-07-2018  \n",
       "2           16-07-2018         16-07-2018  \n",
       "3           16-07-2018         16-07-2018  \n",
       "4           30-07-2018         30-07-2018  \n",
       "\n",
       "[5 rows x 28 columns]"
      ]
     },
     "execution_count": 6,
     "metadata": {},
     "output_type": "execute_result"
    }
   ],
   "source": [
    "df.head()"
   ]
  },
  {
   "cell_type": "code",
   "execution_count": 7,
   "metadata": {},
   "outputs": [
    {
     "data": {
      "text/plain": [
       "(5310, 28)"
      ]
     },
     "execution_count": 7,
     "metadata": {},
     "output_type": "execute_result"
    }
   ],
   "source": [
    "df.shape"
   ]
  },
  {
   "cell_type": "code",
   "execution_count": 10,
   "metadata": {},
   "outputs": [
    {
     "data": {
      "text/plain": [
       "(5310, 28)"
      ]
     },
     "execution_count": 10,
     "metadata": {},
     "output_type": "execute_result"
    }
   ],
   "source": [
    "df.shape"
   ]
  },
  {
   "cell_type": "code",
   "execution_count": 11,
   "metadata": {},
   "outputs": [
    {
     "data": {
      "text/plain": [
       "Index(['OfferId', 'OverallStatus', 'Status', 'Hiretype', 'RecruiterGPN',\n",
       "       'Title', 'DateOfBirth', 'Original State', 'PinCode', 'Source',\n",
       "       'Department', 'IT', 'Joining Center', 'Facility', 'Rank',\n",
       "       'IsRotationalShift', 'NoticePeriod', 'Qualification1', 'Big four',\n",
       "       'DAndI', 'hike%', 'JoiningBonus',\n",
       "       'GoodsTransportationTravelEligibility', 'Stipend', 'Experienced',\n",
       "       'IsNoticePeriodReimbursementProvided', 'ExpectedJoiningDate',\n",
       "       'ActualJoiningDate'],\n",
       "      dtype='object')"
      ]
     },
     "execution_count": 11,
     "metadata": {},
     "output_type": "execute_result"
    }
   ],
   "source": [
    "df.columns"
   ]
  },
  {
   "cell_type": "code",
   "execution_count": 12,
   "metadata": {},
   "outputs": [
    {
     "data": {
      "text/plain": [
       "OfferId                                  int64\n",
       "OverallStatus                           object\n",
       "Status                                  object\n",
       "Hiretype                                object\n",
       "RecruiterGPN                            object\n",
       "Title                                   object\n",
       "DateOfBirth                             object\n",
       "Original State                          object\n",
       "PinCode                                  int64\n",
       "Source                                  object\n",
       "Department                              object\n",
       "IT                                       int64\n",
       "Joining Center                          object\n",
       "Facility                                object\n",
       "Rank                                     int64\n",
       "IsRotationalShift                         bool\n",
       "NoticePeriod                             int64\n",
       "Qualification1                          object\n",
       "Big four                                 int64\n",
       "DAndI                                    int64\n",
       "hike%                                   object\n",
       "JoiningBonus                             int64\n",
       "GoodsTransportationTravelEligibility     int64\n",
       "Stipend                                  int64\n",
       "Experienced                              int64\n",
       "IsNoticePeriodReimbursementProvided     object\n",
       "ExpectedJoiningDate                     object\n",
       "ActualJoiningDate                       object\n",
       "dtype: object"
      ]
     },
     "execution_count": 12,
     "metadata": {},
     "output_type": "execute_result"
    }
   ],
   "source": [
    "df.dtypes"
   ]
  },
  {
   "cell_type": "code",
   "execution_count": 13,
   "metadata": {},
   "outputs": [
    {
     "name": "stdout",
     "output_type": "stream",
     "text": [
      "<class 'pandas.core.frame.DataFrame'>\n",
      "RangeIndex: 5310 entries, 0 to 5309\n",
      "Data columns (total 28 columns):\n",
      "OfferId                                 5310 non-null int64\n",
      "OverallStatus                           5310 non-null object\n",
      "Status                                  5310 non-null object\n",
      "Hiretype                                5310 non-null object\n",
      "RecruiterGPN                            5310 non-null object\n",
      "Title                                   5310 non-null object\n",
      "DateOfBirth                             5310 non-null object\n",
      "Original State                          5310 non-null object\n",
      "PinCode                                 5310 non-null int64\n",
      "Source                                  5310 non-null object\n",
      "Department                              5310 non-null object\n",
      "IT                                      5310 non-null int64\n",
      "Joining Center                          5310 non-null object\n",
      "Facility                                5310 non-null object\n",
      "Rank                                    5310 non-null int64\n",
      "IsRotationalShift                       5310 non-null bool\n",
      "NoticePeriod                            5310 non-null int64\n",
      "Qualification1                          5310 non-null object\n",
      "Big four                                5310 non-null int64\n",
      "DAndI                                   5310 non-null int64\n",
      "hike%                                   5310 non-null object\n",
      "JoiningBonus                            5310 non-null int64\n",
      "GoodsTransportationTravelEligibility    5310 non-null int64\n",
      "Stipend                                 5310 non-null int64\n",
      "Experienced                             5310 non-null int64\n",
      "IsNoticePeriodReimbursementProvided     5310 non-null object\n",
      "ExpectedJoiningDate                     5310 non-null object\n",
      "ActualJoiningDate                       2667 non-null object\n",
      "dtypes: bool(1), int64(11), object(16)\n",
      "memory usage: 1.1+ MB\n"
     ]
    }
   ],
   "source": [
    "df.info()"
   ]
  },
  {
   "cell_type": "code",
   "execution_count": 212,
   "metadata": {},
   "outputs": [
    {
     "data": {
      "text/html": [
       "<div>\n",
       "<style scoped>\n",
       "    .dataframe tbody tr th:only-of-type {\n",
       "        vertical-align: middle;\n",
       "    }\n",
       "\n",
       "    .dataframe tbody tr th {\n",
       "        vertical-align: top;\n",
       "    }\n",
       "\n",
       "    .dataframe thead th {\n",
       "        text-align: right;\n",
       "    }\n",
       "</style>\n",
       "<table border=\"1\" class=\"dataframe\">\n",
       "  <thead>\n",
       "    <tr style=\"text-align: right;\">\n",
       "      <th></th>\n",
       "      <th>OfferId</th>\n",
       "      <th>PinCode</th>\n",
       "      <th>IT</th>\n",
       "      <th>Rank</th>\n",
       "      <th>NoticePeriod</th>\n",
       "      <th>Big four</th>\n",
       "      <th>DAndI</th>\n",
       "      <th>JoiningBonus</th>\n",
       "      <th>GoodsTransportationTravelEligibility</th>\n",
       "      <th>Stipend</th>\n",
       "      <th>Experienced</th>\n",
       "    </tr>\n",
       "  </thead>\n",
       "  <tbody>\n",
       "    <tr>\n",
       "      <td>count</td>\n",
       "      <td>5310.000000</td>\n",
       "      <td>5.310000e+03</td>\n",
       "      <td>5310.000000</td>\n",
       "      <td>5310.000000</td>\n",
       "      <td>5310.000000</td>\n",
       "      <td>5310.000000</td>\n",
       "      <td>5310.000000</td>\n",
       "      <td>5310.000000</td>\n",
       "      <td>5310.000000</td>\n",
       "      <td>5310.000000</td>\n",
       "      <td>5310.000000</td>\n",
       "    </tr>\n",
       "    <tr>\n",
       "      <td>mean</td>\n",
       "      <td>33401.881921</td>\n",
       "      <td>5.791100e+05</td>\n",
       "      <td>0.133898</td>\n",
       "      <td>40.749153</td>\n",
       "      <td>1.956121</td>\n",
       "      <td>0.299435</td>\n",
       "      <td>0.005273</td>\n",
       "      <td>0.011676</td>\n",
       "      <td>0.231262</td>\n",
       "      <td>0.048023</td>\n",
       "      <td>0.944821</td>\n",
       "    </tr>\n",
       "    <tr>\n",
       "      <td>std</td>\n",
       "      <td>5275.968892</td>\n",
       "      <td>1.104062e+06</td>\n",
       "      <td>0.340575</td>\n",
       "      <td>8.691007</td>\n",
       "      <td>0.204846</td>\n",
       "      <td>0.458054</td>\n",
       "      <td>0.072431</td>\n",
       "      <td>0.107433</td>\n",
       "      <td>0.421679</td>\n",
       "      <td>0.213834</td>\n",
       "      <td>0.228351</td>\n",
       "    </tr>\n",
       "    <tr>\n",
       "      <td>min</td>\n",
       "      <td>20658.000000</td>\n",
       "      <td>3.000000e+00</td>\n",
       "      <td>0.000000</td>\n",
       "      <td>4.000000</td>\n",
       "      <td>1.000000</td>\n",
       "      <td>0.000000</td>\n",
       "      <td>0.000000</td>\n",
       "      <td>0.000000</td>\n",
       "      <td>0.000000</td>\n",
       "      <td>0.000000</td>\n",
       "      <td>0.000000</td>\n",
       "    </tr>\n",
       "    <tr>\n",
       "      <td>25%</td>\n",
       "      <td>28548.000000</td>\n",
       "      <td>5.600160e+05</td>\n",
       "      <td>0.000000</td>\n",
       "      <td>42.000000</td>\n",
       "      <td>2.000000</td>\n",
       "      <td>0.000000</td>\n",
       "      <td>0.000000</td>\n",
       "      <td>0.000000</td>\n",
       "      <td>0.000000</td>\n",
       "      <td>0.000000</td>\n",
       "      <td>1.000000</td>\n",
       "    </tr>\n",
       "    <tr>\n",
       "      <td>50%</td>\n",
       "      <td>33135.000000</td>\n",
       "      <td>5.600660e+05</td>\n",
       "      <td>0.000000</td>\n",
       "      <td>44.000000</td>\n",
       "      <td>2.000000</td>\n",
       "      <td>0.000000</td>\n",
       "      <td>0.000000</td>\n",
       "      <td>0.000000</td>\n",
       "      <td>0.000000</td>\n",
       "      <td>0.000000</td>\n",
       "      <td>1.000000</td>\n",
       "    </tr>\n",
       "    <tr>\n",
       "      <td>75%</td>\n",
       "      <td>37932.000000</td>\n",
       "      <td>6.000330e+05</td>\n",
       "      <td>0.000000</td>\n",
       "      <td>44.000000</td>\n",
       "      <td>2.000000</td>\n",
       "      <td>1.000000</td>\n",
       "      <td>0.000000</td>\n",
       "      <td>0.000000</td>\n",
       "      <td>0.000000</td>\n",
       "      <td>0.000000</td>\n",
       "      <td>1.000000</td>\n",
       "    </tr>\n",
       "    <tr>\n",
       "      <td>max</td>\n",
       "      <td>44164.000000</td>\n",
       "      <td>4.521628e+07</td>\n",
       "      <td>1.000000</td>\n",
       "      <td>44.000000</td>\n",
       "      <td>2.000000</td>\n",
       "      <td>1.000000</td>\n",
       "      <td>1.000000</td>\n",
       "      <td>1.000000</td>\n",
       "      <td>1.000000</td>\n",
       "      <td>1.000000</td>\n",
       "      <td>1.000000</td>\n",
       "    </tr>\n",
       "  </tbody>\n",
       "</table>\n",
       "</div>"
      ],
      "text/plain": [
       "            OfferId       PinCode           IT         Rank  NoticePeriod  \\\n",
       "count   5310.000000  5.310000e+03  5310.000000  5310.000000   5310.000000   \n",
       "mean   33401.881921  5.791100e+05     0.133898    40.749153      1.956121   \n",
       "std     5275.968892  1.104062e+06     0.340575     8.691007      0.204846   \n",
       "min    20658.000000  3.000000e+00     0.000000     4.000000      1.000000   \n",
       "25%    28548.000000  5.600160e+05     0.000000    42.000000      2.000000   \n",
       "50%    33135.000000  5.600660e+05     0.000000    44.000000      2.000000   \n",
       "75%    37932.000000  6.000330e+05     0.000000    44.000000      2.000000   \n",
       "max    44164.000000  4.521628e+07     1.000000    44.000000      2.000000   \n",
       "\n",
       "          Big four        DAndI  JoiningBonus  \\\n",
       "count  5310.000000  5310.000000   5310.000000   \n",
       "mean      0.299435     0.005273      0.011676   \n",
       "std       0.458054     0.072431      0.107433   \n",
       "min       0.000000     0.000000      0.000000   \n",
       "25%       0.000000     0.000000      0.000000   \n",
       "50%       0.000000     0.000000      0.000000   \n",
       "75%       1.000000     0.000000      0.000000   \n",
       "max       1.000000     1.000000      1.000000   \n",
       "\n",
       "       GoodsTransportationTravelEligibility      Stipend  Experienced  \n",
       "count                           5310.000000  5310.000000  5310.000000  \n",
       "mean                               0.231262     0.048023     0.944821  \n",
       "std                                0.421679     0.213834     0.228351  \n",
       "min                                0.000000     0.000000     0.000000  \n",
       "25%                                0.000000     0.000000     1.000000  \n",
       "50%                                0.000000     0.000000     1.000000  \n",
       "75%                                0.000000     0.000000     1.000000  \n",
       "max                                1.000000     1.000000     1.000000  "
      ]
     },
     "execution_count": 212,
     "metadata": {},
     "output_type": "execute_result"
    }
   ],
   "source": [
    "df.describe()"
   ]
  },
  {
   "cell_type": "code",
   "execution_count": 213,
   "metadata": {},
   "outputs": [
    {
     "data": {
      "text/plain": [
       "OfferId                                    0\n",
       "OverallStatus                              0\n",
       "Status                                     0\n",
       "Hiretype                                   0\n",
       "RecruiterGPN                               0\n",
       "Title                                      0\n",
       "DateOfBirth                                0\n",
       "Original State                             0\n",
       "PinCode                                    0\n",
       "Source                                     0\n",
       "Department                                 0\n",
       "IT                                         0\n",
       "Joining Center                             0\n",
       "Facility                                   0\n",
       "Rank                                       0\n",
       "IsRotationalShift                          0\n",
       "NoticePeriod                               0\n",
       "Qualification1                             0\n",
       "Big four                                   0\n",
       "DAndI                                      0\n",
       "hike%                                      0\n",
       "JoiningBonus                               0\n",
       "GoodsTransportationTravelEligibility       0\n",
       "Stipend                                    0\n",
       "Experienced                                0\n",
       "IsNoticePeriodReimbursementProvided        0\n",
       "ExpectedJoiningDate                        0\n",
       "ActualJoiningDate                       2643\n",
       "dtype: int64"
      ]
     },
     "execution_count": 213,
     "metadata": {},
     "output_type": "execute_result"
    }
   ],
   "source": [
    "df.isnull().sum()"
   ]
  },
  {
   "cell_type": "code",
   "execution_count": 214,
   "metadata": {},
   "outputs": [
    {
     "data": {
      "text/plain": [
       "OfferId                                  int64\n",
       "OverallStatus                           object\n",
       "Status                                  object\n",
       "Hiretype                                object\n",
       "RecruiterGPN                            object\n",
       "Title                                   object\n",
       "DateOfBirth                             object\n",
       "Original State                          object\n",
       "PinCode                                  int64\n",
       "Source                                  object\n",
       "Department                              object\n",
       "IT                                       int64\n",
       "Joining Center                          object\n",
       "Facility                                object\n",
       "Rank                                     int64\n",
       "IsRotationalShift                         bool\n",
       "NoticePeriod                             int64\n",
       "Qualification1                          object\n",
       "Big four                                 int64\n",
       "DAndI                                    int64\n",
       "hike%                                   object\n",
       "JoiningBonus                             int64\n",
       "GoodsTransportationTravelEligibility     int64\n",
       "Stipend                                  int64\n",
       "Experienced                              int64\n",
       "IsNoticePeriodReimbursementProvided     object\n",
       "ExpectedJoiningDate                     object\n",
       "ActualJoiningDate                       object\n",
       "dtype: object"
      ]
     },
     "execution_count": 214,
     "metadata": {},
     "output_type": "execute_result"
    }
   ],
   "source": [
    "df.dtypes"
   ]
  },
  {
   "cell_type": "code",
   "execution_count": 14,
   "metadata": {},
   "outputs": [
    {
     "data": {
      "text/plain": [
       "Joined           2665\n",
       "OfferDeclined    2645\n",
       "Name: OverallStatus, dtype: int64"
      ]
     },
     "execution_count": 14,
     "metadata": {},
     "output_type": "execute_result"
    }
   ],
   "source": [
    "df.OverallStatus.value_counts()"
   ]
  },
  {
   "cell_type": "code",
   "execution_count": 15,
   "metadata": {},
   "outputs": [],
   "source": [
    "df = df.rename(columns = {'Original State':'Original_State'})"
   ]
  },
  {
   "cell_type": "code",
   "execution_count": 16,
   "metadata": {},
   "outputs": [],
   "source": [
    "df = df.rename(columns = {'Joining Center':'Joining_Center'})"
   ]
  },
  {
   "cell_type": "code",
   "execution_count": 17,
   "metadata": {},
   "outputs": [],
   "source": [
    "df = df.rename(columns = {'hike%':'Hike'})"
   ]
  },
  {
   "cell_type": "code",
   "execution_count": 18,
   "metadata": {},
   "outputs": [],
   "source": [
    "df = df.rename(columns = {'Big four': 'Big_four'})"
   ]
  },
  {
   "cell_type": "code",
   "execution_count": 19,
   "metadata": {},
   "outputs": [
    {
     "data": {
      "text/plain": [
       "Index(['OfferId', 'OverallStatus', 'Status', 'Hiretype', 'RecruiterGPN',\n",
       "       'Title', 'DateOfBirth', 'Original_State', 'PinCode', 'Source',\n",
       "       'Department', 'IT', 'Joining_Center', 'Facility', 'Rank',\n",
       "       'IsRotationalShift', 'NoticePeriod', 'Qualification1', 'Big_four',\n",
       "       'DAndI', 'Hike', 'JoiningBonus', 'GoodsTransportationTravelEligibility',\n",
       "       'Stipend', 'Experienced', 'IsNoticePeriodReimbursementProvided',\n",
       "       'ExpectedJoiningDate', 'ActualJoiningDate'],\n",
       "      dtype='object')"
      ]
     },
     "execution_count": 19,
     "metadata": {},
     "output_type": "execute_result"
    }
   ],
   "source": [
    "df.columns"
   ]
  },
  {
   "cell_type": "code",
   "execution_count": 20,
   "metadata": {},
   "outputs": [],
   "source": [
    "df['Hike'] = df.Hike.str.replace('%', '')\n",
    "df['Hike'] = df['Hike'].astype(str).astype(int)"
   ]
  },
  {
   "cell_type": "code",
   "execution_count": 21,
   "metadata": {},
   "outputs": [
    {
     "data": {
      "text/plain": [
       "dtype('int32')"
      ]
     },
     "execution_count": 21,
     "metadata": {},
     "output_type": "execute_result"
    }
   ],
   "source": [
    "df['Hike'].dtype"
   ]
  },
  {
   "cell_type": "code",
   "execution_count": 22,
   "metadata": {},
   "outputs": [
    {
     "data": {
      "text/html": [
       "<div>\n",
       "<style scoped>\n",
       "    .dataframe tbody tr th:only-of-type {\n",
       "        vertical-align: middle;\n",
       "    }\n",
       "\n",
       "    .dataframe tbody tr th {\n",
       "        vertical-align: top;\n",
       "    }\n",
       "\n",
       "    .dataframe thead th {\n",
       "        text-align: right;\n",
       "    }\n",
       "</style>\n",
       "<table border=\"1\" class=\"dataframe\">\n",
       "  <thead>\n",
       "    <tr style=\"text-align: right;\">\n",
       "      <th></th>\n",
       "      <th>OfferId</th>\n",
       "      <th>OverallStatus</th>\n",
       "      <th>Status</th>\n",
       "      <th>Hiretype</th>\n",
       "      <th>RecruiterGPN</th>\n",
       "      <th>Title</th>\n",
       "      <th>DateOfBirth</th>\n",
       "      <th>Original_State</th>\n",
       "      <th>PinCode</th>\n",
       "      <th>Source</th>\n",
       "      <th>...</th>\n",
       "      <th>Big_four</th>\n",
       "      <th>DAndI</th>\n",
       "      <th>Hike</th>\n",
       "      <th>JoiningBonus</th>\n",
       "      <th>GoodsTransportationTravelEligibility</th>\n",
       "      <th>Stipend</th>\n",
       "      <th>Experienced</th>\n",
       "      <th>IsNoticePeriodReimbursementProvided</th>\n",
       "      <th>ExpectedJoiningDate</th>\n",
       "      <th>ActualJoiningDate</th>\n",
       "    </tr>\n",
       "  </thead>\n",
       "  <tbody>\n",
       "    <tr>\n",
       "      <th>0</th>\n",
       "      <td>20658</td>\n",
       "      <td>Joined</td>\n",
       "      <td>OfferAccepted</td>\n",
       "      <td>New Employee</td>\n",
       "      <td>XE020M42382</td>\n",
       "      <td>Mr</td>\n",
       "      <td>15-11-1985</td>\n",
       "      <td>Karnataka</td>\n",
       "      <td>560016</td>\n",
       "      <td>EMPLOYEE REFERRAL</td>\n",
       "      <td>...</td>\n",
       "      <td>1</td>\n",
       "      <td>0</td>\n",
       "      <td>33</td>\n",
       "      <td>0</td>\n",
       "      <td>0</td>\n",
       "      <td>0</td>\n",
       "      <td>1</td>\n",
       "      <td>0</td>\n",
       "      <td>02-07-2018</td>\n",
       "      <td>02-07-2018</td>\n",
       "    </tr>\n",
       "    <tr>\n",
       "      <th>1</th>\n",
       "      <td>21331</td>\n",
       "      <td>Joined</td>\n",
       "      <td>OfferAccepted</td>\n",
       "      <td>New Employee</td>\n",
       "      <td>XE020M42382</td>\n",
       "      <td>Mr</td>\n",
       "      <td>01-02-1981</td>\n",
       "      <td>Karnataka</td>\n",
       "      <td>560037</td>\n",
       "      <td>PORTAL</td>\n",
       "      <td>...</td>\n",
       "      <td>0</td>\n",
       "      <td>0</td>\n",
       "      <td>31</td>\n",
       "      <td>0</td>\n",
       "      <td>0</td>\n",
       "      <td>0</td>\n",
       "      <td>1</td>\n",
       "      <td>0</td>\n",
       "      <td>30-07-2018</td>\n",
       "      <td>30-07-2018</td>\n",
       "    </tr>\n",
       "    <tr>\n",
       "      <th>2</th>\n",
       "      <td>21383</td>\n",
       "      <td>Joined</td>\n",
       "      <td>OfferAccepted</td>\n",
       "      <td>New Employee</td>\n",
       "      <td>XE020M39949</td>\n",
       "      <td>Mr</td>\n",
       "      <td>16-03-1990</td>\n",
       "      <td>Karnataka</td>\n",
       "      <td>560007</td>\n",
       "      <td>EMPLOYEE REFERRAL</td>\n",
       "      <td>...</td>\n",
       "      <td>0</td>\n",
       "      <td>0</td>\n",
       "      <td>36</td>\n",
       "      <td>0</td>\n",
       "      <td>0</td>\n",
       "      <td>0</td>\n",
       "      <td>1</td>\n",
       "      <td>0</td>\n",
       "      <td>16-07-2018</td>\n",
       "      <td>16-07-2018</td>\n",
       "    </tr>\n",
       "  </tbody>\n",
       "</table>\n",
       "<p>3 rows × 28 columns</p>\n",
       "</div>"
      ],
      "text/plain": [
       "   OfferId OverallStatus         Status      Hiretype RecruiterGPN Title  \\\n",
       "0    20658        Joined  OfferAccepted  New Employee  XE020M42382    Mr   \n",
       "1    21331        Joined  OfferAccepted  New Employee  XE020M42382    Mr   \n",
       "2    21383        Joined  OfferAccepted  New Employee  XE020M39949    Mr   \n",
       "\n",
       "  DateOfBirth Original_State  PinCode             Source        ...          \\\n",
       "0  15-11-1985      Karnataka   560016  EMPLOYEE REFERRAL        ...           \n",
       "1  01-02-1981      Karnataka   560037             PORTAL        ...           \n",
       "2  16-03-1990      Karnataka   560007  EMPLOYEE REFERRAL        ...           \n",
       "\n",
       "  Big_four  DAndI Hike JoiningBonus  GoodsTransportationTravelEligibility  \\\n",
       "0        1      0   33            0                                     0   \n",
       "1        0      0   31            0                                     0   \n",
       "2        0      0   36            0                                     0   \n",
       "\n",
       "   Stipend  Experienced IsNoticePeriodReimbursementProvided  \\\n",
       "0        0            1                                   0   \n",
       "1        0            1                                   0   \n",
       "2        0            1                                   0   \n",
       "\n",
       "   ExpectedJoiningDate  ActualJoiningDate  \n",
       "0           02-07-2018         02-07-2018  \n",
       "1           30-07-2018         30-07-2018  \n",
       "2           16-07-2018         16-07-2018  \n",
       "\n",
       "[3 rows x 28 columns]"
      ]
     },
     "execution_count": 22,
     "metadata": {},
     "output_type": "execute_result"
    }
   ],
   "source": [
    "df.head(3)"
   ]
  },
  {
   "cell_type": "code",
   "execution_count": 23,
   "metadata": {},
   "outputs": [],
   "source": [
    "df['DOB_year'] = pd.DatetimeIndex(df['DateOfBirth']).year"
   ]
  },
  {
   "cell_type": "code",
   "execution_count": 24,
   "metadata": {},
   "outputs": [],
   "source": [
    "df['Age'] = 2019 - df['DOB_year']"
   ]
  },
  {
   "cell_type": "code",
   "execution_count": 25,
   "metadata": {},
   "outputs": [],
   "source": [
    "df_1 = df[['OverallStatus', 'Hiretype', 'RecruiterGPN',\n",
    "       'Title', 'Age', 'Original_State', 'PinCode', 'Source',\n",
    "       'Department', 'IT', 'Joining_Center', 'Facility', 'Rank',\n",
    "       'IsRotationalShift', 'NoticePeriod', 'Qualification1','Hike', 'Big_four','JoiningBonus',\n",
    "       'GoodsTransportationTravelEligibility', 'Stipend', 'Experienced',\n",
    "       'IsNoticePeriodReimbursementProvided', 'ExpectedJoiningDate']]"
   ]
  },
  {
   "cell_type": "code",
   "execution_count": 26,
   "metadata": {},
   "outputs": [
    {
     "name": "stderr",
     "output_type": "stream",
     "text": [
      "C:\\Users\\madhan.s\\AppData\\Local\\Continuum\\anaconda3\\lib\\site-packages\\ipykernel_launcher.py:1: SettingWithCopyWarning: \n",
      "A value is trying to be set on a copy of a slice from a DataFrame.\n",
      "Try using .loc[row_indexer,col_indexer] = value instead\n",
      "\n",
      "See the caveats in the documentation: http://pandas.pydata.org/pandas-docs/stable/indexing.html#indexing-view-versus-copy\n",
      "  \"\"\"Entry point for launching an IPython kernel.\n"
     ]
    }
   ],
   "source": [
    "df_1['Expected_Month'] = pd.DatetimeIndex(df['ExpectedJoiningDate']).month"
   ]
  },
  {
   "cell_type": "code",
   "execution_count": 27,
   "metadata": {},
   "outputs": [
    {
     "data": {
      "text/plain": [
       "0        4988\n",
       "FALSE     247\n",
       "1          71\n",
       "TRUE        4\n",
       "Name: IsNoticePeriodReimbursementProvided, dtype: int64"
      ]
     },
     "execution_count": 27,
     "metadata": {},
     "output_type": "execute_result"
    }
   ],
   "source": [
    "df_1.IsNoticePeriodReimbursementProvided.value_counts()"
   ]
  },
  {
   "cell_type": "code",
   "execution_count": 28,
   "metadata": {},
   "outputs": [
    {
     "name": "stderr",
     "output_type": "stream",
     "text": [
      "C:\\Users\\madhan.s\\AppData\\Local\\Continuum\\anaconda3\\lib\\site-packages\\ipykernel_launcher.py:1: SettingWithCopyWarning: \n",
      "A value is trying to be set on a copy of a slice from a DataFrame.\n",
      "Try using .loc[row_indexer,col_indexer] = value instead\n",
      "\n",
      "See the caveats in the documentation: http://pandas.pydata.org/pandas-docs/stable/indexing.html#indexing-view-versus-copy\n",
      "  \"\"\"Entry point for launching an IPython kernel.\n"
     ]
    }
   ],
   "source": [
    "df_1['IsNoticePeriodReimbursementProvided'] = df_1['IsNoticePeriodReimbursementProvided'].replace('nan', np.nan).fillna(0)"
   ]
  },
  {
   "cell_type": "code",
   "execution_count": 29,
   "metadata": {},
   "outputs": [
    {
     "name": "stderr",
     "output_type": "stream",
     "text": [
      "C:\\Users\\madhan.s\\AppData\\Local\\Continuum\\anaconda3\\lib\\site-packages\\ipykernel_launcher.py:1: SettingWithCopyWarning: \n",
      "A value is trying to be set on a copy of a slice from a DataFrame.\n",
      "Try using .loc[row_indexer,col_indexer] = value instead\n",
      "\n",
      "See the caveats in the documentation: http://pandas.pydata.org/pandas-docs/stable/indexing.html#indexing-view-versus-copy\n",
      "  \"\"\"Entry point for launching an IPython kernel.\n",
      "C:\\Users\\madhan.s\\AppData\\Local\\Continuum\\anaconda3\\lib\\site-packages\\ipykernel_launcher.py:2: SettingWithCopyWarning: \n",
      "A value is trying to be set on a copy of a slice from a DataFrame.\n",
      "Try using .loc[row_indexer,col_indexer] = value instead\n",
      "\n",
      "See the caveats in the documentation: http://pandas.pydata.org/pandas-docs/stable/indexing.html#indexing-view-versus-copy\n",
      "  \n"
     ]
    }
   ],
   "source": [
    "df_1['IsNoticePeriodReimbursementProvided'] = df_1['IsNoticePeriodReimbursementProvided'].str.replace('TRUE','1')\n",
    "df_1['IsNoticePeriodReimbursementProvided'] = df_1['IsNoticePeriodReimbursementProvided'].str.replace('FALSE','0')"
   ]
  },
  {
   "cell_type": "code",
   "execution_count": 30,
   "metadata": {},
   "outputs": [
    {
     "data": {
      "text/plain": [
       "0    5235\n",
       "1      75\n",
       "Name: IsNoticePeriodReimbursementProvided, dtype: int64"
      ]
     },
     "execution_count": 30,
     "metadata": {},
     "output_type": "execute_result"
    }
   ],
   "source": [
    "df_1.IsNoticePeriodReimbursementProvided.value_counts()"
   ]
  },
  {
   "cell_type": "code",
   "execution_count": 31,
   "metadata": {},
   "outputs": [
    {
     "data": {
      "text/plain": [
       "1    5017\n",
       "0     293\n",
       "Name: Experienced, dtype: int64"
      ]
     },
     "execution_count": 31,
     "metadata": {},
     "output_type": "execute_result"
    }
   ],
   "source": [
    "df_1.Experienced.value_counts()"
   ]
  },
  {
   "cell_type": "code",
   "execution_count": 32,
   "metadata": {},
   "outputs": [
    {
     "data": {
      "text/plain": [
       "0    5055\n",
       "1     255\n",
       "Name: Stipend, dtype: int64"
      ]
     },
     "execution_count": 32,
     "metadata": {},
     "output_type": "execute_result"
    }
   ],
   "source": [
    "df_1.Stipend.value_counts()"
   ]
  },
  {
   "cell_type": "code",
   "execution_count": 33,
   "metadata": {},
   "outputs": [
    {
     "data": {
      "text/plain": [
       "0    4082\n",
       "1    1228\n",
       "Name: GoodsTransportationTravelEligibility, dtype: int64"
      ]
     },
     "execution_count": 33,
     "metadata": {},
     "output_type": "execute_result"
    }
   ],
   "source": [
    "df_1.GoodsTransportationTravelEligibility.value_counts()"
   ]
  },
  {
   "cell_type": "code",
   "execution_count": 34,
   "metadata": {},
   "outputs": [
    {
     "data": {
      "text/plain": [
       "0    5248\n",
       "1      62\n",
       "Name: JoiningBonus, dtype: int64"
      ]
     },
     "execution_count": 34,
     "metadata": {},
     "output_type": "execute_result"
    }
   ],
   "source": [
    "df_1.JoiningBonus.value_counts()"
   ]
  },
  {
   "cell_type": "code",
   "execution_count": 35,
   "metadata": {},
   "outputs": [
    {
     "data": {
      "text/plain": [
       " 100    1679\n",
       " 0       303\n",
       " 23      228\n",
       " 24      212\n",
       " 26      171\n",
       " 25      153\n",
       " 29      141\n",
       " 30      135\n",
       " 28      126\n",
       " 31      124\n",
       " 20      122\n",
       " 32      112\n",
       " 33      111\n",
       " 27      109\n",
       " 22      109\n",
       " 21      106\n",
       " 13       97\n",
       " 35       88\n",
       " 17       81\n",
       " 18       70\n",
       " 37       69\n",
       " 9        64\n",
       " 34       61\n",
       " 36       60\n",
       " 40       49\n",
       " 19       48\n",
       " 38       46\n",
       " 16       43\n",
       " 43       41\n",
       " 15       40\n",
       "        ... \n",
       " 45       15\n",
       " 47       14\n",
       " 49       14\n",
       " 52       13\n",
       " 3        11\n",
       " 50       10\n",
       " 54       10\n",
       " 59        8\n",
       " 1         8\n",
       " 57        7\n",
       " 2         7\n",
       " 64        6\n",
       " 51        5\n",
       " 83        4\n",
       " 58        4\n",
       " 56        3\n",
       " 70        3\n",
       " 68        2\n",
       " 53        2\n",
       "-14        2\n",
       " 4         2\n",
       " 60        1\n",
       " 72        1\n",
       "-15        1\n",
       " 79        1\n",
       " 69        1\n",
       " 74        1\n",
       "-5         1\n",
       " 67        1\n",
       " 61        1\n",
       "Name: Hike, Length: 74, dtype: int64"
      ]
     },
     "execution_count": 35,
     "metadata": {},
     "output_type": "execute_result"
    }
   ],
   "source": [
    "df_1.Hike.value_counts()"
   ]
  },
  {
   "cell_type": "code",
   "execution_count": 36,
   "metadata": {},
   "outputs": [
    {
     "data": {
      "text/plain": [
       "Post Grad    4272\n",
       "Grad          676\n",
       "MBA           340\n",
       "CA             22\n",
       "Name: Qualification1, dtype: int64"
      ]
     },
     "execution_count": 36,
     "metadata": {},
     "output_type": "execute_result"
    }
   ],
   "source": [
    "df_1.Qualification1.value_counts()"
   ]
  },
  {
   "cell_type": "code",
   "execution_count": 37,
   "metadata": {},
   "outputs": [
    {
     "data": {
      "text/plain": [
       "2    5077\n",
       "1     233\n",
       "Name: NoticePeriod, dtype: int64"
      ]
     },
     "execution_count": 37,
     "metadata": {},
     "output_type": "execute_result"
    }
   ],
   "source": [
    "df_1.NoticePeriod.value_counts()"
   ]
  },
  {
   "cell_type": "code",
   "execution_count": 38,
   "metadata": {},
   "outputs": [
    {
     "data": {
      "text/plain": [
       "False    5249\n",
       "True       61\n",
       "Name: IsRotationalShift, dtype: int64"
      ]
     },
     "execution_count": 38,
     "metadata": {},
     "output_type": "execute_result"
    }
   ],
   "source": [
    "df_1.IsRotationalShift.value_counts()"
   ]
  },
  {
   "cell_type": "code",
   "execution_count": 39,
   "metadata": {},
   "outputs": [
    {
     "data": {
      "text/plain": [
       "44    2805\n",
       "42    2005\n",
       "4      259\n",
       "32     241\n",
       "Name: Rank, dtype: int64"
      ]
     },
     "execution_count": 39,
     "metadata": {},
     "output_type": "execute_result"
    }
   ],
   "source": [
    "df_1.Rank.value_counts()"
   ]
  },
  {
   "cell_type": "code",
   "execution_count": 40,
   "metadata": {},
   "outputs": [
    {
     "data": {
      "text/plain": [
       "BLR CORAL/EYGDS/SEZ               4112\n",
       "GGN UCP/All Entities/Non-SEZ       420\n",
       "KOC Carnival/EYGDS/SEZ-SFT         257\n",
       "CHN DLF/EYLLP/EYGDS/SEZ            197\n",
       "CHN DLF/ EYGDS/SEZ-SFT             110\n",
       "KOC Carnival4/All Entities/SEZ      89\n",
       "KOC Carnival2/All Entities/SEZ      45\n",
       "BLR RMZ/All Entities/NON-SEZ        37\n",
       "BLR Garnet/EYLLP/EYGDS/SEZ          17\n",
       "TVM Thejaswini/All/NON-SEZ          11\n",
       "TVM Drishya/All Entities/SEZ         8\n",
       "BLR BMP/All Entities/NON-SEZ         5\n",
       "KOC Athulya/EYGBS/SEZ                1\n",
       "BLR BTP/All Entities/NON-SEZ         1\n",
       "Name: Facility, dtype: int64"
      ]
     },
     "execution_count": 40,
     "metadata": {},
     "output_type": "execute_result"
    }
   ],
   "source": [
    "df_1.Facility.value_counts()"
   ]
  },
  {
   "cell_type": "code",
   "execution_count": 41,
   "metadata": {},
   "outputs": [
    {
     "data": {
      "text/plain": [
       "0    4599\n",
       "1     711\n",
       "Name: IT, dtype: int64"
      ]
     },
     "execution_count": 41,
     "metadata": {},
     "output_type": "execute_result"
    }
   ],
   "source": [
    "df_1.IT.value_counts()"
   ]
  },
  {
   "cell_type": "code",
   "execution_count": 42,
   "metadata": {},
   "outputs": [
    {
     "data": {
      "text/plain": [
       "Bangalore     4172\n",
       "Gurgaon        420\n",
       "Kochi          392\n",
       "Chennai        307\n",
       "Trivandrum      19\n",
       "Name: Joining_Center, dtype: int64"
      ]
     },
     "execution_count": 42,
     "metadata": {},
     "output_type": "execute_result"
    }
   ],
   "source": [
    "df_1.Joining_Center.value_counts()"
   ]
  },
  {
   "cell_type": "code",
   "execution_count": 43,
   "metadata": {},
   "outputs": [
    {
     "data": {
      "text/plain": [
       "560037    223\n",
       "560043    152\n",
       "560016    131\n",
       "560068     87\n",
       "560076     86\n",
       "500084     79\n",
       "560078     72\n",
       "122001     63\n",
       "560029     62\n",
       "560093     61\n",
       "560066     59\n",
       "560036     59\n",
       "560048     58\n",
       "560085     51\n",
       "560100     47\n",
       "500081     46\n",
       "560010     44\n",
       "560032     43\n",
       "560035     43\n",
       "560038     42\n",
       "560075     40\n",
       "560097     40\n",
       "560045     36\n",
       "560077     36\n",
       "560103     35\n",
       "560079     35\n",
       "560102     34\n",
       "560084     33\n",
       "560008     33\n",
       "560033     31\n",
       "         ... \n",
       "580004      1\n",
       "635301      1\n",
       "689105      1\n",
       "686516      1\n",
       "560104      1\n",
       "562123      1\n",
       "670307      1\n",
       "686540      1\n",
       "562107      1\n",
       "515002      1\n",
       "676301      1\n",
       "500091      1\n",
       "769014      1\n",
       "690514      1\n",
       "500083      1\n",
       "517325      1\n",
       "509125      1\n",
       "679102      1\n",
       "122022      1\n",
       "690526      1\n",
       "122006      1\n",
       "636007      1\n",
       "603127      1\n",
       "683108      1\n",
       "500821      1\n",
       "574509      1\n",
       "515110      1\n",
       "769042      1\n",
       "625018      1\n",
       "600009      1\n",
       "Name: PinCode, Length: 1019, dtype: int64"
      ]
     },
     "execution_count": 43,
     "metadata": {},
     "output_type": "execute_result"
    }
   ],
   "source": [
    "df_1.PinCode.value_counts()"
   ]
  },
  {
   "cell_type": "code",
   "execution_count": 44,
   "metadata": {},
   "outputs": [
    {
     "data": {
      "text/plain": [
       "EMPLOYEE REFERRAL        1887\n",
       "CONSULTANCY              1483\n",
       "PORTAL                   1241\n",
       "CAMPUS                    502\n",
       "WALK-IN                    67\n",
       "GDS LEAP                   54\n",
       "CWR TO FTE CONVERSION      31\n",
       "ALTERNATE SOURCE           28\n",
       "OFF CAMPUS                 10\n",
       "TRANSFER                    5\n",
       "ADVERTISEMENT               1\n",
       "OTHER TRANSFER              1\n",
       "Name: Source, dtype: int64"
      ]
     },
     "execution_count": 44,
     "metadata": {},
     "output_type": "execute_result"
    }
   ],
   "source": [
    "df_1.Source.value_counts()"
   ]
  },
  {
   "cell_type": "code",
   "execution_count": 45,
   "metadata": {},
   "outputs": [
    {
     "data": {
      "text/plain": [
       "New Employee    4870\n",
       "Re hire          366\n",
       "Transfer          74\n",
       "Name: Hiretype, dtype: int64"
      ]
     },
     "execution_count": 45,
     "metadata": {},
     "output_type": "execute_result"
    }
   ],
   "source": [
    "df_1.Hiretype.value_counts()"
   ]
  },
  {
   "cell_type": "code",
   "execution_count": 46,
   "metadata": {},
   "outputs": [
    {
     "data": {
      "text/plain": [
       "XE020M42382    1146\n",
       "XE020M38015     838\n",
       "XE020M32824     602\n",
       "XE020M39949     517\n",
       "XE020M24041     363\n",
       "XE020M36003     338\n",
       "XE020M32654     263\n",
       "XE020M51545     260\n",
       "XE020M63277     206\n",
       "XE020M22317     203\n",
       "XE021306642     172\n",
       "XE020M00201     103\n",
       "XE020M17867      98\n",
       "XE020M24506      94\n",
       "XE021305129      56\n",
       "XE020M63244      37\n",
       "XE021301732       9\n",
       "XE021306728       2\n",
       "XE021305189       1\n",
       "IN010M41415       1\n",
       "XE020M20654       1\n",
       "Name: RecruiterGPN, dtype: int64"
      ]
     },
     "execution_count": 46,
     "metadata": {},
     "output_type": "execute_result"
    }
   ],
   "source": [
    "df_1.RecruiterGPN.value_counts()"
   ]
  },
  {
   "cell_type": "code",
   "execution_count": 47,
   "metadata": {},
   "outputs": [
    {
     "data": {
      "text/plain": [
       "Mr    2935\n",
       "Ms    2375\n",
       "Name: Title, dtype: int64"
      ]
     },
     "execution_count": 47,
     "metadata": {},
     "output_type": "execute_result"
    }
   ],
   "source": [
    "df_1.Title.value_counts()"
   ]
  },
  {
   "cell_type": "code",
   "execution_count": 48,
   "metadata": {},
   "outputs": [
    {
     "data": {
      "text/plain": [
       "24    502\n",
       "25    458\n",
       "28    447\n",
       "30    447\n",
       "27    443\n",
       "29    417\n",
       "26    416\n",
       "23    375\n",
       "22    359\n",
       "31    305\n",
       "32    269\n",
       "33    177\n",
       "21    131\n",
       "35    110\n",
       "34     99\n",
       "36     82\n",
       "38     44\n",
       "37     42\n",
       "40     42\n",
       "20     42\n",
       "41     29\n",
       "43     18\n",
       "42     16\n",
       "39     15\n",
       "45      7\n",
       "44      6\n",
       "46      4\n",
       "50      4\n",
       "19      3\n",
       "48      1\n",
       "Name: Age, dtype: int64"
      ]
     },
     "execution_count": 48,
     "metadata": {},
     "output_type": "execute_result"
    }
   ],
   "source": [
    "df_1.Age.value_counts()"
   ]
  },
  {
   "cell_type": "code",
   "execution_count": 49,
   "metadata": {},
   "outputs": [
    {
     "data": {
      "text/plain": [
       "Karnataka            2849\n",
       "Kerala                488\n",
       "Tamil Nadu            477\n",
       "West Bengal           384\n",
       "Andhra Pradesh        353\n",
       "New Delhi             231\n",
       "Haryana               158\n",
       "Maharashtra            98\n",
       "Telangana              94\n",
       "Uttar Pradesh          77\n",
       "Gujarat                25\n",
       "Jharkhand              22\n",
       "Uttarakhand            11\n",
       "Orissa                  9\n",
       "Assam                   9\n",
       "Madhya Pradesh          8\n",
       "HARYANA                 4\n",
       "Rajasthan               4\n",
       "Punjab                  2\n",
       "Chhattisgarh            2\n",
       "Australia               1\n",
       "England                 1\n",
       "Sharjah                 1\n",
       "Georgia                 1\n",
       "Jammu and Kashmir       1\n",
       "Name: Original_State, dtype: int64"
      ]
     },
     "execution_count": 49,
     "metadata": {},
     "output_type": "execute_result"
    }
   ],
   "source": [
    "df_1.Original_State.value_counts()"
   ]
  },
  {
   "cell_type": "code",
   "execution_count": 50,
   "metadata": {},
   "outputs": [
    {
     "name": "stdout",
     "output_type": "stream",
     "text": [
      "BEFORE ENCODING : 0    Joined\n",
      "1    Joined\n",
      "2    Joined\n",
      "3    Joined\n",
      "4    Joined\n",
      "5    Joined\n",
      "6    Joined\n",
      "7    Joined\n",
      "8    Joined\n",
      "9    Joined\n",
      "Name: OverallStatus_Labelenc, dtype: object\n",
      "\n",
      "ENCODED CLASSES : ['Joined' 'OfferDeclined']\n",
      "\n",
      "0    2665\n",
      "1    2645\n",
      "Name: OverallStatus_Labelenc, dtype: int64\n",
      "Joined           2665\n",
      "OfferDeclined    2645\n",
      "Name: OverallStatus, dtype: int64\n"
     ]
    },
    {
     "name": "stderr",
     "output_type": "stream",
     "text": [
      "C:\\Users\\madhan.s\\AppData\\Local\\Continuum\\anaconda3\\lib\\site-packages\\ipykernel_launcher.py:1: SettingWithCopyWarning: \n",
      "A value is trying to be set on a copy of a slice from a DataFrame.\n",
      "Try using .loc[row_indexer,col_indexer] = value instead\n",
      "\n",
      "See the caveats in the documentation: http://pandas.pydata.org/pandas-docs/stable/indexing.html#indexing-view-versus-copy\n",
      "  \"\"\"Entry point for launching an IPython kernel.\n",
      "C:\\Users\\madhan.s\\AppData\\Local\\Continuum\\anaconda3\\lib\\site-packages\\ipykernel_launcher.py:12: SettingWithCopyWarning: \n",
      "A value is trying to be set on a copy of a slice from a DataFrame.\n",
      "Try using .loc[row_indexer,col_indexer] = value instead\n",
      "\n",
      "See the caveats in the documentation: http://pandas.pydata.org/pandas-docs/stable/indexing.html#indexing-view-versus-copy\n",
      "  if sys.path[0] == '':\n"
     ]
    }
   ],
   "source": [
    "df_1['OverallStatus_Labelenc'] = df[\"OverallStatus\"].values\n",
    "print(\"BEFORE ENCODING : {}\".format(df_1.OverallStatus_Labelenc[0:10]))\n",
    "\n",
    "print(\"\")\n",
    "\n",
    "le = preprocessing.LabelEncoder()\n",
    "le.fit(df_1.OverallStatus)\n",
    "\n",
    "print(\"ENCODED CLASSES : {}\".format(le.classes_))\n",
    "print(\"\")\n",
    "\n",
    "df_1['OverallStatus_Labelenc'] = le.transform(df.OverallStatus)\n",
    "\n",
    "print(df_1.OverallStatus_Labelenc.value_counts())\n",
    "print(df.OverallStatus.value_counts())"
   ]
  },
  {
   "cell_type": "code",
   "execution_count": 51,
   "metadata": {},
   "outputs": [],
   "source": [
    "#df['Hike'] = df['Hike'].astype(int64)\n",
    "df['Hike'] = df['Hike'].astype(int)"
   ]
  },
  {
   "cell_type": "code",
   "execution_count": 52,
   "metadata": {},
   "outputs": [
    {
     "data": {
      "text/plain": [
       "Index(['OfferId', 'OverallStatus', 'Status', 'Hiretype', 'RecruiterGPN',\n",
       "       'Title', 'DateOfBirth', 'Original_State', 'PinCode', 'Source',\n",
       "       'Department', 'IT', 'Joining_Center', 'Facility', 'Rank',\n",
       "       'IsRotationalShift', 'NoticePeriod', 'Qualification1', 'Big_four',\n",
       "       'DAndI', 'Hike', 'JoiningBonus', 'GoodsTransportationTravelEligibility',\n",
       "       'Stipend', 'Experienced', 'IsNoticePeriodReimbursementProvided',\n",
       "       'ExpectedJoiningDate', 'ActualJoiningDate', 'DOB_year', 'Age'],\n",
       "      dtype='object')"
      ]
     },
     "execution_count": 52,
     "metadata": {},
     "output_type": "execute_result"
    }
   ],
   "source": [
    "df.columns"
   ]
  },
  {
   "cell_type": "code",
   "execution_count": 53,
   "metadata": {},
   "outputs": [
    {
     "data": {
      "text/plain": [
       "Index(['OverallStatus', 'Hiretype', 'RecruiterGPN', 'Title', 'Age',\n",
       "       'Original_State', 'PinCode', 'Source', 'Department', 'IT',\n",
       "       'Joining_Center', 'Facility', 'Rank', 'IsRotationalShift',\n",
       "       'NoticePeriod', 'Qualification1', 'Hike', 'Big_four', 'JoiningBonus',\n",
       "       'GoodsTransportationTravelEligibility', 'Stipend', 'Experienced',\n",
       "       'IsNoticePeriodReimbursementProvided', 'ExpectedJoiningDate',\n",
       "       'Expected_Month', 'OverallStatus_Labelenc'],\n",
       "      dtype='object')"
      ]
     },
     "execution_count": 53,
     "metadata": {},
     "output_type": "execute_result"
    }
   ],
   "source": [
    "df_1.columns"
   ]
  },
  {
   "cell_type": "code",
   "execution_count": 54,
   "metadata": {},
   "outputs": [],
   "source": [
    "df_1 = df_1[['OverallStatus_Labelenc','Hiretype', 'RecruiterGPN',\n",
    "       'Title', 'Age', 'Original_State', 'PinCode', 'Source',\n",
    "       'Department', 'IT', 'Joining_Center', 'Facility', 'Rank','Big_four',\n",
    "       'IsRotationalShift', 'NoticePeriod', 'Qualification1','Hike', 'JoiningBonus',\n",
    "       'GoodsTransportationTravelEligibility', 'Stipend', 'Experienced',\n",
    "       'IsNoticePeriodReimbursementProvided', 'Expected_Month']]"
   ]
  },
  {
   "cell_type": "code",
   "execution_count": 55,
   "metadata": {},
   "outputs": [
    {
     "data": {
      "text/plain": [
       "OverallStatus_Labelenc                   int32\n",
       "Hiretype                                object\n",
       "RecruiterGPN                            object\n",
       "Title                                   object\n",
       "Age                                      int64\n",
       "Original_State                          object\n",
       "PinCode                                  int64\n",
       "Source                                  object\n",
       "Department                              object\n",
       "IT                                       int64\n",
       "Joining_Center                          object\n",
       "Facility                                object\n",
       "Rank                                     int64\n",
       "Big_four                                 int64\n",
       "IsRotationalShift                         bool\n",
       "NoticePeriod                             int64\n",
       "Qualification1                          object\n",
       "Hike                                     int32\n",
       "JoiningBonus                             int64\n",
       "GoodsTransportationTravelEligibility     int64\n",
       "Stipend                                  int64\n",
       "Experienced                              int64\n",
       "IsNoticePeriodReimbursementProvided     object\n",
       "Expected_Month                           int64\n",
       "dtype: object"
      ]
     },
     "execution_count": 55,
     "metadata": {},
     "output_type": "execute_result"
    }
   ],
   "source": [
    "df_1.dtypes"
   ]
  },
  {
   "cell_type": "code",
   "execution_count": 56,
   "metadata": {},
   "outputs": [],
   "source": [
    "X = df_1[['Hiretype','Title', 'Age', 'Source', 'IT', 'Joining_Center','Rank', 'NoticePeriod','Big_four','Qualification1','Hike', 'Experienced','Expected_Month','IsNoticePeriodReimbursementProvided']]"
   ]
  },
  {
   "cell_type": "code",
   "execution_count": 57,
   "metadata": {},
   "outputs": [
    {
     "name": "stderr",
     "output_type": "stream",
     "text": [
      "C:\\Users\\madhan.s\\AppData\\Local\\Continuum\\anaconda3\\lib\\site-packages\\ipykernel_launcher.py:1: SettingWithCopyWarning: \n",
      "A value is trying to be set on a copy of a slice from a DataFrame.\n",
      "Try using .loc[row_indexer,col_indexer] = value instead\n",
      "\n",
      "See the caveats in the documentation: http://pandas.pydata.org/pandas-docs/stable/indexing.html#indexing-view-versus-copy\n",
      "  \"\"\"Entry point for launching an IPython kernel.\n"
     ]
    }
   ],
   "source": [
    "X['IsNoticePeriodReimbursementProvided']= X.IsNoticePeriodReimbursementProvided.astype(int)"
   ]
  },
  {
   "cell_type": "code",
   "execution_count": 58,
   "metadata": {},
   "outputs": [
    {
     "data": {
      "text/plain": [
       "Hiretype                               object\n",
       "Title                                  object\n",
       "Age                                     int64\n",
       "Source                                 object\n",
       "IT                                      int64\n",
       "Joining_Center                         object\n",
       "Rank                                    int64\n",
       "NoticePeriod                            int64\n",
       "Big_four                                int64\n",
       "Qualification1                         object\n",
       "Hike                                    int32\n",
       "Experienced                             int64\n",
       "Expected_Month                          int64\n",
       "IsNoticePeriodReimbursementProvided     int32\n",
       "dtype: object"
      ]
     },
     "execution_count": 58,
     "metadata": {},
     "output_type": "execute_result"
    }
   ],
   "source": [
    "X.dtypes"
   ]
  },
  {
   "cell_type": "code",
   "execution_count": 59,
   "metadata": {},
   "outputs": [
    {
     "data": {
      "text/plain": [
       "Hiretype                               0\n",
       "Title                                  0\n",
       "Age                                    0\n",
       "Source                                 0\n",
       "IT                                     0\n",
       "Joining_Center                         0\n",
       "Rank                                   0\n",
       "NoticePeriod                           0\n",
       "Big_four                               0\n",
       "Qualification1                         0\n",
       "Hike                                   0\n",
       "Experienced                            0\n",
       "Expected_Month                         0\n",
       "IsNoticePeriodReimbursementProvided    0\n",
       "dtype: int64"
      ]
     },
     "execution_count": 59,
     "metadata": {},
     "output_type": "execute_result"
    }
   ],
   "source": [
    "X.isnull().sum()"
   ]
  },
  {
   "cell_type": "code",
   "execution_count": 60,
   "metadata": {},
   "outputs": [],
   "source": [
    "y = df_1[['OverallStatus_Labelenc']]"
   ]
  },
  {
   "cell_type": "code",
   "execution_count": 61,
   "metadata": {},
   "outputs": [
    {
     "data": {
      "text/plain": [
       "Index(['OfferId', 'Status', 'Hiretype', 'RecruiterGPN', 'Title', 'Age',\n",
       "       'PinCode', 'Source', 'SetId', 'Joining_Center', 'Facility', 'Grade',\n",
       "       'IsRotationalShift', 'Qualification', 'CourseCompletionYear',\n",
       "       'PreviousEmployer', 'IsThomasAssessmentRequired', 'DAndI',\n",
       "       'RelocationBonus', 'Stipend', 'EmploymentDurationInMonths',\n",
       "       'ExpectedJoiningDate', 'Expected_Month', 'NoticePeriod', 'Hike',\n",
       "       'Experienced', 'Joining_Center.1', 'Rank', 'IsRotationalShift.1', 'IT',\n",
       "       'Big_four', 'Qualification1', 'IsNoticePeriodReimbursementProvided',\n",
       "       'Final_Status'],\n",
       "      dtype='object')"
      ]
     },
     "execution_count": 61,
     "metadata": {},
     "output_type": "execute_result"
    }
   ],
   "source": [
    "df_test.columns"
   ]
  },
  {
   "cell_type": "code",
   "execution_count": 62,
   "metadata": {},
   "outputs": [
    {
     "data": {
      "text/plain": [
       "OfferId                                 0\n",
       "Status                                  0\n",
       "Hiretype                                0\n",
       "RecruiterGPN                            0\n",
       "Title                                   0\n",
       "Age                                     0\n",
       "PinCode                                 0\n",
       "Source                                  0\n",
       "SetId                                   0\n",
       "Joining_Center                          0\n",
       "Facility                                0\n",
       "Grade                                   0\n",
       "IsRotationalShift                       0\n",
       "Qualification                           0\n",
       "CourseCompletionYear                   21\n",
       "PreviousEmployer                       68\n",
       "IsThomasAssessmentRequired             46\n",
       "DAndI                                  63\n",
       "RelocationBonus                         0\n",
       "Stipend                                 0\n",
       "EmploymentDurationInMonths              0\n",
       "ExpectedJoiningDate                     0\n",
       "Expected_Month                          0\n",
       "NoticePeriod                            0\n",
       "Hike                                    0\n",
       "Experienced                             0\n",
       "Joining_Center.1                        0\n",
       "Rank                                    0\n",
       "IsRotationalShift.1                     0\n",
       "IT                                      0\n",
       "Big_four                                0\n",
       "Qualification1                          0\n",
       "IsNoticePeriodReimbursementProvided     0\n",
       "Final_Status                            0\n",
       "dtype: int64"
      ]
     },
     "execution_count": 62,
     "metadata": {},
     "output_type": "execute_result"
    }
   ],
   "source": [
    "df_test.isnull().sum()"
   ]
  },
  {
   "cell_type": "code",
   "execution_count": 63,
   "metadata": {},
   "outputs": [],
   "source": [
    "#df_test = df_test.rename(columns = {'IT/Non IT':'IT'})"
   ]
  },
  {
   "cell_type": "code",
   "execution_count": 64,
   "metadata": {},
   "outputs": [],
   "source": [
    "#mapping_new = {'Non IT':'0','IT':'1'}\n",
    "#df_test['IT'] = df_test['IT'].map(mapping_new)"
   ]
  },
  {
   "cell_type": "code",
   "execution_count": 65,
   "metadata": {},
   "outputs": [
    {
     "data": {
      "text/plain": [
       "0        0\n",
       "1       57\n",
       "2        1\n",
       "3       18\n",
       "4       32\n",
       "5        0\n",
       "6       25\n",
       "7       64\n",
       "8       25\n",
       "9       21\n",
       "10      90\n",
       "11     -17\n",
       "12      30\n",
       "13      26\n",
       "14      30\n",
       "15      43\n",
       "16      25\n",
       "17      31\n",
       "18      34\n",
       "19      33\n",
       "20      26\n",
       "21       0\n",
       "22       0\n",
       "23       0\n",
       "24      40\n",
       "25      43\n",
       "26      30\n",
       "27      47\n",
       "28      45\n",
       "29      37\n",
       "      ... \n",
       "283      0\n",
       "284     89\n",
       "285     10\n",
       "286     25\n",
       "287     30\n",
       "288    100\n",
       "289     32\n",
       "290     33\n",
       "291     98\n",
       "292     46\n",
       "293     44\n",
       "294     13\n",
       "295     30\n",
       "296     36\n",
       "297     48\n",
       "298     34\n",
       "299     14\n",
       "300    -21\n",
       "301      0\n",
       "302     10\n",
       "303     30\n",
       "304      0\n",
       "305     71\n",
       "306     33\n",
       "307     21\n",
       "308     45\n",
       "309      0\n",
       "310     53\n",
       "311     27\n",
       "312     30\n",
       "Name: Hike, Length: 313, dtype: object"
      ]
     },
     "execution_count": 65,
     "metadata": {},
     "output_type": "execute_result"
    }
   ],
   "source": [
    "df_test['Hike'].replace('%','',regex=True,inplace=True)\n",
    "df_test['Hike']"
   ]
  },
  {
   "cell_type": "code",
   "execution_count": 66,
   "metadata": {},
   "outputs": [],
   "source": [
    "df_test['Hike'] = df_test['Hike'].astype(int)"
   ]
  },
  {
   "cell_type": "code",
   "execution_count": 67,
   "metadata": {},
   "outputs": [
    {
     "data": {
      "text/plain": [
       "0    5235\n",
       "1      75\n",
       "Name: IsNoticePeriodReimbursementProvided, dtype: int64"
      ]
     },
     "execution_count": 67,
     "metadata": {},
     "output_type": "execute_result"
    }
   ],
   "source": [
    "X.IsNoticePeriodReimbursementProvided.value_counts()"
   ]
  },
  {
   "cell_type": "code",
   "execution_count": 68,
   "metadata": {},
   "outputs": [
    {
     "data": {
      "text/plain": [
       "Hiretype                               object\n",
       "Title                                  object\n",
       "Age                                     int64\n",
       "Source                                 object\n",
       "IT                                      int64\n",
       "Joining_Center                         object\n",
       "Rank                                    int64\n",
       "NoticePeriod                            int64\n",
       "Big_four                                int64\n",
       "Qualification1                         object\n",
       "Hike                                    int32\n",
       "Experienced                             int64\n",
       "Expected_Month                          int64\n",
       "IsNoticePeriodReimbursementProvided     int32\n",
       "dtype: object"
      ]
     },
     "execution_count": 68,
     "metadata": {},
     "output_type": "execute_result"
    }
   ],
   "source": [
    "X.dtypes"
   ]
  },
  {
   "cell_type": "code",
   "execution_count": 69,
   "metadata": {},
   "outputs": [
    {
     "data": {
      "text/plain": [
       "Hiretype                               0\n",
       "Title                                  0\n",
       "Age                                    0\n",
       "Source                                 0\n",
       "IT                                     0\n",
       "Joining_Center                         0\n",
       "Rank                                   0\n",
       "NoticePeriod                           0\n",
       "Big_four                               0\n",
       "Qualification1                         0\n",
       "Hike                                   0\n",
       "Experienced                            0\n",
       "Expected_Month                         0\n",
       "IsNoticePeriodReimbursementProvided    0\n",
       "dtype: int64"
      ]
     },
     "execution_count": 69,
     "metadata": {},
     "output_type": "execute_result"
    }
   ],
   "source": [
    "X.isnull().sum()"
   ]
  },
  {
   "cell_type": "code",
   "execution_count": 70,
   "metadata": {},
   "outputs": [],
   "source": [
    "X_test = df_test[['Hiretype','Title', 'Age', 'Source', 'IT', 'Joining_Center','Rank', 'NoticePeriod','Big_four','Qualification1','Hike', 'Experienced','Expected_Month','IsNoticePeriodReimbursementProvided']]"
   ]
  },
  {
   "cell_type": "code",
   "execution_count": 71,
   "metadata": {},
   "outputs": [
    {
     "data": {
      "text/plain": [
       "Hiretype                               object\n",
       "Title                                  object\n",
       "Age                                     int64\n",
       "Source                                 object\n",
       "IT                                      int64\n",
       "Joining_Center                         object\n",
       "Rank                                    int64\n",
       "NoticePeriod                            int64\n",
       "Big_four                                int64\n",
       "Qualification1                         object\n",
       "Hike                                    int32\n",
       "Experienced                             int64\n",
       "Expected_Month                          int64\n",
       "IsNoticePeriodReimbursementProvided     int32\n",
       "dtype: object"
      ]
     },
     "execution_count": 71,
     "metadata": {},
     "output_type": "execute_result"
    }
   ],
   "source": [
    "X.dtypes"
   ]
  },
  {
   "cell_type": "code",
   "execution_count": 72,
   "metadata": {},
   "outputs": [
    {
     "data": {
      "text/plain": [
       "Hiretype                               object\n",
       "Title                                  object\n",
       "Age                                     int64\n",
       "Source                                 object\n",
       "IT                                      int64\n",
       "Joining_Center                         object\n",
       "Rank                                    int64\n",
       "NoticePeriod                            int64\n",
       "Big_four                                int64\n",
       "Qualification1                         object\n",
       "Hike                                    int32\n",
       "Experienced                             int64\n",
       "Expected_Month                          int64\n",
       "IsNoticePeriodReimbursementProvided     int64\n",
       "dtype: object"
      ]
     },
     "execution_count": 72,
     "metadata": {},
     "output_type": "execute_result"
    }
   ],
   "source": [
    "X_test.dtypes"
   ]
  },
  {
   "cell_type": "code",
   "execution_count": 73,
   "metadata": {},
   "outputs": [],
   "source": [
    "y_test = df_test['Final_Status']"
   ]
  },
  {
   "cell_type": "code",
   "execution_count": 79,
   "metadata": {},
   "outputs": [
    {
     "name": "stderr",
     "output_type": "stream",
     "text": [
      "C:\\Users\\madhan.s\\AppData\\Local\\Continuum\\anaconda3\\lib\\site-packages\\pandas\\core\\frame.py:3697: SettingWithCopyWarning: \n",
      "A value is trying to be set on a copy of a slice from a DataFrame\n",
      "\n",
      "See the caveats in the documentation: http://pandas.pydata.org/pandas-docs/stable/indexing.html#indexing-view-versus-copy\n",
      "  errors=errors)\n"
     ]
    }
   ],
   "source": [
    "X.drop('IsNoticePeriodReimbursementProvided',axis=1,inplace=True)"
   ]
  },
  {
   "cell_type": "code",
   "execution_count": 80,
   "metadata": {},
   "outputs": [
    {
     "name": "stderr",
     "output_type": "stream",
     "text": [
      "C:\\Users\\madhan.s\\AppData\\Local\\Continuum\\anaconda3\\lib\\site-packages\\pandas\\core\\frame.py:3697: SettingWithCopyWarning: \n",
      "A value is trying to be set on a copy of a slice from a DataFrame\n",
      "\n",
      "See the caveats in the documentation: http://pandas.pydata.org/pandas-docs/stable/indexing.html#indexing-view-versus-copy\n",
      "  errors=errors)\n"
     ]
    }
   ],
   "source": [
    "X.drop('Expected_Month',axis=1,inplace=True)"
   ]
  },
  {
   "cell_type": "code",
   "execution_count": 92,
   "metadata": {},
   "outputs": [],
   "source": [
    "X.to_csv('data1.csv')"
   ]
  },
  {
   "cell_type": "code",
   "execution_count": 81,
   "metadata": {},
   "outputs": [],
   "source": [
    "from sklearn.preprocessing import StandardScaler, OneHotEncoder, MinMaxScaler\n",
    "from sklearn.compose import make_column_transformer\n",
    "from sklearn.metrics import confusion_matrix\n",
    "numColList=(X.dtypes[(X.dtypes==\"int64\") | (X.dtypes==\"int\")]).index\n",
    "strColList=X.dtypes[X.dtypes==\"object\"].index\n",
    "enc=make_column_transformer(\n",
    "    (MinMaxScaler(), numColList),\n",
    "    (OneHotEncoder(),strColList))\n",
    "X_transform=enc.fit_transform(X)\n",
    "#X_train, X_test, y_train, y_test = train_test_split(X_transform, y, random_state=0)"
   ]
  },
  {
   "cell_type": "code",
   "execution_count": 82,
   "metadata": {},
   "outputs": [
    {
     "data": {
      "text/plain": [
       "Index(['Hiretype', 'Title', 'Age', 'Source', 'IT', 'Joining_Center', 'Rank',\n",
       "       'NoticePeriod', 'Big_four', 'Qualification1', 'Hike', 'Experienced'],\n",
       "      dtype='object')"
      ]
     },
     "execution_count": 82,
     "metadata": {},
     "output_type": "execute_result"
    }
   ],
   "source": [
    "X.columns"
   ]
  },
  {
   "cell_type": "code",
   "execution_count": 83,
   "metadata": {},
   "outputs": [
    {
     "data": {
      "text/plain": [
       "(5310, 33)"
      ]
     },
     "execution_count": 83,
     "metadata": {},
     "output_type": "execute_result"
    }
   ],
   "source": [
    "X_transform.shape"
   ]
  },
  {
   "cell_type": "raw",
   "metadata": {},
   "source": [
    "from sklearn.preprocessing import StandardScaler, OneHotEncoder, MinMaxScaler\n",
    "from sklearn.compose import make_column_transformer\n",
    "from sklearn.metrics import confusion_matrix\n",
    "numColList1=(X_test.dtypes[(X_test.dtypes==\"int64\") | (X_test.dtypes==\"int\")).index\n",
    "strColList1=X_test.dtypes[X_test.dtypes==\"object\"].index\n",
    "enc=make_column_transformer(\n",
    "    (MinMaxScaler(), numColList1),\n",
    "    (OneHotEncoder(),strColList1))\n"
   ]
  },
  {
   "cell_type": "code",
   "execution_count": 84,
   "metadata": {},
   "outputs": [],
   "source": [
    "X_transform_new = enc.transform(X_test)"
   ]
  },
  {
   "cell_type": "code",
   "execution_count": 85,
   "metadata": {},
   "outputs": [
    {
     "name": "stderr",
     "output_type": "stream",
     "text": [
      "C:\\Users\\madhan.s\\AppData\\Local\\Continuum\\anaconda3\\lib\\site-packages\\sklearn\\ensemble\\gradient_boosting.py:1450: DataConversionWarning: A column-vector y was passed when a 1d array was expected. Please change the shape of y to (n_samples, ), for example using ravel().\n",
      "  y = column_or_1d(y, warn=True)\n"
     ]
    },
    {
     "name": "stdout",
     "output_type": "stream",
     "text": [
      "Test Accuracy 0.4792332268370607\n"
     ]
    },
    {
     "data": {
      "text/plain": [
       "array([[70, 73],\n",
       "       [90, 80]], dtype=int64)"
      ]
     },
     "execution_count": 85,
     "metadata": {},
     "output_type": "execute_result"
    }
   ],
   "source": [
    "from sklearn.model_selection import train_test_split\n",
    "from sklearn.metrics import precision_recall_fscore_support\n",
    "from sklearn.metrics import recall_score\n",
    "from sklearn.ensemble import GradientBoostingClassifier\n",
    "\n",
    "from sklearn.pipeline import Pipeline\n",
    "from sklearn.multiclass import OneVsRestClassifier\n",
    "from sklearn.model_selection import GridSearchCV\n",
    "#from adspy_shared_utilities import plot_class_regions_for_classifier_subplot\n",
    "\n",
    "#X_train, X_test, y_train, y_test = train_test_split(X, y, random_state=0)\n",
    "\n",
    "clf = GradientBoostingClassifier(max_depth=2, n_estimators=1000, learning_rate =0.1).fit(X_transform, y)\n",
    "prediction_on_testData=clf.predict(X_transform_new)\n",
    "print(\"Test Accuracy\", clf.score(X_transform_new,y_test))\n",
    "confusion_matrix(y_test,prediction_on_testData)"
   ]
  },
  {
   "cell_type": "code",
   "execution_count": 365,
   "metadata": {},
   "outputs": [
    {
     "name": "stdout",
     "output_type": "stream",
     "text": [
      "[0.47552448 0.51176471]\n"
     ]
    }
   ],
   "source": [
    "print(metrics.recall_score(y_test,prediction_on_testData, average = None))"
   ]
  },
  {
   "cell_type": "code",
   "execution_count": 807,
   "metadata": {},
   "outputs": [
    {
     "name": "stdout",
     "output_type": "stream",
     "text": [
      "Fitting 2 folds for each of 990 candidates, totalling 1980 fits\n"
     ]
    },
    {
     "name": "stderr",
     "output_type": "stream",
     "text": [
      "[Parallel(n_jobs=5)]: Using backend LokyBackend with 5 concurrent workers.\n",
      "[Parallel(n_jobs=5)]: Done  22 tasks      | elapsed:   20.8s\n",
      "[Parallel(n_jobs=5)]: Done 118 tasks      | elapsed:  1.5min\n",
      "[Parallel(n_jobs=5)]: Done 278 tasks      | elapsed:  3.4min\n",
      "[Parallel(n_jobs=5)]: Done 502 tasks      | elapsed:  6.2min\n",
      "[Parallel(n_jobs=5)]: Done 790 tasks      | elapsed:  9.5min\n",
      "[Parallel(n_jobs=5)]: Done 1142 tasks      | elapsed: 13.4min\n",
      "[Parallel(n_jobs=5)]: Done 1558 tasks      | elapsed: 17.4min\n",
      "[Parallel(n_jobs=5)]: Done 1980 out of 1980 | elapsed: 21.1min finished\n",
      "c:\\users\\nisha.nath\\appdata\\local\\programs\\python\\python37-32\\lib\\site-packages\\sklearn\\ensemble\\gradient_boosting.py:1450: DataConversionWarning: A column-vector y was passed when a 1d array was expected. Please change the shape of y to (n_samples, ), for example using ravel().\n",
      "  y = column_or_1d(y, warn=True)\n"
     ]
    },
    {
     "name": "stdout",
     "output_type": "stream",
     "text": [
      "0.7992047713717694\n",
      "Best parameters set:\n",
      "[('estimator', GradientBoostingClassifier(learning_rate=0.01, max_depth=10, n_estimators=5))]\n"
     ]
    }
   ],
   "source": [
    "pipe = Pipeline(steps=[('estimator', GradientBoostingClassifier())])\n",
    "\n",
    "parameters = [{\n",
    "    'estimator__n_estimators': (5,10,20,30,40,50,60,70,80,90),\n",
    "    'estimator__learning_rate': [0.01,0.03,0.05,.07,0.09,0.1,0.2,.3,.4,.5,1],\n",
    "    'estimator__max_depth':(10,20,30,40,50,60,70,80,90),\n",
    "}]\n",
    "\n",
    "grid_search_tune = GridSearchCV(pipe, parameters, cv=2, n_jobs=5, verbose=3)\n",
    "grid_search_tune.fit(X_train, y_train)\n",
    "print(grid_search_tune.score(X_train,y_train))\n",
    "\n",
    "print(\"Best parameters set:\")\n",
    "print(grid_search_tune.best_estimator_.steps)\n"
   ]
  },
  {
   "cell_type": "code",
   "execution_count": 366,
   "metadata": {},
   "outputs": [
    {
     "name": "stderr",
     "output_type": "stream",
     "text": [
      "c:\\users\\nisha.nath\\appdata\\local\\programs\\python\\python37-32\\lib\\site-packages\\sklearn\\ensemble\\gradient_boosting.py:1450: DataConversionWarning: A column-vector y was passed when a 1d array was expected. Please change the shape of y to (n_samples, ), for example using ravel().\n",
      "  y = column_or_1d(y, warn=True)\n",
      "c:\\users\\nisha.nath\\appdata\\local\\programs\\python\\python37-32\\lib\\site-packages\\sklearn\\ensemble\\gradient_boosting.py:1450: DataConversionWarning: A column-vector y was passed when a 1d array was expected. Please change the shape of y to (n_samples, ), for example using ravel().\n",
      "  y = column_or_1d(y, warn=True)\n"
     ]
    },
    {
     "name": "stdout",
     "output_type": "stream",
     "text": [
      "Test Accuracy 0.800376647834275\n",
      "[[68 75]\n",
      " [83 87]]\n",
      "[0.47552448 0.51176471]\n"
     ]
    }
   ],
   "source": [
    "clf = GradientBoostingClassifier(criterion='friedman_mse', init=None,\n",
    "                           learning_rate=0.01, loss='deviance', max_depth=10,\n",
    "                           max_features=None, max_leaf_nodes=None,\n",
    "                           min_impurity_decrease=0.0, min_impurity_split=None,\n",
    "                           min_samples_leaf=1, min_samples_split=2,\n",
    "                           min_weight_fraction_leaf=0.0, n_estimators=5,\n",
    "                           n_iter_no_change=None, presort='auto',\n",
    "                           random_state=None, subsample=1.0, tol=0.0001,\n",
    "                           validation_fraction=0.1, verbose=0,\n",
    "                           warm_start=False).fit(X_transform, y)\n",
    "#prediction_on_testData=clf.predict(X_test)\n",
    "clf.fit(X_transform,y)\n",
    "prob_predict = clf.predict(X_transform_new)\n",
    "print(\"Test Accuracy\", clf.score(X_transform,y))\n",
    "print(confusion_matrix(y_test,prediction_on_testData))\n",
    "print(metrics.recall_score(y_test,prediction_on_testData, average = None))"
   ]
  },
  {
   "cell_type": "code",
   "execution_count": 367,
   "metadata": {},
   "outputs": [],
   "source": [
    "#X_train"
   ]
  },
  {
   "cell_type": "code",
   "execution_count": 368,
   "metadata": {},
   "outputs": [],
   "source": [
    "#y_train = y_train.to_numpy()"
   ]
  },
  {
   "cell_type": "code",
   "execution_count": 370,
   "metadata": {},
   "outputs": [
    {
     "name": "stderr",
     "output_type": "stream",
     "text": [
      "c:\\users\\nisha.nath\\appdata\\local\\programs\\python\\python37-32\\lib\\site-packages\\sklearn\\ensemble\\gradient_boosting.py:1450: DataConversionWarning: A column-vector y was passed when a 1d array was expected. Please change the shape of y to (n_samples, ), for example using ravel().\n",
      "  y = column_or_1d(y, warn=True)\n",
      "c:\\users\\nisha.nath\\appdata\\local\\programs\\python\\python37-32\\lib\\site-packages\\sklearn\\ensemble\\gradient_boosting.py:1450: DataConversionWarning: A column-vector y was passed when a 1d array was expected. Please change the shape of y to (n_samples, ), for example using ravel().\n",
      "  y = column_or_1d(y, warn=True)\n",
      "c:\\users\\nisha.nath\\appdata\\local\\programs\\python\\python37-32\\lib\\site-packages\\sklearn\\ensemble\\gradient_boosting.py:1450: DataConversionWarning: A column-vector y was passed when a 1d array was expected. Please change the shape of y to (n_samples, ), for example using ravel().\n",
      "  y = column_or_1d(y, warn=True)\n",
      "c:\\users\\nisha.nath\\appdata\\local\\programs\\python\\python37-32\\lib\\site-packages\\sklearn\\ensemble\\gradient_boosting.py:1450: DataConversionWarning: A column-vector y was passed when a 1d array was expected. Please change the shape of y to (n_samples, ), for example using ravel().\n",
      "  y = column_or_1d(y, warn=True)\n",
      "c:\\users\\nisha.nath\\appdata\\local\\programs\\python\\python37-32\\lib\\site-packages\\sklearn\\ensemble\\gradient_boosting.py:1450: DataConversionWarning: A column-vector y was passed when a 1d array was expected. Please change the shape of y to (n_samples, ), for example using ravel().\n",
      "  y = column_or_1d(y, warn=True)\n",
      "c:\\users\\nisha.nath\\appdata\\local\\programs\\python\\python37-32\\lib\\site-packages\\sklearn\\ensemble\\gradient_boosting.py:1450: DataConversionWarning: A column-vector y was passed when a 1d array was expected. Please change the shape of y to (n_samples, ), for example using ravel().\n",
      "  y = column_or_1d(y, warn=True)\n",
      "c:\\users\\nisha.nath\\appdata\\local\\programs\\python\\python37-32\\lib\\site-packages\\sklearn\\ensemble\\gradient_boosting.py:1450: DataConversionWarning: A column-vector y was passed when a 1d array was expected. Please change the shape of y to (n_samples, ), for example using ravel().\n",
      "  y = column_or_1d(y, warn=True)\n",
      "c:\\users\\nisha.nath\\appdata\\local\\programs\\python\\python37-32\\lib\\site-packages\\sklearn\\ensemble\\gradient_boosting.py:1450: DataConversionWarning: A column-vector y was passed when a 1d array was expected. Please change the shape of y to (n_samples, ), for example using ravel().\n",
      "  y = column_or_1d(y, warn=True)\n",
      "c:\\users\\nisha.nath\\appdata\\local\\programs\\python\\python37-32\\lib\\site-packages\\sklearn\\ensemble\\gradient_boosting.py:1450: DataConversionWarning: A column-vector y was passed when a 1d array was expected. Please change the shape of y to (n_samples, ), for example using ravel().\n",
      "  y = column_or_1d(y, warn=True)\n",
      "c:\\users\\nisha.nath\\appdata\\local\\programs\\python\\python37-32\\lib\\site-packages\\sklearn\\ensemble\\gradient_boosting.py:1450: DataConversionWarning: A column-vector y was passed when a 1d array was expected. Please change the shape of y to (n_samples, ), for example using ravel().\n",
      "  y = column_or_1d(y, warn=True)\n"
     ]
    },
    {
     "data": {
      "text/plain": [
       "array([0.87169811, 0.68679245, 0.75471698, 0.91320755, 0.70943396,\n",
       "       0.78030303, 0.78030303, 0.75      , 0.89772727, 0.64772727])"
      ]
     },
     "execution_count": 370,
     "metadata": {},
     "output_type": "execute_result"
    }
   ],
   "source": [
    "cross_val_score(clf, X_transform, y, scoring='recall', cv=10) "
   ]
  },
  {
   "cell_type": "code",
   "execution_count": 374,
   "metadata": {},
   "outputs": [],
   "source": [
    "?GradientBoostingClassifier"
   ]
  },
  {
   "cell_type": "code",
   "execution_count": 203,
   "metadata": {},
   "outputs": [],
   "source": [
    "Proba_pre = clf.predict_proba(X_test)"
   ]
  },
  {
   "cell_type": "code",
   "execution_count": 204,
   "metadata": {},
   "outputs": [],
   "source": [
    "df_proba = pd.DataFrame(Proba_pre)"
   ]
  },
  {
   "cell_type": "code",
   "execution_count": 205,
   "metadata": {},
   "outputs": [
    {
     "data": {
      "text/html": [
       "<div>\n",
       "<style scoped>\n",
       "    .dataframe tbody tr th:only-of-type {\n",
       "        vertical-align: middle;\n",
       "    }\n",
       "\n",
       "    .dataframe tbody tr th {\n",
       "        vertical-align: top;\n",
       "    }\n",
       "\n",
       "    .dataframe thead th {\n",
       "        text-align: right;\n",
       "    }\n",
       "</style>\n",
       "<table border=\"1\" class=\"dataframe\">\n",
       "  <thead>\n",
       "    <tr style=\"text-align: right;\">\n",
       "      <th></th>\n",
       "      <th>OverallStatus_Labelenc</th>\n",
       "    </tr>\n",
       "  </thead>\n",
       "  <tbody>\n",
       "    <tr>\n",
       "      <td>1003</td>\n",
       "      <td>1</td>\n",
       "    </tr>\n",
       "    <tr>\n",
       "      <td>29</td>\n",
       "      <td>0</td>\n",
       "    </tr>\n",
       "    <tr>\n",
       "      <td>1643</td>\n",
       "      <td>0</td>\n",
       "    </tr>\n",
       "    <tr>\n",
       "      <td>4110</td>\n",
       "      <td>1</td>\n",
       "    </tr>\n",
       "    <tr>\n",
       "      <td>1778</td>\n",
       "      <td>0</td>\n",
       "    </tr>\n",
       "    <tr>\n",
       "      <td>...</td>\n",
       "      <td>...</td>\n",
       "    </tr>\n",
       "    <tr>\n",
       "      <td>322</td>\n",
       "      <td>0</td>\n",
       "    </tr>\n",
       "    <tr>\n",
       "      <td>22</td>\n",
       "      <td>0</td>\n",
       "    </tr>\n",
       "    <tr>\n",
       "      <td>4747</td>\n",
       "      <td>1</td>\n",
       "    </tr>\n",
       "    <tr>\n",
       "      <td>2639</td>\n",
       "      <td>0</td>\n",
       "    </tr>\n",
       "    <tr>\n",
       "      <td>4200</td>\n",
       "      <td>1</td>\n",
       "    </tr>\n",
       "  </tbody>\n",
       "</table>\n",
       "<p>1328 rows × 1 columns</p>\n",
       "</div>"
      ],
      "text/plain": [
       "      OverallStatus_Labelenc\n",
       "1003                       1\n",
       "29                         0\n",
       "1643                       0\n",
       "4110                       1\n",
       "1778                       0\n",
       "...                      ...\n",
       "322                        0\n",
       "22                         0\n",
       "4747                       1\n",
       "2639                       0\n",
       "4200                       1\n",
       "\n",
       "[1328 rows x 1 columns]"
      ]
     },
     "execution_count": 205,
     "metadata": {},
     "output_type": "execute_result"
    }
   ],
   "source": [
    "y_test"
   ]
  },
  {
   "cell_type": "code",
   "execution_count": 206,
   "metadata": {},
   "outputs": [
    {
     "data": {
      "text/html": [
       "<div>\n",
       "<style scoped>\n",
       "    .dataframe tbody tr th:only-of-type {\n",
       "        vertical-align: middle;\n",
       "    }\n",
       "\n",
       "    .dataframe tbody tr th {\n",
       "        vertical-align: top;\n",
       "    }\n",
       "\n",
       "    .dataframe thead th {\n",
       "        text-align: right;\n",
       "    }\n",
       "</style>\n",
       "<table border=\"1\" class=\"dataframe\">\n",
       "  <thead>\n",
       "    <tr style=\"text-align: right;\">\n",
       "      <th></th>\n",
       "      <th>OverallStatus_Labelenc</th>\n",
       "      <th>0</th>\n",
       "      <th>1</th>\n",
       "    </tr>\n",
       "  </thead>\n",
       "  <tbody>\n",
       "    <tr>\n",
       "      <td>0</td>\n",
       "      <td>NaN</td>\n",
       "      <td>0.497793</td>\n",
       "      <td>0.502207</td>\n",
       "    </tr>\n",
       "    <tr>\n",
       "      <td>1</td>\n",
       "      <td>NaN</td>\n",
       "      <td>0.497793</td>\n",
       "      <td>0.502207</td>\n",
       "    </tr>\n",
       "    <tr>\n",
       "      <td>2</td>\n",
       "      <td>NaN</td>\n",
       "      <td>0.507329</td>\n",
       "      <td>0.492671</td>\n",
       "    </tr>\n",
       "    <tr>\n",
       "      <td>3</td>\n",
       "      <td>NaN</td>\n",
       "      <td>0.476455</td>\n",
       "      <td>0.523545</td>\n",
       "    </tr>\n",
       "    <tr>\n",
       "      <td>4</td>\n",
       "      <td>0.0</td>\n",
       "      <td>0.509441</td>\n",
       "      <td>0.490559</td>\n",
       "    </tr>\n",
       "    <tr>\n",
       "      <td>...</td>\n",
       "      <td>...</td>\n",
       "      <td>...</td>\n",
       "      <td>...</td>\n",
       "    </tr>\n",
       "    <tr>\n",
       "      <td>5279</td>\n",
       "      <td>1.0</td>\n",
       "      <td>NaN</td>\n",
       "      <td>NaN</td>\n",
       "    </tr>\n",
       "    <tr>\n",
       "      <td>5291</td>\n",
       "      <td>1.0</td>\n",
       "      <td>NaN</td>\n",
       "      <td>NaN</td>\n",
       "    </tr>\n",
       "    <tr>\n",
       "      <td>5292</td>\n",
       "      <td>1.0</td>\n",
       "      <td>NaN</td>\n",
       "      <td>NaN</td>\n",
       "    </tr>\n",
       "    <tr>\n",
       "      <td>5304</td>\n",
       "      <td>1.0</td>\n",
       "      <td>NaN</td>\n",
       "      <td>NaN</td>\n",
       "    </tr>\n",
       "    <tr>\n",
       "      <td>5305</td>\n",
       "      <td>1.0</td>\n",
       "      <td>NaN</td>\n",
       "      <td>NaN</td>\n",
       "    </tr>\n",
       "  </tbody>\n",
       "</table>\n",
       "<p>2325 rows × 3 columns</p>\n",
       "</div>"
      ],
      "text/plain": [
       "      OverallStatus_Labelenc         0         1\n",
       "0                        NaN  0.497793  0.502207\n",
       "1                        NaN  0.497793  0.502207\n",
       "2                        NaN  0.507329  0.492671\n",
       "3                        NaN  0.476455  0.523545\n",
       "4                        0.0  0.509441  0.490559\n",
       "...                      ...       ...       ...\n",
       "5279                     1.0       NaN       NaN\n",
       "5291                     1.0       NaN       NaN\n",
       "5292                     1.0       NaN       NaN\n",
       "5304                     1.0       NaN       NaN\n",
       "5305                     1.0       NaN       NaN\n",
       "\n",
       "[2325 rows x 3 columns]"
      ]
     },
     "execution_count": 206,
     "metadata": {},
     "output_type": "execute_result"
    }
   ],
   "source": [
    "pd.concat([y_test, df_proba], axis=1)"
   ]
  },
  {
   "cell_type": "code",
   "execution_count": 91,
   "metadata": {},
   "outputs": [
    {
     "name": "stderr",
     "output_type": "stream",
     "text": [
      "C:\\Users\\madhan.s\\AppData\\Local\\Continuum\\anaconda3\\lib\\site-packages\\ipykernel_launcher.py:3: DataConversionWarning: A column-vector y was passed when a 1d array was expected. Please change the shape of y to (n_samples,), for example using ravel().\n",
      "  This is separate from the ipykernel package so we can avoid doing imports until\n"
     ]
    },
    {
     "name": "stdout",
     "output_type": "stream",
     "text": [
      "[[111  32]\n",
      " [146  24]]\n",
      "[0.77622378 0.14117647]\n",
      "0.43130990415335463\n"
     ]
    }
   ],
   "source": [
    "from sklearn.ensemble import RandomForestClassifier\n",
    "rand_classifer = RandomForestClassifier(n_estimators=100,criterion='entropy',max_depth=100,random_state=0)\n",
    "rand_classifer.fit(X_transform,y)\n",
    "y_pred_randforest = rand_classifer.predict(X_transform_new)\n",
    "print(metrics.confusion_matrix(y_test,y_pred_randforest))\n",
    "print(metrics.recall_score(y_test,y_pred_randforest, average = None))\n",
    "print(metrics.accuracy_score(y_test,y_pred_randforest))"
   ]
  },
  {
   "cell_type": "code",
   "execution_count": 89,
   "metadata": {},
   "outputs": [
    {
     "name": "stderr",
     "output_type": "stream",
     "text": [
      "C:\\Users\\madhan.s\\AppData\\Local\\Continuum\\anaconda3\\lib\\site-packages\\sklearn\\model_selection\\_validation.py:514: DataConversionWarning: A column-vector y was passed when a 1d array was expected. Please change the shape of y to (n_samples,), for example using ravel().\n",
      "  estimator.fit(X_train, y_train, **fit_params)\n",
      "C:\\Users\\madhan.s\\AppData\\Local\\Continuum\\anaconda3\\lib\\site-packages\\sklearn\\model_selection\\_validation.py:514: DataConversionWarning: A column-vector y was passed when a 1d array was expected. Please change the shape of y to (n_samples,), for example using ravel().\n",
      "  estimator.fit(X_train, y_train, **fit_params)\n",
      "C:\\Users\\madhan.s\\AppData\\Local\\Continuum\\anaconda3\\lib\\site-packages\\sklearn\\model_selection\\_validation.py:514: DataConversionWarning: A column-vector y was passed when a 1d array was expected. Please change the shape of y to (n_samples,), for example using ravel().\n",
      "  estimator.fit(X_train, y_train, **fit_params)\n",
      "C:\\Users\\madhan.s\\AppData\\Local\\Continuum\\anaconda3\\lib\\site-packages\\sklearn\\model_selection\\_validation.py:514: DataConversionWarning: A column-vector y was passed when a 1d array was expected. Please change the shape of y to (n_samples,), for example using ravel().\n",
      "  estimator.fit(X_train, y_train, **fit_params)\n",
      "C:\\Users\\madhan.s\\AppData\\Local\\Continuum\\anaconda3\\lib\\site-packages\\sklearn\\model_selection\\_validation.py:514: DataConversionWarning: A column-vector y was passed when a 1d array was expected. Please change the shape of y to (n_samples,), for example using ravel().\n",
      "  estimator.fit(X_train, y_train, **fit_params)\n",
      "C:\\Users\\madhan.s\\AppData\\Local\\Continuum\\anaconda3\\lib\\site-packages\\sklearn\\model_selection\\_validation.py:514: DataConversionWarning: A column-vector y was passed when a 1d array was expected. Please change the shape of y to (n_samples,), for example using ravel().\n",
      "  estimator.fit(X_train, y_train, **fit_params)\n",
      "C:\\Users\\madhan.s\\AppData\\Local\\Continuum\\anaconda3\\lib\\site-packages\\sklearn\\model_selection\\_validation.py:514: DataConversionWarning: A column-vector y was passed when a 1d array was expected. Please change the shape of y to (n_samples,), for example using ravel().\n",
      "  estimator.fit(X_train, y_train, **fit_params)\n",
      "C:\\Users\\madhan.s\\AppData\\Local\\Continuum\\anaconda3\\lib\\site-packages\\sklearn\\model_selection\\_validation.py:514: DataConversionWarning: A column-vector y was passed when a 1d array was expected. Please change the shape of y to (n_samples,), for example using ravel().\n",
      "  estimator.fit(X_train, y_train, **fit_params)\n",
      "C:\\Users\\madhan.s\\AppData\\Local\\Continuum\\anaconda3\\lib\\site-packages\\sklearn\\model_selection\\_validation.py:514: DataConversionWarning: A column-vector y was passed when a 1d array was expected. Please change the shape of y to (n_samples,), for example using ravel().\n",
      "  estimator.fit(X_train, y_train, **fit_params)\n",
      "C:\\Users\\madhan.s\\AppData\\Local\\Continuum\\anaconda3\\lib\\site-packages\\sklearn\\model_selection\\_validation.py:514: DataConversionWarning: A column-vector y was passed when a 1d array was expected. Please change the shape of y to (n_samples,), for example using ravel().\n",
      "  estimator.fit(X_train, y_train, **fit_params)\n"
     ]
    },
    {
     "data": {
      "text/plain": [
       "array([0.67624021, 0.66572238, 0.65963061, 0.796875  , 0.77602524,\n",
       "       0.75075075, 0.73529412, 0.79487179, 0.73469388, 0.7375    ])"
      ]
     },
     "execution_count": 89,
     "metadata": {},
     "output_type": "execute_result"
    }
   ],
   "source": [
    "cross_val_score(rand_classifer, X_transform, y, scoring='precision', cv=10) "
   ]
  },
  {
   "cell_type": "code",
   "execution_count": 821,
   "metadata": {},
   "outputs": [],
   "source": [
    "?RandomForestClassifier"
   ]
  },
  {
   "cell_type": "code",
   "execution_count": 209,
   "metadata": {},
   "outputs": [
    {
     "data": {
      "text/plain": [
       "0    670\n",
       "1    658\n",
       "Name: OverallStatus_Labelenc, dtype: int64"
      ]
     },
     "execution_count": 209,
     "metadata": {},
     "output_type": "execute_result"
    }
   ],
   "source": [
    "y_test.OverallStatus_Labelenc.value_counts()"
   ]
  },
  {
   "cell_type": "code",
   "execution_count": 139,
   "metadata": {},
   "outputs": [],
   "source": [
    "?LogisticRegression"
   ]
  },
  {
   "cell_type": "code",
   "execution_count": 210,
   "metadata": {},
   "outputs": [
    {
     "name": "stdout",
     "output_type": "stream",
     "text": [
      "[[265 405]\n",
      " [  7 651]]\n",
      "[0.39552239 0.9893617 ]\n"
     ]
    }
   ],
   "source": [
    "from sklearn.preprocessing import binarize\n",
    "from sklearn.metrics import accuracy_score, roc_auc_score, auc\n",
    " \n",
    "t = 0.4  #threshold\n",
    "proba = clf.predict_proba(X_test)\n",
    "pred_at_t = binarize(proba, t)[:,1]\n",
    "\n",
    "print(metrics.confusion_matrix(y_test,pred_at_t))\n",
    "print(metrics.recall_score(y_test,pred_at_t,average = None))"
   ]
  },
  {
   "cell_type": "code",
   "execution_count": 211,
   "metadata": {},
   "outputs": [],
   "source": [
    "y_test = y_test.to_numpy()"
   ]
  },
  {
   "cell_type": "code",
   "execution_count": 212,
   "metadata": {},
   "outputs": [
    {
     "data": {
      "text/plain": [
       "array([[1],\n",
       "       [0],\n",
       "       [0],\n",
       "       ...,\n",
       "       [1],\n",
       "       [0],\n",
       "       [1]])"
      ]
     },
     "execution_count": 212,
     "metadata": {},
     "output_type": "execute_result"
    }
   ],
   "source": [
    "y_test"
   ]
  },
  {
   "cell_type": "code",
   "execution_count": 213,
   "metadata": {},
   "outputs": [
    {
     "name": "stdout",
     "output_type": "stream",
     "text": [
      "[[  1 669]\n",
      " [  0 658]]\n",
      "[0.00149254 1.        ]\n"
     ]
    }
   ],
   "source": [
    "from sklearn.preprocessing import binarize\n",
    "from sklearn.metrics import accuracy_score, roc_auc_score, auc\n",
    " \n",
    "t = 0.3  #threshold\n",
    "proba = clf.predict_proba(X_test)\n",
    "pred_at_t = binarize(proba, t)[:,1]\n",
    "\n",
    "print(metrics.confusion_matrix(y_test,pred_at_t))\n",
    "print(metrics.recall_score(y_test,pred_at_t,average = None))"
   ]
  },
  {
   "cell_type": "code",
   "execution_count": 214,
   "metadata": {},
   "outputs": [
    {
     "data": {
      "text/plain": [
       "numpy.ndarray"
      ]
     },
     "execution_count": 214,
     "metadata": {},
     "output_type": "execute_result"
    }
   ],
   "source": [
    "type(y_train)\n"
   ]
  },
  {
   "cell_type": "code",
   "execution_count": 215,
   "metadata": {},
   "outputs": [
    {
     "data": {
      "text/plain": [
       "<3982x57 sparse matrix of type '<class 'numpy.float64'>'\n",
       "\twith 52301 stored elements in Compressed Sparse Row format>"
      ]
     },
     "execution_count": 215,
     "metadata": {},
     "output_type": "execute_result"
    }
   ],
   "source": [
    "X_train"
   ]
  },
  {
   "cell_type": "code",
   "execution_count": 216,
   "metadata": {},
   "outputs": [
    {
     "data": {
      "text/plain": [
       "GradientBoostingClassifier(criterion='friedman_mse', init=None,\n",
       "                           learning_rate=0.09, loss='deviance', max_depth=10,\n",
       "                           max_features=None, max_leaf_nodes=None,\n",
       "                           min_impurity_decrease=0.0, min_impurity_split=None,\n",
       "                           min_samples_leaf=1, min_samples_split=2,\n",
       "                           min_weight_fraction_leaf=0.0, n_estimators=5,\n",
       "                           n_iter_no_change=None, presort='auto',\n",
       "                           random_state=None, subsample=1.0, tol=0.0001,\n",
       "                           validation_fraction=0.1, verbose=0,\n",
       "                           warm_start=False)"
      ]
     },
     "execution_count": 216,
     "metadata": {},
     "output_type": "execute_result"
    }
   ],
   "source": [
    "clf"
   ]
  },
  {
   "cell_type": "code",
   "execution_count": 219,
   "metadata": {},
   "outputs": [
    {
     "name": "stderr",
     "output_type": "stream",
     "text": [
      "c:\\users\\nisha.nath\\appdata\\local\\programs\\python\\python37-32\\lib\\site-packages\\sklearn\\ensemble\\gradient_boosting.py:1450: DataConversionWarning: A column-vector y was passed when a 1d array was expected. Please change the shape of y to (n_samples, ), for example using ravel().\n",
      "  y = column_or_1d(y, warn=True)\n",
      "c:\\users\\nisha.nath\\appdata\\local\\programs\\python\\python37-32\\lib\\site-packages\\sklearn\\ensemble\\gradient_boosting.py:1450: DataConversionWarning: A column-vector y was passed when a 1d array was expected. Please change the shape of y to (n_samples, ), for example using ravel().\n",
      "  y = column_or_1d(y, warn=True)\n",
      "c:\\users\\nisha.nath\\appdata\\local\\programs\\python\\python37-32\\lib\\site-packages\\sklearn\\ensemble\\gradient_boosting.py:1450: DataConversionWarning: A column-vector y was passed when a 1d array was expected. Please change the shape of y to (n_samples, ), for example using ravel().\n",
      "  y = column_or_1d(y, warn=True)\n",
      "c:\\users\\nisha.nath\\appdata\\local\\programs\\python\\python37-32\\lib\\site-packages\\sklearn\\ensemble\\gradient_boosting.py:1450: DataConversionWarning: A column-vector y was passed when a 1d array was expected. Please change the shape of y to (n_samples, ), for example using ravel().\n",
      "  y = column_or_1d(y, warn=True)\n",
      "c:\\users\\nisha.nath\\appdata\\local\\programs\\python\\python37-32\\lib\\site-packages\\sklearn\\ensemble\\gradient_boosting.py:1450: DataConversionWarning: A column-vector y was passed when a 1d array was expected. Please change the shape of y to (n_samples, ), for example using ravel().\n",
      "  y = column_or_1d(y, warn=True)\n",
      "c:\\users\\nisha.nath\\appdata\\local\\programs\\python\\python37-32\\lib\\site-packages\\sklearn\\ensemble\\gradient_boosting.py:1450: DataConversionWarning: A column-vector y was passed when a 1d array was expected. Please change the shape of y to (n_samples, ), for example using ravel().\n",
      "  y = column_or_1d(y, warn=True)\n",
      "c:\\users\\nisha.nath\\appdata\\local\\programs\\python\\python37-32\\lib\\site-packages\\sklearn\\ensemble\\gradient_boosting.py:1450: DataConversionWarning: A column-vector y was passed when a 1d array was expected. Please change the shape of y to (n_samples, ), for example using ravel().\n",
      "  y = column_or_1d(y, warn=True)\n",
      "c:\\users\\nisha.nath\\appdata\\local\\programs\\python\\python37-32\\lib\\site-packages\\sklearn\\ensemble\\gradient_boosting.py:1450: DataConversionWarning: A column-vector y was passed when a 1d array was expected. Please change the shape of y to (n_samples, ), for example using ravel().\n",
      "  y = column_or_1d(y, warn=True)\n",
      "c:\\users\\nisha.nath\\appdata\\local\\programs\\python\\python37-32\\lib\\site-packages\\sklearn\\ensemble\\gradient_boosting.py:1450: DataConversionWarning: A column-vector y was passed when a 1d array was expected. Please change the shape of y to (n_samples, ), for example using ravel().\n",
      "  y = column_or_1d(y, warn=True)\n",
      "c:\\users\\nisha.nath\\appdata\\local\\programs\\python\\python37-32\\lib\\site-packages\\sklearn\\ensemble\\gradient_boosting.py:1450: DataConversionWarning: A column-vector y was passed when a 1d array was expected. Please change the shape of y to (n_samples, ), for example using ravel().\n",
      "  y = column_or_1d(y, warn=True)\n",
      "c:\\users\\nisha.nath\\appdata\\local\\programs\\python\\python37-32\\lib\\site-packages\\sklearn\\ensemble\\gradient_boosting.py:1450: DataConversionWarning: A column-vector y was passed when a 1d array was expected. Please change the shape of y to (n_samples, ), for example using ravel().\n",
      "  y = column_or_1d(y, warn=True)\n"
     ]
    },
    {
     "name": "stdout",
     "output_type": "stream",
     "text": [
      "[0.77889447 0.83417085 0.82914573 0.8040201  0.84924623 0.79396985\n",
      " 0.74371859 0.76767677 0.83333333 0.80808081]\n",
      "0.8042256738236638\n",
      "0.03185987255038446\n",
      "[[484 186]\n",
      " [ 99 559]]\n",
      "[0.72238806 0.84954407]\n",
      "0.7853915662650602\n"
     ]
    }
   ],
   "source": [
    "from sklearn.preprocessing import binarize\n",
    "from sklearn.metrics import accuracy_score, roc_auc_score, auc\n",
    " \n",
    "t = 0.5  #threshold\n",
    "\n",
    "clf.fit(X_train,y_train)\n",
    "proba = clf.predict_proba(X_test)\n",
    "pred_at_t = binarize(proba, t)[:,1]\n",
    "cv_new = cross_val_score(clf, X_train, y_train,cv=10, scoring='recall')\n",
    "print(cv_new)\n",
    "print(np.mean(cv_new))\n",
    "print(np.std(cv_new))\n",
    "print(metrics.confusion_matrix(y_test,pred_at_t))\n",
    "print(metrics.recall_score(y_test,pred_at_t,average = None))\n",
    "print(metrics.accuracy_score(y_test,pred_at_t))"
   ]
  },
  {
   "cell_type": "code",
   "execution_count": null,
   "metadata": {},
   "outputs": [],
   "source": []
  },
  {
   "cell_type": "code",
   "execution_count": 423,
   "metadata": {},
   "outputs": [
    {
     "data": {
      "text/plain": [
       "(2515, 187)"
      ]
     },
     "execution_count": 423,
     "metadata": {},
     "output_type": "execute_result"
    }
   ],
   "source": [
    "X_train.shape"
   ]
  },
  {
   "cell_type": "code",
   "execution_count": 226,
   "metadata": {},
   "outputs": [
    {
     "name": "stdout",
     "output_type": "stream",
     "text": [
      "[[484 186]\n",
      " [ 99 559]]\n",
      "[0.72238806 0.84954407]\n"
     ]
    }
   ],
   "source": [
    "from sklearn.preprocessing import binarize\n",
    "from sklearn.metrics import accuracy_score, roc_auc_score, auc\n",
    " \n",
    "t = 0.5 #threshold\n",
    "proba = clf.predict_proba(X_test)\n",
    "pred_at_t = binarize(proba, t)[:,1]\n",
    "\n",
    "print(metrics.confusion_matrix(y_test,pred_at_t))\n",
    "print(metrics.recall_score(y_test,pred_at_t,average = None))"
   ]
  },
  {
   "cell_type": "code",
   "execution_count": 808,
   "metadata": {},
   "outputs": [],
   "source": [
    "#Crossvalidation\n",
    "#models = [\n",
    " #   GradientBoostingClassifier(n_estimators=200, random_state=0)],\n",
    "#CV = 10\n",
    "#cv_df = pd.DataFrame(index=range(CV * len(models)))\n",
    "#entries = []\n",
    "#re = []\n",
    "#pre = []\n",
    "#for model in models:\n",
    "   # model_name = model.__class__.__name__\n",
    "   # accuracies = cross_val_score(model, X_train, y_train, scoring='accuracy', cv=CV)\n",
    "   # recalls = cross_val_score(model, X_train, y_train, scoring='recall', cv=CV,)"
   ]
  },
  {
   "cell_type": "code",
   "execution_count": null,
   "metadata": {},
   "outputs": [],
   "source": [
    "#cv_df_precision = pd.DataFrame(pre, columns=['model_name', 'fold_idx', 'precision_score']) \n",
    "#cv_df_recall = pd.DataFrame(re, columns=['model_name', 'fold_idx', 'recall_score']) \n",
    "#import seaborn as sns\n",
    "#import matplotlib.pyplot as plt\n",
    "\n",
    "#plt.figure(figsize=(10,5))\n",
    "#sns.boxplot(x='model_name', y='accuracy', data=cv_df).set_title(\"Accuracy comparison - Cross Validation\")\n",
    "#sns.stripplot(x='model_name', y='accuracy', data=cv_df, \n",
    "#              size=8, jitter=True, edgecolor=\"gray\", linewidth=2)\n",
    "#plt.show() \n",
    "#import seaborn as sns\n",
    "#import matplotlib.pyplot as plt\n",
    "\n",
    "#plt.figure(figsize=(10,5))\n",
    "#sns.boxplot(x='model_name', y='precision_score', data=cv_df_precision).set_title(\"Precision comparison - Cross Validation\")\n",
    "#sns.stripplot(x='model_name', y='precision_score', data=cv_df_precision, \n",
    "#              size=8, jitter=True, edgecolor=\"gray\", linewidth=2)\n",
    "#plt.show() \n",
    "#import seaborn as sns\n",
    "##import matplotlib.pyplot as plt\n",
    "\n",
    "#plt.figure(figsize=(10,5))\n",
    "#sns.boxplot(x='model_name', y='recall_score', data=cv_df_recall).set_title(\"Recall scores - Cross Validation\")\n",
    "#sns.stripplot(x='model_name', y='recall_score', data=cv_df_recall, \n",
    "#              size=8, jitter=True, edgecolor=\"gray\", linewidth=2)\n",
    "#plt.show() \n",
    " \n"
   ]
  }
 ],
 "metadata": {
  "kernelspec": {
   "display_name": "Python 3",
   "language": "python",
   "name": "python3"
  },
  "language_info": {
   "codemirror_mode": {
    "name": "ipython",
    "version": 3
   },
   "file_extension": ".py",
   "mimetype": "text/x-python",
   "name": "python",
   "nbconvert_exporter": "python",
   "pygments_lexer": "ipython3",
   "version": "3.6.5"
  }
 },
 "nbformat": 4,
 "nbformat_minor": 2
}
