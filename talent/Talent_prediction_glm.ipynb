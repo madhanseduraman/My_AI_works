{
 "cells": [
  {
   "cell_type": "code",
   "execution_count": 108,
   "metadata": {},
   "outputs": [],
   "source": [
    "import pandas as pd\n",
    "import numpy as np\n",
    "from sklearn.feature_extraction.text import CountVectorizer\n",
    "from sklearn.feature_extraction.text import TfidfVectorizer\n",
    "from sklearn.cluster import KMeans\n",
    "from sklearn.decomposition import PCA\n",
    "from sklearn.decomposition import TruncatedSVD\n",
    "from sklearn.ensemble import RandomForestClassifier\n",
    "from sklearn.linear_model.logistic import LogisticRegression\n",
    "from sklearn.linear_model import LinearRegression\n",
    "from sklearn.neighbors import KNeighborsClassifier\n",
    "from sklearn import metrics\n",
    "from sklearn import preprocessing\n",
    "\n",
    "from sklearn.naive_bayes import MultinomialNB\n",
    "from sklearn.preprocessing import Normalizer\n",
    "from sklearn.preprocessing import StandardScaler\n",
    "import pandas as pd\n",
    "import numpy as np\n",
    "from sklearn.feature_extraction.text import TfidfVectorizer\n",
    "from sklearn.linear_model import LogisticRegression\n",
    "from sklearn import preprocessing\n",
    "from sklearn.model_selection import train_test_split\n",
    "from sklearn.model_selection import train_test_split\n",
    "\n",
    "from sklearn.naive_bayes import MultinomialNB\n",
    "from sklearn.ensemble import RandomForestClassifier\n",
    "from sklearn.svm import LinearSVC\n",
    "from sklearn.model_selection import cross_val_score\n",
    "\n",
    "\n",
    "import sklearn.metrics as metrics\n",
    "import matplotlib.pyplot as plt\n",
    "import seaborn as sns "
   ]
  },
  {
   "cell_type": "code",
   "execution_count": 2,
   "metadata": {},
   "outputs": [],
   "source": [
    "import statsmodels.api as sm"
   ]
  },
  {
   "cell_type": "code",
   "execution_count": 3,
   "metadata": {},
   "outputs": [],
   "source": [
    "from statsmodels.api import add_constant"
   ]
  },
  {
   "cell_type": "code",
   "execution_count": null,
   "metadata": {},
   "outputs": [],
   "source": []
  },
  {
   "cell_type": "code",
   "execution_count": 4,
   "metadata": {},
   "outputs": [],
   "source": [
    "rtrain = pd.read_csv('Rtrain.csv')"
   ]
  },
  {
   "cell_type": "code",
   "execution_count": 5,
   "metadata": {},
   "outputs": [
    {
     "data": {
      "text/html": [
       "<div>\n",
       "<style scoped>\n",
       "    .dataframe tbody tr th:only-of-type {\n",
       "        vertical-align: middle;\n",
       "    }\n",
       "\n",
       "    .dataframe tbody tr th {\n",
       "        vertical-align: top;\n",
       "    }\n",
       "\n",
       "    .dataframe thead th {\n",
       "        text-align: right;\n",
       "    }\n",
       "</style>\n",
       "<table border=\"1\" class=\"dataframe\">\n",
       "  <thead>\n",
       "    <tr style=\"text-align: right;\">\n",
       "      <th></th>\n",
       "      <th>Unnamed: 0</th>\n",
       "      <th>OfferId</th>\n",
       "      <th>OverallStatus</th>\n",
       "      <th>Status</th>\n",
       "      <th>Hiretype</th>\n",
       "      <th>RecruiterGPN</th>\n",
       "      <th>Title</th>\n",
       "      <th>Age</th>\n",
       "      <th>Original State</th>\n",
       "      <th>PinCode</th>\n",
       "      <th>...</th>\n",
       "      <th>date</th>\n",
       "      <th>date1</th>\n",
       "      <th>dum_State</th>\n",
       "      <th>dum_Source</th>\n",
       "      <th>dum_Department</th>\n",
       "      <th>dum_Joining_Center</th>\n",
       "      <th>dum_Rank</th>\n",
       "      <th>dummy_IsRotationalShift</th>\n",
       "      <th>dum_Qual</th>\n",
       "      <th>joiningmonth</th>\n",
       "    </tr>\n",
       "  </thead>\n",
       "  <tbody>\n",
       "    <tr>\n",
       "      <td>0</td>\n",
       "      <td>1</td>\n",
       "      <td>35119</td>\n",
       "      <td>OfferDeclined</td>\n",
       "      <td>OfferDeclined</td>\n",
       "      <td>New Employee</td>\n",
       "      <td>XE020M42382</td>\n",
       "      <td>0</td>\n",
       "      <td>24.071233</td>\n",
       "      <td>New Delhi</td>\n",
       "      <td>110085</td>\n",
       "      <td>...</td>\n",
       "      <td>16-10-2019</td>\n",
       "      <td>16-10-2019 05:30</td>\n",
       "      <td>6</td>\n",
       "      <td>3</td>\n",
       "      <td>5</td>\n",
       "      <td>2</td>\n",
       "      <td>1</td>\n",
       "      <td>0</td>\n",
       "      <td>1</td>\n",
       "      <td>1</td>\n",
       "    </tr>\n",
       "    <tr>\n",
       "      <td>1</td>\n",
       "      <td>2</td>\n",
       "      <td>35559</td>\n",
       "      <td>Joined</td>\n",
       "      <td>OfferAccepted</td>\n",
       "      <td>New Employee</td>\n",
       "      <td>XE020M42382</td>\n",
       "      <td>1</td>\n",
       "      <td>26.789041</td>\n",
       "      <td>Tamil Nadu</td>\n",
       "      <td>600010</td>\n",
       "      <td>...</td>\n",
       "      <td>16-10-2019</td>\n",
       "      <td>16-10-2019 05:30</td>\n",
       "      <td>2</td>\n",
       "      <td>1</td>\n",
       "      <td>2</td>\n",
       "      <td>3</td>\n",
       "      <td>1</td>\n",
       "      <td>0</td>\n",
       "      <td>1</td>\n",
       "      <td>1</td>\n",
       "    </tr>\n",
       "    <tr>\n",
       "      <td>2</td>\n",
       "      <td>3</td>\n",
       "      <td>35590</td>\n",
       "      <td>Joined</td>\n",
       "      <td>OfferAccepted</td>\n",
       "      <td>New Employee</td>\n",
       "      <td>XE020M24041</td>\n",
       "      <td>0</td>\n",
       "      <td>22.284932</td>\n",
       "      <td>Karnataka</td>\n",
       "      <td>560043</td>\n",
       "      <td>...</td>\n",
       "      <td>16-10-2019</td>\n",
       "      <td>16-10-2019 05:30</td>\n",
       "      <td>1</td>\n",
       "      <td>3</td>\n",
       "      <td>2</td>\n",
       "      <td>1</td>\n",
       "      <td>1</td>\n",
       "      <td>0</td>\n",
       "      <td>1</td>\n",
       "      <td>2</td>\n",
       "    </tr>\n",
       "    <tr>\n",
       "      <td>3</td>\n",
       "      <td>4</td>\n",
       "      <td>37545</td>\n",
       "      <td>Joined</td>\n",
       "      <td>OfferAccepted</td>\n",
       "      <td>New Employee</td>\n",
       "      <td>XE020M17867</td>\n",
       "      <td>1</td>\n",
       "      <td>26.821918</td>\n",
       "      <td>Karnataka</td>\n",
       "      <td>560016</td>\n",
       "      <td>...</td>\n",
       "      <td>16-10-2019</td>\n",
       "      <td>16-10-2019 05:30</td>\n",
       "      <td>1</td>\n",
       "      <td>1</td>\n",
       "      <td>2</td>\n",
       "      <td>1</td>\n",
       "      <td>1</td>\n",
       "      <td>0</td>\n",
       "      <td>1</td>\n",
       "      <td>2</td>\n",
       "    </tr>\n",
       "    <tr>\n",
       "      <td>4</td>\n",
       "      <td>5</td>\n",
       "      <td>37405</td>\n",
       "      <td>Joined</td>\n",
       "      <td>OfferAccepted</td>\n",
       "      <td>New Employee</td>\n",
       "      <td>XE020M36003</td>\n",
       "      <td>0</td>\n",
       "      <td>23.545205</td>\n",
       "      <td>Karnataka</td>\n",
       "      <td>560003</td>\n",
       "      <td>...</td>\n",
       "      <td>16-10-2019</td>\n",
       "      <td>16-10-2019 05:30</td>\n",
       "      <td>1</td>\n",
       "      <td>3</td>\n",
       "      <td>5</td>\n",
       "      <td>1</td>\n",
       "      <td>1</td>\n",
       "      <td>0</td>\n",
       "      <td>1</td>\n",
       "      <td>2</td>\n",
       "    </tr>\n",
       "  </tbody>\n",
       "</table>\n",
       "<p>5 rows × 43 columns</p>\n",
       "</div>"
      ],
      "text/plain": [
       "   Unnamed: 0  OfferId  OverallStatus         Status      Hiretype  \\\n",
       "0           1    35119  OfferDeclined  OfferDeclined  New Employee   \n",
       "1           2    35559         Joined  OfferAccepted  New Employee   \n",
       "2           3    35590         Joined  OfferAccepted  New Employee   \n",
       "3           4    37545         Joined  OfferAccepted  New Employee   \n",
       "4           5    37405         Joined  OfferAccepted  New Employee   \n",
       "\n",
       "  RecruiterGPN  Title        Age Original State  PinCode  ...        date  \\\n",
       "0  XE020M42382      0  24.071233      New Delhi   110085  ...  16-10-2019   \n",
       "1  XE020M42382      1  26.789041     Tamil Nadu   600010  ...  16-10-2019   \n",
       "2  XE020M24041      0  22.284932      Karnataka   560043  ...  16-10-2019   \n",
       "3  XE020M17867      1  26.821918      Karnataka   560016  ...  16-10-2019   \n",
       "4  XE020M36003      0  23.545205      Karnataka   560003  ...  16-10-2019   \n",
       "\n",
       "              date1  dum_State dum_Source dum_Department  dum_Joining_Center  \\\n",
       "0  16-10-2019 05:30          6          3              5                   2   \n",
       "1  16-10-2019 05:30          2          1              2                   3   \n",
       "2  16-10-2019 05:30          1          3              2                   1   \n",
       "3  16-10-2019 05:30          1          1              2                   1   \n",
       "4  16-10-2019 05:30          1          3              5                   1   \n",
       "\n",
       "   dum_Rank  dummy_IsRotationalShift dum_Qual  joiningmonth  \n",
       "0         1                        0        1             1  \n",
       "1         1                        0        1             1  \n",
       "2         1                        0        1             2  \n",
       "3         1                        0        1             2  \n",
       "4         1                        0        1             2  \n",
       "\n",
       "[5 rows x 43 columns]"
      ]
     },
     "execution_count": 5,
     "metadata": {},
     "output_type": "execute_result"
    }
   ],
   "source": [
    "rtrain.head()"
   ]
  },
  {
   "cell_type": "code",
   "execution_count": 6,
   "metadata": {},
   "outputs": [
    {
     "data": {
      "text/plain": [
       "1    1873\n",
       "0     474\n",
       "Name: Target, dtype: int64"
      ]
     },
     "execution_count": 6,
     "metadata": {},
     "output_type": "execute_result"
    }
   ],
   "source": [
    "rtrain.Target.value_counts()"
   ]
  },
  {
   "cell_type": "markdown",
   "metadata": {},
   "source": [
    "mod1<-glm(Target~ PinCode + IT + NoticePeriod +`Big four`+ `hike%` +\n",
    "           JoiningBonus + GoodsTransportationTravelEligibility + Stipend +\n",
    "           Experienced + IsNoticePeriodReimbursementProvided +\n",
    "           dum_hiretype + dum_rec + Age + dum_State +\n",
    "           dum_Source + dum_Department + dum_Joining_Center +\n",
    "           dum_Rank + dummy_IsRotationalShift + dum_Qual + joiningmonth ,data = train , family = \"binomial\")\n",
    "\n",
    "IT', 'NoticePeriod', 'Big four', 'hike%', 'JoiningBonus',\n",
    "       'Experienced', 'dum_hiretype', 'dum_title', 'dum_Source', 'dum_Rank',\n",
    "       'dummy_IsRotationalShift', 'dum_Qual', 'Target"
   ]
  },
  {
   "cell_type": "code",
   "execution_count": null,
   "metadata": {},
   "outputs": [],
   "source": []
  },
  {
   "cell_type": "code",
   "execution_count": 7,
   "metadata": {},
   "outputs": [],
   "source": [
    "X = rtrain[['Target','IT','NoticePeriod','Big four','hike','JoiningBonus','Experienced','dum_hiretype','Title',\n",
    "           'dum_Source','dum_Rank','dummy_IsRotationalShift',\n",
    "           'dum_Qual',]]\n"
   ]
  },
  {
   "cell_type": "code",
   "execution_count": 8,
   "metadata": {},
   "outputs": [
    {
     "data": {
      "text/html": [
       "<div>\n",
       "<style scoped>\n",
       "    .dataframe tbody tr th:only-of-type {\n",
       "        vertical-align: middle;\n",
       "    }\n",
       "\n",
       "    .dataframe tbody tr th {\n",
       "        vertical-align: top;\n",
       "    }\n",
       "\n",
       "    .dataframe thead th {\n",
       "        text-align: right;\n",
       "    }\n",
       "</style>\n",
       "<table border=\"1\" class=\"dataframe\">\n",
       "  <thead>\n",
       "    <tr style=\"text-align: right;\">\n",
       "      <th></th>\n",
       "      <th>Target</th>\n",
       "      <th>IT</th>\n",
       "      <th>NoticePeriod</th>\n",
       "      <th>Big four</th>\n",
       "      <th>hike</th>\n",
       "      <th>JoiningBonus</th>\n",
       "      <th>Experienced</th>\n",
       "      <th>dum_hiretype</th>\n",
       "      <th>Title</th>\n",
       "      <th>dum_Source</th>\n",
       "      <th>dum_Rank</th>\n",
       "      <th>dummy_IsRotationalShift</th>\n",
       "      <th>dum_Qual</th>\n",
       "    </tr>\n",
       "  </thead>\n",
       "  <tbody>\n",
       "    <tr>\n",
       "      <td>0</td>\n",
       "      <td>0</td>\n",
       "      <td>0</td>\n",
       "      <td>2</td>\n",
       "      <td>0</td>\n",
       "      <td>0.52</td>\n",
       "      <td>0</td>\n",
       "      <td>1</td>\n",
       "      <td>1</td>\n",
       "      <td>0</td>\n",
       "      <td>3</td>\n",
       "      <td>1</td>\n",
       "      <td>0</td>\n",
       "      <td>1</td>\n",
       "    </tr>\n",
       "    <tr>\n",
       "      <td>1</td>\n",
       "      <td>1</td>\n",
       "      <td>0</td>\n",
       "      <td>2</td>\n",
       "      <td>0</td>\n",
       "      <td>1.00</td>\n",
       "      <td>0</td>\n",
       "      <td>1</td>\n",
       "      <td>1</td>\n",
       "      <td>1</td>\n",
       "      <td>1</td>\n",
       "      <td>1</td>\n",
       "      <td>0</td>\n",
       "      <td>1</td>\n",
       "    </tr>\n",
       "    <tr>\n",
       "      <td>2</td>\n",
       "      <td>1</td>\n",
       "      <td>0</td>\n",
       "      <td>2</td>\n",
       "      <td>0</td>\n",
       "      <td>1.00</td>\n",
       "      <td>0</td>\n",
       "      <td>1</td>\n",
       "      <td>1</td>\n",
       "      <td>0</td>\n",
       "      <td>3</td>\n",
       "      <td>1</td>\n",
       "      <td>0</td>\n",
       "      <td>1</td>\n",
       "    </tr>\n",
       "    <tr>\n",
       "      <td>3</td>\n",
       "      <td>1</td>\n",
       "      <td>0</td>\n",
       "      <td>2</td>\n",
       "      <td>0</td>\n",
       "      <td>1.00</td>\n",
       "      <td>0</td>\n",
       "      <td>1</td>\n",
       "      <td>1</td>\n",
       "      <td>1</td>\n",
       "      <td>1</td>\n",
       "      <td>1</td>\n",
       "      <td>0</td>\n",
       "      <td>1</td>\n",
       "    </tr>\n",
       "    <tr>\n",
       "      <td>4</td>\n",
       "      <td>1</td>\n",
       "      <td>0</td>\n",
       "      <td>2</td>\n",
       "      <td>0</td>\n",
       "      <td>1.00</td>\n",
       "      <td>0</td>\n",
       "      <td>1</td>\n",
       "      <td>1</td>\n",
       "      <td>0</td>\n",
       "      <td>3</td>\n",
       "      <td>1</td>\n",
       "      <td>0</td>\n",
       "      <td>1</td>\n",
       "    </tr>\n",
       "  </tbody>\n",
       "</table>\n",
       "</div>"
      ],
      "text/plain": [
       "   Target  IT  NoticePeriod  Big four  hike  JoiningBonus  Experienced  \\\n",
       "0       0   0             2         0  0.52             0            1   \n",
       "1       1   0             2         0  1.00             0            1   \n",
       "2       1   0             2         0  1.00             0            1   \n",
       "3       1   0             2         0  1.00             0            1   \n",
       "4       1   0             2         0  1.00             0            1   \n",
       "\n",
       "   dum_hiretype  Title  dum_Source  dum_Rank  dummy_IsRotationalShift  \\\n",
       "0             1      0           3         1                        0   \n",
       "1             1      1           1         1                        0   \n",
       "2             1      0           3         1                        0   \n",
       "3             1      1           1         1                        0   \n",
       "4             1      0           3         1                        0   \n",
       "\n",
       "   dum_Qual  \n",
       "0         1  \n",
       "1         1  \n",
       "2         1  \n",
       "3         1  \n",
       "4         1  "
      ]
     },
     "execution_count": 8,
     "metadata": {},
     "output_type": "execute_result"
    }
   ],
   "source": [
    "X.head()"
   ]
  },
  {
   "cell_type": "code",
   "execution_count": 10,
   "metadata": {},
   "outputs": [],
   "source": [
    "#X1.dummy_IsRotationalShift.value_counts()"
   ]
  },
  {
   "cell_type": "code",
   "execution_count": 11,
   "metadata": {},
   "outputs": [],
   "source": [
    "X1 = X.drop('Target',axis=1)"
   ]
  },
  {
   "cell_type": "code",
   "execution_count": 12,
   "metadata": {},
   "outputs": [],
   "source": [
    "y = X.Target"
   ]
  },
  {
   "cell_type": "code",
   "execution_count": 13,
   "metadata": {},
   "outputs": [
    {
     "name": "stderr",
     "output_type": "stream",
     "text": [
      "C:\\Users\\madhan.s\\AppData\\Local\\Continuum\\anaconda3\\lib\\site-packages\\numpy\\core\\fromnumeric.py:2389: FutureWarning: Method .ptp is deprecated and will be removed in a future version. Use numpy.ptp instead.\n",
      "  return ptp(axis=axis, out=out, **kwargs)\n"
     ]
    }
   ],
   "source": [
    "X2 = add_constant(X1) # This is training set printed out from R (train.csv)\n",
    "lm = sm.GLM(y,X2,family=sm.families.Binomial(),)"
   ]
  },
  {
   "cell_type": "code",
   "execution_count": 61,
   "metadata": {},
   "outputs": [],
   "source": [
    "#sklearn.utils.random.sample_without_replacement()"
   ]
  },
  {
   "cell_type": "code",
   "execution_count": 56,
   "metadata": {},
   "outputs": [],
   "source": [
    "from random import randrange"
   ]
  },
  {
   "cell_type": "code",
   "execution_count": 65,
   "metadata": {},
   "outputs": [
    {
     "data": {
      "text/plain": [
       "2347"
      ]
     },
     "execution_count": 65,
     "metadata": {},
     "output_type": "execute_result"
    }
   ],
   "source": [
    "len(X1)"
   ]
  },
  {
   "cell_type": "code",
   "execution_count": 95,
   "metadata": {},
   "outputs": [
    {
     "data": {
      "text/plain": [
       "469.40000000000003"
      ]
     },
     "execution_count": 95,
     "metadata": {},
     "output_type": "execute_result"
    }
   ],
   "source": [
    "len(X1)*0.2"
   ]
  },
  {
   "cell_type": "code",
   "execution_count": 96,
   "metadata": {},
   "outputs": [],
   "source": [
    "cv = X1.sample(n=469,random_state=2,replace=False)"
   ]
  },
  {
   "cell_type": "code",
   "execution_count": 97,
   "metadata": {},
   "outputs": [
    {
     "data": {
      "text/plain": [
       "(469, 12)"
      ]
     },
     "execution_count": 97,
     "metadata": {},
     "output_type": "execute_result"
    }
   ],
   "source": [
    "cv.shape"
   ]
  },
  {
   "cell_type": "code",
   "execution_count": 98,
   "metadata": {},
   "outputs": [],
   "source": [
    "df = pd.concat([X1, cv])"
   ]
  },
  {
   "cell_type": "code",
   "execution_count": 99,
   "metadata": {},
   "outputs": [
    {
     "data": {
      "text/plain": [
       "1878"
      ]
     },
     "execution_count": 99,
     "metadata": {},
     "output_type": "execute_result"
    }
   ],
   "source": [
    "2347-469"
   ]
  },
  {
   "cell_type": "code",
   "execution_count": 100,
   "metadata": {},
   "outputs": [
    {
     "data": {
      "text/plain": [
       "1126"
      ]
     },
     "execution_count": 100,
     "metadata": {},
     "output_type": "execute_result"
    }
   ],
   "source": [
    "657+469"
   ]
  },
  {
   "cell_type": "code",
   "execution_count": 101,
   "metadata": {},
   "outputs": [],
   "source": [
    "df = df.drop_duplicates(keep=False)"
   ]
  },
  {
   "cell_type": "code",
   "execution_count": 102,
   "metadata": {},
   "outputs": [
    {
     "data": {
      "text/plain": [
       "(657, 12)"
      ]
     },
     "execution_count": 102,
     "metadata": {},
     "output_type": "execute_result"
    }
   ],
   "source": [
    "df.shape"
   ]
  },
  {
   "cell_type": "code",
   "execution_count": 117,
   "metadata": {},
   "outputs": [
    {
     "name": "stdout",
     "output_type": "stream",
     "text": [
      "Confusion_Matrix for Kfold [[ 52  45]\n",
      " [105 268]]\n",
      "Confusion_Matrix for Recall [0.53608247 0.71849866]\n",
      "Confusion_Matrix for Precision [0.33121019 0.85623003]\n",
      "Confusion_Matrix for Kfold [[ 54  36]\n",
      " [116 264]]\n",
      "Confusion_Matrix for Recall [0.6        0.69473684]\n",
      "Confusion_Matrix for Precision [0.31764706 0.88      ]\n",
      "Confusion_Matrix for Kfold [[ 48  40]\n",
      " [122 260]]\n",
      "Confusion_Matrix for Recall [0.54545455 0.68062827]\n",
      "Confusion_Matrix for Precision [0.28235294 0.86666667]\n",
      "Confusion_Matrix for Kfold [[ 61  43]\n",
      " [ 93 273]]\n",
      "Confusion_Matrix for Recall [0.58653846 0.74590164]\n",
      "Confusion_Matrix for Precision [0.3961039  0.86392405]\n",
      "Confusion_Matrix for Kfold [[ 67  30]\n",
      " [123 250]]\n",
      "Confusion_Matrix for Recall [0.69072165 0.67024129]\n",
      "Confusion_Matrix for Precision [0.35263158 0.89285714]\n",
      "Confusion_Matrix for Kfold [[ 51  40]\n",
      " [124 255]]\n",
      "Confusion_Matrix for Recall [0.56043956 0.67282322]\n",
      "Confusion_Matrix for Precision [0.29142857 0.86440678]\n",
      "Confusion_Matrix for Kfold [[ 58  38]\n",
      " [ 96 278]]\n",
      "Confusion_Matrix for Recall [0.60416667 0.74331551]\n",
      "Confusion_Matrix for Precision [0.37662338 0.87974684]\n",
      "Confusion_Matrix for Kfold [[ 52  36]\n",
      " [120 262]]\n",
      "Confusion_Matrix for Recall [0.59090909 0.68586387]\n",
      "Confusion_Matrix for Precision [0.30232558 0.87919463]\n",
      "Confusion_Matrix for Kfold [[ 51  35]\n",
      " [110 274]]\n",
      "Confusion_Matrix for Recall [0.59302326 0.71354167]\n",
      "Confusion_Matrix for Precision [0.31677019 0.88673139]\n",
      "Confusion_Matrix for Kfold [[ 56  35]\n",
      " [108 271]]\n",
      "Confusion_Matrix for Recall [0.61538462 0.71503958]\n",
      "Confusion_Matrix for Precision [0.34146341 0.88562092]\n"
     ]
    },
    {
     "data": {
      "text/plain": [
       "[<matplotlib.lines.Line2D at 0x228008c3c88>]"
      ]
     },
     "execution_count": 117,
     "metadata": {},
     "output_type": "execute_result"
    },
    {
     "data": {
      "image/png": "[encoded data removed]",
      "text/plain": [
       "<Figure size 432x288 with 1 Axes>"
      ]
     },
     "metadata": {
      "needs_background": "light"
     },
     "output_type": "display_data"
    }
   ],
   "source": [
    "re = []\n",
    "pre = []\n",
    "for k in range(1,11):\n",
    "    X_train, X_test, y_train, y_test = train_test_split(X1,y,random_state=k,test_size=.2) \n",
    "    lm = sm.GLM(y_train,X_train,family=sm.families.Binomial(),)\n",
    "    lm2=lm.fit()\n",
    "    ypred = lm2.predict(X_test)\n",
    "    t = ypred>.79\n",
    "    #print(X_test.head())\n",
    "    print(\"Confusion_Matrix for Kfold\",metrics.confusion_matrix(y_test,t))\n",
    "    print(\"Confusion_Matrix for Recall\",metrics.recall_score(y_test,t,average=None))\n",
    "    re.append(metrics.recall_score(y_test,t))\n",
    "    print(\"Confusion_Matrix for Precision\",metrics.precision_score(y_test,t,average=None))\n",
    "    pre.append(metrics.precision_score(y_test,t))\n",
    "plt.plot(re)"
   ]
  },
  {
   "cell_type": "code",
   "execution_count": 49,
   "metadata": {},
   "outputs": [],
   "source": [
    "#cross_val_score(lm,X2,y,cv=5)"
   ]
  },
  {
   "cell_type": "code",
   "execution_count": 14,
   "metadata": {},
   "outputs": [],
   "source": [
    "lm2=lm.fit()"
   ]
  },
  {
   "cell_type": "code",
   "execution_count": 15,
   "metadata": {},
   "outputs": [
    {
     "data": {
      "text/plain": [
       "2158.059129398882"
      ]
     },
     "execution_count": 15,
     "metadata": {},
     "output_type": "execute_result"
    }
   ],
   "source": [
    "lm2.aic"
   ]
  },
  {
   "cell_type": "code",
   "execution_count": 16,
   "metadata": {},
   "outputs": [
    {
     "name": "stderr",
     "output_type": "stream",
     "text": [
      "C:\\Users\\madhan.s\\AppData\\Local\\Continuum\\anaconda3\\lib\\site-packages\\statsmodels\\base\\model.py:1294: RuntimeWarning: invalid value encountered in true_divide\n",
      "  return self.params / self.bse\n",
      "C:\\Users\\madhan.s\\AppData\\Local\\Continuum\\anaconda3\\lib\\site-packages\\scipy\\stats\\_distn_infrastructure.py:901: RuntimeWarning: invalid value encountered in greater\n",
      "  return (a < x) & (x < b)\n",
      "C:\\Users\\madhan.s\\AppData\\Local\\Continuum\\anaconda3\\lib\\site-packages\\scipy\\stats\\_distn_infrastructure.py:901: RuntimeWarning: invalid value encountered in less\n",
      "  return (a < x) & (x < b)\n",
      "C:\\Users\\madhan.s\\AppData\\Local\\Continuum\\anaconda3\\lib\\site-packages\\scipy\\stats\\_distn_infrastructure.py:1892: RuntimeWarning: invalid value encountered in less_equal\n",
      "  cond2 = cond0 & (x <= _a)\n"
     ]
    },
    {
     "data": {
      "text/html": [
       "<table class=\"simpletable\">\n",
       "<tr>\n",
       "        <td>Model:</td>               <td>GLM</td>            <td>AIC:</td>        <td>2158.0591</td> \n",
       "</tr>\n",
       "<tr>\n",
       "    <td>Link Function:</td>          <td>logit</td>           <td>BIC:</td>       <td>-15987.6265</td>\n",
       "</tr>\n",
       "<tr>\n",
       "  <td>Dependent Variable:</td>      <td>Target</td>      <td>Log-Likelihood:</td>   <td>-1067.0</td>  \n",
       "</tr>\n",
       "<tr>\n",
       "         <td>Date:</td>        <td>2019-11-11 14:14</td>    <td>LL-Null:</td>       <td>-1180.8</td>  \n",
       "</tr>\n",
       "<tr>\n",
       "   <td>No. Observations:</td>        <td>2347</td>          <td>Deviance:</td>      <td>2134.1</td>   \n",
       "</tr>\n",
       "<tr>\n",
       "       <td>Df Model:</td>             <td>11</td>         <td>Pearson chi2:</td>   <td>2.40e+03</td>  \n",
       "</tr>\n",
       "<tr>\n",
       "     <td>Df Residuals:</td>          <td>2335</td>           <td>Scale:</td>        <td>1.0000</td>   \n",
       "</tr>\n",
       "<tr>\n",
       "        <td>Method:</td>             <td>IRLS</td>              <td></td>              <td></td>      \n",
       "</tr>\n",
       "</table>\n",
       "<table class=\"simpletable\">\n",
       "<tr>\n",
       "             <td></td>              <th>Coef.</th>  <th>Std.Err.</th>    <th>z</th>     <th>P>|z|</th> <th>[0.025</th>  <th>0.975]</th> \n",
       "</tr>\n",
       "<tr>\n",
       "  <th>const</th>                   <td>4.6160</td>   <td>1.0978</td>  <td>4.2048</td>  <td>0.0000</td> <td>2.4644</td>  <td>6.7676</td> \n",
       "</tr>\n",
       "<tr>\n",
       "  <th>IT</th>                      <td>-0.4867</td>  <td>0.1682</td>  <td>-2.8941</td> <td>0.0038</td> <td>-0.8163</td> <td>-0.1571</td>\n",
       "</tr>\n",
       "<tr>\n",
       "  <th>NoticePeriod</th>            <td>-1.8438</td>  <td>0.4975</td>  <td>-3.7063</td> <td>0.0002</td> <td>-2.8188</td> <td>-0.8688</td>\n",
       "</tr>\n",
       "<tr>\n",
       "  <th>Big four</th>                <td>-1.0589</td>  <td>0.1349</td>  <td>-7.8481</td> <td>0.0000</td> <td>-1.3233</td> <td>-0.7944</td>\n",
       "</tr>\n",
       "<tr>\n",
       "  <th>hike</th>                    <td>0.6340</td>   <td>0.1953</td>  <td>3.2464</td>  <td>0.0012</td> <td>0.2512</td>  <td>1.0168</td> \n",
       "</tr>\n",
       "<tr>\n",
       "  <th>JoiningBonus</th>            <td>1.1669</td>   <td>0.6342</td>  <td>1.8398</td>  <td>0.0658</td> <td>-0.0762</td> <td>2.4100</td> \n",
       "</tr>\n",
       "<tr>\n",
       "  <th>Experienced</th>             <td>-0.4384</td>  <td>0.2774</td>  <td>-1.5802</td> <td>0.1141</td> <td>-0.9821</td> <td>0.1053</td> \n",
       "</tr>\n",
       "<tr>\n",
       "  <th>dum_hiretype</th>            <td>1.0049</td>   <td>0.1834</td>  <td>5.4796</td>  <td>0.0000</td> <td>0.6455</td>  <td>1.3643</td> \n",
       "</tr>\n",
       "<tr>\n",
       "  <th>Title</th>                   <td>0.2156</td>   <td>0.1132</td>  <td>1.9054</td>  <td>0.0567</td> <td>-0.0062</td> <td>0.4374</td> \n",
       "</tr>\n",
       "<tr>\n",
       "  <th>dum_Source</th>              <td>-0.1011</td>  <td>0.0533</td>  <td>-1.8956</td> <td>0.0580</td> <td>-0.2056</td> <td>0.0034</td> \n",
       "</tr>\n",
       "<tr>\n",
       "  <th>dum_Rank</th>                <td>-0.2361</td>  <td>0.0817</td>  <td>-2.8908</td> <td>0.0038</td> <td>-0.3961</td> <td>-0.0760</td>\n",
       "</tr>\n",
       "<tr>\n",
       "  <th>dummy_IsRotationalShift</th> <td>0.0000</td>   <td>0.0000</td>    <td>nan</td>     <td>nan</td>  <td>0.0000</td>  <td>0.0000</td> \n",
       "</tr>\n",
       "<tr>\n",
       "  <th>dum_Qual</th>                <td>0.1952</td>   <td>0.0950</td>  <td>2.0539</td>  <td>0.0400</td> <td>0.0089</td>  <td>0.3814</td> \n",
       "</tr>\n",
       "</table>"
      ],
      "text/plain": [
       "<class 'statsmodels.iolib.summary2.Summary'>\n",
       "\"\"\"\n",
       "                   Results: Generalized linear model\n",
       "=======================================================================\n",
       "Model:                 GLM                AIC:              2158.0591  \n",
       "Link Function:         logit              BIC:              -15987.6265\n",
       "Dependent Variable:    Target             Log-Likelihood:   -1067.0    \n",
       "Date:                  2019-11-11 14:14   LL-Null:          -1180.8    \n",
       "No. Observations:      2347               Deviance:         2134.1     \n",
       "Df Model:              11                 Pearson chi2:     2.40e+03   \n",
       "Df Residuals:          2335               Scale:            1.0000     \n",
       "Method:                IRLS                                            \n",
       "-----------------------------------------------------------------------\n",
       "                         Coef.  Std.Err.    z    P>|z|   [0.025  0.975]\n",
       "-----------------------------------------------------------------------\n",
       "const                    4.6160   1.0978  4.2048 0.0000  2.4644  6.7676\n",
       "IT                      -0.4867   0.1682 -2.8941 0.0038 -0.8163 -0.1571\n",
       "NoticePeriod            -1.8438   0.4975 -3.7063 0.0002 -2.8188 -0.8688\n",
       "Big four                -1.0589   0.1349 -7.8481 0.0000 -1.3233 -0.7944\n",
       "hike                     0.6340   0.1953  3.2464 0.0012  0.2512  1.0168\n",
       "JoiningBonus             1.1669   0.6342  1.8398 0.0658 -0.0762  2.4100\n",
       "Experienced             -0.4384   0.2774 -1.5802 0.1141 -0.9821  0.1053\n",
       "dum_hiretype             1.0049   0.1834  5.4796 0.0000  0.6455  1.3643\n",
       "Title                    0.2156   0.1132  1.9054 0.0567 -0.0062  0.4374\n",
       "dum_Source              -0.1011   0.0533 -1.8956 0.0580 -0.2056  0.0034\n",
       "dum_Rank                -0.2361   0.0817 -2.8908 0.0038 -0.3961 -0.0760\n",
       "dummy_IsRotationalShift  0.0000   0.0000     nan    nan  0.0000  0.0000\n",
       "dum_Qual                 0.1952   0.0950  2.0539 0.0400  0.0089  0.3814\n",
       "=======================================================================\n",
       "\n",
       "\"\"\""
      ]
     },
     "execution_count": 16,
     "metadata": {},
     "output_type": "execute_result"
    }
   ],
   "source": [
    "lm2.summary2()"
   ]
  },
  {
   "cell_type": "code",
   "execution_count": 17,
   "metadata": {},
   "outputs": [
    {
     "name": "stdout",
     "output_type": "stream",
     "text": [
      "                 Generalized Linear Model Regression Results                  \n",
      "==============================================================================\n",
      "Dep. Variable:                 Target   No. Observations:                 2347\n",
      "Model:                            GLM   Df Residuals:                     2335\n",
      "Model Family:                Binomial   Df Model:                           11\n",
      "Link Function:                  logit   Scale:                          1.0000\n",
      "Method:                          IRLS   Log-Likelihood:                -1067.0\n",
      "Date:                Mon, 11 Nov 2019   Deviance:                       2134.1\n",
      "Time:                        14:14:03   Pearson chi2:                 2.40e+03\n",
      "No. Iterations:                     6                                         \n",
      "Covariance Type:            nonrobust                                         \n",
      "===========================================================================================\n",
      "                              coef    std err          z      P>|z|      [0.025      0.975]\n",
      "-------------------------------------------------------------------------------------------\n",
      "const                       4.6160      1.098      4.205      0.000       2.464       6.768\n",
      "IT                         -0.4867      0.168     -2.894      0.004      -0.816      -0.157\n",
      "NoticePeriod               -1.8438      0.497     -3.706      0.000      -2.819      -0.869\n",
      "Big four                   -1.0589      0.135     -7.848      0.000      -1.323      -0.794\n",
      "hike                        0.6340      0.195      3.246      0.001       0.251       1.017\n",
      "JoiningBonus                1.1669      0.634      1.840      0.066      -0.076       2.410\n",
      "Experienced                -0.4384      0.277     -1.580      0.114      -0.982       0.105\n",
      "dum_hiretype                1.0049      0.183      5.480      0.000       0.645       1.364\n",
      "Title                       0.2156      0.113      1.905      0.057      -0.006       0.437\n",
      "dum_Source                 -0.1011      0.053     -1.896      0.058      -0.206       0.003\n",
      "dum_Rank                   -0.2361      0.082     -2.891      0.004      -0.396      -0.076\n",
      "dummy_IsRotationalShift          0          0        nan        nan           0           0\n",
      "dum_Qual                    0.1952      0.095      2.054      0.040       0.009       0.381\n",
      "===========================================================================================\n"
     ]
    }
   ],
   "source": [
    "print(lm2.summary())"
   ]
  },
  {
   "cell_type": "code",
   "execution_count": 18,
   "metadata": {},
   "outputs": [],
   "source": [
    "rtest = pd.read_csv('Rtest.csv')"
   ]
  },
  {
   "cell_type": "code",
   "execution_count": 19,
   "metadata": {},
   "outputs": [],
   "source": [
    "X_test = rtest[['Target','IT','NoticePeriod','Big four','hike','JoiningBonus','Experienced','dum_hiretype','Title',\n",
    "           'dum_Source','dum_Rank','dummy_IsRotationalShift','dum_Qual']]"
   ]
  },
  {
   "cell_type": "code",
   "execution_count": 20,
   "metadata": {},
   "outputs": [],
   "source": [
    "y_test = X_test.Target"
   ]
  },
  {
   "cell_type": "code",
   "execution_count": 21,
   "metadata": {
    "scrolled": true
   },
   "outputs": [],
   "source": [
    "X_test1 = X_test.drop('Target',axis=1)"
   ]
  },
  {
   "cell_type": "code",
   "execution_count": 22,
   "metadata": {},
   "outputs": [],
   "source": [
    "X3 = sm.add_constant(X_test1)\n",
    "ypred = lm2.predict(X3)"
   ]
  },
  {
   "cell_type": "code",
   "execution_count": null,
   "metadata": {},
   "outputs": [],
   "source": []
  },
  {
   "cell_type": "code",
   "execution_count": null,
   "metadata": {},
   "outputs": [],
   "source": [
    "cross_val_score"
   ]
  },
  {
   "cell_type": "code",
   "execution_count": 23,
   "metadata": {},
   "outputs": [
    {
     "data": {
      "text/plain": [
       "Target                     1.00\n",
       "IT                         0.00\n",
       "NoticePeriod               2.00\n",
       "Big four                   1.00\n",
       "hike                       0.36\n",
       "JoiningBonus               0.00\n",
       "Experienced                1.00\n",
       "dum_hiretype               1.00\n",
       "Title                      1.00\n",
       "dum_Source                 2.00\n",
       "dum_Rank                   2.00\n",
       "dummy_IsRotationalShift    0.00\n",
       "dum_Qual                   3.00\n",
       "Name: 0, dtype: float64"
      ]
     },
     "execution_count": 23,
     "metadata": {},
     "output_type": "execute_result"
    }
   ],
   "source": [
    "X_test.iloc[0]"
   ]
  },
  {
   "cell_type": "code",
   "execution_count": 24,
   "metadata": {},
   "outputs": [
    {
     "data": {
      "text/plain": [
       "0       0.688064\n",
       "1       0.836436\n",
       "2       0.518519\n",
       "3       0.653473\n",
       "4       0.696858\n",
       "          ...   \n",
       "1002    0.872229\n",
       "1003    0.908012\n",
       "1004    0.986011\n",
       "1005    0.880923\n",
       "1006    0.687402\n",
       "Length: 1007, dtype: float64"
      ]
     },
     "execution_count": 24,
     "metadata": {},
     "output_type": "execute_result"
    }
   ],
   "source": [
    "ypred"
   ]
  },
  {
   "cell_type": "code",
   "execution_count": 25,
   "metadata": {},
   "outputs": [
    {
     "data": {
      "text/plain": [
       "0.8005183637470275"
      ]
     },
     "execution_count": 25,
     "metadata": {},
     "output_type": "execute_result"
    }
   ],
   "source": [
    "ypred.mean()"
   ]
  },
  {
   "cell_type": "code",
   "execution_count": 26,
   "metadata": {},
   "outputs": [],
   "source": [
    "\n",
    "t = ypred>.79"
   ]
  },
  {
   "cell_type": "code",
   "execution_count": 27,
   "metadata": {},
   "outputs": [
    {
     "data": {
      "text/plain": [
       "True     663\n",
       "False    344\n",
       "dtype: int64"
      ]
     },
     "execution_count": 27,
     "metadata": {},
     "output_type": "execute_result"
    }
   ],
   "source": [
    "t.value_counts()"
   ]
  },
  {
   "cell_type": "code",
   "execution_count": 28,
   "metadata": {},
   "outputs": [
    {
     "name": "stdout",
     "output_type": "stream",
     "text": [
      "[[141  74]\n",
      " [203 589]]\n",
      "[0.65581395 0.74368687]\n",
      "[0.40988372 0.88838612]\n"
     ]
    }
   ],
   "source": [
    "print(metrics.confusion_matrix(y_test,t))\n",
    "print(metrics.recall_score(y_test,t,average=None))\n",
    "print(metrics.precision_score(y_test,t,average=None))"
   ]
  },
  {
   "cell_type": "markdown",
   "metadata": {},
   "source": [
    "### September Data"
   ]
  },
  {
   "cell_type": "code",
   "execution_count": 29,
   "metadata": {},
   "outputs": [],
   "source": [
    "rsept = pd.read_excel('rseptdata.xlsx',sheet_name='Sheet2')"
   ]
  },
  {
   "cell_type": "code",
   "execution_count": 30,
   "metadata": {},
   "outputs": [
    {
     "data": {
      "text/plain": [
       "Index(['IT', 'NoticePeriod', 'Big four', 'hike%', 'JoiningBonus',\n",
       "       'Experienced', 'dum_hiretype', 'dum_title', 'dum_Source', 'dum_Rank',\n",
       "       'dummy_IsRotationalShift', 'dum_Qual', 'Target'],\n",
       "      dtype='object')"
      ]
     },
     "execution_count": 30,
     "metadata": {},
     "output_type": "execute_result"
    }
   ],
   "source": [
    "rsept.columns"
   ]
  },
  {
   "cell_type": "code",
   "execution_count": 31,
   "metadata": {},
   "outputs": [],
   "source": [
    "y_rsept = rsept.Target"
   ]
  },
  {
   "cell_type": "code",
   "execution_count": 32,
   "metadata": {},
   "outputs": [],
   "source": [
    "x_sept_test = rsept.drop('Target',axis=1)"
   ]
  },
  {
   "cell_type": "code",
   "execution_count": 34,
   "metadata": {},
   "outputs": [],
   "source": [
    "#X4 = sm.add_constant(x_sept_test)\n",
    "#ypred = lm2.predict(x_sept_test)"
   ]
  },
  {
   "cell_type": "code",
   "execution_count": 35,
   "metadata": {},
   "outputs": [
    {
     "data": {
      "text/plain": [
       "const                      4.616004\n",
       "IT                        -0.486684\n",
       "NoticePeriod              -1.843797\n",
       "Big four                  -1.058896\n",
       "hike                       0.634022\n",
       "JoiningBonus               1.166863\n",
       "Experienced               -0.438385\n",
       "dum_hiretype               1.004896\n",
       "Title                      0.215610\n",
       "dum_Source                -0.101108\n",
       "dum_Rank                  -0.236057\n",
       "dummy_IsRotationalShift    0.000000\n",
       "dum_Qual                   0.195177\n",
       "dtype: float64"
      ]
     },
     "execution_count": 35,
     "metadata": {},
     "output_type": "execute_result"
    }
   ],
   "source": [
    "lm2.params"
   ]
  },
  {
   "cell_type": "code",
   "execution_count": 36,
   "metadata": {},
   "outputs": [
    {
     "data": {
      "text/plain": [
       "0.8005183637470275"
      ]
     },
     "execution_count": 36,
     "metadata": {},
     "output_type": "execute_result"
    }
   ],
   "source": [
    "ypred.mean()"
   ]
  },
  {
   "cell_type": "code",
   "execution_count": 37,
   "metadata": {},
   "outputs": [],
   "source": [
    "t = ypred>.86"
   ]
  },
  {
   "cell_type": "code",
   "execution_count": 38,
   "metadata": {},
   "outputs": [
    {
     "ename": "ValueError",
     "evalue": "Found input variables with inconsistent numbers of samples: [271, 1007]",
     "output_type": "error",
     "traceback": [
      "\u001b[1;31m---------------------------------------------------------------------------\u001b[0m",
      "\u001b[1;31mValueError\u001b[0m                                Traceback (most recent call last)",
      "\u001b[1;32m<ipython-input-38-97ed55309ff6>\u001b[0m in \u001b[0;36m<module>\u001b[1;34m\u001b[0m\n\u001b[1;32m----> 1\u001b[1;33m \u001b[0mprint\u001b[0m\u001b[1;33m(\u001b[0m\u001b[0mmetrics\u001b[0m\u001b[1;33m.\u001b[0m\u001b[0maccuracy_score\u001b[0m\u001b[1;33m(\u001b[0m\u001b[0my_rsept\u001b[0m\u001b[1;33m,\u001b[0m\u001b[0mt\u001b[0m\u001b[1;33m)\u001b[0m\u001b[1;33m)\u001b[0m\u001b[1;33m\u001b[0m\u001b[1;33m\u001b[0m\u001b[0m\n\u001b[0m\u001b[0;32m      2\u001b[0m \u001b[0mprint\u001b[0m\u001b[1;33m(\u001b[0m\u001b[0mmetrics\u001b[0m\u001b[1;33m.\u001b[0m\u001b[0mconfusion_matrix\u001b[0m\u001b[1;33m(\u001b[0m\u001b[0my_rsept\u001b[0m\u001b[1;33m,\u001b[0m\u001b[0mt\u001b[0m\u001b[1;33m)\u001b[0m\u001b[1;33m)\u001b[0m\u001b[1;33m\u001b[0m\u001b[1;33m\u001b[0m\u001b[0m\n\u001b[0;32m      3\u001b[0m \u001b[0mprint\u001b[0m\u001b[1;33m(\u001b[0m\u001b[0mmetrics\u001b[0m\u001b[1;33m.\u001b[0m\u001b[0mrecall_score\u001b[0m\u001b[1;33m(\u001b[0m\u001b[0my_rsept\u001b[0m\u001b[1;33m,\u001b[0m\u001b[0mt\u001b[0m\u001b[1;33m,\u001b[0m\u001b[0maverage\u001b[0m\u001b[1;33m=\u001b[0m\u001b[1;32mNone\u001b[0m\u001b[1;33m)\u001b[0m\u001b[1;33m)\u001b[0m\u001b[1;33m\u001b[0m\u001b[1;33m\u001b[0m\u001b[0m\n\u001b[0;32m      4\u001b[0m \u001b[0mprint\u001b[0m\u001b[1;33m(\u001b[0m\u001b[0mmetrics\u001b[0m\u001b[1;33m.\u001b[0m\u001b[0mprecision_score\u001b[0m\u001b[1;33m(\u001b[0m\u001b[0my_rsept\u001b[0m\u001b[1;33m,\u001b[0m\u001b[0mt\u001b[0m\u001b[1;33m,\u001b[0m\u001b[0maverage\u001b[0m\u001b[1;33m=\u001b[0m\u001b[1;32mNone\u001b[0m\u001b[1;33m)\u001b[0m\u001b[1;33m)\u001b[0m\u001b[1;33m\u001b[0m\u001b[1;33m\u001b[0m\u001b[0m\n",
      "\u001b[1;32m~\\AppData\\Local\\Continuum\\anaconda3\\lib\\site-packages\\sklearn\\metrics\\classification.py\u001b[0m in \u001b[0;36maccuracy_score\u001b[1;34m(y_true, y_pred, normalize, sample_weight)\u001b[0m\n\u001b[0;32m    174\u001b[0m \u001b[1;33m\u001b[0m\u001b[0m\n\u001b[0;32m    175\u001b[0m     \u001b[1;31m# Compute accuracy for each possible representation\u001b[0m\u001b[1;33m\u001b[0m\u001b[1;33m\u001b[0m\u001b[1;33m\u001b[0m\u001b[0m\n\u001b[1;32m--> 176\u001b[1;33m     \u001b[0my_type\u001b[0m\u001b[1;33m,\u001b[0m \u001b[0my_true\u001b[0m\u001b[1;33m,\u001b[0m \u001b[0my_pred\u001b[0m \u001b[1;33m=\u001b[0m \u001b[0m_check_targets\u001b[0m\u001b[1;33m(\u001b[0m\u001b[0my_true\u001b[0m\u001b[1;33m,\u001b[0m \u001b[0my_pred\u001b[0m\u001b[1;33m)\u001b[0m\u001b[1;33m\u001b[0m\u001b[1;33m\u001b[0m\u001b[0m\n\u001b[0m\u001b[0;32m    177\u001b[0m     \u001b[0mcheck_consistent_length\u001b[0m\u001b[1;33m(\u001b[0m\u001b[0my_true\u001b[0m\u001b[1;33m,\u001b[0m \u001b[0my_pred\u001b[0m\u001b[1;33m,\u001b[0m \u001b[0msample_weight\u001b[0m\u001b[1;33m)\u001b[0m\u001b[1;33m\u001b[0m\u001b[1;33m\u001b[0m\u001b[0m\n\u001b[0;32m    178\u001b[0m     \u001b[1;32mif\u001b[0m \u001b[0my_type\u001b[0m\u001b[1;33m.\u001b[0m\u001b[0mstartswith\u001b[0m\u001b[1;33m(\u001b[0m\u001b[1;34m'multilabel'\u001b[0m\u001b[1;33m)\u001b[0m\u001b[1;33m:\u001b[0m\u001b[1;33m\u001b[0m\u001b[1;33m\u001b[0m\u001b[0m\n",
      "\u001b[1;32m~\\AppData\\Local\\Continuum\\anaconda3\\lib\\site-packages\\sklearn\\metrics\\classification.py\u001b[0m in \u001b[0;36m_check_targets\u001b[1;34m(y_true, y_pred)\u001b[0m\n\u001b[0;32m     69\u001b[0m     \u001b[0my_pred\u001b[0m \u001b[1;33m:\u001b[0m \u001b[0marray\u001b[0m \u001b[1;32mor\u001b[0m \u001b[0mindicator\u001b[0m \u001b[0mmatrix\u001b[0m\u001b[1;33m\u001b[0m\u001b[1;33m\u001b[0m\u001b[0m\n\u001b[0;32m     70\u001b[0m     \"\"\"\n\u001b[1;32m---> 71\u001b[1;33m     \u001b[0mcheck_consistent_length\u001b[0m\u001b[1;33m(\u001b[0m\u001b[0my_true\u001b[0m\u001b[1;33m,\u001b[0m \u001b[0my_pred\u001b[0m\u001b[1;33m)\u001b[0m\u001b[1;33m\u001b[0m\u001b[1;33m\u001b[0m\u001b[0m\n\u001b[0m\u001b[0;32m     72\u001b[0m     \u001b[0mtype_true\u001b[0m \u001b[1;33m=\u001b[0m \u001b[0mtype_of_target\u001b[0m\u001b[1;33m(\u001b[0m\u001b[0my_true\u001b[0m\u001b[1;33m)\u001b[0m\u001b[1;33m\u001b[0m\u001b[1;33m\u001b[0m\u001b[0m\n\u001b[0;32m     73\u001b[0m     \u001b[0mtype_pred\u001b[0m \u001b[1;33m=\u001b[0m \u001b[0mtype_of_target\u001b[0m\u001b[1;33m(\u001b[0m\u001b[0my_pred\u001b[0m\u001b[1;33m)\u001b[0m\u001b[1;33m\u001b[0m\u001b[1;33m\u001b[0m\u001b[0m\n",
      "\u001b[1;32m~\\AppData\\Local\\Continuum\\anaconda3\\lib\\site-packages\\sklearn\\utils\\validation.py\u001b[0m in \u001b[0;36mcheck_consistent_length\u001b[1;34m(*arrays)\u001b[0m\n\u001b[0;32m    203\u001b[0m     \u001b[1;32mif\u001b[0m \u001b[0mlen\u001b[0m\u001b[1;33m(\u001b[0m\u001b[0muniques\u001b[0m\u001b[1;33m)\u001b[0m \u001b[1;33m>\u001b[0m \u001b[1;36m1\u001b[0m\u001b[1;33m:\u001b[0m\u001b[1;33m\u001b[0m\u001b[1;33m\u001b[0m\u001b[0m\n\u001b[0;32m    204\u001b[0m         raise ValueError(\"Found input variables with inconsistent numbers of\"\n\u001b[1;32m--> 205\u001b[1;33m                          \" samples: %r\" % [int(l) for l in lengths])\n\u001b[0m\u001b[0;32m    206\u001b[0m \u001b[1;33m\u001b[0m\u001b[0m\n\u001b[0;32m    207\u001b[0m \u001b[1;33m\u001b[0m\u001b[0m\n",
      "\u001b[1;31mValueError\u001b[0m: Found input variables with inconsistent numbers of samples: [271, 1007]"
     ]
    }
   ],
   "source": [
    "\n",
    "print(metrics.accuracy_score(y_rsept,t))\n",
    "print(metrics.confusion_matrix(y_rsept,t))\n",
    "print(metrics.recall_score(y_rsept,t,average=None))\n",
    "print(metrics.precision_score(y_rsept,t,average=None))"
   ]
  },
  {
   "cell_type": "code",
   "execution_count": null,
   "metadata": {},
   "outputs": [],
   "source": [
    "t.value_counts()"
   ]
  },
  {
   "cell_type": "code",
   "execution_count": null,
   "metadata": {},
   "outputs": [],
   "source": [
    "#type(ypred)"
   ]
  },
  {
   "cell_type": "code",
   "execution_count": null,
   "metadata": {},
   "outputs": [],
   "source": [
    "#ypred = ypred.reshape(-1,1)"
   ]
  },
  {
   "cell_type": "code",
   "execution_count": null,
   "metadata": {},
   "outputs": [],
   "source": [
    "522+270"
   ]
  },
  {
   "cell_type": "code",
   "execution_count": null,
   "metadata": {
    "scrolled": true
   },
   "outputs": [],
   "source": [
    "765+27"
   ]
  },
  {
   "cell_type": "code",
   "execution_count": null,
   "metadata": {},
   "outputs": [],
   "source": [
    "from sklearn.linear_model import LinearRegression"
   ]
  },
  {
   "cell_type": "code",
   "execution_count": null,
   "metadata": {},
   "outputs": [],
   "source": [
    "\n"
   ]
  },
  {
   "cell_type": "code",
   "execution_count": null,
   "metadata": {},
   "outputs": [],
   "source": [
    "lm3 = LinearRegression()"
   ]
  },
  {
   "cell_type": "code",
   "execution_count": null,
   "metadata": {},
   "outputs": [],
   "source": [
    "lm3.fit(X1,y)"
   ]
  },
  {
   "cell_type": "code",
   "execution_count": null,
   "metadata": {},
   "outputs": [],
   "source": [
    "lm3.score(X1,y)"
   ]
  },
  {
   "cell_type": "code",
   "execution_count": null,
   "metadata": {},
   "outputs": [],
   "source": [
    "X_test.head()"
   ]
  },
  {
   "cell_type": "code",
   "execution_count": null,
   "metadata": {},
   "outputs": [],
   "source": [
    "pred = lm3.predict(X_test1)"
   ]
  },
  {
   "cell_type": "code",
   "execution_count": null,
   "metadata": {},
   "outputs": [],
   "source": [
    "pred.mean()"
   ]
  },
  {
   "cell_type": "code",
   "execution_count": null,
   "metadata": {},
   "outputs": [],
   "source": [
    "t = pred>.79"
   ]
  },
  {
   "cell_type": "code",
   "execution_count": null,
   "metadata": {},
   "outputs": [],
   "source": [
    "print(metrics.confusion_matrix(y_test,t))\n",
    "print(metrics.accuracy_score(y_test,t))\n",
    "print(metrics.recall_score(y_test,t,average=None))"
   ]
  },
  {
   "cell_type": "code",
   "execution_count": null,
   "metadata": {},
   "outputs": [],
   "source": [
    "x_sept_test.shape"
   ]
  },
  {
   "cell_type": "code",
   "execution_count": null,
   "metadata": {},
   "outputs": [],
   "source": [
    "pred = lm3.predict(x_sept_test)"
   ]
  },
  {
   "cell_type": "code",
   "execution_count": null,
   "metadata": {},
   "outputs": [],
   "source": [
    "lm3.coef_"
   ]
  },
  {
   "cell_type": "code",
   "execution_count": null,
   "metadata": {},
   "outputs": [],
   "source": [
    "lm3."
   ]
  },
  {
   "cell_type": "code",
   "execution_count": null,
   "metadata": {},
   "outputs": [],
   "source": [
    "t = pred > pred.mean()"
   ]
  },
  {
   "cell_type": "code",
   "execution_count": null,
   "metadata": {},
   "outputs": [],
   "source": [
    "pred.mean()"
   ]
  },
  {
   "cell_type": "code",
   "execution_count": null,
   "metadata": {},
   "outputs": [],
   "source": [
    "print(metrics.confusion_matrix(y_rsept,t))\n",
    "print(metrics.accuracy_score(y_rsept,t))\n",
    "print(metrics.recall_score(y_rsept,t,average=None))"
   ]
  },
  {
   "cell_type": "code",
   "execution_count": null,
   "metadata": {},
   "outputs": [],
   "source": [
    "from sklearn.linear_model import Ridge\n",
    "from sklearn import linear_model\n"
   ]
  },
  {
   "cell_type": "code",
   "execution_count": null,
   "metadata": {},
   "outputs": [],
   "source": [
    "clf = Ridge(alpha=5)\n",
    "lasso = linear_model.Lasso(alpha=0.1)"
   ]
  },
  {
   "cell_type": "code",
   "execution_count": null,
   "metadata": {},
   "outputs": [],
   "source": [
    "clf.fit(X1,y)\n",
    "lasso.fit(X1,y)"
   ]
  },
  {
   "cell_type": "code",
   "execution_count": null,
   "metadata": {},
   "outputs": [],
   "source": [
    "clf.score(X1,y)\n",
    "lasso.score(X1,y)"
   ]
  },
  {
   "cell_type": "code",
   "execution_count": null,
   "metadata": {},
   "outputs": [],
   "source": [
    "pred = clf.predict(X_test1)\n",
    "pred_sept = clf.predict(x_sept_test)"
   ]
  },
  {
   "cell_type": "code",
   "execution_count": null,
   "metadata": {},
   "outputs": [],
   "source": [
    "print(pred.mean())\n",
    "print(pred_sept.mean())"
   ]
  },
  {
   "cell_type": "code",
   "execution_count": null,
   "metadata": {},
   "outputs": [],
   "source": [
    "t = pred>.79\n",
    "tsept = pred_sept>.85"
   ]
  },
  {
   "cell_type": "code",
   "execution_count": null,
   "metadata": {},
   "outputs": [],
   "source": [
    "print(metrics.confusion_matrix(y_test,t))\n",
    "print(metrics.accuracy_score(y_test,t))\n",
    "print(metrics.recall_score(y_test,t,average=None))"
   ]
  },
  {
   "cell_type": "code",
   "execution_count": null,
   "metadata": {},
   "outputs": [],
   "source": [
    "print(metrics.confusion_matrix(y_rsept,tsept))\n",
    "print(metrics.accuracy_score(y_rsept,tsept))\n",
    "print(metrics.recall_score(y_rsept,tsept,average=None))"
   ]
  },
  {
   "cell_type": "code",
   "execution_count": null,
   "metadata": {},
   "outputs": [],
   "source": [
    "import tensorflow\n",
    "tf.__version__\n"
   ]
  },
  {
   "cell_type": "code",
   "execution_count": null,
   "metadata": {},
   "outputs": [],
   "source": [
    "import tensorflow.keras"
   ]
  },
  {
   "cell_type": "code",
   "execution_count": null,
   "metadata": {},
   "outputs": [],
   "source": [
    "tensorflow.__version__"
   ]
  },
  {
   "cell_type": "code",
   "execution_count": null,
   "metadata": {},
   "outputs": [],
   "source": [
    "from headliner.trainer import Trainer"
   ]
  },
  {
   "cell_type": "code",
   "execution_count": null,
   "metadata": {},
   "outputs": [],
   "source": [
    "from headliner.model.summarizer_transformer import SummarizerTransformer"
   ]
  },
  {
   "cell_type": "code",
   "execution_count": null,
   "metadata": {},
   "outputs": [],
   "source": [
    "data = [('You are the stars, earth and sky for me!', 'I love you.'),\n",
    "        ('You are great, but I have other plans.', 'I like you.')]\n",
    "\n",
    "summarizer = SummarizerTransformer(embedding_size=64, max_prediction_len=20)\n",
    "trainer = Trainer(batch_size=2, steps_per_epoch=100)\n",
    "trainer.train(summarizer\n",
    "              , data, num_epochs=2)\n",
    "summarizer.save('/tmp/summarizer')"
   ]
  },
  {
   "cell_type": "code",
   "execution_count": null,
   "metadata": {},
   "outputs": [],
   "source": []
  },
  {
   "cell_type": "code",
   "execution_count": null,
   "metadata": {},
   "outputs": [],
   "source": []
  }
 ],
 "metadata": {
  "kernelspec": {
   "display_name": "Python 3",
   "language": "python",
   "name": "python3"
  },
  "language_info": {
   "codemirror_mode": {
    "name": "ipython",
    "version": 3
   },
   "file_extension": ".py",
   "mimetype": "text/x-python",
   "name": "python",
   "nbconvert_exporter": "python",
   "pygments_lexer": "ipython3",
   "version": "3.7.4"
  }
 },
 "nbformat": 4,
 "nbformat_minor": 2
}
