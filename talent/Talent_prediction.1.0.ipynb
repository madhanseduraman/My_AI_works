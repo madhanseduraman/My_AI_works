{
 "cells": [
  {
   "cell_type": "raw",
   "metadata": {},
   "source": [
    "import pandas as pd\n",
    "import numpy as np\n",
    "from sklearn.feature_extraction.text import CountVectorizer\n",
    "from sklearn.feature_extraction.text import TfidfVectorizer\n",
    "from sklearn.cluster import KMeans\n",
    "from sklearn.decomposition import PCA\n",
    "from sklearn.decomposition import TruncatedSVD\n",
    "from sklearn.ensemble import RandomForestClassifier\n",
    "from sklearn.linear_model.logistic import LogisticRegression\n",
    "from sklearn.linear_model import LinearRegression\n",
    "from sklearn.neighbors import KNeighborsClassifier\n",
    "from sklearn import metrics\n",
    "from sklearn import preprocessing\n",
    "\n",
    "from sklearn.naive_bayes import MultinomialNB\n",
    "from sklearn.preprocessing import Normalizer\n",
    "from sklearn.preprocessing import StandardScaler\n",
    "from sklearn import metrics\n",
    "import pandas as pd\n",
    "import numpy as np\n",
    "from sklearn.feature_extraction.text import TfidfVectorizer\n",
    "from sklearn.linear_model import LogisticRegression\n",
    "from sklearn import preprocessing\n",
    "from sklearn.model_selection import train_test_split\n",
    "\n",
    "from sklearn.naive_bayes import MultinomialNB\n",
    "from sklearn.ensemble import RandomForestClassifier\n",
    "from sklearn.svm import LinearSVC\n",
    "from sklearn.model_selection import cross_val_score\n",
    "%matplotlib notebook\n",
    "import numpy as np\n",
    "import matplotlib.pyplot as plt\n",
    "\n",
    "import sklearn.metrics as metrics\n"
   ]
  },
  {
   "cell_type": "code",
   "execution_count": 703,
   "metadata": {},
   "outputs": [],
   "source": [
    "df =  pd.read_csv(r'C:\\Users\\Nisha.Nath\\Documents\\Talent\\Data.csv')\n"
   ]
  },
  {
   "cell_type": "code",
   "execution_count": 704,
   "metadata": {},
   "outputs": [
    {
     "data": {
      "text/plain": [
       "Index(['OfferId', 'OverallStatus', 'Status', 'Hiretype', 'RecruiterGPN',\n",
       "       'Title', 'DateOfBirth', 'Original State', 'PinCode', 'Source',\n",
       "       'Department', 'IT', 'Joining Center', 'Facility', 'Rank',\n",
       "       'IsRotationalShift', 'NoticePeriod', 'Qualification1', 'Big four',\n",
       "       'DAndI', 'hike%', 'JoiningBonus',\n",
       "       'GoodsTransportationTravelEligibility', 'Stipend', 'Experienced',\n",
       "       'IsNoticePeriodReimbursementProvided', 'ExpectedJoiningDate',\n",
       "       'ActualJoiningDate'],\n",
       "      dtype='object')"
      ]
     },
     "execution_count": 704,
     "metadata": {},
     "output_type": "execute_result"
    }
   ],
   "source": [
    "df.columns"
   ]
  },
  {
   "cell_type": "code",
   "execution_count": 705,
   "metadata": {},
   "outputs": [
    {
     "name": "stdout",
     "output_type": "stream",
     "text": [
      "<class 'pandas.core.frame.DataFrame'>\n",
      "RangeIndex: 3354 entries, 0 to 3353\n",
      "Data columns (total 28 columns):\n",
      "OfferId                                 3354 non-null int64\n",
      "OverallStatus                           3354 non-null object\n",
      "Status                                  3354 non-null object\n",
      "Hiretype                                3354 non-null object\n",
      "RecruiterGPN                            3354 non-null object\n",
      "Title                                   3354 non-null object\n",
      "DateOfBirth                             3354 non-null object\n",
      "Original State                          3354 non-null object\n",
      "PinCode                                 3354 non-null int64\n",
      "Source                                  3354 non-null object\n",
      "Department                              3354 non-null object\n",
      "IT                                      3354 non-null int64\n",
      "Joining Center                          3354 non-null object\n",
      "Facility                                3354 non-null object\n",
      "Rank                                    3354 non-null int64\n",
      "IsRotationalShift                       3354 non-null bool\n",
      "NoticePeriod                            3354 non-null int64\n",
      "Qualification1                          3354 non-null object\n",
      "Big four                                3354 non-null int64\n",
      "DAndI                                   3354 non-null int64\n",
      "hike%                                   3354 non-null object\n",
      "JoiningBonus                            3354 non-null int64\n",
      "GoodsTransportationTravelEligibility    3354 non-null int64\n",
      "Stipend                                 3354 non-null int64\n",
      "Experienced                             3354 non-null int64\n",
      "IsNoticePeriodReimbursementProvided     3326 non-null object\n",
      "ExpectedJoiningDate                     3354 non-null object\n",
      "ActualJoiningDate                       2667 non-null object\n",
      "dtypes: bool(1), int64(11), object(16)\n",
      "memory usage: 501.2+ KB\n"
     ]
    }
   ],
   "source": [
    "df.info()"
   ]
  },
  {
   "cell_type": "code",
   "execution_count": 706,
   "metadata": {},
   "outputs": [
    {
     "data": {
      "text/html": [
       "<div>\n",
       "<style scoped>\n",
       "    .dataframe tbody tr th:only-of-type {\n",
       "        vertical-align: middle;\n",
       "    }\n",
       "\n",
       "    .dataframe tbody tr th {\n",
       "        vertical-align: top;\n",
       "    }\n",
       "\n",
       "    .dataframe thead th {\n",
       "        text-align: right;\n",
       "    }\n",
       "</style>\n",
       "<table border=\"1\" class=\"dataframe\">\n",
       "  <thead>\n",
       "    <tr style=\"text-align: right;\">\n",
       "      <th></th>\n",
       "      <th>OfferId</th>\n",
       "      <th>OverallStatus</th>\n",
       "      <th>Status</th>\n",
       "      <th>Hiretype</th>\n",
       "      <th>RecruiterGPN</th>\n",
       "      <th>Title</th>\n",
       "      <th>DateOfBirth</th>\n",
       "      <th>Original State</th>\n",
       "      <th>PinCode</th>\n",
       "      <th>Source</th>\n",
       "      <th>...</th>\n",
       "      <th>Big four</th>\n",
       "      <th>DAndI</th>\n",
       "      <th>hike%</th>\n",
       "      <th>JoiningBonus</th>\n",
       "      <th>GoodsTransportationTravelEligibility</th>\n",
       "      <th>Stipend</th>\n",
       "      <th>Experienced</th>\n",
       "      <th>IsNoticePeriodReimbursementProvided</th>\n",
       "      <th>ExpectedJoiningDate</th>\n",
       "      <th>ActualJoiningDate</th>\n",
       "    </tr>\n",
       "  </thead>\n",
       "  <tbody>\n",
       "    <tr>\n",
       "      <td>0</td>\n",
       "      <td>20658</td>\n",
       "      <td>Joined</td>\n",
       "      <td>OfferAccepted</td>\n",
       "      <td>New Employee</td>\n",
       "      <td>XE020M42382</td>\n",
       "      <td>Mr</td>\n",
       "      <td>15-11-1985</td>\n",
       "      <td>Karnataka</td>\n",
       "      <td>560016</td>\n",
       "      <td>EMPLOYEE REFERRAL</td>\n",
       "      <td>...</td>\n",
       "      <td>1</td>\n",
       "      <td>0</td>\n",
       "      <td>33%</td>\n",
       "      <td>0</td>\n",
       "      <td>0</td>\n",
       "      <td>0</td>\n",
       "      <td>1</td>\n",
       "      <td>0</td>\n",
       "      <td>02-07-2018</td>\n",
       "      <td>02-07-2018</td>\n",
       "    </tr>\n",
       "    <tr>\n",
       "      <td>1</td>\n",
       "      <td>21331</td>\n",
       "      <td>Joined</td>\n",
       "      <td>OfferAccepted</td>\n",
       "      <td>New Employee</td>\n",
       "      <td>XE020M42382</td>\n",
       "      <td>Mr</td>\n",
       "      <td>01-02-1981</td>\n",
       "      <td>Karnataka</td>\n",
       "      <td>560037</td>\n",
       "      <td>PORTAL</td>\n",
       "      <td>...</td>\n",
       "      <td>0</td>\n",
       "      <td>0</td>\n",
       "      <td>31%</td>\n",
       "      <td>0</td>\n",
       "      <td>0</td>\n",
       "      <td>0</td>\n",
       "      <td>1</td>\n",
       "      <td>0</td>\n",
       "      <td>30-07-2018</td>\n",
       "      <td>30-07-2018</td>\n",
       "    </tr>\n",
       "    <tr>\n",
       "      <td>2</td>\n",
       "      <td>21383</td>\n",
       "      <td>Joined</td>\n",
       "      <td>OfferAccepted</td>\n",
       "      <td>New Employee</td>\n",
       "      <td>XE020M39949</td>\n",
       "      <td>Mr</td>\n",
       "      <td>16-03-1990</td>\n",
       "      <td>Karnataka</td>\n",
       "      <td>560007</td>\n",
       "      <td>EMPLOYEE REFERRAL</td>\n",
       "      <td>...</td>\n",
       "      <td>0</td>\n",
       "      <td>0</td>\n",
       "      <td>36%</td>\n",
       "      <td>0</td>\n",
       "      <td>0</td>\n",
       "      <td>0</td>\n",
       "      <td>1</td>\n",
       "      <td>0</td>\n",
       "      <td>16-07-2018</td>\n",
       "      <td>16-07-2018</td>\n",
       "    </tr>\n",
       "    <tr>\n",
       "      <td>3</td>\n",
       "      <td>21389</td>\n",
       "      <td>Joined</td>\n",
       "      <td>OfferAccepted</td>\n",
       "      <td>New Employee</td>\n",
       "      <td>XE020M42382</td>\n",
       "      <td>Ms</td>\n",
       "      <td>09-07-1988</td>\n",
       "      <td>New Delhi</td>\n",
       "      <td>110018</td>\n",
       "      <td>CONSULTANCY</td>\n",
       "      <td>...</td>\n",
       "      <td>1</td>\n",
       "      <td>0</td>\n",
       "      <td>36%</td>\n",
       "      <td>0</td>\n",
       "      <td>0</td>\n",
       "      <td>0</td>\n",
       "      <td>1</td>\n",
       "      <td>1</td>\n",
       "      <td>16-07-2018</td>\n",
       "      <td>16-07-2018</td>\n",
       "    </tr>\n",
       "    <tr>\n",
       "      <td>4</td>\n",
       "      <td>21597</td>\n",
       "      <td>Joined</td>\n",
       "      <td>OfferAccepted</td>\n",
       "      <td>New Employee</td>\n",
       "      <td>XE021301732</td>\n",
       "      <td>Mr</td>\n",
       "      <td>12-05-1987</td>\n",
       "      <td>Karnataka</td>\n",
       "      <td>560075</td>\n",
       "      <td>EMPLOYEE REFERRAL</td>\n",
       "      <td>...</td>\n",
       "      <td>0</td>\n",
       "      <td>0</td>\n",
       "      <td>23%</td>\n",
       "      <td>0</td>\n",
       "      <td>0</td>\n",
       "      <td>0</td>\n",
       "      <td>1</td>\n",
       "      <td>0</td>\n",
       "      <td>30-07-2018</td>\n",
       "      <td>30-07-2018</td>\n",
       "    </tr>\n",
       "  </tbody>\n",
       "</table>\n",
       "<p>5 rows × 28 columns</p>\n",
       "</div>"
      ],
      "text/plain": [
       "   OfferId OverallStatus         Status      Hiretype RecruiterGPN Title  \\\n",
       "0    20658        Joined  OfferAccepted  New Employee  XE020M42382    Mr   \n",
       "1    21331        Joined  OfferAccepted  New Employee  XE020M42382    Mr   \n",
       "2    21383        Joined  OfferAccepted  New Employee  XE020M39949    Mr   \n",
       "3    21389        Joined  OfferAccepted  New Employee  XE020M42382    Ms   \n",
       "4    21597        Joined  OfferAccepted  New Employee  XE021301732    Mr   \n",
       "\n",
       "  DateOfBirth Original State  PinCode             Source  ... Big four  DAndI  \\\n",
       "0  15-11-1985      Karnataka   560016  EMPLOYEE REFERRAL  ...        1      0   \n",
       "1  01-02-1981      Karnataka   560037             PORTAL  ...        0      0   \n",
       "2  16-03-1990      Karnataka   560007  EMPLOYEE REFERRAL  ...        0      0   \n",
       "3  09-07-1988      New Delhi   110018        CONSULTANCY  ...        1      0   \n",
       "4  12-05-1987      Karnataka   560075  EMPLOYEE REFERRAL  ...        0      0   \n",
       "\n",
       "  hike% JoiningBonus  GoodsTransportationTravelEligibility  Stipend  \\\n",
       "0   33%            0                                     0        0   \n",
       "1   31%            0                                     0        0   \n",
       "2   36%            0                                     0        0   \n",
       "3   36%            0                                     0        0   \n",
       "4   23%            0                                     0        0   \n",
       "\n",
       "   Experienced IsNoticePeriodReimbursementProvided  ExpectedJoiningDate  \\\n",
       "0            1                                   0           02-07-2018   \n",
       "1            1                                   0           30-07-2018   \n",
       "2            1                                   0           16-07-2018   \n",
       "3            1                                   1           16-07-2018   \n",
       "4            1                                   0           30-07-2018   \n",
       "\n",
       "   ActualJoiningDate  \n",
       "0         02-07-2018  \n",
       "1         30-07-2018  \n",
       "2         16-07-2018  \n",
       "3         16-07-2018  \n",
       "4         30-07-2018  \n",
       "\n",
       "[5 rows x 28 columns]"
      ]
     },
     "execution_count": 706,
     "metadata": {},
     "output_type": "execute_result"
    }
   ],
   "source": [
    "df.head()"
   ]
  },
  {
   "cell_type": "code",
   "execution_count": 707,
   "metadata": {},
   "outputs": [
    {
     "data": {
      "text/plain": [
       "(3354, 28)"
      ]
     },
     "execution_count": 707,
     "metadata": {},
     "output_type": "execute_result"
    }
   ],
   "source": [
    "df.shape"
   ]
  },
  {
   "cell_type": "code",
   "execution_count": 708,
   "metadata": {},
   "outputs": [
    {
     "data": {
      "text/plain": [
       "93912"
      ]
     },
     "execution_count": 708,
     "metadata": {},
     "output_type": "execute_result"
    }
   ],
   "source": [
    "df.size"
   ]
  },
  {
   "cell_type": "code",
   "execution_count": 709,
   "metadata": {},
   "outputs": [
    {
     "data": {
      "text/plain": [
       "Index(['OfferId', 'OverallStatus', 'Status', 'Hiretype', 'RecruiterGPN',\n",
       "       'Title', 'DateOfBirth', 'Original State', 'PinCode', 'Source',\n",
       "       'Department', 'IT', 'Joining Center', 'Facility', 'Rank',\n",
       "       'IsRotationalShift', 'NoticePeriod', 'Qualification1', 'Big four',\n",
       "       'DAndI', 'hike%', 'JoiningBonus',\n",
       "       'GoodsTransportationTravelEligibility', 'Stipend', 'Experienced',\n",
       "       'IsNoticePeriodReimbursementProvided', 'ExpectedJoiningDate',\n",
       "       'ActualJoiningDate'],\n",
       "      dtype='object')"
      ]
     },
     "execution_count": 709,
     "metadata": {},
     "output_type": "execute_result"
    }
   ],
   "source": [
    "df.columns"
   ]
  },
  {
   "cell_type": "code",
   "execution_count": 710,
   "metadata": {},
   "outputs": [
    {
     "data": {
      "text/plain": [
       "OfferId                                  int64\n",
       "OverallStatus                           object\n",
       "Status                                  object\n",
       "Hiretype                                object\n",
       "RecruiterGPN                            object\n",
       "Title                                   object\n",
       "DateOfBirth                             object\n",
       "Original State                          object\n",
       "PinCode                                  int64\n",
       "Source                                  object\n",
       "Department                              object\n",
       "IT                                       int64\n",
       "Joining Center                          object\n",
       "Facility                                object\n",
       "Rank                                     int64\n",
       "IsRotationalShift                         bool\n",
       "NoticePeriod                             int64\n",
       "Qualification1                          object\n",
       "Big four                                 int64\n",
       "DAndI                                    int64\n",
       "hike%                                   object\n",
       "JoiningBonus                             int64\n",
       "GoodsTransportationTravelEligibility     int64\n",
       "Stipend                                  int64\n",
       "Experienced                              int64\n",
       "IsNoticePeriodReimbursementProvided     object\n",
       "ExpectedJoiningDate                     object\n",
       "ActualJoiningDate                       object\n",
       "dtype: object"
      ]
     },
     "execution_count": 710,
     "metadata": {},
     "output_type": "execute_result"
    }
   ],
   "source": [
    "df.dtypes"
   ]
  },
  {
   "cell_type": "code",
   "execution_count": 711,
   "metadata": {},
   "outputs": [
    {
     "name": "stdout",
     "output_type": "stream",
     "text": [
      "<class 'pandas.core.frame.DataFrame'>\n",
      "RangeIndex: 3354 entries, 0 to 3353\n",
      "Data columns (total 28 columns):\n",
      "OfferId                                 3354 non-null int64\n",
      "OverallStatus                           3354 non-null object\n",
      "Status                                  3354 non-null object\n",
      "Hiretype                                3354 non-null object\n",
      "RecruiterGPN                            3354 non-null object\n",
      "Title                                   3354 non-null object\n",
      "DateOfBirth                             3354 non-null object\n",
      "Original State                          3354 non-null object\n",
      "PinCode                                 3354 non-null int64\n",
      "Source                                  3354 non-null object\n",
      "Department                              3354 non-null object\n",
      "IT                                      3354 non-null int64\n",
      "Joining Center                          3354 non-null object\n",
      "Facility                                3354 non-null object\n",
      "Rank                                    3354 non-null int64\n",
      "IsRotationalShift                       3354 non-null bool\n",
      "NoticePeriod                            3354 non-null int64\n",
      "Qualification1                          3354 non-null object\n",
      "Big four                                3354 non-null int64\n",
      "DAndI                                   3354 non-null int64\n",
      "hike%                                   3354 non-null object\n",
      "JoiningBonus                            3354 non-null int64\n",
      "GoodsTransportationTravelEligibility    3354 non-null int64\n",
      "Stipend                                 3354 non-null int64\n",
      "Experienced                             3354 non-null int64\n",
      "IsNoticePeriodReimbursementProvided     3326 non-null object\n",
      "ExpectedJoiningDate                     3354 non-null object\n",
      "ActualJoiningDate                       2667 non-null object\n",
      "dtypes: bool(1), int64(11), object(16)\n",
      "memory usage: 501.2+ KB\n"
     ]
    }
   ],
   "source": [
    "df.info()"
   ]
  },
  {
   "cell_type": "code",
   "execution_count": 712,
   "metadata": {},
   "outputs": [
    {
     "data": {
      "text/html": [
       "<div>\n",
       "<style scoped>\n",
       "    .dataframe tbody tr th:only-of-type {\n",
       "        vertical-align: middle;\n",
       "    }\n",
       "\n",
       "    .dataframe tbody tr th {\n",
       "        vertical-align: top;\n",
       "    }\n",
       "\n",
       "    .dataframe thead th {\n",
       "        text-align: right;\n",
       "    }\n",
       "</style>\n",
       "<table border=\"1\" class=\"dataframe\">\n",
       "  <thead>\n",
       "    <tr style=\"text-align: right;\">\n",
       "      <th></th>\n",
       "      <th>OfferId</th>\n",
       "      <th>PinCode</th>\n",
       "      <th>IT</th>\n",
       "      <th>Rank</th>\n",
       "      <th>NoticePeriod</th>\n",
       "      <th>Big four</th>\n",
       "      <th>DAndI</th>\n",
       "      <th>JoiningBonus</th>\n",
       "      <th>GoodsTransportationTravelEligibility</th>\n",
       "      <th>Stipend</th>\n",
       "      <th>Experienced</th>\n",
       "    </tr>\n",
       "  </thead>\n",
       "  <tbody>\n",
       "    <tr>\n",
       "      <td>count</td>\n",
       "      <td>3354.000000</td>\n",
       "      <td>3.354000e+03</td>\n",
       "      <td>3354.000000</td>\n",
       "      <td>3354.000000</td>\n",
       "      <td>3354.000000</td>\n",
       "      <td>3354.000000</td>\n",
       "      <td>3354.000000</td>\n",
       "      <td>3354.000000</td>\n",
       "      <td>3354.000000</td>\n",
       "      <td>3354.000000</td>\n",
       "      <td>3354.000000</td>\n",
       "    </tr>\n",
       "    <tr>\n",
       "      <td>mean</td>\n",
       "      <td>33832.187239</td>\n",
       "      <td>5.950064e+05</td>\n",
       "      <td>0.112105</td>\n",
       "      <td>40.369112</td>\n",
       "      <td>1.940072</td>\n",
       "      <td>0.234049</td>\n",
       "      <td>0.003876</td>\n",
       "      <td>0.013715</td>\n",
       "      <td>0.207215</td>\n",
       "      <td>0.063804</td>\n",
       "      <td>0.937090</td>\n",
       "    </tr>\n",
       "    <tr>\n",
       "      <td>std</td>\n",
       "      <td>5310.642118</td>\n",
       "      <td>1.367584e+06</td>\n",
       "      <td>0.315543</td>\n",
       "      <td>9.811511</td>\n",
       "      <td>0.237390</td>\n",
       "      <td>0.423466</td>\n",
       "      <td>0.062146</td>\n",
       "      <td>0.116322</td>\n",
       "      <td>0.405372</td>\n",
       "      <td>0.244441</td>\n",
       "      <td>0.242837</td>\n",
       "    </tr>\n",
       "    <tr>\n",
       "      <td>min</td>\n",
       "      <td>20658.000000</td>\n",
       "      <td>3.000000e+00</td>\n",
       "      <td>0.000000</td>\n",
       "      <td>4.000000</td>\n",
       "      <td>1.000000</td>\n",
       "      <td>0.000000</td>\n",
       "      <td>0.000000</td>\n",
       "      <td>0.000000</td>\n",
       "      <td>0.000000</td>\n",
       "      <td>0.000000</td>\n",
       "      <td>0.000000</td>\n",
       "    </tr>\n",
       "    <tr>\n",
       "      <td>25%</td>\n",
       "      <td>28722.000000</td>\n",
       "      <td>5.600160e+05</td>\n",
       "      <td>0.000000</td>\n",
       "      <td>42.000000</td>\n",
       "      <td>2.000000</td>\n",
       "      <td>0.000000</td>\n",
       "      <td>0.000000</td>\n",
       "      <td>0.000000</td>\n",
       "      <td>0.000000</td>\n",
       "      <td>0.000000</td>\n",
       "      <td>1.000000</td>\n",
       "    </tr>\n",
       "    <tr>\n",
       "      <td>50%</td>\n",
       "      <td>34893.500000</td>\n",
       "      <td>5.600640e+05</td>\n",
       "      <td>0.000000</td>\n",
       "      <td>44.000000</td>\n",
       "      <td>2.000000</td>\n",
       "      <td>0.000000</td>\n",
       "      <td>0.000000</td>\n",
       "      <td>0.000000</td>\n",
       "      <td>0.000000</td>\n",
       "      <td>0.000000</td>\n",
       "      <td>1.000000</td>\n",
       "    </tr>\n",
       "    <tr>\n",
       "      <td>75%</td>\n",
       "      <td>38287.750000</td>\n",
       "      <td>5.831010e+05</td>\n",
       "      <td>0.000000</td>\n",
       "      <td>44.000000</td>\n",
       "      <td>2.000000</td>\n",
       "      <td>0.000000</td>\n",
       "      <td>0.000000</td>\n",
       "      <td>0.000000</td>\n",
       "      <td>0.000000</td>\n",
       "      <td>0.000000</td>\n",
       "      <td>1.000000</td>\n",
       "    </tr>\n",
       "    <tr>\n",
       "      <td>max</td>\n",
       "      <td>44164.000000</td>\n",
       "      <td>4.521628e+07</td>\n",
       "      <td>1.000000</td>\n",
       "      <td>44.000000</td>\n",
       "      <td>2.000000</td>\n",
       "      <td>1.000000</td>\n",
       "      <td>1.000000</td>\n",
       "      <td>1.000000</td>\n",
       "      <td>1.000000</td>\n",
       "      <td>1.000000</td>\n",
       "      <td>1.000000</td>\n",
       "    </tr>\n",
       "  </tbody>\n",
       "</table>\n",
       "</div>"
      ],
      "text/plain": [
       "            OfferId       PinCode           IT         Rank  NoticePeriod  \\\n",
       "count   3354.000000  3.354000e+03  3354.000000  3354.000000   3354.000000   \n",
       "mean   33832.187239  5.950064e+05     0.112105    40.369112      1.940072   \n",
       "std     5310.642118  1.367584e+06     0.315543     9.811511      0.237390   \n",
       "min    20658.000000  3.000000e+00     0.000000     4.000000      1.000000   \n",
       "25%    28722.000000  5.600160e+05     0.000000    42.000000      2.000000   \n",
       "50%    34893.500000  5.600640e+05     0.000000    44.000000      2.000000   \n",
       "75%    38287.750000  5.831010e+05     0.000000    44.000000      2.000000   \n",
       "max    44164.000000  4.521628e+07     1.000000    44.000000      2.000000   \n",
       "\n",
       "          Big four        DAndI  JoiningBonus  \\\n",
       "count  3354.000000  3354.000000   3354.000000   \n",
       "mean      0.234049     0.003876      0.013715   \n",
       "std       0.423466     0.062146      0.116322   \n",
       "min       0.000000     0.000000      0.000000   \n",
       "25%       0.000000     0.000000      0.000000   \n",
       "50%       0.000000     0.000000      0.000000   \n",
       "75%       0.000000     0.000000      0.000000   \n",
       "max       1.000000     1.000000      1.000000   \n",
       "\n",
       "       GoodsTransportationTravelEligibility      Stipend  Experienced  \n",
       "count                           3354.000000  3354.000000  3354.000000  \n",
       "mean                               0.207215     0.063804     0.937090  \n",
       "std                                0.405372     0.244441     0.242837  \n",
       "min                                0.000000     0.000000     0.000000  \n",
       "25%                                0.000000     0.000000     1.000000  \n",
       "50%                                0.000000     0.000000     1.000000  \n",
       "75%                                0.000000     0.000000     1.000000  \n",
       "max                                1.000000     1.000000     1.000000  "
      ]
     },
     "execution_count": 712,
     "metadata": {},
     "output_type": "execute_result"
    }
   ],
   "source": [
    "df.describe()"
   ]
  },
  {
   "cell_type": "code",
   "execution_count": 713,
   "metadata": {},
   "outputs": [
    {
     "data": {
      "text/plain": [
       "OfferId                                   0\n",
       "OverallStatus                             0\n",
       "Status                                    0\n",
       "Hiretype                                  0\n",
       "RecruiterGPN                              0\n",
       "Title                                     0\n",
       "DateOfBirth                               0\n",
       "Original State                            0\n",
       "PinCode                                   0\n",
       "Source                                    0\n",
       "Department                                0\n",
       "IT                                        0\n",
       "Joining Center                            0\n",
       "Facility                                  0\n",
       "Rank                                      0\n",
       "IsRotationalShift                         0\n",
       "NoticePeriod                              0\n",
       "Qualification1                            0\n",
       "Big four                                  0\n",
       "DAndI                                     0\n",
       "hike%                                     0\n",
       "JoiningBonus                              0\n",
       "GoodsTransportationTravelEligibility      0\n",
       "Stipend                                   0\n",
       "Experienced                               0\n",
       "IsNoticePeriodReimbursementProvided      28\n",
       "ExpectedJoiningDate                       0\n",
       "ActualJoiningDate                       687\n",
       "dtype: int64"
      ]
     },
     "execution_count": 713,
     "metadata": {},
     "output_type": "execute_result"
    }
   ],
   "source": [
    "df.isnull().sum()"
   ]
  },
  {
   "cell_type": "code",
   "execution_count": 714,
   "metadata": {},
   "outputs": [
    {
     "data": {
      "text/plain": [
       "OfferId                                  int64\n",
       "OverallStatus                           object\n",
       "Status                                  object\n",
       "Hiretype                                object\n",
       "RecruiterGPN                            object\n",
       "Title                                   object\n",
       "DateOfBirth                             object\n",
       "Original State                          object\n",
       "PinCode                                  int64\n",
       "Source                                  object\n",
       "Department                              object\n",
       "IT                                       int64\n",
       "Joining Center                          object\n",
       "Facility                                object\n",
       "Rank                                     int64\n",
       "IsRotationalShift                         bool\n",
       "NoticePeriod                             int64\n",
       "Qualification1                          object\n",
       "Big four                                 int64\n",
       "DAndI                                    int64\n",
       "hike%                                   object\n",
       "JoiningBonus                             int64\n",
       "GoodsTransportationTravelEligibility     int64\n",
       "Stipend                                  int64\n",
       "Experienced                              int64\n",
       "IsNoticePeriodReimbursementProvided     object\n",
       "ExpectedJoiningDate                     object\n",
       "ActualJoiningDate                       object\n",
       "dtype: object"
      ]
     },
     "execution_count": 714,
     "metadata": {},
     "output_type": "execute_result"
    }
   ],
   "source": [
    "df.dtypes"
   ]
  },
  {
   "cell_type": "code",
   "execution_count": 715,
   "metadata": {},
   "outputs": [
    {
     "data": {
      "text/plain": [
       "Joined           2665\n",
       "OfferDeclined     689\n",
       "Name: OverallStatus, dtype: int64"
      ]
     },
     "execution_count": 715,
     "metadata": {},
     "output_type": "execute_result"
    }
   ],
   "source": [
    "df.OverallStatus.value_counts()"
   ]
  },
  {
   "cell_type": "code",
   "execution_count": 716,
   "metadata": {},
   "outputs": [],
   "source": [
    "df = df.rename(columns = {'Original State':'Original_State'})"
   ]
  },
  {
   "cell_type": "code",
   "execution_count": 717,
   "metadata": {},
   "outputs": [],
   "source": [
    "df = df.rename(columns = {'Joining Center':'Joining_Center'})"
   ]
  },
  {
   "cell_type": "code",
   "execution_count": 718,
   "metadata": {},
   "outputs": [],
   "source": [
    "df = df.rename(columns = {'hike%':'Hike'})"
   ]
  },
  {
   "cell_type": "code",
   "execution_count": 719,
   "metadata": {},
   "outputs": [],
   "source": [
    "df = df.rename(columns = {'Big four': 'Big_four'})"
   ]
  },
  {
   "cell_type": "code",
   "execution_count": 720,
   "metadata": {},
   "outputs": [
    {
     "data": {
      "text/plain": [
       "Index(['OfferId', 'OverallStatus', 'Status', 'Hiretype', 'RecruiterGPN',\n",
       "       'Title', 'DateOfBirth', 'Original_State', 'PinCode', 'Source',\n",
       "       'Department', 'IT', 'Joining_Center', 'Facility', 'Rank',\n",
       "       'IsRotationalShift', 'NoticePeriod', 'Qualification1', 'Big_four',\n",
       "       'DAndI', 'Hike', 'JoiningBonus', 'GoodsTransportationTravelEligibility',\n",
       "       'Stipend', 'Experienced', 'IsNoticePeriodReimbursementProvided',\n",
       "       'ExpectedJoiningDate', 'ActualJoiningDate'],\n",
       "      dtype='object')"
      ]
     },
     "execution_count": 720,
     "metadata": {},
     "output_type": "execute_result"
    }
   ],
   "source": [
    "df.columns"
   ]
  },
  {
   "cell_type": "code",
   "execution_count": 721,
   "metadata": {},
   "outputs": [],
   "source": [
    "df['Hike'] = df.Hike.str.replace('%', '')\n",
    "df['Hike'] = df['Hike'].astype(str).astype(int)"
   ]
  },
  {
   "cell_type": "code",
   "execution_count": 722,
   "metadata": {},
   "outputs": [
    {
     "data": {
      "text/plain": [
       "dtype('int32')"
      ]
     },
     "execution_count": 722,
     "metadata": {},
     "output_type": "execute_result"
    }
   ],
   "source": [
    "df['Hike'].dtype"
   ]
  },
  {
   "cell_type": "code",
   "execution_count": 723,
   "metadata": {},
   "outputs": [
    {
     "data": {
      "text/html": [
       "<div>\n",
       "<style scoped>\n",
       "    .dataframe tbody tr th:only-of-type {\n",
       "        vertical-align: middle;\n",
       "    }\n",
       "\n",
       "    .dataframe tbody tr th {\n",
       "        vertical-align: top;\n",
       "    }\n",
       "\n",
       "    .dataframe thead th {\n",
       "        text-align: right;\n",
       "    }\n",
       "</style>\n",
       "<table border=\"1\" class=\"dataframe\">\n",
       "  <thead>\n",
       "    <tr style=\"text-align: right;\">\n",
       "      <th></th>\n",
       "      <th>OfferId</th>\n",
       "      <th>OverallStatus</th>\n",
       "      <th>Status</th>\n",
       "      <th>Hiretype</th>\n",
       "      <th>RecruiterGPN</th>\n",
       "      <th>Title</th>\n",
       "      <th>DateOfBirth</th>\n",
       "      <th>Original_State</th>\n",
       "      <th>PinCode</th>\n",
       "      <th>Source</th>\n",
       "      <th>...</th>\n",
       "      <th>Big_four</th>\n",
       "      <th>DAndI</th>\n",
       "      <th>Hike</th>\n",
       "      <th>JoiningBonus</th>\n",
       "      <th>GoodsTransportationTravelEligibility</th>\n",
       "      <th>Stipend</th>\n",
       "      <th>Experienced</th>\n",
       "      <th>IsNoticePeriodReimbursementProvided</th>\n",
       "      <th>ExpectedJoiningDate</th>\n",
       "      <th>ActualJoiningDate</th>\n",
       "    </tr>\n",
       "  </thead>\n",
       "  <tbody>\n",
       "    <tr>\n",
       "      <td>0</td>\n",
       "      <td>20658</td>\n",
       "      <td>Joined</td>\n",
       "      <td>OfferAccepted</td>\n",
       "      <td>New Employee</td>\n",
       "      <td>XE020M42382</td>\n",
       "      <td>Mr</td>\n",
       "      <td>15-11-1985</td>\n",
       "      <td>Karnataka</td>\n",
       "      <td>560016</td>\n",
       "      <td>EMPLOYEE REFERRAL</td>\n",
       "      <td>...</td>\n",
       "      <td>1</td>\n",
       "      <td>0</td>\n",
       "      <td>33</td>\n",
       "      <td>0</td>\n",
       "      <td>0</td>\n",
       "      <td>0</td>\n",
       "      <td>1</td>\n",
       "      <td>0</td>\n",
       "      <td>02-07-2018</td>\n",
       "      <td>02-07-2018</td>\n",
       "    </tr>\n",
       "    <tr>\n",
       "      <td>1</td>\n",
       "      <td>21331</td>\n",
       "      <td>Joined</td>\n",
       "      <td>OfferAccepted</td>\n",
       "      <td>New Employee</td>\n",
       "      <td>XE020M42382</td>\n",
       "      <td>Mr</td>\n",
       "      <td>01-02-1981</td>\n",
       "      <td>Karnataka</td>\n",
       "      <td>560037</td>\n",
       "      <td>PORTAL</td>\n",
       "      <td>...</td>\n",
       "      <td>0</td>\n",
       "      <td>0</td>\n",
       "      <td>31</td>\n",
       "      <td>0</td>\n",
       "      <td>0</td>\n",
       "      <td>0</td>\n",
       "      <td>1</td>\n",
       "      <td>0</td>\n",
       "      <td>30-07-2018</td>\n",
       "      <td>30-07-2018</td>\n",
       "    </tr>\n",
       "    <tr>\n",
       "      <td>2</td>\n",
       "      <td>21383</td>\n",
       "      <td>Joined</td>\n",
       "      <td>OfferAccepted</td>\n",
       "      <td>New Employee</td>\n",
       "      <td>XE020M39949</td>\n",
       "      <td>Mr</td>\n",
       "      <td>16-03-1990</td>\n",
       "      <td>Karnataka</td>\n",
       "      <td>560007</td>\n",
       "      <td>EMPLOYEE REFERRAL</td>\n",
       "      <td>...</td>\n",
       "      <td>0</td>\n",
       "      <td>0</td>\n",
       "      <td>36</td>\n",
       "      <td>0</td>\n",
       "      <td>0</td>\n",
       "      <td>0</td>\n",
       "      <td>1</td>\n",
       "      <td>0</td>\n",
       "      <td>16-07-2018</td>\n",
       "      <td>16-07-2018</td>\n",
       "    </tr>\n",
       "  </tbody>\n",
       "</table>\n",
       "<p>3 rows × 28 columns</p>\n",
       "</div>"
      ],
      "text/plain": [
       "   OfferId OverallStatus         Status      Hiretype RecruiterGPN Title  \\\n",
       "0    20658        Joined  OfferAccepted  New Employee  XE020M42382    Mr   \n",
       "1    21331        Joined  OfferAccepted  New Employee  XE020M42382    Mr   \n",
       "2    21383        Joined  OfferAccepted  New Employee  XE020M39949    Mr   \n",
       "\n",
       "  DateOfBirth Original_State  PinCode             Source  ... Big_four  DAndI  \\\n",
       "0  15-11-1985      Karnataka   560016  EMPLOYEE REFERRAL  ...        1      0   \n",
       "1  01-02-1981      Karnataka   560037             PORTAL  ...        0      0   \n",
       "2  16-03-1990      Karnataka   560007  EMPLOYEE REFERRAL  ...        0      0   \n",
       "\n",
       "  Hike JoiningBonus  GoodsTransportationTravelEligibility  Stipend  \\\n",
       "0   33            0                                     0        0   \n",
       "1   31            0                                     0        0   \n",
       "2   36            0                                     0        0   \n",
       "\n",
       "   Experienced IsNoticePeriodReimbursementProvided  ExpectedJoiningDate  \\\n",
       "0            1                                   0           02-07-2018   \n",
       "1            1                                   0           30-07-2018   \n",
       "2            1                                   0           16-07-2018   \n",
       "\n",
       "   ActualJoiningDate  \n",
       "0         02-07-2018  \n",
       "1         30-07-2018  \n",
       "2         16-07-2018  \n",
       "\n",
       "[3 rows x 28 columns]"
      ]
     },
     "execution_count": 723,
     "metadata": {},
     "output_type": "execute_result"
    }
   ],
   "source": [
    "df.head(3)"
   ]
  },
  {
   "cell_type": "code",
   "execution_count": 724,
   "metadata": {},
   "outputs": [],
   "source": [
    "df['DOB_year'] = pd.DatetimeIndex(df['DateOfBirth']).year"
   ]
  },
  {
   "cell_type": "code",
   "execution_count": 725,
   "metadata": {},
   "outputs": [],
   "source": [
    "df['Age'] = 2019 - df['DOB_year']"
   ]
  },
  {
   "cell_type": "code",
   "execution_count": 726,
   "metadata": {},
   "outputs": [],
   "source": [
    "df_1 = df[['OverallStatus', 'Hiretype', 'RecruiterGPN',\n",
    "       'Title', 'Age', 'Original_State', 'PinCode', 'Source',\n",
    "       'Department', 'IT', 'Joining_Center', 'Facility', 'Rank',\n",
    "       'IsRotationalShift', 'NoticePeriod', 'Qualification1','Hike', 'Big_four','JoiningBonus',\n",
    "       'GoodsTransportationTravelEligibility', 'Stipend', 'Experienced',\n",
    "       'IsNoticePeriodReimbursementProvided', 'ExpectedJoiningDate']]"
   ]
  },
  {
   "cell_type": "code",
   "execution_count": 727,
   "metadata": {},
   "outputs": [
    {
     "name": "stderr",
     "output_type": "stream",
     "text": [
      "c:\\users\\nisha.nath\\appdata\\local\\programs\\python\\python37-32\\lib\\site-packages\\ipykernel_launcher.py:1: SettingWithCopyWarning: \n",
      "A value is trying to be set on a copy of a slice from a DataFrame.\n",
      "Try using .loc[row_indexer,col_indexer] = value instead\n",
      "\n",
      "See the caveats in the documentation: http://pandas.pydata.org/pandas-docs/stable/user_guide/indexing.html#returning-a-view-versus-a-copy\n",
      "  \"\"\"Entry point for launching an IPython kernel.\n"
     ]
    }
   ],
   "source": [
    "df_1['Expected_Month'] = pd.DatetimeIndex(df['ExpectedJoiningDate']).month"
   ]
  },
  {
   "cell_type": "code",
   "execution_count": 728,
   "metadata": {},
   "outputs": [
    {
     "name": "stderr",
     "output_type": "stream",
     "text": [
      "c:\\users\\nisha.nath\\appdata\\local\\programs\\python\\python37-32\\lib\\site-packages\\ipykernel_launcher.py:1: SettingWithCopyWarning: \n",
      "A value is trying to be set on a copy of a slice from a DataFrame.\n",
      "Try using .loc[row_indexer,col_indexer] = value instead\n",
      "\n",
      "See the caveats in the documentation: http://pandas.pydata.org/pandas-docs/stable/user_guide/indexing.html#returning-a-view-versus-a-copy\n",
      "  \"\"\"Entry point for launching an IPython kernel.\n",
      "c:\\users\\nisha.nath\\appdata\\local\\programs\\python\\python37-32\\lib\\site-packages\\ipykernel_launcher.py:2: SettingWithCopyWarning: \n",
      "A value is trying to be set on a copy of a slice from a DataFrame.\n",
      "Try using .loc[row_indexer,col_indexer] = value instead\n",
      "\n",
      "See the caveats in the documentation: http://pandas.pydata.org/pandas-docs/stable/user_guide/indexing.html#returning-a-view-versus-a-copy\n",
      "  \n",
      "c:\\users\\nisha.nath\\appdata\\local\\programs\\python\\python37-32\\lib\\site-packages\\ipykernel_launcher.py:3: SettingWithCopyWarning: \n",
      "A value is trying to be set on a copy of a slice from a DataFrame.\n",
      "Try using .loc[row_indexer,col_indexer] = value instead\n",
      "\n",
      "See the caveats in the documentation: http://pandas.pydata.org/pandas-docs/stable/user_guide/indexing.html#returning-a-view-versus-a-copy\n",
      "  This is separate from the ipykernel package so we can avoid doing imports until\n"
     ]
    }
   ],
   "source": [
    "df_1['IsNoticePeriodReimbursementProvided'] = df_1['IsNoticePeriodReimbursementProvided'].str.replace('True','1')\n",
    "df_1['IsNoticePeriodReimbursementProvided'] = df_1['IsNoticePeriodReimbursementProvided'].str.replace('False','0')\n",
    "df_1['IsNoticePeriodReimbursementProvided'] = df_1['IsNoticePeriodReimbursementProvided'].replace('nan', np.nan).fillna(0)"
   ]
  },
  {
   "cell_type": "code",
   "execution_count": 729,
   "metadata": {},
   "outputs": [
    {
     "name": "stderr",
     "output_type": "stream",
     "text": [
      "c:\\users\\nisha.nath\\appdata\\local\\programs\\python\\python37-32\\lib\\site-packages\\pandas\\core\\frame.py:3494: SettingWithCopyWarning: \n",
      "A value is trying to be set on a copy of a slice from a DataFrame.\n",
      "Try using .loc[row_indexer,col_indexer] = value instead\n",
      "\n",
      "See the caveats in the documentation: http://pandas.pydata.org/pandas-docs/stable/user_guide/indexing.html#returning-a-view-versus-a-copy\n",
      "  self[k1] = value[k2]\n"
     ]
    }
   ],
   "source": [
    "df_1[['IsNoticePeriodReimbursementProvided']] = df_1[['IsNoticePeriodReimbursementProvided']].apply(pd.to_numeric)"
   ]
  },
  {
   "cell_type": "code",
   "execution_count": 730,
   "metadata": {},
   "outputs": [
    {
     "data": {
      "text/plain": [
       "0    3309\n",
       "1      45\n",
       "Name: IsNoticePeriodReimbursementProvided, dtype: int64"
      ]
     },
     "execution_count": 730,
     "metadata": {},
     "output_type": "execute_result"
    }
   ],
   "source": [
    "df_1.IsNoticePeriodReimbursementProvided.value_counts()"
   ]
  },
  {
   "cell_type": "code",
   "execution_count": 731,
   "metadata": {},
   "outputs": [
    {
     "data": {
      "text/plain": [
       "1     551\n",
       "10    361\n",
       "4     346\n",
       "3     287\n",
       "11    275\n",
       "7     269\n",
       "6     269\n",
       "5     260\n",
       "12    227\n",
       "2     217\n",
       "8     197\n",
       "9      95\n",
       "Name: Expected_Month, dtype: int64"
      ]
     },
     "execution_count": 731,
     "metadata": {},
     "output_type": "execute_result"
    }
   ],
   "source": [
    "df_1.Expected_Month.value_counts()"
   ]
  },
  {
   "cell_type": "code",
   "execution_count": 732,
   "metadata": {},
   "outputs": [
    {
     "data": {
      "text/plain": [
       "1    3143\n",
       "0     211\n",
       "Name: Experienced, dtype: int64"
      ]
     },
     "execution_count": 732,
     "metadata": {},
     "output_type": "execute_result"
    }
   ],
   "source": [
    "df_1.Experienced.value_counts()"
   ]
  },
  {
   "cell_type": "code",
   "execution_count": 733,
   "metadata": {},
   "outputs": [
    {
     "data": {
      "text/plain": [
       "0    3140\n",
       "1     214\n",
       "Name: Stipend, dtype: int64"
      ]
     },
     "execution_count": 733,
     "metadata": {},
     "output_type": "execute_result"
    }
   ],
   "source": [
    "df_1.Stipend.value_counts()"
   ]
  },
  {
   "cell_type": "code",
   "execution_count": 734,
   "metadata": {},
   "outputs": [
    {
     "data": {
      "text/plain": [
       "0    2659\n",
       "1     695\n",
       "Name: GoodsTransportationTravelEligibility, dtype: int64"
      ]
     },
     "execution_count": 734,
     "metadata": {},
     "output_type": "execute_result"
    }
   ],
   "source": [
    "df_1.GoodsTransportationTravelEligibility.value_counts()"
   ]
  },
  {
   "cell_type": "code",
   "execution_count": 735,
   "metadata": {},
   "outputs": [
    {
     "data": {
      "text/plain": [
       "0    3308\n",
       "1      46\n",
       "Name: JoiningBonus, dtype: int64"
      ]
     },
     "execution_count": 735,
     "metadata": {},
     "output_type": "execute_result"
    }
   ],
   "source": [
    "df_1.JoiningBonus.value_counts()"
   ]
  },
  {
   "cell_type": "code",
   "execution_count": 736,
   "metadata": {},
   "outputs": [
    {
     "data": {
      "text/plain": [
       " 100    1304\n",
       " 0       215\n",
       " 23      122\n",
       " 24      111\n",
       " 26       91\n",
       "        ... \n",
       "-15        1\n",
       " 61        1\n",
       " 67        1\n",
       " 69        1\n",
       " 74        1\n",
       "Name: Hike, Length: 74, dtype: int64"
      ]
     },
     "execution_count": 736,
     "metadata": {},
     "output_type": "execute_result"
    }
   ],
   "source": [
    "df_1.Hike.value_counts()"
   ]
  },
  {
   "cell_type": "code",
   "execution_count": 737,
   "metadata": {},
   "outputs": [
    {
     "data": {
      "text/plain": [
       "Post Grad    2674\n",
       "Grad          449\n",
       "MBA           217\n",
       "CA             14\n",
       "Name: Qualification1, dtype: int64"
      ]
     },
     "execution_count": 737,
     "metadata": {},
     "output_type": "execute_result"
    }
   ],
   "source": [
    "df_1.Qualification1.value_counts()"
   ]
  },
  {
   "cell_type": "code",
   "execution_count": 738,
   "metadata": {},
   "outputs": [
    {
     "data": {
      "text/plain": [
       "2    3153\n",
       "1     201\n",
       "Name: NoticePeriod, dtype: int64"
      ]
     },
     "execution_count": 738,
     "metadata": {},
     "output_type": "execute_result"
    }
   ],
   "source": [
    "df_1.NoticePeriod.value_counts()"
   ]
  },
  {
   "cell_type": "code",
   "execution_count": 739,
   "metadata": {},
   "outputs": [
    {
     "data": {
      "text/plain": [
       "False    3296\n",
       "True       58\n",
       "Name: IsRotationalShift, dtype: int64"
      ]
     },
     "execution_count": 739,
     "metadata": {},
     "output_type": "execute_result"
    }
   ],
   "source": [
    "df_1.IsRotationalShift.value_counts()"
   ]
  },
  {
   "cell_type": "code",
   "execution_count": 740,
   "metadata": {},
   "outputs": [
    {
     "data": {
      "text/plain": [
       "44    2010\n",
       "42     997\n",
       "4      215\n",
       "32     132\n",
       "Name: Rank, dtype: int64"
      ]
     },
     "execution_count": 740,
     "metadata": {},
     "output_type": "execute_result"
    }
   ],
   "source": [
    "df_1.Rank.value_counts()"
   ]
  },
  {
   "cell_type": "code",
   "execution_count": 741,
   "metadata": {},
   "outputs": [
    {
     "data": {
      "text/plain": [
       "BLR CORAL/EYGDS/SEZ               2649\n",
       "GGN UCP/All Entities/Non-SEZ       239\n",
       "CHN DLF/EYLLP/EYGDS/SEZ            135\n",
       "KOC Carnival/EYGDS/SEZ-SFT         116\n",
       "CHN DLF/ EYGDS/SEZ-SFT              78\n",
       "KOC Carnival4/All Entities/SEZ      44\n",
       "KOC Carnival2/All Entities/SEZ      42\n",
       "BLR RMZ/All Entities/NON-SEZ        25\n",
       "TVM Thejaswini/All/NON-SEZ           8\n",
       "TVM Drishya/All Entities/SEZ         8\n",
       "BLR Garnet/EYLLP/EYGDS/SEZ           6\n",
       "BLR BMP/All Entities/NON-SEZ         2\n",
       "KOC Athulya/EYGBS/SEZ                1\n",
       "BLR BTP/All Entities/NON-SEZ         1\n",
       "Name: Facility, dtype: int64"
      ]
     },
     "execution_count": 741,
     "metadata": {},
     "output_type": "execute_result"
    }
   ],
   "source": [
    "df_1.Facility.value_counts()"
   ]
  },
  {
   "cell_type": "code",
   "execution_count": 742,
   "metadata": {},
   "outputs": [
    {
     "data": {
      "text/plain": [
       "0    2978\n",
       "1     376\n",
       "Name: IT, dtype: int64"
      ]
     },
     "execution_count": 742,
     "metadata": {},
     "output_type": "execute_result"
    }
   ],
   "source": [
    "df_1.IT.value_counts()"
   ]
  },
  {
   "cell_type": "code",
   "execution_count": 743,
   "metadata": {},
   "outputs": [
    {
     "data": {
      "text/plain": [
       "Bangalore     2683\n",
       "Gurgaon        239\n",
       "Chennai        213\n",
       "Kochi          203\n",
       "Trivandrum      16\n",
       "Name: Joining_Center, dtype: int64"
      ]
     },
     "execution_count": 743,
     "metadata": {},
     "output_type": "execute_result"
    }
   ],
   "source": [
    "df_1.Joining_Center.value_counts()"
   ]
  },
  {
   "cell_type": "code",
   "execution_count": 744,
   "metadata": {},
   "outputs": [
    {
     "data": {
      "text/plain": [
       "560037    122\n",
       "560043     98\n",
       "560016     91\n",
       "560076     53\n",
       "560078     49\n",
       "         ... \n",
       "600074      1\n",
       "600072      1\n",
       "3           1\n",
       "600062      1\n",
       "700020      1\n",
       "Name: PinCode, Length: 1019, dtype: int64"
      ]
     },
     "execution_count": 744,
     "metadata": {},
     "output_type": "execute_result"
    }
   ],
   "source": [
    "df_1.PinCode.value_counts()"
   ]
  },
  {
   "cell_type": "code",
   "execution_count": 745,
   "metadata": {},
   "outputs": [
    {
     "data": {
      "text/plain": [
       "EMPLOYEE REFERRAL        1294\n",
       "PORTAL                    765\n",
       "CONSULTANCY               733\n",
       "CAMPUS                    412\n",
       "WALK-IN                    50\n",
       "GDS LEAP                   48\n",
       "CWR TO FTE CONVERSION      23\n",
       "ALTERNATE SOURCE           15\n",
       "OFF CAMPUS                  7\n",
       "TRANSFER                    5\n",
       "OTHER TRANSFER              1\n",
       "ADVERTISEMENT               1\n",
       "Name: Source, dtype: int64"
      ]
     },
     "execution_count": 745,
     "metadata": {},
     "output_type": "execute_result"
    }
   ],
   "source": [
    "df_1.Source.value_counts()"
   ]
  },
  {
   "cell_type": "code",
   "execution_count": 746,
   "metadata": {},
   "outputs": [
    {
     "data": {
      "text/plain": [
       "New Employee    3022\n",
       "Re hire          264\n",
       "Transfer          68\n",
       "Name: Hiretype, dtype: int64"
      ]
     },
     "execution_count": 746,
     "metadata": {},
     "output_type": "execute_result"
    }
   ],
   "source": [
    "df_1.Hiretype.value_counts()"
   ]
  },
  {
   "cell_type": "code",
   "execution_count": 747,
   "metadata": {},
   "outputs": [
    {
     "data": {
      "text/plain": [
       "XE020M38015    599\n",
       "XE020M42382    560\n",
       "XE020M32824    443\n",
       "XE020M39949    316\n",
       "XE020M24041    315\n",
       "XE020M36003    254\n",
       "XE020M51545    152\n",
       "XE020M63277    116\n",
       "XE020M32654    116\n",
       "XE020M22317    110\n",
       "XE021306642     79\n",
       "XE020M17867     74\n",
       "XE020M24506     62\n",
       "XE020M00201     59\n",
       "XE021305129     53\n",
       "XE020M63244     35\n",
       "XE021301732      6\n",
       "XE021306728      2\n",
       "XE020M20654      1\n",
       "IN010M41415      1\n",
       "XE021305189      1\n",
       "Name: RecruiterGPN, dtype: int64"
      ]
     },
     "execution_count": 747,
     "metadata": {},
     "output_type": "execute_result"
    }
   ],
   "source": [
    "df_1.RecruiterGPN.value_counts()"
   ]
  },
  {
   "cell_type": "code",
   "execution_count": 748,
   "metadata": {},
   "outputs": [
    {
     "data": {
      "text/plain": [
       "Mr    1751\n",
       "Ms    1603\n",
       "Name: Title, dtype: int64"
      ]
     },
     "execution_count": 748,
     "metadata": {},
     "output_type": "execute_result"
    }
   ],
   "source": [
    "df_1.Title.value_counts()"
   ]
  },
  {
   "cell_type": "code",
   "execution_count": 749,
   "metadata": {},
   "outputs": [
    {
     "data": {
      "text/plain": [
       "24    383\n",
       "23    311\n",
       "25    309\n",
       "27    282\n",
       "26    276\n",
       "22    261\n",
       "28    255\n",
       "30    218\n",
       "29    217\n",
       "31    151\n",
       "32    138\n",
       "21    105\n",
       "33    104\n",
       "34     59\n",
       "35     56\n",
       "36     44\n",
       "20     38\n",
       "37     33\n",
       "40     24\n",
       "38     23\n",
       "41     17\n",
       "42     13\n",
       "39     12\n",
       "43      9\n",
       "44      6\n",
       "45      4\n",
       "19      3\n",
       "46      1\n",
       "50      1\n",
       "48      1\n",
       "Name: Age, dtype: int64"
      ]
     },
     "execution_count": 749,
     "metadata": {},
     "output_type": "execute_result"
    }
   ],
   "source": [
    "df_1.Age.value_counts()"
   ]
  },
  {
   "cell_type": "code",
   "execution_count": 750,
   "metadata": {},
   "outputs": [
    {
     "data": {
      "text/plain": [
       "Karnataka            1959\n",
       "Tamil Nadu            310\n",
       "Kerala                293\n",
       "Andhra Pradesh        178\n",
       "West Bengal           171\n",
       "New Delhi             126\n",
       "Haryana                86\n",
       "Maharashtra            61\n",
       "Uttar Pradesh          49\n",
       "Telangana              49\n",
       "Jharkhand              16\n",
       "Gujarat                13\n",
       "Orissa                  9\n",
       "Uttarakhand             8\n",
       "Assam                   6\n",
       "Madhya Pradesh          6\n",
       "Rajasthan               4\n",
       "Chhattisgarh            2\n",
       "Punjab                  2\n",
       "England                 1\n",
       "Jammu and Kashmir       1\n",
       "Australia               1\n",
       "Georgia                 1\n",
       "HARYANA                 1\n",
       "Sharjah                 1\n",
       "Name: Original_State, dtype: int64"
      ]
     },
     "execution_count": 750,
     "metadata": {},
     "output_type": "execute_result"
    }
   ],
   "source": [
    "df_1.Original_State.value_counts()"
   ]
  },
  {
   "cell_type": "code",
   "execution_count": 751,
   "metadata": {},
   "outputs": [
    {
     "name": "stdout",
     "output_type": "stream",
     "text": [
      "BEFORE ENCODING : 0    Joined\n",
      "1    Joined\n",
      "2    Joined\n",
      "3    Joined\n",
      "4    Joined\n",
      "5    Joined\n",
      "6    Joined\n",
      "7    Joined\n",
      "8    Joined\n",
      "9    Joined\n",
      "Name: OverallStatus_Labelenc, dtype: object\n",
      "\n",
      "ENCODED CLASSES : ['Joined' 'OfferDeclined']\n",
      "\n",
      "0    2665\n",
      "1     689\n",
      "Name: OverallStatus_Labelenc, dtype: int64\n",
      "Joined           2665\n",
      "OfferDeclined     689\n",
      "Name: OverallStatus, dtype: int64\n"
     ]
    },
    {
     "name": "stderr",
     "output_type": "stream",
     "text": [
      "c:\\users\\nisha.nath\\appdata\\local\\programs\\python\\python37-32\\lib\\site-packages\\ipykernel_launcher.py:1: SettingWithCopyWarning: \n",
      "A value is trying to be set on a copy of a slice from a DataFrame.\n",
      "Try using .loc[row_indexer,col_indexer] = value instead\n",
      "\n",
      "See the caveats in the documentation: http://pandas.pydata.org/pandas-docs/stable/user_guide/indexing.html#returning-a-view-versus-a-copy\n",
      "  \"\"\"Entry point for launching an IPython kernel.\n",
      "c:\\users\\nisha.nath\\appdata\\local\\programs\\python\\python37-32\\lib\\site-packages\\ipykernel_launcher.py:12: SettingWithCopyWarning: \n",
      "A value is trying to be set on a copy of a slice from a DataFrame.\n",
      "Try using .loc[row_indexer,col_indexer] = value instead\n",
      "\n",
      "See the caveats in the documentation: http://pandas.pydata.org/pandas-docs/stable/user_guide/indexing.html#returning-a-view-versus-a-copy\n",
      "  if sys.path[0] == '':\n"
     ]
    }
   ],
   "source": [
    "df_1['OverallStatus_Labelenc'] = df[\"OverallStatus\"].values\n",
    "print(\"BEFORE ENCODING : {}\".format(df_1.OverallStatus_Labelenc[0:10]))\n",
    "\n",
    "print(\"\")\n",
    "\n",
    "le = preprocessing.LabelEncoder()\n",
    "le.fit(df_1.OverallStatus)\n",
    "\n",
    "print(\"ENCODED CLASSES : {}\".format(le.classes_))\n",
    "print(\"\")\n",
    "\n",
    "df_1['OverallStatus_Labelenc'] = le.transform(df.OverallStatus)\n",
    "\n",
    "print(df_1.OverallStatus_Labelenc.value_counts())\n",
    "print(df.OverallStatus.value_counts())"
   ]
  },
  {
   "cell_type": "code",
   "execution_count": 752,
   "metadata": {},
   "outputs": [],
   "source": [
    "#df['Hike'] = df['Hike'].astype(int64)\n",
    "df['Hike'] = df['Hike'].astype(int)"
   ]
  },
  {
   "cell_type": "code",
   "execution_count": 753,
   "metadata": {},
   "outputs": [
    {
     "data": {
      "text/plain": [
       "Index(['OfferId', 'OverallStatus', 'Status', 'Hiretype', 'RecruiterGPN',\n",
       "       'Title', 'DateOfBirth', 'Original_State', 'PinCode', 'Source',\n",
       "       'Department', 'IT', 'Joining_Center', 'Facility', 'Rank',\n",
       "       'IsRotationalShift', 'NoticePeriod', 'Qualification1', 'Big_four',\n",
       "       'DAndI', 'Hike', 'JoiningBonus', 'GoodsTransportationTravelEligibility',\n",
       "       'Stipend', 'Experienced', 'IsNoticePeriodReimbursementProvided',\n",
       "       'ExpectedJoiningDate', 'ActualJoiningDate', 'DOB_year', 'Age'],\n",
       "      dtype='object')"
      ]
     },
     "execution_count": 753,
     "metadata": {},
     "output_type": "execute_result"
    }
   ],
   "source": [
    "df.columns"
   ]
  },
  {
   "cell_type": "code",
   "execution_count": 754,
   "metadata": {},
   "outputs": [
    {
     "data": {
      "text/plain": [
       "Index(['OverallStatus', 'Hiretype', 'RecruiterGPN', 'Title', 'Age',\n",
       "       'Original_State', 'PinCode', 'Source', 'Department', 'IT',\n",
       "       'Joining_Center', 'Facility', 'Rank', 'IsRotationalShift',\n",
       "       'NoticePeriod', 'Qualification1', 'Hike', 'Big_four', 'JoiningBonus',\n",
       "       'GoodsTransportationTravelEligibility', 'Stipend', 'Experienced',\n",
       "       'IsNoticePeriodReimbursementProvided', 'ExpectedJoiningDate',\n",
       "       'Expected_Month', 'OverallStatus_Labelenc'],\n",
       "      dtype='object')"
      ]
     },
     "execution_count": 754,
     "metadata": {},
     "output_type": "execute_result"
    }
   ],
   "source": [
    "df_1.columns"
   ]
  },
  {
   "cell_type": "code",
   "execution_count": 755,
   "metadata": {},
   "outputs": [],
   "source": [
    "df_1 = df_1[['OverallStatus_Labelenc','Hiretype', 'RecruiterGPN',\n",
    "       'Title', 'Age', 'Original_State', 'PinCode', 'Source',\n",
    "       'Department', 'IT', 'Joining_Center', 'Facility', 'Rank','Big_four',\n",
    "       'IsRotationalShift', 'NoticePeriod', 'Qualification1','Hike', 'JoiningBonus',\n",
    "       'GoodsTransportationTravelEligibility', 'Stipend', 'Experienced',\n",
    "       'IsNoticePeriodReimbursementProvided', 'Expected_Month']]"
   ]
  },
  {
   "cell_type": "code",
   "execution_count": 756,
   "metadata": {},
   "outputs": [
    {
     "data": {
      "text/plain": [
       "OverallStatus_Labelenc                   int32\n",
       "Hiretype                                object\n",
       "RecruiterGPN                            object\n",
       "Title                                   object\n",
       "Age                                      int64\n",
       "Original_State                          object\n",
       "PinCode                                  int64\n",
       "Source                                  object\n",
       "Department                              object\n",
       "IT                                       int64\n",
       "Joining_Center                          object\n",
       "Facility                                object\n",
       "Rank                                     int64\n",
       "Big_four                                 int64\n",
       "IsRotationalShift                         bool\n",
       "NoticePeriod                             int64\n",
       "Qualification1                          object\n",
       "Hike                                     int32\n",
       "JoiningBonus                             int64\n",
       "GoodsTransportationTravelEligibility     int64\n",
       "Stipend                                  int64\n",
       "Experienced                              int64\n",
       "IsNoticePeriodReimbursementProvided      int64\n",
       "Expected_Month                           int64\n",
       "dtype: object"
      ]
     },
     "execution_count": 756,
     "metadata": {},
     "output_type": "execute_result"
    }
   ],
   "source": [
    "df_1.dtypes"
   ]
  },
  {
   "cell_type": "code",
   "execution_count": 934,
   "metadata": {},
   "outputs": [],
   "source": [
    "X = df_1[['Hiretype','Title', 'Age', 'Source', 'IT', 'Joining_Center','RecruiterGPN', 'Rank', 'NoticePeriod','Big_four','Qualification1','Hike', 'Experienced','Expected_Month','IsNoticePeriodReimbursementProvided']]"
   ]
  },
  {
   "cell_type": "code",
   "execution_count": 935,
   "metadata": {},
   "outputs": [
    {
     "data": {
      "text/plain": [
       "Hiretype                               object\n",
       "Title                                  object\n",
       "Age                                     int64\n",
       "Source                                 object\n",
       "IT                                      int64\n",
       "Joining_Center                         object\n",
       "RecruiterGPN                           object\n",
       "Rank                                    int64\n",
       "NoticePeriod                            int64\n",
       "Big_four                                int64\n",
       "Qualification1                         object\n",
       "Hike                                    int32\n",
       "Experienced                             int64\n",
       "Expected_Month                          int64\n",
       "IsNoticePeriodReimbursementProvided     int64\n",
       "dtype: object"
      ]
     },
     "execution_count": 935,
     "metadata": {},
     "output_type": "execute_result"
    }
   ],
   "source": [
    "X.dtypes"
   ]
  },
  {
   "cell_type": "code",
   "execution_count": 936,
   "metadata": {},
   "outputs": [
    {
     "data": {
      "text/plain": [
       "Hiretype                               0\n",
       "Title                                  0\n",
       "Age                                    0\n",
       "Source                                 0\n",
       "IT                                     0\n",
       "Joining_Center                         0\n",
       "RecruiterGPN                           0\n",
       "Rank                                   0\n",
       "NoticePeriod                           0\n",
       "Big_four                               0\n",
       "Qualification1                         0\n",
       "Hike                                   0\n",
       "Experienced                            0\n",
       "Expected_Month                         0\n",
       "IsNoticePeriodReimbursementProvided    0\n",
       "dtype: int64"
      ]
     },
     "execution_count": 936,
     "metadata": {},
     "output_type": "execute_result"
    }
   ],
   "source": [
    "X.isnull().sum()"
   ]
  },
  {
   "cell_type": "code",
   "execution_count": 937,
   "metadata": {},
   "outputs": [],
   "source": [
    "y = df_1[['OverallStatus_Labelenc']]"
   ]
  },
  {
   "cell_type": "code",
   "execution_count": 938,
   "metadata": {},
   "outputs": [],
   "source": [
    "from sklearn.preprocessing import StandardScaler, OneHotEncoder, MinMaxScaler\n",
    "from sklearn.compose import make_column_transformer\n",
    "from sklearn.metrics import confusion_matrix\n",
    "numColList=(X.dtypes[(X.dtypes==\"int64\") | (X.dtypes==\"int\")]).index\n",
    "strColList=X.dtypes[X.dtypes==\"object\"].index\n",
    "enc=make_column_transformer(\n",
    "    (MinMaxScaler(), numColList),\n",
    "    (OneHotEncoder(),strColList))\n",
    "X_transform=enc.fit_transform(X)\n",
    "X_train, X_test, y_train, y_test = train_test_split(X_transform, y, random_state=0)"
   ]
  },
  {
   "cell_type": "code",
   "execution_count": 939,
   "metadata": {},
   "outputs": [
    {
     "data": {
      "text/plain": [
       "Index(['Hiretype', 'Title', 'Source', 'Joining_Center', 'RecruiterGPN',\n",
       "       'Qualification1'],\n",
       "      dtype='object')"
      ]
     },
     "execution_count": 939,
     "metadata": {},
     "output_type": "execute_result"
    }
   ],
   "source": [
    "strColList"
   ]
  },
  {
   "cell_type": "code",
   "execution_count": 940,
   "metadata": {},
   "outputs": [
    {
     "data": {
      "text/plain": [
       "Index(['Age', 'IT', 'Rank', 'NoticePeriod', 'Big_four', 'Hike', 'Experienced',\n",
       "       'Expected_Month', 'IsNoticePeriodReimbursementProvided'],\n",
       "      dtype='object')"
      ]
     },
     "execution_count": 940,
     "metadata": {},
     "output_type": "execute_result"
    }
   ],
   "source": [
    "numColList"
   ]
  },
  {
   "cell_type": "code",
   "execution_count": 941,
   "metadata": {},
   "outputs": [
    {
     "data": {
      "text/plain": [
       "(2515, 56)"
      ]
     },
     "execution_count": 941,
     "metadata": {},
     "output_type": "execute_result"
    }
   ],
   "source": [
    "X_train.shape"
   ]
  },
  {
   "cell_type": "code",
   "execution_count": 942,
   "metadata": {},
   "outputs": [
    {
     "data": {
      "text/plain": [
       "(2515, 1)"
      ]
     },
     "execution_count": 942,
     "metadata": {},
     "output_type": "execute_result"
    }
   ],
   "source": [
    "y_train.shape"
   ]
  },
  {
   "cell_type": "code",
   "execution_count": 943,
   "metadata": {},
   "outputs": [
    {
     "data": {
      "text/plain": [
       "0    655\n",
       "1    184\n",
       "Name: OverallStatus_Labelenc, dtype: int64"
      ]
     },
     "execution_count": 943,
     "metadata": {},
     "output_type": "execute_result"
    }
   ],
   "source": [
    "y_test.OverallStatus_Labelenc.value_counts()"
   ]
  },
  {
   "cell_type": "code",
   "execution_count": 944,
   "metadata": {},
   "outputs": [
    {
     "name": "stderr",
     "output_type": "stream",
     "text": [
      "c:\\users\\nisha.nath\\appdata\\local\\programs\\python\\python37-32\\lib\\site-packages\\sklearn\\ensemble\\gradient_boosting.py:1450: DataConversionWarning: A column-vector y was passed when a 1d array was expected. Please change the shape of y to (n_samples, ), for example using ravel().\n",
      "  y = column_or_1d(y, warn=True)\n"
     ]
    },
    {
     "name": "stdout",
     "output_type": "stream",
     "text": [
      "Test Accuracy 0.7771156138259833\n"
     ]
    },
    {
     "data": {
      "text/plain": [
       "array([[619,  36],\n",
       "       [151,  33]], dtype=int64)"
      ]
     },
     "execution_count": 944,
     "metadata": {},
     "output_type": "execute_result"
    }
   ],
   "source": [
    "from sklearn.model_selection import train_test_split\n",
    "from sklearn.metrics import precision_recall_fscore_support\n",
    "from sklearn.metrics import recall_score\n",
    "from sklearn.ensemble import GradientBoostingClassifier\n",
    "\n",
    "from sklearn.pipeline import Pipeline\n",
    "from sklearn.multiclass import OneVsRestClassifier\n",
    "from sklearn.model_selection import GridSearchCV\n",
    "#from adspy_shared_utilities import plot_class_regions_for_classifier_subplot\n",
    "\n",
    "#X_train, X_test, y_train, y_test = train_test_split(X, y, random_state=0)\n",
    "\n",
    "clf = GradientBoostingClassifier(max_depth=2, n_estimators=1000, learning_rate =0.1).fit(X_train, y_train)\n",
    "prediction_on_testData=clf.predict(X_test)\n",
    "print(\"Test Accuracy\", clf.score(X_test,y_test))\n",
    "confusion_matrix(y_test,prediction_on_testData)"
   ]
  },
  {
   "cell_type": "code",
   "execution_count": 945,
   "metadata": {},
   "outputs": [
    {
     "name": "stdout",
     "output_type": "stream",
     "text": [
      "[0.94503817 0.17934783]\n"
     ]
    }
   ],
   "source": [
    "print(metrics.recall_score(y_test,prediction_on_testData, average = None))"
   ]
  },
  {
   "cell_type": "code",
   "execution_count": 807,
   "metadata": {},
   "outputs": [
    {
     "name": "stdout",
     "output_type": "stream",
     "text": [
      "Fitting 2 folds for each of 990 candidates, totalling 1980 fits\n"
     ]
    },
    {
     "name": "stderr",
     "output_type": "stream",
     "text": [
      "[Parallel(n_jobs=5)]: Using backend LokyBackend with 5 concurrent workers.\n",
      "[Parallel(n_jobs=5)]: Done  22 tasks      | elapsed:   20.8s\n",
      "[Parallel(n_jobs=5)]: Done 118 tasks      | elapsed:  1.5min\n",
      "[Parallel(n_jobs=5)]: Done 278 tasks      | elapsed:  3.4min\n",
      "[Parallel(n_jobs=5)]: Done 502 tasks      | elapsed:  6.2min\n",
      "[Parallel(n_jobs=5)]: Done 790 tasks      | elapsed:  9.5min\n",
      "[Parallel(n_jobs=5)]: Done 1142 tasks      | elapsed: 13.4min\n",
      "[Parallel(n_jobs=5)]: Done 1558 tasks      | elapsed: 17.4min\n",
      "[Parallel(n_jobs=5)]: Done 1980 out of 1980 | elapsed: 21.1min finished\n",
      "c:\\users\\nisha.nath\\appdata\\local\\programs\\python\\python37-32\\lib\\site-packages\\sklearn\\ensemble\\gradient_boosting.py:1450: DataConversionWarning: A column-vector y was passed when a 1d array was expected. Please change the shape of y to (n_samples, ), for example using ravel().\n",
      "  y = column_or_1d(y, warn=True)\n"
     ]
    },
    {
     "name": "stdout",
     "output_type": "stream",
     "text": [
      "0.7992047713717694\n",
      "Best parameters set:\n",
      "[('estimator', GradientBoostingClassifier(learning_rate=0.01, max_depth=10, n_estimators=5))]\n"
     ]
    }
   ],
   "source": [
    "pipe = Pipeline(steps=[('estimator', GradientBoostingClassifier())])\n",
    "\n",
    "parameters = [{\n",
    "    'estimator__n_estimators': (5,10,20,30,40,50,60,70,80,90),\n",
    "    'estimator__learning_rate': [0.01,0.03,0.05,.07,0.09,0.1,0.2,.3,.4,.5,1],\n",
    "    'estimator__max_depth':(10,20,30,40,50,60,70,80,90),\n",
    "}]\n",
    "\n",
    "grid_search_tune = GridSearchCV(pipe, parameters, cv=2, n_jobs=5, verbose=3)\n",
    "grid_search_tune.fit(X_train, y_train)\n",
    "print(grid_search_tune.score(X_train,y_train))\n",
    "\n",
    "print(\"Best parameters set:\")\n",
    "print(grid_search_tune.best_estimator_.steps)\n"
   ]
  },
  {
   "cell_type": "code",
   "execution_count": 946,
   "metadata": {},
   "outputs": [
    {
     "name": "stderr",
     "output_type": "stream",
     "text": [
      "c:\\users\\nisha.nath\\appdata\\local\\programs\\python\\python37-32\\lib\\site-packages\\sklearn\\ensemble\\gradient_boosting.py:1450: DataConversionWarning: A column-vector y was passed when a 1d array was expected. Please change the shape of y to (n_samples, ), for example using ravel().\n",
      "  y = column_or_1d(y, warn=True)\n",
      "c:\\users\\nisha.nath\\appdata\\local\\programs\\python\\python37-32\\lib\\site-packages\\sklearn\\ensemble\\gradient_boosting.py:1450: DataConversionWarning: A column-vector y was passed when a 1d array was expected. Please change the shape of y to (n_samples, ), for example using ravel().\n",
      "  y = column_or_1d(y, warn=True)\n"
     ]
    },
    {
     "name": "stdout",
     "output_type": "stream",
     "text": [
      "Test Accuracy 0.7806912991656734\n",
      "[[619  36]\n",
      " [151  33]]\n",
      "[0.94503817 0.17934783]\n"
     ]
    }
   ],
   "source": [
    "clf = GradientBoostingClassifier(criterion='friedman_mse', init=None,\n",
    "                           learning_rate=0.01, loss='deviance', max_depth=10,\n",
    "                           max_features=None, max_leaf_nodes=None,\n",
    "                           min_impurity_decrease=0.0, min_impurity_split=None,\n",
    "                           min_samples_leaf=1, min_samples_split=2,\n",
    "                           min_weight_fraction_leaf=0.0, n_estimators=5,\n",
    "                           n_iter_no_change=None, presort='auto',\n",
    "                           random_state=None, subsample=1.0, tol=0.0001,\n",
    "                           validation_fraction=0.1, verbose=0,\n",
    "                           warm_start=False).fit(X_train, y_train)\n",
    "#prediction_on_testData=clf.predict(X_test)\n",
    "clf.fit(X_train,y_train)\n",
    "prob_predict = clf.predict(X_test)\n",
    "print(\"Test Accuracy\", clf.score(X_test,y_test))\n",
    "print(confusion_matrix(y_test,prediction_on_testData))\n",
    "print(metrics.recall_score(y_test,prediction_on_testData, average = None))"
   ]
  },
  {
   "cell_type": "code",
   "execution_count": 836,
   "metadata": {},
   "outputs": [
    {
     "data": {
      "text/plain": [
       "array([[0.16129032, 0.        , 1.        , ..., 1.        , 0.        ,\n",
       "        0.        ],\n",
       "       [0.19354839, 0.        , 1.        , ..., 0.        , 0.        ,\n",
       "        1.        ],\n",
       "       [0.16129032, 0.        , 1.        , ..., 0.        , 0.        ,\n",
       "        1.        ],\n",
       "       ...,\n",
       "       [0.41935484, 0.        , 0.95      , ..., 0.        , 0.        ,\n",
       "        1.        ],\n",
       "       [0.16129032, 0.        , 1.        , ..., 0.        , 0.        ,\n",
       "        1.        ],\n",
       "       [0.4516129 , 1.        , 0.95      , ..., 0.        , 0.        ,\n",
       "        1.        ]])"
      ]
     },
     "execution_count": 836,
     "metadata": {},
     "output_type": "execute_result"
    }
   ],
   "source": [
    "X_train"
   ]
  },
  {
   "cell_type": "code",
   "execution_count": 837,
   "metadata": {},
   "outputs": [
    {
     "ename": "AttributeError",
     "evalue": "'numpy.ndarray' object has no attribute 'to_numpy'",
     "output_type": "error",
     "traceback": [
      "\u001b[1;31m---------------------------------------------------------------------------\u001b[0m",
      "\u001b[1;31mAttributeError\u001b[0m                            Traceback (most recent call last)",
      "\u001b[1;32m<ipython-input-837-bd78dff86ae6>\u001b[0m in \u001b[0;36m<module>\u001b[1;34m\u001b[0m\n\u001b[1;32m----> 1\u001b[1;33m \u001b[0my_train\u001b[0m \u001b[1;33m=\u001b[0m \u001b[0my_train\u001b[0m\u001b[1;33m.\u001b[0m\u001b[0mto_numpy\u001b[0m\u001b[1;33m(\u001b[0m\u001b[1;33m)\u001b[0m\u001b[1;33m\u001b[0m\u001b[1;33m\u001b[0m\u001b[0m\n\u001b[0m",
      "\u001b[1;31mAttributeError\u001b[0m: 'numpy.ndarray' object has no attribute 'to_numpy'"
     ]
    }
   ],
   "source": [
    "y_train = y_train.to_numpy()"
   ]
  },
  {
   "cell_type": "code",
   "execution_count": 838,
   "metadata": {},
   "outputs": [
    {
     "name": "stderr",
     "output_type": "stream",
     "text": [
      "c:\\users\\nisha.nath\\appdata\\local\\programs\\python\\python37-32\\lib\\site-packages\\sklearn\\ensemble\\gradient_boosting.py:1450: DataConversionWarning: A column-vector y was passed when a 1d array was expected. Please change the shape of y to (n_samples, ), for example using ravel().\n",
      "  y = column_or_1d(y, warn=True)\n",
      "c:\\users\\nisha.nath\\appdata\\local\\programs\\python\\python37-32\\lib\\site-packages\\sklearn\\ensemble\\gradient_boosting.py:1450: DataConversionWarning: A column-vector y was passed when a 1d array was expected. Please change the shape of y to (n_samples, ), for example using ravel().\n",
      "  y = column_or_1d(y, warn=True)\n",
      "c:\\users\\nisha.nath\\appdata\\local\\programs\\python\\python37-32\\lib\\site-packages\\sklearn\\ensemble\\gradient_boosting.py:1450: DataConversionWarning: A column-vector y was passed when a 1d array was expected. Please change the shape of y to (n_samples, ), for example using ravel().\n",
      "  y = column_or_1d(y, warn=True)\n",
      "c:\\users\\nisha.nath\\appdata\\local\\programs\\python\\python37-32\\lib\\site-packages\\sklearn\\ensemble\\gradient_boosting.py:1450: DataConversionWarning: A column-vector y was passed when a 1d array was expected. Please change the shape of y to (n_samples, ), for example using ravel().\n",
      "  y = column_or_1d(y, warn=True)\n",
      "c:\\users\\nisha.nath\\appdata\\local\\programs\\python\\python37-32\\lib\\site-packages\\sklearn\\ensemble\\gradient_boosting.py:1450: DataConversionWarning: A column-vector y was passed when a 1d array was expected. Please change the shape of y to (n_samples, ), for example using ravel().\n",
      "  y = column_or_1d(y, warn=True)\n",
      "c:\\users\\nisha.nath\\appdata\\local\\programs\\python\\python37-32\\lib\\site-packages\\sklearn\\ensemble\\gradient_boosting.py:1450: DataConversionWarning: A column-vector y was passed when a 1d array was expected. Please change the shape of y to (n_samples, ), for example using ravel().\n",
      "  y = column_or_1d(y, warn=True)\n",
      "c:\\users\\nisha.nath\\appdata\\local\\programs\\python\\python37-32\\lib\\site-packages\\sklearn\\ensemble\\gradient_boosting.py:1450: DataConversionWarning: A column-vector y was passed when a 1d array was expected. Please change the shape of y to (n_samples, ), for example using ravel().\n",
      "  y = column_or_1d(y, warn=True)\n",
      "c:\\users\\nisha.nath\\appdata\\local\\programs\\python\\python37-32\\lib\\site-packages\\sklearn\\ensemble\\gradient_boosting.py:1450: DataConversionWarning: A column-vector y was passed when a 1d array was expected. Please change the shape of y to (n_samples, ), for example using ravel().\n",
      "  y = column_or_1d(y, warn=True)\n",
      "c:\\users\\nisha.nath\\appdata\\local\\programs\\python\\python37-32\\lib\\site-packages\\sklearn\\ensemble\\gradient_boosting.py:1450: DataConversionWarning: A column-vector y was passed when a 1d array was expected. Please change the shape of y to (n_samples, ), for example using ravel().\n",
      "  y = column_or_1d(y, warn=True)\n",
      "c:\\users\\nisha.nath\\appdata\\local\\programs\\python\\python37-32\\lib\\site-packages\\sklearn\\ensemble\\gradient_boosting.py:1450: DataConversionWarning: A column-vector y was passed when a 1d array was expected. Please change the shape of y to (n_samples, ), for example using ravel().\n",
      "  y = column_or_1d(y, warn=True)\n"
     ]
    },
    {
     "data": {
      "text/plain": [
       "array([0., 0., 0., 0., 0., 0., 0., 0., 0., 0.])"
      ]
     },
     "execution_count": 838,
     "metadata": {},
     "output_type": "execute_result"
    }
   ],
   "source": [
    "cross_val_score(clf, X_train, y_train, scoring='recall', cv=10) "
   ]
  },
  {
   "cell_type": "code",
   "execution_count": 374,
   "metadata": {},
   "outputs": [],
   "source": [
    "?GradientBoostingClassifier"
   ]
  },
  {
   "cell_type": "code",
   "execution_count": 144,
   "metadata": {},
   "outputs": [],
   "source": [
    "Proba_pre = clf.predict_proba(X_test)"
   ]
  },
  {
   "cell_type": "code",
   "execution_count": 147,
   "metadata": {},
   "outputs": [],
   "source": [
    "df_proba = pd.DataFrame(Proba_pre)"
   ]
  },
  {
   "cell_type": "code",
   "execution_count": 154,
   "metadata": {},
   "outputs": [
    {
     "data": {
      "text/html": [
       "<div>\n",
       "<style scoped>\n",
       "    .dataframe tbody tr th:only-of-type {\n",
       "        vertical-align: middle;\n",
       "    }\n",
       "\n",
       "    .dataframe tbody tr th {\n",
       "        vertical-align: top;\n",
       "    }\n",
       "\n",
       "    .dataframe thead th {\n",
       "        text-align: right;\n",
       "    }\n",
       "</style>\n",
       "<table border=\"1\" class=\"dataframe\">\n",
       "  <thead>\n",
       "    <tr style=\"text-align: right;\">\n",
       "      <th></th>\n",
       "      <th>OverallStatus_Labelenc</th>\n",
       "    </tr>\n",
       "  </thead>\n",
       "  <tbody>\n",
       "    <tr>\n",
       "      <td>3256</td>\n",
       "      <td>0</td>\n",
       "    </tr>\n",
       "    <tr>\n",
       "      <td>1808</td>\n",
       "      <td>1</td>\n",
       "    </tr>\n",
       "    <tr>\n",
       "      <td>3338</td>\n",
       "      <td>0</td>\n",
       "    </tr>\n",
       "    <tr>\n",
       "      <td>1318</td>\n",
       "      <td>0</td>\n",
       "    </tr>\n",
       "    <tr>\n",
       "      <td>1128</td>\n",
       "      <td>0</td>\n",
       "    </tr>\n",
       "    <tr>\n",
       "      <td>...</td>\n",
       "      <td>...</td>\n",
       "    </tr>\n",
       "    <tr>\n",
       "      <td>2784</td>\n",
       "      <td>0</td>\n",
       "    </tr>\n",
       "    <tr>\n",
       "      <td>2426</td>\n",
       "      <td>0</td>\n",
       "    </tr>\n",
       "    <tr>\n",
       "      <td>1363</td>\n",
       "      <td>0</td>\n",
       "    </tr>\n",
       "    <tr>\n",
       "      <td>3234</td>\n",
       "      <td>0</td>\n",
       "    </tr>\n",
       "    <tr>\n",
       "      <td>778</td>\n",
       "      <td>1</td>\n",
       "    </tr>\n",
       "  </tbody>\n",
       "</table>\n",
       "<p>839 rows × 1 columns</p>\n",
       "</div>"
      ],
      "text/plain": [
       "      OverallStatus_Labelenc\n",
       "3256                       0\n",
       "1808                       1\n",
       "3338                       0\n",
       "1318                       0\n",
       "1128                       0\n",
       "...                      ...\n",
       "2784                       0\n",
       "2426                       0\n",
       "1363                       0\n",
       "3234                       0\n",
       "778                        1\n",
       "\n",
       "[839 rows x 1 columns]"
      ]
     },
     "execution_count": 154,
     "metadata": {},
     "output_type": "execute_result"
    }
   ],
   "source": [
    "y_test"
   ]
  },
  {
   "cell_type": "code",
   "execution_count": 158,
   "metadata": {},
   "outputs": [
    {
     "data": {
      "text/html": [
       "<div>\n",
       "<style scoped>\n",
       "    .dataframe tbody tr th:only-of-type {\n",
       "        vertical-align: middle;\n",
       "    }\n",
       "\n",
       "    .dataframe tbody tr th {\n",
       "        vertical-align: top;\n",
       "    }\n",
       "\n",
       "    .dataframe thead th {\n",
       "        text-align: right;\n",
       "    }\n",
       "</style>\n",
       "<table border=\"1\" class=\"dataframe\">\n",
       "  <thead>\n",
       "    <tr style=\"text-align: right;\">\n",
       "      <th></th>\n",
       "      <th>OverallStatus_Labelenc</th>\n",
       "      <th>0</th>\n",
       "      <th>1</th>\n",
       "    </tr>\n",
       "  </thead>\n",
       "  <tbody>\n",
       "    <tr>\n",
       "      <td>0</td>\n",
       "      <td>NaN</td>\n",
       "      <td>0.864315</td>\n",
       "      <td>0.135685</td>\n",
       "    </tr>\n",
       "    <tr>\n",
       "      <td>1</td>\n",
       "      <td>0.0</td>\n",
       "      <td>0.828406</td>\n",
       "      <td>0.171594</td>\n",
       "    </tr>\n",
       "    <tr>\n",
       "      <td>2</td>\n",
       "      <td>NaN</td>\n",
       "      <td>0.846220</td>\n",
       "      <td>0.153780</td>\n",
       "    </tr>\n",
       "    <tr>\n",
       "      <td>3</td>\n",
       "      <td>NaN</td>\n",
       "      <td>0.828406</td>\n",
       "      <td>0.171594</td>\n",
       "    </tr>\n",
       "    <tr>\n",
       "      <td>4</td>\n",
       "      <td>0.0</td>\n",
       "      <td>0.843780</td>\n",
       "      <td>0.156220</td>\n",
       "    </tr>\n",
       "    <tr>\n",
       "      <td>...</td>\n",
       "      <td>...</td>\n",
       "      <td>...</td>\n",
       "      <td>...</td>\n",
       "    </tr>\n",
       "    <tr>\n",
       "      <td>3341</td>\n",
       "      <td>0.0</td>\n",
       "      <td>NaN</td>\n",
       "      <td>NaN</td>\n",
       "    </tr>\n",
       "    <tr>\n",
       "      <td>3345</td>\n",
       "      <td>0.0</td>\n",
       "      <td>NaN</td>\n",
       "      <td>NaN</td>\n",
       "    </tr>\n",
       "    <tr>\n",
       "      <td>3349</td>\n",
       "      <td>0.0</td>\n",
       "      <td>NaN</td>\n",
       "      <td>NaN</td>\n",
       "    </tr>\n",
       "    <tr>\n",
       "      <td>3352</td>\n",
       "      <td>0.0</td>\n",
       "      <td>NaN</td>\n",
       "      <td>NaN</td>\n",
       "    </tr>\n",
       "    <tr>\n",
       "      <td>3353</td>\n",
       "      <td>0.0</td>\n",
       "      <td>NaN</td>\n",
       "      <td>NaN</td>\n",
       "    </tr>\n",
       "  </tbody>\n",
       "</table>\n",
       "<p>1462 rows × 3 columns</p>\n",
       "</div>"
      ],
      "text/plain": [
       "      OverallStatus_Labelenc         0         1\n",
       "0                        NaN  0.864315  0.135685\n",
       "1                        0.0  0.828406  0.171594\n",
       "2                        NaN  0.846220  0.153780\n",
       "3                        NaN  0.828406  0.171594\n",
       "4                        0.0  0.843780  0.156220\n",
       "...                      ...       ...       ...\n",
       "3341                     0.0       NaN       NaN\n",
       "3345                     0.0       NaN       NaN\n",
       "3349                     0.0       NaN       NaN\n",
       "3352                     0.0       NaN       NaN\n",
       "3353                     0.0       NaN       NaN\n",
       "\n",
       "[1462 rows x 3 columns]"
      ]
     },
     "execution_count": 158,
     "metadata": {},
     "output_type": "execute_result"
    }
   ],
   "source": [
    "pd.concat([y_test, df_proba], axis=1)"
   ]
  },
  {
   "cell_type": "code",
   "execution_count": 947,
   "metadata": {},
   "outputs": [
    {
     "name": "stderr",
     "output_type": "stream",
     "text": [
      "c:\\users\\nisha.nath\\appdata\\local\\programs\\python\\python37-32\\lib\\site-packages\\sklearn\\ensemble\\gradient_boosting.py:1450: DataConversionWarning: A column-vector y was passed when a 1d array was expected. Please change the shape of y to (n_samples, ), for example using ravel().\n",
      "  y = column_or_1d(y, warn=True)\n"
     ]
    },
    {
     "name": "stdout",
     "output_type": "stream",
     "text": [
      "Test Accuracy 0.7723480333730631\n"
     ]
    },
    {
     "data": {
      "text/plain": [
       "array([0.98015267, 0.0326087 ])"
      ]
     },
     "execution_count": 947,
     "metadata": {},
     "output_type": "execute_result"
    }
   ],
   "source": [
    "clf = GradientBoostingClassifier(criterion='friedman_mse', init=None,\n",
    "                           learning_rate=0.09, loss='deviance', max_depth=10,\n",
    "                           max_features=None, max_leaf_nodes=None,\n",
    "                           min_impurity_decrease=0.0, min_impurity_split=None,\n",
    "                           min_samples_leaf=1, min_samples_split=2,\n",
    "                           min_weight_fraction_leaf=0.0, n_estimators=5,\n",
    "                           n_iter_no_change=None, presort='auto',\n",
    "                           random_state=None, subsample=1.0, tol=0.0001,\n",
    "                           validation_fraction=0.1, verbose=0,\n",
    "                           warm_start=False).fit(X_train, y_train)\n",
    "prediction_on_testData=clf.predict(X_test)\n",
    "print(\"Test Accuracy\", clf.score(X_test,y_test))\n",
    "confusion_matrix(prediction_on_testData,y_test)\n",
    "metrics.recall_score(y_test,prediction_on_testData,average = None)"
   ]
  },
  {
   "cell_type": "code",
   "execution_count": 948,
   "metadata": {},
   "outputs": [
    {
     "name": "stderr",
     "output_type": "stream",
     "text": [
      "c:\\users\\nisha.nath\\appdata\\local\\programs\\python\\python37-32\\lib\\site-packages\\ipykernel_launcher.py:3: DataConversionWarning: A column-vector y was passed when a 1d array was expected. Please change the shape of y to (n_samples,), for example using ravel().\n",
      "  This is separate from the ipykernel package so we can avoid doing imports until\n"
     ]
    },
    {
     "name": "stdout",
     "output_type": "stream",
     "text": [
      "[[611  44]\n",
      " [148  36]]\n",
      "[0.93282443 0.19565217]\n",
      "0.7711561382598331\n"
     ]
    }
   ],
   "source": [
    "from sklearn.ensemble import RandomForestClassifier\n",
    "rand_classifer = RandomForestClassifier(n_estimators=100,criterion='entropy',max_depth=100,class_weight={0:.40,1:.6},random_state=0)\n",
    "rand_classifer.fit(X_train,y_train)\n",
    "y_pred_randforest = rand_classifer.predict(X_test)\n",
    "print(metrics.confusion_matrix(y_test,y_pred_randforest))\n",
    "print(metrics.recall_score(y_test,y_pred_randforest, average = None))\n",
    "print(metrics.accuracy_score(y_test,y_pred_randforest))"
   ]
  },
  {
   "cell_type": "code",
   "execution_count": 821,
   "metadata": {},
   "outputs": [],
   "source": [
    "?RandomForestClassifier"
   ]
  },
  {
   "cell_type": "code",
   "execution_count": 554,
   "metadata": {},
   "outputs": [
    {
     "data": {
      "text/plain": [
       "Joined           655\n",
       "OfferDeclined    184\n",
       "Name: OverallStatus_Labelenc, dtype: int64"
      ]
     },
     "execution_count": 554,
     "metadata": {},
     "output_type": "execute_result"
    }
   ],
   "source": [
    "y_test.OverallStatus_Labelenc.value_counts()"
   ]
  },
  {
   "cell_type": "code",
   "execution_count": 139,
   "metadata": {},
   "outputs": [],
   "source": [
    "?LogisticRegression"
   ]
  },
  {
   "cell_type": "code",
   "execution_count": 365,
   "metadata": {},
   "outputs": [
    {
     "name": "stdout",
     "output_type": "stream",
     "text": [
      "[[640  15]\n",
      " [164  20]]\n",
      "[0.97709924 0.10869565]\n"
     ]
    }
   ],
   "source": [
    "from sklearn.preprocessing import binarize\n",
    "from sklearn.metrics import accuracy_score, roc_auc_score, auc\n",
    " \n",
    "t = 0.4  #threshold\n",
    "proba = clf.predict_proba(X_test)\n",
    "pred_at_t = binarize(proba, t)[:,1]\n",
    "\n",
    "print(metrics.confusion_matrix(y_test,pred_at_t))\n",
    "print(metrics.recall_score(y_test,pred_at_t,average = None))"
   ]
  },
  {
   "cell_type": "code",
   "execution_count": 950,
   "metadata": {},
   "outputs": [],
   "source": [
    "y_test = y_test.to_numpy()"
   ]
  },
  {
   "cell_type": "code",
   "execution_count": 951,
   "metadata": {},
   "outputs": [
    {
     "data": {
      "text/plain": [
       "array([[0],\n",
       "       [1],\n",
       "       [0],\n",
       "       [0],\n",
       "       [0],\n",
       "       [0],\n",
       "       [0],\n",
       "       [0],\n",
       "       [0],\n",
       "       [0],\n",
       "       [1],\n",
       "       [0],\n",
       "       [0],\n",
       "       [0],\n",
       "       [0],\n",
       "       [1],\n",
       "       [0],\n",
       "       [0],\n",
       "       [0],\n",
       "       [0],\n",
       "       [0],\n",
       "       [1],\n",
       "       [0],\n",
       "       [0],\n",
       "       [0],\n",
       "       [0],\n",
       "       [0],\n",
       "       [0],\n",
       "       [0],\n",
       "       [0],\n",
       "       [0],\n",
       "       [1],\n",
       "       [1],\n",
       "       [0],\n",
       "       [1],\n",
       "       [0],\n",
       "       [0],\n",
       "       [0],\n",
       "       [0],\n",
       "       [0],\n",
       "       [0],\n",
       "       [0],\n",
       "       [0],\n",
       "       [0],\n",
       "       [1],\n",
       "       [0],\n",
       "       [1],\n",
       "       [0],\n",
       "       [0],\n",
       "       [0],\n",
       "       [0],\n",
       "       [0],\n",
       "       [0],\n",
       "       [1],\n",
       "       [0],\n",
       "       [0],\n",
       "       [0],\n",
       "       [0],\n",
       "       [1],\n",
       "       [0],\n",
       "       [0],\n",
       "       [0],\n",
       "       [0],\n",
       "       [1],\n",
       "       [0],\n",
       "       [0],\n",
       "       [0],\n",
       "       [0],\n",
       "       [0],\n",
       "       [1],\n",
       "       [1],\n",
       "       [0],\n",
       "       [0],\n",
       "       [0],\n",
       "       [0],\n",
       "       [0],\n",
       "       [0],\n",
       "       [0],\n",
       "       [0],\n",
       "       [0],\n",
       "       [0],\n",
       "       [0],\n",
       "       [0],\n",
       "       [0],\n",
       "       [1],\n",
       "       [0],\n",
       "       [0],\n",
       "       [0],\n",
       "       [0],\n",
       "       [0],\n",
       "       [0],\n",
       "       [0],\n",
       "       [0],\n",
       "       [0],\n",
       "       [0],\n",
       "       [0],\n",
       "       [1],\n",
       "       [0],\n",
       "       [0],\n",
       "       [0],\n",
       "       [0],\n",
       "       [1],\n",
       "       [0],\n",
       "       [0],\n",
       "       [0],\n",
       "       [0],\n",
       "       [0],\n",
       "       [0],\n",
       "       [1],\n",
       "       [0],\n",
       "       [0],\n",
       "       [1],\n",
       "       [0],\n",
       "       [0],\n",
       "       [0],\n",
       "       [0],\n",
       "       [0],\n",
       "       [1],\n",
       "       [0],\n",
       "       [0],\n",
       "       [0],\n",
       "       [1],\n",
       "       [0],\n",
       "       [0],\n",
       "       [0],\n",
       "       [1],\n",
       "       [0],\n",
       "       [1],\n",
       "       [0],\n",
       "       [0],\n",
       "       [0],\n",
       "       [0],\n",
       "       [0],\n",
       "       [1],\n",
       "       [0],\n",
       "       [1],\n",
       "       [0],\n",
       "       [0],\n",
       "       [0],\n",
       "       [1],\n",
       "       [0],\n",
       "       [0],\n",
       "       [0],\n",
       "       [0],\n",
       "       [0],\n",
       "       [1],\n",
       "       [1],\n",
       "       [0],\n",
       "       [0],\n",
       "       [0],\n",
       "       [1],\n",
       "       [0],\n",
       "       [0],\n",
       "       [1],\n",
       "       [0],\n",
       "       [0],\n",
       "       [1],\n",
       "       [0],\n",
       "       [0],\n",
       "       [0],\n",
       "       [0],\n",
       "       [0],\n",
       "       [0],\n",
       "       [1],\n",
       "       [0],\n",
       "       [1],\n",
       "       [0],\n",
       "       [0],\n",
       "       [0],\n",
       "       [1],\n",
       "       [1],\n",
       "       [1],\n",
       "       [0],\n",
       "       [1],\n",
       "       [0],\n",
       "       [0],\n",
       "       [0],\n",
       "       [0],\n",
       "       [1],\n",
       "       [1],\n",
       "       [0],\n",
       "       [0],\n",
       "       [0],\n",
       "       [0],\n",
       "       [0],\n",
       "       [0],\n",
       "       [0],\n",
       "       [1],\n",
       "       [1],\n",
       "       [1],\n",
       "       [1],\n",
       "       [1],\n",
       "       [0],\n",
       "       [0],\n",
       "       [0],\n",
       "       [0],\n",
       "       [0],\n",
       "       [0],\n",
       "       [0],\n",
       "       [0],\n",
       "       [0],\n",
       "       [0],\n",
       "       [0],\n",
       "       [0],\n",
       "       [0],\n",
       "       [0],\n",
       "       [0],\n",
       "       [1],\n",
       "       [1],\n",
       "       [1],\n",
       "       [0],\n",
       "       [0],\n",
       "       [0],\n",
       "       [0],\n",
       "       [0],\n",
       "       [0],\n",
       "       [0],\n",
       "       [0],\n",
       "       [0],\n",
       "       [0],\n",
       "       [0],\n",
       "       [0],\n",
       "       [0],\n",
       "       [0],\n",
       "       [0],\n",
       "       [0],\n",
       "       [1],\n",
       "       [0],\n",
       "       [0],\n",
       "       [0],\n",
       "       [0],\n",
       "       [0],\n",
       "       [0],\n",
       "       [1],\n",
       "       [0],\n",
       "       [0],\n",
       "       [0],\n",
       "       [0],\n",
       "       [0],\n",
       "       [0],\n",
       "       [0],\n",
       "       [0],\n",
       "       [1],\n",
       "       [1],\n",
       "       [0],\n",
       "       [0],\n",
       "       [0],\n",
       "       [0],\n",
       "       [0],\n",
       "       [1],\n",
       "       [1],\n",
       "       [0],\n",
       "       [0],\n",
       "       [0],\n",
       "       [0],\n",
       "       [1],\n",
       "       [0],\n",
       "       [0],\n",
       "       [0],\n",
       "       [0],\n",
       "       [0],\n",
       "       [0],\n",
       "       [0],\n",
       "       [0],\n",
       "       [0],\n",
       "       [0],\n",
       "       [1],\n",
       "       [1],\n",
       "       [0],\n",
       "       [1],\n",
       "       [0],\n",
       "       [0],\n",
       "       [1],\n",
       "       [0],\n",
       "       [0],\n",
       "       [0],\n",
       "       [1],\n",
       "       [0],\n",
       "       [0],\n",
       "       [0],\n",
       "       [0],\n",
       "       [0],\n",
       "       [1],\n",
       "       [0],\n",
       "       [1],\n",
       "       [1],\n",
       "       [0],\n",
       "       [0],\n",
       "       [0],\n",
       "       [0],\n",
       "       [1],\n",
       "       [0],\n",
       "       [1],\n",
       "       [0],\n",
       "       [0],\n",
       "       [0],\n",
       "       [0],\n",
       "       [0],\n",
       "       [1],\n",
       "       [0],\n",
       "       [0],\n",
       "       [0],\n",
       "       [0],\n",
       "       [0],\n",
       "       [0],\n",
       "       [0],\n",
       "       [0],\n",
       "       [1],\n",
       "       [1],\n",
       "       [0],\n",
       "       [0],\n",
       "       [0],\n",
       "       [0],\n",
       "       [0],\n",
       "       [0],\n",
       "       [1],\n",
       "       [1],\n",
       "       [1],\n",
       "       [0],\n",
       "       [0],\n",
       "       [0],\n",
       "       [0],\n",
       "       [0],\n",
       "       [0],\n",
       "       [1],\n",
       "       [0],\n",
       "       [0],\n",
       "       [1],\n",
       "       [1],\n",
       "       [0],\n",
       "       [0],\n",
       "       [0],\n",
       "       [0],\n",
       "       [1],\n",
       "       [0],\n",
       "       [1],\n",
       "       [0],\n",
       "       [0],\n",
       "       [1],\n",
       "       [1],\n",
       "       [1],\n",
       "       [0],\n",
       "       [0],\n",
       "       [0],\n",
       "       [0],\n",
       "       [0],\n",
       "       [0],\n",
       "       [0],\n",
       "       [0],\n",
       "       [0],\n",
       "       [1],\n",
       "       [0],\n",
       "       [0],\n",
       "       [1],\n",
       "       [0],\n",
       "       [0],\n",
       "       [0],\n",
       "       [1],\n",
       "       [0],\n",
       "       [0],\n",
       "       [1],\n",
       "       [0],\n",
       "       [0],\n",
       "       [0],\n",
       "       [0],\n",
       "       [0],\n",
       "       [0],\n",
       "       [0],\n",
       "       [0],\n",
       "       [0],\n",
       "       [0],\n",
       "       [0],\n",
       "       [0],\n",
       "       [0],\n",
       "       [0],\n",
       "       [1],\n",
       "       [1],\n",
       "       [0],\n",
       "       [0],\n",
       "       [0],\n",
       "       [0],\n",
       "       [1],\n",
       "       [0],\n",
       "       [0],\n",
       "       [0],\n",
       "       [0],\n",
       "       [0],\n",
       "       [0],\n",
       "       [0],\n",
       "       [0],\n",
       "       [0],\n",
       "       [0],\n",
       "       [1],\n",
       "       [1],\n",
       "       [1],\n",
       "       [0],\n",
       "       [0],\n",
       "       [0],\n",
       "       [0],\n",
       "       [0],\n",
       "       [0],\n",
       "       [0],\n",
       "       [1],\n",
       "       [1],\n",
       "       [0],\n",
       "       [1],\n",
       "       [0],\n",
       "       [0],\n",
       "       [0],\n",
       "       [0],\n",
       "       [0],\n",
       "       [0],\n",
       "       [0],\n",
       "       [0],\n",
       "       [0],\n",
       "       [0],\n",
       "       [1],\n",
       "       [1],\n",
       "       [1],\n",
       "       [0],\n",
       "       [0],\n",
       "       [1],\n",
       "       [0],\n",
       "       [1],\n",
       "       [0],\n",
       "       [0],\n",
       "       [0],\n",
       "       [0],\n",
       "       [1],\n",
       "       [0],\n",
       "       [0],\n",
       "       [1],\n",
       "       [0],\n",
       "       [0],\n",
       "       [1],\n",
       "       [0],\n",
       "       [1],\n",
       "       [0],\n",
       "       [1],\n",
       "       [0],\n",
       "       [0],\n",
       "       [0],\n",
       "       [0],\n",
       "       [0],\n",
       "       [0],\n",
       "       [0],\n",
       "       [0],\n",
       "       [0],\n",
       "       [0],\n",
       "       [0],\n",
       "       [0],\n",
       "       [0],\n",
       "       [0],\n",
       "       [0],\n",
       "       [1],\n",
       "       [0],\n",
       "       [1],\n",
       "       [0],\n",
       "       [0],\n",
       "       [0],\n",
       "       [0],\n",
       "       [0],\n",
       "       [0],\n",
       "       [0],\n",
       "       [0],\n",
       "       [0],\n",
       "       [1],\n",
       "       [1],\n",
       "       [0],\n",
       "       [0],\n",
       "       [0],\n",
       "       [0],\n",
       "       [0],\n",
       "       [0],\n",
       "       [0],\n",
       "       [0],\n",
       "       [1],\n",
       "       [0],\n",
       "       [0],\n",
       "       [0],\n",
       "       [0],\n",
       "       [1],\n",
       "       [0],\n",
       "       [0],\n",
       "       [0],\n",
       "       [0],\n",
       "       [0],\n",
       "       [0],\n",
       "       [0],\n",
       "       [0],\n",
       "       [0],\n",
       "       [0],\n",
       "       [0],\n",
       "       [0],\n",
       "       [0],\n",
       "       [1],\n",
       "       [0],\n",
       "       [0],\n",
       "       [1],\n",
       "       [1],\n",
       "       [0],\n",
       "       [0],\n",
       "       [0],\n",
       "       [0],\n",
       "       [0],\n",
       "       [1],\n",
       "       [0],\n",
       "       [0],\n",
       "       [0],\n",
       "       [1],\n",
       "       [0],\n",
       "       [1],\n",
       "       [0],\n",
       "       [0],\n",
       "       [1],\n",
       "       [0],\n",
       "       [0],\n",
       "       [0],\n",
       "       [0],\n",
       "       [1],\n",
       "       [1],\n",
       "       [0],\n",
       "       [0],\n",
       "       [0],\n",
       "       [0],\n",
       "       [0],\n",
       "       [0],\n",
       "       [1],\n",
       "       [1],\n",
       "       [0],\n",
       "       [0],\n",
       "       [0],\n",
       "       [0],\n",
       "       [0],\n",
       "       [0],\n",
       "       [0],\n",
       "       [1],\n",
       "       [1],\n",
       "       [0],\n",
       "       [0],\n",
       "       [0],\n",
       "       [0],\n",
       "       [0],\n",
       "       [0],\n",
       "       [0],\n",
       "       [1],\n",
       "       [1],\n",
       "       [0],\n",
       "       [0],\n",
       "       [0],\n",
       "       [0],\n",
       "       [0],\n",
       "       [0],\n",
       "       [0],\n",
       "       [0],\n",
       "       [0],\n",
       "       [1],\n",
       "       [0],\n",
       "       [1],\n",
       "       [0],\n",
       "       [0],\n",
       "       [0],\n",
       "       [1],\n",
       "       [0],\n",
       "       [0],\n",
       "       [0],\n",
       "       [0],\n",
       "       [0],\n",
       "       [1],\n",
       "       [0],\n",
       "       [1],\n",
       "       [0],\n",
       "       [0],\n",
       "       [0],\n",
       "       [0],\n",
       "       [0],\n",
       "       [0],\n",
       "       [1],\n",
       "       [1],\n",
       "       [0],\n",
       "       [1],\n",
       "       [0],\n",
       "       [1],\n",
       "       [0],\n",
       "       [1],\n",
       "       [1],\n",
       "       [0],\n",
       "       [0],\n",
       "       [0],\n",
       "       [0],\n",
       "       [1],\n",
       "       [0],\n",
       "       [0],\n",
       "       [1],\n",
       "       [0],\n",
       "       [0],\n",
       "       [0],\n",
       "       [0],\n",
       "       [0],\n",
       "       [0],\n",
       "       [1],\n",
       "       [1],\n",
       "       [1],\n",
       "       [0],\n",
       "       [0],\n",
       "       [0],\n",
       "       [0],\n",
       "       [0],\n",
       "       [0],\n",
       "       [0],\n",
       "       [1],\n",
       "       [1],\n",
       "       [0],\n",
       "       [0],\n",
       "       [0],\n",
       "       [0],\n",
       "       [0],\n",
       "       [0],\n",
       "       [1],\n",
       "       [0],\n",
       "       [0],\n",
       "       [0],\n",
       "       [0],\n",
       "       [0],\n",
       "       [0],\n",
       "       [0],\n",
       "       [1],\n",
       "       [0],\n",
       "       [0],\n",
       "       [0],\n",
       "       [0],\n",
       "       [0],\n",
       "       [0],\n",
       "       [1],\n",
       "       [1],\n",
       "       [1],\n",
       "       [0],\n",
       "       [0],\n",
       "       [1],\n",
       "       [0],\n",
       "       [0],\n",
       "       [0],\n",
       "       [1],\n",
       "       [0],\n",
       "       [0],\n",
       "       [1],\n",
       "       [0],\n",
       "       [0],\n",
       "       [0],\n",
       "       [0],\n",
       "       [0],\n",
       "       [0],\n",
       "       [0],\n",
       "       [0],\n",
       "       [1],\n",
       "       [0],\n",
       "       [0],\n",
       "       [0],\n",
       "       [1],\n",
       "       [0],\n",
       "       [0],\n",
       "       [1],\n",
       "       [0],\n",
       "       [1],\n",
       "       [0],\n",
       "       [0],\n",
       "       [1],\n",
       "       [0],\n",
       "       [0],\n",
       "       [1],\n",
       "       [0],\n",
       "       [0],\n",
       "       [1],\n",
       "       [0],\n",
       "       [0],\n",
       "       [0],\n",
       "       [0],\n",
       "       [0],\n",
       "       [0],\n",
       "       [0],\n",
       "       [1],\n",
       "       [0],\n",
       "       [0],\n",
       "       [0],\n",
       "       [0],\n",
       "       [0],\n",
       "       [0],\n",
       "       [1],\n",
       "       [0],\n",
       "       [0],\n",
       "       [1],\n",
       "       [0],\n",
       "       [0],\n",
       "       [0],\n",
       "       [1],\n",
       "       [0],\n",
       "       [0],\n",
       "       [0],\n",
       "       [0],\n",
       "       [1],\n",
       "       [1],\n",
       "       [0],\n",
       "       [0],\n",
       "       [0],\n",
       "       [0],\n",
       "       [0],\n",
       "       [0],\n",
       "       [0],\n",
       "       [0],\n",
       "       [0],\n",
       "       [0],\n",
       "       [0],\n",
       "       [0],\n",
       "       [1],\n",
       "       [0],\n",
       "       [0],\n",
       "       [0],\n",
       "       [0],\n",
       "       [0],\n",
       "       [0],\n",
       "       [0],\n",
       "       [0],\n",
       "       [0],\n",
       "       [0],\n",
       "       [0],\n",
       "       [0],\n",
       "       [1],\n",
       "       [0],\n",
       "       [0],\n",
       "       [1],\n",
       "       [0],\n",
       "       [0],\n",
       "       [0],\n",
       "       [0],\n",
       "       [0],\n",
       "       [0],\n",
       "       [0],\n",
       "       [0],\n",
       "       [0],\n",
       "       [0],\n",
       "       [0],\n",
       "       [0],\n",
       "       [1],\n",
       "       [0],\n",
       "       [0],\n",
       "       [0],\n",
       "       [1],\n",
       "       [0],\n",
       "       [0],\n",
       "       [0],\n",
       "       [0],\n",
       "       [1],\n",
       "       [0],\n",
       "       [0],\n",
       "       [0],\n",
       "       [0],\n",
       "       [0],\n",
       "       [0],\n",
       "       [1],\n",
       "       [0],\n",
       "       [0],\n",
       "       [0],\n",
       "       [0],\n",
       "       [0],\n",
       "       [0],\n",
       "       [1],\n",
       "       [0],\n",
       "       [0],\n",
       "       [0],\n",
       "       [0],\n",
       "       [0],\n",
       "       [1],\n",
       "       [0],\n",
       "       [1],\n",
       "       [0],\n",
       "       [0],\n",
       "       [0],\n",
       "       [0],\n",
       "       [0],\n",
       "       [1],\n",
       "       [0],\n",
       "       [0],\n",
       "       [0],\n",
       "       [0],\n",
       "       [0],\n",
       "       [0],\n",
       "       [0],\n",
       "       [1],\n",
       "       [0],\n",
       "       [0],\n",
       "       [1],\n",
       "       [0],\n",
       "       [0],\n",
       "       [0],\n",
       "       [0],\n",
       "       [1],\n",
       "       [0],\n",
       "       [1],\n",
       "       [0],\n",
       "       [0],\n",
       "       [0],\n",
       "       [0],\n",
       "       [0],\n",
       "       [1],\n",
       "       [0],\n",
       "       [0],\n",
       "       [0],\n",
       "       [0],\n",
       "       [0],\n",
       "       [1],\n",
       "       [0],\n",
       "       [0],\n",
       "       [0],\n",
       "       [1],\n",
       "       [0],\n",
       "       [0],\n",
       "       [0],\n",
       "       [0],\n",
       "       [1],\n",
       "       [1],\n",
       "       [1],\n",
       "       [0],\n",
       "       [0],\n",
       "       [0],\n",
       "       [0],\n",
       "       [0],\n",
       "       [0],\n",
       "       [0],\n",
       "       [0],\n",
       "       [1],\n",
       "       [0],\n",
       "       [0],\n",
       "       [0],\n",
       "       [0],\n",
       "       [0],\n",
       "       [0],\n",
       "       [0],\n",
       "       [0],\n",
       "       [1]])"
      ]
     },
     "execution_count": 951,
     "metadata": {},
     "output_type": "execute_result"
    }
   ],
   "source": [
    "y_test"
   ]
  },
  {
   "cell_type": "code",
   "execution_count": 952,
   "metadata": {},
   "outputs": [
    {
     "name": "stdout",
     "output_type": "stream",
     "text": [
      "[[578  77]\n",
      " [134  50]]\n",
      "[0.88244275 0.27173913]\n"
     ]
    }
   ],
   "source": [
    "from sklearn.preprocessing import binarize\n",
    "from sklearn.metrics import accuracy_score, roc_auc_score, auc\n",
    " \n",
    "t = 0.3  #threshold\n",
    "proba = clf.predict_proba(X_test)\n",
    "pred_at_t = binarize(proba, t)[:,1]\n",
    "\n",
    "print(metrics.confusion_matrix(y_test,pred_at_t))\n",
    "print(metrics.recall_score(y_test,pred_at_t,average = None))"
   ]
  },
  {
   "cell_type": "code",
   "execution_count": 400,
   "metadata": {},
   "outputs": [
    {
     "data": {
      "text/plain": [
       "pandas.core.frame.DataFrame"
      ]
     },
     "execution_count": 400,
     "metadata": {},
     "output_type": "execute_result"
    }
   ],
   "source": [
    "type(y_train)\n"
   ]
  },
  {
   "cell_type": "code",
   "execution_count": 407,
   "metadata": {},
   "outputs": [
    {
     "data": {
      "text/plain": [
       "<2515x187 sparse matrix of type '<class 'numpy.float64'>'\n",
       "\twith 40986 stored elements in Compressed Sparse Row format>"
      ]
     },
     "execution_count": 407,
     "metadata": {},
     "output_type": "execute_result"
    }
   ],
   "source": [
    "X_train"
   ]
  },
  {
   "cell_type": "code",
   "execution_count": 391,
   "metadata": {},
   "outputs": [
    {
     "data": {
      "text/plain": [
       "GradientBoostingClassifier(learning_rate=0.01, max_depth=10, n_estimators=5)"
      ]
     },
     "execution_count": 391,
     "metadata": {},
     "output_type": "execute_result"
    }
   ],
   "source": [
    "clf"
   ]
  },
  {
   "cell_type": "code",
   "execution_count": 953,
   "metadata": {},
   "outputs": [
    {
     "name": "stderr",
     "output_type": "stream",
     "text": [
      "c:\\users\\nisha.nath\\appdata\\local\\programs\\python\\python37-32\\lib\\site-packages\\sklearn\\ensemble\\gradient_boosting.py:1450: DataConversionWarning: A column-vector y was passed when a 1d array was expected. Please change the shape of y to (n_samples, ), for example using ravel().\n",
      "  y = column_or_1d(y, warn=True)\n",
      "c:\\users\\nisha.nath\\appdata\\local\\programs\\python\\python37-32\\lib\\site-packages\\sklearn\\ensemble\\gradient_boosting.py:1450: DataConversionWarning: A column-vector y was passed when a 1d array was expected. Please change the shape of y to (n_samples, ), for example using ravel().\n",
      "  y = column_or_1d(y, warn=True)\n",
      "c:\\users\\nisha.nath\\appdata\\local\\programs\\python\\python37-32\\lib\\site-packages\\sklearn\\ensemble\\gradient_boosting.py:1450: DataConversionWarning: A column-vector y was passed when a 1d array was expected. Please change the shape of y to (n_samples, ), for example using ravel().\n",
      "  y = column_or_1d(y, warn=True)\n",
      "c:\\users\\nisha.nath\\appdata\\local\\programs\\python\\python37-32\\lib\\site-packages\\sklearn\\ensemble\\gradient_boosting.py:1450: DataConversionWarning: A column-vector y was passed when a 1d array was expected. Please change the shape of y to (n_samples, ), for example using ravel().\n",
      "  y = column_or_1d(y, warn=True)\n",
      "c:\\users\\nisha.nath\\appdata\\local\\programs\\python\\python37-32\\lib\\site-packages\\sklearn\\ensemble\\gradient_boosting.py:1450: DataConversionWarning: A column-vector y was passed when a 1d array was expected. Please change the shape of y to (n_samples, ), for example using ravel().\n",
      "  y = column_or_1d(y, warn=True)\n",
      "c:\\users\\nisha.nath\\appdata\\local\\programs\\python\\python37-32\\lib\\site-packages\\sklearn\\ensemble\\gradient_boosting.py:1450: DataConversionWarning: A column-vector y was passed when a 1d array was expected. Please change the shape of y to (n_samples, ), for example using ravel().\n",
      "  y = column_or_1d(y, warn=True)\n",
      "c:\\users\\nisha.nath\\appdata\\local\\programs\\python\\python37-32\\lib\\site-packages\\sklearn\\ensemble\\gradient_boosting.py:1450: DataConversionWarning: A column-vector y was passed when a 1d array was expected. Please change the shape of y to (n_samples, ), for example using ravel().\n",
      "  y = column_or_1d(y, warn=True)\n",
      "c:\\users\\nisha.nath\\appdata\\local\\programs\\python\\python37-32\\lib\\site-packages\\sklearn\\ensemble\\gradient_boosting.py:1450: DataConversionWarning: A column-vector y was passed when a 1d array was expected. Please change the shape of y to (n_samples, ), for example using ravel().\n",
      "  y = column_or_1d(y, warn=True)\n",
      "c:\\users\\nisha.nath\\appdata\\local\\programs\\python\\python37-32\\lib\\site-packages\\sklearn\\ensemble\\gradient_boosting.py:1450: DataConversionWarning: A column-vector y was passed when a 1d array was expected. Please change the shape of y to (n_samples, ), for example using ravel().\n",
      "  y = column_or_1d(y, warn=True)\n",
      "c:\\users\\nisha.nath\\appdata\\local\\programs\\python\\python37-32\\lib\\site-packages\\sklearn\\ensemble\\gradient_boosting.py:1450: DataConversionWarning: A column-vector y was passed when a 1d array was expected. Please change the shape of y to (n_samples, ), for example using ravel().\n",
      "  y = column_or_1d(y, warn=True)\n",
      "c:\\users\\nisha.nath\\appdata\\local\\programs\\python\\python37-32\\lib\\site-packages\\sklearn\\ensemble\\gradient_boosting.py:1450: DataConversionWarning: A column-vector y was passed when a 1d array was expected. Please change the shape of y to (n_samples, ), for example using ravel().\n",
      "  y = column_or_1d(y, warn=True)\n"
     ]
    },
    {
     "name": "stdout",
     "output_type": "stream",
     "text": [
      "[0.03921569 0.01960784 0.01960784 0.1372549  0.03921569 0.06\n",
      " 0.02       0.02       0.04       0.08      ]\n",
      "0.04749019607843137\n",
      "0.03539829939635218\n",
      "[[493 162]\n",
      " [ 94  90]]\n",
      "[0.75267176 0.48913043]\n"
     ]
    }
   ],
   "source": [
    "from sklearn.preprocessing import binarize\n",
    "from sklearn.metrics import accuracy_score, roc_auc_score, auc\n",
    " \n",
    "t = 0.2  #threshold\n",
    "\n",
    "clf.fit(X_train,y_train)\n",
    "proba = clf.predict_proba(X_test)\n",
    "pred_at_t = binarize(proba, t)[:,1]\n",
    "cv_new = cross_val_score(clf, X_train, y_train,cv=10, scoring='recall')\n",
    "print(cv_new)\n",
    "print(np.mean(cv_new))\n",
    "print(np.std(cv_new))\n",
    "print(metrics.confusion_matrix(y_test,pred_at_t))\n",
    "print(metrics.recall_score(y_test,pred_at_t,average = None))"
   ]
  },
  {
   "cell_type": "code",
   "execution_count": null,
   "metadata": {},
   "outputs": [],
   "source": []
  },
  {
   "cell_type": "code",
   "execution_count": 423,
   "metadata": {},
   "outputs": [
    {
     "data": {
      "text/plain": [
       "(2515, 187)"
      ]
     },
     "execution_count": 423,
     "metadata": {},
     "output_type": "execute_result"
    }
   ],
   "source": [
    "X_train.shape"
   ]
  },
  {
   "cell_type": "code",
   "execution_count": 954,
   "metadata": {},
   "outputs": [
    {
     "name": "stdout",
     "output_type": "stream",
     "text": [
      "[[545 110]\n",
      " [119  65]]\n",
      "[0.83206107 0.35326087]\n"
     ]
    }
   ],
   "source": [
    "from sklearn.preprocessing import binarize\n",
    "from sklearn.metrics import accuracy_score, roc_auc_score, auc\n",
    " \n",
    "t = 0.25  #threshold\n",
    "proba = clf.predict_proba(X_test)\n",
    "pred_at_t = binarize(proba, t)[:,1]\n",
    "\n",
    "print(metrics.confusion_matrix(y_test,pred_at_t))\n",
    "print(metrics.recall_score(y_test,pred_at_t,average = None))"
   ]
  },
  {
   "cell_type": "code",
   "execution_count": 808,
   "metadata": {},
   "outputs": [],
   "source": [
    "#Crossvalidation\n",
    "#models = [\n",
    " #   GradientBoostingClassifier(n_estimators=200, random_state=0)],\n",
    "#CV = 10\n",
    "#cv_df = pd.DataFrame(index=range(CV * len(models)))\n",
    "#entries = []\n",
    "#re = []\n",
    "#pre = []\n",
    "#for model in models:\n",
    "   # model_name = model.__class__.__name__\n",
    "   # accuracies = cross_val_score(model, X_train, y_train, scoring='accuracy', cv=CV)\n",
    "   # recalls = cross_val_score(model, X_train, y_train, scoring='recall', cv=CV,)"
   ]
  },
  {
   "cell_type": "code",
   "execution_count": null,
   "metadata": {},
   "outputs": [],
   "source": [
    "#cv_df_precision = pd.DataFrame(pre, columns=['model_name', 'fold_idx', 'precision_score']) \n",
    "#cv_df_recall = pd.DataFrame(re, columns=['model_name', 'fold_idx', 'recall_score']) \n",
    "#import seaborn as sns\n",
    "#import matplotlib.pyplot as plt\n",
    "\n",
    "#plt.figure(figsize=(10,5))\n",
    "#sns.boxplot(x='model_name', y='accuracy', data=cv_df).set_title(\"Accuracy comparison - Cross Validation\")\n",
    "#sns.stripplot(x='model_name', y='accuracy', data=cv_df, \n",
    "#              size=8, jitter=True, edgecolor=\"gray\", linewidth=2)\n",
    "#plt.show() \n",
    "#import seaborn as sns\n",
    "#import matplotlib.pyplot as plt\n",
    "\n",
    "#plt.figure(figsize=(10,5))\n",
    "#sns.boxplot(x='model_name', y='precision_score', data=cv_df_precision).set_title(\"Precision comparison - Cross Validation\")\n",
    "#sns.stripplot(x='model_name', y='precision_score', data=cv_df_precision, \n",
    "#              size=8, jitter=True, edgecolor=\"gray\", linewidth=2)\n",
    "#plt.show() \n",
    "#import seaborn as sns\n",
    "##import matplotlib.pyplot as plt\n",
    "\n",
    "#plt.figure(figsize=(10,5))\n",
    "#sns.boxplot(x='model_name', y='recall_score', data=cv_df_recall).set_title(\"Recall scores - Cross Validation\")\n",
    "#sns.stripplot(x='model_name', y='recall_score', data=cv_df_recall, \n",
    "#              size=8, jitter=True, edgecolor=\"gray\", linewidth=2)\n",
    "#plt.show() \n",
    " \n"
   ]
  }
 ],
 "metadata": {
  "kernelspec": {
   "display_name": "Python 3",
   "language": "python",
   "name": "python3"
  },
  "language_info": {
   "codemirror_mode": {
    "name": "ipython",
    "version": 3
   },
   "file_extension": ".py",
   "mimetype": "text/x-python",
   "name": "python",
   "nbconvert_exporter": "python",
   "pygments_lexer": "ipython3",
   "version": "3.6.5"
  }
 },
 "nbformat": 4,
 "nbformat_minor": 2
}
