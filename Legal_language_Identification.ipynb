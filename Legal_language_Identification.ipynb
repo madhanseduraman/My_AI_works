{
 "cells": [
  {
   "cell_type": "code",
   "execution_count": 1,
   "metadata": {},
   "outputs": [],
   "source": [
    "path = r'C:\\Madhan\\Analytics\\Machine_Learning_project_work\\AI_ML\\bluepencil\\model_improvement'"
   ]
  },
  {
   "cell_type": "code",
   "execution_count": 74,
   "metadata": {},
   "outputs": [],
   "source": [
    "import pandas as pd\n",
    "import nltk\n",
    "import numpy as np\n",
    "import string\n",
    "import re\n",
    "from sklearn.feature_extraction.text import TfidfVectorizer\n",
    "from sklearn.linear_model import LogisticRegression\n",
    "from sklearn import preprocessing\n",
    "from sklearn.model_selection import train_test_split\n",
    "\n",
    "from sklearn.naive_bayes import MultinomialNB\n",
    "from sklearn.ensemble import RandomForestClassifier\n",
    "from sklearn.svm import LinearSVC\n",
    "from sklearn.model_selection import cross_val_score\n",
    "\n",
    "import matplotlib.pyplot as plt   \n",
    "import matplotlib.style\n",
    "plt.style.use('classic')\n",
    "from nltk import word_tokenize\n",
    "from nltk import download\n",
    "from nltk.corpus import stopwords\n",
    "#importing seaborn for statistical plots\n",
    "import seaborn as sns\n",
    "import sklearn.metrics as metrics\n",
    "from nltk.stem import WordNetLemmatizer\n",
    "from nltk.corpus import stopwords\n",
    "import spacy\n"
   ]
  },
  {
   "cell_type": "code",
   "execution_count": 156,
   "metadata": {},
   "outputs": [],
   "source": [
    "legal_data = pd.read_excel(path+'\\legal_data_1.0.xlsx')"
   ]
  },
  {
   "cell_type": "code",
   "execution_count": 157,
   "metadata": {},
   "outputs": [
    {
     "data": {
      "text/html": [
       "<div>\n",
       "<style scoped>\n",
       "    .dataframe tbody tr th:only-of-type {\n",
       "        vertical-align: middle;\n",
       "    }\n",
       "\n",
       "    .dataframe tbody tr th {\n",
       "        vertical-align: top;\n",
       "    }\n",
       "\n",
       "    .dataframe thead th {\n",
       "        text-align: right;\n",
       "    }\n",
       "</style>\n",
       "<table border=\"1\" class=\"dataframe\">\n",
       "  <thead>\n",
       "    <tr style=\"text-align: right;\">\n",
       "      <th></th>\n",
       "      <th>Index</th>\n",
       "      <th>Filename</th>\n",
       "      <th>FileContent</th>\n",
       "      <th>Label</th>\n",
       "    </tr>\n",
       "  </thead>\n",
       "  <tbody>\n",
       "    <tr>\n",
       "      <th>0</th>\n",
       "      <td>0</td>\n",
       "      <td>1003143 D4183 GISS 2 pager for Life Sciences_V...</td>\n",
       "      <td>Creating trust in \\r\\nthe digital world\\r\\nEYâ...</td>\n",
       "      <td>0</td>\n",
       "    </tr>\n",
       "    <tr>\n",
       "      <th>1</th>\n",
       "      <td>1</td>\n",
       "      <td>1003143 D4183 GISS 2 pager for Life Sciences_V...</td>\n",
       "      <td>It \\r\\ncaptures the responses of 1,755 partici...</td>\n",
       "      <td>0</td>\n",
       "    </tr>\n",
       "    <tr>\n",
       "      <th>2</th>\n",
       "      <td>2</td>\n",
       "      <td>1003143 D4183 GISS 2 pager for Life Sciences_V...</td>\n",
       "      <td>The following findings from the 36 participant...</td>\n",
       "      <td>0</td>\n",
       "    </tr>\n",
       "    <tr>\n",
       "      <th>3</th>\n",
       "      <td>3</td>\n",
       "      <td>1003143 D4183 GISS 2 pager for Life Sciences_V...</td>\n",
       "      <td>But they also indicate the need for considerab...</td>\n",
       "      <td>0</td>\n",
       "    </tr>\n",
       "    <tr>\n",
       "      <th>4</th>\n",
       "      <td>4</td>\n",
       "      <td>1003143 D4183 GISS 2 pager for Life Sciences_V...</td>\n",
       "      <td>Operating in a digital world invites  \\r\\nnew ...</td>\n",
       "      <td>0</td>\n",
       "    </tr>\n",
       "  </tbody>\n",
       "</table>\n",
       "</div>"
      ],
      "text/plain": [
       "   Index                                           Filename  \\\n",
       "0      0  1003143 D4183 GISS 2 pager for Life Sciences_V...   \n",
       "1      1  1003143 D4183 GISS 2 pager for Life Sciences_V...   \n",
       "2      2  1003143 D4183 GISS 2 pager for Life Sciences_V...   \n",
       "3      3  1003143 D4183 GISS 2 pager for Life Sciences_V...   \n",
       "4      4  1003143 D4183 GISS 2 pager for Life Sciences_V...   \n",
       "\n",
       "                                         FileContent  Label  \n",
       "0  Creating trust in \\r\\nthe digital world\\r\\nEYâ...      0  \n",
       "1  It \\r\\ncaptures the responses of 1,755 partici...      0  \n",
       "2  The following findings from the 36 participant...      0  \n",
       "3  But they also indicate the need for considerab...      0  \n",
       "4  Operating in a digital world invites  \\r\\nnew ...      0  "
      ]
     },
     "execution_count": 157,
     "metadata": {},
     "output_type": "execute_result"
    }
   ],
   "source": [
    "legal_data.head()"
   ]
  },
  {
   "cell_type": "code",
   "execution_count": 158,
   "metadata": {},
   "outputs": [
    {
     "data": {
      "text/plain": [
       "0    30046\n",
       "1      755\n",
       "Name: Label, dtype: int64"
      ]
     },
     "execution_count": 158,
     "metadata": {},
     "output_type": "execute_result"
    }
   ],
   "source": [
    "legal_data.Label.value_counts()"
   ]
  },
  {
   "cell_type": "code",
   "execution_count": 159,
   "metadata": {},
   "outputs": [],
   "source": [
    "X = legal_data.FileContent"
   ]
  },
  {
   "cell_type": "code",
   "execution_count": 160,
   "metadata": {},
   "outputs": [
    {
     "name": "stdout",
     "output_type": "stream",
     "text": [
      "Creating trust in \n",
      "the digital world\n",
      "EYâ€™s Global Information Security \n",
      "Survey 2015\n",
      "\n",
      "Life sciences sector results\n",
      "\n",
      "EYâ€™s Global Information Security Survey investigates the most important cybersecurity issues facing businesses today.\n"
     ]
    }
   ],
   "source": [
    "print(X.iloc[0])"
   ]
  },
  {
   "cell_type": "code",
   "execution_count": 161,
   "metadata": {},
   "outputs": [],
   "source": [
    "y = legal_data.Label"
   ]
  },
  {
   "cell_type": "code",
   "execution_count": 162,
   "metadata": {},
   "outputs": [],
   "source": [
    "default_stopwords = set(nltk.corpus.stopwords.words('english'))"
   ]
  },
  {
   "cell_type": "code",
   "execution_count": 278,
   "metadata": {},
   "outputs": [],
   "source": [
    "from nltk.corpus import wordnet\n",
    "def get_wordnet_pos(word):\n",
    "    \"\"\"Map POS tag to first character lemmatize() accepts\"\"\"\n",
    "    tag = nltk.pos_tag([word])[0][1][0].upper()\n",
    "    #print(tag)\n",
    "    tag_dict = {\"J\": wordnet.ADJ,\n",
    "                \"N\": wordnet.NOUN,\n",
    "                \"V\": wordnet.VERB,\n",
    "                \"R\": wordnet.ADV}\n",
    "    output = tag_dict.get(tag[0]) \n",
    "    if output:\n",
    "        return output\n",
    "    else:\n",
    "        return 'v'"
   ]
  },
  {
   "cell_type": "code",
   "execution_count": 285,
   "metadata": {},
   "outputs": [],
   "source": [
    "def review_to_words( SD ):\n",
    "    lm = WordNetLemmatizer()\n",
    "    letters_only = re.sub(\"[^a-zA-Z]\", \" \", SD)\n",
    "    #print(letters_only)\n",
    "    sentences = nltk.word_tokenize(str(letters_only))\n",
    "    #print(sentences)\n",
    "    sentences = [word.lower() for word in sentences]\n",
    "    no_stops = [word for word in sentences if not word in default_stopwords]\n",
    "    #print(no_stops)\n",
    "    lem_word = [lm.lemmatize(word,get_wordnet_pos(word)) for word in no_stops]\n",
    "    #print(lem_word)\n",
    "    #tags = st.tag(lem_word)\n",
    "    #tagged_words = [word for word,tag in tags if tag!='PERSON' and tag!='LOCATION']\n",
    "    tokens = [word.lower() for word in lem_word if len(word) > 2]\n",
    "    #print(tokens)\n",
    "    return( \" \".join(tokens))"
   ]
  },
  {
   "cell_type": "code",
   "execution_count": 286,
   "metadata": {},
   "outputs": [
    {
     "data": {
      "text/plain": [
       "'It \\r\\ncaptures the responses of 1,755 participants around the globe and across industries, and we base our findings and conclusions \\r\\non those insights and on our extensive global experience working with clients to help improve their cybersecurity.'"
      ]
     },
     "execution_count": 286,
     "metadata": {},
     "output_type": "execute_result"
    }
   ],
   "source": [
    "X.iloc[1]"
   ]
  },
  {
   "cell_type": "code",
   "execution_count": 287,
   "metadata": {},
   "outputs": [
    {
     "data": {
      "text/plain": [
       "'capture response participant around globe across industry base finding conclusion insight extensive global experience work client help improve cybersecurity'"
      ]
     },
     "execution_count": 287,
     "metadata": {},
     "output_type": "execute_result"
    }
   ],
   "source": [
    "review_to_words(X.iloc[1])"
   ]
  },
  {
   "cell_type": "code",
   "execution_count": 288,
   "metadata": {},
   "outputs": [
    {
     "name": "stdout",
     "output_type": "stream",
     "text": [
      "Number of Rows Parsed......................\n",
      "\n",
      "Wall time: 0 ns\n",
      "Cleaned Short Descriptions 5000 of 30801\n",
      "Cleaned Short Descriptions 10000 of 30801\n",
      "Cleaned Short Descriptions 15000 of 30801\n",
      "Cleaned Short Descriptions 20000 of 30801\n",
      "Cleaned Short Descriptions 25000 of 30801\n",
      "Cleaned Short Descriptions 30000 of 30801\n"
     ]
    }
   ],
   "source": [
    "print(\"Number of Rows Parsed......................\\n\")\n",
    "corpus = []\n",
    "num_SD = len(X)\n",
    "%time\n",
    "for i in range( 0, num_SD ):\n",
    "    # If the index is evenly divisible by 1000, print a message\n",
    "    if( (i+1)%5000 == 0 ):\n",
    "        print(\"Cleaned Short Descriptions %d of %d\" % ( i+1, num_SD ))\n",
    "    corpus.append( review_to_words(str(X.iloc[i])))"
   ]
  },
  {
   "cell_type": "code",
   "execution_count": 289,
   "metadata": {},
   "outputs": [],
   "source": [
    "X = pd.DataFrame(corpus)"
   ]
  },
  {
   "cell_type": "code",
   "execution_count": 290,
   "metadata": {},
   "outputs": [],
   "source": [
    "X_train_txt, X_test_txt, y_train, y_test, = train_test_split(X[0], y,test_size=0.2, random_state=1)"
   ]
  },
  {
   "cell_type": "code",
   "execution_count": null,
   "metadata": {},
   "outputs": [],
   "source": []
  },
  {
   "cell_type": "code",
   "execution_count": 291,
   "metadata": {},
   "outputs": [
    {
     "name": "stdout",
     "output_type": "stream",
     "text": [
      "(24640,)\n",
      "(6161,)\n",
      "(24640,)\n",
      "(6161,)\n"
     ]
    }
   ],
   "source": [
    "print(X_train_txt.shape)\n",
    "print(X_test_txt.shape)\n",
    "print(y_train.shape)\n",
    "print(y_test.shape)"
   ]
  },
  {
   "cell_type": "code",
   "execution_count": 336,
   "metadata": {},
   "outputs": [
    {
     "data": {
      "text/plain": [
       "(24640, 3248)"
      ]
     },
     "execution_count": 336,
     "metadata": {},
     "output_type": "execute_result"
    }
   ],
   "source": [
    "tfidf_vec = TfidfVectorizer(stop_words='english', ngram_range=(1,4),min_df=20,max_features=5000,lowercase=True)\n",
    "X_dtm_train = tfidf_vec.fit_transform((X_train_txt))\n",
    "X_dtm_train.shape"
   ]
  },
  {
   "cell_type": "code",
   "execution_count": 337,
   "metadata": {},
   "outputs": [
    {
     "data": {
      "text/plain": [
       "(6161, 3248)"
      ]
     },
     "execution_count": 337,
     "metadata": {},
     "output_type": "execute_result"
    }
   ],
   "source": [
    "X_dtm_test = tfidf_vec.transform(X_test_txt)\n",
    "X_dtm_test.shape"
   ]
  },
  {
   "cell_type": "code",
   "execution_count": 338,
   "metadata": {},
   "outputs": [],
   "source": [
    "from sklearn.svm import SVC\n",
    "from sklearn.neighbors import KNeighborsClassifier\n",
    "from sklearn import metrics"
   ]
  },
  {
   "cell_type": "code",
   "execution_count": 339,
   "metadata": {},
   "outputs": [
    {
     "data": {
      "text/plain": [
       "SVC(C=1.0, cache_size=200, class_weight=None, coef0=0.0,\n",
       "  decision_function_shape='ovr', degree=3, gamma='auto', kernel='linear',\n",
       "  max_iter=-1, probability=False, random_state=0, shrinking=True,\n",
       "  tol=0.001, verbose=False)"
      ]
     },
     "execution_count": 339,
     "metadata": {},
     "output_type": "execute_result"
    }
   ],
   "source": [
    "svcclassifier = SVC(random_state=0,kernel='linear')\n",
    "svcclassifier.fit(X_dtm_train,y_train)"
   ]
  },
  {
   "cell_type": "code",
   "execution_count": 340,
   "metadata": {},
   "outputs": [
    {
     "data": {
      "text/plain": [
       "0.9758116883116883"
      ]
     },
     "execution_count": 340,
     "metadata": {},
     "output_type": "execute_result"
    }
   ],
   "source": [
    "svcclassifier.score(X_dtm_train,y_train)"
   ]
  },
  {
   "cell_type": "code",
   "execution_count": 341,
   "metadata": {},
   "outputs": [],
   "source": [
    "y_pred_svm = svcclassifier.predict(X_dtm_test)"
   ]
  },
  {
   "cell_type": "code",
   "execution_count": 342,
   "metadata": {},
   "outputs": [],
   "source": [
    "logreg = LogisticRegression(C=1e9)\n",
    "logreg.fit(X_dtm_train,y_train)\n",
    "y_pred_class_logreg = logreg.predict(X_dtm_test)"
   ]
  },
  {
   "cell_type": "code",
   "execution_count": 343,
   "metadata": {},
   "outputs": [],
   "source": [
    "X_train_tokens = tfidf_vec.get_feature_names()"
   ]
  },
  {
   "cell_type": "code",
   "execution_count": 344,
   "metadata": {},
   "outputs": [],
   "source": [
    "log_coef = logreg.coef_"
   ]
  },
  {
   "cell_type": "code",
   "execution_count": 345,
   "metadata": {},
   "outputs": [
    {
     "data": {
      "text/plain": [
       "array([[1269, 1602, 1659, ..., 2251, 1015, 1606]], dtype=int64)"
      ]
     },
     "execution_count": 345,
     "metadata": {},
     "output_type": "execute_result"
    }
   ],
   "source": [
    "np.argsort(log_coef)[-20:]"
   ]
  },
  {
   "cell_type": "code",
   "execution_count": 346,
   "metadata": {},
   "outputs": [],
   "source": [
    "top_positive_coefficients = np.argsort(log_coef)[-20:]\n",
    "top_negative_coefficients = np.argsort(log_coef)[:20]\n",
    "top_coefficients = np.hstack([top_negative_coefficients, top_positive_coefficients])\n"
   ]
  },
  {
   "cell_type": "code",
   "execution_count": 347,
   "metadata": {},
   "outputs": [
    {
     "data": {
      "text/plain": [
       "array([[1269],\n",
       "       [1602],\n",
       "       [1659],\n",
       "       ...,\n",
       "       [2251],\n",
       "       [1015],\n",
       "       [1606]], dtype=int64)"
      ]
     },
     "execution_count": 347,
     "metadata": {},
     "output_type": "execute_result"
    }
   ],
   "source": [
    "top_positive_coefficients.reshape(-1,1)"
   ]
  },
  {
   "cell_type": "code",
   "execution_count": 348,
   "metadata": {},
   "outputs": [],
   "source": [
    "nb = MultinomialNB()\n",
    "nb.fit(X_dtm_train,y_train)\n",
    "y_pred_class_nb = nb.predict(X_dtm_test)"
   ]
  },
  {
   "cell_type": "code",
   "execution_count": 349,
   "metadata": {},
   "outputs": [],
   "source": [
    "import matplotlib.pyplot as plt   \n",
    "import matplotlib.style\n",
    "plt.style.use('classic')\n",
    "\n",
    "#importing seaborn for statistical plots\n",
    "import seaborn as sns"
   ]
  },
  {
   "cell_type": "code",
   "execution_count": 310,
   "metadata": {},
   "outputs": [],
   "source": [
    "error = []\n",
    "# Calculating error for K values for 5, 13 and 21\n",
    "for i in range(1,49):  \n",
    "    knn = KNeighborsClassifier(n_neighbors=i)\n",
    "    knn.fit(X_dtm_train, y_train)\n",
    "    pred_i = knn.predict(X_dtm_test)\n",
    "    error.append(np.mean(pred_i != y_test))"
   ]
  },
  {
   "cell_type": "code",
   "execution_count": 311,
   "metadata": {},
   "outputs": [
    {
     "data": {
      "text/plain": [
       "Text(0,0.5,'Mean Error')"
      ]
     },
     "execution_count": 311,
     "metadata": {},
     "output_type": "execute_result"
    },
    {
     "data": {
      "image/png": "[encoded data removed]",
      "text/plain": [
       "<Figure size 960x480 with 1 Axes>"
      ]
     },
     "metadata": {},
     "output_type": "display_data"
    }
   ],
   "source": [
    "plt.figure(figsize=(12, 6))  \n",
    "plt.plot(range(1,49), error, color='red', linestyle='dashed', marker='o',  \n",
    "         markerfacecolor='blue', markersize=10)\n",
    "plt.title('Error Rate K Value')  \n",
    "plt.xlabel('K Value')  \n",
    "plt.ylabel('Mean Error') "
   ]
  },
  {
   "cell_type": "code",
   "execution_count": 350,
   "metadata": {},
   "outputs": [],
   "source": [
    "from sklearn.neighbors import KNeighborsClassifier\n",
    "knn = KNeighborsClassifier(n_neighbors=3)\n",
    "knn.fit(X_dtm_train,y_train)\n",
    "y_pred_class_knn = knn.predict(X_dtm_test)"
   ]
  },
  {
   "cell_type": "code",
   "execution_count": 351,
   "metadata": {},
   "outputs": [],
   "source": [
    "from sklearn.tree import DecisionTreeClassifier\n",
    "classifier = DecisionTreeClassifier(criterion='entropy',random_state=0,max_depth=100,class_weight={0:.3,1:.7}, min_samples_leaf=15)\n",
    "classifier.fit(X_dtm_train,y_train)\n",
    "y_pred_tree = classifier.predict(X_dtm_test)"
   ]
  },
  {
   "cell_type": "code",
   "execution_count": 352,
   "metadata": {},
   "outputs": [],
   "source": [
    "from sklearn.ensemble import RandomForestClassifier\n",
    "rand_classifer = RandomForestClassifier(n_estimators=100,criterion='gini',random_state=0,class_weight={0:.3,1:.7})\n",
    "rand_classifer.fit(X_dtm_train,y_train)\n",
    "y_pred_randforest = rand_classifer.predict(X_dtm_test)"
   ]
  },
  {
   "cell_type": "code",
   "execution_count": 353,
   "metadata": {},
   "outputs": [
    {
     "name": "stdout",
     "output_type": "stream",
     "text": [
      "SVM ACCURACY: 0.9766271709138127\n",
      "SVM CLASSIFIER CONFUSTION MATRIX: col_0     0\n",
      "Label      \n",
      "0      6017\n",
      "1       144\n"
     ]
    },
    {
     "name": "stderr",
     "output_type": "stream",
     "text": [
      "C:\\Users\\madhan.s\\AppData\\Local\\Continuum\\anaconda3\\lib\\site-packages\\sklearn\\metrics\\classification.py:1135: UndefinedMetricWarning: F-score is ill-defined and being set to 0.0 in labels with no predicted samples.\n",
      "  'precision', 'predicted', average, warn_for)\n"
     ]
    },
    {
     "name": "stdout",
     "output_type": "stream",
     "text": [
      "===> **SVM F1 SCORE [0.9881754 0.       ]\n",
      "===> **SVM Recall SCORE [1. 0.]\n"
     ]
    },
    {
     "name": "stderr",
     "output_type": "stream",
     "text": [
      "C:\\Users\\madhan.s\\AppData\\Local\\Continuum\\anaconda3\\lib\\site-packages\\sklearn\\metrics\\classification.py:1135: UndefinedMetricWarning: Precision is ill-defined and being set to 0.0 in labels with no predicted samples.\n",
      "  'precision', 'predicted', average, warn_for)\n"
     ]
    },
    {
     "name": "stdout",
     "output_type": "stream",
     "text": [
      "===> **SVM Precision SCORE [0.97662717 0.        ]\n",
      "===> **SVM ROC_AUC SCORE 0.5\n",
      "##################################################################################################\n",
      "LogisticReg ACCURACY: 0.9527674078883298\n",
      "LogisticReg CLASSIFIER CONFUSTION MATRIX: col_0     0    1\n",
      "Label           \n",
      "0      5831  186\n",
      "1       105   39\n",
      "===> **LogisticReg F1 SCORE [0.97565465 0.21138211]\n",
      "===> **LogisticReg Recall SCORE [0.96908759 0.27083333]\n",
      "===> **LogisticReg Precision SCORE [0.98231132 0.17333333]\n",
      "===> **LogisticReg ROC_AUC SCORE 0.619960459254335\n",
      "##################################################################################################\n",
      "NaiveBayes ACCURACY: 0.9767894822269112\n",
      "NaiveBayes CLASSIFIER CONFUSTION MATRIX: col_0     0  1\n",
      "Label         \n",
      "0      6014  3\n",
      "1       140  4\n",
      "===> **NaiveBayes F1 SCORE [0.98825076 0.05298013]\n",
      "===> **NaiveBayes Recall SCORE [0.99950141 0.02777778]\n",
      "===> **NaiveBayes Precision SCORE [0.97725057 0.57142857]\n",
      "===> **NaiveBayes ROC_AUC SCORE 0.5136395952209479\n",
      "##################################################################################################\n",
      "KNN ACCURACY: 0.9776010387924038\n",
      "KNN CLASSIFIER CONFUSTION MATRIX: col_0     0   1\n",
      "Label          \n",
      "0      6012   5\n",
      "1       133  11\n",
      "===> **KNN F1 SCORE [0.98865318 0.1375    ]\n",
      "===> **KNN Recall SCORE [0.99916902 0.07638889]\n",
      "===> **KNN Precision SCORE [0.97835639 0.6875    ]\n",
      "===> **KNN ROC_AUC SCORE 0.5377789549978764\n",
      "##################################################################################################\n",
      "Dtree ACCURACY: 0.9667261808148028\n",
      "Dtree CLASSIFIER CONFUSTION MATRIX: col_0     0   1\n",
      "Label          \n",
      "0      5923  94\n",
      "1       111  33\n",
      "===> **Dtree F1 SCORE [0.98298896 0.24354244]\n",
      "===> **Dtree Recall SCORE [0.9843776  0.22916667]\n",
      "===> **Dtree Precision SCORE [0.98160424 0.25984252]\n",
      "===> **Dtree ROC_AUC SCORE 0.6067721317378538\n",
      "##################################################################################################\n",
      "RandForest ACCURACY: 0.9759779256614186\n",
      "RandForest CLASSIFIER CONFUSTION MATRIX: col_0     0  1\n",
      "Label         \n",
      "0      6009  8\n",
      "1       140  4\n",
      "===> **RandForest F1 SCORE [0.98783495 0.05128205]\n",
      "===> **RandForest Recall SCORE [0.99867043 0.02777778]\n",
      "===> **RandForest Precision SCORE [0.97723207 0.33333333]\n",
      "===> **RandForest ROC_AUC SCORE 0.5132241057743799\n"
     ]
    }
   ],
   "source": [
    "print(\"SVM ACCURACY:\",metrics.accuracy_score(y_test,y_pred_svm))\n",
    "print('SVM CLASSIFIER CONFUSTION MATRIX:',pd.crosstab(y_test,y_pred_svm))\n",
    "print(\"===> **SVM F1 SCORE\",metrics.f1_score(y_test, y_pred_svm,average=None))\n",
    "print(\"===> **SVM Recall SCORE\",metrics.recall_score(y_test, y_pred_svm,average=None))\n",
    "print(\"===> **SVM Precision SCORE\",metrics.precision_score(y_test, y_pred_svm,average=None))\n",
    "print(\"===> **SVM ROC_AUC SCORE\",metrics.roc_auc_score(y_test, y_pred_svm,average=None))\n",
    "print(\"##################################################################################################\")\n",
    "print(\"LogisticReg ACCURACY:\",metrics.accuracy_score(y_test,y_pred_class_logreg,))\n",
    "print('LogisticReg CLASSIFIER CONFUSTION MATRIX:',pd.crosstab(y_test,y_pred_class_logreg))\n",
    "print(\"===> **LogisticReg F1 SCORE\",metrics.f1_score(y_test, y_pred_class_logreg,average=None))\n",
    "print(\"===> **LogisticReg Recall SCORE\",metrics.recall_score(y_test, y_pred_class_logreg,average=None))\n",
    "print(\"===> **LogisticReg Precision SCORE\",metrics.precision_score(y_test, y_pred_class_logreg,average=None))\n",
    "print(\"===> **LogisticReg ROC_AUC SCORE\",metrics.roc_auc_score(y_test, y_pred_class_logreg,average=None))\n",
    "print(\"##################################################################################################\")\n",
    "print(\"NaiveBayes ACCURACY:\",metrics.accuracy_score(y_test,y_pred_class_nb))\n",
    "print('NaiveBayes CLASSIFIER CONFUSTION MATRIX:',pd.crosstab(y_test,y_pred_class_nb))\n",
    "print(\"===> **NaiveBayes F1 SCORE\",metrics.f1_score(y_test, y_pred_class_nb,average=None))\n",
    "print(\"===> **NaiveBayes Recall SCORE\",metrics.recall_score(y_test, y_pred_class_nb,average=None))\n",
    "print(\"===> **NaiveBayes Precision SCORE\",metrics.precision_score(y_test, y_pred_class_nb,average=None))\n",
    "print(\"===> **NaiveBayes ROC_AUC SCORE\",metrics.roc_auc_score(y_test, y_pred_class_nb,average=None))\n",
    "print(\"##################################################################################################\")\n",
    "print(\"KNN ACCURACY:\",metrics.accuracy_score(y_test,y_pred_class_knn))\n",
    "print('KNN CLASSIFIER CONFUSTION MATRIX:',pd.crosstab(y_test,y_pred_class_knn))\n",
    "print(\"===> **KNN F1 SCORE\",metrics.f1_score(y_test, y_pred_class_knn,average=None))\n",
    "print(\"===> **KNN Recall SCORE\",metrics.recall_score(y_test, y_pred_class_knn,average=None))\n",
    "print(\"===> **KNN Precision SCORE\",metrics.precision_score(y_test, y_pred_class_knn,average=None))\n",
    "print(\"===> **KNN ROC_AUC SCORE\",metrics.roc_auc_score(y_test, y_pred_class_knn,average=None))\n",
    "print(\"##################################################################################################\")\n",
    "print(\"Dtree ACCURACY:\",metrics.accuracy_score(y_test,y_pred_tree))\n",
    "print('Dtree CLASSIFIER CONFUSTION MATRIX:',pd.crosstab(y_test,y_pred_tree))\n",
    "print(\"===> **Dtree F1 SCORE\",metrics.f1_score(y_test, y_pred_tree,average=None))\n",
    "print(\"===> **Dtree Recall SCORE\",metrics.recall_score(y_test, y_pred_tree,average=None))\n",
    "print(\"===> **Dtree Precision SCORE\",metrics.precision_score(y_test, y_pred_tree,average=None))\n",
    "print(\"===> **Dtree ROC_AUC SCORE\",metrics.roc_auc_score(y_test, y_pred_tree,average=None))\n",
    "print(\"##################################################################################################\")\n",
    "print(\"RandForest ACCURACY:\",metrics.accuracy_score(y_test,y_pred_randforest))\n",
    "print('RandForest CLASSIFIER CONFUSTION MATRIX:',pd.crosstab(y_test,y_pred_randforest))\n",
    "print(\"===> **RandForest F1 SCORE\",metrics.f1_score(y_test, y_pred_randforest,average=None))\n",
    "print(\"===> **RandForest Recall SCORE\",metrics.recall_score(y_test, y_pred_randforest,average=None))\n",
    "print(\"===> **RandForest Precision SCORE\",metrics.precision_score(y_test, y_pred_randforest,average=None))\n",
    "print(\"===> **RandForest ROC_AUC SCORE\",metrics.roc_auc_score(y_test, y_pred_randforest,average=None))"
   ]
  },
  {
   "cell_type": "code",
   "execution_count": 316,
   "metadata": {},
   "outputs": [
    {
     "data": {
      "text/plain": [
       "0    30046\n",
       "1      755\n",
       "Name: Label, dtype: int64"
      ]
     },
     "execution_count": 316,
     "metadata": {},
     "output_type": "execute_result"
    }
   ],
   "source": [
    "y.value_counts()"
   ]
  },
  {
   "cell_type": "code",
   "execution_count": 317,
   "metadata": {},
   "outputs": [
    {
     "data": {
      "text/plain": [
       "1502.3000000000002"
      ]
     },
     "execution_count": 317,
     "metadata": {},
     "output_type": "execute_result"
    }
   ],
   "source": [
    "30046*.05"
   ]
  },
  {
   "cell_type": "code",
   "execution_count": 318,
   "metadata": {},
   "outputs": [],
   "source": [
    "df_corpus = pd.DataFrame(corpus,columns=['text'])"
   ]
  },
  {
   "cell_type": "code",
   "execution_count": 319,
   "metadata": {},
   "outputs": [],
   "source": [
    "df_cleaned = pd.concat([df_corpus,legal_data['Label']],axis=1)"
   ]
  },
  {
   "cell_type": "code",
   "execution_count": 354,
   "metadata": {},
   "outputs": [],
   "source": [
    "def build_model_samples(s,df):\n",
    "    SVM_f1 = []\n",
    "    SVM_recall = []\n",
    "    logreg_f1 = []\n",
    "    rf_f1 = []\n",
    "    logreg_recall = []\n",
    "    rf_recall = []\n",
    "    for sam in range(s):\n",
    "        Non_Leg = df_cleaned[df_cleaned['Label']== 0].sample(800,random_state=sam,replace=False)\n",
    "        Leg = df_cleaned[df_cleaned['Label']==1]\n",
    "        df_sampled = pd.concat([Non_Leg,Leg],axis=0)\n",
    "        X = df_sampled.text\n",
    "        y = df_sampled.Label\n",
    "        X_train_txt, X_test_txt, y_train, y_test, = train_test_split(X, y,test_size=0.2, random_state=1)\n",
    "        X_dtm_train = tfidf_vec.fit_transform((X_train_txt))\n",
    "        X_dtm_test = tfidf_vec.transform(X_test_txt)\n",
    "        #print(X_dtm_train.shape)\n",
    "        #print(X_dtm_test.shape)\n",
    "        svcclassifier = SVC(random_state=0,kernel='linear',C=3)\n",
    "        svcclassifier.fit(X_dtm_train,y_train)\n",
    "        y_pred_svm = svcclassifier.predict(X_dtm_test)\n",
    "        SVM_f1.append(metrics.f1_score(y_test, y_pred_svm,average=None))\n",
    "        SVM_recall.append(metrics.recall_score(y_test, y_pred_svm,average=None))\n",
    "        print(\"SVM Fitted for sample\",sam)\n",
    "        logreg.fit(X_dtm_train,y_train)\n",
    "        y_pred_class_logreg = logreg.predict(X_dtm_test)\n",
    "        logreg_f1.append(metrics.f1_score(y_test, y_pred_class_logreg,average=None))\n",
    "        logreg_recall.append(metrics.recall_score(y_test, y_pred_class_logreg,average=None))\n",
    "        print(\"Logreg Fitted for sample\",sam)\n",
    "        rand_classifer = RandomForestClassifier(n_estimators=100,criterion='gini',random_state=0)\n",
    "        rand_classifer.fit(X_dtm_train,y_train)\n",
    "        y_pred_randforest = rand_classifer.predict(X_dtm_test)\n",
    "        print(metrics.confusion_matrix(y_test,y_pred_randforest))\n",
    "        rf_f1.append(metrics.f1_score(y_test, y_pred_randforest,average=None))\n",
    "        rf_recall.append(metrics.recall_score(y_test, y_pred_randforest,average=None))\n",
    "        print(\"RF Fitted for sample\",sam)\n",
    "    return SVM_recall, SVM_f1, logreg_recall,logreg_f1,rf_recall,rf_f1"
   ]
  },
  {
   "cell_type": "code",
   "execution_count": 355,
   "metadata": {},
   "outputs": [
    {
     "name": "stdout",
     "output_type": "stream",
     "text": [
      "SVM Fitted for sample 0\n",
      "Logreg Fitted for sample 0\n",
      "[[122  45]\n",
      " [ 34 110]]\n",
      "RF Fitted for sample 0\n",
      "SVM Fitted for sample 1\n",
      "Logreg Fitted for sample 1\n",
      "[[127  40]\n",
      " [ 31 113]]\n",
      "RF Fitted for sample 1\n",
      "SVM Fitted for sample 2\n",
      "Logreg Fitted for sample 2\n",
      "[[127  40]\n",
      " [ 33 111]]\n",
      "RF Fitted for sample 2\n",
      "SVM Fitted for sample 3\n",
      "Logreg Fitted for sample 3\n",
      "[[129  38]\n",
      " [ 27 117]]\n",
      "RF Fitted for sample 3\n",
      "SVM Fitted for sample 4\n",
      "Logreg Fitted for sample 4\n",
      "[[135  32]\n",
      " [ 27 117]]\n",
      "RF Fitted for sample 4\n",
      "SVM Fitted for sample 5\n",
      "Logreg Fitted for sample 5\n",
      "[[138  29]\n",
      " [ 30 114]]\n",
      "RF Fitted for sample 5\n",
      "SVM Fitted for sample 6\n",
      "Logreg Fitted for sample 6\n",
      "[[134  33]\n",
      " [ 33 111]]\n",
      "RF Fitted for sample 6\n",
      "SVM Fitted for sample 7\n",
      "Logreg Fitted for sample 7\n",
      "[[133  34]\n",
      " [ 22 122]]\n",
      "RF Fitted for sample 7\n",
      "SVM Fitted for sample 8\n",
      "Logreg Fitted for sample 8\n",
      "[[121  46]\n",
      " [ 29 115]]\n",
      "RF Fitted for sample 8\n",
      "SVM Fitted for sample 9\n",
      "Logreg Fitted for sample 9\n",
      "[[131  36]\n",
      " [ 25 119]]\n",
      "RF Fitted for sample 9\n"
     ]
    }
   ],
   "source": [
    "output = build_model_samples(10,df_cleaned)"
   ]
  },
  {
   "cell_type": "code",
   "execution_count": 356,
   "metadata": {},
   "outputs": [
    {
     "data": {
      "text/plain": [
       "([array([0.78443114, 0.74305556]),\n",
       "  array([0.73053892, 0.77777778]),\n",
       "  array([0.74251497, 0.77777778]),\n",
       "  array([0.77844311, 0.76388889]),\n",
       "  array([0.79640719, 0.77777778]),\n",
       "  array([0.76646707, 0.77777778]),\n",
       "  array([0.74251497, 0.72916667]),\n",
       "  array([0.77844311, 0.79861111]),\n",
       "  array([0.76047904, 0.76388889]),\n",
       "  array([0.78443114, 0.78472222])],\n",
       " [array([0.78208955, 0.7456446 ]),\n",
       "  array([0.76012461, 0.74418605]),\n",
       "  array([0.76780186, 0.74916388]),\n",
       "  array([0.78549849, 0.75601375]),\n",
       "  array([0.80120482, 0.77241379]),\n",
       "  array([0.78287462, 0.75932203]),\n",
       "  array([0.75151515, 0.71917808]),\n",
       "  array([0.79754601, 0.77702703]),\n",
       "  array([0.77439024, 0.74829932]),\n",
       "  array([0.79635258, 0.77133106])],\n",
       " [array([0.76047904, 0.72916667]),\n",
       "  array([0.73652695, 0.79166667]),\n",
       "  array([0.7245509 , 0.75694444]),\n",
       "  array([0.77245509, 0.77777778]),\n",
       "  array([0.79041916, 0.77083333]),\n",
       "  array([0.80838323, 0.75694444]),\n",
       "  array([0.71856287, 0.75694444]),\n",
       "  array([0.79041916, 0.75694444]),\n",
       "  array([0.71257485, 0.75      ]),\n",
       "  array([0.71257485, 0.74305556])],\n",
       " [array([0.76276276, 0.7266436 ]),\n",
       "  array([0.76875   , 0.75496689]),\n",
       "  array([0.74922601, 0.72909699]),\n",
       "  array([0.78658537, 0.76190476]),\n",
       "  array([0.79518072, 0.76551724]),\n",
       "  array([0.80118694, 0.76491228]),\n",
       "  array([0.74534161, 0.72666667]),\n",
       "  array([0.79041916, 0.75694444]),\n",
       "  array([0.73913043, 0.72      ]),\n",
       "  array([0.73684211, 0.71571906])],\n",
       " [array([0.73053892, 0.76388889]),\n",
       "  array([0.76047904, 0.78472222]),\n",
       "  array([0.76047904, 0.77083333]),\n",
       "  array([0.77245509, 0.8125    ]),\n",
       "  array([0.80838323, 0.8125    ]),\n",
       "  array([0.82634731, 0.79166667]),\n",
       "  array([0.80239521, 0.77083333]),\n",
       "  array([0.79640719, 0.84722222]),\n",
       "  array([0.7245509 , 0.79861111]),\n",
       "  array([0.78443114, 0.82638889])],\n",
       " [array([0.75541796, 0.73578595]),\n",
       "  array([0.78153846, 0.76094276]),\n",
       "  array([0.77675841, 0.75254237]),\n",
       "  array([0.79876161, 0.7826087 ]),\n",
       "  array([0.82066869, 0.79863481]),\n",
       "  array([0.8238806 , 0.79442509]),\n",
       "  array([0.80239521, 0.77083333]),\n",
       "  array([0.82608696, 0.81333333]),\n",
       "  array([0.76340694, 0.75409836]),\n",
       "  array([0.81114551, 0.79598662])])"
      ]
     },
     "execution_count": 356,
     "metadata": {},
     "output_type": "execute_result"
    }
   ],
   "source": [
    "output"
   ]
  },
  {
   "cell_type": "code",
   "execution_count": 323,
   "metadata": {},
   "outputs": [],
   "source": [
    "SVM_recall = pd.DataFrame(output[0],columns=['Non_Legal','Legal'])\n",
    "SVM_F1 = pd.DataFrame(output[1],columns=['Non_Legal','Legal'])\n",
    "logreg_recall = pd.DataFrame(output[2],columns=['Non_Legal','Legal'])\n",
    "logreg_F1 = pd.DataFrame(output[3],columns=['Non_Legal','Legal'])\n",
    "RF_recall = pd.DataFrame(output[4],columns=['Non_Legal','Legal'])\n",
    "RF_F1 = pd.DataFrame(output[5],columns=['Non_Legal','Legal'])"
   ]
  },
  {
   "cell_type": "code",
   "execution_count": 324,
   "metadata": {},
   "outputs": [
    {
     "data": {
      "text/plain": [
       "<matplotlib.axes._subplots.AxesSubplot at 0x26f93f038d0>"
      ]
     },
     "execution_count": 324,
     "metadata": {},
     "output_type": "execute_result"
    },
    {
     "data": {
      "image/png": "[encoded data removed]",
      "text/plain": [
       "<Figure size 960x400 with 1 Axes>"
      ]
     },
     "metadata": {},
     "output_type": "display_data"
    }
   ],
   "source": [
    "\n",
    "SVM_recall.plot(figsize=(12,5),title='Recall scores of 10 downsamples- SVC Classifier',marker='o')"
   ]
  },
  {
   "cell_type": "code",
   "execution_count": 325,
   "metadata": {},
   "outputs": [
    {
     "data": {
      "text/plain": [
       "<matplotlib.axes._subplots.AxesSubplot at 0x26f94e6ef98>"
      ]
     },
     "execution_count": 325,
     "metadata": {},
     "output_type": "execute_result"
    },
    {
     "data": {
      "image/png": "[encoded data removed]",
      "text/plain": [
       "<Figure size 960x400 with 1 Axes>"
      ]
     },
     "metadata": {},
     "output_type": "display_data"
    }
   ],
   "source": [
    "SVM_F1.plot(figsize=(12,5),title='F1 scores of 10 downsamples- SVC Classifier',marker='o')"
   ]
  },
  {
   "cell_type": "code",
   "execution_count": 326,
   "metadata": {},
   "outputs": [
    {
     "data": {
      "text/plain": [
       "<matplotlib.axes._subplots.AxesSubplot at 0x26f94058978>"
      ]
     },
     "execution_count": 326,
     "metadata": {},
     "output_type": "execute_result"
    },
    {
     "data": {
      "image/png": "[encoded data removed]",
      "text/plain": [
       "<Figure size 960x400 with 1 Axes>"
      ]
     },
     "metadata": {},
     "output_type": "display_data"
    }
   ],
   "source": [
    "\n",
    "logreg_recall.plot(figsize=(12,5),title='Recall scores of 10 downsamples- LOGREG Classifier',marker='o')"
   ]
  },
  {
   "cell_type": "code",
   "execution_count": 327,
   "metadata": {},
   "outputs": [
    {
     "data": {
      "text/plain": [
       "<matplotlib.axes._subplots.AxesSubplot at 0x26f93f2d860>"
      ]
     },
     "execution_count": 327,
     "metadata": {},
     "output_type": "execute_result"
    },
    {
     "data": {
      "image/png": "[encoded data removed]",
      "text/plain": [
       "<Figure size 960x400 with 1 Axes>"
      ]
     },
     "metadata": {},
     "output_type": "display_data"
    }
   ],
   "source": [
    "RF_recall.plot(figsize=(12,5),title='Recall scores of 10 downsamples- Random Forest Classifier',marker='o')"
   ]
  },
  {
   "cell_type": "code",
   "execution_count": null,
   "metadata": {},
   "outputs": [],
   "source": []
  },
  {
   "cell_type": "markdown",
   "metadata": {},
   "source": [
    "## PipeLine"
   ]
  },
  {
   "cell_type": "code",
   "execution_count": 328,
   "metadata": {},
   "outputs": [
    {
     "name": "stderr",
     "output_type": "stream",
     "text": [
      "C:\\Users\\madhan.s\\AppData\\Local\\Continuum\\anaconda3\\lib\\site-packages\\sklearn\\cross_validation.py:41: DeprecationWarning: This module was deprecated in version 0.18 in favor of the model_selection module into which all the refactored classes and functions are moved. Also note that the interface of the new CV iterators are different from that of this module. This module will be removed in 0.20.\n",
      "  \"This module will be removed in 0.20.\", DeprecationWarning)\n",
      "C:\\Users\\madhan.s\\AppData\\Local\\Continuum\\anaconda3\\lib\\site-packages\\sklearn\\grid_search.py:42: DeprecationWarning: This module was deprecated in version 0.18 in favor of the model_selection module into which all the refactored classes and functions are moved. This module will be removed in 0.20.\n",
      "  DeprecationWarning)\n"
     ]
    }
   ],
   "source": [
    "from sklearn.pipeline import Pipeline\n",
    "from sklearn.multiclass import OneVsRestClassifier\n",
    "from sklearn.grid_search import GridSearchCV"
   ]
  },
  {
   "cell_type": "code",
   "execution_count": 329,
   "metadata": {},
   "outputs": [],
   "source": [
    "#rand_classifer = RandomForestClassifier(n_estimators=100,criterion='gini',random_state=0,class_weight={0:.3,1:.7})\n",
    "rand_classifer = RandomForestClassifier()"
   ]
  },
  {
   "cell_type": "code",
   "execution_count": 330,
   "metadata": {},
   "outputs": [
    {
     "data": {
      "text/plain": [
       "RandomForestClassifier(bootstrap=True, class_weight=None, criterion='gini',\n",
       "            max_depth=None, max_features='auto', max_leaf_nodes=None,\n",
       "            min_impurity_decrease=0.0, min_impurity_split=None,\n",
       "            min_samples_leaf=1, min_samples_split=2,\n",
       "            min_weight_fraction_leaf=0.0, n_estimators=10, n_jobs=1,\n",
       "            oob_score=False, random_state=None, verbose=0,\n",
       "            warm_start=False)"
      ]
     },
     "execution_count": 330,
     "metadata": {},
     "output_type": "execute_result"
    }
   ],
   "source": [
    "rand_classifer"
   ]
  },
  {
   "cell_type": "code",
   "execution_count": 333,
   "metadata": {},
   "outputs": [
    {
     "name": "stdout",
     "output_type": "stream",
     "text": [
      "Fitting 2 folds for each of 140 candidates, totalling 280 fits\n"
     ]
    },
    {
     "name": "stderr",
     "output_type": "stream",
     "text": [
      "[Parallel(n_jobs=2)]: Done  28 tasks      | elapsed:  3.3min\n",
      "[Parallel(n_jobs=2)]: Done 124 tasks      | elapsed: 14.2min\n",
      "[Parallel(n_jobs=2)]: Done 280 out of 280 | elapsed: 30.6min finished\n"
     ]
    },
    {
     "name": "stdout",
     "output_type": "stream",
     "text": [
      "0.9991071428571429\n",
      "Best parameters set:\n",
      "[('tfidf', TfidfVectorizer(analyzer='word', binary=False, decode_error='strict',\n",
      "        dtype=<class 'numpy.int64'>, encoding='utf-8', input='content',\n",
      "        lowercase=True, max_df=1.0, max_features=5000, min_df=20,\n",
      "        ngram_range=(1, 4), norm='l2', preprocessor=None, smooth_idf=True,\n",
      "        stop_words='english', strip_accents=None, sublinear_tf=False,\n",
      "        token_pattern='(?u)\\\\b\\\\w\\\\w+\\\\b', tokenizer=None, use_idf=True,\n",
      "        vocabulary=None)), ('clf', RandomForestClassifier(bootstrap=True, class_weight=None, criterion='gini',\n",
      "            max_depth=None, max_features='auto', max_leaf_nodes=None,\n",
      "            min_impurity_decrease=0.0, min_impurity_split=None,\n",
      "            min_samples_leaf=1, min_samples_split=2,\n",
      "            min_weight_fraction_leaf=0.0, n_estimators=100, n_jobs=1,\n",
      "            oob_score=False, random_state=0, verbose=0, warm_start=False))]\n"
     ]
    }
   ],
   "source": [
    "pipeline = Pipeline([\n",
    "    ('tfidf', TfidfVectorizer(stop_words='english')),\n",
    "    ('clf', RandomForestClassifier(n_estimators=100,random_state=0)),])\n",
    "parameters = {\n",
    "    'tfidf__min_df': (10,20,30,40,50),\n",
    "    'tfidf__ngram_range': [(1, 1), (1, 2), (1, 3),(1,4),(1,5),(1,6),(1,7)],\n",
    "    'tfidf__max_features': (5000,6000,7000,8000),\n",
    "    #'clf__n_estimators':(20,50,75,100),\n",
    "    #'clf__criterion': ('gini','entropy'),\n",
    "}\n",
    "\n",
    "grid_search_tune = GridSearchCV(pipeline, parameters, cv=2, n_jobs=2, verbose=3)\n",
    "grid_search_tune.fit(X_train_txt, y_train)\n",
    "print(grid_search_tune.score(X_train_txt,y_train))\n",
    "\n",
    "print(\"Best parameters set:\")\n",
    "print(grid_search_tune.best_estimator_.steps)"
   ]
  },
  {
   "cell_type": "code",
   "execution_count": 334,
   "metadata": {},
   "outputs": [
    {
     "data": {
      "text/plain": [
       "17.5"
      ]
     },
     "execution_count": 334,
     "metadata": {},
     "output_type": "execute_result"
    }
   ],
   "source": [
    "280/16"
   ]
  },
  {
   "cell_type": "code",
   "execution_count": 358,
   "metadata": {},
   "outputs": [],
   "source": [
    "Non_Leg = df_cleaned[df_cleaned['Label']== 0].sample(800,random_state=1,replace=False)\n",
    "Leg = df_cleaned[df_cleaned['Label']==1]\n",
    "df_sampled = pd.concat([Non_Leg,Leg],axis=0)\n",
    "X_sam = df_sampled.text\n",
    "y_sam = df_sampled.Label"
   ]
  },
  {
   "cell_type": "code",
   "execution_count": 359,
   "metadata": {},
   "outputs": [],
   "source": [
    "X_train_txt, X_test_txt, y_train, y_test, = train_test_split(X_sam, y_sam,test_size=0.2, random_state=1)\n",
    "X_dtm_train = tfidf_vec.fit_transform((X_train_txt))\n",
    "X_dtm_test = tfidf_vec.transform(X_test_txt)"
   ]
  },
  {
   "cell_type": "code",
   "execution_count": 360,
   "metadata": {},
   "outputs": [],
   "source": [
    "from sklearn.ensemble import RandomForestClassifier\n",
    "rand_classifer = RandomForestClassifier(n_estimators=100,criterion='gini',random_state=0,class_weight={0:.3,1:.7})\n",
    "rand_classifer.fit(X_dtm_train,y_train)\n",
    "y_pred_randforest = rand_classifer.predict(X_dtm_test)"
   ]
  },
  {
   "cell_type": "code",
   "execution_count": 361,
   "metadata": {},
   "outputs": [
    {
     "name": "stdout",
     "output_type": "stream",
     "text": [
      "RandForest ACCURACY: 0.7588424437299035\n",
      "RandForest CLASSIFIER CONFUSTION MATRIX: col_0    0    1\n",
      "Label          \n",
      "0      121   46\n",
      "1       29  115\n",
      "===> **RandForest F1 SCORE [0.76340694 0.75409836]\n",
      "===> **RandForest Recall SCORE [0.7245509  0.79861111]\n",
      "===> **RandForest Precision SCORE [0.80666667 0.71428571]\n",
      "===> **RandForest ROC_AUC SCORE 0.7615810046573521\n"
     ]
    }
   ],
   "source": [
    "print(\"RandForest ACCURACY:\",metrics.accuracy_score(y_test,y_pred_randforest))\n",
    "print('RandForest CLASSIFIER CONFUSTION MATRIX:',pd.crosstab(y_test,y_pred_randforest))\n",
    "print(\"===> **RandForest F1 SCORE\",metrics.f1_score(y_test, y_pred_randforest,average=None))\n",
    "print(\"===> **RandForest Recall SCORE\",metrics.recall_score(y_test, y_pred_randforest,average=None))\n",
    "print(\"===> **RandForest Precision SCORE\",metrics.precision_score(y_test, y_pred_randforest,average=None))\n",
    "print(\"===> **RandForest ROC_AUC SCORE\",metrics.roc_auc_score(y_test, y_pred_randforest,average=None))"
   ]
  },
  {
   "cell_type": "code",
   "execution_count": 362,
   "metadata": {},
   "outputs": [],
   "source": [
    "from sklearn.ensemble import GradientBoostingClassifier\n",
    "gbcl = GradientBoostingClassifier(n_estimators = 50, learning_rate = 0.1, max_depth=10)\n",
    "gbcl = gbcl.fit(X_dtm_train, y_train)"
   ]
  },
  {
   "cell_type": "code",
   "execution_count": 363,
   "metadata": {},
   "outputs": [],
   "source": [
    "y_pred_gbcl = gbcl.predict(X_dtm_test)"
   ]
  },
  {
   "cell_type": "code",
   "execution_count": 364,
   "metadata": {},
   "outputs": [
    {
     "name": "stdout",
     "output_type": "stream",
     "text": [
      "GBC: ACCURACY: 0.7170418006430869\n",
      "GBC CLASSIFIER CONFUSTION MATRIX:%\n",
      " col_0    0    1\n",
      "Label          \n",
      "0      120   47\n",
      "1       41  103\n",
      "===> **GBC F1 SCORE [0.73170732 0.70068027]\n",
      "===> **GBC Recall SCORE [0.71856287 0.71527778]\n",
      "===> **GBC Precision SCORE [0.74534161 0.68666667]\n",
      "===> **GBC ROC_AUC SCORE 0.7169203260146374\n"
     ]
    }
   ],
   "source": [
    "print(\"GBC: ACCURACY:\",metrics.accuracy_score(y_test,y_pred_gbcl))\n",
    "print('GBC CLASSIFIER CONFUSTION MATRIX:%\\n',pd.crosstab(y_test,y_pred_gbcl))\n",
    "print(\"===> **GBC F1 SCORE\",metrics.f1_score(y_test, y_pred_gbcl,average=None))\n",
    "print(\"===> **GBC Recall SCORE\",metrics.recall_score(y_test, y_pred_gbcl,average=None))\n",
    "print(\"===> **GBC Precision SCORE\",metrics.precision_score(y_test, y_pred_gbcl,average=None))\n",
    "print(\"===> **GBC ROC_AUC SCORE\",metrics.roc_auc_score(y_test, y_pred_gbcl,average=None))"
   ]
  },
  {
   "cell_type": "markdown",
   "metadata": {},
   "source": [
    "## LSTM Network"
   ]
  },
  {
   "cell_type": "code",
   "execution_count": 365,
   "metadata": {},
   "outputs": [
    {
     "name": "stderr",
     "output_type": "stream",
     "text": [
      "C:\\Users\\madhan.s\\AppData\\Local\\Continuum\\anaconda3\\lib\\site-packages\\h5py\\__init__.py:36: FutureWarning: Conversion of the second argument of issubdtype from `float` to `np.floating` is deprecated. In future, it will be treated as `np.float64 == np.dtype(float).type`.\n",
      "  from ._conv import register_converters as _register_converters\n",
      "Using TensorFlow backend.\n"
     ]
    }
   ],
   "source": [
    "from keras.datasets import imdb\n",
    "import numpy as np\n",
    "\n",
    "from keras.models import Sequential\n",
    "from keras.layers import Dense\n",
    "from keras.layers import Flatten\n",
    "from keras.layers.convolutional import Conv1D\n",
    "from keras.layers.convolutional import MaxPooling1D\n",
    "from keras.layers.embeddings import Embedding\n",
    "from keras.layers import LSTM\n",
    "from keras import callbacks\n",
    "from keras.preprocessing.text import Tokenizer\n",
    "from keras.preprocessing import sequence\n"
   ]
  },
  {
   "cell_type": "code",
   "execution_count": 366,
   "metadata": {},
   "outputs": [],
   "source": [
    "from keras.datasets import imdb\n",
    "from keras.preprocessing.sequence import pad_sequences\n",
    "vocab_size = 10000 #vocab size\n",
    "maxlen = 300  #number of word used from each review\n",
    "tok = Tokenizer(num_words=vocab_size)\n",
    "tok.fit_on_texts(X_train_txt)\n",
    "sequences_train = tok.texts_to_sequences(X_train_txt)\n",
    "sequences_test = tok.texts_to_sequences(X_test_txt)\n",
    "#load dataset as a list of ints\n",
    "#(x_train, y_train), (x_test, y_test) = imdb.load_data(num_words=vocab_size)\n",
    "#make all sequences of the same length\n",
    "x_train = sequence.pad_sequences(sequences_train, maxlen=maxlen)\n",
    "x_test =  sequence.pad_sequences(sequences_test, maxlen=maxlen)"
   ]
  },
  {
   "cell_type": "code",
   "execution_count": 367,
   "metadata": {},
   "outputs": [],
   "source": [
    "lstm_model = Sequential()\n",
    "lstm_model.add(Embedding(vocab_size, 128))\n",
    "lstm_model.add(LSTM(128, dropout=0.2, recurrent_dropout=0.2))\n",
    "#lstm_model.add(Flatten())\n",
    "#lstm_model.add(Dense(250, activation='relu'))\n",
    "lstm_model.add(Dense(1, activation='sigmoid'))\n",
    "\n",
    "early_stopping = callbacks.EarlyStopping(monitor='val_loss', min_delta=0,\n",
    "                                         patience=2, verbose=0, mode='auto')\n",
    "\n",
    "# Compile and train.\n",
    "lstm_model.compile(loss='binary_crossentropy', \n",
    "              optimizer='adam',\n",
    "              metrics=['accuracy'])"
   ]
  },
  {
   "cell_type": "code",
   "execution_count": 368,
   "metadata": {},
   "outputs": [
    {
     "name": "stdout",
     "output_type": "stream",
     "text": [
      "Train on 1244 samples, validate on 311 samples\n",
      "Epoch 1/20\n",
      "1244/1244 [==============================] - ETA: 1:11 - loss: 0.6923 - acc: 0.562 - ETA: 47s - loss: 0.6919 - acc: 0.562 - ETA: 39s - loss: 0.6919 - acc: 0.56 - ETA: 34s - loss: 0.6917 - acc: 0.55 - ETA: 31s - loss: 0.6903 - acc: 0.57 - ETA: 27s - loss: 0.6894 - acc: 0.59 - ETA: 25s - loss: 0.6876 - acc: 0.59 - ETA: 22s - loss: 0.6869 - acc: 0.58 - ETA: 20s - loss: 0.6842 - acc: 0.59 - ETA: 17s - loss: 0.6824 - acc: 0.58 - ETA: 15s - loss: 0.6827 - acc: 0.57 - ETA: 13s - loss: 0.6815 - acc: 0.57 - ETA: 11s - loss: 0.6764 - acc: 0.58 - ETA: 9s - loss: 0.6749 - acc: 0.5848 - ETA: 7s - loss: 0.6758 - acc: 0.582 - ETA: 6s - loss: 0.6740 - acc: 0.585 - ETA: 4s - loss: 0.6710 - acc: 0.594 - ETA: 2s - loss: 0.6702 - acc: 0.600 - ETA: 0s - loss: 0.6688 - acc: 0.605 - 36s 29ms/step - loss: 0.6678 - acc: 0.6077 - val_loss: 0.6291 - val_acc: 0.6785\n",
      "Epoch 2/20\n",
      "1244/1244 [==============================] - ETA: 29s - loss: 0.6013 - acc: 0.68 - ETA: 29s - loss: 0.6176 - acc: 0.65 - ETA: 27s - loss: 0.6238 - acc: 0.64 - ETA: 25s - loss: 0.6185 - acc: 0.65 - ETA: 23s - loss: 0.6211 - acc: 0.65 - ETA: 21s - loss: 0.6176 - acc: 0.65 - ETA: 20s - loss: 0.6200 - acc: 0.65 - ETA: 18s - loss: 0.6163 - acc: 0.65 - ETA: 16s - loss: 0.6081 - acc: 0.65 - ETA: 15s - loss: 0.6023 - acc: 0.66 - ETA: 13s - loss: 0.5876 - acc: 0.67 - ETA: 11s - loss: 0.5802 - acc: 0.68 - ETA: 10s - loss: 0.5797 - acc: 0.68 - ETA: 8s - loss: 0.5795 - acc: 0.6920 - ETA: 7s - loss: 0.5748 - acc: 0.690 - ETA: 5s - loss: 0.5694 - acc: 0.692 - ETA: 3s - loss: 0.5639 - acc: 0.698 - ETA: 2s - loss: 0.5587 - acc: 0.702 - ETA: 0s - loss: 0.5611 - acc: 0.699 - 32s 25ms/step - loss: 0.5606 - acc: 0.7018 - val_loss: 0.5610 - val_acc: 0.7010\n",
      "Epoch 3/20\n",
      "1244/1244 [==============================] - ETA: 27s - loss: 0.4668 - acc: 0.78 - ETA: 27s - loss: 0.4626 - acc: 0.78 - ETA: 25s - loss: 0.4416 - acc: 0.81 - ETA: 24s - loss: 0.4427 - acc: 0.82 - ETA: 23s - loss: 0.4509 - acc: 0.80 - ETA: 21s - loss: 0.4409 - acc: 0.80 - ETA: 20s - loss: 0.4414 - acc: 0.80 - ETA: 19s - loss: 0.4371 - acc: 0.80 - ETA: 17s - loss: 0.4388 - acc: 0.81 - ETA: 15s - loss: 0.4284 - acc: 0.81 - ETA: 14s - loss: 0.4205 - acc: 0.82 - ETA: 12s - loss: 0.4144 - acc: 0.82 - ETA: 10s - loss: 0.4039 - acc: 0.82 - ETA: 9s - loss: 0.4052 - acc: 0.8259 - ETA: 7s - loss: 0.4039 - acc: 0.824 - ETA: 5s - loss: 0.3962 - acc: 0.830 - ETA: 4s - loss: 0.3899 - acc: 0.833 - ETA: 2s - loss: 0.3853 - acc: 0.839 - ETA: 0s - loss: 0.3812 - acc: 0.842 - 33s 26ms/step - loss: 0.3774 - acc: 0.8441 - val_loss: 0.5383 - val_acc: 0.7910\n",
      "Epoch 4/20\n",
      "1244/1244 [==============================] - ETA: 29s - loss: 0.2558 - acc: 0.93 - ETA: 28s - loss: 0.2594 - acc: 0.92 - ETA: 26s - loss: 0.2501 - acc: 0.92 - ETA: 25s - loss: 0.2572 - acc: 0.91 - ETA: 23s - loss: 0.2470 - acc: 0.91 - ETA: 22s - loss: 0.2583 - acc: 0.91 - ETA: 20s - loss: 0.2657 - acc: 0.90 - ETA: 18s - loss: 0.2607 - acc: 0.90 - ETA: 17s - loss: 0.2557 - acc: 0.90 - ETA: 15s - loss: 0.2515 - acc: 0.90 - ETA: 13s - loss: 0.2468 - acc: 0.91 - ETA: 12s - loss: 0.2406 - acc: 0.91 - ETA: 10s - loss: 0.2388 - acc: 0.91 - ETA: 9s - loss: 0.2392 - acc: 0.9107 - ETA: 7s - loss: 0.2429 - acc: 0.910 - ETA: 5s - loss: 0.2385 - acc: 0.911 - ETA: 4s - loss: 0.2318 - acc: 0.914 - ETA: 2s - loss: 0.2283 - acc: 0.916 - ETA: 0s - loss: 0.2243 - acc: 0.917 - 34s 27ms/step - loss: 0.2216 - acc: 0.9188 - val_loss: 0.5352 - val_acc: 0.7749\n",
      "Epoch 5/20\n",
      "1244/1244 [==============================] - ETA: 28s - loss: 0.1202 - acc: 0.93 - ETA: 28s - loss: 0.1044 - acc: 0.95 - ETA: 28s - loss: 0.1203 - acc: 0.94 - ETA: 26s - loss: 0.1210 - acc: 0.94 - ETA: 24s - loss: 0.1176 - acc: 0.94 - ETA: 23s - loss: 0.1201 - acc: 0.94 - ETA: 21s - loss: 0.1180 - acc: 0.94 - ETA: 20s - loss: 0.1207 - acc: 0.94 - ETA: 18s - loss: 0.1169 - acc: 0.95 - ETA: 17s - loss: 0.1177 - acc: 0.95 - ETA: 15s - loss: 0.1200 - acc: 0.95 - ETA: 13s - loss: 0.1166 - acc: 0.95 - ETA: 11s - loss: 0.1179 - acc: 0.95 - ETA: 9s - loss: 0.1139 - acc: 0.9576 - ETA: 7s - loss: 0.1098 - acc: 0.959 - ETA: 6s - loss: 0.1106 - acc: 0.960 - ETA: 4s - loss: 0.1161 - acc: 0.960 - ETA: 2s - loss: 0.1166 - acc: 0.960 - ETA: 0s - loss: 0.1138 - acc: 0.961 - 35s 28ms/step - loss: 0.1163 - acc: 0.9598 - val_loss: 0.6915 - val_acc: 0.7460\n",
      "Epoch 6/20\n",
      "1244/1244 [==============================] - ETA: 31s - loss: 0.0284 - acc: 1.00 - ETA: 31s - loss: 0.0274 - acc: 1.00 - ETA: 29s - loss: 0.0274 - acc: 1.00 - ETA: 27s - loss: 0.0469 - acc: 0.98 - ETA: 26s - loss: 0.0591 - acc: 0.98 - ETA: 24s - loss: 0.0750 - acc: 0.97 - ETA: 22s - loss: 0.0690 - acc: 0.98 - ETA: 20s - loss: 0.0698 - acc: 0.98 - ETA: 18s - loss: 0.0767 - acc: 0.98 - ETA: 16s - loss: 0.0713 - acc: 0.98 - ETA: 14s - loss: 0.0709 - acc: 0.98 - ETA: 13s - loss: 0.0724 - acc: 0.98 - ETA: 11s - loss: 0.0750 - acc: 0.98 - ETA: 9s - loss: 0.0737 - acc: 0.9833 - ETA: 7s - loss: 0.0748 - acc: 0.983 - ETA: 6s - loss: 0.0771 - acc: 0.982 - ETA: 4s - loss: 0.0798 - acc: 0.980 - ETA: 2s - loss: 0.0800 - acc: 0.980 - ETA: 0s - loss: 0.0824 - acc: 0.978 - 34s 28ms/step - loss: 0.0837 - acc: 0.9783 - val_loss: 0.6549 - val_acc: 0.7395\n",
      "311/311 [==============================] - ETA:  - ETA:  - ETA:  - ETA:  - 1s 3ms/step\n",
      "Test loss (LOWER is better)      : 0.6548511106101647\n",
      "Test accuracy (HIGHER is better) : 0.7395498430613919\n"
     ]
    }
   ],
   "source": [
    "lstm_model.fit(x_train, y_train, batch_size=64, epochs=20,\n",
    "          validation_data=(x_test, y_test),\n",
    "          callbacks=[early_stopping])\n",
    "\n",
    "loss, acc = lstm_model.evaluate(x_test, y_test, batch_size=64)\n",
    "\n",
    "print('Test loss (LOWER is better)      :', loss)\n",
    "print('Test accuracy (HIGHER is better) :', acc)"
   ]
  },
  {
   "cell_type": "code",
   "execution_count": 369,
   "metadata": {},
   "outputs": [],
   "source": [
    "lstm_pred = lstm_model.predict_classes(x_test)"
   ]
  },
  {
   "cell_type": "code",
   "execution_count": 370,
   "metadata": {},
   "outputs": [
    {
     "name": "stdout",
     "output_type": "stream",
     "text": [
      "LSTM ACCURACY: 0.7395498392282959\n",
      "LSTM CLASSIFIER CONFUSTION MATRIX: 0.7395498392282959\n",
      "===> **LSTM F1 SCORE [0.75528701 0.72164948]\n",
      "===> **LSTM Recall SCORE [0.74850299 0.72916667]\n",
      "===> **LSTM Precision SCORE [0.76219512 0.71428571]\n",
      "===> **LSTM ROC_AUC SCORE 0.7388348303393213\n",
      "#######################################################################################\n"
     ]
    }
   ],
   "source": [
    "print(\"LSTM ACCURACY:\",metrics.accuracy_score(y_test,lstm_pred))\n",
    "print('LSTM CLASSIFIER CONFUSTION MATRIX:',metrics.accuracy_score(y_test,lstm_pred))\n",
    "print(\"===> **LSTM F1 SCORE\",metrics.f1_score(y_test, lstm_pred,average=None))\n",
    "print(\"===> **LSTM Recall SCORE\",metrics.recall_score(y_test, lstm_pred,average=None))\n",
    "print(\"===> **LSTM Precision SCORE\",metrics.precision_score(y_test, lstm_pred,average=None))\n",
    "print(\"===> **LSTM ROC_AUC SCORE\",metrics.roc_auc_score(y_test, lstm_pred,average=None))\n",
    "print(\"#######################################################################################\")"
   ]
  },
  {
   "cell_type": "code",
   "execution_count": 374,
   "metadata": {},
   "outputs": [],
   "source": [
    "test = pd.read_csv(r'C:\\Madhan\\Analytics\\Machine_Learning_project_work\\AI_ML\\bluepencil\\model_improvement\\test_set_1.csv')"
   ]
  },
  {
   "cell_type": "code",
   "execution_count": 375,
   "metadata": {},
   "outputs": [
    {
     "data": {
      "text/html": [
       "<div>\n",
       "<style scoped>\n",
       "    .dataframe tbody tr th:only-of-type {\n",
       "        vertical-align: middle;\n",
       "    }\n",
       "\n",
       "    .dataframe tbody tr th {\n",
       "        vertical-align: top;\n",
       "    }\n",
       "\n",
       "    .dataframe thead th {\n",
       "        text-align: right;\n",
       "    }\n",
       "</style>\n",
       "<table border=\"1\" class=\"dataframe\">\n",
       "  <thead>\n",
       "    <tr style=\"text-align: right;\">\n",
       "      <th></th>\n",
       "      <th>Unnamed: 0</th>\n",
       "      <th>filename</th>\n",
       "      <th>fileContent</th>\n",
       "      <th>Label</th>\n",
       "    </tr>\n",
       "  </thead>\n",
       "  <tbody>\n",
       "    <tr>\n",
       "      <th>0</th>\n",
       "      <td>0</td>\n",
       "      <td>-01-0290_Folder Tax_Vat_2017_Internet.pdf</td>\n",
       "      <td>13th Directive \\r\\r\\nEU VAT refund \\r\\r\\nreque...</td>\n",
       "      <td>Legal</td>\n",
       "    </tr>\n",
       "    <tr>\n",
       "      <th>1</th>\n",
       "      <td>1</td>\n",
       "      <td>-01-0290_Folder Tax_Vat_2017_Internet.pdf</td>\n",
       "      <td>Country\\r\\r\\nAustria \\r\\r\\nBelgium\\r\\r\\nBulgar...</td>\n",
       "      <td>Non-Legal</td>\n",
       "    </tr>\n",
       "    <tr>\n",
       "      <th>2</th>\n",
       "      <td>2</td>\n",
       "      <td>-01-0290_Folder Tax_Vat_2017_Internet.pdf</td>\n",
       "      <td>2\\r\\r\\n\\r\\r\\n|   13th Directive EU VAT refund ...</td>\n",
       "      <td>Legal</td>\n",
       "    </tr>\n",
       "    <tr>\n",
       "      <th>3</th>\n",
       "      <td>3</td>\n",
       "      <td>-01-0290_Folder Tax_Vat_2017_Internet.pdf</td>\n",
       "      <td>A company established in Hong Kong, Taiwan, Ma...</td>\n",
       "      <td>Non-Legal</td>\n",
       "    </tr>\n",
       "    <tr>\n",
       "      <th>4</th>\n",
       "      <td>4</td>\n",
       "      <td>-01-0290_Folder Tax_Vat_2017_Internet.pdf</td>\n",
       "      <td>In particular, \\r\\r\\nthe Asian company must:\\r...</td>\n",
       "      <td>Non-Legal</td>\n",
       "    </tr>\n",
       "  </tbody>\n",
       "</table>\n",
       "</div>"
      ],
      "text/plain": [
       "   Unnamed: 0                                   filename  \\\n",
       "0           0  -01-0290_Folder Tax_Vat_2017_Internet.pdf   \n",
       "1           1  -01-0290_Folder Tax_Vat_2017_Internet.pdf   \n",
       "2           2  -01-0290_Folder Tax_Vat_2017_Internet.pdf   \n",
       "3           3  -01-0290_Folder Tax_Vat_2017_Internet.pdf   \n",
       "4           4  -01-0290_Folder Tax_Vat_2017_Internet.pdf   \n",
       "\n",
       "                                         fileContent      Label  \n",
       "0  13th Directive \\r\\r\\nEU VAT refund \\r\\r\\nreque...      Legal  \n",
       "1  Country\\r\\r\\nAustria \\r\\r\\nBelgium\\r\\r\\nBulgar...  Non-Legal  \n",
       "2  2\\r\\r\\n\\r\\r\\n|   13th Directive EU VAT refund ...      Legal  \n",
       "3  A company established in Hong Kong, Taiwan, Ma...  Non-Legal  \n",
       "4  In particular, \\r\\r\\nthe Asian company must:\\r...  Non-Legal  "
      ]
     },
     "execution_count": 375,
     "metadata": {},
     "output_type": "execute_result"
    }
   ],
   "source": [
    "test.head()"
   ]
  },
  {
   "cell_type": "code",
   "execution_count": 377,
   "metadata": {},
   "outputs": [],
   "source": [
    "X = test.fileContent"
   ]
  },
  {
   "cell_type": "code",
   "execution_count": 378,
   "metadata": {},
   "outputs": [
    {
     "name": "stdout",
     "output_type": "stream",
     "text": [
      "Number of Rows Parsed......................\n",
      "\n",
      "Wall time: 0 ns\n",
      "Cleaned Short Descriptions 5000 of 39055\n",
      "Cleaned Short Descriptions 10000 of 39055\n",
      "Cleaned Short Descriptions 15000 of 39055\n",
      "Cleaned Short Descriptions 20000 of 39055\n",
      "Cleaned Short Descriptions 25000 of 39055\n",
      "Cleaned Short Descriptions 30000 of 39055\n",
      "Cleaned Short Descriptions 35000 of 39055\n"
     ]
    }
   ],
   "source": [
    "print(\"Number of Rows Parsed......................\\n\")\n",
    "corpus = []\n",
    "num_SD = len(X)\n",
    "%time\n",
    "for i in range( 0, num_SD ):\n",
    "    # If the index is evenly divisible by 1000, print a message\n",
    "    if( (i+1)%5000 == 0 ):\n",
    "        print(\"Cleaned Short Descriptions %d of %d\" % ( i+1, num_SD ))\n",
    "    corpus.append( review_to_words(str(X.iloc[i])))"
   ]
  },
  {
   "cell_type": "code",
   "execution_count": null,
   "metadata": {},
   "outputs": [],
   "source": []
  },
  {
   "cell_type": "code",
   "execution_count": 379,
   "metadata": {},
   "outputs": [],
   "source": [
    "X_dtm_test = tfidf_vec.transform(corpus)"
   ]
  },
  {
   "cell_type": "code",
   "execution_count": 380,
   "metadata": {},
   "outputs": [
    {
     "data": {
      "text/plain": [
       "(39055, 255)"
      ]
     },
     "execution_count": 380,
     "metadata": {},
     "output_type": "execute_result"
    }
   ],
   "source": [
    "X_dtm_test.shape"
   ]
  },
  {
   "cell_type": "code",
   "execution_count": 381,
   "metadata": {},
   "outputs": [],
   "source": [
    "y_pred_randforest = rand_classifer.predict(X_dtm_test)"
   ]
  },
  {
   "cell_type": "code",
   "execution_count": 384,
   "metadata": {},
   "outputs": [],
   "source": [
    "y_pred_randforest = pd.DataFrame(y_pred_randforest)"
   ]
  },
  {
   "cell_type": "code",
   "execution_count": 385,
   "metadata": {},
   "outputs": [],
   "source": [
    "test_1 = pd.concat([test,y_pred_randforest],axis=1)"
   ]
  },
  {
   "cell_type": "code",
   "execution_count": 386,
   "metadata": {},
   "outputs": [],
   "source": [
    "test_1.to_csv('test1.csv')"
   ]
  },
  {
   "cell_type": "code",
   "execution_count": null,
   "metadata": {},
   "outputs": [],
   "source": []
  }
 ],
 "metadata": {
  "kernelspec": {
   "display_name": "Python 3",
   "language": "python",
   "name": "python3"
  },
  "language_info": {
   "codemirror_mode": {
    "name": "ipython",
    "version": 3
   },
   "file_extension": ".py",
   "mimetype": "text/x-python",
   "name": "python",
   "nbconvert_exporter": "python",
   "pygments_lexer": "ipython3",
   "version": "3.6.5"
  }
 },
 "nbformat": 4,
 "nbformat_minor": 2
}
