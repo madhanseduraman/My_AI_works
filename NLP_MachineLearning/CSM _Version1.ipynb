{
 "cells": [
  {
   "cell_type": "code",
   "execution_count": 21,
   "metadata": {},
   "outputs": [],
   "source": [
    "import pandas as pd\n",
    "import nltk\n",
    "import numpy as np\n",
    "import string\n",
    "import re\n",
    "from sklearn.feature_extraction.text import TfidfVectorizer\n",
    "from sklearn.linear_model import LogisticRegression\n",
    "from sklearn import preprocessing\n",
    "from sklearn.model_selection import train_test_split\n",
    "\n",
    "from sklearn.naive_bayes import MultinomialNB\n",
    "from sklearn.ensemble import RandomForestClassifier\n",
    "from sklearn.svm import LinearSVC\n",
    "from sklearn.model_selection import cross_val_score\n",
    "\n",
    "import matplotlib.pyplot as plt   \n",
    "import matplotlib.style\n",
    "plt.style.use('classic')\n",
    "from nltk import word_tokenize\n",
    "from nltk import download\n",
    "from nltk.corpus import stopwords\n",
    "#importing seaborn for statistical plots\n",
    "import seaborn as sns\n",
    "import sklearn.metrics as metrics\n",
    "from nltk.stem import WordNetLemmatizer\n",
    "from nltk.corpus import stopwords\n",
    "import spacy\n"
   ]
  },
  {
   "cell_type": "code",
   "execution_count": 12,
   "metadata": {},
   "outputs": [
    {
     "name": "stderr",
     "output_type": "stream",
     "text": [
      "C:\\Users\\madhan.s\\AppData\\Local\\Continuum\\anaconda3\\lib\\site-packages\\pandas\\io\\excel.py:329: FutureWarning: The `sheetname` keyword is deprecated, use `sheet_name` instead\n",
      "  **kwds)\n"
     ]
    },
    {
     "data": {
      "text/plain": [
       "Index(['number', 'short_description', 'Analysis_Category'], dtype='object')"
      ]
     },
     "execution_count": 12,
     "metadata": {},
     "output_type": "execute_result"
    }
   ],
   "source": [
    "csm = pd.read_excel('csm.xlsx', sheetname='Actual')\n",
    "csm.columns"
   ]
  },
  {
   "cell_type": "code",
   "execution_count": 13,
   "metadata": {},
   "outputs": [
    {
     "data": {
      "text/plain": [
       "(4692, 3)"
      ]
     },
     "execution_count": 13,
     "metadata": {},
     "output_type": "execute_result"
    }
   ],
   "source": [
    "csm.head()\n",
    "csm.shape"
   ]
  },
  {
   "cell_type": "code",
   "execution_count": 14,
   "metadata": {},
   "outputs": [
    {
     "data": {
      "text/plain": [
       "count                        4692\n",
       "unique                        106\n",
       "top       EY Monitoring Incidents\n",
       "freq                         1556\n",
       "Name: Analysis_Category, dtype: object"
      ]
     },
     "execution_count": 14,
     "metadata": {},
     "output_type": "execute_result"
    }
   ],
   "source": [
    "csm['Analysis_Category'].describe()"
   ]
  },
  {
   "cell_type": "code",
   "execution_count": 15,
   "metadata": {},
   "outputs": [],
   "source": [
    "csm = pd.DataFrame(csm)"
   ]
  },
  {
   "cell_type": "code",
   "execution_count": 16,
   "metadata": {},
   "outputs": [],
   "source": [
    "#define X and y\n",
    "X = csm.short_description\n",
    "y = csm.Analysis_Category"
   ]
  },
  {
   "cell_type": "code",
   "execution_count": 23,
   "metadata": {},
   "outputs": [],
   "source": [
    "from nltk.corpus import wordnet\n",
    "default_stopwords = set(nltk.corpus.stopwords.words('english'))\n",
    "def get_wordnet_pos(word):\n",
    "    \"\"\"Map POS tag to first character lemmatize() accepts\"\"\"\n",
    "    tag = nltk.pos_tag([word])[0][1][0].upper()\n",
    "    #print(tag)\n",
    "    tag_dict = {\"J\": wordnet.ADJ,\n",
    "                \"N\": wordnet.NOUN,\n",
    "                \"V\": wordnet.VERB,\n",
    "                \"R\": wordnet.ADV}\n",
    "    output = tag_dict.get(tag[0]) \n",
    "    if output:\n",
    "        return output\n",
    "    else:\n",
    "        return 'v'"
   ]
  },
  {
   "cell_type": "code",
   "execution_count": 24,
   "metadata": {},
   "outputs": [],
   "source": [
    "def pre_process( SD ):\n",
    "    lm = WordNetLemmatizer()\n",
    "    letters_only = re.sub(\"[^a-zA-Z]\", \" \", SD)\n",
    "    #print(letters_only)\n",
    "    sentences = nltk.word_tokenize(str(letters_only))\n",
    "    #print(sentences)\n",
    "    sentences = [word.lower() for word in sentences]\n",
    "    no_stops = [word for word in sentences if not word in default_stopwords]\n",
    "    #print(no_stops)\n",
    "    lem_word = [lm.lemmatize(word,get_wordnet_pos(word)) for word in no_stops]\n",
    "    #print(lem_word)\n",
    "    #tags = st.tag(lem_word)\n",
    "    #tagged_words = [word for word,tag in tags if tag!='PERSON' and tag!='LOCATION']\n",
    "    tokens = [word.lower() for word in lem_word if len(word) > 2]\n",
    "    #print(tokens)\n",
    "    return( \" \".join(tokens))"
   ]
  },
  {
   "cell_type": "code",
   "execution_count": 26,
   "metadata": {},
   "outputs": [
    {
     "name": "stdout",
     "output_type": "stream",
     "text": [
      "Number of Rows Parsed......................\n",
      "\n",
      "Wall time: 0 ns\n",
      "Cleaned Short Descriptions 1500 of 4692\n",
      "Cleaned Short Descriptions 3000 of 4692\n",
      "Cleaned Short Descriptions 4500 of 4692\n"
     ]
    }
   ],
   "source": [
    "print(\"Number of Rows Parsed......................\\n\")\n",
    "corpus = []\n",
    "num_SD = len(X)\n",
    "%time\n",
    "for i in range( 0, num_SD ):\n",
    "    # If the index is evenly divisible by 1000, print a message\n",
    "    if( (i+1)%1500 == 0 ):\n",
    "        print(\"Cleaned Short Descriptions %d of %d\" % ( i+1, num_SD ))\n",
    "    corpus.append( pre_process(str(X.iloc[i])))"
   ]
  },
  {
   "cell_type": "code",
   "execution_count": 28,
   "metadata": {},
   "outputs": [],
   "source": [
    "#split into training and testing\n",
    "from sklearn.cross_validation import train_test_split\n",
    "X_train_txt, X_test_txt, y_train, y_test = train_test_split(X,y,random_state=1)"
   ]
  },
  {
   "cell_type": "code",
   "execution_count": 29,
   "metadata": {},
   "outputs": [
    {
     "name": "stdout",
     "output_type": "stream",
     "text": [
      "(3519,)\n",
      "(1173,)\n",
      "(3519,)\n",
      "(1173,)\n"
     ]
    }
   ],
   "source": [
    "print(X_train_txt.shape)\n",
    "print(X_test_txt.shape)\n",
    "print(y_train.shape)\n",
    "print(y_test.shape)"
   ]
  },
  {
   "cell_type": "code",
   "execution_count": 37,
   "metadata": {},
   "outputs": [
    {
     "data": {
      "text/plain": [
       "(3519, 796)"
      ]
     },
     "execution_count": 37,
     "metadata": {},
     "output_type": "execute_result"
    }
   ],
   "source": [
    "tfidf_vec = TfidfVectorizer(stop_words='english', ngram_range=(1,3),min_df=10,max_features=5000,lowercase=True)\n",
    "X_dtm_train = tfidf_vec.fit_transform((X_train_txt))\n",
    "X_dtm_train.shape"
   ]
  },
  {
   "cell_type": "code",
   "execution_count": 38,
   "metadata": {},
   "outputs": [
    {
     "data": {
      "text/plain": [
       "(1173, 796)"
      ]
     },
     "execution_count": 38,
     "metadata": {},
     "output_type": "execute_result"
    }
   ],
   "source": [
    "X_dtm_test = tfidf_vec.transform(X_test_txt)\n",
    "X_dtm_test.shape"
   ]
  },
  {
   "cell_type": "code",
   "execution_count": 39,
   "metadata": {},
   "outputs": [],
   "source": [
    "from sklearn.svm import SVC\n",
    "from sklearn.neighbors import KNeighborsClassifier\n",
    "from sklearn import metrics"
   ]
  },
  {
   "cell_type": "code",
   "execution_count": 40,
   "metadata": {},
   "outputs": [
    {
     "data": {
      "text/plain": [
       "SVC(C=1.0, cache_size=200, class_weight=None, coef0=0.0,\n",
       "  decision_function_shape='ovr', degree=3, gamma='auto', kernel='linear',\n",
       "  max_iter=-1, probability=False, random_state=0, shrinking=True,\n",
       "  tol=0.001, verbose=False)"
      ]
     },
     "execution_count": 40,
     "metadata": {},
     "output_type": "execute_result"
    }
   ],
   "source": [
    "svcclassifier = SVC(random_state=0,kernel='linear')\n",
    "svcclassifier.fit(X_dtm_train,y_train)"
   ]
  },
  {
   "cell_type": "code",
   "execution_count": 41,
   "metadata": {},
   "outputs": [
    {
     "data": {
      "text/plain": [
       "0.8402955385052572"
      ]
     },
     "execution_count": 41,
     "metadata": {},
     "output_type": "execute_result"
    }
   ],
   "source": [
    "svcclassifier.score(X_dtm_train,y_train)"
   ]
  },
  {
   "cell_type": "code",
   "execution_count": 43,
   "metadata": {},
   "outputs": [],
   "source": [
    "y_pred_svm = svcclassifier.predict(X_dtm_test)"
   ]
  },
  {
   "cell_type": "code",
   "execution_count": 44,
   "metadata": {},
   "outputs": [],
   "source": [
    "logreg = LogisticRegression(C=1e9)\n",
    "logreg.fit(X_dtm_train,y_train)\n",
    "y_pred_class_logreg = logreg.predict(X_dtm_test)"
   ]
  },
  {
   "cell_type": "code",
   "execution_count": 45,
   "metadata": {},
   "outputs": [],
   "source": [
    "nb = MultinomialNB()\n",
    "nb.fit(X_dtm_train,y_train)\n",
    "y_pred_class_nb = nb.predict(X_dtm_test)"
   ]
  },
  {
   "cell_type": "code",
   "execution_count": 46,
   "metadata": {},
   "outputs": [],
   "source": [
    "import matplotlib.pyplot as plt   \n",
    "import matplotlib.style\n",
    "plt.style.use('classic')\n",
    "\n",
    "#importing seaborn for statistical plots\n",
    "import seaborn as sns"
   ]
  },
  {
   "cell_type": "code",
   "execution_count": 47,
   "metadata": {},
   "outputs": [],
   "source": [
    "error = []\n",
    "# Calculating error for K values for 5, 13 and 21\n",
    "for i in range(1,49):  \n",
    "    knn = KNeighborsClassifier(n_neighbors=i)\n",
    "    knn.fit(X_dtm_train, y_train)\n",
    "    pred_i = knn.predict(X_dtm_test)\n",
    "    error.append(np.mean(pred_i != y_test))"
   ]
  },
  {
   "cell_type": "code",
   "execution_count": 48,
   "metadata": {},
   "outputs": [
    {
     "data": {
      "text/plain": [
       "Text(0,0.5,'Mean Error')"
      ]
     },
     "execution_count": 48,
     "metadata": {},
     "output_type": "execute_result"
    },
    {
     "data": {
      "image/png": "[encoded data removed]",
      "text/plain": [
       "<Figure size 960x480 with 1 Axes>"
      ]
     },
     "metadata": {},
     "output_type": "display_data"
    }
   ],
   "source": [
    "plt.figure(figsize=(12, 6))  \n",
    "plt.plot(range(1,49), error, color='red', linestyle='dashed', marker='o',  \n",
    "         markerfacecolor='blue', markersize=10)\n",
    "plt.title('Error Rate K Value')  \n",
    "plt.xlabel('K Value')  \n",
    "plt.ylabel('Mean Error') "
   ]
  },
  {
   "cell_type": "code",
   "execution_count": 50,
   "metadata": {},
   "outputs": [],
   "source": [
    "from sklearn.tree import DecisionTreeClassifier\n",
    "classifier = DecisionTreeClassifier(criterion='entropy',random_state=0,max_depth=100,min_samples_leaf=15)\n",
    "classifier.fit(X_dtm_train,y_train)\n",
    "y_pred_tree = classifier.predict(X_dtm_test)"
   ]
  },
  {
   "cell_type": "code",
   "execution_count": 51,
   "metadata": {},
   "outputs": [],
   "source": [
    "from sklearn.ensemble import RandomForestClassifier\n",
    "rand_classifer = RandomForestClassifier(n_estimators=100,criterion='gini',random_state=0)\n",
    "rand_classifer.fit(X_dtm_train,y_train)\n",
    "y_pred_randforest = rand_classifer.predict(X_dtm_test)"
   ]
  },
  {
   "cell_type": "code",
   "execution_count": 55,
   "metadata": {},
   "outputs": [
    {
     "name": "stdout",
     "output_type": "stream",
     "text": [
      "SVM ACCURACY: 0.7621483375959079\n",
      "##################################################################################################\n",
      "LogisticReg ACCURACY: 0.6683716965046889\n",
      "##################################################################################################\n",
      "NaiveBayes ACCURACY: 0.618925831202046\n",
      "##################################################################################################\n",
      "Dtree ACCURACY: 0.5933503836317136\n",
      "##################################################################################################\n",
      "RandForest ACCURACY: 0.7604433077578857\n"
     ]
    }
   ],
   "source": [
    "print(\"SVM ACCURACY:\",metrics.accuracy_score(y_test,y_pred_svm))\n",
    "#print('SVM CLASSIFIER CONFUSTION MATRIX:',pd.crosstab(y_test,y_pred_svm))\n",
    "#print(\"===> **SVM F1 SCORE\",metrics.f1_score(y_test, y_pred_svm,average=None))\n",
    "#print(\"===> **SVM Recall SCORE\",metrics.recall_score(y_test, y_pred_svm,average=None))\n",
    "#print(\"===> **SVM Precision SCORE\",metrics.precision_score(y_test, y_pred_svm,average=None))\n",
    "#print(\"===> **SVM ROC_AUC SCORE\",metrics.roc_auc_score(y_test, y_pred_svm,average=None))\n",
    "print(\"##################################################################################################\")\n",
    "print(\"LogisticReg ACCURACY:\",metrics.accuracy_score(y_test,y_pred_class_logreg,))\n",
    "#print('LogisticReg CLASSIFIER CONFUSTION MATRIX:',pd.crosstab(y_test,y_pred_class_logreg))\n",
    "#print(\"===> **LogisticReg F1 SCORE\",metrics.f1_score(y_test, y_pred_class_logreg,average=None))\n",
    "#print(\"===> **LogisticReg Recall SCORE\",metrics.recall_score(y_test, y_pred_class_logreg,average=None))\n",
    "#print(\"===> **LogisticReg Precision SCORE\",metrics.precision_score(y_test, y_pred_class_logreg,average=None))\n",
    "#print(\"===> **LogisticReg ROC_AUC SCORE\",metrics.roc_auc_score(y_test, y_pred_class_logreg,average=None))\n",
    "print(\"##################################################################################################\")\n",
    "print(\"NaiveBayes ACCURACY:\",metrics.accuracy_score(y_test,y_pred_class_nb))\n",
    "#print('NaiveBayes CLASSIFIER CONFUSTION MATRIX:',pd.crosstab(y_test,y_pred_class_nb))\n",
    "#print(\"===> **NaiveBayes F1 SCORE\",metrics.f1_score(y_test, y_pred_class_nb,average=None))\n",
    "#print(\"===> **NaiveBayes Recall SCORE\",metrics.recall_score(y_test, y_pred_class_nb,average=None))\n",
    "#print(\"===> **NaiveBayes Precision SCORE\",metrics.precision_score(y_test, y_pred_class_nb,average=None))\n",
    "#print(\"===> **NaiveBayes ROC_AUC SCORE\",metrics.roc_auc_score(y_test, y_pred_class_nb,average=None))\n",
    "print(\"##################################################################################################\")\n",
    "#print(\"KNN ACCURACY:\",metrics.accuracy_score(y_test,y_pred_class_knn))\n",
    "#print('KNN CLASSIFIER CONFUSTION MATRIX:',pd.crosstab(y_test,y_pred_class_knn))\n",
    "#print(\"===> **KNN F1 SCORE\",metrics.f1_score(y_test, y_pred_class_knn,average=None))\n",
    "#print(\"===> **KNN Recall SCORE\",metrics.recall_score(y_test, y_pred_class_knn,average=None))\n",
    "#print(\"===> **KNN Precision SCORE\",metrics.precision_score(y_test, y_pred_class_knn,average=None))\n",
    "#print(\"===> **KNN ROC_AUC SCORE\",metrics.roc_auc_score(y_test, y_pred_class_knn,average=None))\n",
    "#print(\"##################################################################################################\")\n",
    "print(\"Dtree ACCURACY:\",metrics.accuracy_score(y_test,y_pred_tree))\n",
    "#print('Dtree CLASSIFIER CONFUSTION MATRIX:',pd.crosstab(y_test,y_pred_tree))\n",
    "#print(\"===> **Dtree F1 SCORE\",metrics.f1_score(y_test, y_pred_tree,average=None))\n",
    "#print(\"===> **Dtree Recall SCORE\",metrics.recall_score(y_test, y_pred_tree,average=None))\n",
    "#print(\"===> **Dtree Precision SCORE\",metrics.precision_score(y_test, y_pred_tree,average=None))\n",
    "#print(\"===> **Dtree ROC_AUC SCORE\",metrics.roc_auc_score(y_test, y_pred_tree,average=None))\n",
    "print(\"##################################################################################################\")\n",
    "print(\"RandForest ACCURACY:\",metrics.accuracy_score(y_test,y_pred_randforest))\n",
    "#print('RandForest CLASSIFIER CONFUSTION MATRIX:',pd.crosstab(y_test,y_pred_randforest))\n",
    "#print(\"===> **RandForest F1 SCORE\",metrics.f1_score(y_test, y_pred_randforest,average=None))\n",
    "#print(\"===> **RandForest Recall SCORE\",metrics.recall_score(y_test, y_pred_randforest,average=None))\n",
    "#print(\"===> **RandForest Precision SCORE\",metrics.precision_score(y_test, y_pred_randforest,average=None))\n",
    "#print(\"===> **RandForest ROC_AUC SCORE\",metrics.roc_auc_score(y_test, y_pred_randforest,average=None))"
   ]
  },
  {
   "cell_type": "code",
   "execution_count": 56,
   "metadata": {},
   "outputs": [],
   "source": [
    "from sklearn.ensemble import GradientBoostingClassifier\n",
    "gbcl = GradientBoostingClassifier(n_estimators = 50, learning_rate = 0.1, max_depth=10)\n",
    "gbcl = gbcl.fit(X_dtm_train, y_train)"
   ]
  },
  {
   "cell_type": "code",
   "execution_count": 57,
   "metadata": {},
   "outputs": [],
   "source": [
    "y_pred_gbcl = gbcl.predict(X_dtm_test)"
   ]
  },
  {
   "cell_type": "code",
   "execution_count": 60,
   "metadata": {},
   "outputs": [
    {
     "name": "stdout",
     "output_type": "stream",
     "text": [
      "GBC: ACCURACY: 0.7127024722932651\n"
     ]
    },
    {
     "name": "stderr",
     "output_type": "stream",
     "text": [
      "C:\\Users\\madhan.s\\AppData\\Local\\Continuum\\anaconda3\\lib\\site-packages\\sklearn\\metrics\\classification.py:1135: UndefinedMetricWarning: F-score is ill-defined and being set to 0.0 in labels with no predicted samples.\n",
      "  'precision', 'predicted', average, warn_for)\n",
      "C:\\Users\\madhan.s\\AppData\\Local\\Continuum\\anaconda3\\lib\\site-packages\\sklearn\\metrics\\classification.py:1137: UndefinedMetricWarning: F-score is ill-defined and being set to 0.0 in labels with no true samples.\n",
      "  'recall', 'true', average, warn_for)\n"
     ]
    },
    {
     "name": "stdout",
     "output_type": "stream",
     "text": [
      "===> **GBC F1 SCORE [0.17391304 0.7388535  0.         0.         0.28571429 0.\n",
      " 0.5        0.         0.         0.         0.54545455 0.57142857\n",
      " 0.         0.         0.         0.         0.5        0.\n",
      " 0.         0.         0.59259259 0.         0.28571429 0.25\n",
      " 0.86419753 0.         0.5        0.18181818 0.         0.\n",
      " 0.         0.         0.         0.72727273 0.995      0.\n",
      " 0.         1.         0.6744186  0.         0.66666667 0.\n",
      " 0.         0.54545455 0.66666667 0.         0.         0.59459459\n",
      " 0.         0.4        0.         0.66666667 0.1        0.69158879\n",
      " 0.47678019 0.         0.         0.         0.94117647 0.17391304\n",
      " 0.9        0.         0.6440678  0.         0.         0.\n",
      " 0.         0.         0.66666667 0.69565217 0.77777778 0.\n",
      " 0.         0.73015873 0.66666667 0.73684211 0.         0.\n",
      " 0.75       0.5        0.75       0.         0.88888889 0.\n",
      " 0.         0.28571429 0.         0.66666667]\n"
     ]
    }
   ],
   "source": [
    "print(\"GBC: ACCURACY:\",metrics.accuracy_score(y_test,y_pred_gbcl))\n",
    "#print('GBC CLASSIFIER CONFUSTION MATRIX:%\\n',pd.crosstab(y_test,y_pred_gbcl))\n",
    "print(\"===> **GBC F1 SCORE\",metrics.f1_score(y_test, y_pred_gbcl,average=None))\n",
    "#print(\"===> **GBC Recall SCORE\",metrics.recall_score(y_test, y_pred_gbcl,average=None))\n",
    "#print(\"===> **GBC Precision SCORE\",metrics.precision_score(y_test, y_pred_gbcl,average=None))\n",
    "#print(\"===> **GBC ROC_AUC SCORE\",metrics.roc_auc_score(y_test, y_pred_gbcl,average=None))"
   ]
  },
  {
   "cell_type": "code",
   "execution_count": 68,
   "metadata": {},
   "outputs": [
    {
     "name": "stderr",
     "output_type": "stream",
     "text": [
      "C:\\Users\\madhan.s\\AppData\\Local\\Continuum\\anaconda3\\lib\\site-packages\\sklearn\\model_selection\\_split.py:605: Warning: The least populated class in y has only 1 members, which is too few. The minimum number of members in any class cannot be less than n_splits=10.\n",
      "  % (min_groups, self.n_splits)), Warning)\n",
      "C:\\Users\\madhan.s\\AppData\\Local\\Continuum\\anaconda3\\lib\\site-packages\\sklearn\\model_selection\\_split.py:605: Warning: The least populated class in y has only 1 members, which is too few. The minimum number of members in any class cannot be less than n_splits=10.\n",
      "  % (min_groups, self.n_splits)), Warning)\n"
     ]
    }
   ],
   "source": [
    "models = [\n",
    "    RandomForestClassifier(n_estimators=200, random_state=0),\n",
    "    LinearSVC(),\n",
    "]\n",
    "CV = 10\n",
    "cv_df = pd.DataFrame(index=range(CV * len(models)))\n",
    "entries = []\n",
    "re = []\n",
    "pre = []\n",
    "for model in models:\n",
    "    model_name = model.__class__.__name__\n",
    "    accuracies = cross_val_score(model, X_dtm_train, y_train, scoring='accuracy', cv=CV)\n",
    "    #recalls = cross_val_score(model, X_dtm_train, y_train, scoring='recall', cv=CV,)\n",
    "    #precisions = cross_val_score(model, X_dtm_train, y_train, scoring='precision', cv=CV)\n",
    "    for fold_idx, accuracy in enumerate(accuracies):\n",
    "        entries.append((model_name, fold_idx, accuracy))\n",
    "    #for rec, recall in enumerate(recalls):\n",
    "     #   re.append((model_name,rec,recall))\n",
    "    #for prec, preci in enumerate(precisions):\n",
    "     #   pre.append((model_name,prec,preci))\n",
    "cv_df = pd.DataFrame(entries, columns=['model_name', 'fold_idx', 'accuracy'])"
   ]
  },
  {
   "cell_type": "code",
   "execution_count": 69,
   "metadata": {},
   "outputs": [
    {
     "data": {
      "image/png": "[encoded data removed]",
      "text/plain": [
       "<Figure size 800x400 with 1 Axes>"
      ]
     },
     "metadata": {},
     "output_type": "display_data"
    }
   ],
   "source": [
    "import seaborn as sns\n",
    "import matplotlib.pyplot as plt\n",
    "\n",
    "plt.figure(figsize=(10,5))\n",
    "sns.boxplot(x='model_name', y='accuracy', data=cv_df).set_title(\"Accuracy comparison - Cross Validation\")\n",
    "sns.stripplot(x='model_name', y='accuracy', data=cv_df, \n",
    "              size=8, jitter=True, edgecolor=\"gray\", linewidth=2)\n",
    "plt.show()"
   ]
  },
  {
   "cell_type": "code",
   "execution_count": null,
   "metadata": {},
   "outputs": [],
   "source": []
  }
 ],
 "metadata": {
  "anaconda-cloud": {},
  "kernelspec": {
   "display_name": "Python 3",
   "language": "python",
   "name": "python3"
  },
  "language_info": {
   "codemirror_mode": {
    "name": "ipython",
    "version": 3
   },
   "file_extension": ".py",
   "mimetype": "text/x-python",
   "name": "python",
   "nbconvert_exporter": "python",
   "pygments_lexer": "ipython3",
   "version": "3.6.5"
  }
 },
 "nbformat": 4,
 "nbformat_minor": 1
}
