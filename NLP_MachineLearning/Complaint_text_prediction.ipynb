{
 "cells": [
  {
   "cell_type": "code",
   "execution_count": 1,
   "metadata": {},
   "outputs": [
    {
     "name": "stderr",
     "output_type": "stream",
     "text": [
      "C:\\Users\\madhan.s\\AppData\\Local\\Continuum\\anaconda3\\lib\\site-packages\\sklearn\\ensemble\\weight_boosting.py:29: DeprecationWarning: numpy.core.umath_tests is an internal NumPy module and should not be imported. It will be removed in a future NumPy release.\n",
      "  from numpy.core.umath_tests import inner1d\n"
     ]
    }
   ],
   "source": [
    "import pandas as pd\n",
    "import pandas as pd\n",
    "import numpy as np\n",
    "from bs4 import BeautifulSoup\n",
    "import re\n",
    "import nltk\n",
    "from nltk.corpus import stopwords\n",
    "from sklearn.feature_extraction.text import CountVectorizer\n",
    "from sklearn.feature_extraction.text import TfidfVectorizer\n",
    "from sklearn.cluster import KMeans\n",
    "from sklearn.decomposition import PCA\n",
    "from sklearn.decomposition import TruncatedSVD\n",
    "from sklearn.ensemble import RandomForestClassifier\n",
    "from sklearn.linear_model.logistic import LogisticRegression\n",
    "from sklearn.linear_model import LinearRegression\n",
    "from sklearn.neighbors import KNeighborsClassifier\n",
    "from sklearn import metrics\n",
    "from sklearn import preprocessing\n",
    "\n",
    "from sklearn.naive_bayes import MultinomialNB\n",
    "from nltk.stem import WordNetLemmatizer\n",
    "from sklearn.preprocessing import Normalizer\n",
    "from sklearn.preprocessing import StandardScaler\n",
    "from nltk import bigrams\n",
    "from nltk import trigrams  \n",
    "import pandas as pd\n",
    "\n",
    "import numpy as np\n",
    "\n",
    "from sklearn.feature_extraction.text import TfidfVectorizer\n",
    "from sklearn.linear_model import LogisticRegression\n",
    "from sklearn import preprocessing\n",
    "from sklearn.model_selection import train_test_split\n",
    "\n",
    "from sklearn.naive_bayes import MultinomialNB\n",
    "from sklearn.ensemble import RandomForestClassifier\n",
    "from sklearn.svm import LinearSVC\n",
    "from sklearn.model_selection import cross_val_score\n",
    "\n",
    "\n",
    "import sklearn.metrics as metrics"
   ]
  },
  {
   "cell_type": "code",
   "execution_count": 2,
   "metadata": {},
   "outputs": [],
   "source": [
    "df = pd.read_csv(r'C:\\Madhan\\Analytics\\Machine_Learning_project_work\\Great_Lakes_AIML\\Capstone\\consumer-court-models\\src\\Data\\auxilliary-models\\CT_and_JT_Lines_2019-03-10_22-06-53.csv')"
   ]
  },
  {
   "cell_type": "code",
   "execution_count": 3,
   "metadata": {},
   "outputs": [
    {
     "data": {
      "text/html": [
       "<div>\n",
       "<style scoped>\n",
       "    .dataframe tbody tr th:only-of-type {\n",
       "        vertical-align: middle;\n",
       "    }\n",
       "\n",
       "    .dataframe tbody tr th {\n",
       "        vertical-align: top;\n",
       "    }\n",
       "\n",
       "    .dataframe thead th {\n",
       "        text-align: right;\n",
       "    }\n",
       "</style>\n",
       "<table border=\"1\" class=\"dataframe\">\n",
       "  <thead>\n",
       "    <tr style=\"text-align: right;\">\n",
       "      <th></th>\n",
       "      <th>Unnamed: 0</th>\n",
       "      <th>HTML_File_Name</th>\n",
       "      <th>Line_of_Text</th>\n",
       "      <th>Label</th>\n",
       "    </tr>\n",
       "  </thead>\n",
       "  <tbody>\n",
       "    <tr>\n",
       "      <th>0</th>\n",
       "      <td>0</td>\n",
       "      <td>Delhi-CC_361_2018-2018-04-17.html</td>\n",
       "      <td>The complainant has come forward on the allega...</td>\n",
       "      <td>COMPLAINT_TEXT</td>\n",
       "    </tr>\n",
       "    <tr>\n",
       "      <th>1</th>\n",
       "      <td>1</td>\n",
       "      <td>Delhi-CC_361_2018-2018-04-17.html</td>\n",
       "      <td>which had been booked with OP-1. She has paid ...</td>\n",
       "      <td>COMPLAINT_TEXT</td>\n",
       "    </tr>\n",
       "    <tr>\n",
       "      <th>2</th>\n",
       "      <td>2</td>\n",
       "      <td>Delhi-CC_361_2018-2018-04-17.html</td>\n",
       "      <td>two parking space which were a part of the com...</td>\n",
       "      <td>COMPLAINT_TEXT</td>\n",
       "    </tr>\n",
       "    <tr>\n",
       "      <th>3</th>\n",
       "      <td>3</td>\n",
       "      <td>Delhi-CC_361_2018-2018-04-17.html</td>\n",
       "      <td>complainant was entitled to refund of Rs.1,30,...</td>\n",
       "      <td>COMPLAINT_TEXT</td>\n",
       "    </tr>\n",
       "    <tr>\n",
       "      <th>4</th>\n",
       "      <td>4</td>\n",
       "      <td>Delhi-CC_361_2018-2018-04-17.html</td>\n",
       "      <td>been charged extra by OP-1. Interest on the sa...</td>\n",
       "      <td>COMPLAINT_TEXT</td>\n",
       "    </tr>\n",
       "  </tbody>\n",
       "</table>\n",
       "</div>"
      ],
      "text/plain": [
       "   Unnamed: 0                     HTML_File_Name  \\\n",
       "0           0  Delhi-CC_361_2018-2018-04-17.html   \n",
       "1           1  Delhi-CC_361_2018-2018-04-17.html   \n",
       "2           2  Delhi-CC_361_2018-2018-04-17.html   \n",
       "3           3  Delhi-CC_361_2018-2018-04-17.html   \n",
       "4           4  Delhi-CC_361_2018-2018-04-17.html   \n",
       "\n",
       "                                        Line_of_Text           Label  \n",
       "0  The complainant has come forward on the allega...  COMPLAINT_TEXT  \n",
       "1  which had been booked with OP-1. She has paid ...  COMPLAINT_TEXT  \n",
       "2  two parking space which were a part of the com...  COMPLAINT_TEXT  \n",
       "3  complainant was entitled to refund of Rs.1,30,...  COMPLAINT_TEXT  \n",
       "4  been charged extra by OP-1. Interest on the sa...  COMPLAINT_TEXT  "
      ]
     },
     "execution_count": 3,
     "metadata": {},
     "output_type": "execute_result"
    }
   ],
   "source": [
    "df.head()"
   ]
  },
  {
   "cell_type": "code",
   "execution_count": 4,
   "metadata": {},
   "outputs": [
    {
     "data": {
      "text/plain": [
       "JUDGEMENT_ORDER_TEXT    24373\n",
       "COMPLAINT_TEXT           7086\n",
       "Name: Label, dtype: int64"
      ]
     },
     "execution_count": 4,
     "metadata": {},
     "output_type": "execute_result"
    }
   ],
   "source": [
    "df.Label.value_counts()"
   ]
  },
  {
   "cell_type": "code",
   "execution_count": 5,
   "metadata": {},
   "outputs": [],
   "source": [
    "df['state'] = df.HTML_File_Name.str[0:5]"
   ]
  },
  {
   "cell_type": "code",
   "execution_count": 6,
   "metadata": {},
   "outputs": [
    {
     "data": {
      "text/plain": [
       "Delhi    11134\n",
       "West_    10650\n",
       "NCDRC     5797\n",
       "Chand     3878\n",
       "Name: state, dtype: int64"
      ]
     },
     "execution_count": 6,
     "metadata": {},
     "output_type": "execute_result"
    }
   ],
   "source": [
    "df.state.value_counts()"
   ]
  },
  {
   "cell_type": "markdown",
   "metadata": {},
   "source": [
    "## Encoding State column"
   ]
  },
  {
   "cell_type": "code",
   "execution_count": 7,
   "metadata": {},
   "outputs": [
    {
     "name": "stdout",
     "output_type": "stream",
     "text": [
      "BEFORE ENCODING : 0    Delhi\n",
      "1    Delhi\n",
      "2    Delhi\n",
      "3    Delhi\n",
      "4    Delhi\n",
      "5    Delhi\n",
      "6    Delhi\n",
      "7    Delhi\n",
      "8    Delhi\n",
      "9    Delhi\n",
      "Name: state_enc, dtype: object\n",
      "\n",
      "ENCODED CLASSES : ['Chand' 'Delhi' 'NCDRC' 'West_']\n",
      "\n",
      "1    11134\n",
      "3    10650\n",
      "2     5797\n",
      "0     3878\n",
      "Name: state_enc, dtype: int64\n",
      "Delhi    11134\n",
      "West_    10650\n",
      "NCDRC     5797\n",
      "Chand     3878\n",
      "Name: state, dtype: int64\n"
     ]
    }
   ],
   "source": [
    "df['state_enc'] = df[\"state\"].values\n",
    "print(\"BEFORE ENCODING : {}\".format(df.state_enc[0:10]))\n",
    "\n",
    "print(\"\")\n",
    "\n",
    "le = preprocessing.LabelEncoder()\n",
    "le.fit(df.state)\n",
    "\n",
    "print(\"ENCODED CLASSES : {}\".format(le.classes_))\n",
    "print(\"\")\n",
    "\n",
    "df['state_enc'] = le.transform(df.state_enc)\n",
    "\n",
    "print(df.state_enc.value_counts())\n",
    "print(df.state.value_counts())"
   ]
  },
  {
   "cell_type": "markdown",
   "metadata": {},
   "source": [
    "#### 0: Chandigarh, 1: Delhi, 2: NCRDC, 3: WestBengal"
   ]
  },
  {
   "cell_type": "code",
   "execution_count": 8,
   "metadata": {},
   "outputs": [
    {
     "name": "stdout",
     "output_type": "stream",
     "text": [
      "BEFORE ENCODING : 0          COMPLAINT_TEXT\n",
      "1          COMPLAINT_TEXT\n",
      "2          COMPLAINT_TEXT\n",
      "3          COMPLAINT_TEXT\n",
      "4          COMPLAINT_TEXT\n",
      "5          COMPLAINT_TEXT\n",
      "6    JUDGEMENT_ORDER_TEXT\n",
      "7    JUDGEMENT_ORDER_TEXT\n",
      "8    JUDGEMENT_ORDER_TEXT\n",
      "9    JUDGEMENT_ORDER_TEXT\n",
      "Name: Labelenc, dtype: object\n",
      "\n",
      "ENCODED CLASSES : ['COMPLAINT_TEXT' 'JUDGEMENT_ORDER_TEXT']\n",
      "\n",
      "1    24373\n",
      "0     7086\n",
      "Name: Labelenc, dtype: int64\n",
      "JUDGEMENT_ORDER_TEXT    24373\n",
      "COMPLAINT_TEXT           7086\n",
      "Name: Label, dtype: int64\n"
     ]
    }
   ],
   "source": [
    "df['Labelenc'] = df[\"Label\"].values\n",
    "print(\"BEFORE ENCODING : {}\".format(df.Labelenc[0:10]))\n",
    "\n",
    "print(\"\")\n",
    "\n",
    "le = preprocessing.LabelEncoder()\n",
    "le.fit(df.Label)\n",
    "\n",
    "print(\"ENCODED CLASSES : {}\".format(le.classes_))\n",
    "print(\"\")\n",
    "\n",
    "df['Labelenc'] = le.transform(df.Labelenc)\n",
    "\n",
    "print(df.Labelenc.value_counts())\n",
    "print(df.Label.value_counts())"
   ]
  },
  {
   "cell_type": "markdown",
   "metadata": {},
   "source": [
    "### 0 is Complainant Text and 1 is Judgement Text"
   ]
  },
  {
   "cell_type": "code",
   "execution_count": 9,
   "metadata": {},
   "outputs": [],
   "source": [
    "X = df.Line_of_Text"
   ]
  },
  {
   "cell_type": "code",
   "execution_count": 10,
   "metadata": {},
   "outputs": [],
   "source": [
    "y = df.Labelenc"
   ]
  },
  {
   "cell_type": "code",
   "execution_count": 16,
   "metadata": {},
   "outputs": [],
   "source": [
    "X_train_txt, X_test_txt, y_train, y_test, state_train,state_test = train_test_split(X, y, df.state_enc,test_size=0.2, random_state=1)"
   ]
  },
  {
   "cell_type": "code",
   "execution_count": 18,
   "metadata": {},
   "outputs": [
    {
     "data": {
      "text/plain": [
       "(25167,)"
      ]
     },
     "execution_count": 18,
     "metadata": {},
     "output_type": "execute_result"
    }
   ],
   "source": [
    "state_train.shape"
   ]
  },
  {
   "cell_type": "code",
   "execution_count": 12,
   "metadata": {},
   "outputs": [
    {
     "data": {
      "text/plain": [
       "(25167,)"
      ]
     },
     "execution_count": 12,
     "metadata": {},
     "output_type": "execute_result"
    }
   ],
   "source": [
    "X_train_txt.shape"
   ]
  },
  {
   "cell_type": "code",
   "execution_count": 13,
   "metadata": {},
   "outputs": [
    {
     "data": {
      "text/plain": [
       "(6292,)"
      ]
     },
     "execution_count": 13,
     "metadata": {},
     "output_type": "execute_result"
    }
   ],
   "source": [
    "X_test_txt.shape"
   ]
  },
  {
   "cell_type": "code",
   "execution_count": 14,
   "metadata": {},
   "outputs": [
    {
     "data": {
      "text/plain": [
       "(25167,)"
      ]
     },
     "execution_count": 14,
     "metadata": {},
     "output_type": "execute_result"
    }
   ],
   "source": [
    "y_train.shape"
   ]
  },
  {
   "cell_type": "code",
   "execution_count": 15,
   "metadata": {},
   "outputs": [
    {
     "data": {
      "text/plain": [
       "(6292,)"
      ]
     },
     "execution_count": 15,
     "metadata": {},
     "output_type": "execute_result"
    }
   ],
   "source": [
    "y_test.shape"
   ]
  },
  {
   "cell_type": "code",
   "execution_count": 19,
   "metadata": {},
   "outputs": [],
   "source": [
    "import scipy as sp"
   ]
  },
  {
   "cell_type": "code",
   "execution_count": 25,
   "metadata": {},
   "outputs": [],
   "source": [
    "state_train = np.array(state_train)"
   ]
  },
  {
   "cell_type": "code",
   "execution_count": 26,
   "metadata": {},
   "outputs": [
    {
     "data": {
      "text/plain": [
       "array([0, 3, 1, ..., 1, 0, 1], dtype=int64)"
      ]
     },
     "execution_count": 26,
     "metadata": {},
     "output_type": "execute_result"
    }
   ],
   "source": [
    "state_train"
   ]
  },
  {
   "cell_type": "code",
   "execution_count": 28,
   "metadata": {},
   "outputs": [
    {
     "data": {
      "text/plain": [
       "(25167, 14808)"
      ]
     },
     "execution_count": 28,
     "metadata": {},
     "output_type": "execute_result"
    }
   ],
   "source": [
    "tfidf_vec = TfidfVectorizer(stop_words='english', ngram_range=(1,4),lowercase=True,min_df=10)\n",
    "X_dtm_train = tfidf_vec.fit_transform((X_train_txt))\n",
    "X_dtm_train.shape"
   ]
  },
  {
   "cell_type": "code",
   "execution_count": 30,
   "metadata": {},
   "outputs": [],
   "source": [
    "dense = X_dtm_train.todense()"
   ]
  },
  {
   "cell_type": "code",
   "execution_count": 32,
   "metadata": {},
   "outputs": [
    {
     "data": {
      "text/plain": [
       "(25167, 14808)"
      ]
     },
     "execution_count": 32,
     "metadata": {},
     "output_type": "execute_result"
    }
   ],
   "source": [
    "dense.shape"
   ]
  },
  {
   "cell_type": "code",
   "execution_count": 35,
   "metadata": {},
   "outputs": [],
   "source": [
    "state_train = state_train.reshape(-1,1)"
   ]
  },
  {
   "cell_type": "code",
   "execution_count": 36,
   "metadata": {},
   "outputs": [],
   "source": [
    "final_train_dtm = np.append(dense,state_train,1)"
   ]
  },
  {
   "cell_type": "code",
   "execution_count": 38,
   "metadata": {},
   "outputs": [
    {
     "data": {
      "text/plain": [
       "(25167, 14809)"
      ]
     },
     "execution_count": 38,
     "metadata": {},
     "output_type": "execute_result"
    }
   ],
   "source": [
    "final_train_dtm.shape"
   ]
  },
  {
   "cell_type": "code",
   "execution_count": 17,
   "metadata": {},
   "outputs": [],
   "source": [
    "#tfidf_vec.vocabulary_"
   ]
  },
  {
   "cell_type": "code",
   "execution_count": 18,
   "metadata": {},
   "outputs": [
    {
     "data": {
      "text/plain": [
       "(6292, 14808)"
      ]
     },
     "execution_count": 18,
     "metadata": {},
     "output_type": "execute_result"
    }
   ],
   "source": [
    "X_dtm_test = tfidf_vec.transform(X_test_txt)\n",
    "X_dtm_test.shape"
   ]
  },
  {
   "cell_type": "code",
   "execution_count": 40,
   "metadata": {},
   "outputs": [],
   "source": [
    "from sklearn.svm import SVC\n",
    "from sklearn.neighbors import KNeighborsClassifier\n",
    "from sklearn import metrics"
   ]
  },
  {
   "cell_type": "code",
   "execution_count": null,
   "metadata": {},
   "outputs": [],
   "source": [
    "svcclassifier = SVC(random_state=0,kernel='linear')\n",
    "svcclassifier.fit(final_train_dtm,y_train)"
   ]
  },
  {
   "cell_type": "code",
   "execution_count": null,
   "metadata": {},
   "outputs": [],
   "source": [
    "svcclassifier.score(final_train_dtm,y_train)"
   ]
  },
  {
   "cell_type": "code",
   "execution_count": null,
   "metadata": {},
   "outputs": [],
   "source": [
    "y_pred_svm = svcclassifier.predict(X_dtm_test)"
   ]
  },
  {
   "cell_type": "code",
   "execution_count": null,
   "metadata": {},
   "outputs": [],
   "source": [
    "## Logistic Regression"
   ]
  },
  {
   "cell_type": "code",
   "execution_count": null,
   "metadata": {},
   "outputs": [],
   "source": [
    "logreg = LogisticRegression(C=1e9)\n",
    "logreg.fit(X_dtm_train,y_train)\n",
    "y_pred_class_logreg = logreg.predict(X_dtm_test)"
   ]
  },
  {
   "cell_type": "code",
   "execution_count": null,
   "metadata": {},
   "outputs": [],
   "source": [
    "## Naive Bayes"
   ]
  },
  {
   "cell_type": "code",
   "execution_count": null,
   "metadata": {},
   "outputs": [],
   "source": [
    "nb = MultinomialNB()\n",
    "nb.fit(X_dtm_train,y_train)\n",
    "y_pred_class_nb = nb.predict(X_dtm_test)"
   ]
  },
  {
   "cell_type": "code",
   "execution_count": null,
   "metadata": {},
   "outputs": [],
   "source": [
    "from sklearn.neighbors import KNeighborsClassifier\n",
    "knn = KNeighborsClassifier(n_neighbors=10)\n",
    "knn.fit(X_dtm_train,y_train)\n",
    "y_pred_class_knn = knn.predict(X_dtm_test)"
   ]
  },
  {
   "cell_type": "code",
   "execution_count": null,
   "metadata": {},
   "outputs": [],
   "source": [
    "from sklearn.tree import DecisionTreeClassifier\n",
    "classifier = DecisionTreeClassifier(criterion='entropy',random_state=0,max_depth=100,class_weight={0:.5,1:.5}, min_samples_leaf=15)\n",
    "classifier.fit(X_dtm_train,y_train)\n",
    "y_pred_tree = classifier.predict(X_dtm_test)"
   ]
  },
  {
   "cell_type": "code",
   "execution_count": null,
   "metadata": {},
   "outputs": [],
   "source": [
    "from sklearn.ensemble import RandomForestClassifier\n",
    "rand_classifer = RandomForestClassifier(n_estimators=10,criterion='entropy',random_state=0)\n",
    "rand_classifer.fit(X_dtm_train,y_train)\n",
    "y_pred_randforest = rand_classifer.predict(X_dtm_test)"
   ]
  },
  {
   "cell_type": "code",
   "execution_count": null,
   "metadata": {},
   "outputs": [],
   "source": [
    "print(\"SVM ACCURACY:\",metrics.accuracy_score(y_test,y_pred_svm))\n",
    "print('SVM CLASSIFIER CONFUSTION MATRIX:',pd.crosstab(y_test,y_pred_svm))\n",
    "print(\"===> **SVM F1 SCORE\",metrics.f1_score(y_test, y_pred_svm))\n",
    "print(\"===> **SVM Recall SCORE\",metrics.recall_score(y_test, y_pred_svm))\n",
    "print(\"===> **SVM Precision SCORE\",metrics.precision_score(y_test, y_pred_svm))\n",
    "print(\"===> **SVM ROC_AUC SCORE\",metrics.roc_auc_score(y_test, y_pred_svm))\n",
    "print(\"##################################################################################################\")\n",
    "print(\"LogisticReg ACCURACY:\",metrics.accuracy_score(y_test,y_pred_class_logreg))\n",
    "print('LogisticReg CLASSIFIER CONFUSTION MATRIX:',pd.crosstab(y_test,y_pred_class_logreg))\n",
    "print(\"===> **LogisticReg F1 SCORE\",metrics.f1_score(y_test, y_pred_class_logreg))\n",
    "print(\"===> **LogisticReg Recall SCORE\",metrics.recall_score(y_test, y_pred_class_logreg))\n",
    "print(\"===> **LogisticReg Precision SCORE\",metrics.precision_score(y_test, y_pred_class_logreg))\n",
    "print(\"===> **LogisticReg ROC_AUC SCORE\",metrics.roc_auc_score(y_test, y_pred_class_logreg))\n",
    "print(\"##################################################################################################\")\n",
    "print(\"NaiveBayes ACCURACY:\",metrics.accuracy_score(y_test,y_pred_class_nb))\n",
    "print('NaiveBayes CLASSIFIER CONFUSTION MATRIX:',pd.crosstab(y_test,y_pred_class_nb))\n",
    "print(\"===> **NaiveBayes F1 SCORE\",metrics.f1_score(y_test, y_pred_class_nb))\n",
    "print(\"===> **NaiveBayes Recall SCORE\",metrics.recall_score(y_test, y_pred_class_nb))\n",
    "print(\"===> **NaiveBayes Precision SCORE\",metrics.precision_score(y_test, y_pred_class_nb))\n",
    "print(\"===> **NaiveBayes ROC_AUC SCORE\",metrics.roc_auc_score(y_test, y_pred_class_nb))\n",
    "print(\"##################################################################################################\")\n",
    "print(\"KNN ACCURACY:\",metrics.accuracy_score(y_test,y_pred_class_knn))\n",
    "print('KNN CLASSIFIER CONFUSTION MATRIX:',pd.crosstab(y_test,y_pred_class_knn))\n",
    "print(\"===> **KNN F1 SCORE\",metrics.f1_score(y_test, y_pred_class_knn))\n",
    "print(\"===> **KNN Recall SCORE\",metrics.recall_score(y_test, y_pred_class_knn))\n",
    "print(\"===> **KNN Precision SCORE\",metrics.precision_score(y_test, y_pred_class_knn))\n",
    "print(\"===> **KNN ROC_AUC SCORE\",metrics.roc_auc_score(y_test, y_pred_class_knn))\n",
    "print(\"##################################################################################################\")\n",
    "print(\"Dtree ACCURACY:\",metrics.accuracy_score(y_test,y_pred_tree))\n",
    "print('Dtree CLASSIFIER CONFUSTION MATRIX:',pd.crosstab(y_test,y_pred_tree))\n",
    "print(\"===> **Dtree F1 SCORE\",metrics.f1_score(y_test, y_pred_tree))\n",
    "print(\"===> **Dtree Recall SCORE\",metrics.recall_score(y_test, y_pred_tree))\n",
    "print(\"===> **Dtree Precision SCORE\",metrics.precision_score(y_test, y_pred_tree))\n",
    "print(\"===> **Dtree ROC_AUC SCORE\",metrics.roc_auc_score(y_test, y_pred_tree))\n",
    "print(\"##################################################################################################\")\n",
    "print(\"RandForest ACCURACY:\",metrics.accuracy_score(y_test,y_pred_randforest))\n",
    "print('RandForest CLASSIFIER CONFUSTION MATRIX:',pd.crosstab(y_test,y_pred_randforest))\n",
    "print(\"===> **RandForest F1 SCORE\",metrics.f1_score(y_test, y_pred_randforest))\n",
    "print(\"===> **RandForest Recall SCORE\",metrics.recall_score(y_test, y_pred_randforest))\n",
    "print(\"===> **RandForest Precision SCORE\",metrics.precision_score(y_test, y_pred_randforest))\n",
    "print(\"===> **RandForest ROC_AUC SCORE\",metrics.roc_auc_score(y_test, y_pred_randforest))"
   ]
  },
  {
   "cell_type": "markdown",
   "metadata": {},
   "source": [
    "### After Stopwords removal & Lemmatizing"
   ]
  },
  {
   "cell_type": "code",
   "execution_count": 20,
   "metadata": {},
   "outputs": [],
   "source": [
    "corpus = []\n",
    "words = []\n",
    "for i in range(len(X)):\n",
    "    #sent = X[i].splitlines()\n",
    "    #sent = [s for s in sent if not re.search(r'[0-9]',s)]\n",
    "    #sent = [s for s in sent if len(s)>0]\n",
    "    #sentences = re.sub('[^a-zA-Z]',' ',str(sent))\n",
    "    sentences = X[i].lower()\n",
    "    sentences = sentences.split()\n",
    "    lm = WordNetLemmatizer()\n",
    "    sentences = [lm.lemmatize(word) for word in sentences if not word in set(stopwords.words('english')) and len(word)>2]\n",
    "    words+= sentences\n",
    "    sentences = ' '.join(sentences)\n",
    "    corpus.append(sentences)\n",
    "#print(coprus)"
   ]
  },
  {
   "cell_type": "code",
   "execution_count": 21,
   "metadata": {},
   "outputs": [
    {
     "data": {
      "text/plain": [
       "'receiving possession complainant remains consumer. complainant educated lady advocate. must paid'"
      ]
     },
     "execution_count": 21,
     "metadata": {},
     "output_type": "execute_result"
    }
   ],
   "source": [
    "corpus[10]"
   ]
  },
  {
   "cell_type": "code",
   "execution_count": 22,
   "metadata": {},
   "outputs": [
    {
     "data": {
      "text/plain": [
       "'receiving possession complainant remains consumer. complainant educated lady advocate. must paid'"
      ]
     },
     "execution_count": 22,
     "metadata": {},
     "output_type": "execute_result"
    }
   ],
   "source": [
    "corpus[10]"
   ]
  },
  {
   "cell_type": "code",
   "execution_count": 23,
   "metadata": {},
   "outputs": [
    {
     "data": {
      "text/plain": [
       "31459"
      ]
     },
     "execution_count": 23,
     "metadata": {},
     "output_type": "execute_result"
    }
   ],
   "source": [
    "len(corpus)"
   ]
  },
  {
   "cell_type": "code",
   "execution_count": 24,
   "metadata": {},
   "outputs": [],
   "source": [
    "df = pd.DataFrame(corpus,columns=['text'])"
   ]
  },
  {
   "cell_type": "code",
   "execution_count": 26,
   "metadata": {},
   "outputs": [],
   "source": [
    "X= df.text"
   ]
  },
  {
   "cell_type": "code",
   "execution_count": 27,
   "metadata": {},
   "outputs": [],
   "source": [
    "X_train_txt, X_test_txt, y_train, y_test = train_test_split(X, y, test_size=0.2, random_state=1)"
   ]
  },
  {
   "cell_type": "code",
   "execution_count": 28,
   "metadata": {},
   "outputs": [
    {
     "data": {
      "text/plain": [
       "(25167, 11962)"
      ]
     },
     "execution_count": 28,
     "metadata": {},
     "output_type": "execute_result"
    }
   ],
   "source": [
    "tfidf_vec = TfidfVectorizer(stop_words='english', ngram_range=(1,3),lowercase=True,min_df=10)\n",
    "X_dtm_train = tfidf_vec.fit_transform((X_train_txt))\n",
    "X_dtm_train.shape"
   ]
  },
  {
   "cell_type": "code",
   "execution_count": 29,
   "metadata": {},
   "outputs": [],
   "source": [
    "#tfidf_vec.vocabulary_"
   ]
  },
  {
   "cell_type": "code",
   "execution_count": 30,
   "metadata": {},
   "outputs": [
    {
     "data": {
      "text/plain": [
       "(6292, 11962)"
      ]
     },
     "execution_count": 30,
     "metadata": {},
     "output_type": "execute_result"
    }
   ],
   "source": [
    "X_dtm_test = tfidf_vec.transform(X_test_txt)\n",
    "X_dtm_test.shape"
   ]
  },
  {
   "cell_type": "code",
   "execution_count": 31,
   "metadata": {},
   "outputs": [],
   "source": [
    "\n",
    "from sklearn.svm import SVC\n",
    "from sklearn.neighbors import KNeighborsClassifier\n",
    "from sklearn import metrics"
   ]
  },
  {
   "cell_type": "code",
   "execution_count": 32,
   "metadata": {},
   "outputs": [
    {
     "data": {
      "text/plain": [
       "SVC(C=1.0, cache_size=200, class_weight=None, coef0=0.0,\n",
       "  decision_function_shape='ovr', degree=3, gamma='auto', kernel='linear',\n",
       "  max_iter=-1, probability=False, random_state=0, shrinking=True,\n",
       "  tol=0.001, verbose=False)"
      ]
     },
     "execution_count": 32,
     "metadata": {},
     "output_type": "execute_result"
    }
   ],
   "source": [
    "svcclassifier = SVC(random_state=0,kernel='linear')\n",
    "svcclassifier.fit(X_dtm_train,y_train)"
   ]
  },
  {
   "cell_type": "code",
   "execution_count": 33,
   "metadata": {},
   "outputs": [],
   "source": [
    "y_pred_svm = svcclassifier.predict(X_dtm_test)"
   ]
  },
  {
   "cell_type": "code",
   "execution_count": 43,
   "metadata": {},
   "outputs": [],
   "source": [
    "## Logistic Regression"
   ]
  },
  {
   "cell_type": "code",
   "execution_count": 34,
   "metadata": {},
   "outputs": [],
   "source": [
    "logreg = LogisticRegression(C=1e9)\n",
    "logreg.fit(X_dtm_train,y_train)\n",
    "y_pred_class_logreg = logreg.predict(X_dtm_test)"
   ]
  },
  {
   "cell_type": "code",
   "execution_count": null,
   "metadata": {},
   "outputs": [],
   "source": []
  },
  {
   "cell_type": "code",
   "execution_count": 35,
   "metadata": {},
   "outputs": [],
   "source": [
    "nb = MultinomialNB()\n",
    "nb.fit(X_dtm_train,y_train)\n",
    "y_pred_class_nb = nb.predict(X_dtm_test)"
   ]
  },
  {
   "cell_type": "code",
   "execution_count": 39,
   "metadata": {},
   "outputs": [],
   "source": [
    "import matplotlib.pyplot as plt   \n",
    "import matplotlib.style\n",
    "plt.style.use('classic')\n",
    "\n",
    "#importing seaborn for statistical plots\n",
    "import seaborn as sns"
   ]
  },
  {
   "cell_type": "code",
   "execution_count": 37,
   "metadata": {},
   "outputs": [],
   "source": [
    "error = []\n",
    "# Calculating error for K values for 5, 13 and 21\n",
    "for i in range(1,49):  \n",
    "    knn = KNeighborsClassifier(n_neighbors=i)\n",
    "    knn.fit(X_dtm_train, y_train)\n",
    "    pred_i = knn.predict(X_dtm_test)\n",
    "    error.append(np.mean(pred_i != y_test))"
   ]
  },
  {
   "cell_type": "code",
   "execution_count": 40,
   "metadata": {},
   "outputs": [
    {
     "data": {
      "text/plain": [
       "Text(0,0.5,'Mean Error')"
      ]
     },
     "execution_count": 40,
     "metadata": {},
     "output_type": "execute_result"
    },
    {
     "data": {
      "image/png": "[encoded data removed]",
      "text/plain": [
       "<Figure size 864x432 with 1 Axes>"
      ]
     },
     "metadata": {},
     "output_type": "display_data"
    }
   ],
   "source": [
    "plt.figure(figsize=(12, 6))  \n",
    "plt.plot(range(1,49), error, color='red', linestyle='dashed', marker='o',  \n",
    "         markerfacecolor='blue', markersize=10)\n",
    "plt.title('Error Rate K Value')  \n",
    "plt.xlabel('K Value')  \n",
    "plt.ylabel('Mean Error') "
   ]
  },
  {
   "cell_type": "code",
   "execution_count": 41,
   "metadata": {},
   "outputs": [],
   "source": [
    "from sklearn.neighbors import KNeighborsClassifier\n",
    "knn = KNeighborsClassifier(n_neighbors=17)\n",
    "knn.fit(X_dtm_train,y_train)\n",
    "y_pred_class_knn = knn.predict(X_dtm_test)"
   ]
  },
  {
   "cell_type": "code",
   "execution_count": null,
   "metadata": {},
   "outputs": [],
   "source": []
  },
  {
   "cell_type": "code",
   "execution_count": 42,
   "metadata": {},
   "outputs": [],
   "source": [
    "from sklearn.tree import DecisionTreeClassifier\n",
    "classifier = DecisionTreeClassifier(criterion='entropy',random_state=0,max_depth=100,class_weight={0:.7,1:.3}, min_samples_leaf=15)\n",
    "classifier.fit(X_dtm_train,y_train)\n",
    "y_pred_tree = classifier.predict(X_dtm_test)"
   ]
  },
  {
   "cell_type": "code",
   "execution_count": null,
   "metadata": {},
   "outputs": [],
   "source": []
  },
  {
   "cell_type": "code",
   "execution_count": 43,
   "metadata": {},
   "outputs": [],
   "source": [
    "from sklearn.ensemble import RandomForestClassifier\n",
    "rand_classifer = RandomForestClassifier(n_estimators=10,criterion='entropy',random_state=0)\n",
    "rand_classifer.fit(X_dtm_train,y_train)\n",
    "y_pred_randforest = rand_classifer.predict(X_dtm_test)"
   ]
  },
  {
   "cell_type": "code",
   "execution_count": 44,
   "metadata": {},
   "outputs": [
    {
     "name": "stdout",
     "output_type": "stream",
     "text": [
      "SVM ACCURACY: 0.8930387794024157\n",
      "SVM CLASSIFIER CONFUSTION MATRIX: col_0        0     1\n",
      "Labelenc            \n",
      "0         1005   447\n",
      "1          226  4614\n",
      "===> **SVM F1 SCORE 0.932027067972932\n",
      "===> **SVM Recall SCORE 0.9533057851239669\n",
      "===> **SVM Precision SCORE 0.9116775340841731\n",
      "===> **SVM ROC_AUC SCORE 0.8227272727272726\n",
      "##################################################################################################\n",
      "LogisticReg ACCURACY: 0.8650667514303878\n",
      "LogisticReg CLASSIFIER CONFUSTION MATRIX: col_0        0     1\n",
      "Labelenc            \n",
      "0         1038   414\n",
      "1          435  4405\n",
      "===> **LogisticReg F1 SCORE 0.912102702143079\n",
      "===> **LogisticReg Recall SCORE 0.9101239669421488\n",
      "===> **LogisticReg Precision SCORE 0.9140900601784603\n",
      "===> **LogisticReg ROC_AUC SCORE 0.8125\n",
      "##################################################################################################\n",
      "NaiveBayes ACCURACY: 0.8657024793388429\n",
      "NaiveBayes CLASSIFIER CONFUSTION MATRIX: col_0        0     1\n",
      "Labelenc            \n",
      "0         1045   407\n",
      "1          438  4402\n",
      "===> **NaiveBayes F1 SCORE 0.9124261581511037\n",
      "===> **NaiveBayes Recall SCORE 0.9095041322314049\n",
      "===> **NaiveBayes Precision SCORE 0.9153670201705136\n",
      "===> **NaiveBayes ROC_AUC SCORE 0.8146005509641874\n",
      "##################################################################################################\n",
      "KNN ACCURACY: 0.8343928798474253\n",
      "KNN CLASSIFIER CONFUSTION MATRIX: col_0        0     1\n",
      "Labelenc            \n",
      "0         1189   263\n",
      "1          779  4061\n",
      "===> **KNN F1 SCORE 0.8862941946748144\n",
      "===> **KNN Recall SCORE 0.8390495867768595\n",
      "===> **KNN Precision SCORE 0.9391766882516188\n",
      "===> **KNN ROC_AUC SCORE 0.8289600550964188\n",
      "##################################################################################################\n",
      "Dtree ACCURACY: 0.8049904640813732\n",
      "Dtree CLASSIFIER CONFUSTION MATRIX: col_0        0     1\n",
      "Labelenc            \n",
      "0         1011   441\n",
      "1          786  4054\n",
      "===> **Dtree F1 SCORE 0.868559185859668\n",
      "===> **Dtree Recall SCORE 0.837603305785124\n",
      "===> **Dtree Precision SCORE 0.9018909899888765\n",
      "===> **Dtree ROC_AUC SCORE 0.7669421487603306\n",
      "##################################################################################################\n",
      "RandForest ACCURACY: 0.8749205340114431\n",
      "RandForest CLASSIFIER CONFUSTION MATRIX: col_0       0     1\n",
      "Labelenc           \n",
      "0         919   533\n",
      "1         254  4586\n",
      "===> **RandForest F1 SCORE 0.9209760016065871\n",
      "===> **RandForest Recall SCORE 0.9475206611570248\n",
      "===> **RandForest Precision SCORE 0.895878101191639\n",
      "===> **RandForest ROC_AUC SCORE 0.7902203856749311\n"
     ]
    }
   ],
   "source": [
    "print(\"SVM ACCURACY:\",metrics.accuracy_score(y_test,y_pred_svm))\n",
    "print('SVM CLASSIFIER CONFUSTION MATRIX:',pd.crosstab(y_test,y_pred_svm))\n",
    "print(\"===> **SVM F1 SCORE\",metrics.f1_score(y_test, y_pred_svm))\n",
    "print(\"===> **SVM Recall SCORE\",metrics.recall_score(y_test, y_pred_svm))\n",
    "print(\"===> **SVM Precision SCORE\",metrics.precision_score(y_test, y_pred_svm))\n",
    "print(\"===> **SVM ROC_AUC SCORE\",metrics.roc_auc_score(y_test, y_pred_svm))\n",
    "print(\"##################################################################################################\")\n",
    "print(\"LogisticReg ACCURACY:\",metrics.accuracy_score(y_test,y_pred_class_logreg))\n",
    "print('LogisticReg CLASSIFIER CONFUSTION MATRIX:',pd.crosstab(y_test,y_pred_class_logreg))\n",
    "print(\"===> **LogisticReg F1 SCORE\",metrics.f1_score(y_test, y_pred_class_logreg))\n",
    "print(\"===> **LogisticReg Recall SCORE\",metrics.recall_score(y_test, y_pred_class_logreg))\n",
    "print(\"===> **LogisticReg Precision SCORE\",metrics.precision_score(y_test, y_pred_class_logreg))\n",
    "print(\"===> **LogisticReg ROC_AUC SCORE\",metrics.roc_auc_score(y_test, y_pred_class_logreg))\n",
    "print(\"##################################################################################################\")\n",
    "print(\"NaiveBayes ACCURACY:\",metrics.accuracy_score(y_test,y_pred_class_nb))\n",
    "print('NaiveBayes CLASSIFIER CONFUSTION MATRIX:',pd.crosstab(y_test,y_pred_class_nb))\n",
    "print(\"===> **NaiveBayes F1 SCORE\",metrics.f1_score(y_test, y_pred_class_nb))\n",
    "print(\"===> **NaiveBayes Recall SCORE\",metrics.recall_score(y_test, y_pred_class_nb))\n",
    "print(\"===> **NaiveBayes Precision SCORE\",metrics.precision_score(y_test, y_pred_class_nb))\n",
    "print(\"===> **NaiveBayes ROC_AUC SCORE\",metrics.roc_auc_score(y_test, y_pred_class_nb))\n",
    "print(\"##################################################################################################\")\n",
    "print(\"KNN ACCURACY:\",metrics.accuracy_score(y_test,y_pred_class_knn))\n",
    "print('KNN CLASSIFIER CONFUSTION MATRIX:',pd.crosstab(y_test,y_pred_class_knn))\n",
    "print(\"===> **KNN F1 SCORE\",metrics.f1_score(y_test, y_pred_class_knn))\n",
    "print(\"===> **KNN Recall SCORE\",metrics.recall_score(y_test, y_pred_class_knn))\n",
    "print(\"===> **KNN Precision SCORE\",metrics.precision_score(y_test, y_pred_class_knn))\n",
    "print(\"===> **KNN ROC_AUC SCORE\",metrics.roc_auc_score(y_test, y_pred_class_knn))\n",
    "print(\"##################################################################################################\")\n",
    "print(\"Dtree ACCURACY:\",metrics.accuracy_score(y_test,y_pred_tree))\n",
    "print('Dtree CLASSIFIER CONFUSTION MATRIX:',pd.crosstab(y_test,y_pred_tree))\n",
    "print(\"===> **Dtree F1 SCORE\",metrics.f1_score(y_test, y_pred_tree))\n",
    "print(\"===> **Dtree Recall SCORE\",metrics.recall_score(y_test, y_pred_tree))\n",
    "print(\"===> **Dtree Precision SCORE\",metrics.precision_score(y_test, y_pred_tree))\n",
    "print(\"===> **Dtree ROC_AUC SCORE\",metrics.roc_auc_score(y_test, y_pred_tree))\n",
    "print(\"##################################################################################################\")\n",
    "print(\"RandForest ACCURACY:\",metrics.accuracy_score(y_test,y_pred_randforest))\n",
    "print('RandForest CLASSIFIER CONFUSTION MATRIX:',pd.crosstab(y_test,y_pred_randforest))\n",
    "print(\"===> **RandForest F1 SCORE\",metrics.f1_score(y_test, y_pred_randforest))\n",
    "print(\"===> **RandForest Recall SCORE\",metrics.recall_score(y_test, y_pred_randforest))\n",
    "print(\"===> **RandForest Precision SCORE\",metrics.precision_score(y_test, y_pred_randforest))\n",
    "print(\"===> **RandForest ROC_AUC SCORE\",metrics.roc_auc_score(y_test, y_pred_randforest))"
   ]
  },
  {
   "cell_type": "code",
   "execution_count": 45,
   "metadata": {},
   "outputs": [],
   "source": [
    "from sklearn.ensemble import GradientBoostingClassifier\n",
    "gbcl = GradientBoostingClassifier(n_estimators = 50, learning_rate = 0.3, max_depth=10)\n",
    "gbcl = gbcl.fit(X_dtm_train, y_train)"
   ]
  },
  {
   "cell_type": "code",
   "execution_count": 46,
   "metadata": {},
   "outputs": [],
   "source": [
    "y_pred_gbcl = gbcl.predict(X_dtm_test)"
   ]
  },
  {
   "cell_type": "code",
   "execution_count": 47,
   "metadata": {},
   "outputs": [
    {
     "name": "stdout",
     "output_type": "stream",
     "text": [
      "GBC: ACCURACY: 0.8765098537825811\n",
      "GBC CLASSIFIER CONFUSTION MATRIX:%\n",
      " col_0       0     1\n",
      "Labelenc           \n",
      "0         844   608\n",
      "1         169  4671\n",
      "===> **GBC F1 SCORE 0.9232137563000297\n",
      "===> **GBC Recall SCORE 0.9650826446280992\n",
      "===> **GBC Precision SCORE 0.8848266717181285\n",
      "===> **GBC ROC_AUC SCORE 0.7731749311294766\n"
     ]
    }
   ],
   "source": [
    "print(\"GBC: ACCURACY:\",metrics.accuracy_score(y_test,y_pred_gbcl))\n",
    "print('GBC CLASSIFIER CONFUSTION MATRIX:%\\n',pd.crosstab(y_test,y_pred_gbcl))\n",
    "print(\"===> **GBC F1 SCORE\",metrics.f1_score(y_test, y_pred_gbcl))\n",
    "print(\"===> **GBC Recall SCORE\",metrics.recall_score(y_test, y_pred_gbcl))\n",
    "print(\"===> **GBC Precision SCORE\",metrics.precision_score(y_test, y_pred_gbcl))\n",
    "print(\"===> **GBC ROC_AUC SCORE\",metrics.roc_auc_score(y_test, y_pred_gbcl))"
   ]
  },
  {
   "cell_type": "code",
   "execution_count": 48,
   "metadata": {},
   "outputs": [],
   "source": [
    "import pickle\n"
   ]
  },
  {
   "cell_type": "code",
   "execution_count": 49,
   "metadata": {},
   "outputs": [],
   "source": [
    "KNNmodel2 = 'KNNMODEL_COMPLAINTTEXT.sav'"
   ]
  },
  {
   "cell_type": "code",
   "execution_count": 50,
   "metadata": {},
   "outputs": [],
   "source": [
    "pickle.dump(knn,open(KNNmodel2,'wb'))"
   ]
  },
  {
   "cell_type": "code",
   "execution_count": 51,
   "metadata": {},
   "outputs": [],
   "source": [
    "vectorizer2 = 'vectorizer_complainttext.pk'"
   ]
  },
  {
   "cell_type": "code",
   "execution_count": 52,
   "metadata": {},
   "outputs": [],
   "source": [
    "pickle.dump(tfidf_vec,open(vectorizer2,'wb'))"
   ]
  },
  {
   "cell_type": "code",
   "execution_count": 53,
   "metadata": {},
   "outputs": [],
   "source": [
    "Randomfor = 'RandomForest_complainttext.sav'"
   ]
  },
  {
   "cell_type": "code",
   "execution_count": 55,
   "metadata": {},
   "outputs": [],
   "source": [
    "pickle.dump(rand_classifer,open(Randomfor,'wb'))"
   ]
  },
  {
   "cell_type": "code",
   "execution_count": null,
   "metadata": {},
   "outputs": [],
   "source": []
  },
  {
   "cell_type": "code",
   "execution_count": null,
   "metadata": {},
   "outputs": [],
   "source": []
  }
 ],
 "metadata": {
  "kernelspec": {
   "display_name": "Python 3",
   "language": "python",
   "name": "python3"
  },
  "language_info": {
   "codemirror_mode": {
    "name": "ipython",
    "version": 3
   },
   "file_extension": ".py",
   "mimetype": "text/x-python",
   "name": "python",
   "nbconvert_exporter": "python",
   "pygments_lexer": "ipython3",
   "version": "3.6.5"
  }
 },
 "nbformat": 4,
 "nbformat_minor": 2
}
