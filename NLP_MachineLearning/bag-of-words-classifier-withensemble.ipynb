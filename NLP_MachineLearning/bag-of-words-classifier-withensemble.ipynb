{
 "cells": [
  {
   "cell_type": "markdown",
   "metadata": {},
   "source": [
    "THINGS TO DO:\n",
    "* ( x ) Tfidf consider both ngram = 1 and ngram = 2\n",
    "* ( _ ) Lemmatize/Stem\n",
    "* ( _ ) Spell check\n",
    "* ( _ ) Identify stopwords and incorporate\n",
    "* ( _ ) Ensemble of Logistic and Linear SVC and check scores\n"
   ]
  },
  {
   "cell_type": "code",
   "execution_count": 19,
   "metadata": {},
   "outputs": [],
   "source": [
    "import pandas as pd\n",
    "\n",
    "import numpy as np\n",
    "\n",
    "from sklearn.feature_extraction.text import TfidfVectorizer\n",
    "from sklearn.linear_model import LogisticRegression\n",
    "from sklearn import preprocessing\n",
    "from sklearn.model_selection import train_test_split\n",
    "\n",
    "from sklearn.naive_bayes import MultinomialNB\n",
    "from sklearn.ensemble import RandomForestClassifier\n",
    "from sklearn.svm import LinearSVC\n",
    "from sklearn.model_selection import cross_val_score\n",
    "\n",
    "\n",
    "import sklearn.metrics as metrics"
   ]
  },
  {
   "cell_type": "code",
   "execution_count": 20,
   "metadata": {},
   "outputs": [],
   "source": [
    "def print_scores(y_actual, y_pred, average='None', classes_=None, print_definitions=True):\n",
    "    '''\n",
    "    Precision talks about how precise/accurate your model is out of those predicted positive, \n",
    "    how many of them are actual positive.Precision is a good measure to determine, when the \n",
    "    costs of False Positive is high. For instance, email spam detection.\n",
    "    \n",
    "    Recall actually calculates how many of the Actual Positives our model capture through \n",
    "    labeling it as Positive (True Positive). Applying the same understanding, we know that \n",
    "    Recall shall be the model metric we use to select our best model when there is a high cost \n",
    "    associated with False Negative. For instance, in fraud detection or sick patient detection.\n",
    "    \n",
    "    F1 Score is needed when you want to seek a balance between Precision and Recall. Right…so what \n",
    "    is the difference between F1 Score and Accuracy then? We have previously seen that accuracy \n",
    "    can be largely contributed by a large number of True Negatives which in most business \n",
    "    circumstances, we do not focus on much whereas False Negative and False Positive usually has \n",
    "    business costs (tangible & intangible) thus F1 Score might be a better measure to use if we \n",
    "    need to seek a balance between Precision and Recall AND there is an uneven class distribution \n",
    "    (large number of Actual Negatives).\n",
    "\n",
    "    https://towardsdatascience.com/accuracy-precision-recall-or-f1-331fb37c5cb9\n",
    "    '''\n",
    "    print(\"-----------------------------------------------------------------------------\")\n",
    "    if(classes_ is not None):\n",
    "        print(\"                                 CLASSES\")\n",
    "        print(\"                 -----------------------------------------\")\n",
    "        for i, class_ in enumerate(classes_):\n",
    "            print(\"  Class [{}] : {}\".format(i, class_))\n",
    "        print(\"\")\n",
    "            \n",
    "    \n",
    "    print(\"                            CONFUSION MATRIX\")\n",
    "    print(\"                 -----------------------------------------\")\n",
    "    print(metrics.confusion_matrix(y_actual, y_pred))\n",
    "    \n",
    "    print(\"\\n                                SCORES\")\n",
    "    print(\"                 -----------------------------------------\")\n",
    "    if(print_definitions):\n",
    "        print(\"[ ACCURACY : Overall, how often is the classifier correct?\")\n",
    "        print(\"  WHEN TO USE:\")\n",
    "        print(\"    Distribution is EVEN across all classes\")\n",
    "        print(\"                   AND\")\n",
    "        print(\"    Cost of False Positive and False Negative are roughly the same\")\n",
    "        print(\"  FORMULA:\")\n",
    "        print(\"    Accuracy = (True Positive + True Negative) / Total Actual ]\\n\")\n",
    "    print(\"===> **ACCURACY** = {}\".format(metrics.accuracy_score(y_actual, y_pred)))\n",
    "\n",
    "    if(print_definitions):\n",
    "        print(\"\\n                 -----------------------------------------\")\n",
    "        print(\"[ F1 SCORE: Seeks balance between Precision and Recall\")\n",
    "        print(\"  WHEN TO USE:\")\n",
    "        print(\"    Distribution is UNEVEN across classes (i.e. some classes have more Actual data than others)\")\n",
    "        print(\"                   AND\")\n",
    "        print(\"    Business is seeking to balance between Precision and Recall costs\")\n",
    "        print(\"  FORMULA:\")\n",
    "        print(\"    F1 = 2 * ((Precision * Recall) / (Precision + Recall)) ]\\n\")\n",
    "    print(\"===> **F1 SCORE** = {}\".format(metrics.f1_score(y_actual, y_pred, average=average)))\n",
    "\n",
    "    if(print_definitions):\n",
    "        print(\"\\n                 -----------------------------------------\")\n",
    "        print(\"[ RECALL OR SENSITIVITY : When it's actually class 'X', how often does it predict as class 'X'?\")\n",
    "        print(\"  WHEN TO USE:\")\n",
    "        print(\"    Cost of False Negative is HIGH. Ex: Actual fraud predicted as 'Not fraud'!\")\n",
    "        print(\"  FORMULA:\")\n",
    "        print(\"    Recall = True Positive / Total Actual Positive ]\\n\")\n",
    "    print(\"===> **RECALL** = {}\".format(metrics.recall_score(y_actual, y_pred, average=average)))\n",
    "    \n",
    "    if(print_definitions):\n",
    "        print(\"\\n                 -----------------------------------------\")\n",
    "        print(\"[ PRECISION : When it predicts as class 'X', how often is it correct?\")\n",
    "        print(\"  WHEN TO USE:\")\n",
    "        print(\"    Cost of False Positive is HIGH. Ex: Non-spam email predicted as Spam!\")\n",
    "        print(\"  FORMULA:\")\n",
    "        print(\"    Precision = True Positive / Total Predicted Positive ]\\n\")\n",
    "    print(\"===> **PRECISION** = {}\".format(metrics.precision_score(y_actual, y_pred, average=average)))\n",
    "    \n",
    "    print(\"\")\n",
    "    print(\"                          CLASSIFICATION REPORT\")\n",
    "    print(\"                 -----------------------------------------\")\n",
    "    print(metrics.classification_report(y_actual, y_pred))\n",
    "\n",
    "    print(\"-----------------------------------------------------------------------------\")"
   ]
  },
  {
   "cell_type": "code",
   "execution_count": 21,
   "metadata": {},
   "outputs": [],
   "source": [
    "DATA_FILE_PATH = r'C:\\Madhan\\Analytics\\Machine_Learning_project_work\\Great_Lakes_AIML\\Capstone\\consumer-court-models\\src\\Data\\bag-of-words\\Bag_Of_Words_Data_2019-02-01_00-47-05.csv'"
   ]
  },
  {
   "cell_type": "code",
   "execution_count": 22,
   "metadata": {},
   "outputs": [],
   "source": [
    "bow_df = pd.read_csv(DATA_FILE_PATH, dtype='object')"
   ]
  },
  {
   "cell_type": "code",
   "execution_count": 23,
   "metadata": {},
   "outputs": [
    {
     "data": {
      "text/html": [
       "<div>\n",
       "<style scoped>\n",
       "    .dataframe tbody tr th:only-of-type {\n",
       "        vertical-align: middle;\n",
       "    }\n",
       "\n",
       "    .dataframe tbody tr th {\n",
       "        vertical-align: top;\n",
       "    }\n",
       "\n",
       "    .dataframe thead th {\n",
       "        text-align: right;\n",
       "    }\n",
       "</style>\n",
       "<table border=\"1\" class=\"dataframe\">\n",
       "  <thead>\n",
       "    <tr style=\"text-align: right;\">\n",
       "      <th></th>\n",
       "      <th>count</th>\n",
       "      <th>unique</th>\n",
       "      <th>top</th>\n",
       "      <th>freq</th>\n",
       "    </tr>\n",
       "  </thead>\n",
       "  <tbody>\n",
       "    <tr>\n",
       "      <th>index</th>\n",
       "      <td>532</td>\n",
       "      <td>532</td>\n",
       "      <td>419</td>\n",
       "      <td>1</td>\n",
       "    </tr>\n",
       "    <tr>\n",
       "      <th>HTML_File_Name</th>\n",
       "      <td>532</td>\n",
       "      <td>532</td>\n",
       "      <td>Delhi-CC_181_2018-2018-04-06.html</td>\n",
       "      <td>1</td>\n",
       "    </tr>\n",
       "    <tr>\n",
       "      <th>Complaint_Text</th>\n",
       "      <td>532</td>\n",
       "      <td>517</td>\n",
       "      <td>Facts of the case, necessary for the adjudicat...</td>\n",
       "      <td>6</td>\n",
       "    </tr>\n",
       "    <tr>\n",
       "      <th>Verdict</th>\n",
       "      <td>532</td>\n",
       "      <td>3</td>\n",
       "      <td>Won</td>\n",
       "      <td>361</td>\n",
       "    </tr>\n",
       "  </tbody>\n",
       "</table>\n",
       "</div>"
      ],
      "text/plain": [
       "               count unique  \\\n",
       "index            532    532   \n",
       "HTML_File_Name   532    532   \n",
       "Complaint_Text   532    517   \n",
       "Verdict          532      3   \n",
       "\n",
       "                                                              top freq  \n",
       "index                                                         419    1  \n",
       "HTML_File_Name                  Delhi-CC_181_2018-2018-04-06.html    1  \n",
       "Complaint_Text  Facts of the case, necessary for the adjudicat...    6  \n",
       "Verdict                                                       Won  361  "
      ]
     },
     "execution_count": 23,
     "metadata": {},
     "output_type": "execute_result"
    }
   ],
   "source": [
    "bow_df.describe(include='all').transpose()"
   ]
  },
  {
   "cell_type": "code",
   "execution_count": 24,
   "metadata": {},
   "outputs": [
    {
     "data": {
      "text/plain": [
       "(532,)"
      ]
     },
     "execution_count": 24,
     "metadata": {},
     "output_type": "execute_result"
    }
   ],
   "source": [
    "X = bow_df[\"Complaint_Text\"].values\n",
    "X.shape"
   ]
  },
  {
   "cell_type": "code",
   "execution_count": 25,
   "metadata": {},
   "outputs": [
    {
     "name": "stdout",
     "output_type": "stream",
     "text": [
      "BEFORE ENCODING : ['Dismissed' 'Dismissed' 'Dismissed' 'Dismissed' 'Won' 'Dismissed' 'Won'\n",
      " 'Won' 'Won' 'Won']\n",
      "\n",
      "ENCODED CLASSES : ['Dismissed' 'Partially Won' 'Won']\n",
      "\n",
      "AFTER ENCODING  : [0 0 0 0 2 0 2 2 2 2]\n"
     ]
    }
   ],
   "source": [
    "Y = bow_df[\"Verdict\"].values\n",
    "print(\"BEFORE ENCODING : {}\".format(Y[0:10]))\n",
    "print(\"\")\n",
    "\n",
    "le = preprocessing.LabelEncoder()\n",
    "le.fit(Y)\n",
    "\n",
    "print(\"ENCODED CLASSES : {}\".format(le.classes_))\n",
    "print(\"\")\n",
    "\n",
    "Y = le.transform(Y)\n",
    "print(\"AFTER ENCODING  : {}\".format(Y[0:10]))"
   ]
  },
  {
   "cell_type": "code",
   "execution_count": 26,
   "metadata": {},
   "outputs": [],
   "source": [
    "X_train_txt, X_test_txt, Y_train, Y_test = train_test_split(X, Y, test_size=0.2, random_state=1)"
   ]
  },
  {
   "cell_type": "code",
   "execution_count": 27,
   "metadata": {},
   "outputs": [
    {
     "name": "stdout",
     "output_type": "stream",
     "text": [
      "[[  0 131]\n",
      " [  1   8]\n",
      " [  2 286]]\n"
     ]
    }
   ],
   "source": [
    "unique, counts = np.unique(Y_train, return_counts=True)\n",
    "\n",
    "print(np.asarray((unique, counts)).T)"
   ]
  },
  {
   "cell_type": "code",
   "execution_count": 28,
   "metadata": {},
   "outputs": [
    {
     "name": "stdout",
     "output_type": "stream",
     "text": [
      "[[ 0 28]\n",
      " [ 1  4]\n",
      " [ 2 75]]\n"
     ]
    }
   ],
   "source": [
    "unique, counts = np.unique(Y_test, return_counts=True)\n",
    "\n",
    "print(np.asarray((unique, counts)).T)"
   ]
  },
  {
   "cell_type": "code",
   "execution_count": 29,
   "metadata": {},
   "outputs": [
    {
     "data": {
      "text/plain": [
       "(425, 431)"
      ]
     },
     "execution_count": 29,
     "metadata": {},
     "output_type": "execute_result"
    }
   ],
   "source": [
    "tfidf_vec = TfidfVectorizer(stop_words='english', ngram_range=(1,3),min_df=50)\n",
    "X_train = tfidf_vec.fit_transform(X_train_txt)\n",
    "X_train.shape"
   ]
  },
  {
   "cell_type": "code",
   "execution_count": 30,
   "metadata": {},
   "outputs": [
    {
     "data": {
      "text/plain": [
       "(107, 431)"
      ]
     },
     "execution_count": 30,
     "metadata": {},
     "output_type": "execute_result"
    }
   ],
   "source": [
    "X_test = tfidf_vec.transform(X_test_txt)\n",
    "X_test.shape"
   ]
  },
  {
   "cell_type": "code",
   "execution_count": 31,
   "metadata": {},
   "outputs": [],
   "source": [
    "lr = LogisticRegression(C=1e9) # Giving a really HIGH 'C' value to avoid overfitting\n",
    "                               # See https://stackoverflow.com/questions/22851316/what-is-the-inverse-of-regularization-strength-in-logistic-regression-how-shoul"
   ]
  },
  {
   "cell_type": "code",
   "execution_count": 32,
   "metadata": {},
   "outputs": [],
   "source": [
    "lr.fit(X_train, Y_train)\n",
    "Y_pred_test_lr = lr.predict(X_test)"
   ]
  },
  {
   "cell_type": "code",
   "execution_count": 33,
   "metadata": {},
   "outputs": [
    {
     "name": "stdout",
     "output_type": "stream",
     "text": [
      "-----------------------------------------------------------------------------\n",
      "                                 CLASSES\n",
      "                 -----------------------------------------\n",
      "  Class [0] : Dismissed\n",
      "  Class [1] : Partially Won\n",
      "  Class [2] : Won\n",
      "\n",
      "                            CONFUSION MATRIX\n",
      "                 -----------------------------------------\n",
      "[[17  0 11]\n",
      " [ 0  0  4]\n",
      " [10  0 65]]\n",
      "\n",
      "                                SCORES\n",
      "                 -----------------------------------------\n",
      "===> **ACCURACY** = 0.7663551401869159\n",
      "===> **F1 SCORE** = [0.61818182 0.         0.83870968]\n",
      "===> **RECALL** = [0.60714286 0.         0.86666667]\n",
      "===> **PRECISION** = [0.62962963 0.         0.8125    ]\n",
      "\n",
      "                          CLASSIFICATION REPORT\n",
      "                 -----------------------------------------\n",
      "             precision    recall  f1-score   support\n",
      "\n",
      "          0       0.63      0.61      0.62        28\n",
      "          1       0.00      0.00      0.00         4\n",
      "          2       0.81      0.87      0.84        75\n",
      "\n",
      "avg / total       0.73      0.77      0.75       107\n",
      "\n",
      "-----------------------------------------------------------------------------\n"
     ]
    },
    {
     "name": "stderr",
     "output_type": "stream",
     "text": [
      "C:\\Users\\madhan.s\\AppData\\Local\\Continuum\\anaconda3\\lib\\site-packages\\sklearn\\metrics\\classification.py:1135: UndefinedMetricWarning: F-score is ill-defined and being set to 0.0 in labels with no predicted samples.\n",
      "  'precision', 'predicted', average, warn_for)\n",
      "C:\\Users\\madhan.s\\AppData\\Local\\Continuum\\anaconda3\\lib\\site-packages\\sklearn\\metrics\\classification.py:1135: UndefinedMetricWarning: Precision is ill-defined and being set to 0.0 in labels with no predicted samples.\n",
      "  'precision', 'predicted', average, warn_for)\n",
      "C:\\Users\\madhan.s\\AppData\\Local\\Continuum\\anaconda3\\lib\\site-packages\\sklearn\\metrics\\classification.py:1135: UndefinedMetricWarning: Precision and F-score are ill-defined and being set to 0.0 in labels with no predicted samples.\n",
      "  'precision', 'predicted', average, warn_for)\n"
     ]
    }
   ],
   "source": [
    "print_scores(Y_test, Y_pred_test_lr, average=None, classes_=le.classes_, print_definitions=False)"
   ]
  },
  {
   "cell_type": "code",
   "execution_count": 34,
   "metadata": {},
   "outputs": [],
   "source": [
    "models = [\n",
    "    RandomForestClassifier(n_estimators=200, random_state=0),\n",
    "    LinearSVC(),\n",
    "    MultinomialNB(),\n",
    "    LogisticRegression(random_state=0),\n",
    "]\n",
    "CV = 5\n",
    "cv_df = pd.DataFrame(index=range(CV * len(models)))\n",
    "entries = []\n",
    "for model in models:\n",
    "    model_name = model.__class__.__name__\n",
    "    accuracies = cross_val_score(model, X_train, Y_train, scoring='accuracy', cv=CV)\n",
    "    for fold_idx, accuracy in enumerate(accuracies):\n",
    "        entries.append((model_name, fold_idx, accuracy))\n",
    "\n",
    "cv_df = pd.DataFrame(entries, columns=['model_name', 'fold_idx', 'accuracy'])"
   ]
  },
  {
   "cell_type": "code",
   "execution_count": 35,
   "metadata": {},
   "outputs": [
    {
     "data": {
      "image/png": "[encoded data removed]",
      "text/plain": [
       "<Figure size 576x432 with 1 Axes>"
      ]
     },
     "metadata": {},
     "output_type": "display_data"
    }
   ],
   "source": [
    "import seaborn as sns\n",
    "import matplotlib.pyplot as plt\n",
    "\n",
    "plt.figure(figsize=(8,6))\n",
    "sns.boxplot(x='model_name', y='accuracy', data=cv_df).set_title(\"ngrams = 1 and 2\")\n",
    "sns.stripplot(x='model_name', y='accuracy', data=cv_df, \n",
    "              size=8, jitter=True, edgecolor=\"gray\", linewidth=2)\n",
    "plt.show()"
   ]
  },
  {
   "cell_type": "code",
   "execution_count": 36,
   "metadata": {},
   "outputs": [
    {
     "data": {
      "text/plain": [
       "model_name\n",
       "LinearSVC                 0.760344\n",
       "LogisticRegression        0.734320\n",
       "MultinomialNB             0.694039\n",
       "RandomForestClassifier    0.769840\n",
       "Name: accuracy, dtype: float64"
      ]
     },
     "execution_count": 36,
     "metadata": {},
     "output_type": "execute_result"
    }
   ],
   "source": [
    "cv_df.groupby('model_name').accuracy.mean()"
   ]
  },
  {
   "cell_type": "code",
   "execution_count": 37,
   "metadata": {},
   "outputs": [
    {
     "name": "stdout",
     "output_type": "stream",
     "text": [
      "-----------------------------------------------------------------------------\n",
      "                                 CLASSES\n",
      "                 -----------------------------------------\n",
      "  Class [0] : Dismissed\n",
      "  Class [1] : Partially Won\n",
      "  Class [2] : Won\n",
      "\n",
      "                            CONFUSION MATRIX\n",
      "                 -----------------------------------------\n",
      "[[17  0 11]\n",
      " [ 0  0  4]\n",
      " [ 5  0 70]]\n",
      "\n",
      "                                SCORES\n",
      "                 -----------------------------------------\n",
      "===> **ACCURACY** = 0.8130841121495327\n",
      "===> **F1 SCORE** = [0.68  0.    0.875]\n",
      "===> **RECALL** = [0.60714286 0.         0.93333333]\n",
      "===> **PRECISION** = [0.77272727 0.         0.82352941]\n",
      "\n",
      "                          CLASSIFICATION REPORT\n",
      "                 -----------------------------------------\n",
      "             precision    recall  f1-score   support\n",
      "\n",
      "          0       0.77      0.61      0.68        28\n",
      "          1       0.00      0.00      0.00         4\n",
      "          2       0.82      0.93      0.87        75\n",
      "\n",
      "avg / total       0.78      0.81      0.79       107\n",
      "\n",
      "-----------------------------------------------------------------------------\n"
     ]
    },
    {
     "name": "stderr",
     "output_type": "stream",
     "text": [
      "C:\\Users\\madhan.s\\AppData\\Local\\Continuum\\anaconda3\\lib\\site-packages\\sklearn\\metrics\\classification.py:1135: UndefinedMetricWarning: F-score is ill-defined and being set to 0.0 in labels with no predicted samples.\n",
      "  'precision', 'predicted', average, warn_for)\n",
      "C:\\Users\\madhan.s\\AppData\\Local\\Continuum\\anaconda3\\lib\\site-packages\\sklearn\\metrics\\classification.py:1135: UndefinedMetricWarning: Precision is ill-defined and being set to 0.0 in labels with no predicted samples.\n",
      "  'precision', 'predicted', average, warn_for)\n",
      "C:\\Users\\madhan.s\\AppData\\Local\\Continuum\\anaconda3\\lib\\site-packages\\sklearn\\metrics\\classification.py:1135: UndefinedMetricWarning: Precision and F-score are ill-defined and being set to 0.0 in labels with no predicted samples.\n",
      "  'precision', 'predicted', average, warn_for)\n"
     ]
    }
   ],
   "source": [
    "model = LinearSVC()\n",
    "model.fit(X_train, Y_train)\n",
    "Y_pred_svc = model.predict(X_test)\n",
    "\n",
    "print_scores(Y_test, Y_pred_svc, average=None, classes_=le.classes_, print_definitions=False)"
   ]
  },
  {
   "cell_type": "code",
   "execution_count": 38,
   "metadata": {},
   "outputs": [],
   "source": [
    "# LOGISTIC REGRESSION - TFIDF ngrams = 1\n",
    "# -----------------------------------------------------------------------------\n",
    "#                                  CLASSES\n",
    "#                  -----------------------------------------\n",
    "#   Class [0] : Dismissed\n",
    "#   Class [1] : Partially Won\n",
    "#   Class [2] : Won\n",
    "\n",
    "#                             CONFUSION MATRIX\n",
    "#                  -----------------------------------------\n",
    "# [[18  0 10]\n",
    "#  [ 0  0  4]\n",
    "#  [ 6  0 69]]\n",
    "\n",
    "#                                 SCORES\n",
    "#                  -----------------------------------------\n",
    "# ===> **ACCURACY** = 0.81308411215\n",
    "# ===> **F1 SCORE** = [ 0.69230769  0.          0.87341772]\n",
    "# ===> **RECALL** = [ 0.64285714  0.          0.92      ]\n",
    "# ===> **PRECISION** = [ 0.75       0.         0.8313253]\n",
    "\n",
    "#                           CLASSIFICATION REPORT\n",
    "#                  -----------------------------------------\n",
    "#               precision    recall  f1-score   support\n",
    "\n",
    "#            0       0.75      0.64      0.69        28\n",
    "#            1       0.00      0.00      0.00         4\n",
    "#            2       0.83      0.92      0.87        75\n",
    "\n",
    "#    micro avg       0.81      0.81      0.81       107\n",
    "#    macro avg       0.53      0.52      0.52       107\n",
    "# weighted avg       0.78      0.81      0.79       107\n",
    "\n",
    "# -----------------------------------------------------------------------------"
   ]
  },
  {
   "cell_type": "code",
   "execution_count": 39,
   "metadata": {},
   "outputs": [],
   "source": [
    "# LOGISTIC REGRESSION - TFIDF ngrams = 1 and 2\n",
    "# -----------------------------------------------------------------------------\n",
    "#                                  CLASSES\n",
    "#                  -----------------------------------------\n",
    "#   Class [0] : Dismissed\n",
    "#   Class [1] : Partially Won\n",
    "#   Class [2] : Won\n",
    "\n",
    "#                             CONFUSION MATRIX\n",
    "#                  -----------------------------------------\n",
    "# [[17  0 11]\n",
    "#  [ 0  0  4]\n",
    "#  [ 3  0 72]]\n",
    "\n",
    "#                                 SCORES\n",
    "#                  -----------------------------------------\n",
    "# ===> **ACCURACY** = 0.831775700935\n",
    "# ===> **F1 SCORE** = [ 0.70833333  0.          0.88888889]\n",
    "# ===> **RECALL** = [ 0.60714286  0.          0.96      ]\n",
    "# ===> **PRECISION** = [ 0.85        0.          0.82758621]\n",
    "\n",
    "#                           CLASSIFICATION REPORT\n",
    "#                  -----------------------------------------\n",
    "#               precision    recall  f1-score   support\n",
    "\n",
    "#            0       0.85      0.61      0.71        28\n",
    "#            1       0.00      0.00      0.00         4\n",
    "#            2       0.83      0.96      0.89        75\n",
    "\n",
    "#    micro avg       0.83      0.83      0.83       107\n",
    "#    macro avg       0.56      0.52      0.53       107\n",
    "# weighted avg       0.80      0.83      0.81       107\n",
    "\n",
    "# -----------------------------------------------------------------------------"
   ]
  },
  {
   "cell_type": "code",
   "execution_count": 40,
   "metadata": {},
   "outputs": [],
   "source": [
    "# LINEAR SVC - TFIDF ngrams = 1\n",
    "# -----------------------------------------------------------------------------\n",
    "#                                  CLASSES\n",
    "#                  -----------------------------------------\n",
    "#   Class [0] : Dismissed\n",
    "#   Class [1] : Partially Won\n",
    "#   Class [2] : Won\n",
    "\n",
    "#                             CONFUSION MATRIX\n",
    "#                  -----------------------------------------\n",
    "# [[16  0 12]\n",
    "#  [ 0  0  4]\n",
    "#  [ 4  0 71]]\n",
    "\n",
    "#                                 SCORES\n",
    "#                  -----------------------------------------\n",
    "# ===> **ACCURACY** = 0.81308411215\n",
    "# ===> **F1 SCORE** = [ 0.66666667  0.          0.87654321]\n",
    "# ===> **RECALL** = [ 0.57142857  0.          0.94666667]\n",
    "# ===> **PRECISION** = [ 0.8         0.          0.81609195]\n",
    "\n",
    "#                           CLASSIFICATION REPORT\n",
    "#                  -----------------------------------------\n",
    "#               precision    recall  f1-score   support\n",
    "\n",
    "#            0       0.80      0.57      0.67        28\n",
    "#            1       0.00      0.00      0.00         4\n",
    "#            2       0.82      0.95      0.88        75\n",
    "\n",
    "#    micro avg       0.81      0.81      0.81       107\n",
    "#    macro avg       0.54      0.51      0.51       107\n",
    "# weighted avg       0.78      0.81      0.79       107\n",
    "\n",
    "# -----------------------------------------------------------------------------"
   ]
  },
  {
   "cell_type": "code",
   "execution_count": 41,
   "metadata": {},
   "outputs": [],
   "source": [
    "# LINEAR SVC - TFIDF ngrams = 1 and 2\n",
    "# -----------------------------------------------------------------------------\n",
    "#                                  CLASSES\n",
    "#                  -----------------------------------------\n",
    "#   Class [0] : Dismissed\n",
    "#   Class [1] : Partially Won\n",
    "#   Class [2] : Won\n",
    "\n",
    "#                             CONFUSION MATRIX\n",
    "#                  -----------------------------------------\n",
    "# [[14  0 14]\n",
    "#  [ 0  0  4]\n",
    "#  [ 2  0 73]]\n",
    "\n",
    "#                                 SCORES\n",
    "#                  -----------------------------------------\n",
    "# ===> **ACCURACY** = 0.81308411215\n",
    "# ===> **F1 SCORE** = [ 0.63636364  0.          0.87951807]\n",
    "# ===> **RECALL** = [ 0.5         0.          0.97333333]\n",
    "# ===> **PRECISION** = [ 0.875      0.         0.8021978]\n",
    "\n",
    "#                           CLASSIFICATION REPORT\n",
    "#                  -----------------------------------------\n",
    "#               precision    recall  f1-score   support\n",
    "\n",
    "#            0       0.88      0.50      0.64        28\n",
    "#            1       0.00      0.00      0.00         4\n",
    "#            2       0.80      0.97      0.88        75\n",
    "\n",
    "#    micro avg       0.81      0.81      0.81       107\n",
    "#    macro avg       0.56      0.49      0.51       107\n",
    "# weighted avg       0.79      0.81      0.78       107\n",
    "\n",
    "# -----------------------------------------------------------------------------"
   ]
  },
  {
   "cell_type": "code",
   "execution_count": 42,
   "metadata": {},
   "outputs": [],
   "source": [
    "from sklearn.tree import DecisionTreeClassifier"
   ]
  },
  {
   "cell_type": "code",
   "execution_count": 43,
   "metadata": {},
   "outputs": [
    {
     "data": {
      "text/plain": [
       "DecisionTreeClassifier(class_weight=None, criterion='entropy', max_depth=None,\n",
       "            max_features=None, max_leaf_nodes=None,\n",
       "            min_impurity_decrease=0.0, min_impurity_split=None,\n",
       "            min_samples_leaf=1, min_samples_split=2,\n",
       "            min_weight_fraction_leaf=0.0, presort=False, random_state=0,\n",
       "            splitter='best')"
      ]
     },
     "execution_count": 43,
     "metadata": {},
     "output_type": "execute_result"
    }
   ],
   "source": [
    "classifier = DecisionTreeClassifier(criterion='entropy',random_state=0)\n",
    "classifier.fit(X_train,Y_train)"
   ]
  },
  {
   "cell_type": "code",
   "execution_count": 44,
   "metadata": {},
   "outputs": [],
   "source": [
    "Y_pred_tree = classifier.predict(X_test)"
   ]
  },
  {
   "cell_type": "code",
   "execution_count": 45,
   "metadata": {},
   "outputs": [
    {
     "name": "stdout",
     "output_type": "stream",
     "text": [
      "DECISITION TREE ACCURACY: 0.7476635514018691\n",
      "DECISTION TREE CONFUSTION MATRIX: col_0   0  1   2\n",
      "row_0           \n",
      "0      19  0   9\n",
      "1       0  2   2\n",
      "2      13  3  59\n",
      "************************************************************************************\n"
     ]
    }
   ],
   "source": [
    "print(\"DECISITION TREE ACCURACY:\",metrics.accuracy_score(Y_test,Y_pred_tree))\n",
    "print('DECISTION TREE CONFUSTION MATRIX:',pd.crosstab(Y_test,Y_pred_tree))\n",
    "print('************************************************************************************')"
   ]
  },
  {
   "cell_type": "code",
   "execution_count": 46,
   "metadata": {},
   "outputs": [
    {
     "name": "stdout",
     "output_type": "stream",
     "text": [
      "-----------------------------------------------------------------------------\n",
      "                                 CLASSES\n",
      "                 -----------------------------------------\n",
      "  Class [0] : Dismissed\n",
      "  Class [1] : Partially Won\n",
      "  Class [2] : Won\n",
      "\n",
      "                            CONFUSION MATRIX\n",
      "                 -----------------------------------------\n",
      "[[19  0  9]\n",
      " [ 0  2  2]\n",
      " [13  3 59]]\n",
      "\n",
      "                                SCORES\n",
      "                 -----------------------------------------\n",
      "===> **ACCURACY** = 0.7476635514018691\n",
      "===> **F1 SCORE** = [0.63333333 0.44444444 0.8137931 ]\n",
      "===> **RECALL** = [0.67857143 0.5        0.78666667]\n",
      "===> **PRECISION** = [0.59375    0.4        0.84285714]\n",
      "\n",
      "                          CLASSIFICATION REPORT\n",
      "                 -----------------------------------------\n",
      "             precision    recall  f1-score   support\n",
      "\n",
      "          0       0.59      0.68      0.63        28\n",
      "          1       0.40      0.50      0.44         4\n",
      "          2       0.84      0.79      0.81        75\n",
      "\n",
      "avg / total       0.76      0.75      0.75       107\n",
      "\n",
      "-----------------------------------------------------------------------------\n"
     ]
    }
   ],
   "source": [
    "print_scores(Y_test, Y_pred_tree, average=None, classes_=le.classes_, print_definitions=False)"
   ]
  },
  {
   "cell_type": "code",
   "execution_count": 47,
   "metadata": {},
   "outputs": [
    {
     "name": "stdout",
     "output_type": "stream",
     "text": [
      "0.7458823529411764\n"
     ]
    }
   ],
   "source": [
    "from sklearn.ensemble import BaggingClassifier\n",
    "bgcl = BaggingClassifier(n_estimators=50, max_samples=.7 , oob_score=True)\n",
    "\n",
    "bgcl = bgcl.fit(X_train, Y_train)\n",
    "print(bgcl.oob_score_)"
   ]
  },
  {
   "cell_type": "code",
   "execution_count": 48,
   "metadata": {},
   "outputs": [
    {
     "name": "stdout",
     "output_type": "stream",
     "text": [
      "0.6915887850467289\n"
     ]
    }
   ],
   "source": [
    "bgcl = bgcl.fit(X_test, Y_test)\n",
    "print(bgcl.oob_score_)"
   ]
  },
  {
   "cell_type": "code",
   "execution_count": 77,
   "metadata": {},
   "outputs": [],
   "source": [
    "from sklearn.ensemble import AdaBoostClassifier\n",
    "abcl = AdaBoostClassifier(base_estimator=classifier, n_estimators=50)\n",
    "#abcl = AdaBoostClassifier(n_estimators=50)\n",
    "abcl = abcl.fit(X_train, Y_train)"
   ]
  },
  {
   "cell_type": "code",
   "execution_count": 78,
   "metadata": {},
   "outputs": [
    {
     "data": {
      "text/plain": [
       "0.7850467289719626"
      ]
     },
     "execution_count": 78,
     "metadata": {},
     "output_type": "execute_result"
    }
   ],
   "source": [
    "y_pred_ada = abcl.predict(X_test)\n",
    "abcl.score(X_test , Y_test)"
   ]
  },
  {
   "cell_type": "code",
   "execution_count": 79,
   "metadata": {},
   "outputs": [],
   "source": [
    "from sklearn.ensemble import GradientBoostingClassifier\n",
    "gbcl = GradientBoostingClassifier(n_estimators = 50, learning_rate = 0.09, max_depth=5)\n",
    "gbcl = gbcl.fit(X_train, Y_train)"
   ]
  },
  {
   "cell_type": "code",
   "execution_count": 80,
   "metadata": {},
   "outputs": [
    {
     "data": {
      "text/plain": [
       "0.794392523364486"
      ]
     },
     "execution_count": 80,
     "metadata": {},
     "output_type": "execute_result"
    }
   ],
   "source": [
    "y_pred_gradboost = gbcl.predict(X_test)\n",
    "gbcl.score(X_test , Y_test)"
   ]
  },
  {
   "cell_type": "code",
   "execution_count": 50,
   "metadata": {},
   "outputs": [],
   "source": [
    "from sklearn.svm import SVC\n",
    "from sklearn.neighbors import KNeighborsClassifier\n",
    "from sklearn import metrics"
   ]
  },
  {
   "cell_type": "markdown",
   "metadata": {},
   "source": [
    "models = [\n",
    "    RandomForestClassifier(n_estimators=200, random_state=0,criterion='entropy'),\n",
    "    SVC(random_state=0,kernel='linear'),\n",
    "    MultinomialNB(),\n",
    "    LogisticRegression(random_state=0),\n",
    "    DecisionTreeClassifier(criterion='entropy',random_state=0,max_depth=100)\n",
    "]\n",
    "CV = 10\n",
    "cv_df = pd.DataFrame(index=range(CV * len(models)))\n",
    "entries = []\n",
    "re = []\n",
    "pre = []\n",
    "for model in models:\n",
    "    model_name = model.__class__.__name__\n",
    "    accuracies = cross_val_score(model, X_train, Y_train, scoring='accuracy', cv=CV,)\n",
    "    recalls = cross_val_score(model, X_train, Y_train, scoring='recall', cv=CV)\n",
    "    precisions = cross_val_score(model, X_train, Y_train, scoring='precision', cv=CV)\n",
    "    for fold_idx, accuracy in enumerate(accuracies):\n",
    "        entries.append((model_name, fold_idx, accuracy))\n",
    "    for rec, recall in enumerate(recalls):\n",
    "        re.append((model_name,rec,recall))\n",
    "    for prec, preci in enumerate(precisions):\n",
    "        pre.append((model_name,prec,preci))\n",
    "cv_df = pd.DataFrame(entries, columns=['model_name', 'fold_idx', 'accuracy'])"
   ]
  },
  {
   "cell_type": "code",
   "execution_count": 55,
   "metadata": {},
   "outputs": [],
   "source": [
    "from sklearn.ensemble import VotingClassifier\n",
    "from sklearn.ensemble import BaggingClassifier"
   ]
  },
  {
   "cell_type": "code",
   "execution_count": 81,
   "metadata": {},
   "outputs": [],
   "source": [
    "lrcl = LogisticRegression(random_state=1,C=1e9)\n",
    "rfcl = RandomForestClassifier(n_estimators=200, random_state=0,criterion='entropy')\n",
    "nbcl = MultinomialNB()\n",
    "svc = SVC(random_state=0,kernel='linear')\n",
    "dtree = DecisionTreeClassifier(criterion='entropy',random_state=0,max_depth=100)\n",
    "bgcl = BaggingClassifier( n_estimators=10)  #the base_estimator can be null. The bagging classifer  will build it's own tree\n",
    "gbcl = GradientBoostingClassifier(n_estimators = 50, learning_rate = 0.09, max_depth=5)\n",
    "#enclf = VotingClassifier(estimators = [('lor', lrcl), ('rf', rfcl), ('nb', nbcl), ('bg', bgcl), ('dt', dt_model)], voting = 'hard')\n",
    "\n",
    "stack = VotingClassifier(estimators = [('logistic', lrcl), ('SVC',svc),('nb', nbcl), ('randomforest', rfcl),('dt', dtree),('bagging', bgcl),('gradientbost', gbcl)], voting = 'hard')"
   ]
  },
  {
   "cell_type": "code",
   "execution_count": 83,
   "metadata": {},
   "outputs": [
    {
     "name": "stderr",
     "output_type": "stream",
     "text": [
      "C:\\Users\\madhan.s\\AppData\\Local\\Continuum\\anaconda3\\lib\\site-packages\\sklearn\\model_selection\\_split.py:605: Warning: The least populated class in y has only 8 members, which is too few. The minimum number of members in any class cannot be less than n_splits=10.\n",
      "  % (min_groups, self.n_splits)), Warning)\n"
     ]
    },
    {
     "name": "stdout",
     "output_type": "stream",
     "text": [
      "Accuracy: 0.72 (+/- 0.10) [Logistic Regression]\n"
     ]
    },
    {
     "name": "stderr",
     "output_type": "stream",
     "text": [
      "C:\\Users\\madhan.s\\AppData\\Local\\Continuum\\anaconda3\\lib\\site-packages\\sklearn\\model_selection\\_split.py:605: Warning: The least populated class in y has only 8 members, which is too few. The minimum number of members in any class cannot be less than n_splits=10.\n",
      "  % (min_groups, self.n_splits)), Warning)\n"
     ]
    },
    {
     "name": "stdout",
     "output_type": "stream",
     "text": [
      "Accuracy: 0.78 (+/- 0.06) [RandomForest]\n",
      "Accuracy: 0.71 (+/- 0.06) [NaiveBayes]\n"
     ]
    },
    {
     "name": "stderr",
     "output_type": "stream",
     "text": [
      "C:\\Users\\madhan.s\\AppData\\Local\\Continuum\\anaconda3\\lib\\site-packages\\sklearn\\model_selection\\_split.py:605: Warning: The least populated class in y has only 8 members, which is too few. The minimum number of members in any class cannot be less than n_splits=10.\n",
      "  % (min_groups, self.n_splits)), Warning)\n",
      "C:\\Users\\madhan.s\\AppData\\Local\\Continuum\\anaconda3\\lib\\site-packages\\sklearn\\model_selection\\_split.py:605: Warning: The least populated class in y has only 8 members, which is too few. The minimum number of members in any class cannot be less than n_splits=10.\n",
      "  % (min_groups, self.n_splits)), Warning)\n",
      "C:\\Users\\madhan.s\\AppData\\Local\\Continuum\\anaconda3\\lib\\site-packages\\sklearn\\preprocessing\\label.py:151: DeprecationWarning: The truth value of an empty array is ambiguous. Returning False, but in future this will result in an error. Use `array.size > 0` to check that an array is not empty.\n",
      "  if diff:\n",
      "C:\\Users\\madhan.s\\AppData\\Local\\Continuum\\anaconda3\\lib\\site-packages\\sklearn\\preprocessing\\label.py:151: DeprecationWarning: The truth value of an empty array is ambiguous. Returning False, but in future this will result in an error. Use `array.size > 0` to check that an array is not empty.\n",
      "  if diff:\n",
      "C:\\Users\\madhan.s\\AppData\\Local\\Continuum\\anaconda3\\lib\\site-packages\\sklearn\\preprocessing\\label.py:151: DeprecationWarning: The truth value of an empty array is ambiguous. Returning False, but in future this will result in an error. Use `array.size > 0` to check that an array is not empty.\n",
      "  if diff:\n",
      "C:\\Users\\madhan.s\\AppData\\Local\\Continuum\\anaconda3\\lib\\site-packages\\sklearn\\preprocessing\\label.py:151: DeprecationWarning: The truth value of an empty array is ambiguous. Returning False, but in future this will result in an error. Use `array.size > 0` to check that an array is not empty.\n",
      "  if diff:\n",
      "C:\\Users\\madhan.s\\AppData\\Local\\Continuum\\anaconda3\\lib\\site-packages\\sklearn\\preprocessing\\label.py:151: DeprecationWarning: The truth value of an empty array is ambiguous. Returning False, but in future this will result in an error. Use `array.size > 0` to check that an array is not empty.\n",
      "  if diff:\n",
      "C:\\Users\\madhan.s\\AppData\\Local\\Continuum\\anaconda3\\lib\\site-packages\\sklearn\\preprocessing\\label.py:151: DeprecationWarning: The truth value of an empty array is ambiguous. Returning False, but in future this will result in an error. Use `array.size > 0` to check that an array is not empty.\n",
      "  if diff:\n",
      "C:\\Users\\madhan.s\\AppData\\Local\\Continuum\\anaconda3\\lib\\site-packages\\sklearn\\preprocessing\\label.py:151: DeprecationWarning: The truth value of an empty array is ambiguous. Returning False, but in future this will result in an error. Use `array.size > 0` to check that an array is not empty.\n",
      "  if diff:\n",
      "C:\\Users\\madhan.s\\AppData\\Local\\Continuum\\anaconda3\\lib\\site-packages\\sklearn\\preprocessing\\label.py:151: DeprecationWarning: The truth value of an empty array is ambiguous. Returning False, but in future this will result in an error. Use `array.size > 0` to check that an array is not empty.\n",
      "  if diff:\n",
      "C:\\Users\\madhan.s\\AppData\\Local\\Continuum\\anaconda3\\lib\\site-packages\\sklearn\\preprocessing\\label.py:151: DeprecationWarning: The truth value of an empty array is ambiguous. Returning False, but in future this will result in an error. Use `array.size > 0` to check that an array is not empty.\n",
      "  if diff:\n",
      "C:\\Users\\madhan.s\\AppData\\Local\\Continuum\\anaconda3\\lib\\site-packages\\sklearn\\preprocessing\\label.py:151: DeprecationWarning: The truth value of an empty array is ambiguous. Returning False, but in future this will result in an error. Use `array.size > 0` to check that an array is not empty.\n",
      "  if diff:\n",
      "C:\\Users\\madhan.s\\AppData\\Local\\Continuum\\anaconda3\\lib\\site-packages\\sklearn\\model_selection\\_split.py:605: Warning: The least populated class in y has only 8 members, which is too few. The minimum number of members in any class cannot be less than n_splits=10.\n",
      "  % (min_groups, self.n_splits)), Warning)\n"
     ]
    },
    {
     "name": "stdout",
     "output_type": "stream",
     "text": [
      "Accuracy: 0.78 (+/- 0.05) [Stacking]\n",
      "Accuracy: 0.72 (+/- 0.08) [Bagging]\n"
     ]
    },
    {
     "name": "stderr",
     "output_type": "stream",
     "text": [
      "C:\\Users\\madhan.s\\AppData\\Local\\Continuum\\anaconda3\\lib\\site-packages\\sklearn\\model_selection\\_split.py:605: Warning: The least populated class in y has only 8 members, which is too few. The minimum number of members in any class cannot be less than n_splits=10.\n",
      "  % (min_groups, self.n_splits)), Warning)\n"
     ]
    },
    {
     "name": "stdout",
     "output_type": "stream",
     "text": [
      "Accuracy: 0.69 (+/- 0.06) [Decision Tree]\n"
     ]
    },
    {
     "name": "stderr",
     "output_type": "stream",
     "text": [
      "C:\\Users\\madhan.s\\AppData\\Local\\Continuum\\anaconda3\\lib\\site-packages\\sklearn\\model_selection\\_split.py:605: Warning: The least populated class in y has only 8 members, which is too few. The minimum number of members in any class cannot be less than n_splits=10.\n",
      "  % (min_groups, self.n_splits)), Warning)\n"
     ]
    },
    {
     "name": "stdout",
     "output_type": "stream",
     "text": [
      "Accuracy: 0.78 (+/- 0.05) [GradientBoost]\n"
     ]
    }
   ],
   "source": [
    "for clf, label in zip([lrcl , rfcl, nbcl, stack, bgcl, dtree,svc,gbcl], ['Logistic Regression', 'RandomForest', 'NaiveBayes', 'Stacking', 'Bagging', 'Decision Tree','GradientBoost']):\n",
    "    scores = cross_val_score(clf, X_train, Y_train, cv=10, scoring='accuracy')\n",
    "    print(\"Accuracy: %0.02f (+/- %0.2f) [%s]\" % (scores.mean(), scores.std(), label ))"
   ]
  },
  {
   "cell_type": "code",
   "execution_count": null,
   "metadata": {},
   "outputs": [],
   "source": []
  },
  {
   "cell_type": "code",
   "execution_count": 85,
   "metadata": {},
   "outputs": [
    {
     "data": {
      "text/plain": [
       "VotingClassifier(estimators=[('logistic', LogisticRegression(C=1000000000.0, class_weight=None, dual=False,\n",
       "          fit_intercept=True, intercept_scaling=1, max_iter=100,\n",
       "          multi_class='ovr', n_jobs=1, penalty='l2', random_state=1,\n",
       "          solver='liblinear', tol=0.0001, verbose=0, warm_start=False)), ('...      presort='auto', random_state=None, subsample=1.0, verbose=0,\n",
       "              warm_start=False))],\n",
       "         flatten_transform=None, n_jobs=1, voting='hard', weights=None)"
      ]
     },
     "execution_count": 85,
     "metadata": {},
     "output_type": "execute_result"
    }
   ],
   "source": [
    "stack.fit(X_train,Y_train)"
   ]
  },
  {
   "cell_type": "code",
   "execution_count": 86,
   "metadata": {},
   "outputs": [
    {
     "name": "stderr",
     "output_type": "stream",
     "text": [
      "C:\\Users\\madhan.s\\AppData\\Local\\Continuum\\anaconda3\\lib\\site-packages\\sklearn\\preprocessing\\label.py:151: DeprecationWarning: The truth value of an empty array is ambiguous. Returning False, but in future this will result in an error. Use `array.size > 0` to check that an array is not empty.\n",
      "  if diff:\n"
     ]
    },
    {
     "data": {
      "text/plain": [
       "1.0"
      ]
     },
     "execution_count": 86,
     "metadata": {},
     "output_type": "execute_result"
    }
   ],
   "source": [
    "stack.score(X_train,Y_train)"
   ]
  },
  {
   "cell_type": "code",
   "execution_count": 87,
   "metadata": {},
   "outputs": [
    {
     "name": "stderr",
     "output_type": "stream",
     "text": [
      "C:\\Users\\madhan.s\\AppData\\Local\\Continuum\\anaconda3\\lib\\site-packages\\sklearn\\preprocessing\\label.py:151: DeprecationWarning: The truth value of an empty array is ambiguous. Returning False, but in future this will result in an error. Use `array.size > 0` to check that an array is not empty.\n",
      "  if diff:\n"
     ]
    },
    {
     "data": {
      "text/plain": [
       "0.794392523364486"
      ]
     },
     "execution_count": 87,
     "metadata": {},
     "output_type": "execute_result"
    }
   ],
   "source": [
    "stack.score(X_test,Y_test)"
   ]
  },
  {
   "cell_type": "code",
   "execution_count": 88,
   "metadata": {},
   "outputs": [
    {
     "name": "stderr",
     "output_type": "stream",
     "text": [
      "C:\\Users\\madhan.s\\AppData\\Local\\Continuum\\anaconda3\\lib\\site-packages\\sklearn\\preprocessing\\label.py:151: DeprecationWarning: The truth value of an empty array is ambiguous. Returning False, but in future this will result in an error. Use `array.size > 0` to check that an array is not empty.\n",
      "  if diff:\n"
     ]
    }
   ],
   "source": [
    "y_pred_stac = stack.predict(X_test)"
   ]
  },
  {
   "cell_type": "code",
   "execution_count": 89,
   "metadata": {},
   "outputs": [
    {
     "name": "stdout",
     "output_type": "stream",
     "text": [
      "Staccking ACCURACY: 0.794392523364486\n",
      "Staccking CLASSIFIER CONFUSTION MATRIX: col_0   0   2\n",
      "row_0        \n",
      "0      15  13\n",
      "1       0   4\n",
      "2       5  70\n",
      "===> **Staccking F1 SCORE [0.625      0.         0.86419753]\n",
      "===> **Staccking Recall SCORE [0.53571429 0.         0.93333333]\n",
      "===> **Staccking Precision SCORE [0.75      0.        0.8045977]\n"
     ]
    },
    {
     "name": "stderr",
     "output_type": "stream",
     "text": [
      "C:\\Users\\madhan.s\\AppData\\Local\\Continuum\\anaconda3\\lib\\site-packages\\sklearn\\metrics\\classification.py:1135: UndefinedMetricWarning: F-score is ill-defined and being set to 0.0 in labels with no predicted samples.\n",
      "  'precision', 'predicted', average, warn_for)\n",
      "C:\\Users\\madhan.s\\AppData\\Local\\Continuum\\anaconda3\\lib\\site-packages\\sklearn\\metrics\\classification.py:1135: UndefinedMetricWarning: Precision is ill-defined and being set to 0.0 in labels with no predicted samples.\n",
      "  'precision', 'predicted', average, warn_for)\n"
     ]
    }
   ],
   "source": [
    "print(\"Staccking ACCURACY:\",metrics.accuracy_score(Y_test,y_pred_stac))\n",
    "print('Staccking CLASSIFIER CONFUSTION MATRIX:',pd.crosstab(Y_test,y_pred_stac))\n",
    "print(\"===> **Staccking F1 SCORE\",metrics.f1_score(Y_test, y_pred_stac,average=None))\n",
    "print(\"===> **Staccking Recall SCORE\",metrics.recall_score(Y_test, y_pred_stac,average=None))\n",
    "print(\"===> **Staccking Precision SCORE\",metrics.precision_score(Y_test, y_pred_stac,average=None))"
   ]
  },
  {
   "cell_type": "code",
   "execution_count": null,
   "metadata": {},
   "outputs": [],
   "source": []
  }
 ],
 "metadata": {
  "kernelspec": {
   "display_name": "Python 3",
   "language": "python",
   "name": "python3"
  },
  "language_info": {
   "codemirror_mode": {
    "name": "ipython",
    "version": 3
   },
   "file_extension": ".py",
   "mimetype": "text/x-python",
   "name": "python",
   "nbconvert_exporter": "python",
   "pygments_lexer": "ipython3",
   "version": "3.6.5"
  }
 },
 "nbformat": 4,
 "nbformat_minor": 2
}
