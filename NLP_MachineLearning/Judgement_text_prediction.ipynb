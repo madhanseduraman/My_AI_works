{
 "cells": [
  {
   "cell_type": "code",
   "execution_count": 1,
   "metadata": {},
   "outputs": [],
   "source": [
    "import pandas as pd\n",
    "import pandas as pd\n",
    "import numpy as np\n",
    "from bs4 import BeautifulSoup\n",
    "import re\n",
    "import nltk\n",
    "from nltk.corpus import stopwords\n",
    "from sklearn.feature_extraction.text import CountVectorizer\n",
    "from sklearn.feature_extraction.text import TfidfVectorizer\n",
    "from sklearn.cluster import KMeans\n",
    "from sklearn.decomposition import PCA\n",
    "from sklearn.decomposition import TruncatedSVD\n",
    "from sklearn.ensemble import RandomForestClassifier\n",
    "from sklearn.linear_model.logistic import LogisticRegression\n",
    "from sklearn.linear_model import LinearRegression\n",
    "from sklearn.neighbors import KNeighborsClassifier\n",
    "from sklearn import metrics\n",
    "from sklearn import preprocessing\n",
    "\n",
    "from sklearn.naive_bayes import MultinomialNB\n",
    "from nltk.stem import WordNetLemmatizer\n",
    "from sklearn.preprocessing import Normalizer\n",
    "from sklearn.preprocessing import StandardScaler\n",
    "from nltk import bigrams\n",
    "from nltk import trigrams  \n",
    "import pandas as pd\n",
    "\n",
    "import numpy as np\n",
    "\n",
    "from sklearn.feature_extraction.text import TfidfVectorizer\n",
    "from sklearn.linear_model import LogisticRegression\n",
    "from sklearn import preprocessing\n",
    "from sklearn.model_selection import train_test_split\n",
    "\n",
    "from sklearn.naive_bayes import MultinomialNB\n",
    "from sklearn.ensemble import RandomForestClassifier\n",
    "from sklearn.svm import LinearSVC\n",
    "from sklearn.model_selection import cross_val_score\n",
    "\n",
    "\n",
    "import sklearn.metrics as metrics"
   ]
  },
  {
   "cell_type": "code",
   "execution_count": 2,
   "metadata": {},
   "outputs": [],
   "source": [
    "df = pd.read_csv(r'C:\\Madhan\\Analytics\\Machine_Learning_project_work\\Great_Lakes_AIML\\Capstone\\madan\\Verdict_From_JT_30-lines_2019-03-21_22-22-21.csv')"
   ]
  },
  {
   "cell_type": "code",
   "execution_count": 3,
   "metadata": {},
   "outputs": [
    {
     "data": {
      "text/html": [
       "<div>\n",
       "<style scoped>\n",
       "    .dataframe tbody tr th:only-of-type {\n",
       "        vertical-align: middle;\n",
       "    }\n",
       "\n",
       "    .dataframe tbody tr th {\n",
       "        vertical-align: top;\n",
       "    }\n",
       "\n",
       "    .dataframe thead th {\n",
       "        text-align: right;\n",
       "    }\n",
       "</style>\n",
       "<table border=\"1\" class=\"dataframe\">\n",
       "  <thead>\n",
       "    <tr style=\"text-align: right;\">\n",
       "      <th></th>\n",
       "      <th>index</th>\n",
       "      <th>HTML_File_Name</th>\n",
       "      <th>Judgement_Order_Text</th>\n",
       "      <th>Verdict</th>\n",
       "    </tr>\n",
       "  </thead>\n",
       "  <tbody>\n",
       "    <tr>\n",
       "      <th>0</th>\n",
       "      <td>0</td>\n",
       "      <td>Delhi-CC_361_2018-2018-04-17.html</td>\n",
       "      <td>The present complaint at the stage of admissio...</td>\n",
       "      <td>Dismissed</td>\n",
       "    </tr>\n",
       "    <tr>\n",
       "      <th>1</th>\n",
       "      <td>1</td>\n",
       "      <td>West_Bengal-CC_289_2016-2017-11-14.html</td>\n",
       "      <td>from the appropriate authority and unfortunate...</td>\n",
       "      <td>Won</td>\n",
       "    </tr>\n",
       "    <tr>\n",
       "      <th>2</th>\n",
       "      <td>2</td>\n",
       "      <td>West_Bengal-CC_322_2013-2016-12-02.html</td>\n",
       "      <td>The notice issued upon Opposite Party no.1/dev...</td>\n",
       "      <td>Won</td>\n",
       "    </tr>\n",
       "    <tr>\n",
       "      <th>3</th>\n",
       "      <td>3</td>\n",
       "      <td>Delhi-CC_352_2017-2017-04-17.html</td>\n",
       "      <td>[(2) A complainant shall be instituted in a St...</td>\n",
       "      <td>Dismissed</td>\n",
       "    </tr>\n",
       "    <tr>\n",
       "      <th>4</th>\n",
       "      <td>4</td>\n",
       "      <td>West_Bengal-CC_459_2015-2016-08-11.html</td>\n",
       "      <td>Ld. Advocate for the Complainants is present. ...</td>\n",
       "      <td>Withdrawn</td>\n",
       "    </tr>\n",
       "  </tbody>\n",
       "</table>\n",
       "</div>"
      ],
      "text/plain": [
       "   index                           HTML_File_Name  \\\n",
       "0      0        Delhi-CC_361_2018-2018-04-17.html   \n",
       "1      1  West_Bengal-CC_289_2016-2017-11-14.html   \n",
       "2      2  West_Bengal-CC_322_2013-2016-12-02.html   \n",
       "3      3        Delhi-CC_352_2017-2017-04-17.html   \n",
       "4      4  West_Bengal-CC_459_2015-2016-08-11.html   \n",
       "\n",
       "                                Judgement_Order_Text    Verdict  \n",
       "0  The present complaint at the stage of admissio...  Dismissed  \n",
       "1  from the appropriate authority and unfortunate...        Won  \n",
       "2  The notice issued upon Opposite Party no.1/dev...        Won  \n",
       "3  [(2) A complainant shall be instituted in a St...  Dismissed  \n",
       "4  Ld. Advocate for the Complainants is present. ...  Withdrawn  "
      ]
     },
     "execution_count": 3,
     "metadata": {},
     "output_type": "execute_result"
    }
   ],
   "source": [
    "df.head()"
   ]
  },
  {
   "cell_type": "code",
   "execution_count": 4,
   "metadata": {},
   "outputs": [
    {
     "data": {
      "text/plain": [
       "Won              361\n",
       "Dismissed        182\n",
       "Withdrawn         18\n",
       "Partially Won      8\n",
       "Partially won      4\n",
       "Name: Verdict, dtype: int64"
      ]
     },
     "execution_count": 4,
     "metadata": {},
     "output_type": "execute_result"
    }
   ],
   "source": [
    "df.Verdict.value_counts()"
   ]
  },
  {
   "cell_type": "code",
   "execution_count": 5,
   "metadata": {},
   "outputs": [],
   "source": [
    "#w.loc[w.female != 'female', 'female'] = 0\n",
    "#w.loc[w.female != 'female', 'female'] = 0\n",
    "\n",
    "#w['female'] = w['female'].replace(regex='female', value=1)\n",
    "df['Verdict'] = df['Verdict'].replace(regex='Partially won',value= 'Partially Won')"
   ]
  },
  {
   "cell_type": "code",
   "execution_count": 6,
   "metadata": {},
   "outputs": [
    {
     "data": {
      "text/plain": [
       "Won              361\n",
       "Dismissed        182\n",
       "Withdrawn         18\n",
       "Partially Won     12\n",
       "Name: Verdict, dtype: int64"
      ]
     },
     "execution_count": 6,
     "metadata": {},
     "output_type": "execute_result"
    }
   ],
   "source": [
    "df.Verdict.value_counts()"
   ]
  },
  {
   "cell_type": "code",
   "execution_count": 7,
   "metadata": {},
   "outputs": [],
   "source": [
    "df['state'] = df.HTML_File_Name.str[0:5]"
   ]
  },
  {
   "cell_type": "code",
   "execution_count": 8,
   "metadata": {},
   "outputs": [
    {
     "data": {
      "text/plain": [
       "West_    247\n",
       "Delhi    229\n",
       "NCDRC     75\n",
       "Chand     22\n",
       "Name: state, dtype: int64"
      ]
     },
     "execution_count": 8,
     "metadata": {},
     "output_type": "execute_result"
    }
   ],
   "source": [
    "df.state.value_counts()"
   ]
  },
  {
   "cell_type": "markdown",
   "metadata": {},
   "source": [
    "## Encoding State column"
   ]
  },
  {
   "cell_type": "code",
   "execution_count": 9,
   "metadata": {},
   "outputs": [
    {
     "name": "stdout",
     "output_type": "stream",
     "text": [
      "BEFORE ENCODING : 0    Delhi\n",
      "1    West_\n",
      "2    West_\n",
      "3    Delhi\n",
      "4    West_\n",
      "5    Chand\n",
      "6    Delhi\n",
      "7    West_\n",
      "8    Delhi\n",
      "9    West_\n",
      "Name: state_enc, dtype: object\n",
      "\n",
      "ENCODED CLASSES : ['Chand' 'Delhi' 'NCDRC' 'West_']\n",
      "\n",
      "3    247\n",
      "1    229\n",
      "2     75\n",
      "0     22\n",
      "Name: state_enc, dtype: int64\n",
      "West_    247\n",
      "Delhi    229\n",
      "NCDRC     75\n",
      "Chand     22\n",
      "Name: state, dtype: int64\n"
     ]
    }
   ],
   "source": [
    "df['state_enc'] = df[\"state\"].values\n",
    "print(\"BEFORE ENCODING : {}\".format(df.state_enc[0:10]))\n",
    "\n",
    "print(\"\")\n",
    "\n",
    "le = preprocessing.LabelEncoder()\n",
    "le.fit(df.state)\n",
    "\n",
    "print(\"ENCODED CLASSES : {}\".format(le.classes_))\n",
    "print(\"\")\n",
    "\n",
    "df['state_enc'] = le.transform(df.state_enc)\n",
    "\n",
    "print(df.state_enc.value_counts())\n",
    "print(df.state.value_counts())"
   ]
  },
  {
   "cell_type": "markdown",
   "metadata": {},
   "source": [
    "#### 0: Chandigarh, 1: Delhi, 2: NCRDC, 3: WestBengal"
   ]
  },
  {
   "cell_type": "code",
   "execution_count": 10,
   "metadata": {},
   "outputs": [
    {
     "name": "stdout",
     "output_type": "stream",
     "text": [
      "BEFORE ENCODING : 0    Dismissed\n",
      "1          Won\n",
      "2          Won\n",
      "3    Dismissed\n",
      "4    Withdrawn\n",
      "5          Won\n",
      "6    Dismissed\n",
      "7          Won\n",
      "8    Dismissed\n",
      "9          Won\n",
      "Name: Labelenc, dtype: object\n",
      "\n",
      "ENCODED CLASSES : ['Dismissed' 'Partially Won' 'Withdrawn' 'Won']\n",
      "\n",
      "3    361\n",
      "0    182\n",
      "2     18\n",
      "1     12\n",
      "Name: Labelenc, dtype: int64\n",
      "Won              361\n",
      "Dismissed        182\n",
      "Withdrawn         18\n",
      "Partially Won     12\n",
      "Name: Verdict, dtype: int64\n"
     ]
    }
   ],
   "source": [
    "df['Labelenc'] = df[\"Verdict\"].values\n",
    "print(\"BEFORE ENCODING : {}\".format(df.Labelenc[0:10]))\n",
    "\n",
    "print(\"\")\n",
    "\n",
    "le = preprocessing.LabelEncoder()\n",
    "le.fit(df.Verdict)\n",
    "\n",
    "print(\"ENCODED CLASSES : {}\".format(le.classes_))\n",
    "print(\"\")\n",
    "\n",
    "df['Labelenc'] = le.transform(df.Labelenc)\n",
    "\n",
    "print(df.Labelenc.value_counts())\n",
    "print(df.Verdict.value_counts())"
   ]
  },
  {
   "cell_type": "markdown",
   "metadata": {},
   "source": [
    "### \n",
    "    3 is Won \n",
    "    0 is Dismissed \n",
    "    2 is withdrawn \n",
    "    1 is Parrially Won"
   ]
  },
  {
   "cell_type": "code",
   "execution_count": 11,
   "metadata": {},
   "outputs": [],
   "source": [
    "X = df.Judgement_Order_Text"
   ]
  },
  {
   "cell_type": "code",
   "execution_count": 12,
   "metadata": {},
   "outputs": [],
   "source": [
    "y = df.Labelenc"
   ]
  },
  {
   "cell_type": "code",
   "execution_count": 13,
   "metadata": {},
   "outputs": [],
   "source": [
    "X_train_txt, X_test_txt, y_train, y_test, state_train,state_test = train_test_split(X, y, df.state_enc,test_size=0.2, random_state=1)"
   ]
  },
  {
   "cell_type": "code",
   "execution_count": 14,
   "metadata": {},
   "outputs": [
    {
     "data": {
      "text/plain": [
       "(458,)"
      ]
     },
     "execution_count": 14,
     "metadata": {},
     "output_type": "execute_result"
    }
   ],
   "source": [
    "state_train.shape"
   ]
  },
  {
   "cell_type": "code",
   "execution_count": 15,
   "metadata": {},
   "outputs": [
    {
     "data": {
      "text/plain": [
       "(458,)"
      ]
     },
     "execution_count": 15,
     "metadata": {},
     "output_type": "execute_result"
    }
   ],
   "source": [
    "X_train_txt.shape"
   ]
  },
  {
   "cell_type": "code",
   "execution_count": 16,
   "metadata": {},
   "outputs": [
    {
     "data": {
      "text/plain": [
       "(115,)"
      ]
     },
     "execution_count": 16,
     "metadata": {},
     "output_type": "execute_result"
    }
   ],
   "source": [
    "X_test_txt.shape"
   ]
  },
  {
   "cell_type": "code",
   "execution_count": 17,
   "metadata": {},
   "outputs": [
    {
     "data": {
      "text/plain": [
       "(458,)"
      ]
     },
     "execution_count": 17,
     "metadata": {},
     "output_type": "execute_result"
    }
   ],
   "source": [
    "y_train.shape"
   ]
  },
  {
   "cell_type": "code",
   "execution_count": 18,
   "metadata": {},
   "outputs": [
    {
     "data": {
      "text/plain": [
       "(115,)"
      ]
     },
     "execution_count": 18,
     "metadata": {},
     "output_type": "execute_result"
    }
   ],
   "source": [
    "y_test.shape"
   ]
  },
  {
   "cell_type": "code",
   "execution_count": 19,
   "metadata": {},
   "outputs": [],
   "source": [
    "import scipy as sp"
   ]
  },
  {
   "cell_type": "code",
   "execution_count": 20,
   "metadata": {},
   "outputs": [],
   "source": [
    "state_train = np.array(state_train)"
   ]
  },
  {
   "cell_type": "code",
   "execution_count": 21,
   "metadata": {},
   "outputs": [
    {
     "data": {
      "text/plain": [
       "array([2, 2, 1, 3, 2, 1, 1, 1, 3, 1, 2, 3, 3, 1, 3, 3, 1, 3, 1, 3, 3, 1,\n",
       "       1, 3, 3, 1, 1, 3, 3, 1, 3, 2, 0, 3, 1, 3, 1, 2, 0, 1, 3, 3, 1, 1,\n",
       "       1, 1, 2, 1, 1, 3, 0, 3, 3, 1, 3, 3, 1, 3, 2, 3, 3, 1, 2, 2, 1, 1,\n",
       "       3, 1, 1, 3, 1, 2, 1, 1, 3, 1, 3, 2, 3, 1, 1, 3, 1, 1, 1, 2, 1, 2,\n",
       "       3, 0, 3, 3, 1, 1, 3, 3, 3, 0, 1, 1, 2, 2, 1, 3, 3, 1, 3, 1, 1, 3,\n",
       "       1, 1, 3, 3, 0, 3, 3, 0, 3, 1, 3, 3, 2, 3, 3, 1, 1, 3, 1, 3, 3, 1,\n",
       "       1, 3, 1, 3, 3, 1, 1, 2, 3, 0, 3, 2, 1, 2, 3, 3, 3, 3, 1, 1, 1, 3,\n",
       "       3, 3, 1, 1, 1, 1, 1, 2, 1, 1, 2, 3, 3, 3, 3, 1, 1, 1, 1, 3, 1, 3,\n",
       "       1, 3, 1, 3, 3, 2, 1, 3, 1, 2, 1, 3, 1, 1, 3, 1, 2, 3, 3, 3, 1, 0,\n",
       "       1, 1, 1, 3, 1, 1, 1, 3, 2, 3, 3, 1, 2, 2, 3, 3, 3, 3, 3, 2, 3, 3,\n",
       "       3, 2, 3, 3, 2, 1, 3, 1, 3, 3, 2, 1, 3, 3, 3, 1, 3, 3, 3, 1, 3, 3,\n",
       "       3, 1, 3, 3, 3, 3, 1, 3, 1, 3, 1, 2, 1, 2, 1, 2, 2, 1, 3, 2, 1, 1,\n",
       "       1, 1, 3, 3, 2, 1, 1, 1, 3, 1, 2, 2, 1, 1, 1, 3, 1, 3, 3, 2, 3, 1,\n",
       "       1, 1, 1, 1, 2, 1, 1, 1, 3, 1, 1, 1, 3, 1, 1, 1, 1, 1, 2, 3, 3, 1,\n",
       "       3, 1, 3, 3, 3, 0, 3, 3, 1, 1, 3, 2, 3, 1, 1, 1, 2, 3, 3, 3, 1, 1,\n",
       "       1, 3, 1, 3, 1, 2, 1, 3, 3, 3, 1, 1, 1, 3, 3, 1, 3, 1, 3, 3, 3, 1,\n",
       "       2, 1, 1, 2, 1, 3, 1, 0, 2, 1, 1, 1, 3, 2, 1, 3, 1, 3, 3, 3, 3, 2,\n",
       "       0, 3, 1, 1, 3, 3, 3, 1, 1, 3, 1, 1, 1, 3, 1, 3, 3, 3, 3, 1, 3, 0,\n",
       "       3, 1, 3, 3, 3, 3, 3, 1, 3, 3, 3, 1, 1, 1, 3, 3, 1, 2, 3, 1, 1, 3,\n",
       "       3, 1, 2, 1, 1, 3, 1, 1, 3, 3, 1, 3, 3, 3, 3, 2, 1, 3, 3, 3, 3, 0,\n",
       "       2, 0, 3, 3, 2, 3, 3, 1, 1, 0, 3, 3, 1, 1, 1, 2, 3, 0], dtype=int64)"
      ]
     },
     "execution_count": 21,
     "metadata": {},
     "output_type": "execute_result"
    }
   ],
   "source": [
    "state_train"
   ]
  },
  {
   "cell_type": "code",
   "execution_count": 22,
   "metadata": {},
   "outputs": [
    {
     "data": {
      "text/plain": [
       "(458, 6000)"
      ]
     },
     "execution_count": 22,
     "metadata": {},
     "output_type": "execute_result"
    }
   ],
   "source": [
    "tfidf_vec = TfidfVectorizer(stop_words='english', ngram_range=(1,3),lowercase=True,min_df=10)\n",
    "X_dtm_train = tfidf_vec.fit_transform((X_train_txt))\n",
    "X_dtm_train.shape"
   ]
  },
  {
   "cell_type": "code",
   "execution_count": 23,
   "metadata": {},
   "outputs": [],
   "source": [
    "dense = X_dtm_train.todense()"
   ]
  },
  {
   "cell_type": "code",
   "execution_count": 24,
   "metadata": {},
   "outputs": [
    {
     "data": {
      "text/plain": [
       "(458, 6000)"
      ]
     },
     "execution_count": 24,
     "metadata": {},
     "output_type": "execute_result"
    }
   ],
   "source": [
    "dense.shape"
   ]
  },
  {
   "cell_type": "code",
   "execution_count": 25,
   "metadata": {},
   "outputs": [],
   "source": [
    "state_train = state_train.reshape(-1,1)"
   ]
  },
  {
   "cell_type": "code",
   "execution_count": 26,
   "metadata": {},
   "outputs": [],
   "source": [
    "final_train_dtm = np.append(dense,state_train,1)"
   ]
  },
  {
   "cell_type": "code",
   "execution_count": 27,
   "metadata": {},
   "outputs": [
    {
     "data": {
      "text/plain": [
       "(458, 6001)"
      ]
     },
     "execution_count": 27,
     "metadata": {},
     "output_type": "execute_result"
    }
   ],
   "source": [
    "final_train_dtm.shape"
   ]
  },
  {
   "cell_type": "code",
   "execution_count": 85,
   "metadata": {},
   "outputs": [],
   "source": [
    "#tfidf_vec.vocabulary_"
   ]
  },
  {
   "cell_type": "code",
   "execution_count": 28,
   "metadata": {},
   "outputs": [
    {
     "data": {
      "text/plain": [
       "(115, 6000)"
      ]
     },
     "execution_count": 28,
     "metadata": {},
     "output_type": "execute_result"
    }
   ],
   "source": [
    "X_dtm_test = tfidf_vec.transform(X_test_txt)\n",
    "X_dtm_test.shape"
   ]
  },
  {
   "cell_type": "code",
   "execution_count": 29,
   "metadata": {},
   "outputs": [],
   "source": [
    "dense_test = X_dtm_test.todense()"
   ]
  },
  {
   "cell_type": "code",
   "execution_count": 30,
   "metadata": {},
   "outputs": [
    {
     "data": {
      "text/plain": [
       "(115, 6000)"
      ]
     },
     "execution_count": 30,
     "metadata": {},
     "output_type": "execute_result"
    }
   ],
   "source": [
    "dense_test.shape"
   ]
  },
  {
   "cell_type": "code",
   "execution_count": 31,
   "metadata": {},
   "outputs": [],
   "source": [
    "state_test = np.array(state_test)"
   ]
  },
  {
   "cell_type": "code",
   "execution_count": 32,
   "metadata": {},
   "outputs": [],
   "source": [
    "state_test = state_test.reshape(-1,1)"
   ]
  },
  {
   "cell_type": "code",
   "execution_count": 33,
   "metadata": {},
   "outputs": [],
   "source": [
    "final_test_dtm = np.append(dense_test,state_test,1)"
   ]
  },
  {
   "cell_type": "code",
   "execution_count": 34,
   "metadata": {},
   "outputs": [],
   "source": [
    "from sklearn.svm import SVC\n",
    "from sklearn.neighbors import KNeighborsClassifier\n",
    "from sklearn import metrics"
   ]
  },
  {
   "cell_type": "code",
   "execution_count": 35,
   "metadata": {},
   "outputs": [
    {
     "data": {
      "text/plain": [
       "SVC(C=1.0, cache_size=200, class_weight=None, coef0=0.0,\n",
       "  decision_function_shape='ovr', degree=3, gamma='auto', kernel='linear',\n",
       "  max_iter=-1, probability=False, random_state=0, shrinking=True,\n",
       "  tol=0.001, verbose=False)"
      ]
     },
     "execution_count": 35,
     "metadata": {},
     "output_type": "execute_result"
    }
   ],
   "source": [
    "svcclassifier = SVC(random_state=0,kernel='linear')\n",
    "#svcclassifier.fit(final_train_dtm,y_train)\n",
    "svcclassifier.fit(X_dtm_train,y_train)"
   ]
  },
  {
   "cell_type": "code",
   "execution_count": 36,
   "metadata": {},
   "outputs": [
    {
     "data": {
      "text/plain": [
       "0.9737991266375546"
      ]
     },
     "execution_count": 36,
     "metadata": {},
     "output_type": "execute_result"
    }
   ],
   "source": [
    "#svcclassifier.score(final_train_dtm,y_train)\n",
    "svcclassifier.score(X_dtm_train,y_train)"
   ]
  },
  {
   "cell_type": "code",
   "execution_count": 37,
   "metadata": {},
   "outputs": [],
   "source": [
    "y_pred_svm = svcclassifier.predict(X_dtm_test)"
   ]
  },
  {
   "cell_type": "code",
   "execution_count": 38,
   "metadata": {},
   "outputs": [],
   "source": [
    "## Logistic Regression"
   ]
  },
  {
   "cell_type": "code",
   "execution_count": 39,
   "metadata": {},
   "outputs": [],
   "source": [
    "logreg = LogisticRegression(C=1e9)\n",
    "logreg.fit(X_dtm_train,y_train)\n",
    "y_pred_class_logreg = logreg.predict(X_dtm_test)"
   ]
  },
  {
   "cell_type": "code",
   "execution_count": 40,
   "metadata": {},
   "outputs": [],
   "source": [
    "## Naive Bayes"
   ]
  },
  {
   "cell_type": "code",
   "execution_count": 41,
   "metadata": {},
   "outputs": [],
   "source": [
    "nb = MultinomialNB()\n",
    "nb.fit(X_dtm_train,y_train)\n",
    "y_pred_class_nb = nb.predict(X_dtm_test)"
   ]
  },
  {
   "cell_type": "code",
   "execution_count": 42,
   "metadata": {},
   "outputs": [],
   "source": [
    "from sklearn.neighbors import KNeighborsClassifier\n",
    "knn = KNeighborsClassifier(n_neighbors=10)\n",
    "knn.fit(X_dtm_train,y_train)\n",
    "y_pred_class_knn = knn.predict(X_dtm_test)"
   ]
  },
  {
   "cell_type": "code",
   "execution_count": 43,
   "metadata": {},
   "outputs": [],
   "source": [
    "from sklearn.tree import DecisionTreeClassifier\n",
    "classifier = DecisionTreeClassifier(criterion='entropy',random_state=0,max_depth=100,class_weight={0:.5,1:.5}, min_samples_leaf=15)\n",
    "classifier.fit(X_dtm_train,y_train)\n",
    "y_pred_tree = classifier.predict(X_dtm_test)"
   ]
  },
  {
   "cell_type": "code",
   "execution_count": 44,
   "metadata": {},
   "outputs": [],
   "source": [
    "from sklearn.ensemble import RandomForestClassifier\n",
    "rand_classifer = RandomForestClassifier(n_estimators=10,criterion='entropy',random_state=0)\n",
    "rand_classifer.fit(X_dtm_train,y_train)\n",
    "y_pred_randforest = rand_classifer.predict(X_dtm_test)"
   ]
  },
  {
   "cell_type": "code",
   "execution_count": 45,
   "metadata": {},
   "outputs": [
    {
     "name": "stdout",
     "output_type": "stream",
     "text": [
      "SVM ACCURACY: 0.9391304347826087\n",
      "SVM CLASSIFIER CONFUSTION MATRIX: col_0      0  2   3\n",
      "Labelenc           \n",
      "0         32  0   3\n",
      "1          0  0   3\n",
      "2          0  5   0\n",
      "3          1  0  71\n",
      "===> **SVM F1 SCORE [0.94117647 0.         1.         0.95302013]\n",
      "===> **SVM Recall SCORE [0.91428571 0.         1.         0.98611111]\n",
      "===> **SVM Precision SCORE [0.96969697 0.         1.         0.92207792]\n",
      "##################################################################################################\n",
      "LogisticReg ACCURACY: 0.9478260869565217\n",
      "LogisticReg CLASSIFIER CONFUSTION MATRIX: [[32  0  0  3]\n",
      " [ 0  1  0  2]\n",
      " [ 0  0  5  0]\n",
      " [ 1  0  0 71]]\n",
      "===> **LogisticReg F1 SCORE [0.94117647 0.5        1.         0.95945946]\n",
      "===> **LogisticReg Recall SCORE [0.91428571 0.33333333 1.         0.98611111]\n",
      "===> **LogisticReg Precision SCORE [0.96969697 1.         1.         0.93421053]\n",
      "##################################################################################################\n",
      "NaiveBayes ACCURACY: 0.8521739130434782\n",
      "NaiveBayes CLASSIFIER CONFUSTION MATRIX: col_0      0   3\n",
      "Labelenc        \n",
      "0         26   9\n",
      "1          0   3\n",
      "2          5   0\n",
      "3          0  72\n",
      "===> **NaiveBayes F1 SCORE [0.78787879 0.         0.         0.92307692]\n",
      "===> **NaiveBayes Recall SCORE [0.74285714 0.         0.         1.        ]\n",
      "===> **NaiveBayes Precision SCORE [0.83870968 0.         0.         0.85714286]\n",
      "##################################################################################################\n",
      "KNN ACCURACY: 0.9130434782608695\n",
      "KNN CLASSIFIER CONFUSTION MATRIX: col_0      0  2   3\n",
      "Labelenc           \n",
      "0         28  0   7\n",
      "1          0  0   3\n",
      "2          0  5   0\n",
      "3          0  0  72\n",
      "===> **KNN F1 SCORE [0.88888889 0.         1.         0.93506494]\n",
      "===> **KNN Recall SCORE [0.8 0.  1.  1. ]\n",
      "===> **KNN Precision SCORE [1.         0.         1.         0.87804878]\n",
      "##################################################################################################\n",
      "Dtree ACCURACY: 0.8695652173913043\n",
      "Dtree CLASSIFIER CONFUSTION MATRIX: col_0      0  2   3\n",
      "Labelenc           \n",
      "0         24  0  11\n",
      "1          0  0   3\n",
      "2          0  5   0\n",
      "3          1  0  71\n",
      "===> **Dtree F1 SCORE [0.8       0.        1.        0.9044586]\n",
      "===> **Dtree Recall SCORE [0.68571429 0.         1.         0.98611111]\n",
      "===> **Dtree Precision SCORE [0.96       0.         1.         0.83529412]\n",
      "##################################################################################################\n",
      "RandForest ACCURACY: 0.9391304347826087\n",
      "RandForest CLASSIFIER CONFUSTION MATRIX: col_0      0  1  2   3\n",
      "Labelenc              \n",
      "0         32  0  0   3\n",
      "1          0  1  0   2\n",
      "2          0  0  5   0\n",
      "3          2  0  0  70\n",
      "===> **RandForest F1 SCORE [0.92753623 0.5        1.         0.95238095]\n",
      "===> **RandForest Recall SCORE [0.91428571 0.33333333 1.         0.97222222]\n",
      "===> **RandForest Precision SCORE [0.94117647 1.         1.         0.93333333]\n"
     ]
    },
    {
     "name": "stderr",
     "output_type": "stream",
     "text": [
      "C:\\Users\\madhan.s\\AppData\\Local\\Continuum\\anaconda3\\lib\\site-packages\\sklearn\\metrics\\classification.py:1135: UndefinedMetricWarning: F-score is ill-defined and being set to 0.0 in labels with no predicted samples.\n",
      "  'precision', 'predicted', average, warn_for)\n",
      "C:\\Users\\madhan.s\\AppData\\Local\\Continuum\\anaconda3\\lib\\site-packages\\sklearn\\metrics\\classification.py:1135: UndefinedMetricWarning: Precision is ill-defined and being set to 0.0 in labels with no predicted samples.\n",
      "  'precision', 'predicted', average, warn_for)\n"
     ]
    }
   ],
   "source": [
    "print(\"SVM ACCURACY:\",metrics.accuracy_score(y_test,y_pred_svm))\n",
    "print('SVM CLASSIFIER CONFUSTION MATRIX:',pd.crosstab(y_test,y_pred_svm))\n",
    "print(\"===> **SVM F1 SCORE\",metrics.f1_score(y_test, y_pred_svm,average=None))\n",
    "print(\"===> **SVM Recall SCORE\",metrics.recall_score(y_test, y_pred_svm,average=None))\n",
    "print(\"===> **SVM Precision SCORE\",metrics.precision_score(y_test, y_pred_svm,average=None))\n",
    "#print(\"===> **SVM ROC_AUC SCORE\",metrics.roc_auc_score(y_test, y_pred_svm,average=None))\n",
    "print(\"##################################################################################################\")\n",
    "print(\"LogisticReg ACCURACY:\",metrics.accuracy_score(y_test,y_pred_class_logreg))\n",
    "print('LogisticReg CLASSIFIER CONFUSTION MATRIX:',metrics.confusion_matrix(y_test,y_pred_class_logreg))\n",
    "print(\"===> **LogisticReg F1 SCORE\",metrics.f1_score(y_test, y_pred_class_logreg,average=None))\n",
    "print(\"===> **LogisticReg Recall SCORE\",metrics.recall_score(y_test, y_pred_class_logreg,average=None))\n",
    "print(\"===> **LogisticReg Precision SCORE\",metrics.precision_score(y_test, y_pred_class_logreg,average=None))\n",
    "#print(\"===> **LogisticReg ROC_AUC SCORE\",metrics.roc_auc_score(y_test, y_pred_class_logreg,average=None))\n",
    "print(\"##################################################################################################\")\n",
    "print(\"NaiveBayes ACCURACY:\",metrics.accuracy_score(y_test,y_pred_class_nb))\n",
    "print('NaiveBayes CLASSIFIER CONFUSTION MATRIX:',pd.crosstab(y_test,y_pred_class_nb))\n",
    "print(\"===> **NaiveBayes F1 SCORE\",metrics.f1_score(y_test, y_pred_class_nb,average=None))\n",
    "print(\"===> **NaiveBayes Recall SCORE\",metrics.recall_score(y_test, y_pred_class_nb,average=None))\n",
    "print(\"===> **NaiveBayes Precision SCORE\",metrics.precision_score(y_test, y_pred_class_nb,average=None))\n",
    "#print(\"===> **NaiveBayes ROC_AUC SCORE\",metrics.roc_auc_score(y_test, y_pred_class_nb,average=None))\n",
    "print(\"##################################################################################################\")\n",
    "print(\"KNN ACCURACY:\",metrics.accuracy_score(y_test,y_pred_class_knn))\n",
    "print('KNN CLASSIFIER CONFUSTION MATRIX:',pd.crosstab(y_test,y_pred_class_knn))\n",
    "print(\"===> **KNN F1 SCORE\",metrics.f1_score(y_test, y_pred_class_knn,average=None))\n",
    "print(\"===> **KNN Recall SCORE\",metrics.recall_score(y_test, y_pred_class_knn,average=None))\n",
    "print(\"===> **KNN Precision SCORE\",metrics.precision_score(y_test, y_pred_class_knn,average=None))\n",
    "#print(\"===> **KNN ROC_AUC SCORE\",metrics.roc_auc_score(y_test, y_pred_class_knn,average=None))\n",
    "print(\"##################################################################################################\")\n",
    "print(\"Dtree ACCURACY:\",metrics.accuracy_score(y_test,y_pred_tree))\n",
    "print('Dtree CLASSIFIER CONFUSTION MATRIX:',pd.crosstab(y_test,y_pred_tree))\n",
    "print(\"===> **Dtree F1 SCORE\",metrics.f1_score(y_test, y_pred_tree,average=None))\n",
    "print(\"===> **Dtree Recall SCORE\",metrics.recall_score(y_test, y_pred_tree,average=None))\n",
    "print(\"===> **Dtree Precision SCORE\",metrics.precision_score(y_test, y_pred_tree,average=None))\n",
    "#print(\"===> **Dtree ROC_AUC SCORE\",metrics.roc_auc_score(y_test, y_pred_tree,average=None))\n",
    "print(\"##################################################################################################\")\n",
    "print(\"RandForest ACCURACY:\",metrics.accuracy_score(y_test,y_pred_randforest))\n",
    "print('RandForest CLASSIFIER CONFUSTION MATRIX:',pd.crosstab(y_test,y_pred_randforest))\n",
    "print(\"===> **RandForest F1 SCORE\",metrics.f1_score(y_test, y_pred_randforest,average=None))\n",
    "print(\"===> **RandForest Recall SCORE\",metrics.recall_score(y_test, y_pred_randforest,average=None))\n",
    "print(\"===> **RandForest Precision SCORE\",metrics.precision_score(y_test, y_pred_randforest,average=None))\n",
    "#print(\"===> **RandForest ROC_AUC SCORE\",metrics.roc_auc_score(y_test, y_pred_randforest,average=None))"
   ]
  },
  {
   "cell_type": "code",
   "execution_count": 46,
   "metadata": {},
   "outputs": [
    {
     "name": "stderr",
     "output_type": "stream",
     "text": [
      "C:\\Users\\madhan.s\\AppData\\Local\\Continuum\\anaconda3\\lib\\site-packages\\h5py\\__init__.py:36: FutureWarning: Conversion of the second argument of issubdtype from `float` to `np.floating` is deprecated. In future, it will be treated as `np.float64 == np.dtype(float).type`.\n",
      "  from ._conv import register_converters as _register_converters\n"
     ]
    }
   ],
   "source": [
    "from bert_embedding import BertEmbedding\n"
   ]
  },
  {
   "cell_type": "code",
   "execution_count": 47,
   "metadata": {},
   "outputs": [],
   "source": [
    "first_sentence = X[0]"
   ]
  },
  {
   "cell_type": "code",
   "execution_count": 48,
   "metadata": {},
   "outputs": [
    {
     "data": {
      "text/plain": [
       "'The present complaint at the stage of admission is liable to be dismissed on simple ground that complainant has already received possession of the flat and conveyance deed has already been executed on 25.05.2016 copy of which is at page 196 to 210 of the file. The relief claimed by the complainant is in the nature of rendition of accounts as to how much was due from the complainant and how much has been charged by the OP-1. The same is beyond the scope of Consumer Protection Act. Remedy for the same lies by way of Civil Suit.   It was held by National Commission in A.N. Sehgal vs. DDA I (1996) CPJ 34, Smita Roy vs. Excel Constructions II (2012) CPJ 204 and Harpal Arya vs. Housing Board Haryana II (2016) CPJ 36 that after receiving the possession the complainant no more remains a consumer. This is more so when the complainant is an educated lady being advocate. She must not have paid the amount not due from her. The complaint is dismissed in limine.   Copy of the order be sent to both the parties free of cost.   File be consigned to record room.'"
      ]
     },
     "execution_count": 48,
     "metadata": {},
     "output_type": "execute_result"
    }
   ],
   "source": [
    "first_sentence"
   ]
  },
  {
   "cell_type": "code",
   "execution_count": 49,
   "metadata": {},
   "outputs": [],
   "source": [
    "first_word = nltk.word_tokenize(first_sentence)"
   ]
  },
  {
   "cell_type": "code",
   "execution_count": 51,
   "metadata": {},
   "outputs": [
    {
     "name": "stdout",
     "output_type": "stream",
     "text": [
      "Vocab file is not found. Downloading.\n",
      "Downloading C:\\Users\\madhan.s\\.mxnet\\models\\book_corpus_wiki_en_uncased-a6607397.zip from https://apache-mxnet.s3-accelerate.dualstack.amazonaws.com/gluon/dataset/vocab/book_corpus_wiki_en_uncased-a6607397.zip...\n",
      "Downloading C:\\Users\\madhan.s\\.mxnet\\models\\bert_12_768_12_book_corpus_wiki_en_uncased-75cc780f.zip from https://apache-mxnet.s3-accelerate.dualstack.amazonaws.com/gluon/models/bert_12_768_12_book_corpus_wiki_en_uncased-75cc780f.zip...\n",
      "download failed due to ChunkedEncodingError(ProtocolError('Connection broken: OSError(\"(10054, \\'WSAECONNRESET\\')\",)', OSError(\"(10054, 'WSAECONNRESET')\",)),), retrying, 4 attempts left\n",
      "Downloading C:\\Users\\madhan.s\\.mxnet\\models\\bert_12_768_12_book_corpus_wiki_en_uncased-75cc780f.zip from https://apache-mxnet.s3-accelerate.dualstack.amazonaws.com/gluon/models/bert_12_768_12_book_corpus_wiki_en_uncased-75cc780f.zip...\n",
      "download failed due to ConnectionError(MaxRetryError(\"HTTPSConnectionPool(host='apache-mxnet.s3-accelerate.dualstack.amazonaws.com', port=443): Max retries exceeded with url: /gluon/models/bert_12_768_12_book_corpus_wiki_en_uncased-75cc780f.zip (Caused by NewConnectionError('<urllib3.connection.VerifiedHTTPSConnection object at 0x000001DB7224E0F0>: Failed to establish a new connection: [Errno 11001] getaddrinfo failed',))\",),), retrying, 3 attempts left\n",
      "Downloading C:\\Users\\madhan.s\\.mxnet\\models\\bert_12_768_12_book_corpus_wiki_en_uncased-75cc780f.zip from https://apache-mxnet.s3-accelerate.dualstack.amazonaws.com/gluon/models/bert_12_768_12_book_corpus_wiki_en_uncased-75cc780f.zip...\n"
     ]
    },
    {
     "ename": "KeyboardInterrupt",
     "evalue": "",
     "output_type": "error",
     "traceback": [
      "\u001b[1;31m---------------------------------------------------------------------------\u001b[0m",
      "\u001b[1;31mKeyboardInterrupt\u001b[0m                         Traceback (most recent call last)",
      "\u001b[1;32m<ipython-input-51-505c2a22ea96>\u001b[0m in \u001b[0;36m<module>\u001b[1;34m()\u001b[0m\n\u001b[1;32m----> 1\u001b[1;33m \u001b[0mbert_embedding\u001b[0m \u001b[1;33m=\u001b[0m \u001b[0mBertEmbedding\u001b[0m\u001b[1;33m(\u001b[0m\u001b[1;33m)\u001b[0m\u001b[1;33m\u001b[0m\u001b[0m\n\u001b[0m",
      "\u001b[1;32m~\\AppData\\Local\\Continuum\\anaconda3\\lib\\site-packages\\bert_embedding\\bert.py\u001b[0m in \u001b[0;36m__init__\u001b[1;34m(self, ctx, dtype, model, dataset_name, params_path, max_seq_length, batch_size)\u001b[0m\n\u001b[0;32m     77\u001b[0m                                                          \u001b[0muse_pooler\u001b[0m\u001b[1;33m=\u001b[0m\u001b[1;32mFalse\u001b[0m\u001b[1;33m,\u001b[0m\u001b[1;33m\u001b[0m\u001b[0m\n\u001b[0;32m     78\u001b[0m                                                          \u001b[0muse_decoder\u001b[0m\u001b[1;33m=\u001b[0m\u001b[1;32mFalse\u001b[0m\u001b[1;33m,\u001b[0m\u001b[1;33m\u001b[0m\u001b[0m\n\u001b[1;32m---> 79\u001b[1;33m                                                          use_classifier=False)\n\u001b[0m\u001b[0;32m     80\u001b[0m         \u001b[0mself\u001b[0m\u001b[1;33m.\u001b[0m\u001b[0mbert\u001b[0m\u001b[1;33m.\u001b[0m\u001b[0mcast\u001b[0m\u001b[1;33m(\u001b[0m\u001b[0mself\u001b[0m\u001b[1;33m.\u001b[0m\u001b[0mdtype\u001b[0m\u001b[1;33m)\u001b[0m\u001b[1;33m\u001b[0m\u001b[0m\n\u001b[0;32m     81\u001b[0m \u001b[1;33m\u001b[0m\u001b[0m\n",
      "\u001b[1;32m~\\AppData\\Local\\Continuum\\anaconda3\\lib\\site-packages\\gluonnlp\\model\\__init__.py\u001b[0m in \u001b[0;36mget_model\u001b[1;34m(name, dataset_name, **kwargs)\u001b[0m\n\u001b[0;32m    149\u001b[0m                 name, '\\n\\t'.join(sorted(models.keys()))))\n\u001b[0;32m    150\u001b[0m     \u001b[0mkwargs\u001b[0m\u001b[1;33m[\u001b[0m\u001b[1;34m'dataset_name'\u001b[0m\u001b[1;33m]\u001b[0m \u001b[1;33m=\u001b[0m \u001b[0mdataset_name\u001b[0m\u001b[1;33m\u001b[0m\u001b[0m\n\u001b[1;32m--> 151\u001b[1;33m     \u001b[1;32mreturn\u001b[0m \u001b[0mmodels\u001b[0m\u001b[1;33m[\u001b[0m\u001b[0mname\u001b[0m\u001b[1;33m]\u001b[0m\u001b[1;33m(\u001b[0m\u001b[1;33m**\u001b[0m\u001b[0mkwargs\u001b[0m\u001b[1;33m)\u001b[0m\u001b[1;33m\u001b[0m\u001b[0m\n\u001b[0m",
      "\u001b[1;32m~\\AppData\\Local\\Continuum\\anaconda3\\lib\\site-packages\\gluonnlp\\model\\bert.py\u001b[0m in \u001b[0;36mbert_12_768_12\u001b[1;34m(dataset_name, vocab, pretrained, ctx, root, use_pooler, use_decoder, use_classifier, **kwargs)\u001b[0m\n\u001b[0;32m    584\u001b[0m                           \u001b[0mdataset_name\u001b[0m\u001b[1;33m=\u001b[0m\u001b[0mdataset_name\u001b[0m\u001b[1;33m,\u001b[0m \u001b[0mpretrained\u001b[0m\u001b[1;33m=\u001b[0m\u001b[0mpretrained\u001b[0m\u001b[1;33m,\u001b[0m \u001b[0mctx\u001b[0m\u001b[1;33m=\u001b[0m\u001b[0mctx\u001b[0m\u001b[1;33m,\u001b[0m\u001b[1;33m\u001b[0m\u001b[0m\n\u001b[0;32m    585\u001b[0m                           \u001b[0muse_pooler\u001b[0m\u001b[1;33m=\u001b[0m\u001b[0muse_pooler\u001b[0m\u001b[1;33m,\u001b[0m \u001b[0muse_decoder\u001b[0m\u001b[1;33m=\u001b[0m\u001b[0muse_decoder\u001b[0m\u001b[1;33m,\u001b[0m\u001b[1;33m\u001b[0m\u001b[0m\n\u001b[1;32m--> 586\u001b[1;33m                           use_classifier=use_classifier, root=root, **kwargs)\n\u001b[0m\u001b[0;32m    587\u001b[0m \u001b[1;33m\u001b[0m\u001b[0m\n\u001b[0;32m    588\u001b[0m \u001b[1;33m\u001b[0m\u001b[0m\n",
      "\u001b[1;32m~\\AppData\\Local\\Continuum\\anaconda3\\lib\\site-packages\\gluonnlp\\model\\bert.py\u001b[0m in \u001b[0;36mget_bert_model\u001b[1;34m(model_name, dataset_name, vocab, pretrained, ctx, use_pooler, use_decoder, use_classifier, output_attention, output_all_encodings, root, **kwargs)\u001b[0m\n\u001b[0;32m    706\u001b[0m         \u001b[0mignore_extra\u001b[0m \u001b[1;33m=\u001b[0m \u001b[1;32mnot\u001b[0m \u001b[1;33m(\u001b[0m\u001b[0muse_pooler\u001b[0m \u001b[1;32mand\u001b[0m \u001b[0muse_decoder\u001b[0m \u001b[1;32mand\u001b[0m \u001b[0muse_classifier\u001b[0m\u001b[1;33m)\u001b[0m\u001b[1;33m\u001b[0m\u001b[0m\n\u001b[0;32m    707\u001b[0m         _load_pretrained_params(net, model_name, dataset_name, root, ctx,\n\u001b[1;32m--> 708\u001b[1;33m                                 ignore_extra=ignore_extra)\n\u001b[0m\u001b[0;32m    709\u001b[0m     \u001b[1;32mreturn\u001b[0m \u001b[0mnet\u001b[0m\u001b[1;33m,\u001b[0m \u001b[0mbert_vocab\u001b[0m\u001b[1;33m\u001b[0m\u001b[0m\n",
      "\u001b[1;32m~\\AppData\\Local\\Continuum\\anaconda3\\lib\\site-packages\\gluonnlp\\model\\utils.py\u001b[0m in \u001b[0;36m_load_pretrained_params\u001b[1;34m(net, model_name, dataset_name, root, ctx, ignore_extra)\u001b[0m\n\u001b[0;32m    276\u001b[0m \u001b[1;32mdef\u001b[0m \u001b[0m_load_pretrained_params\u001b[0m\u001b[1;33m(\u001b[0m\u001b[0mnet\u001b[0m\u001b[1;33m,\u001b[0m \u001b[0mmodel_name\u001b[0m\u001b[1;33m,\u001b[0m \u001b[0mdataset_name\u001b[0m\u001b[1;33m,\u001b[0m \u001b[0mroot\u001b[0m\u001b[1;33m,\u001b[0m \u001b[0mctx\u001b[0m\u001b[1;33m,\u001b[0m \u001b[0mignore_extra\u001b[0m\u001b[1;33m=\u001b[0m\u001b[1;32mFalse\u001b[0m\u001b[1;33m)\u001b[0m\u001b[1;33m:\u001b[0m\u001b[1;33m\u001b[0m\u001b[0m\n\u001b[0;32m    277\u001b[0m     \u001b[0mpath\u001b[0m \u001b[1;33m=\u001b[0m \u001b[1;34m'_'\u001b[0m\u001b[1;33m.\u001b[0m\u001b[0mjoin\u001b[0m\u001b[1;33m(\u001b[0m\u001b[1;33m[\u001b[0m\u001b[0mmodel_name\u001b[0m\u001b[1;33m,\u001b[0m \u001b[0mdataset_name\u001b[0m\u001b[1;33m]\u001b[0m\u001b[1;33m)\u001b[0m\u001b[1;33m\u001b[0m\u001b[0m\n\u001b[1;32m--> 278\u001b[1;33m     \u001b[0mmodel_file\u001b[0m \u001b[1;33m=\u001b[0m \u001b[0mmodel_store\u001b[0m\u001b[1;33m.\u001b[0m\u001b[0mget_model_file\u001b[0m\u001b[1;33m(\u001b[0m\u001b[0mpath\u001b[0m\u001b[1;33m,\u001b[0m \u001b[0mroot\u001b[0m\u001b[1;33m=\u001b[0m\u001b[0mroot\u001b[0m\u001b[1;33m)\u001b[0m\u001b[1;33m\u001b[0m\u001b[0m\n\u001b[0m\u001b[0;32m    279\u001b[0m     \u001b[0mnet\u001b[0m\u001b[1;33m.\u001b[0m\u001b[0mload_parameters\u001b[0m\u001b[1;33m(\u001b[0m\u001b[0mmodel_file\u001b[0m\u001b[1;33m,\u001b[0m \u001b[0mctx\u001b[0m\u001b[1;33m=\u001b[0m\u001b[0mctx\u001b[0m\u001b[1;33m,\u001b[0m \u001b[0mignore_extra\u001b[0m\u001b[1;33m=\u001b[0m\u001b[0mignore_extra\u001b[0m\u001b[1;33m)\u001b[0m\u001b[1;33m\u001b[0m\u001b[0m\n",
      "\u001b[1;32m~\\AppData\\Local\\Continuum\\anaconda3\\lib\\site-packages\\mxnet\\gluon\\model_zoo\\model_store.py\u001b[0m in \u001b[0;36mget_model_file\u001b[1;34m(name, root)\u001b[0m\n\u001b[0;32m    110\u001b[0m     download(_url_format.format(repo_url=repo_url, file_name=file_name),\n\u001b[0;32m    111\u001b[0m              \u001b[0mpath\u001b[0m\u001b[1;33m=\u001b[0m\u001b[0mzip_file_path\u001b[0m\u001b[1;33m,\u001b[0m\u001b[1;33m\u001b[0m\u001b[0m\n\u001b[1;32m--> 112\u001b[1;33m              overwrite=True)\n\u001b[0m\u001b[0;32m    113\u001b[0m     \u001b[1;32mwith\u001b[0m \u001b[0mzipfile\u001b[0m\u001b[1;33m.\u001b[0m\u001b[0mZipFile\u001b[0m\u001b[1;33m(\u001b[0m\u001b[0mzip_file_path\u001b[0m\u001b[1;33m)\u001b[0m \u001b[1;32mas\u001b[0m \u001b[0mzf\u001b[0m\u001b[1;33m:\u001b[0m\u001b[1;33m\u001b[0m\u001b[0m\n\u001b[0;32m    114\u001b[0m         \u001b[0mzf\u001b[0m\u001b[1;33m.\u001b[0m\u001b[0mextractall\u001b[0m\u001b[1;33m(\u001b[0m\u001b[0mroot\u001b[0m\u001b[1;33m)\u001b[0m\u001b[1;33m\u001b[0m\u001b[0m\n",
      "\u001b[1;32m~\\AppData\\Local\\Continuum\\anaconda3\\lib\\site-packages\\mxnet\\gluon\\utils.py\u001b[0m in \u001b[0;36mdownload\u001b[1;34m(url, path, overwrite, sha1_hash, retries, verify_ssl)\u001b[0m\n\u001b[0;32m    313\u001b[0m                 \u001b[0mrandom_uuid\u001b[0m \u001b[1;33m=\u001b[0m \u001b[0mstr\u001b[0m\u001b[1;33m(\u001b[0m\u001b[0muuid\u001b[0m\u001b[1;33m.\u001b[0m\u001b[0muuid4\u001b[0m\u001b[1;33m(\u001b[0m\u001b[1;33m)\u001b[0m\u001b[1;33m)\u001b[0m\u001b[1;33m\u001b[0m\u001b[0m\n\u001b[0;32m    314\u001b[0m                 \u001b[1;32mwith\u001b[0m \u001b[0mopen\u001b[0m\u001b[1;33m(\u001b[0m\u001b[1;34m'{}.{}'\u001b[0m\u001b[1;33m.\u001b[0m\u001b[0mformat\u001b[0m\u001b[1;33m(\u001b[0m\u001b[0mfname\u001b[0m\u001b[1;33m,\u001b[0m \u001b[0mrandom_uuid\u001b[0m\u001b[1;33m)\u001b[0m\u001b[1;33m,\u001b[0m \u001b[1;34m'wb'\u001b[0m\u001b[1;33m)\u001b[0m \u001b[1;32mas\u001b[0m \u001b[0mf\u001b[0m\u001b[1;33m:\u001b[0m\u001b[1;33m\u001b[0m\u001b[0m\n\u001b[1;32m--> 315\u001b[1;33m                     \u001b[1;32mfor\u001b[0m \u001b[0mchunk\u001b[0m \u001b[1;32min\u001b[0m \u001b[0mr\u001b[0m\u001b[1;33m.\u001b[0m\u001b[0miter_content\u001b[0m\u001b[1;33m(\u001b[0m\u001b[0mchunk_size\u001b[0m\u001b[1;33m=\u001b[0m\u001b[1;36m1024\u001b[0m\u001b[1;33m)\u001b[0m\u001b[1;33m:\u001b[0m\u001b[1;33m\u001b[0m\u001b[0m\n\u001b[0m\u001b[0;32m    316\u001b[0m                         \u001b[1;32mif\u001b[0m \u001b[0mchunk\u001b[0m\u001b[1;33m:\u001b[0m \u001b[1;31m# filter out keep-alive new chunks\u001b[0m\u001b[1;33m\u001b[0m\u001b[0m\n\u001b[0;32m    317\u001b[0m                             \u001b[0mf\u001b[0m\u001b[1;33m.\u001b[0m\u001b[0mwrite\u001b[0m\u001b[1;33m(\u001b[0m\u001b[0mchunk\u001b[0m\u001b[1;33m)\u001b[0m\u001b[1;33m\u001b[0m\u001b[0m\n",
      "\u001b[1;32m~\\AppData\\Local\\Continuum\\anaconda3\\lib\\site-packages\\requests\\models.py\u001b[0m in \u001b[0;36mgenerate\u001b[1;34m()\u001b[0m\n\u001b[0;32m    743\u001b[0m             \u001b[1;32mif\u001b[0m \u001b[0mhasattr\u001b[0m\u001b[1;33m(\u001b[0m\u001b[0mself\u001b[0m\u001b[1;33m.\u001b[0m\u001b[0mraw\u001b[0m\u001b[1;33m,\u001b[0m \u001b[1;34m'stream'\u001b[0m\u001b[1;33m)\u001b[0m\u001b[1;33m:\u001b[0m\u001b[1;33m\u001b[0m\u001b[0m\n\u001b[0;32m    744\u001b[0m                 \u001b[1;32mtry\u001b[0m\u001b[1;33m:\u001b[0m\u001b[1;33m\u001b[0m\u001b[0m\n\u001b[1;32m--> 745\u001b[1;33m                     \u001b[1;32mfor\u001b[0m \u001b[0mchunk\u001b[0m \u001b[1;32min\u001b[0m \u001b[0mself\u001b[0m\u001b[1;33m.\u001b[0m\u001b[0mraw\u001b[0m\u001b[1;33m.\u001b[0m\u001b[0mstream\u001b[0m\u001b[1;33m(\u001b[0m\u001b[0mchunk_size\u001b[0m\u001b[1;33m,\u001b[0m \u001b[0mdecode_content\u001b[0m\u001b[1;33m=\u001b[0m\u001b[1;32mTrue\u001b[0m\u001b[1;33m)\u001b[0m\u001b[1;33m:\u001b[0m\u001b[1;33m\u001b[0m\u001b[0m\n\u001b[0m\u001b[0;32m    746\u001b[0m                         \u001b[1;32myield\u001b[0m \u001b[0mchunk\u001b[0m\u001b[1;33m\u001b[0m\u001b[0m\n\u001b[0;32m    747\u001b[0m                 \u001b[1;32mexcept\u001b[0m \u001b[0mProtocolError\u001b[0m \u001b[1;32mas\u001b[0m \u001b[0me\u001b[0m\u001b[1;33m:\u001b[0m\u001b[1;33m\u001b[0m\u001b[0m\n",
      "\u001b[1;32m~\\AppData\\Local\\Continuum\\anaconda3\\lib\\site-packages\\urllib3\\response.py\u001b[0m in \u001b[0;36mstream\u001b[1;34m(self, amt, decode_content)\u001b[0m\n\u001b[0;32m    434\u001b[0m         \u001b[1;32melse\u001b[0m\u001b[1;33m:\u001b[0m\u001b[1;33m\u001b[0m\u001b[0m\n\u001b[0;32m    435\u001b[0m             \u001b[1;32mwhile\u001b[0m \u001b[1;32mnot\u001b[0m \u001b[0mis_fp_closed\u001b[0m\u001b[1;33m(\u001b[0m\u001b[0mself\u001b[0m\u001b[1;33m.\u001b[0m\u001b[0m_fp\u001b[0m\u001b[1;33m)\u001b[0m\u001b[1;33m:\u001b[0m\u001b[1;33m\u001b[0m\u001b[0m\n\u001b[1;32m--> 436\u001b[1;33m                 \u001b[0mdata\u001b[0m \u001b[1;33m=\u001b[0m \u001b[0mself\u001b[0m\u001b[1;33m.\u001b[0m\u001b[0mread\u001b[0m\u001b[1;33m(\u001b[0m\u001b[0mamt\u001b[0m\u001b[1;33m=\u001b[0m\u001b[0mamt\u001b[0m\u001b[1;33m,\u001b[0m \u001b[0mdecode_content\u001b[0m\u001b[1;33m=\u001b[0m\u001b[0mdecode_content\u001b[0m\u001b[1;33m)\u001b[0m\u001b[1;33m\u001b[0m\u001b[0m\n\u001b[0m\u001b[0;32m    437\u001b[0m \u001b[1;33m\u001b[0m\u001b[0m\n\u001b[0;32m    438\u001b[0m                 \u001b[1;32mif\u001b[0m \u001b[0mdata\u001b[0m\u001b[1;33m:\u001b[0m\u001b[1;33m\u001b[0m\u001b[0m\n",
      "\u001b[1;32m~\\AppData\\Local\\Continuum\\anaconda3\\lib\\site-packages\\urllib3\\response.py\u001b[0m in \u001b[0;36mread\u001b[1;34m(self, amt, decode_content, cache_content)\u001b[0m\n\u001b[0;32m    382\u001b[0m             \u001b[1;32melse\u001b[0m\u001b[1;33m:\u001b[0m\u001b[1;33m\u001b[0m\u001b[0m\n\u001b[0;32m    383\u001b[0m                 \u001b[0mcache_content\u001b[0m \u001b[1;33m=\u001b[0m \u001b[1;32mFalse\u001b[0m\u001b[1;33m\u001b[0m\u001b[0m\n\u001b[1;32m--> 384\u001b[1;33m                 \u001b[0mdata\u001b[0m \u001b[1;33m=\u001b[0m \u001b[0mself\u001b[0m\u001b[1;33m.\u001b[0m\u001b[0m_fp\u001b[0m\u001b[1;33m.\u001b[0m\u001b[0mread\u001b[0m\u001b[1;33m(\u001b[0m\u001b[0mamt\u001b[0m\u001b[1;33m)\u001b[0m\u001b[1;33m\u001b[0m\u001b[0m\n\u001b[0m\u001b[0;32m    385\u001b[0m                 \u001b[1;32mif\u001b[0m \u001b[0mamt\u001b[0m \u001b[1;33m!=\u001b[0m \u001b[1;36m0\u001b[0m \u001b[1;32mand\u001b[0m \u001b[1;32mnot\u001b[0m \u001b[0mdata\u001b[0m\u001b[1;33m:\u001b[0m  \u001b[1;31m# Platform-specific: Buggy versions of Python.\u001b[0m\u001b[1;33m\u001b[0m\u001b[0m\n\u001b[0;32m    386\u001b[0m                     \u001b[1;31m# Close the connection when no data is returned\u001b[0m\u001b[1;33m\u001b[0m\u001b[1;33m\u001b[0m\u001b[0m\n",
      "\u001b[1;32m~\\AppData\\Local\\Continuum\\anaconda3\\lib\\http\\client.py\u001b[0m in \u001b[0;36mread\u001b[1;34m(self, amt)\u001b[0m\n\u001b[0;32m    447\u001b[0m             \u001b[1;31m# Amount is given, implement using readinto\u001b[0m\u001b[1;33m\u001b[0m\u001b[1;33m\u001b[0m\u001b[0m\n\u001b[0;32m    448\u001b[0m             \u001b[0mb\u001b[0m \u001b[1;33m=\u001b[0m \u001b[0mbytearray\u001b[0m\u001b[1;33m(\u001b[0m\u001b[0mamt\u001b[0m\u001b[1;33m)\u001b[0m\u001b[1;33m\u001b[0m\u001b[0m\n\u001b[1;32m--> 449\u001b[1;33m             \u001b[0mn\u001b[0m \u001b[1;33m=\u001b[0m \u001b[0mself\u001b[0m\u001b[1;33m.\u001b[0m\u001b[0mreadinto\u001b[0m\u001b[1;33m(\u001b[0m\u001b[0mb\u001b[0m\u001b[1;33m)\u001b[0m\u001b[1;33m\u001b[0m\u001b[0m\n\u001b[0m\u001b[0;32m    450\u001b[0m             \u001b[1;32mreturn\u001b[0m \u001b[0mmemoryview\u001b[0m\u001b[1;33m(\u001b[0m\u001b[0mb\u001b[0m\u001b[1;33m)\u001b[0m\u001b[1;33m[\u001b[0m\u001b[1;33m:\u001b[0m\u001b[0mn\u001b[0m\u001b[1;33m]\u001b[0m\u001b[1;33m.\u001b[0m\u001b[0mtobytes\u001b[0m\u001b[1;33m(\u001b[0m\u001b[1;33m)\u001b[0m\u001b[1;33m\u001b[0m\u001b[0m\n\u001b[0;32m    451\u001b[0m         \u001b[1;32melse\u001b[0m\u001b[1;33m:\u001b[0m\u001b[1;33m\u001b[0m\u001b[0m\n",
      "\u001b[1;32m~\\AppData\\Local\\Continuum\\anaconda3\\lib\\http\\client.py\u001b[0m in \u001b[0;36mreadinto\u001b[1;34m(self, b)\u001b[0m\n\u001b[0;32m    491\u001b[0m         \u001b[1;31m# connection, and the user is reading more bytes than will be provided\u001b[0m\u001b[1;33m\u001b[0m\u001b[1;33m\u001b[0m\u001b[0m\n\u001b[0;32m    492\u001b[0m         \u001b[1;31m# (for example, reading in 1k chunks)\u001b[0m\u001b[1;33m\u001b[0m\u001b[1;33m\u001b[0m\u001b[0m\n\u001b[1;32m--> 493\u001b[1;33m         \u001b[0mn\u001b[0m \u001b[1;33m=\u001b[0m \u001b[0mself\u001b[0m\u001b[1;33m.\u001b[0m\u001b[0mfp\u001b[0m\u001b[1;33m.\u001b[0m\u001b[0mreadinto\u001b[0m\u001b[1;33m(\u001b[0m\u001b[0mb\u001b[0m\u001b[1;33m)\u001b[0m\u001b[1;33m\u001b[0m\u001b[0m\n\u001b[0m\u001b[0;32m    494\u001b[0m         \u001b[1;32mif\u001b[0m \u001b[1;32mnot\u001b[0m \u001b[0mn\u001b[0m \u001b[1;32mand\u001b[0m \u001b[0mb\u001b[0m\u001b[1;33m:\u001b[0m\u001b[1;33m\u001b[0m\u001b[0m\n\u001b[0;32m    495\u001b[0m             \u001b[1;31m# Ideally, we would raise IncompleteRead if the content-length\u001b[0m\u001b[1;33m\u001b[0m\u001b[1;33m\u001b[0m\u001b[0m\n",
      "\u001b[1;32m~\\AppData\\Local\\Continuum\\anaconda3\\lib\\socket.py\u001b[0m in \u001b[0;36mreadinto\u001b[1;34m(self, b)\u001b[0m\n\u001b[0;32m    584\u001b[0m         \u001b[1;32mwhile\u001b[0m \u001b[1;32mTrue\u001b[0m\u001b[1;33m:\u001b[0m\u001b[1;33m\u001b[0m\u001b[0m\n\u001b[0;32m    585\u001b[0m             \u001b[1;32mtry\u001b[0m\u001b[1;33m:\u001b[0m\u001b[1;33m\u001b[0m\u001b[0m\n\u001b[1;32m--> 586\u001b[1;33m                 \u001b[1;32mreturn\u001b[0m \u001b[0mself\u001b[0m\u001b[1;33m.\u001b[0m\u001b[0m_sock\u001b[0m\u001b[1;33m.\u001b[0m\u001b[0mrecv_into\u001b[0m\u001b[1;33m(\u001b[0m\u001b[0mb\u001b[0m\u001b[1;33m)\u001b[0m\u001b[1;33m\u001b[0m\u001b[0m\n\u001b[0m\u001b[0;32m    587\u001b[0m             \u001b[1;32mexcept\u001b[0m \u001b[0mtimeout\u001b[0m\u001b[1;33m:\u001b[0m\u001b[1;33m\u001b[0m\u001b[0m\n\u001b[0;32m    588\u001b[0m                 \u001b[0mself\u001b[0m\u001b[1;33m.\u001b[0m\u001b[0m_timeout_occurred\u001b[0m \u001b[1;33m=\u001b[0m \u001b[1;32mTrue\u001b[0m\u001b[1;33m\u001b[0m\u001b[0m\n",
      "\u001b[1;32m~\\AppData\\Local\\Continuum\\anaconda3\\lib\\site-packages\\urllib3\\contrib\\pyopenssl.py\u001b[0m in \u001b[0;36mrecv_into\u001b[1;34m(self, *args, **kwargs)\u001b[0m\n\u001b[0;32m    278\u001b[0m     \u001b[1;32mdef\u001b[0m \u001b[0mrecv_into\u001b[0m\u001b[1;33m(\u001b[0m\u001b[0mself\u001b[0m\u001b[1;33m,\u001b[0m \u001b[1;33m*\u001b[0m\u001b[0margs\u001b[0m\u001b[1;33m,\u001b[0m \u001b[1;33m**\u001b[0m\u001b[0mkwargs\u001b[0m\u001b[1;33m)\u001b[0m\u001b[1;33m:\u001b[0m\u001b[1;33m\u001b[0m\u001b[0m\n\u001b[0;32m    279\u001b[0m         \u001b[1;32mtry\u001b[0m\u001b[1;33m:\u001b[0m\u001b[1;33m\u001b[0m\u001b[0m\n\u001b[1;32m--> 280\u001b[1;33m             \u001b[1;32mreturn\u001b[0m \u001b[0mself\u001b[0m\u001b[1;33m.\u001b[0m\u001b[0mconnection\u001b[0m\u001b[1;33m.\u001b[0m\u001b[0mrecv_into\u001b[0m\u001b[1;33m(\u001b[0m\u001b[1;33m*\u001b[0m\u001b[0margs\u001b[0m\u001b[1;33m,\u001b[0m \u001b[1;33m**\u001b[0m\u001b[0mkwargs\u001b[0m\u001b[1;33m)\u001b[0m\u001b[1;33m\u001b[0m\u001b[0m\n\u001b[0m\u001b[0;32m    281\u001b[0m         \u001b[1;32mexcept\u001b[0m \u001b[0mOpenSSL\u001b[0m\u001b[1;33m.\u001b[0m\u001b[0mSSL\u001b[0m\u001b[1;33m.\u001b[0m\u001b[0mSysCallError\u001b[0m \u001b[1;32mas\u001b[0m \u001b[0me\u001b[0m\u001b[1;33m:\u001b[0m\u001b[1;33m\u001b[0m\u001b[0m\n\u001b[0;32m    282\u001b[0m             \u001b[1;32mif\u001b[0m \u001b[0mself\u001b[0m\u001b[1;33m.\u001b[0m\u001b[0msuppress_ragged_eofs\u001b[0m \u001b[1;32mand\u001b[0m \u001b[0me\u001b[0m\u001b[1;33m.\u001b[0m\u001b[0margs\u001b[0m \u001b[1;33m==\u001b[0m \u001b[1;33m(\u001b[0m\u001b[1;33m-\u001b[0m\u001b[1;36m1\u001b[0m\u001b[1;33m,\u001b[0m \u001b[1;34m'Unexpected EOF'\u001b[0m\u001b[1;33m)\u001b[0m\u001b[1;33m:\u001b[0m\u001b[1;33m\u001b[0m\u001b[0m\n",
      "\u001b[1;32m~\\AppData\\Local\\Continuum\\anaconda3\\lib\\site-packages\\OpenSSL\\SSL.py\u001b[0m in \u001b[0;36mrecv_into\u001b[1;34m(self, buffer, nbytes, flags)\u001b[0m\n\u001b[0;32m   1811\u001b[0m             \u001b[0mresult\u001b[0m \u001b[1;33m=\u001b[0m \u001b[0m_lib\u001b[0m\u001b[1;33m.\u001b[0m\u001b[0mSSL_peek\u001b[0m\u001b[1;33m(\u001b[0m\u001b[0mself\u001b[0m\u001b[1;33m.\u001b[0m\u001b[0m_ssl\u001b[0m\u001b[1;33m,\u001b[0m \u001b[0mbuf\u001b[0m\u001b[1;33m,\u001b[0m \u001b[0mnbytes\u001b[0m\u001b[1;33m)\u001b[0m\u001b[1;33m\u001b[0m\u001b[0m\n\u001b[0;32m   1812\u001b[0m         \u001b[1;32melse\u001b[0m\u001b[1;33m:\u001b[0m\u001b[1;33m\u001b[0m\u001b[0m\n\u001b[1;32m-> 1813\u001b[1;33m             \u001b[0mresult\u001b[0m \u001b[1;33m=\u001b[0m \u001b[0m_lib\u001b[0m\u001b[1;33m.\u001b[0m\u001b[0mSSL_read\u001b[0m\u001b[1;33m(\u001b[0m\u001b[0mself\u001b[0m\u001b[1;33m.\u001b[0m\u001b[0m_ssl\u001b[0m\u001b[1;33m,\u001b[0m \u001b[0mbuf\u001b[0m\u001b[1;33m,\u001b[0m \u001b[0mnbytes\u001b[0m\u001b[1;33m)\u001b[0m\u001b[1;33m\u001b[0m\u001b[0m\n\u001b[0m\u001b[0;32m   1814\u001b[0m         \u001b[0mself\u001b[0m\u001b[1;33m.\u001b[0m\u001b[0m_raise_ssl_error\u001b[0m\u001b[1;33m(\u001b[0m\u001b[0mself\u001b[0m\u001b[1;33m.\u001b[0m\u001b[0m_ssl\u001b[0m\u001b[1;33m,\u001b[0m \u001b[0mresult\u001b[0m\u001b[1;33m)\u001b[0m\u001b[1;33m\u001b[0m\u001b[0m\n\u001b[0;32m   1815\u001b[0m \u001b[1;33m\u001b[0m\u001b[0m\n",
      "\u001b[1;31mKeyboardInterrupt\u001b[0m: "
     ]
    }
   ],
   "source": [
    "bert_embedding = BertEmbedding()"
   ]
  },
  {
   "cell_type": "code",
   "execution_count": null,
   "metadata": {},
   "outputs": [],
   "source": []
  },
  {
   "cell_type": "markdown",
   "metadata": {},
   "source": [
    "### After Stopwords removal & Lemmatizing"
   ]
  },
  {
   "cell_type": "code",
   "execution_count": 22,
   "metadata": {},
   "outputs": [],
   "source": [
    "corpus = []\n",
    "words = []\n",
    "for i in range(len(X)):\n",
    "    #sent = X[i].splitlines()\n",
    "    #sent = [s for s in sent if not re.search(r'[0-9]',s)]\n",
    "    #sent = [s for s in sent if len(s)>0]\n",
    "    #sentences = re.sub('[^a-zA-Z]',' ',str(sent))\n",
    "    sentences = X[i].lower()\n",
    "    sentences = sentences.split()\n",
    "    lm = WordNetLemmatizer()\n",
    "    sentences = [lm.lemmatize(word) for word in sentences if not word in set(stopwords.words('english')) and len(word)>2]\n",
    "    words+= sentences\n",
    "    sentences = ' '.join(sentences)\n",
    "    corpus.append(sentences)\n",
    "#print(coprus)"
   ]
  },
  {
   "cell_type": "code",
   "execution_count": 23,
   "metadata": {},
   "outputs": [
    {
     "data": {
      "text/plain": [
       "\"o.ps filing written version stated complaint barred limitation also submitted complainant association registered one, complaint maintainable. party tendered evidence affidavit. also given reply questionnaire set forth adversaries. scrutinised material record considered submission advanced ld. advocate appearing parties. perusal petition complaint heard ld. advocate appearing party emerges complainant association unregistered association formed member flat owner 'ava apartment' lying situated holding number 61, rejaul karim sarani, gorabazar, p.o p.s berhampur, dist murshidabad. mr. prabir basu, ld. advocate o.ps referring late decision hon'ble national consumer commission reported iii (2017) cpj 494 (moulivakkam trust height flat affected buyer association prima sristi housing pvt. ltd. ors) submitted since complainant association registered one, complaint maintainable. mr. barun prasad, ld. advocate complainant association could contradict view observation national commission paragraph referred case. therefore, heard ld. advocate appearing party perusal petition complaint decision referred above, hesitation hold complainant association registered one, complaint maintainable. situation find reason enter point raised o.ps. consequently, petition complaint rejected. however, order prevent complainant association seek remedy getting registered process, may seek assistance decision hon'ble supreme court reported (1995) scc 583 (laxmi engineering work psg industrial institute).\""
      ]
     },
     "execution_count": 23,
     "metadata": {},
     "output_type": "execute_result"
    }
   ],
   "source": [
    "corpus[10]"
   ]
  },
  {
   "cell_type": "code",
   "execution_count": 24,
   "metadata": {},
   "outputs": [
    {
     "data": {
      "text/plain": [
       "\"o.ps filing written version stated complaint barred limitation also submitted complainant association registered one, complaint maintainable. party tendered evidence affidavit. also given reply questionnaire set forth adversaries. scrutinised material record considered submission advanced ld. advocate appearing parties. perusal petition complaint heard ld. advocate appearing party emerges complainant association unregistered association formed member flat owner 'ava apartment' lying situated holding number 61, rejaul karim sarani, gorabazar, p.o p.s berhampur, dist murshidabad. mr. prabir basu, ld. advocate o.ps referring late decision hon'ble national consumer commission reported iii (2017) cpj 494 (moulivakkam trust height flat affected buyer association prima sristi housing pvt. ltd. ors) submitted since complainant association registered one, complaint maintainable. mr. barun prasad, ld. advocate complainant association could contradict view observation national commission paragraph referred case. therefore, heard ld. advocate appearing party perusal petition complaint decision referred above, hesitation hold complainant association registered one, complaint maintainable. situation find reason enter point raised o.ps. consequently, petition complaint rejected. however, order prevent complainant association seek remedy getting registered process, may seek assistance decision hon'ble supreme court reported (1995) scc 583 (laxmi engineering work psg industrial institute).\""
      ]
     },
     "execution_count": 24,
     "metadata": {},
     "output_type": "execute_result"
    }
   ],
   "source": [
    "corpus[10]"
   ]
  },
  {
   "cell_type": "code",
   "execution_count": 25,
   "metadata": {},
   "outputs": [
    {
     "data": {
      "text/plain": [
       "573"
      ]
     },
     "execution_count": 25,
     "metadata": {},
     "output_type": "execute_result"
    }
   ],
   "source": [
    "len(corpus)"
   ]
  },
  {
   "cell_type": "code",
   "execution_count": 26,
   "metadata": {},
   "outputs": [],
   "source": [
    "df = pd.DataFrame(corpus,columns=['text'])"
   ]
  },
  {
   "cell_type": "code",
   "execution_count": 27,
   "metadata": {},
   "outputs": [],
   "source": [
    "X= df.text"
   ]
  },
  {
   "cell_type": "code",
   "execution_count": 28,
   "metadata": {},
   "outputs": [],
   "source": [
    "X_train_txt, X_test_txt, y_train, y_test = train_test_split(X, y, test_size=0.2, random_state=1)"
   ]
  },
  {
   "cell_type": "code",
   "execution_count": 29,
   "metadata": {},
   "outputs": [
    {
     "data": {
      "text/plain": [
       "(458, 5815)"
      ]
     },
     "execution_count": 29,
     "metadata": {},
     "output_type": "execute_result"
    }
   ],
   "source": [
    "tfidf_vec = TfidfVectorizer(stop_words='english', ngram_range=(1,3),lowercase=True,min_df=10)\n",
    "X_dtm_train = tfidf_vec.fit_transform((X_train_txt))\n",
    "X_dtm_train.shape"
   ]
  },
  {
   "cell_type": "code",
   "execution_count": 30,
   "metadata": {},
   "outputs": [],
   "source": [
    "#tfidf_vec.vocabulary_"
   ]
  },
  {
   "cell_type": "code",
   "execution_count": 31,
   "metadata": {},
   "outputs": [
    {
     "data": {
      "text/plain": [
       "(115, 5815)"
      ]
     },
     "execution_count": 31,
     "metadata": {},
     "output_type": "execute_result"
    }
   ],
   "source": [
    "X_dtm_test = tfidf_vec.transform(X_test_txt)\n",
    "X_dtm_test.shape"
   ]
  },
  {
   "cell_type": "code",
   "execution_count": 32,
   "metadata": {},
   "outputs": [],
   "source": [
    "\n",
    "from sklearn.svm import SVC\n",
    "from sklearn.neighbors import KNeighborsClassifier\n",
    "from sklearn import metrics"
   ]
  },
  {
   "cell_type": "code",
   "execution_count": 33,
   "metadata": {},
   "outputs": [
    {
     "data": {
      "text/plain": [
       "SVC(C=1.0, cache_size=200, class_weight=None, coef0=0.0,\n",
       "  decision_function_shape='ovr', degree=3, gamma='auto', kernel='linear',\n",
       "  max_iter=-1, probability=False, random_state=0, shrinking=True,\n",
       "  tol=0.001, verbose=False)"
      ]
     },
     "execution_count": 33,
     "metadata": {},
     "output_type": "execute_result"
    }
   ],
   "source": [
    "svcclassifier = SVC(random_state=0,kernel='linear')\n",
    "svcclassifier.fit(X_dtm_train,y_train)"
   ]
  },
  {
   "cell_type": "code",
   "execution_count": 34,
   "metadata": {},
   "outputs": [],
   "source": [
    "y_pred_svm = svcclassifier.predict(X_dtm_test)"
   ]
  },
  {
   "cell_type": "code",
   "execution_count": 35,
   "metadata": {},
   "outputs": [],
   "source": [
    "## Logistic Regression"
   ]
  },
  {
   "cell_type": "code",
   "execution_count": 36,
   "metadata": {},
   "outputs": [],
   "source": [
    "logreg = LogisticRegression(C=1e9)\n",
    "logreg.fit(X_dtm_train,y_train)\n",
    "y_pred_class_logreg = logreg.predict(X_dtm_test)"
   ]
  },
  {
   "cell_type": "code",
   "execution_count": null,
   "metadata": {},
   "outputs": [],
   "source": []
  },
  {
   "cell_type": "code",
   "execution_count": 37,
   "metadata": {},
   "outputs": [],
   "source": [
    "nb = MultinomialNB()\n",
    "nb.fit(X_dtm_train,y_train)\n",
    "y_pred_class_nb = nb.predict(X_dtm_test)"
   ]
  },
  {
   "cell_type": "code",
   "execution_count": 38,
   "metadata": {},
   "outputs": [],
   "source": [
    "import matplotlib.pyplot as plt   \n",
    "import matplotlib.style\n",
    "plt.style.use('classic')\n",
    "\n",
    "#importing seaborn for statistical plots\n",
    "import seaborn as sns"
   ]
  },
  {
   "cell_type": "code",
   "execution_count": 39,
   "metadata": {},
   "outputs": [],
   "source": [
    "error = []\n",
    "# Calculating error for K values for 5, 13 and 21\n",
    "for i in range(1,49):  \n",
    "    knn = KNeighborsClassifier(n_neighbors=i)\n",
    "    knn.fit(X_dtm_train, y_train)\n",
    "    pred_i = knn.predict(X_dtm_test)\n",
    "    error.append(np.mean(pred_i != y_test))"
   ]
  },
  {
   "cell_type": "code",
   "execution_count": 40,
   "metadata": {},
   "outputs": [
    {
     "data": {
      "text/plain": [
       "Text(0,0.5,'Mean Error')"
      ]
     },
     "execution_count": 40,
     "metadata": {},
     "output_type": "execute_result"
    },
    {
     "data": {
      "image/png": "[encoded data removed]",
      "text/plain": [
       "<Figure size 864x432 with 1 Axes>"
      ]
     },
     "metadata": {},
     "output_type": "display_data"
    }
   ],
   "source": [
    "plt.figure(figsize=(12, 6))  \n",
    "plt.plot(range(1,49), error, color='red', linestyle='dashed', marker='o',  \n",
    "         markerfacecolor='blue', markersize=10)\n",
    "plt.title('Error Rate K Value')  \n",
    "plt.xlabel('K Value')  \n",
    "plt.ylabel('Mean Error') "
   ]
  },
  {
   "cell_type": "code",
   "execution_count": 41,
   "metadata": {},
   "outputs": [],
   "source": [
    "from sklearn.neighbors import KNeighborsClassifier\n",
    "knn = KNeighborsClassifier(n_neighbors=1)\n",
    "knn.fit(X_dtm_train,y_train)\n",
    "y_pred_class_knn = knn.predict(X_dtm_test)"
   ]
  },
  {
   "cell_type": "code",
   "execution_count": null,
   "metadata": {},
   "outputs": [],
   "source": []
  },
  {
   "cell_type": "code",
   "execution_count": 42,
   "metadata": {},
   "outputs": [],
   "source": [
    "from sklearn.tree import DecisionTreeClassifier\n",
    "classifier = DecisionTreeClassifier(criterion='entropy',random_state=0,max_depth=100,class_weight={0:.7,1:.3}, min_samples_leaf=15)\n",
    "classifier.fit(X_dtm_train,y_train)\n",
    "y_pred_tree = classifier.predict(X_dtm_test)"
   ]
  },
  {
   "cell_type": "code",
   "execution_count": null,
   "metadata": {},
   "outputs": [],
   "source": []
  },
  {
   "cell_type": "code",
   "execution_count": 43,
   "metadata": {},
   "outputs": [],
   "source": [
    "from sklearn.ensemble import RandomForestClassifier\n",
    "rand_classifer = RandomForestClassifier(n_estimators=10,criterion='entropy',random_state=0)\n",
    "rand_classifer.fit(X_dtm_train,y_train)\n",
    "y_pred_randforest = rand_classifer.predict(X_dtm_test)"
   ]
  },
  {
   "cell_type": "code",
   "execution_count": 49,
   "metadata": {},
   "outputs": [
    {
     "name": "stdout",
     "output_type": "stream",
     "text": [
      "SVM ACCURACY: 0.9391304347826087\n",
      "SVM CLASSIFIER CONFUSTION MATRIX: col_0      0  2   3\n",
      "Labelenc           \n",
      "0         32  0   3\n",
      "1          0  0   3\n",
      "2          0  5   0\n",
      "3          1  0  71\n",
      "===> **SVM F1 SCORE [0.94117647 0.         1.         0.95302013]\n",
      "===> **SVM Recall SCORE [0.91428571 0.         1.         0.98611111]\n",
      "===> **SVM Precision SCORE [0.96969697 0.         1.         0.92207792]\n",
      "##################################################################################################\n",
      "LogisticReg ACCURACY: 0.9391304347826087\n",
      "LogisticReg CLASSIFIER CONFUSTION MATRIX: [[32  0  0  3]\n",
      " [ 0  1  0  2]\n",
      " [ 0  0  5  0]\n",
      " [ 2  0  0 70]]\n",
      "===> **LogisticReg F1 SCORE [0.92753623 0.5        1.         0.95238095]\n",
      "===> **LogisticReg Recall SCORE [0.91428571 0.33333333 1.         0.97222222]\n",
      "===> **LogisticReg Precision SCORE [0.94117647 1.         1.         0.93333333]\n",
      "##################################################################################################\n",
      "NaiveBayes ACCURACY: 0.8608695652173913\n",
      "NaiveBayes CLASSIFIER CONFUSTION MATRIX: col_0      0   3\n",
      "Labelenc        \n",
      "0         27   8\n",
      "1          0   3\n",
      "2          5   0\n",
      "3          0  72\n",
      "===> **NaiveBayes F1 SCORE [0.80597015 0.         0.         0.92903226]\n",
      "===> **NaiveBayes Recall SCORE [0.77142857 0.         0.         1.        ]\n",
      "===> **NaiveBayes Precision SCORE [0.84375    0.         0.         0.86746988]\n",
      "##################################################################################################\n",
      "KNN ACCURACY: 0.9391304347826087\n",
      "KNN CLASSIFIER CONFUSTION MATRIX: col_0      0  1  2   3\n",
      "Labelenc              \n",
      "0         31  0  0   4\n",
      "1          0  2  0   1\n",
      "2          0  0  5   0\n",
      "3          2  0  0  70\n",
      "===> **KNN F1 SCORE [0.91176471 0.8        1.         0.95238095]\n",
      "===> **KNN Recall SCORE [0.88571429 0.66666667 1.         0.97222222]\n",
      "===> **KNN Precision SCORE [0.93939394 1.         1.         0.93333333]\n",
      "##################################################################################################\n",
      "Dtree ACCURACY: 0.9130434782608695\n",
      "Dtree CLASSIFIER CONFUSTION MATRIX: col_0      0  2   3\n",
      "Labelenc           \n",
      "0         32  0   3\n",
      "1          0  0   3\n",
      "2          0  5   0\n",
      "3          4  0  68\n",
      "===> **Dtree F1 SCORE [0.90140845 0.         1.         0.93150685]\n",
      "===> **Dtree Recall SCORE [0.91428571 0.         1.         0.94444444]\n",
      "===> **Dtree Precision SCORE [0.88888889 0.         1.         0.91891892]\n",
      "##################################################################################################\n",
      "RandForest ACCURACY: 0.9565217391304348\n",
      "RandForest CLASSIFIER CONFUSTION MATRIX: col_0      0  1  2   3\n",
      "Labelenc              \n",
      "0         33  0  0   2\n",
      "1          0  1  0   2\n",
      "2          0  0  5   0\n",
      "3          1  0  0  71\n",
      "===> **RandForest F1 SCORE [0.95652174 0.5        1.         0.96598639]\n",
      "===> **RandForest Recall SCORE [0.94285714 0.33333333 1.         0.98611111]\n",
      "===> **RandForest Precision SCORE [0.97058824 1.         1.         0.94666667]\n"
     ]
    },
    {
     "name": "stderr",
     "output_type": "stream",
     "text": [
      "C:\\Users\\madhan.s\\AppData\\Local\\Continuum\\anaconda3\\lib\\site-packages\\sklearn\\metrics\\classification.py:1135: UndefinedMetricWarning: F-score is ill-defined and being set to 0.0 in labels with no predicted samples.\n",
      "  'precision', 'predicted', average, warn_for)\n",
      "C:\\Users\\madhan.s\\AppData\\Local\\Continuum\\anaconda3\\lib\\site-packages\\sklearn\\metrics\\classification.py:1135: UndefinedMetricWarning: Precision is ill-defined and being set to 0.0 in labels with no predicted samples.\n",
      "  'precision', 'predicted', average, warn_for)\n",
      "C:\\Users\\madhan.s\\AppData\\Local\\Continuum\\anaconda3\\lib\\site-packages\\sklearn\\metrics\\classification.py:1135: UndefinedMetricWarning: F-score is ill-defined and being set to 0.0 in labels with no predicted samples.\n",
      "  'precision', 'predicted', average, warn_for)\n",
      "C:\\Users\\madhan.s\\AppData\\Local\\Continuum\\anaconda3\\lib\\site-packages\\sklearn\\metrics\\classification.py:1135: UndefinedMetricWarning: Precision is ill-defined and being set to 0.0 in labels with no predicted samples.\n",
      "  'precision', 'predicted', average, warn_for)\n",
      "C:\\Users\\madhan.s\\AppData\\Local\\Continuum\\anaconda3\\lib\\site-packages\\sklearn\\metrics\\classification.py:1135: UndefinedMetricWarning: F-score is ill-defined and being set to 0.0 in labels with no predicted samples.\n",
      "  'precision', 'predicted', average, warn_for)\n",
      "C:\\Users\\madhan.s\\AppData\\Local\\Continuum\\anaconda3\\lib\\site-packages\\sklearn\\metrics\\classification.py:1135: UndefinedMetricWarning: Precision is ill-defined and being set to 0.0 in labels with no predicted samples.\n",
      "  'precision', 'predicted', average, warn_for)\n"
     ]
    }
   ],
   "source": [
    "print(\"SVM ACCURACY:\",metrics.accuracy_score(y_test,y_pred_svm))\n",
    "print('SVM CLASSIFIER CONFUSTION MATRIX:',pd.crosstab(y_test,y_pred_svm))\n",
    "print(\"===> **SVM F1 SCORE\",metrics.f1_score(y_test, y_pred_svm,average=None))\n",
    "print(\"===> **SVM Recall SCORE\",metrics.recall_score(y_test, y_pred_svm,average=None))\n",
    "print(\"===> **SVM Precision SCORE\",metrics.precision_score(y_test, y_pred_svm,average=None))\n",
    "#print(\"===> **SVM ROC_AUC SCORE\",metrics.roc_auc_score(y_test, y_pred_svm,average=None))\n",
    "print(\"##################################################################################################\")\n",
    "print(\"LogisticReg ACCURACY:\",metrics.accuracy_score(y_test,y_pred_class_logreg))\n",
    "print('LogisticReg CLASSIFIER CONFUSTION MATRIX:',metrics.confusion_matrix(y_test,y_pred_class_logreg))\n",
    "print(\"===> **LogisticReg F1 SCORE\",metrics.f1_score(y_test, y_pred_class_logreg,average=None))\n",
    "print(\"===> **LogisticReg Recall SCORE\",metrics.recall_score(y_test, y_pred_class_logreg,average=None))\n",
    "print(\"===> **LogisticReg Precision SCORE\",metrics.precision_score(y_test, y_pred_class_logreg,average=None))\n",
    "#print(\"===> **LogisticReg ROC_AUC SCORE\",metrics.roc_auc_score(y_test, y_pred_class_logreg,average=None))\n",
    "print(\"##################################################################################################\")\n",
    "print(\"NaiveBayes ACCURACY:\",metrics.accuracy_score(y_test,y_pred_class_nb))\n",
    "print('NaiveBayes CLASSIFIER CONFUSTION MATRIX:',pd.crosstab(y_test,y_pred_class_nb))\n",
    "print(\"===> **NaiveBayes F1 SCORE\",metrics.f1_score(y_test, y_pred_class_nb,average=None))\n",
    "print(\"===> **NaiveBayes Recall SCORE\",metrics.recall_score(y_test, y_pred_class_nb,average=None))\n",
    "print(\"===> **NaiveBayes Precision SCORE\",metrics.precision_score(y_test, y_pred_class_nb,average=None))\n",
    "#print(\"===> **NaiveBayes ROC_AUC SCORE\",metrics.roc_auc_score(y_test, y_pred_class_nb,average=None))\n",
    "print(\"##################################################################################################\")\n",
    "print(\"KNN ACCURACY:\",metrics.accuracy_score(y_test,y_pred_class_knn))\n",
    "print('KNN CLASSIFIER CONFUSTION MATRIX:',pd.crosstab(y_test,y_pred_class_knn))\n",
    "print(\"===> **KNN F1 SCORE\",metrics.f1_score(y_test, y_pred_class_knn,average=None))\n",
    "print(\"===> **KNN Recall SCORE\",metrics.recall_score(y_test, y_pred_class_knn,average=None))\n",
    "print(\"===> **KNN Precision SCORE\",metrics.precision_score(y_test, y_pred_class_knn,average=None))\n",
    "#print(\"===> **KNN ROC_AUC SCORE\",metrics.roc_auc_score(y_test, y_pred_class_knn,average=None))\n",
    "print(\"##################################################################################################\")\n",
    "print(\"Dtree ACCURACY:\",metrics.accuracy_score(y_test,y_pred_tree))\n",
    "print('Dtree CLASSIFIER CONFUSTION MATRIX:',pd.crosstab(y_test,y_pred_tree))\n",
    "print(\"===> **Dtree F1 SCORE\",metrics.f1_score(y_test, y_pred_tree,average=None))\n",
    "print(\"===> **Dtree Recall SCORE\",metrics.recall_score(y_test, y_pred_tree,average=None))\n",
    "print(\"===> **Dtree Precision SCORE\",metrics.precision_score(y_test, y_pred_tree,average=None))\n",
    "#print(\"===> **Dtree ROC_AUC SCORE\",metrics.roc_auc_score(y_test, y_pred_tree,average=None))\n",
    "print(\"##################################################################################################\")\n",
    "print(\"RandForest ACCURACY:\",metrics.accuracy_score(y_test,y_pred_randforest))\n",
    "print('RandForest CLASSIFIER CONFUSTION MATRIX:',pd.crosstab(y_test,y_pred_randforest))\n",
    "print(\"===> **RandForest F1 SCORE\",metrics.f1_score(y_test, y_pred_randforest,average=None))\n",
    "print(\"===> **RandForest Recall SCORE\",metrics.recall_score(y_test, y_pred_randforest,average=None))\n",
    "print(\"===> **RandForest Precision SCORE\",metrics.precision_score(y_test, y_pred_randforest,average=None))\n",
    "#print(\"===> **RandForest ROC_AUC SCORE\",metrics.roc_auc_score(y_test, y_pred_randforest,average=None))"
   ]
  },
  {
   "cell_type": "code",
   "execution_count": 45,
   "metadata": {},
   "outputs": [],
   "source": [
    "from sklearn.ensemble import GradientBoostingClassifier\n",
    "gbcl = GradientBoostingClassifier(n_estimators = 50, learning_rate = 0.3, max_depth=10)\n",
    "gbcl = gbcl.fit(X_dtm_train, y_train)"
   ]
  },
  {
   "cell_type": "code",
   "execution_count": 46,
   "metadata": {},
   "outputs": [],
   "source": [
    "y_pred_gbcl = gbcl.predict(X_dtm_test)"
   ]
  },
  {
   "cell_type": "code",
   "execution_count": 47,
   "metadata": {},
   "outputs": [
    {
     "name": "stdout",
     "output_type": "stream",
     "text": [
      "GBC: ACCURACY: 0.9304347826086956\n",
      "GBC CLASSIFIER CONFUSTION MATRIX:%\n",
      " col_0      0  1  2   3\n",
      "Labelenc              \n",
      "0         31  0  0   4\n",
      "1          0  1  0   2\n",
      "2          1  0  4   0\n",
      "3          1  0  0  71\n",
      "===> **GBC F1 SCORE [0.91176471 0.5        0.88888889 0.95302013]\n",
      "===> **GBC Recall SCORE [0.88571429 0.33333333 0.8        0.98611111]\n",
      "===> **GBC Precision SCORE [0.93939394 1.         1.         0.92207792]\n"
     ]
    }
   ],
   "source": [
    "print(\"GBC: ACCURACY:\",metrics.accuracy_score(y_test,y_pred_gbcl))\n",
    "print('GBC CLASSIFIER CONFUSTION MATRIX:%\\n',pd.crosstab(y_test,y_pred_gbcl))\n",
    "print(\"===> **GBC F1 SCORE\",metrics.f1_score(y_test, y_pred_gbcl,average=None))\n",
    "print(\"===> **GBC Recall SCORE\",metrics.recall_score(y_test, y_pred_gbcl,average=None))\n",
    "print(\"===> **GBC Precision SCORE\",metrics.precision_score(y_test, y_pred_gbcl,average=None))\n",
    "#print(\"===> **GBC ROC_AUC SCORE\",metrics.roc_auc_score(y_test, y_pred_gbcl,average=None))"
   ]
  },
  {
   "cell_type": "code",
   "execution_count": 48,
   "metadata": {},
   "outputs": [],
   "source": [
    "import pickle\n"
   ]
  },
  {
   "cell_type": "code",
   "execution_count": 50,
   "metadata": {},
   "outputs": [],
   "source": [
    "randclass = 'rand_classifer.sav'"
   ]
  },
  {
   "cell_type": "code",
   "execution_count": 51,
   "metadata": {},
   "outputs": [],
   "source": [
    "pickle.dump(rand_classifer,open(randclass,'wb'))"
   ]
  },
  {
   "cell_type": "code",
   "execution_count": 53,
   "metadata": {},
   "outputs": [],
   "source": [
    "vectorizer_jtvp = 'tfidf_vec.pk'"
   ]
  },
  {
   "cell_type": "code",
   "execution_count": 54,
   "metadata": {},
   "outputs": [],
   "source": [
    "pickle.dump(tfidf_vec,open(vectorizer_jtvp,'wb'))"
   ]
  },
  {
   "cell_type": "code",
   "execution_count": 55,
   "metadata": {},
   "outputs": [],
   "source": [
    "#Randomfor = 'RandomForest_complainttext.sav'"
   ]
  },
  {
   "cell_type": "code",
   "execution_count": 56,
   "metadata": {},
   "outputs": [],
   "source": [
    "#pickle.dump(rand_classifer,open(Randomfor,'wb'))"
   ]
  },
  {
   "cell_type": "code",
   "execution_count": null,
   "metadata": {},
   "outputs": [],
   "source": []
  },
  {
   "cell_type": "code",
   "execution_count": null,
   "metadata": {},
   "outputs": [],
   "source": []
  }
 ],
 "metadata": {
  "kernelspec": {
   "display_name": "Python 3",
   "language": "python",
   "name": "python3"
  },
  "language_info": {
   "codemirror_mode": {
    "name": "ipython",
    "version": 3
   },
   "file_extension": ".py",
   "mimetype": "text/x-python",
   "name": "python",
   "nbconvert_exporter": "python",
   "pygments_lexer": "ipython3",
   "version": "3.6.5"
  }
 },
 "nbformat": 4,
 "nbformat_minor": 2
}
