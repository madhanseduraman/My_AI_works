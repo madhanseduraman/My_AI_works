{
 "cells": [
  {
   "cell_type": "code",
   "execution_count": 1,
   "metadata": {},
   "outputs": [
    {
     "name": "stderr",
     "output_type": "stream",
     "text": [
      "C:\\Users\\madhan.s\\AppData\\Roaming\\Python\\Python36\\site-packages\\gensim\\utils.py:1212: UserWarning: detected Windows; aliasing chunkize to chunkize_serial\n",
      "  warnings.warn(\"detected Windows; aliasing chunkize to chunkize_serial\")\n"
     ]
    }
   ],
   "source": [
    "import os\n",
    "import io\n",
    "import pandas as pd\n",
    "from gensim.summarization.summarizer import summarize"
   ]
  },
  {
   "cell_type": "code",
   "execution_count": 7,
   "metadata": {},
   "outputs": [],
   "source": [
    "path_ppt = r'C:\\Madhan\\Analytics\\Machine_Learning_project_work\\AI_ML\\Text_Summarization\\Discover\\files\\Energy'"
   ]
  },
  {
   "cell_type": "code",
   "execution_count": 8,
   "metadata": {},
   "outputs": [
    {
     "data": {
      "text/plain": [
       "'C:\\\\Madhan\\\\Analytics\\\\Machine_Learning_project_work\\\\AI_ML\\\\Text_Summarization\\\\Discover\\\\files\\\\Energy'"
      ]
     },
     "execution_count": 8,
     "metadata": {},
     "output_type": "execute_result"
    }
   ],
   "source": [
    "path_ppt"
   ]
  },
  {
   "cell_type": "markdown",
   "metadata": {},
   "source": [
    "Reading all PPT Files"
   ]
  },
  {
   "cell_type": "code",
   "execution_count": 9,
   "metadata": {},
   "outputs": [],
   "source": [
    "import pptx"
   ]
  },
  {
   "cell_type": "code",
   "execution_count": 10,
   "metadata": {},
   "outputs": [],
   "source": [
    "from pptx import Presentation\n",
    "import os\n",
    "import io\n",
    "import pandas as pd"
   ]
  },
  {
   "cell_type": "markdown",
   "metadata": {},
   "source": [
    "#### All_files - Titles extraction for 10 slides"
   ]
  },
  {
   "cell_type": "code",
   "execution_count": 11,
   "metadata": {},
   "outputs": [
    {
     "name": "stdout",
     "output_type": "stream",
     "text": [
      "------------------------------Completed tiles extraction for: EY Thought Leadership - MnA and Capital Raising 2018 Deck.pptx\n",
      "------------------------------Completed tiles extraction for: Meeting Decks - AMI Discussion.pptx\n",
      "------------------------------Completed tiles extraction for: Meeting decks - npower Breakout.pptx\n",
      "------------------------------Completed tiles extraction for: Meeting Decks - Transformation Business Case Benefits Categorisation.pptx\n",
      "------------------------------Completed tiles extraction for: Oral Presentations - Market Testing Services.pptx\n",
      "------------------------------Completed tiles extraction for: Proposal - Market Research Study for Suggesting Business Options.pptx\n",
      "------------------------------Completed tiles extraction for: Proposal - Storage Feasibility Future Application Potential.pptx\n",
      "------------------------------Completed tiles extraction for: Proposal - Storage Feasibility.pptx\n",
      "------------------------------Completed tiles extraction for: Reports - BAR_2011.09.21.v5_Final (scrubbed).pptx\n",
      "------------------------------Completed tiles extraction for: Reports - Billing and CRM Review - Workshop Pack.pptx\n",
      "------------------------------Completed tiles extraction for: Sector trends - PU Case Studies and Business Models.pptx\n",
      "------------------------------Completed tiles extraction for: Service Delivery - EAM Training Strategy_final.pptx\n",
      "------------------------------Completed tiles extraction for: Work products - Call Center Strategy Executive Deck.pptx\n",
      "------------------------------Completed tiles extraction for: Work products - Gas AMI Alternatives Assessment.pptx\n",
      "------------------------------Completed tiles extraction for: Work products - VAT Impact Assessment Roadmap.pptx\n",
      "------------------------------Completed tiles extraction for: Work produts - Asset Management Market Intelligence Report.pptx\n"
     ]
    }
   ],
   "source": [
    "slide_titles = []\n",
    "titles = pd.DataFrame()\n",
    "filename = []\n",
    "for file in os.listdir(path_ppt):\n",
    "    if file.endswith(\".pptx\"):\n",
    "        ppt = Presentation(os.path.join(path_ppt,file))\n",
    "        #print(file)\n",
    "        slides = ppt.slides\n",
    "        count = len(slides)\n",
    "        filename.append(file)\n",
    "        for slide in slides:\n",
    "            slide_num = slides.index(slide)+1\n",
    "            if slide_num <= 10:\n",
    "                title = slide.shapes.title\n",
    "                if title:\n",
    "                    titles = title.text\n",
    "                    slide_titles.append(titles)\n",
    "                    with open(\"title_output_\" + str(file) + \".txt\", 'w', encoding = 'utf-8') as w:\n",
    "                        w.write(\"This presentation covers topics related to ..........\")\n",
    "                        for title in slide_titles:\n",
    "                            w.writelines(\"%s\\n\" % title)\n",
    "        slide_titles.clear()\n",
    "        print(\"------------------------------Completed tiles extraction for:\",file)"
   ]
  },
  {
   "cell_type": "code",
   "execution_count": 64,
   "metadata": {},
   "outputs": [],
   "source": [
    "titles = []\n",
    "for file in os.listdir():\n",
    "    if file.startswith(\"title_output\"):\n",
    "        with open(file,\"r\",encoding='utf-8') as text_file:\n",
    "            text = text_file.read()\n",
    "            content  = text\n",
    "            line = content.split('\\n')\n",
    "            #print(line)\n",
    "            titles.append(content)"
   ]
  },
  {
   "cell_type": "code",
   "execution_count": 66,
   "metadata": {},
   "outputs": [],
   "source": [
    "df_title = pd.DataFrame(titles)"
   ]
  },
  {
   "cell_type": "code",
   "execution_count": 67,
   "metadata": {},
   "outputs": [],
   "source": [
    "df_title.rename(columns={0:'title'},inplace=True)"
   ]
  },
  {
   "cell_type": "markdown",
   "metadata": {},
   "source": [
    "### Extracting text from 1st five slides for creating summaries"
   ]
  },
  {
   "cell_type": "code",
   "execution_count": 69,
   "metadata": {},
   "outputs": [],
   "source": [
    "import re"
   ]
  },
  {
   "cell_type": "code",
   "execution_count": 70,
   "metadata": {},
   "outputs": [
    {
     "name": "stdout",
     "output_type": "stream",
     "text": [
      "-----------Extracting text from 1st five slides for creating summaries--------------\n"
     ]
    }
   ],
   "source": [
    "print(\"-----------Extracting text from 1st five slides for creating summaries--------------\")"
   ]
  },
  {
   "cell_type": "code",
   "execution_count": 71,
   "metadata": {},
   "outputs": [],
   "source": [
    "slide_text = []\n",
    "file_name = []\n",
    "slide_text_3 = []\n",
    "for file in os.listdir(path_ppt):\n",
    "    if file.endswith(\".pptx\"):\n",
    "        ppt = Presentation(os.path.join(path_ppt,file))\n",
    "        #print(file)\n",
    "        slides = ppt.slides\n",
    "        count = len(slides)\n",
    "        #slide_titles.append(file)\n",
    "        for slide in slides:\n",
    "            slide_num = slides.index(slide)+1\n",
    "            if slide_num <= 5:\n",
    "                for shape in slide.shapes:\n",
    "                    if shape.has_text_frame:\n",
    "                        sent_text = shape.text\n",
    "                        slide_t = ''.join(sent_text)\n",
    "                        slide_text.append(slide_t)\n",
    "                    #exec_summ = re.findall(r\"executive summary\\n.+\\n.+\\n.+\",slide_t.lower())\n",
    "                        #print(exec_summ)\n",
    "                    with open('sentences_5_output_' + str(file)+ '.txt', 'w',encoding='utf-8') as f:\n",
    "                        for item in slide_text:\n",
    "                            f.write(\"%s\\n\" % item)\n",
    "        slide_text.clear()\n",
    "        slide_text_3.clear()\n",
    "                    #slide_titles.append(titles)\n",
    "                    #print(titles)"
   ]
  },
  {
   "cell_type": "markdown",
   "metadata": {},
   "source": [
    "### Extract Gensim Summarization for 5 sentences"
   ]
  },
  {
   "cell_type": "code",
   "execution_count": 72,
   "metadata": {},
   "outputs": [],
   "source": [
    "exec_summ = []\n",
    "sent_extraction = []\n",
    "file_name = []\n",
    "for file in os.listdir():\n",
    "    if file.startswith(\"sentences_5_output\"):\n",
    "        #execu_summ = []\n",
    "        #sent_extraction = []\n",
    "        with open(file,\"r\",encoding='utf-8') as text_file:\n",
    "            text = text_file.read()\n",
    "            content  = text\n",
    "            #print(content)\n",
    "            exec_summ = re.findall(r\"executive summary\\n.+\\n.+\\n\",content.lower())\n",
    "            #print(exec_summ)\n",
    "            sentence_extraction = summarize(content,word_count=75)\n",
    "            exec_summ.append(exec_summ)\n",
    "            sent_extraction.append(sentence_extraction)   \n",
    "            file_name.append(file)"
   ]
  },
  {
   "cell_type": "code",
   "execution_count": 73,
   "metadata": {},
   "outputs": [
    {
     "name": "stdout",
     "output_type": "stream",
     "text": [
      "created summary for the file------------ sentences_5_output_Asean Digital Seminars - Tax Technology and Transformation.pptx.txt\n",
      "created summary for the file------------ sentences_5_output_EY EMEIA FS TP Seminar 2017.pptx.txt\n",
      "created summary for the file------------ sentences_5_output_FB_Monitor_deckwithcharts.pptx.txt\n",
      "created summary for the file------------ sentences_5_output_GDAS Demo Talk Track Version 7.pptx.txt\n",
      "created summary for the file------------ sentences_5_output_Healthcare Best Practice Leadership and Organisation Models.pptx.txt\n",
      "created summary for the file------------ sentences_5_output_Introduction to Digital Tax Administration.pptx.txt\n",
      "created summary for the file------------ sentences_5_output_Legal Regulatory - PE Tax Planning for Carried Interest Legislation-internal webcast slides.pptx.txt\n",
      "created summary for the file------------ sentences_5_output_One Global Transfer Pricing Documentation Approach.pptx.txt\n",
      "created summary for the file------------ sentences_5_output_Pursuits - EY VAT Reporting Solution.pptx.txt\n",
      "created summary for the file------------ sentences_5_output_Pursuits - Proposal - Change Management Orientation for Change Champions.pptx.txt\n",
      "created summary for the file------------ sentences_5_output_Sanitized technology company Ukraine Tax ACR engagement cred.pptx.txt\n",
      "created summary for the file------------ sentences_5_output_TAAF Platform Deck.pptx.txt\n",
      "created summary for the file------------ sentences_5_output_Talent Toolkit - Total Rewards and Recognition.pptx.txt\n",
      "created summary for the file------------ sentences_5_output_TTT Case Studies Compilation.pptx.txt\n",
      "created summary for the file------------ sentences_5_output_Writing skills.pptx.txt\n"
     ]
    }
   ],
   "source": [
    "for file in os.listdir():\n",
    "    if file.startswith(\"sentences_5_output\"):\n",
    "        with open(file,\"r\",encoding='utf-8') as text_file:\n",
    "            text = text_file.read()\n",
    "            content  = text.strip()\n",
    "            sentence_extraction = summarize(content,word_count=75)\n",
    "            print(\"created summary for the file------------\",file)\n",
    "            with open('summary_output_' + str(file)+ '.txt', 'a',encoding='utf-8') as f:\n",
    "                f.write(\"summarized sentences........\\n%s\\n\" % sentence_extraction)"
   ]
  },
  {
   "cell_type": "markdown",
   "metadata": {},
   "source": [
    "### Extracting Executive_Summary\n",
    "\n"
   ]
  },
  {
   "cell_type": "code",
   "execution_count": 84,
   "metadata": {},
   "outputs": [
    {
     "name": "stdout",
     "output_type": "stream",
     "text": [
      "Pursuit - Procurement Functional Review .pptx\n",
      "SMP_Sales Effectiveness Framework 10132012 v4.pptx\n"
     ]
    }
   ],
   "source": [
    "slide_titles = []\n",
    "exec_summ = []\n",
    "filename = []\n",
    "for file in os.listdir(path_ppt):\n",
    "    if file.endswith(\".pptx\"):\n",
    "        ppt = Presentation(os.path.join(path_ppt,file))\n",
    "        slides = ppt.slides\n",
    "        count = len(slides)\n",
    "        for slide in slides:\n",
    "            slide_num = slides.index(slide)+1\n",
    "            title = slide.shapes.title\n",
    "            if title:\n",
    "                titles = title.text\n",
    "                titles = titles.lower()\n",
    "                if 'executive summary' in titles:\n",
    "                    print(file)\n",
    "                    for shape in slide.shapes:\n",
    "                        if shape.has_text_frame:\n",
    "                            text = shape.text\n",
    "                            exec_summ.append(text)\n",
    "                            #print(exec_summ)\n",
    "                            with open('execsumm_' + str(file)+ '.txt', 'w',encoding='utf-8') as f:\n",
    "                                for ex in exec_summ:\n",
    "                                    f.write(\"%s\\n\" % ex)\n",
    "                exec_summ.clear()"
   ]
  },
  {
   "cell_type": "code",
   "execution_count": null,
   "metadata": {},
   "outputs": [],
   "source": []
  },
  {
   "cell_type": "code",
   "execution_count": 75,
   "metadata": {},
   "outputs": [],
   "source": [
    "df_name = pd.DataFrame(file_name)\n",
    "df_name.rename(columns={0:'file'},inplace=True)"
   ]
  },
  {
   "cell_type": "code",
   "execution_count": 76,
   "metadata": {},
   "outputs": [],
   "source": [
    "df_sent = pd.DataFrame(sent_extraction)\n",
    "df_sent.rename(columns={0:'sentences'},inplace=True)"
   ]
  },
  {
   "cell_type": "code",
   "execution_count": 77,
   "metadata": {},
   "outputs": [],
   "source": [
    "df = pd.concat([df_name,df_sent],axis=1)"
   ]
  },
  {
   "cell_type": "code",
   "execution_count": 78,
   "metadata": {},
   "outputs": [],
   "source": [
    "df_output = pd.concat([df,df_title],axis=1)"
   ]
  },
  {
   "cell_type": "code",
   "execution_count": 79,
   "metadata": {},
   "outputs": [
    {
     "data": {
      "text/html": [
       "<div>\n",
       "<style scoped>\n",
       "    .dataframe tbody tr th:only-of-type {\n",
       "        vertical-align: middle;\n",
       "    }\n",
       "\n",
       "    .dataframe tbody tr th {\n",
       "        vertical-align: top;\n",
       "    }\n",
       "\n",
       "    .dataframe thead th {\n",
       "        text-align: right;\n",
       "    }\n",
       "</style>\n",
       "<table border=\"1\" class=\"dataframe\">\n",
       "  <thead>\n",
       "    <tr style=\"text-align: right;\">\n",
       "      <th></th>\n",
       "      <th>file</th>\n",
       "      <th>sentences</th>\n",
       "      <th>title</th>\n",
       "    </tr>\n",
       "  </thead>\n",
       "  <tbody>\n",
       "    <tr>\n",
       "      <th>0</th>\n",
       "      <td>sentences_5_output_Asean Digital Seminars - Ta...</td>\n",
       "      <td>Tax authorities are going digital, focusing on...</td>\n",
       "      <td>This presentation covers topics related to ......</td>\n",
       "    </tr>\n",
       "    <tr>\n",
       "      <th>1</th>\n",
       "      <td>sentences_5_output_EY EMEIA FS TP Seminar 2017...</td>\n",
       "      <td>EMEIA Financial Services           Transfer Pr...</td>\n",
       "      <td>This presentation covers topics related to ......</td>\n",
       "    </tr>\n",
       "    <tr>\n",
       "      <th>2</th>\n",
       "      <td>sentences_5_output_FB_Monitor_deckwithcharts.p...</td>\n",
       "      <td>Charts and graphics\\nContinuation of business ...</td>\n",
       "      <td>This presentation covers topics related to ......</td>\n",
       "    </tr>\n",
       "    <tr>\n",
       "      <th>3</th>\n",
       "      <td>sentences_5_output_GDAS Demo Talk Track Versio...</td>\n",
       "      <td>Our GDAS reporting packages allow you to proac...</td>\n",
       "      <td>This presentation covers topics related to ......</td>\n",
       "    </tr>\n",
       "    <tr>\n",
       "      <th>4</th>\n",
       "      <td>sentences_5_output_Healthcare Best Practice Le...</td>\n",
       "      <td>..How to remain relevant to patients, improve ...</td>\n",
       "      <td>This presentation covers topics related to ......</td>\n",
       "    </tr>\n",
       "  </tbody>\n",
       "</table>\n",
       "</div>"
      ],
      "text/plain": [
       "                                                file  \\\n",
       "0  sentences_5_output_Asean Digital Seminars - Ta...   \n",
       "1  sentences_5_output_EY EMEIA FS TP Seminar 2017...   \n",
       "2  sentences_5_output_FB_Monitor_deckwithcharts.p...   \n",
       "3  sentences_5_output_GDAS Demo Talk Track Versio...   \n",
       "4  sentences_5_output_Healthcare Best Practice Le...   \n",
       "\n",
       "                                           sentences  \\\n",
       "0  Tax authorities are going digital, focusing on...   \n",
       "1  EMEIA Financial Services           Transfer Pr...   \n",
       "2  Charts and graphics\\nContinuation of business ...   \n",
       "3  Our GDAS reporting packages allow you to proac...   \n",
       "4  ..How to remain relevant to patients, improve ...   \n",
       "\n",
       "                                               title  \n",
       "0  This presentation covers topics related to ......  \n",
       "1  This presentation covers topics related to ......  \n",
       "2  This presentation covers topics related to ......  \n",
       "3  This presentation covers topics related to ......  \n",
       "4  This presentation covers topics related to ......  "
      ]
     },
     "execution_count": 79,
     "metadata": {},
     "output_type": "execute_result"
    }
   ],
   "source": [
    "df_output.head()"
   ]
  },
  {
   "cell_type": "markdown",
   "metadata": {},
   "source": [
    "### Output Summarized Output to CSV"
   ]
  },
  {
   "cell_type": "code",
   "execution_count": 160,
   "metadata": {},
   "outputs": [],
   "source": [
    "df_output.to_csv(r'C:\\Users\\madhan.s\\Desktop\\summ\\summarized_sentences.csv')"
   ]
  },
  {
   "cell_type": "code",
   "execution_count": null,
   "metadata": {},
   "outputs": [],
   "source": []
  }
 ],
 "metadata": {
  "kernelspec": {
   "display_name": "Python 3",
   "language": "python",
   "name": "python3"
  },
  "language_info": {
   "codemirror_mode": {
    "name": "ipython",
    "version": 3
   },
   "file_extension": ".py",
   "mimetype": "text/x-python",
   "name": "python",
   "nbconvert_exporter": "python",
   "pygments_lexer": "ipython3",
   "version": "3.6.5"
  }
 },
 "nbformat": 4,
 "nbformat_minor": 2
}
