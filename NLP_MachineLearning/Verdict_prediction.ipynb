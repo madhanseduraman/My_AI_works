{
 "cells": [
  {
   "cell_type": "code",
   "execution_count": 1,
   "metadata": {},
   "outputs": [],
   "source": [
    "import pandas as pd\n",
    "\n",
    "import numpy as np\n",
    "\n",
    "from sklearn.feature_extraction.text import TfidfVectorizer\n",
    "from sklearn.linear_model import LogisticRegression\n",
    "from sklearn import preprocessing\n",
    "from sklearn.model_selection import train_test_split\n",
    "\n",
    "from sklearn.naive_bayes import MultinomialNB\n",
    "from sklearn.ensemble import RandomForestClassifier\n",
    "from sklearn.svm import LinearSVC\n",
    "from sklearn.model_selection import cross_val_score\n",
    "\n",
    "import matplotlib.pyplot as plt   \n",
    "import matplotlib.style\n",
    "plt.style.use('classic')\n",
    "\n",
    "#importing seaborn for statistical plots\n",
    "import seaborn as sns\n",
    "import sklearn.metrics as metrics\n",
    "from nltk.stem import WordNetLemmatizer\n",
    "from nltk.corpus import stopwords\n"
   ]
  },
  {
   "cell_type": "code",
   "execution_count": 2,
   "metadata": {},
   "outputs": [],
   "source": [
    "path = r'C:\\Madhan\\Analytics\\Machine_Learning_project_work\\Great_Lakes_AIML\\Capstone\\consumer-court-models\\src\\Data\\m2-gl-models'"
   ]
  },
  {
   "cell_type": "code",
   "execution_count": 3,
   "metadata": {},
   "outputs": [],
   "source": [
    "df = pd.read_csv(path+'\\m2_Data_2019-03-29_15-26-56_wordified_with_state.csv')"
   ]
  },
  {
   "cell_type": "code",
   "execution_count": 4,
   "metadata": {},
   "outputs": [
    {
     "data": {
      "text/html": [
       "<div>\n",
       "<style scoped>\n",
       "    .dataframe tbody tr th:only-of-type {\n",
       "        vertical-align: middle;\n",
       "    }\n",
       "\n",
       "    .dataframe tbody tr th {\n",
       "        vertical-align: top;\n",
       "    }\n",
       "\n",
       "    .dataframe thead th {\n",
       "        text-align: right;\n",
       "    }\n",
       "</style>\n",
       "<table border=\"1\" class=\"dataframe\">\n",
       "  <thead>\n",
       "    <tr style=\"text-align: right;\">\n",
       "      <th></th>\n",
       "      <th>index</th>\n",
       "      <th>HTML_File_Name</th>\n",
       "      <th>Complaint_Text</th>\n",
       "      <th>Verdict</th>\n",
       "      <th>State</th>\n",
       "    </tr>\n",
       "  </thead>\n",
       "  <tbody>\n",
       "    <tr>\n",
       "      <th>0</th>\n",
       "      <td>0</td>\n",
       "      <td>Delhi-CC_361_2018-2018-04-17.html</td>\n",
       "      <td>CC_DELHI complainant come forward allegation a...</td>\n",
       "      <td>Dismissed</td>\n",
       "      <td>Delhi</td>\n",
       "    </tr>\n",
       "    <tr>\n",
       "      <th>1</th>\n",
       "      <td>1</td>\n",
       "      <td>Delhi-CC_352_2017-2017-04-17.html</td>\n",
       "      <td>CC_DELHI shri vimal kumar chandna filed compla...</td>\n",
       "      <td>Dismissed</td>\n",
       "      <td>Delhi</td>\n",
       "    </tr>\n",
       "    <tr>\n",
       "      <th>2</th>\n",
       "      <td>2</td>\n",
       "      <td>Delhi-CC_13_504-2017-03-14.html</td>\n",
       "      <td>CC_DELHI case complainant booked apartment vri...</td>\n",
       "      <td>Dismissed</td>\n",
       "      <td>Delhi</td>\n",
       "    </tr>\n",
       "    <tr>\n",
       "      <th>3</th>\n",
       "      <td>3</td>\n",
       "      <td>Delhi-CC_143_2017-2017-02-20.html</td>\n",
       "      <td>CC_DELHI sh. subrata kumar dash smt. subita da...</td>\n",
       "      <td>Dismissed</td>\n",
       "      <td>Delhi</td>\n",
       "    </tr>\n",
       "    <tr>\n",
       "      <th>4</th>\n",
       "      <td>4</td>\n",
       "      <td>Delhi-CC_245_2015-2018-07-09.html</td>\n",
       "      <td>CC_DELHI sh. dharmendra singh, resident loni, ...</td>\n",
       "      <td>Won</td>\n",
       "      <td>Delhi</td>\n",
       "    </tr>\n",
       "  </tbody>\n",
       "</table>\n",
       "</div>"
      ],
      "text/plain": [
       "   index                     HTML_File_Name  \\\n",
       "0      0  Delhi-CC_361_2018-2018-04-17.html   \n",
       "1      1  Delhi-CC_352_2017-2017-04-17.html   \n",
       "2      2    Delhi-CC_13_504-2017-03-14.html   \n",
       "3      3  Delhi-CC_143_2017-2017-02-20.html   \n",
       "4      4  Delhi-CC_245_2015-2018-07-09.html   \n",
       "\n",
       "                                      Complaint_Text    Verdict  State  \n",
       "0  CC_DELHI complainant come forward allegation a...  Dismissed  Delhi  \n",
       "1  CC_DELHI shri vimal kumar chandna filed compla...  Dismissed  Delhi  \n",
       "2  CC_DELHI case complainant booked apartment vri...  Dismissed  Delhi  \n",
       "3  CC_DELHI sh. subrata kumar dash smt. subita da...  Dismissed  Delhi  \n",
       "4  CC_DELHI sh. dharmendra singh, resident loni, ...        Won  Delhi  "
      ]
     },
     "execution_count": 4,
     "metadata": {},
     "output_type": "execute_result"
    }
   ],
   "source": [
    "df.head()"
   ]
  },
  {
   "cell_type": "code",
   "execution_count": 5,
   "metadata": {},
   "outputs": [
    {
     "data": {
      "text/plain": [
       "(2120, 5)"
      ]
     },
     "execution_count": 5,
     "metadata": {},
     "output_type": "execute_result"
    }
   ],
   "source": [
    "df.shape"
   ]
  },
  {
   "cell_type": "code",
   "execution_count": 6,
   "metadata": {},
   "outputs": [
    {
     "data": {
      "text/plain": [
       "Won              1374\n",
       "Dismissed         414\n",
       "Partially Won     289\n",
       "Transferred        24\n",
       "Settled            14\n",
       "Withdrawn           5\n",
       "Name: Verdict, dtype: int64"
      ]
     },
     "execution_count": 6,
     "metadata": {},
     "output_type": "execute_result"
    }
   ],
   "source": [
    "df.Verdict.value_counts()"
   ]
  },
  {
   "cell_type": "code",
   "execution_count": null,
   "metadata": {},
   "outputs": [],
   "source": []
  },
  {
   "cell_type": "code",
   "execution_count": 7,
   "metadata": {},
   "outputs": [],
   "source": [
    "df = df.loc[(df['Verdict'] == 'Won') | (df['Verdict'] == 'Dismissed') | (df['Verdict'] == 'Partially Won')]"
   ]
  },
  {
   "cell_type": "code",
   "execution_count": 8,
   "metadata": {},
   "outputs": [
    {
     "data": {
      "text/plain": [
       "Won              1374\n",
       "Dismissed         414\n",
       "Partially Won     289\n",
       "Name: Verdict, dtype: int64"
      ]
     },
     "execution_count": 8,
     "metadata": {},
     "output_type": "execute_result"
    }
   ],
   "source": [
    "df.Verdict.value_counts()"
   ]
  },
  {
   "cell_type": "code",
   "execution_count": 9,
   "metadata": {},
   "outputs": [],
   "source": [
    "df.Verdict.replace(['Partially Won'], ['Won'], inplace=True)"
   ]
  },
  {
   "cell_type": "code",
   "execution_count": 10,
   "metadata": {},
   "outputs": [
    {
     "data": {
      "text/plain": [
       "(2077, 5)"
      ]
     },
     "execution_count": 10,
     "metadata": {},
     "output_type": "execute_result"
    }
   ],
   "source": [
    "df.shape"
   ]
  },
  {
   "cell_type": "code",
   "execution_count": 11,
   "metadata": {},
   "outputs": [
    {
     "data": {
      "text/plain": [
       "Won          1663\n",
       "Dismissed     414\n",
       "Name: Verdict, dtype: int64"
      ]
     },
     "execution_count": 11,
     "metadata": {},
     "output_type": "execute_result"
    }
   ],
   "source": [
    "df.Verdict.value_counts()"
   ]
  },
  {
   "cell_type": "code",
   "execution_count": 12,
   "metadata": {},
   "outputs": [
    {
     "data": {
      "text/plain": [
       "NCDRC           556\n",
       "Chandigarh      490\n",
       "West_Bengal     478\n",
       "Delhi           324\n",
       "Telangana       220\n",
       "Chhattisgarh      7\n",
       "Maharashtra       2\n",
       "Name: State, dtype: int64"
      ]
     },
     "execution_count": 12,
     "metadata": {},
     "output_type": "execute_result"
    }
   ],
   "source": [
    "df.State.value_counts()"
   ]
  },
  {
   "cell_type": "markdown",
   "metadata": {},
   "source": [
    "### Summaries"
   ]
  },
  {
   "cell_type": "markdown",
   "metadata": {},
   "source": [
    "NCRDC"
   ]
  },
  {
   "cell_type": "code",
   "execution_count": 13,
   "metadata": {},
   "outputs": [
    {
     "name": "stdout",
     "output_type": "stream",
     "text": [
      "              NCDRC\n",
      "Won        0.816547\n",
      "Dismissed  0.183453\n"
     ]
    }
   ],
   "source": [
    "Ncrdc_summ = df.loc[df['State'] == 'NCDRC'].Verdict.value_counts(normalize=True)\n",
    "Ncdrc_summ_pd = pd.DataFrame(Ncrdc_summ)\n",
    "Ncdrc_summ_pd = Ncdrc_summ_pd.rename(columns={'Verdict':'NCDRC'})\n",
    "print(Ncdrc_summ_pd)"
   ]
  },
  {
   "cell_type": "markdown",
   "metadata": {},
   "source": [
    "Chandigarh"
   ]
  },
  {
   "cell_type": "code",
   "execution_count": 14,
   "metadata": {},
   "outputs": [
    {
     "name": "stdout",
     "output_type": "stream",
     "text": [
      "              Chand\n",
      "Won        0.944898\n",
      "Dismissed  0.055102\n"
     ]
    }
   ],
   "source": [
    "Chand_summ = df.loc[df['State'] == 'Chandigarh'].Verdict.value_counts(normalize=True)\n",
    "Chand_summ_pd = pd.DataFrame(Chand_summ)\n",
    "Chand_summ_pd = Chand_summ_pd.rename(columns={'Verdict':'Chand'})\n",
    "print(Chand_summ_pd)"
   ]
  },
  {
   "cell_type": "markdown",
   "metadata": {},
   "source": [
    "West Bengal"
   ]
  },
  {
   "cell_type": "code",
   "execution_count": 15,
   "metadata": {},
   "outputs": [
    {
     "name": "stdout",
     "output_type": "stream",
     "text": [
      "                 WB\n",
      "Won        0.805439\n",
      "Dismissed  0.194561\n"
     ]
    }
   ],
   "source": [
    "wb_summ = df.loc[df['State'] == 'West_Bengal'].Verdict.value_counts(normalize=True)\n",
    "wb_summ_pd = pd.DataFrame(wb_summ)\n",
    "wb_summ_pd = wb_summ_pd.rename(columns={'Verdict':'WB'})\n",
    "print(wb_summ_pd)"
   ]
  },
  {
   "cell_type": "markdown",
   "metadata": {},
   "source": [
    "Delhi"
   ]
  },
  {
   "cell_type": "code",
   "execution_count": 16,
   "metadata": {},
   "outputs": [
    {
     "name": "stdout",
     "output_type": "stream",
     "text": [
      "              Delhi\n",
      "Dismissed  0.533951\n",
      "Won        0.466049\n"
     ]
    }
   ],
   "source": [
    "Del_summ = df.loc[df['State'] == 'Delhi'].Verdict.value_counts(normalize=True)\n",
    "Del_summ_pd = pd.DataFrame(Del_summ)\n",
    "Del_summ_pd = Del_summ_pd.rename(columns={'Verdict':'Delhi'})\n",
    "print(Del_summ_pd)"
   ]
  },
  {
   "cell_type": "markdown",
   "metadata": {},
   "source": [
    "Telan"
   ]
  },
  {
   "cell_type": "code",
   "execution_count": 17,
   "metadata": {},
   "outputs": [
    {
     "name": "stdout",
     "output_type": "stream",
     "text": [
      "           Telangana\n",
      "Won         0.936364\n",
      "Dismissed   0.063636\n"
     ]
    }
   ],
   "source": [
    "Telang_summ = df.loc[df['State'] == 'Telangana'].Verdict.value_counts(normalize=True)\n",
    "Telg_summ_pd = pd.DataFrame(Telang_summ)\n",
    "Telg_summ_pd = Telg_summ_pd.rename(columns={'Verdict':'Telangana'})\n",
    "print(Telg_summ_pd)"
   ]
  },
  {
   "cell_type": "code",
   "execution_count": 18,
   "metadata": {},
   "outputs": [
    {
     "name": "stdout",
     "output_type": "stream",
     "text": [
      "            Chattis\n",
      "Dismissed  0.571429\n",
      "Won        0.428571\n"
     ]
    }
   ],
   "source": [
    "Chhat_summ = df.loc[df['State'] == 'Chhattisgarh'].Verdict.value_counts(normalize=True)\n",
    "Chhat_summ_pd = pd.DataFrame(Chhat_summ)\n",
    "Chhat_summ_pd = Chhat_summ_pd.rename(columns={'Verdict':'Chattis'})\n",
    "print(Chhat_summ_pd)"
   ]
  },
  {
   "cell_type": "code",
   "execution_count": 19,
   "metadata": {},
   "outputs": [
    {
     "name": "stdout",
     "output_type": "stream",
     "text": [
      "           Maha\n",
      "Won         0.5\n",
      "Dismissed   0.5\n"
     ]
    }
   ],
   "source": [
    "Maha_summ = df.loc[df['State'] == 'Maharashtra'].Verdict.value_counts(normalize=True)\n",
    "Maha_summ_pd = pd.DataFrame(Maha_summ)\n",
    "Maha_summ_pd = Maha_summ_pd.rename(columns=({'Verdict':'Maha'}))\n",
    "print(Maha_summ_pd)"
   ]
  },
  {
   "cell_type": "code",
   "execution_count": 20,
   "metadata": {},
   "outputs": [
    {
     "name": "stderr",
     "output_type": "stream",
     "text": [
      "C:\\Users\\madhan.s\\AppData\\Local\\Continuum\\anaconda3\\lib\\site-packages\\ipykernel_launcher.py:1: FutureWarning: Sorting because non-concatenation axis is not aligned. A future version\n",
      "of pandas will change to not sort by default.\n",
      "\n",
      "To accept the future behavior, pass 'sort=False'.\n",
      "\n",
      "To retain the current behavior and silence the warning, pass 'sort=True'.\n",
      "\n",
      "  \"\"\"Entry point for launching an IPython kernel.\n"
     ]
    }
   ],
   "source": [
    "summaries = pd.concat([Ncdrc_summ_pd,Chand_summ_pd,wb_summ_pd,Del_summ_pd,Telg_summ_pd,Chhat_summ_pd,Maha_summ_pd],axis=1)"
   ]
  },
  {
   "cell_type": "code",
   "execution_count": 21,
   "metadata": {},
   "outputs": [],
   "source": [
    "summaries = summaries.transpose()"
   ]
  },
  {
   "cell_type": "code",
   "execution_count": 22,
   "metadata": {},
   "outputs": [
    {
     "data": {
      "text/plain": [
       "Index(['Dismissed', 'Won'], dtype='object')"
      ]
     },
     "execution_count": 22,
     "metadata": {},
     "output_type": "execute_result"
    }
   ],
   "source": [
    "summaries.columns"
   ]
  },
  {
   "cell_type": "code",
   "execution_count": 23,
   "metadata": {},
   "outputs": [
    {
     "data": {
      "text/html": [
       "<div>\n",
       "<style scoped>\n",
       "    .dataframe tbody tr th:only-of-type {\n",
       "        vertical-align: middle;\n",
       "    }\n",
       "\n",
       "    .dataframe tbody tr th {\n",
       "        vertical-align: top;\n",
       "    }\n",
       "\n",
       "    .dataframe thead th {\n",
       "        text-align: right;\n",
       "    }\n",
       "</style>\n",
       "<table border=\"1\" class=\"dataframe\">\n",
       "  <thead>\n",
       "    <tr style=\"text-align: right;\">\n",
       "      <th></th>\n",
       "      <th>Dismissed</th>\n",
       "      <th>Won</th>\n",
       "    </tr>\n",
       "  </thead>\n",
       "  <tbody>\n",
       "    <tr>\n",
       "      <th>NCDRC</th>\n",
       "      <td>0.183453</td>\n",
       "      <td>0.816547</td>\n",
       "    </tr>\n",
       "    <tr>\n",
       "      <th>Chand</th>\n",
       "      <td>0.055102</td>\n",
       "      <td>0.944898</td>\n",
       "    </tr>\n",
       "    <tr>\n",
       "      <th>WB</th>\n",
       "      <td>0.194561</td>\n",
       "      <td>0.805439</td>\n",
       "    </tr>\n",
       "    <tr>\n",
       "      <th>Delhi</th>\n",
       "      <td>0.533951</td>\n",
       "      <td>0.466049</td>\n",
       "    </tr>\n",
       "    <tr>\n",
       "      <th>Telangana</th>\n",
       "      <td>0.063636</td>\n",
       "      <td>0.936364</td>\n",
       "    </tr>\n",
       "    <tr>\n",
       "      <th>Chattis</th>\n",
       "      <td>0.571429</td>\n",
       "      <td>0.428571</td>\n",
       "    </tr>\n",
       "    <tr>\n",
       "      <th>Maha</th>\n",
       "      <td>0.500000</td>\n",
       "      <td>0.500000</td>\n",
       "    </tr>\n",
       "  </tbody>\n",
       "</table>\n",
       "</div>"
      ],
      "text/plain": [
       "           Dismissed       Won\n",
       "NCDRC       0.183453  0.816547\n",
       "Chand       0.055102  0.944898\n",
       "WB          0.194561  0.805439\n",
       "Delhi       0.533951  0.466049\n",
       "Telangana   0.063636  0.936364\n",
       "Chattis     0.571429  0.428571\n",
       "Maha        0.500000  0.500000"
      ]
     },
     "execution_count": 23,
     "metadata": {},
     "output_type": "execute_result"
    }
   ],
   "source": [
    "summaries"
   ]
  },
  {
   "cell_type": "code",
   "execution_count": 24,
   "metadata": {},
   "outputs": [
    {
     "data": {
      "text/html": [
       "<div>\n",
       "<style scoped>\n",
       "    .dataframe tbody tr th:only-of-type {\n",
       "        vertical-align: middle;\n",
       "    }\n",
       "\n",
       "    .dataframe tbody tr th {\n",
       "        vertical-align: top;\n",
       "    }\n",
       "\n",
       "    .dataframe thead th {\n",
       "        text-align: right;\n",
       "    }\n",
       "</style>\n",
       "<table border=\"1\" class=\"dataframe\">\n",
       "  <thead>\n",
       "    <tr style=\"text-align: right;\">\n",
       "      <th></th>\n",
       "      <th>NCDRC</th>\n",
       "      <th>Chand</th>\n",
       "      <th>WB</th>\n",
       "      <th>Delhi</th>\n",
       "      <th>Telangana</th>\n",
       "      <th>Chattis</th>\n",
       "      <th>Maha</th>\n",
       "    </tr>\n",
       "  </thead>\n",
       "  <tbody>\n",
       "    <tr>\n",
       "      <th>Dismissed</th>\n",
       "      <td>0.183453</td>\n",
       "      <td>0.055102</td>\n",
       "      <td>0.194561</td>\n",
       "      <td>0.533951</td>\n",
       "      <td>0.063636</td>\n",
       "      <td>0.571429</td>\n",
       "      <td>0.5</td>\n",
       "    </tr>\n",
       "    <tr>\n",
       "      <th>Won</th>\n",
       "      <td>0.816547</td>\n",
       "      <td>0.944898</td>\n",
       "      <td>0.805439</td>\n",
       "      <td>0.466049</td>\n",
       "      <td>0.936364</td>\n",
       "      <td>0.428571</td>\n",
       "      <td>0.5</td>\n",
       "    </tr>\n",
       "  </tbody>\n",
       "</table>\n",
       "</div>"
      ],
      "text/plain": [
       "              NCDRC     Chand        WB     Delhi  Telangana   Chattis  Maha\n",
       "Dismissed  0.183453  0.055102  0.194561  0.533951   0.063636  0.571429   0.5\n",
       "Won        0.816547  0.944898  0.805439  0.466049   0.936364  0.428571   0.5"
      ]
     },
     "execution_count": 24,
     "metadata": {},
     "output_type": "execute_result"
    }
   ],
   "source": [
    "summaries.transpose()"
   ]
  },
  {
   "cell_type": "code",
   "execution_count": 25,
   "metadata": {},
   "outputs": [
    {
     "data": {
      "image/png": "[encoded data removed]",
      "text/plain": [
       "<Figure size 720x360 with 1 Axes>"
      ]
     },
     "metadata": {},
     "output_type": "display_data"
    }
   ],
   "source": [
    "ax = summaries.plot(kind='bar',figsize=(10,5),title='Summary Statistics - Baseline Data')"
   ]
  },
  {
   "cell_type": "code",
   "execution_count": 26,
   "metadata": {},
   "outputs": [
    {
     "data": {
      "text/html": [
       "<div>\n",
       "<style scoped>\n",
       "    .dataframe tbody tr th:only-of-type {\n",
       "        vertical-align: middle;\n",
       "    }\n",
       "\n",
       "    .dataframe tbody tr th {\n",
       "        vertical-align: top;\n",
       "    }\n",
       "\n",
       "    .dataframe thead th {\n",
       "        text-align: right;\n",
       "    }\n",
       "</style>\n",
       "<table border=\"1\" class=\"dataframe\">\n",
       "  <thead>\n",
       "    <tr style=\"text-align: right;\">\n",
       "      <th></th>\n",
       "      <th>index</th>\n",
       "      <th>HTML_File_Name</th>\n",
       "      <th>Complaint_Text</th>\n",
       "      <th>Verdict</th>\n",
       "      <th>State</th>\n",
       "    </tr>\n",
       "  </thead>\n",
       "  <tbody>\n",
       "    <tr>\n",
       "      <th>0</th>\n",
       "      <td>0</td>\n",
       "      <td>Delhi-CC_361_2018-2018-04-17.html</td>\n",
       "      <td>CC_DELHI complainant come forward allegation a...</td>\n",
       "      <td>Dismissed</td>\n",
       "      <td>Delhi</td>\n",
       "    </tr>\n",
       "    <tr>\n",
       "      <th>1</th>\n",
       "      <td>1</td>\n",
       "      <td>Delhi-CC_352_2017-2017-04-17.html</td>\n",
       "      <td>CC_DELHI shri vimal kumar chandna filed compla...</td>\n",
       "      <td>Dismissed</td>\n",
       "      <td>Delhi</td>\n",
       "    </tr>\n",
       "    <tr>\n",
       "      <th>2</th>\n",
       "      <td>2</td>\n",
       "      <td>Delhi-CC_13_504-2017-03-14.html</td>\n",
       "      <td>CC_DELHI case complainant booked apartment vri...</td>\n",
       "      <td>Dismissed</td>\n",
       "      <td>Delhi</td>\n",
       "    </tr>\n",
       "    <tr>\n",
       "      <th>3</th>\n",
       "      <td>3</td>\n",
       "      <td>Delhi-CC_143_2017-2017-02-20.html</td>\n",
       "      <td>CC_DELHI sh. subrata kumar dash smt. subita da...</td>\n",
       "      <td>Dismissed</td>\n",
       "      <td>Delhi</td>\n",
       "    </tr>\n",
       "    <tr>\n",
       "      <th>4</th>\n",
       "      <td>4</td>\n",
       "      <td>Delhi-CC_245_2015-2018-07-09.html</td>\n",
       "      <td>CC_DELHI sh. dharmendra singh, resident loni, ...</td>\n",
       "      <td>Won</td>\n",
       "      <td>Delhi</td>\n",
       "    </tr>\n",
       "  </tbody>\n",
       "</table>\n",
       "</div>"
      ],
      "text/plain": [
       "   index                     HTML_File_Name  \\\n",
       "0      0  Delhi-CC_361_2018-2018-04-17.html   \n",
       "1      1  Delhi-CC_352_2017-2017-04-17.html   \n",
       "2      2    Delhi-CC_13_504-2017-03-14.html   \n",
       "3      3  Delhi-CC_143_2017-2017-02-20.html   \n",
       "4      4  Delhi-CC_245_2015-2018-07-09.html   \n",
       "\n",
       "                                      Complaint_Text    Verdict  State  \n",
       "0  CC_DELHI complainant come forward allegation a...  Dismissed  Delhi  \n",
       "1  CC_DELHI shri vimal kumar chandna filed compla...  Dismissed  Delhi  \n",
       "2  CC_DELHI case complainant booked apartment vri...  Dismissed  Delhi  \n",
       "3  CC_DELHI sh. subrata kumar dash smt. subita da...  Dismissed  Delhi  \n",
       "4  CC_DELHI sh. dharmendra singh, resident loni, ...        Won  Delhi  "
      ]
     },
     "execution_count": 26,
     "metadata": {},
     "output_type": "execute_result"
    }
   ],
   "source": [
    "df.head()"
   ]
  },
  {
   "cell_type": "code",
   "execution_count": 27,
   "metadata": {},
   "outputs": [],
   "source": [
    "df.reset_index(inplace=True)"
   ]
  },
  {
   "cell_type": "code",
   "execution_count": 28,
   "metadata": {},
   "outputs": [
    {
     "data": {
      "text/plain": [
       "False    2077\n",
       "Name: State, dtype: int64"
      ]
     },
     "execution_count": 28,
     "metadata": {},
     "output_type": "execute_result"
    }
   ],
   "source": [
    "df.State.isna().value_counts()"
   ]
  },
  {
   "cell_type": "code",
   "execution_count": 29,
   "metadata": {},
   "outputs": [
    {
     "data": {
      "text/html": [
       "<div>\n",
       "<style scoped>\n",
       "    .dataframe tbody tr th:only-of-type {\n",
       "        vertical-align: middle;\n",
       "    }\n",
       "\n",
       "    .dataframe tbody tr th {\n",
       "        vertical-align: top;\n",
       "    }\n",
       "\n",
       "    .dataframe thead th {\n",
       "        text-align: right;\n",
       "    }\n",
       "</style>\n",
       "<table border=\"1\" class=\"dataframe\">\n",
       "  <thead>\n",
       "    <tr style=\"text-align: right;\">\n",
       "      <th></th>\n",
       "      <th>level_0</th>\n",
       "      <th>index</th>\n",
       "      <th>HTML_File_Name</th>\n",
       "      <th>Complaint_Text</th>\n",
       "      <th>Verdict</th>\n",
       "      <th>State</th>\n",
       "    </tr>\n",
       "  </thead>\n",
       "  <tbody>\n",
       "    <tr>\n",
       "      <th>550</th>\n",
       "      <td>550</td>\n",
       "      <td>550</td>\n",
       "      <td>NCDRC-CC_773_2016-2018-02-09.html</td>\n",
       "      <td>CC_NCDRC complainant booked residential flat o...</td>\n",
       "      <td>Won</td>\n",
       "      <td>NCDRC</td>\n",
       "    </tr>\n",
       "    <tr>\n",
       "      <th>551</th>\n",
       "      <td>551</td>\n",
       "      <td>551</td>\n",
       "      <td>NCDRC-CC_793_2015-2017-01-31.html</td>\n",
       "      <td>CC_NCDRC complainant matter allottees resident...</td>\n",
       "      <td>Won</td>\n",
       "      <td>NCDRC</td>\n",
       "    </tr>\n",
       "    <tr>\n",
       "      <th>552</th>\n",
       "      <td>553</td>\n",
       "      <td>553</td>\n",
       "      <td>NCDRC-CC_92_2017-2017-11-22.html</td>\n",
       "      <td>CC_NCDRC complainant namely raman seth wife ra...</td>\n",
       "      <td>Won</td>\n",
       "      <td>NCDRC</td>\n",
       "    </tr>\n",
       "    <tr>\n",
       "      <th>553</th>\n",
       "      <td>555</td>\n",
       "      <td>555</td>\n",
       "      <td>NCDRC-CC_963_2015-2016-05-02.html</td>\n",
       "      <td>CC_NCDRC complainant matter booked one villa o...</td>\n",
       "      <td>Won</td>\n",
       "      <td>NCDRC</td>\n",
       "    </tr>\n",
       "    <tr>\n",
       "      <th>554</th>\n",
       "      <td>556</td>\n",
       "      <td>556</td>\n",
       "      <td>Telangana-CC_174_2015-2017-02-17.html</td>\n",
       "      <td>CC_TELANGANA case complainant brief, opposite ...</td>\n",
       "      <td>Won</td>\n",
       "      <td>Telangana</td>\n",
       "    </tr>\n",
       "  </tbody>\n",
       "</table>\n",
       "</div>"
      ],
      "text/plain": [
       "     level_0  index                         HTML_File_Name  \\\n",
       "550      550    550      NCDRC-CC_773_2016-2018-02-09.html   \n",
       "551      551    551      NCDRC-CC_793_2015-2017-01-31.html   \n",
       "552      553    553       NCDRC-CC_92_2017-2017-11-22.html   \n",
       "553      555    555      NCDRC-CC_963_2015-2016-05-02.html   \n",
       "554      556    556  Telangana-CC_174_2015-2017-02-17.html   \n",
       "\n",
       "                                        Complaint_Text Verdict      State  \n",
       "550  CC_NCDRC complainant booked residential flat o...     Won      NCDRC  \n",
       "551  CC_NCDRC complainant matter allottees resident...     Won      NCDRC  \n",
       "552  CC_NCDRC complainant namely raman seth wife ra...     Won      NCDRC  \n",
       "553  CC_NCDRC complainant matter booked one villa o...     Won      NCDRC  \n",
       "554  CC_TELANGANA case complainant brief, opposite ...     Won  Telangana  "
      ]
     },
     "execution_count": 29,
     "metadata": {},
     "output_type": "execute_result"
    }
   ],
   "source": [
    "df.iloc[550:555]"
   ]
  },
  {
   "cell_type": "code",
   "execution_count": 30,
   "metadata": {},
   "outputs": [
    {
     "data": {
      "text/plain": [
       "Index(['level_0', 'index', 'HTML_File_Name', 'Complaint_Text', 'Verdict',\n",
       "       'State'],\n",
       "      dtype='object')"
      ]
     },
     "execution_count": 30,
     "metadata": {},
     "output_type": "execute_result"
    }
   ],
   "source": [
    "df.columns"
   ]
  },
  {
   "cell_type": "code",
   "execution_count": 31,
   "metadata": {},
   "outputs": [],
   "source": [
    "df.drop('index',1,inplace=True)"
   ]
  },
  {
   "cell_type": "code",
   "execution_count": 32,
   "metadata": {},
   "outputs": [],
   "source": [
    "df.drop('level_0',1,inplace=True)"
   ]
  },
  {
   "cell_type": "code",
   "execution_count": 33,
   "metadata": {},
   "outputs": [
    {
     "data": {
      "text/plain": [
       "Index(['HTML_File_Name', 'Complaint_Text', 'Verdict', 'State'], dtype='object')"
      ]
     },
     "execution_count": 33,
     "metadata": {},
     "output_type": "execute_result"
    }
   ],
   "source": [
    "df.columns"
   ]
  },
  {
   "cell_type": "code",
   "execution_count": 34,
   "metadata": {},
   "outputs": [],
   "source": [
    "X = df.Complaint_Text"
   ]
  },
  {
   "cell_type": "code",
   "execution_count": 35,
   "metadata": {},
   "outputs": [],
   "source": [
    "y = df.Verdict"
   ]
  },
  {
   "cell_type": "code",
   "execution_count": 36,
   "metadata": {},
   "outputs": [
    {
     "data": {
      "text/plain": [
       "\"CC_NCDRC complainant namely raman seth wife ranjana seth booked residential flat opposite party project namely 'unitech grande' opposite party developing sector 96, noida. flat no. 2601 tower-3 aforesaid project allotted total consideration AMOUNT_CRORES_OF_RUPEES . vide letter dated 14.8.2010. possession, per clause term condition allotment delivered within thirty month thereof, meaning thereby possession ought delivered 12.2.2013. grievance complainant possession offered despite already paid sum AMOUNT_CRORES_OF_RUPEES  opposite party. complainant therefore commission, seeking refund entire amount paid them, along compensation etc.\""
      ]
     },
     "execution_count": 36,
     "metadata": {},
     "output_type": "execute_result"
    }
   ],
   "source": [
    "X[552]"
   ]
  },
  {
   "cell_type": "code",
   "execution_count": 37,
   "metadata": {},
   "outputs": [
    {
     "name": "stdout",
     "output_type": "stream",
     "text": [
      "500 lines completed\n",
      "500 lines completed\n",
      "500 lines completed\n",
      "500 lines completed\n",
      "500 lines completed\n"
     ]
    }
   ],
   "source": [
    "corpus = []\n",
    "words = []\n",
    "for i in range(len(X)):\n",
    "    #sent = X[i].splitlines()\n",
    "    #sent = [s for s in sent if not re.search(r'[0-9]',s)]\n",
    "    #sent = [s for s in sent if len(s)>0]\n",
    "    #sentences = re.sub('[^a-zA-Z]',' ',str(sent))\n",
    "    sentences = X[i].lower()\n",
    "    sentences = sentences.split()\n",
    "    lm = WordNetLemmatizer()\n",
    "    sentences = [lm.lemmatize(word) for word in sentences if not word in set(stopwords.words('english')) and len(word)>2]\n",
    "    words+= sentences\n",
    "    sentences = ' '.join(sentences)\n",
    "    corpus.append(sentences)\n",
    "    if (i % 500) == 0:\n",
    "        print('500 lines completed')\n",
    "#print(coprus)"
   ]
  },
  {
   "cell_type": "code",
   "execution_count": 38,
   "metadata": {},
   "outputs": [
    {
     "data": {
      "text/plain": [
       "2077"
      ]
     },
     "execution_count": 38,
     "metadata": {},
     "output_type": "execute_result"
    }
   ],
   "source": [
    "len(corpus)"
   ]
  },
  {
   "cell_type": "raw",
   "metadata": {},
   "source": []
  },
  {
   "cell_type": "code",
   "execution_count": 39,
   "metadata": {},
   "outputs": [
    {
     "data": {
      "text/plain": [
       "(2077,)"
      ]
     },
     "execution_count": 39,
     "metadata": {},
     "output_type": "execute_result"
    }
   ],
   "source": [
    "y.shape"
   ]
  },
  {
   "cell_type": "code",
   "execution_count": 40,
   "metadata": {},
   "outputs": [],
   "source": [
    "df_corpus = pd.DataFrame(corpus,columns=['text'])"
   ]
  },
  {
   "cell_type": "code",
   "execution_count": 41,
   "metadata": {},
   "outputs": [
    {
     "data": {
      "text/plain": [
       "(2077, 1)"
      ]
     },
     "execution_count": 41,
     "metadata": {},
     "output_type": "execute_result"
    }
   ],
   "source": [
    "df_corpus.shape"
   ]
  },
  {
   "cell_type": "code",
   "execution_count": 42,
   "metadata": {},
   "outputs": [
    {
     "data": {
      "text/plain": [
       "Index(['text'], dtype='object')"
      ]
     },
     "execution_count": 42,
     "metadata": {},
     "output_type": "execute_result"
    }
   ],
   "source": [
    "df_corpus.columns"
   ]
  },
  {
   "cell_type": "code",
   "execution_count": 43,
   "metadata": {},
   "outputs": [
    {
     "data": {
      "text/plain": [
       "(2077,)"
      ]
     },
     "execution_count": 43,
     "metadata": {},
     "output_type": "execute_result"
    }
   ],
   "source": [
    "df.Verdict.shape"
   ]
  },
  {
   "cell_type": "code",
   "execution_count": 44,
   "metadata": {},
   "outputs": [],
   "source": [
    "df_cleaned = pd.concat([df_corpus,df['Verdict'],df['State']],axis=1)"
   ]
  },
  {
   "cell_type": "code",
   "execution_count": 45,
   "metadata": {},
   "outputs": [
    {
     "data": {
      "text/plain": [
       "(2077, 3)"
      ]
     },
     "execution_count": 45,
     "metadata": {},
     "output_type": "execute_result"
    }
   ],
   "source": [
    "df_cleaned.shape"
   ]
  },
  {
   "cell_type": "code",
   "execution_count": 46,
   "metadata": {},
   "outputs": [
    {
     "data": {
      "text/plain": [
       "text       2077\n",
       "Verdict    2077\n",
       "State      2077\n",
       "dtype: int64"
      ]
     },
     "execution_count": 46,
     "metadata": {},
     "output_type": "execute_result"
    }
   ],
   "source": [
    "df_cleaned.count()"
   ]
  },
  {
   "cell_type": "code",
   "execution_count": 47,
   "metadata": {},
   "outputs": [],
   "source": [
    "X = df_cleaned.text"
   ]
  },
  {
   "cell_type": "code",
   "execution_count": 48,
   "metadata": {},
   "outputs": [
    {
     "data": {
      "text/plain": [
       "'cc_delhi complainant stated complaint m/s omaxelimited (in short op) floated scheme allotment shop/atm space/showroom/food court/ commercial space commercial complex named \"omaxe connaught place\" located beta-ii, greater noida distt. gautambudh nagar up. complainant applied allotment shop aforesaid commercial complex earning livelihood mean self-employment. vide allotment letter dated 29.01.2007 allotted complainant shop bearing no. 131, measuring 219.30 sq. ft. located ground floor. per agreement physical possession shop handed complainant within period thirty month date letter allotment. complainant made payment term letter allotment. 20.12.2008, amount amount_tens_of_lakhs_of_rupees stood paid op. sale consideration paid time handing possession. complainant stated ready willing pay balance sale consideration. grievance complainant visited office several time requested issuance letter payment balance amount total cost. simply gave false assurances. complainant sent letter dated 19.08.2010 way registered post. e-mail also sent. response e-mail dated 19.08.2010, assured request process. reply e-mail dated 19.08.2010. failed handover possession shop till date. aforesaid spectrum fact complainant prayed refund amount amount_tens_of_lakhs_of_rupees alongwith interest at_twenty_four_percent p.a. compensation tune amount_lakhs_of_rupees litigation charge amount_tens_of_thousands_of_rupees also prayed for.'"
      ]
     },
     "execution_count": 48,
     "metadata": {},
     "output_type": "execute_result"
    }
   ],
   "source": [
    "X[100]"
   ]
  },
  {
   "cell_type": "markdown",
   "metadata": {},
   "source": [
    "### Building Model with All data"
   ]
  },
  {
   "cell_type": "code",
   "execution_count": 49,
   "metadata": {},
   "outputs": [
    {
     "name": "stdout",
     "output_type": "stream",
     "text": [
      "ENCODED CLASSES : ['Chandigarh' 'Chhattisgarh' 'Delhi' 'Maharashtra' 'NCDRC' 'Telangana'\n",
      " 'West_Bengal']\n",
      "4    556\n",
      "0    490\n",
      "6    478\n",
      "2    324\n",
      "5    220\n",
      "1      7\n",
      "3      2\n",
      "Name: Stateenc, dtype: int64\n",
      "NCDRC           556\n",
      "Chandigarh      490\n",
      "West_Bengal     478\n",
      "Delhi           324\n",
      "Telangana       220\n",
      "Chhattisgarh      7\n",
      "Maharashtra       2\n",
      "Name: State, dtype: int64\n"
     ]
    }
   ],
   "source": [
    "df_cleaned['Stateenc'] = df_cleaned[\"State\"].values\n",
    "le = preprocessing.LabelEncoder()\n",
    "le.fit(df.State)\n",
    "\n",
    "print(\"ENCODED CLASSES : {}\".format(le.classes_))\n",
    "df_cleaned['Stateenc'] = le.transform(df_cleaned.Stateenc)\n",
    "\n",
    "print(df_cleaned.Stateenc.value_counts())\n",
    "print(df_cleaned.State.value_counts())"
   ]
  },
  {
   "cell_type": "code",
   "execution_count": 50,
   "metadata": {},
   "outputs": [
    {
     "name": "stdout",
     "output_type": "stream",
     "text": [
      "ENCODED CLASSES : ['Dismissed' 'Won']\n",
      "1    1663\n",
      "0     414\n",
      "Name: Labelenc, dtype: int64\n",
      "Won          1663\n",
      "Dismissed     414\n",
      "Name: Verdict, dtype: int64\n"
     ]
    }
   ],
   "source": [
    "df_cleaned['Labelenc'] = df_cleaned[\"Verdict\"].values\n",
    "le = preprocessing.LabelEncoder()\n",
    "le.fit(df.Verdict)\n",
    "\n",
    "print(\"ENCODED CLASSES : {}\".format(le.classes_))\n",
    "df_cleaned['Labelenc'] = le.transform(df_cleaned.Labelenc)\n",
    "\n",
    "print(df_cleaned.Labelenc.value_counts())\n",
    "print(df_cleaned.Verdict.value_counts())"
   ]
  },
  {
   "cell_type": "code",
   "execution_count": null,
   "metadata": {},
   "outputs": [],
   "source": []
  },
  {
   "cell_type": "code",
   "execution_count": 51,
   "metadata": {},
   "outputs": [],
   "source": [
    "y = df_cleaned.Labelenc"
   ]
  },
  {
   "cell_type": "code",
   "execution_count": 52,
   "metadata": {},
   "outputs": [],
   "source": [
    "from sklearn.preprocessing import OneHotEncoder\n",
    "enc = OneHotEncoder()"
   ]
  },
  {
   "cell_type": "code",
   "execution_count": 53,
   "metadata": {},
   "outputs": [],
   "source": [
    "getdumm = pd.get_dummies(df_cleaned.Stateenc)"
   ]
  },
  {
   "cell_type": "code",
   "execution_count": 54,
   "metadata": {},
   "outputs": [],
   "source": [
    "X_train_txt, X_test_txt, y_train, y_test, = train_test_split(X, y,test_size=0.2, random_state=1)"
   ]
  },
  {
   "cell_type": "code",
   "execution_count": 55,
   "metadata": {},
   "outputs": [
    {
     "name": "stdout",
     "output_type": "stream",
     "text": [
      "(1661,)\n",
      "(416,)\n",
      "(1661,)\n",
      "(416,)\n"
     ]
    }
   ],
   "source": [
    "print(X_train_txt.shape)\n",
    "print(X_test_txt.shape)\n",
    "print(y_train.shape)\n",
    "print(y_test.shape)"
   ]
  },
  {
   "cell_type": "code",
   "execution_count": 56,
   "metadata": {},
   "outputs": [
    {
     "data": {
      "text/plain": [
       "(1661, 7000)"
      ]
     },
     "execution_count": 56,
     "metadata": {},
     "output_type": "execute_result"
    }
   ],
   "source": [
    "tfidf_vec = TfidfVectorizer(stop_words='english', ngram_range=(1,4),lowercase=True,min_df=10,max_features=7000)\n",
    "X_dtm_train = tfidf_vec.fit_transform((X_train_txt))\n",
    "X_dtm_train.shape"
   ]
  },
  {
   "cell_type": "code",
   "execution_count": null,
   "metadata": {},
   "outputs": [],
   "source": []
  },
  {
   "cell_type": "code",
   "execution_count": 57,
   "metadata": {},
   "outputs": [
    {
     "data": {
      "text/plain": [
       "(416, 7000)"
      ]
     },
     "execution_count": 57,
     "metadata": {},
     "output_type": "execute_result"
    }
   ],
   "source": [
    "X_dtm_test = tfidf_vec.transform(X_test_txt)\n",
    "X_dtm_test.shape"
   ]
  },
  {
   "cell_type": "code",
   "execution_count": 58,
   "metadata": {},
   "outputs": [],
   "source": [
    "from sklearn.svm import SVC\n",
    "from sklearn.neighbors import KNeighborsClassifier\n",
    "from sklearn import metrics"
   ]
  },
  {
   "cell_type": "code",
   "execution_count": 59,
   "metadata": {},
   "outputs": [
    {
     "data": {
      "text/plain": [
       "SVC(C=1.0, cache_size=200, class_weight=None, coef0=0.0,\n",
       "  decision_function_shape='ovr', degree=3, gamma='auto', kernel='linear',\n",
       "  max_iter=-1, probability=False, random_state=0, shrinking=True,\n",
       "  tol=0.001, verbose=False)"
      ]
     },
     "execution_count": 59,
     "metadata": {},
     "output_type": "execute_result"
    }
   ],
   "source": [
    "svcclassifier = SVC(random_state=0,kernel='linear')\n",
    "svcclassifier.fit(X_dtm_train,y_train)"
   ]
  },
  {
   "cell_type": "code",
   "execution_count": 60,
   "metadata": {},
   "outputs": [
    {
     "data": {
      "text/plain": [
       "0.9578567128236002"
      ]
     },
     "execution_count": 60,
     "metadata": {},
     "output_type": "execute_result"
    }
   ],
   "source": [
    "svcclassifier.score(X_dtm_train,y_train)"
   ]
  },
  {
   "cell_type": "code",
   "execution_count": 61,
   "metadata": {},
   "outputs": [],
   "source": [
    "y_pred_svm = svcclassifier.predict(X_dtm_test)"
   ]
  },
  {
   "cell_type": "code",
   "execution_count": 62,
   "metadata": {},
   "outputs": [],
   "source": [
    "logreg = LogisticRegression(C=1e9)\n",
    "logreg.fit(X_dtm_train,y_train)\n",
    "y_pred_class_logreg = logreg.predict(X_dtm_test)"
   ]
  },
  {
   "cell_type": "code",
   "execution_count": 63,
   "metadata": {},
   "outputs": [],
   "source": [
    "X_train_tokens = tfidf_vec.get_feature_names()"
   ]
  },
  {
   "cell_type": "code",
   "execution_count": 64,
   "metadata": {},
   "outputs": [
    {
     "data": {
      "text/plain": [
       "7000"
      ]
     },
     "execution_count": 64,
     "metadata": {},
     "output_type": "execute_result"
    }
   ],
   "source": [
    "len(X_train_tokens)"
   ]
  },
  {
   "cell_type": "code",
   "execution_count": 66,
   "metadata": {},
   "outputs": [],
   "source": [
    "log_coef = logreg.coef_"
   ]
  },
  {
   "cell_type": "code",
   "execution_count": 67,
   "metadata": {},
   "outputs": [
    {
     "data": {
      "text/plain": [
       "numpy.ndarray"
      ]
     },
     "execution_count": 67,
     "metadata": {},
     "output_type": "execute_result"
    }
   ],
   "source": [
    "type(log_coef)"
   ]
  },
  {
   "cell_type": "code",
   "execution_count": 68,
   "metadata": {},
   "outputs": [
    {
     "data": {
      "text/plain": [
       "array([[17.43994799, -0.79775566,  9.74434739, ...,  0.31870557,\n",
       "         0.10299706,  2.06533069]])"
      ]
     },
     "execution_count": 68,
     "metadata": {},
     "output_type": "execute_result"
    }
   ],
   "source": [
    "log_coef"
   ]
  },
  {
   "cell_type": "code",
   "execution_count": 71,
   "metadata": {},
   "outputs": [],
   "source": [
    "top_positive_coefficients = np.argsort(log_coef)[-20:]\n",
    "top_negative_coefficients = np.argsort(log_coef)[:20]\n",
    "top_coefficients = np.hstack([top_negative_coefficients, top_positive_coefficients])\n"
   ]
  },
  {
   "cell_type": "code",
   "execution_count": 72,
   "metadata": {},
   "outputs": [
    {
     "data": {
      "text/plain": [
       "array([[4378],\n",
       "       [2663],\n",
       "       [2863],\n",
       "       ...,\n",
       "       [1478],\n",
       "       [4117],\n",
       "       [3042]], dtype=int64)"
      ]
     },
     "execution_count": 72,
     "metadata": {},
     "output_type": "execute_result"
    }
   ],
   "source": [
    "top_positive_coefficients.reshape(-1,1)"
   ]
  },
  {
   "cell_type": "code",
   "execution_count": 73,
   "metadata": {},
   "outputs": [
    {
     "data": {
      "text/plain": [
       "'years opposite'"
      ]
     },
     "execution_count": 73,
     "metadata": {},
     "output_type": "execute_result"
    }
   ],
   "source": [
    "X_train_tokens[6991]"
   ]
  },
  {
   "cell_type": "code",
   "execution_count": 76,
   "metadata": {},
   "outputs": [],
   "source": [
    "nb = MultinomialNB()\n",
    "nb.fit(X_dtm_train,y_train)\n",
    "y_pred_class_nb = nb.predict(X_dtm_test)"
   ]
  },
  {
   "cell_type": "code",
   "execution_count": 77,
   "metadata": {},
   "outputs": [],
   "source": [
    "import matplotlib.pyplot as plt   \n",
    "import matplotlib.style\n",
    "plt.style.use('classic')\n",
    "\n",
    "#importing seaborn for statistical plots\n",
    "import seaborn as sns"
   ]
  },
  {
   "cell_type": "code",
   "execution_count": 78,
   "metadata": {},
   "outputs": [],
   "source": [
    "error = []\n",
    "# Calculating error for K values for 5, 13 and 21\n",
    "for i in range(1,49):  \n",
    "    knn = KNeighborsClassifier(n_neighbors=i)\n",
    "    knn.fit(X_dtm_train, y_train)\n",
    "    pred_i = knn.predict(X_dtm_test)\n",
    "    error.append(np.mean(pred_i != y_test))"
   ]
  },
  {
   "cell_type": "code",
   "execution_count": 79,
   "metadata": {},
   "outputs": [
    {
     "data": {
      "text/plain": [
       "Text(0,0.5,'Mean Error')"
      ]
     },
     "execution_count": 79,
     "metadata": {},
     "output_type": "execute_result"
    },
    {
     "data": {
      "image/png": "[encoded data removed]",
      "text/plain": [
       "<Figure size 960x480 with 1 Axes>"
      ]
     },
     "metadata": {},
     "output_type": "display_data"
    }
   ],
   "source": [
    "plt.figure(figsize=(12, 6))  \n",
    "plt.plot(range(1,49), error, color='red', linestyle='dashed', marker='o',  \n",
    "         markerfacecolor='blue', markersize=10)\n",
    "plt.title('Error Rate K Value')  \n",
    "plt.xlabel('K Value')  \n",
    "plt.ylabel('Mean Error') "
   ]
  },
  {
   "cell_type": "code",
   "execution_count": 80,
   "metadata": {},
   "outputs": [],
   "source": [
    "from sklearn.neighbors import KNeighborsClassifier\n",
    "knn = KNeighborsClassifier(n_neighbors=4)\n",
    "knn.fit(X_dtm_train,y_train)\n",
    "y_pred_class_knn = knn.predict(X_dtm_test)"
   ]
  },
  {
   "cell_type": "code",
   "execution_count": 81,
   "metadata": {},
   "outputs": [],
   "source": [
    "from sklearn.tree import DecisionTreeClassifier\n",
    "classifier = DecisionTreeClassifier(criterion='entropy',random_state=0,max_depth=100,class_weight={0:.7,1:.3}, min_samples_leaf=15)\n",
    "classifier.fit(X_dtm_train,y_train)\n",
    "y_pred_tree = classifier.predict(X_dtm_test)"
   ]
  },
  {
   "cell_type": "code",
   "execution_count": 82,
   "metadata": {},
   "outputs": [],
   "source": [
    "from sklearn.ensemble import RandomForestClassifier\n",
    "rand_classifer = RandomForestClassifier(n_estimators=10,criterion='entropy',random_state=0)\n",
    "rand_classifer.fit(X_dtm_train,y_train)\n",
    "y_pred_randforest = rand_classifer.predict(X_dtm_test)"
   ]
  },
  {
   "cell_type": "code",
   "execution_count": 83,
   "metadata": {},
   "outputs": [
    {
     "name": "stdout",
     "output_type": "stream",
     "text": [
      "SVM ACCURACY: 0.9014423076923077\n",
      "SVM CLASSIFIER CONFUSTION MATRIX: col_0      0    1\n",
      "Labelenc         \n",
      "0         50   30\n",
      "1         11  325\n",
      "===> **SVM F1 SCORE [0.70921986 0.9406657 ]\n",
      "===> **SVM Recall SCORE [0.625     0.9672619]\n",
      "===> **SVM Precision SCORE [0.81967213 0.91549296]\n",
      "===> **SVM ROC_AUC SCORE 0.7961309523809523\n",
      "##################################################################################################\n",
      "LogisticReg ACCURACY: 0.8990384615384616\n",
      "LogisticReg CLASSIFIER CONFUSTION MATRIX: col_0      0    1\n",
      "Labelenc         \n",
      "0         53   27\n",
      "1         15  321\n",
      "===> **LogisticReg F1 SCORE [0.71621622 0.93859649]\n",
      "===> **LogisticReg Recall SCORE [0.6625     0.95535714]\n",
      "===> **LogisticReg Precision SCORE [0.77941176 0.92241379]\n",
      "===> **LogisticReg ROC_AUC SCORE 0.8089285714285714\n",
      "##################################################################################################\n",
      "NaiveBayes ACCURACY: 0.8798076923076923\n",
      "NaiveBayes CLASSIFIER CONFUSTION MATRIX: col_0      0    1\n",
      "Labelenc         \n",
      "0         36   44\n",
      "1          6  330\n",
      "===> **NaiveBayes F1 SCORE [0.59016393 0.92957746]\n",
      "===> **NaiveBayes Recall SCORE [0.45       0.98214286]\n",
      "===> **NaiveBayes Precision SCORE [0.85714286 0.88235294]\n",
      "===> **NaiveBayes ROC_AUC SCORE 0.7160714285714285\n",
      "##################################################################################################\n",
      "KNN ACCURACY: 0.8774038461538461\n",
      "KNN CLASSIFIER CONFUSTION MATRIX: col_0      0    1\n",
      "Labelenc         \n",
      "0         49   31\n",
      "1         20  316\n",
      "===> **KNN F1 SCORE [0.65771812 0.92532943]\n",
      "===> **KNN Recall SCORE [0.6125     0.94047619]\n",
      "===> **KNN Precision SCORE [0.71014493 0.91066282]\n",
      "===> **KNN ROC_AUC SCORE 0.7764880952380953\n",
      "##################################################################################################\n",
      "Dtree ACCURACY: 0.8028846153846154\n",
      "Dtree CLASSIFIER CONFUSTION MATRIX: col_0      0    1\n",
      "Labelenc         \n",
      "0         49   31\n",
      "1         51  285\n",
      "===> **Dtree F1 SCORE [0.54444444 0.87423313]\n",
      "===> **Dtree Recall SCORE [0.6125     0.84821429]\n",
      "===> **Dtree Precision SCORE [0.49       0.90189873]\n",
      "===> **Dtree ROC_AUC SCORE 0.7303571428571429\n",
      "##################################################################################################\n",
      "RandForest ACCURACY: 0.8894230769230769\n",
      "RandForest CLASSIFIER CONFUSTION MATRIX: col_0      0    1\n",
      "Labelenc         \n",
      "0         51   29\n",
      "1         17  319\n",
      "===> **RandForest F1 SCORE [0.68918919 0.93274854]\n",
      "===> **RandForest Recall SCORE [0.6375     0.94940476]\n",
      "===> **RandForest Precision SCORE [0.75       0.91666667]\n",
      "===> **RandForest ROC_AUC SCORE 0.7934523809523809\n"
     ]
    }
   ],
   "source": [
    "print(\"SVM ACCURACY:\",metrics.accuracy_score(y_test,y_pred_svm))\n",
    "print('SVM CLASSIFIER CONFUSTION MATRIX:',pd.crosstab(y_test,y_pred_svm))\n",
    "print(\"===> **SVM F1 SCORE\",metrics.f1_score(y_test, y_pred_svm,average=None))\n",
    "print(\"===> **SVM Recall SCORE\",metrics.recall_score(y_test, y_pred_svm,average=None))\n",
    "print(\"===> **SVM Precision SCORE\",metrics.precision_score(y_test, y_pred_svm,average=None))\n",
    "print(\"===> **SVM ROC_AUC SCORE\",metrics.roc_auc_score(y_test, y_pred_svm,average=None))\n",
    "print(\"##################################################################################################\")\n",
    "print(\"LogisticReg ACCURACY:\",metrics.accuracy_score(y_test,y_pred_class_logreg,))\n",
    "print('LogisticReg CLASSIFIER CONFUSTION MATRIX:',pd.crosstab(y_test,y_pred_class_logreg))\n",
    "print(\"===> **LogisticReg F1 SCORE\",metrics.f1_score(y_test, y_pred_class_logreg,average=None))\n",
    "print(\"===> **LogisticReg Recall SCORE\",metrics.recall_score(y_test, y_pred_class_logreg,average=None))\n",
    "print(\"===> **LogisticReg Precision SCORE\",metrics.precision_score(y_test, y_pred_class_logreg,average=None))\n",
    "print(\"===> **LogisticReg ROC_AUC SCORE\",metrics.roc_auc_score(y_test, y_pred_class_logreg,average=None))\n",
    "print(\"##################################################################################################\")\n",
    "print(\"NaiveBayes ACCURACY:\",metrics.accuracy_score(y_test,y_pred_class_nb))\n",
    "print('NaiveBayes CLASSIFIER CONFUSTION MATRIX:',pd.crosstab(y_test,y_pred_class_nb))\n",
    "print(\"===> **NaiveBayes F1 SCORE\",metrics.f1_score(y_test, y_pred_class_nb,average=None))\n",
    "print(\"===> **NaiveBayes Recall SCORE\",metrics.recall_score(y_test, y_pred_class_nb,average=None))\n",
    "print(\"===> **NaiveBayes Precision SCORE\",metrics.precision_score(y_test, y_pred_class_nb,average=None))\n",
    "print(\"===> **NaiveBayes ROC_AUC SCORE\",metrics.roc_auc_score(y_test, y_pred_class_nb,average=None))\n",
    "print(\"##################################################################################################\")\n",
    "print(\"KNN ACCURACY:\",metrics.accuracy_score(y_test,y_pred_class_knn))\n",
    "print('KNN CLASSIFIER CONFUSTION MATRIX:',pd.crosstab(y_test,y_pred_class_knn))\n",
    "print(\"===> **KNN F1 SCORE\",metrics.f1_score(y_test, y_pred_class_knn,average=None))\n",
    "print(\"===> **KNN Recall SCORE\",metrics.recall_score(y_test, y_pred_class_knn,average=None))\n",
    "print(\"===> **KNN Precision SCORE\",metrics.precision_score(y_test, y_pred_class_knn,average=None))\n",
    "print(\"===> **KNN ROC_AUC SCORE\",metrics.roc_auc_score(y_test, y_pred_class_knn,average=None))\n",
    "print(\"##################################################################################################\")\n",
    "print(\"Dtree ACCURACY:\",metrics.accuracy_score(y_test,y_pred_tree))\n",
    "print('Dtree CLASSIFIER CONFUSTION MATRIX:',pd.crosstab(y_test,y_pred_tree))\n",
    "print(\"===> **Dtree F1 SCORE\",metrics.f1_score(y_test, y_pred_tree,average=None))\n",
    "print(\"===> **Dtree Recall SCORE\",metrics.recall_score(y_test, y_pred_tree,average=None))\n",
    "print(\"===> **Dtree Precision SCORE\",metrics.precision_score(y_test, y_pred_tree,average=None))\n",
    "print(\"===> **Dtree ROC_AUC SCORE\",metrics.roc_auc_score(y_test, y_pred_tree,average=None))\n",
    "print(\"##################################################################################################\")\n",
    "print(\"RandForest ACCURACY:\",metrics.accuracy_score(y_test,y_pred_randforest))\n",
    "print('RandForest CLASSIFIER CONFUSTION MATRIX:',pd.crosstab(y_test,y_pred_randforest))\n",
    "print(\"===> **RandForest F1 SCORE\",metrics.f1_score(y_test, y_pred_randforest,average=None))\n",
    "print(\"===> **RandForest Recall SCORE\",metrics.recall_score(y_test, y_pred_randforest,average=None))\n",
    "print(\"===> **RandForest Precision SCORE\",metrics.precision_score(y_test, y_pred_randforest,average=None))\n",
    "print(\"===> **RandForest ROC_AUC SCORE\",metrics.roc_auc_score(y_test, y_pred_randforest,average=None))"
   ]
  },
  {
   "cell_type": "markdown",
   "metadata": {},
   "source": [
    "## Cross Validation"
   ]
  },
  {
   "cell_type": "code",
   "execution_count": 84,
   "metadata": {},
   "outputs": [],
   "source": [
    "models = [\n",
    "    RandomForestClassifier(n_estimators=200, random_state=0),\n",
    "    LinearSVC(),\n",
    "    LogisticRegression(random_state=0),\n",
    "]\n",
    "CV = 10\n",
    "cv_df = pd.DataFrame(index=range(CV * len(models)))\n",
    "entries = []\n",
    "re = []\n",
    "pre = []\n",
    "for model in models:\n",
    "    model_name = model.__class__.__name__\n",
    "    accuracies = cross_val_score(model, X_dtm_train, y_train, scoring='accuracy', cv=CV)\n",
    "    recalls = cross_val_score(model, X_dtm_train, y_train, scoring='recall', cv=CV,)\n",
    "    precisions = cross_val_score(model, X_dtm_train, y_train, scoring='precision', cv=CV)\n",
    "    for fold_idx, accuracy in enumerate(accuracies):\n",
    "        entries.append((model_name, fold_idx, accuracy))\n",
    "    for rec, recall in enumerate(recalls):\n",
    "        re.append((model_name,rec,recall))\n",
    "    for prec, preci in enumerate(precisions):\n",
    "        pre.append((model_name,prec,preci))\n",
    "cv_df = pd.DataFrame(entries, columns=['model_name', 'fold_idx', 'accuracy'])"
   ]
  },
  {
   "cell_type": "code",
   "execution_count": 85,
   "metadata": {},
   "outputs": [],
   "source": [
    "cv_df_precision = pd.DataFrame(pre, columns=['model_name', 'fold_idx', 'precision_score'])"
   ]
  },
  {
   "cell_type": "code",
   "execution_count": 86,
   "metadata": {},
   "outputs": [],
   "source": [
    "cv_df_recall = pd.DataFrame(re, columns=['model_name', 'fold_idx', 'recall_score'])"
   ]
  },
  {
   "cell_type": "code",
   "execution_count": 87,
   "metadata": {},
   "outputs": [
    {
     "data": {
      "image/png": "[encoded data removed]",
      "text/plain": [
       "<Figure size 800x400 with 1 Axes>"
      ]
     },
     "metadata": {},
     "output_type": "display_data"
    }
   ],
   "source": [
    "import seaborn as sns\n",
    "import matplotlib.pyplot as plt\n",
    "\n",
    "plt.figure(figsize=(10,5))\n",
    "sns.boxplot(x='model_name', y='accuracy', data=cv_df).set_title(\"Accuracy comparison - Cross Validation\")\n",
    "sns.stripplot(x='model_name', y='accuracy', data=cv_df, \n",
    "              size=8, jitter=True, edgecolor=\"gray\", linewidth=2)\n",
    "plt.show()"
   ]
  },
  {
   "cell_type": "code",
   "execution_count": 88,
   "metadata": {},
   "outputs": [
    {
     "data": {
      "image/png": "[encoded data removed]",
      "text/plain": [
       "<Figure size 800x400 with 1 Axes>"
      ]
     },
     "metadata": {},
     "output_type": "display_data"
    }
   ],
   "source": [
    "import seaborn as sns\n",
    "import matplotlib.pyplot as plt\n",
    "\n",
    "plt.figure(figsize=(10,5))\n",
    "sns.boxplot(x='model_name', y='precision_score', data=cv_df_precision).set_title(\"Precision comparison - Cross Validation\")\n",
    "sns.stripplot(x='model_name', y='precision_score', data=cv_df_precision, \n",
    "              size=8, jitter=True, edgecolor=\"gray\", linewidth=2)\n",
    "plt.show()"
   ]
  },
  {
   "cell_type": "code",
   "execution_count": 89,
   "metadata": {},
   "outputs": [
    {
     "data": {
      "image/png": "[encoded data removed]",
      "text/plain": [
       "<Figure size 800x400 with 1 Axes>"
      ]
     },
     "metadata": {},
     "output_type": "display_data"
    }
   ],
   "source": [
    "import seaborn as sns\n",
    "import matplotlib.pyplot as plt\n",
    "\n",
    "plt.figure(figsize=(10,5))\n",
    "sns.boxplot(x='model_name', y='recall_score', data=cv_df_recall).set_title(\"Recall scores - Cross Validation\")\n",
    "sns.stripplot(x='model_name', y='recall_score', data=cv_df_recall, \n",
    "              size=8, jitter=True, edgecolor=\"gray\", linewidth=2)\n",
    "plt.show()"
   ]
  },
  {
   "cell_type": "code",
   "execution_count": 90,
   "metadata": {},
   "outputs": [],
   "source": [
    "from sklearn.ensemble import BaggingClassifier"
   ]
  },
  {
   "cell_type": "code",
   "execution_count": 91,
   "metadata": {},
   "outputs": [],
   "source": [
    "bgcl = BaggingClassifier( n_estimators=100) "
   ]
  },
  {
   "cell_type": "code",
   "execution_count": 92,
   "metadata": {},
   "outputs": [],
   "source": [
    "bgcl.fit(X_dtm_train,y_train)\n",
    "y_pred_bgcl = bgcl.predict(X_dtm_test)"
   ]
  },
  {
   "cell_type": "code",
   "execution_count": 93,
   "metadata": {},
   "outputs": [
    {
     "name": "stdout",
     "output_type": "stream",
     "text": [
      "BGCL ACCURACY: 0.8990384615384616\n",
      "BGCL CLASSIFIER CONFUSTION MATRIX:%\n",
      " col_0      0    1\n",
      "Labelenc         \n",
      "0         50   30\n",
      "1         12  324\n",
      "===> **BGCL F1 SCORE [0.70422535 0.93913043]\n",
      "===> **BGCL Recall SCORE [0.625      0.96428571]\n",
      "===> **BGCL Precision SCORE [0.80645161 0.91525424]\n",
      "===> **BGCL ROC_AUC SCORE 0.7946428571428572\n"
     ]
    }
   ],
   "source": [
    "print(\"BGCL ACCURACY:\",metrics.accuracy_score(y_test,y_pred_bgcl))\n",
    "print('BGCL CLASSIFIER CONFUSTION MATRIX:%\\n',pd.crosstab(y_test,y_pred_bgcl))\n",
    "print(\"===> **BGCL F1 SCORE\",metrics.f1_score(y_test, y_pred_bgcl,average=None))\n",
    "print(\"===> **BGCL Recall SCORE\",metrics.recall_score(y_test, y_pred_bgcl,average=None))\n",
    "print(\"===> **BGCL Precision SCORE\",metrics.precision_score(y_test, y_pred_bgcl,average=None))\n",
    "print(\"===> **BGCL ROC_AUC SCORE\",metrics.roc_auc_score(y_test, y_pred_bgcl,average=None))"
   ]
  },
  {
   "cell_type": "code",
   "execution_count": 94,
   "metadata": {},
   "outputs": [
    {
     "data": {
      "text/plain": [
       "0.9987959060806743"
      ]
     },
     "execution_count": 94,
     "metadata": {},
     "output_type": "execute_result"
    }
   ],
   "source": [
    "bgcl.score(X_dtm_train,y_train)"
   ]
  },
  {
   "cell_type": "code",
   "execution_count": 95,
   "metadata": {},
   "outputs": [
    {
     "data": {
      "text/plain": [
       "0.8990384615384616"
      ]
     },
     "execution_count": 95,
     "metadata": {},
     "output_type": "execute_result"
    }
   ],
   "source": [
    "bgcl.score(X_dtm_test,y_test)"
   ]
  },
  {
   "cell_type": "code",
   "execution_count": 96,
   "metadata": {},
   "outputs": [],
   "source": [
    "from sklearn.ensemble import GradientBoostingClassifier\n",
    "gbcl = GradientBoostingClassifier(n_estimators = 50, learning_rate = 0.3, max_depth=10)\n",
    "gbcl = gbcl.fit(X_dtm_train, y_train)"
   ]
  },
  {
   "cell_type": "code",
   "execution_count": 97,
   "metadata": {},
   "outputs": [],
   "source": [
    "y_pred_gbcl = gbcl.predict(X_dtm_test)"
   ]
  },
  {
   "cell_type": "code",
   "execution_count": 98,
   "metadata": {},
   "outputs": [
    {
     "name": "stdout",
     "output_type": "stream",
     "text": [
      "GBC: ACCURACY: 0.8966346153846154\n",
      "GBC CLASSIFIER CONFUSTION MATRIX:%\n",
      " col_0      0    1\n",
      "Labelenc         \n",
      "0         49   31\n",
      "1         12  324\n",
      "===> **GBC F1 SCORE [0.69503546 0.93777135]\n",
      "===> **GBC Recall SCORE [0.6125     0.96428571]\n",
      "===> **GBC Precision SCORE [0.80327869 0.91267606]\n",
      "===> **GBC ROC_AUC SCORE 0.7883928571428572\n"
     ]
    }
   ],
   "source": [
    "print(\"GBC: ACCURACY:\",metrics.accuracy_score(y_test,y_pred_gbcl))\n",
    "print('GBC CLASSIFIER CONFUSTION MATRIX:%\\n',pd.crosstab(y_test,y_pred_gbcl))\n",
    "print(\"===> **GBC F1 SCORE\",metrics.f1_score(y_test, y_pred_gbcl,average=None))\n",
    "print(\"===> **GBC Recall SCORE\",metrics.recall_score(y_test, y_pred_gbcl,average=None))\n",
    "print(\"===> **GBC Precision SCORE\",metrics.precision_score(y_test, y_pred_gbcl,average=None))\n",
    "print(\"===> **GBC ROC_AUC SCORE\",metrics.roc_auc_score(y_test, y_pred_gbcl,average=None))"
   ]
  },
  {
   "cell_type": "markdown",
   "metadata": {},
   "source": [
    "## Pipeline"
   ]
  },
  {
   "cell_type": "code",
   "execution_count": 99,
   "metadata": {},
   "outputs": [
    {
     "name": "stderr",
     "output_type": "stream",
     "text": [
      "C:\\Users\\madhan.s\\AppData\\Local\\Continuum\\anaconda3\\lib\\site-packages\\sklearn\\cross_validation.py:41: DeprecationWarning: This module was deprecated in version 0.18 in favor of the model_selection module into which all the refactored classes and functions are moved. Also note that the interface of the new CV iterators are different from that of this module. This module will be removed in 0.20.\n",
      "  \"This module will be removed in 0.20.\", DeprecationWarning)\n",
      "C:\\Users\\madhan.s\\AppData\\Local\\Continuum\\anaconda3\\lib\\site-packages\\sklearn\\grid_search.py:42: DeprecationWarning: This module was deprecated in version 0.18 in favor of the model_selection module into which all the refactored classes and functions are moved. This module will be removed in 0.20.\n",
      "  DeprecationWarning)\n"
     ]
    }
   ],
   "source": [
    "from sklearn.pipeline import Pipeline\n",
    "from sklearn.multiclass import OneVsRestClassifier\n",
    "from sklearn.grid_search import GridSearchCV"
   ]
  },
  {
   "cell_type": "code",
   "execution_count": 100,
   "metadata": {},
   "outputs": [
    {
     "data": {
      "text/plain": [
       "SVC(C=1.0, cache_size=200, class_weight=None, coef0=0.0,\n",
       "  decision_function_shape='ovr', degree=3, gamma='auto', kernel='linear',\n",
       "  max_iter=-1, probability=False, random_state=0, shrinking=True,\n",
       "  tol=0.001, verbose=False)"
      ]
     },
     "execution_count": 100,
     "metadata": {},
     "output_type": "execute_result"
    }
   ],
   "source": [
    "svcclassifier"
   ]
  },
  {
   "cell_type": "code",
   "execution_count": 101,
   "metadata": {},
   "outputs": [],
   "source": [
    "X = df_cleaned.text\n",
    "y = df_cleaned.Labelenc\n",
    "X_train_txt, X_test_txt, y_train, y_test, = train_test_split(X, y,test_size=0.2, random_state=1)"
   ]
  },
  {
   "cell_type": "code",
   "execution_count": 102,
   "metadata": {},
   "outputs": [
    {
     "name": "stdout",
     "output_type": "stream",
     "text": [
      "Fitting 2 folds for each of 4200 candidates, totalling 8400 fits\n"
     ]
    },
    {
     "name": "stderr",
     "output_type": "stream",
     "text": [
      "[Parallel(n_jobs=2)]: Done  28 tasks      | elapsed:  2.3min\n",
      "[Parallel(n_jobs=2)]: Done 124 tasks      | elapsed:  9.2min\n",
      "[Parallel(n_jobs=2)]: Done 284 tasks      | elapsed: 18.7min\n",
      "[Parallel(n_jobs=2)]: Done 508 tasks      | elapsed: 32.0min\n",
      "[Parallel(n_jobs=2)]: Done 796 tasks      | elapsed: 60.0min\n",
      "[Parallel(n_jobs=2)]: Done 1148 tasks      | elapsed: 73.5min\n",
      "[Parallel(n_jobs=2)]: Done 1564 tasks      | elapsed: 89.7min\n",
      "[Parallel(n_jobs=2)]: Done 2044 tasks      | elapsed: 108.4min\n",
      "[Parallel(n_jobs=2)]: Done 2588 tasks      | elapsed: 134.8min\n",
      "[Parallel(n_jobs=2)]: Done 3196 tasks      | elapsed: 163.1min\n",
      "[Parallel(n_jobs=2)]: Done 3868 tasks      | elapsed: 197.3min\n",
      "[Parallel(n_jobs=2)]: Done 4604 tasks      | elapsed: 231.9min\n",
      "[Parallel(n_jobs=2)]: Done 5404 tasks      | elapsed: 266.0min\n",
      "[Parallel(n_jobs=2)]: Done 6268 tasks      | elapsed: 297.7min\n",
      "[Parallel(n_jobs=2)]: Done 7196 tasks      | elapsed: 332.0min\n",
      "[Parallel(n_jobs=2)]: Done 8188 tasks      | elapsed: 372.9min\n",
      "[Parallel(n_jobs=2)]: Done 8400 out of 8400 | elapsed: 382.7min finished\n"
     ]
    },
    {
     "name": "stdout",
     "output_type": "stream",
     "text": [
      "0.946417820590006\n",
      "Best parameters set:\n",
      "[('tfidf', TfidfVectorizer(analyzer='word', binary=False, decode_error='strict',\n",
      "        dtype=<class 'numpy.int64'>, encoding='utf-8', input='content',\n",
      "        lowercase=True, max_df=1.0, max_features=5000, min_df=40,\n",
      "        ngram_range=(1, 4), norm='l2', preprocessor=None, smooth_idf=True,\n",
      "        stop_words='english', strip_accents=None, sublinear_tf=False,\n",
      "        token_pattern='(?u)\\\\b\\\\w\\\\w+\\\\b', tokenizer=None, use_idf=True,\n",
      "        vocabulary=None)), ('clf', SVC(C=1, cache_size=200, class_weight=None, coef0=0.0,\n",
      "  decision_function_shape='ovr', degree=3, gamma='auto', kernel='linear',\n",
      "  max_iter=-1, probability=False, random_state=None, shrinking=True,\n",
      "  tol=0.001, verbose=False))]\n"
     ]
    }
   ],
   "source": [
    "pipeline = Pipeline([\n",
    "    ('tfidf', TfidfVectorizer(stop_words='english')),\n",
    "    ('clf', SVC()),])\n",
    "parameters = {\n",
    "    'tfidf__min_df': (10,20,30,40,50),\n",
    "    'tfidf__ngram_range': [(1, 1), (1, 2), (1, 3),(1,4),(1,5),(1,6),(1,7)],\n",
    "    'tfidf__max_features': (5000,6000,7000,8000),\n",
    "    'clf__C':(1,2,3,4,5,6,7,8,9,10),\n",
    "    'clf__kernel': ('poly','rbf','linear')\n",
    "}\n",
    "\n",
    "grid_search_tune = GridSearchCV(pipeline, parameters, cv=2, n_jobs=2, verbose=3)\n",
    "grid_search_tune.fit(X_train_txt, y_train)\n",
    "print(grid_search_tune.score(X_train_txt,y_train))\n",
    "\n",
    "print(\"Best parameters set:\")\n",
    "print(grid_search_tune.best_estimator_.steps)"
   ]
  },
  {
   "cell_type": "code",
   "execution_count": 118,
   "metadata": {},
   "outputs": [
    {
     "data": {
      "text/plain": [
       "(1661, 3296)"
      ]
     },
     "execution_count": 118,
     "metadata": {},
     "output_type": "execute_result"
    }
   ],
   "source": [
    "tfidf_vec = TfidfVectorizer(stop_words='english', ngram_range=(1,4),lowercase=True,min_df=40,max_features=5000)\n",
    "X_dtm_train = tfidf_vec.fit_transform((X_train_txt))\n",
    "X_dtm_train.shape"
   ]
  },
  {
   "cell_type": "code",
   "execution_count": 119,
   "metadata": {},
   "outputs": [],
   "source": [
    "X_dtm_test = tfidf_vec.transform(X_test_txt)"
   ]
  },
  {
   "cell_type": "code",
   "execution_count": 120,
   "metadata": {},
   "outputs": [],
   "source": [
    "from sklearn.decomposition import TruncatedSVD"
   ]
  },
  {
   "cell_type": "code",
   "execution_count": 121,
   "metadata": {},
   "outputs": [],
   "source": [
    "svd = TruncatedSVD(n_components=1000)"
   ]
  },
  {
   "cell_type": "code",
   "execution_count": 122,
   "metadata": {},
   "outputs": [],
   "source": [
    "tfidfnew = svd.fit(X_dtm_train)"
   ]
  },
  {
   "cell_type": "code",
   "execution_count": 123,
   "metadata": {},
   "outputs": [],
   "source": [
    "var = tfidfnew.explained_variance_ratio_"
   ]
  },
  {
   "cell_type": "code",
   "execution_count": 124,
   "metadata": {},
   "outputs": [],
   "source": [
    "sortedvar = np.sort(var)[::-1]"
   ]
  },
  {
   "cell_type": "code",
   "execution_count": 125,
   "metadata": {},
   "outputs": [
    {
     "data": {
      "text/plain": [
       "array([0.05430009, 0.09495762, 0.12843717, 0.15275786, 0.1739165 ,\n",
       "       0.19029097, 0.20497833, 0.21911467, 0.23241833, 0.24441942,\n",
       "       0.25590526, 0.26515679, 0.27393432, 0.28250829, 0.29072115,\n",
       "       0.29853163, 0.30585445, 0.31263341, 0.31924939, 0.32572781,\n",
       "       0.33206063, 0.33821352, 0.34412661, 0.34987403, 0.35552372,\n",
       "       0.36086534, 0.36609291, 0.37125399, 0.37630463, 0.38125189,\n",
       "       0.38618568, 0.39096922, 0.3956863 , 0.40021948, 0.40466635,\n",
       "       0.40897336, 0.41312165, 0.41725026, 0.42129467, 0.42527402,\n",
       "       0.42919835, 0.43302502, 0.43674304, 0.44039865, 0.44398375,\n",
       "       0.44749825, 0.45090928, 0.45427529, 0.45760265, 0.46087817,\n",
       "       0.46407565, 0.46722672, 0.47033997, 0.47340406, 0.4764238 ,\n",
       "       0.47942676, 0.48241371, 0.48533958, 0.48823781, 0.4911074 ,\n",
       "       0.49392082, 0.49671247, 0.49947585, 0.50219766, 0.50488972,\n",
       "       0.50756276, 0.51019285, 0.51280584, 0.51536519, 0.51792163,\n",
       "       0.52044896, 0.52296315, 0.52543208, 0.52788182, 0.53031367,\n",
       "       0.53274367, 0.53514047, 0.53752995, 0.53989546, 0.5422134 ,\n",
       "       0.54451012, 0.54677345, 0.54903083, 0.55125871, 0.5534723 ,\n",
       "       0.5556676 , 0.55784521, 0.5600103 , 0.56215043, 0.56426393,\n",
       "       0.56634839, 0.56840075, 0.57044708, 0.57247854, 0.57450063,\n",
       "       0.57650851, 0.57850993, 0.58047131, 0.58241156, 0.5843413 ,\n",
       "       0.58626854, 0.58818022, 0.59005641, 0.59192715, 0.59378646,\n",
       "       0.5956383 , 0.59747065, 0.59930048, 0.60111391, 0.60291306,\n",
       "       0.60470112, 0.60646885, 0.60821912, 0.60995967, 0.61169317,\n",
       "       0.61340033, 0.61509433, 0.6167853 , 0.6184541 , 0.6201202 ,\n",
       "       0.62177532, 0.6234154 , 0.62504244, 0.62666506, 0.62827483,\n",
       "       0.62987059, 0.63146151, 0.6330361 , 0.63460748, 0.6361694 ,\n",
       "       0.63772226, 0.63926577, 0.64080699, 0.64232567, 0.64383864,\n",
       "       0.6453421 , 0.64683776, 0.64833006, 0.6498045 , 0.65126935,\n",
       "       0.65272436, 0.65417684, 0.65561587, 0.65705277, 0.65847159,\n",
       "       0.65988444, 0.66128695, 0.66268369, 0.66406721, 0.66543928,\n",
       "       0.66680897, 0.66817203, 0.66952308, 0.67086819, 0.67220538,\n",
       "       0.67354121, 0.67486493, 0.67618842, 0.6775027 , 0.67881426,\n",
       "       0.68011068, 0.68139708, 0.68268251, 0.68396379, 0.68523923,\n",
       "       0.6865049 , 0.68776577, 0.68901525, 0.6902596 , 0.69150357,\n",
       "       0.69273425, 0.69395905, 0.69517282, 0.69638268, 0.69759063,\n",
       "       0.69879642, 0.6999832 , 0.7011671 , 0.70234126, 0.70351436,\n",
       "       0.70467875, 0.70583578, 0.70698938, 0.70814131, 0.70928465,\n",
       "       0.71041697, 0.71154403, 0.71266245, 0.71377827, 0.71488784,\n",
       "       0.71599224, 0.71708825, 0.71817708, 0.71926317, 0.72034381,\n",
       "       0.72142308, 0.72249684, 0.72356368, 0.72462589, 0.72568222,\n",
       "       0.72673076, 0.72777768, 0.72882062, 0.72985725, 0.73088918,\n",
       "       0.73191919, 0.73294295, 0.73396011, 0.73497619, 0.73598775,\n",
       "       0.73699369, 0.73799467, 0.73898728, 0.73997565, 0.74095906,\n",
       "       0.74193975, 0.74291998, 0.74388959, 0.74485245, 0.7458144 ,\n",
       "       0.7467709 , 0.74772607, 0.74867857, 0.74962639, 0.75056618,\n",
       "       0.75150307, 0.7524383 , 0.7533684 , 0.75429631, 0.75521956,\n",
       "       0.75613636, 0.7570512 , 0.75796194, 0.75886947, 0.7597721 ,\n",
       "       0.76067095, 0.76156589, 0.76245878, 0.76334822, 0.76423254,\n",
       "       0.76511379, 0.76599137, 0.76686236, 0.76772972, 0.76859499,\n",
       "       0.76945846, 0.7703196 , 0.7711746 , 0.77202878, 0.77288046,\n",
       "       0.77372721, 0.77456858, 0.77540578, 0.77624046, 0.77706995,\n",
       "       0.77789596, 0.7787194 , 0.77953968, 0.78035918, 0.78117401,\n",
       "       0.78198697, 0.78279529, 0.78360167, 0.78440602, 0.7852064 ,\n",
       "       0.78599976, 0.78679026, 0.78757853, 0.78836345, 0.78914475,\n",
       "       0.7899225 , 0.79069843, 0.79147   , 0.79223803, 0.793005  ,\n",
       "       0.7937681 , 0.7945294 , 0.79528705, 0.79604315, 0.79679453,\n",
       "       0.79754102, 0.79828562, 0.79902855, 0.79976855, 0.80050561,\n",
       "       0.80123848, 0.80196879, 0.80269667, 0.80342374, 0.80414454,\n",
       "       0.80486392, 0.80558111, 0.80629559, 0.80700684, 0.80771104,\n",
       "       0.80841369, 0.8091143 , 0.80981071, 0.81050595, 0.81119814,\n",
       "       0.81188893, 0.81257421, 0.81325914, 0.81394151, 0.81462286,\n",
       "       0.81530331, 0.81598169, 0.81665682, 0.81732769, 0.81799806,\n",
       "       0.81866408, 0.81932614, 0.81998721, 0.82064528, 0.82129965,\n",
       "       0.82195181, 0.82260185, 0.82324769, 0.82389109, 0.82453233,\n",
       "       0.82517108, 0.82580907, 0.82644238, 0.82707357, 0.82770231,\n",
       "       0.82832795, 0.82895299, 0.82957569, 0.83019788, 0.83081657,\n",
       "       0.8314328 , 0.83204788, 0.83265832, 0.83326708, 0.83387406,\n",
       "       0.83447977, 0.83508466, 0.83568549, 0.8362859 , 0.83688222,\n",
       "       0.83747777, 0.83806994, 0.83865974, 0.83924615, 0.839832  ,\n",
       "       0.84041337, 0.84099276, 0.84157079, 0.84214679, 0.84272017,\n",
       "       0.84329127, 0.84386011, 0.84442802, 0.84499534, 0.84555962,\n",
       "       0.84612117, 0.8466826 , 0.84724147, 0.84779707, 0.84835232,\n",
       "       0.84890589, 0.84945417, 0.84999995, 0.85054483, 0.85108789,\n",
       "       0.85162903, 0.85216969, 0.85270796, 0.85324509, 0.85378187,\n",
       "       0.85431548, 0.85484839, 0.85538031, 0.85590892, 0.8564357 ,\n",
       "       0.85696109, 0.85748507, 0.8580077 , 0.85852758, 0.85904526,\n",
       "       0.85956013, 0.86007305, 0.86058483, 0.86109524, 0.86160457,\n",
       "       0.8621116 , 0.86261763, 0.86312117, 0.86362127, 0.86411954,\n",
       "       0.86461725, 0.86511267, 0.86560651, 0.86609745, 0.8665875 ,\n",
       "       0.86707696, 0.86756401, 0.86805036, 0.86853391, 0.86901633,\n",
       "       0.86949495, 0.8699725 , 0.87044776, 0.87092201, 0.87139542,\n",
       "       0.87186735, 0.8723379 , 0.87280761, 0.87327531, 0.873741  ,\n",
       "       0.87420543, 0.87466933, 0.87513041, 0.87558853, 0.87604562,\n",
       "       0.87650133, 0.87695625, 0.87740926, 0.87785992, 0.87830898,\n",
       "       0.87875745, 0.8792048 , 0.87965075, 0.88009571, 0.88053703,\n",
       "       0.88097745, 0.8814155 , 0.88185288, 0.88228884, 0.8827239 ,\n",
       "       0.88315718, 0.88359028, 0.88402066, 0.88444911, 0.88487538,\n",
       "       0.88530114, 0.88572622, 0.88614948, 0.88657126, 0.8869923 ,\n",
       "       0.8874117 , 0.88782897, 0.88824584, 0.88866129, 0.88907428,\n",
       "       0.88948572, 0.88989628, 0.89030647, 0.89071373, 0.89111944,\n",
       "       0.89152253, 0.89192524, 0.89232634, 0.89272625, 0.89312495,\n",
       "       0.89352274, 0.8939199 , 0.89431577, 0.89471109, 0.89510582,\n",
       "       0.89550052, 0.89589306, 0.89628182, 0.89667016, 0.89705705,\n",
       "       0.8974423 , 0.89782638, 0.89820935, 0.89859163, 0.89897219,\n",
       "       0.89935131, 0.89972875, 0.90010538, 0.90048092, 0.90085528,\n",
       "       0.90122754, 0.90159751, 0.9019667 , 0.90233458, 0.90270204,\n",
       "       0.90306903, 0.90343427, 0.90379855, 0.90416133, 0.90452341,\n",
       "       0.90488371, 0.90524357, 0.90560266, 0.90595916, 0.90631377,\n",
       "       0.90666744, 0.90701955, 0.90736981, 0.90771955, 0.90806887,\n",
       "       0.90841768, 0.90876427, 0.90910992, 0.90945442, 0.90979783,\n",
       "       0.91013923, 0.91048018, 0.91082046, 0.91115959, 0.91149737,\n",
       "       0.91183276, 0.91216768, 0.91250205, 0.91283573, 0.91316749,\n",
       "       0.91349862, 0.91382685, 0.91415347, 0.91448001, 0.91480588,\n",
       "       0.91513135, 0.91545648, 0.91577955, 0.91610042, 0.91642114,\n",
       "       0.91674039, 0.91705871, 0.91737637, 0.91769247, 0.9180074 ,\n",
       "       0.91832174, 0.91863424, 0.91894643, 0.91925802, 0.91956734,\n",
       "       0.91987554, 0.92018325, 0.92049002, 0.92079546, 0.92110062,\n",
       "       0.92140293, 0.9217045 , 0.92200567, 0.92230606, 0.92260568,\n",
       "       0.92290419, 0.92320189, 0.92349867, 0.92379481, 0.92409005,\n",
       "       0.92438449, 0.92467864, 0.92497102, 0.92526217, 0.92555222,\n",
       "       0.9258413 , 0.92612951, 0.92641672, 0.92670353, 0.9269898 ,\n",
       "       0.9272756 , 0.92755926, 0.92784225, 0.92812436, 0.92840626,\n",
       "       0.92868745, 0.92896806, 0.92924742, 0.92952566, 0.92980295,\n",
       "       0.93007947, 0.93035504, 0.93062966, 0.93090357, 0.93117634,\n",
       "       0.93144774, 0.93171878, 0.93198905, 0.93225834, 0.93252647,\n",
       "       0.93279318, 0.93305953, 0.93332545, 0.93359021, 0.93385346,\n",
       "       0.93411602, 0.93437777, 0.93463911, 0.93489873, 0.93515739,\n",
       "       0.93541562, 0.93567299, 0.9359294 , 0.93618459, 0.93643938,\n",
       "       0.93669246, 0.93694516, 0.93719664, 0.93744733, 0.93769751,\n",
       "       0.9379467 , 0.93819549, 0.93844365, 0.93869127, 0.93893801,\n",
       "       0.93918381, 0.93942874, 0.93967251, 0.93991526, 0.94015764,\n",
       "       0.94039974, 0.94064062, 0.94088066, 0.94111961, 0.94135754,\n",
       "       0.94159519, 0.94183243, 0.94206884, 0.94230467, 0.94253913,\n",
       "       0.94277258, 0.94300545, 0.9432369 , 0.943468  , 0.94369869,\n",
       "       0.94392859, 0.94415734, 0.94438488, 0.94461203, 0.94483832,\n",
       "       0.94506445, 0.94528899, 0.94551244, 0.94573557, 0.94595847,\n",
       "       0.94618011, 0.94640102, 0.9466216 , 0.94684133, 0.9470598 ,\n",
       "       0.94727744, 0.94749436, 0.94771082, 0.94792669, 0.94814202,\n",
       "       0.94835626, 0.94857012, 0.94878257, 0.94899483, 0.94920641,\n",
       "       0.94941746, 0.94962832, 0.94983799, 0.95004717, 0.95025524,\n",
       "       0.95046238, 0.95066858, 0.9508737 , 0.95107774, 0.95128145,\n",
       "       0.95148456, 0.9516872 , 0.95188963, 0.95209094, 0.95229176,\n",
       "       0.95249142, 0.95269065, 0.95288921, 0.95308724, 0.95328464,\n",
       "       0.95348164, 0.95367812, 0.95387359, 0.95406833, 0.95426233,\n",
       "       0.95445533, 0.95464761, 0.95483929, 0.95503046, 0.95522103,\n",
       "       0.95541076, 0.95559982, 0.95578849, 0.95597687, 0.95616474,\n",
       "       0.95635156, 0.95653812, 0.95672417, 0.95690961, 0.95709447,\n",
       "       0.95727886, 0.95746258, 0.95764506, 0.95782728, 0.95800821,\n",
       "       0.95818859, 0.95836857, 0.95854785, 0.95872664, 0.95890511,\n",
       "       0.95908297, 0.95925985, 0.95943625, 0.95961217, 0.9597879 ,\n",
       "       0.95996293, 0.96013773, 0.96031172, 0.96048493, 0.96065789,\n",
       "       0.96083032, 0.96100133, 0.961172  , 0.96134238, 0.96151179,\n",
       "       0.96168078, 0.96184901, 0.96201682, 0.96218454, 0.96235139,\n",
       "       0.9625175 , 0.96268341, 0.96284832, 0.96301286, 0.96317685,\n",
       "       0.96334056, 0.96350376, 0.96366595, 0.96382801, 0.96398825,\n",
       "       0.96414843, 0.9643077 , 0.9644662 , 0.96462452, 0.96478213,\n",
       "       0.96493927, 0.96509606, 0.96525204, 0.96540782, 0.9655631 ,\n",
       "       0.96571798, 0.96587213, 0.96602581, 0.96617851, 0.96633075,\n",
       "       0.96648259, 0.96663425, 0.96678502, 0.96693553, 0.96708537,\n",
       "       0.96723468, 0.96738319, 0.96753165, 0.96767945, 0.96782653,\n",
       "       0.96797343, 0.96811952, 0.96826511, 0.96841037, 0.96855468,\n",
       "       0.9686987 , 0.96884218, 0.96898539, 0.96912835, 0.96927055,\n",
       "       0.96941264, 0.96955403, 0.96969466, 0.96983493, 0.96997492,\n",
       "       0.97011433, 0.9702533 , 0.97039164, 0.97052923, 0.97066676,\n",
       "       0.97080367, 0.97094011, 0.97107605, 0.97121155, 0.97134653,\n",
       "       0.97148034, 0.97161391, 0.97174742, 0.97188068, 0.97201329,\n",
       "       0.97214529, 0.9722771 , 0.97240838, 0.97253908, 0.97266896,\n",
       "       0.97279859, 0.97292796, 0.97305672, 0.97318487, 0.97331259,\n",
       "       0.97343932, 0.97356577, 0.97369191, 0.9738177 , 0.97394312,\n",
       "       0.97406849, 0.97419333, 0.97431761, 0.97444153, 0.97456507,\n",
       "       0.97468824, 0.9748112 , 0.97493357, 0.97505518, 0.97517657,\n",
       "       0.97529727, 0.97541733, 0.97553731, 0.97565692, 0.97577604,\n",
       "       0.9758949 , 0.97601291, 0.97613074, 0.97624816, 0.97636481,\n",
       "       0.97648091, 0.97659687, 0.97671209, 0.97682706, 0.97694178,\n",
       "       0.97705624, 0.97717034, 0.97728386, 0.97739691, 0.97750993,\n",
       "       0.97762238, 0.97773444, 0.97784619, 0.97795769, 0.97806852,\n",
       "       0.97817901, 0.97828888, 0.97839821, 0.97850732, 0.97861583,\n",
       "       0.97872395, 0.97883126, 0.97893851, 0.97904546, 0.97915196,\n",
       "       0.97925822, 0.97936442, 0.97947002, 0.97957526, 0.97968033,\n",
       "       0.97978468, 0.97988872, 0.97999236, 0.9800952 , 0.98019763,\n",
       "       0.98029975, 0.98040146, 0.9805024 , 0.98060324, 0.98070391,\n",
       "       0.98080429, 0.98090411, 0.98100358, 0.98110258, 0.98120123,\n",
       "       0.9812994 , 0.9813972 , 0.9814945 , 0.98159163, 0.98168829,\n",
       "       0.98178431, 0.98188007, 0.98197553, 0.98207062, 0.98216519,\n",
       "       0.98225938, 0.98235311, 0.9824466 , 0.98253986, 0.98263299,\n",
       "       0.98272601, 0.98281854, 0.98291075, 0.98300259, 0.98309413,\n",
       "       0.98318531, 0.98327574, 0.98336579, 0.98345537, 0.98354488,\n",
       "       0.98363387, 0.98372241, 0.98381057, 0.98389861, 0.98398627,\n",
       "       0.98407371, 0.98416098, 0.98424804, 0.98433462, 0.98442076,\n",
       "       0.98450637, 0.98459167, 0.98467686, 0.98476158, 0.98484599,\n",
       "       0.98492996, 0.98501331, 0.98509649, 0.98517946, 0.98526209,\n",
       "       0.98534455, 0.98542678, 0.98550861, 0.98559037, 0.9856715 ,\n",
       "       0.98575233, 0.98583298, 0.98591322, 0.98599327, 0.98607285,\n",
       "       0.98615205, 0.98623072, 0.98630903, 0.98638723, 0.98646528,\n",
       "       0.98654294, 0.98662044, 0.98669747, 0.98677436, 0.98685083,\n",
       "       0.98692684, 0.98700225, 0.98707734, 0.98715221, 0.98722689,\n",
       "       0.98730123, 0.98737546, 0.98744949, 0.98752306, 0.98759577,\n",
       "       0.9876684 , 0.98774079, 0.98781288, 0.98788456, 0.98795586,\n",
       "       0.98802702, 0.98809785, 0.98816834, 0.98823853, 0.9883083 ,\n",
       "       0.98837787, 0.98844703, 0.98851595, 0.98858469, 0.98865289,\n",
       "       0.98872086, 0.98878867, 0.98885635, 0.98892358, 0.9889908 ,\n",
       "       0.98905777, 0.98912459, 0.98919059, 0.98925651, 0.98932188,\n",
       "       0.98938697, 0.98945189, 0.98951666, 0.98958039, 0.98964403,\n",
       "       0.98970741, 0.9897704 , 0.98983302, 0.98989515, 0.98995696,\n",
       "       0.9900184 , 0.99007977, 0.99014085, 0.99020163, 0.99026216,\n",
       "       0.99032242, 0.99038244, 0.99044208, 0.99050105, 0.99055994,\n",
       "       0.99061848, 0.9906767 , 0.99073455, 0.99079216, 0.99084919,\n",
       "       0.99090618, 0.99096255, 0.99101843, 0.9910742 , 0.99112955,\n",
       "       0.99118459, 0.9912394 , 0.99129403, 0.99134816, 0.99140193,\n",
       "       0.99145527, 0.99150826, 0.99156106, 0.99161354, 0.99166543])"
      ]
     },
     "execution_count": 125,
     "metadata": {},
     "output_type": "execute_result"
    }
   ],
   "source": [
    "sortedvar.cumsum()"
   ]
  },
  {
   "cell_type": "code",
   "execution_count": 126,
   "metadata": {},
   "outputs": [
    {
     "data": {
      "text/plain": [
       "Text(0.5,1,'Cummulative Variance - Singular Value Decomposition')"
      ]
     },
     "execution_count": 126,
     "metadata": {},
     "output_type": "execute_result"
    },
    {
     "data": {
      "image/png": "[encoded data removed]",
      "text/plain": [
       "<Figure size 640x480 with 1 Axes>"
      ]
     },
     "metadata": {},
     "output_type": "display_data"
    }
   ],
   "source": [
    "plt.plot(sortedvar.cumsum(),marker='o',color='red')\n",
    "plt.title('Cummulative Variance - Singular Value Decomposition')"
   ]
  },
  {
   "cell_type": "code",
   "execution_count": 112,
   "metadata": {},
   "outputs": [],
   "source": [
    "X_dtm_train_new = tfidfnew.fit_transform(X_dtm_train)"
   ]
  },
  {
   "cell_type": "code",
   "execution_count": 127,
   "metadata": {},
   "outputs": [
    {
     "data": {
      "text/plain": [
       "SVC(C=1, cache_size=200, class_weight=None, coef0=0.0,\n",
       "  decision_function_shape='ovr', degree=3, gamma='auto', kernel='linear',\n",
       "  max_iter=-1, probability=False, random_state=0, shrinking=True,\n",
       "  tol=0.001, verbose=False)"
      ]
     },
     "execution_count": 127,
     "metadata": {},
     "output_type": "execute_result"
    }
   ],
   "source": [
    "svcclassifier = SVC(random_state=0,kernel='linear',C=1)\n",
    "svcclassifier.fit(X_dtm_train_new,y_train)"
   ]
  },
  {
   "cell_type": "code",
   "execution_count": 128,
   "metadata": {},
   "outputs": [
    {
     "data": {
      "text/plain": [
       "0.9458157736303432"
      ]
     },
     "execution_count": 128,
     "metadata": {},
     "output_type": "execute_result"
    }
   ],
   "source": [
    "svcclassifier.score(X_dtm_train_new,y_train)"
   ]
  },
  {
   "cell_type": "code",
   "execution_count": 129,
   "metadata": {},
   "outputs": [],
   "source": [
    "X_dtm_test_new = tfidfnew.transform(X_dtm_test)"
   ]
  },
  {
   "cell_type": "code",
   "execution_count": 130,
   "metadata": {},
   "outputs": [],
   "source": [
    "y_pred_svm = svcclassifier.predict(X_dtm_test_new)"
   ]
  },
  {
   "cell_type": "code",
   "execution_count": 131,
   "metadata": {},
   "outputs": [
    {
     "name": "stdout",
     "output_type": "stream",
     "text": [
      "SVM ACCURACY: 0.90625\n",
      "SVM CLASSIFIER CONFUSTION MATRIX: col_0      0    1\n",
      "Labelenc         \n",
      "0         51   29\n",
      "1         10  326\n",
      "===> **SVM F1 SCORE [0.72340426 0.94356006]\n",
      "===> **SVM Recall SCORE [0.6375    0.9702381]\n",
      "===> **SVM Precision SCORE [0.83606557 0.91830986]\n",
      "===> **SVM ROC_AUC SCORE 0.8038690476190476\n"
     ]
    }
   ],
   "source": [
    "print(\"SVM ACCURACY:\",metrics.accuracy_score(y_test,y_pred_svm))\n",
    "print('SVM CLASSIFIER CONFUSTION MATRIX:',pd.crosstab(y_test,y_pred_svm))\n",
    "print(\"===> **SVM F1 SCORE\",metrics.f1_score(y_test, y_pred_svm,average=None))\n",
    "print(\"===> **SVM Recall SCORE\",metrics.recall_score(y_test, y_pred_svm,average=None))\n",
    "print(\"===> **SVM Precision SCORE\",metrics.precision_score(y_test, y_pred_svm,average=None))\n",
    "print(\"===> **SVM ROC_AUC SCORE\",metrics.roc_auc_score(y_test, y_pred_svm,average=None))"
   ]
  },
  {
   "cell_type": "markdown",
   "metadata": {},
   "source": [
    "## Downsampling Approach"
   ]
  },
  {
   "cell_type": "code",
   "execution_count": 132,
   "metadata": {},
   "outputs": [
    {
     "data": {
      "text/html": [
       "<div>\n",
       "<style scoped>\n",
       "    .dataframe tbody tr th:only-of-type {\n",
       "        vertical-align: middle;\n",
       "    }\n",
       "\n",
       "    .dataframe tbody tr th {\n",
       "        vertical-align: top;\n",
       "    }\n",
       "\n",
       "    .dataframe thead th {\n",
       "        text-align: right;\n",
       "    }\n",
       "</style>\n",
       "<table border=\"1\" class=\"dataframe\">\n",
       "  <thead>\n",
       "    <tr style=\"text-align: right;\">\n",
       "      <th></th>\n",
       "      <th>text</th>\n",
       "      <th>Verdict</th>\n",
       "      <th>State</th>\n",
       "      <th>Stateenc</th>\n",
       "      <th>Labelenc</th>\n",
       "    </tr>\n",
       "  </thead>\n",
       "  <tbody>\n",
       "    <tr>\n",
       "      <th>0</th>\n",
       "      <td>cc_delhi complainant come forward allegation a...</td>\n",
       "      <td>Dismissed</td>\n",
       "      <td>Delhi</td>\n",
       "      <td>2</td>\n",
       "      <td>0</td>\n",
       "    </tr>\n",
       "    <tr>\n",
       "      <th>1</th>\n",
       "      <td>cc_delhi shri vimal kumar chandna filed compla...</td>\n",
       "      <td>Dismissed</td>\n",
       "      <td>Delhi</td>\n",
       "      <td>2</td>\n",
       "      <td>0</td>\n",
       "    </tr>\n",
       "    <tr>\n",
       "      <th>2</th>\n",
       "      <td>cc_delhi case complainant booked apartment vri...</td>\n",
       "      <td>Dismissed</td>\n",
       "      <td>Delhi</td>\n",
       "      <td>2</td>\n",
       "      <td>0</td>\n",
       "    </tr>\n",
       "    <tr>\n",
       "      <th>3</th>\n",
       "      <td>cc_delhi sh. subrata kumar dash smt. subita da...</td>\n",
       "      <td>Dismissed</td>\n",
       "      <td>Delhi</td>\n",
       "      <td>2</td>\n",
       "      <td>0</td>\n",
       "    </tr>\n",
       "    <tr>\n",
       "      <th>4</th>\n",
       "      <td>cc_delhi sh. dharmendra singh, resident loni, ...</td>\n",
       "      <td>Won</td>\n",
       "      <td>Delhi</td>\n",
       "      <td>2</td>\n",
       "      <td>1</td>\n",
       "    </tr>\n",
       "  </tbody>\n",
       "</table>\n",
       "</div>"
      ],
      "text/plain": [
       "                                                text    Verdict  State  \\\n",
       "0  cc_delhi complainant come forward allegation a...  Dismissed  Delhi   \n",
       "1  cc_delhi shri vimal kumar chandna filed compla...  Dismissed  Delhi   \n",
       "2  cc_delhi case complainant booked apartment vri...  Dismissed  Delhi   \n",
       "3  cc_delhi sh. subrata kumar dash smt. subita da...  Dismissed  Delhi   \n",
       "4  cc_delhi sh. dharmendra singh, resident loni, ...        Won  Delhi   \n",
       "\n",
       "   Stateenc  Labelenc  \n",
       "0         2         0  \n",
       "1         2         0  \n",
       "2         2         0  \n",
       "3         2         0  \n",
       "4         2         1  "
      ]
     },
     "execution_count": 132,
     "metadata": {},
     "output_type": "execute_result"
    }
   ],
   "source": [
    "df_cleaned.head()"
   ]
  },
  {
   "cell_type": "code",
   "execution_count": 133,
   "metadata": {},
   "outputs": [
    {
     "data": {
      "text/plain": [
       "Won          1663\n",
       "Dismissed     414\n",
       "Name: Verdict, dtype: int64"
      ]
     },
     "execution_count": 133,
     "metadata": {},
     "output_type": "execute_result"
    }
   ],
   "source": [
    "df.Verdict.value_counts()"
   ]
  },
  {
   "cell_type": "code",
   "execution_count": 134,
   "metadata": {},
   "outputs": [
    {
     "data": {
      "text/plain": [
       "665.2"
      ]
     },
     "execution_count": 134,
     "metadata": {},
     "output_type": "execute_result"
    }
   ],
   "source": [
    "1663*0.4"
   ]
  },
  {
   "cell_type": "code",
   "execution_count": 135,
   "metadata": {},
   "outputs": [],
   "source": [
    "won = df_cleaned[df_cleaned['Verdict']=='Won'].sample(666,random_state=1,replace=False)"
   ]
  },
  {
   "cell_type": "code",
   "execution_count": 136,
   "metadata": {},
   "outputs": [],
   "source": [
    "won_1 = df_cleaned[df_cleaned['Verdict']=='Won'].sample(666,random_state=2,replace=False)\n",
    "won_2 = df_cleaned[df_cleaned['Verdict']=='Won'].sample(666,random_state=3,replace=False)\n",
    "won_3 = df_cleaned[df_cleaned['Verdict']=='Won'].sample(666,random_state=4,replace=False)\n",
    "won_4 = df_cleaned[df_cleaned['Verdict']=='Won'].sample(666,random_state=5,replace=False)"
   ]
  },
  {
   "cell_type": "code",
   "execution_count": 137,
   "metadata": {},
   "outputs": [
    {
     "data": {
      "text/plain": [
       "(666, 5)"
      ]
     },
     "execution_count": 137,
     "metadata": {},
     "output_type": "execute_result"
    }
   ],
   "source": [
    "won.shape"
   ]
  },
  {
   "cell_type": "code",
   "execution_count": null,
   "metadata": {},
   "outputs": [],
   "source": []
  },
  {
   "cell_type": "code",
   "execution_count": 138,
   "metadata": {},
   "outputs": [],
   "source": [
    "dis = df_cleaned[df_cleaned['Verdict']=='Dismissed']"
   ]
  },
  {
   "cell_type": "code",
   "execution_count": 139,
   "metadata": {},
   "outputs": [
    {
     "data": {
      "text/plain": [
       "(414, 5)"
      ]
     },
     "execution_count": 139,
     "metadata": {},
     "output_type": "execute_result"
    }
   ],
   "source": [
    "dis.shape"
   ]
  },
  {
   "cell_type": "code",
   "execution_count": 140,
   "metadata": {},
   "outputs": [],
   "source": [
    "df_sampled = pd.concat([won,dis],axis=0)\n",
    "df_sampled_1 = pd.concat([won_1,dis],axis=0)\n",
    "df_sampled_2 = pd.concat([won_2,dis],axis=0)\n",
    "df_sampled_3 = pd.concat([won_3,dis],axis=0)\n",
    "df_sampled_4 = pd.concat([won_4,dis],axis=0)"
   ]
  },
  {
   "cell_type": "code",
   "execution_count": 141,
   "metadata": {},
   "outputs": [
    {
     "data": {
      "text/plain": [
       "(1080, 5)"
      ]
     },
     "execution_count": 141,
     "metadata": {},
     "output_type": "execute_result"
    }
   ],
   "source": [
    "df_sampled_1.shape"
   ]
  },
  {
   "cell_type": "code",
   "execution_count": 142,
   "metadata": {},
   "outputs": [
    {
     "data": {
      "text/html": [
       "<div>\n",
       "<style scoped>\n",
       "    .dataframe tbody tr th:only-of-type {\n",
       "        vertical-align: middle;\n",
       "    }\n",
       "\n",
       "    .dataframe tbody tr th {\n",
       "        vertical-align: top;\n",
       "    }\n",
       "\n",
       "    .dataframe thead th {\n",
       "        text-align: right;\n",
       "    }\n",
       "</style>\n",
       "<table border=\"1\" class=\"dataframe\">\n",
       "  <thead>\n",
       "    <tr style=\"text-align: right;\">\n",
       "      <th></th>\n",
       "      <th>text</th>\n",
       "      <th>Verdict</th>\n",
       "      <th>State</th>\n",
       "      <th>Stateenc</th>\n",
       "      <th>Labelenc</th>\n",
       "    </tr>\n",
       "  </thead>\n",
       "  <tbody>\n",
       "    <tr>\n",
       "      <th>1950</th>\n",
       "      <td>cc_west_bengal instant complaint section consu...</td>\n",
       "      <td>Won</td>\n",
       "      <td>West_Bengal</td>\n",
       "      <td>6</td>\n",
       "      <td>1</td>\n",
       "    </tr>\n",
       "    <tr>\n",
       "      <th>267</th>\n",
       "      <td>cc_ncdrc cc/155/2016 complainants, namely, ms....</td>\n",
       "      <td>Won</td>\n",
       "      <td>NCDRC</td>\n",
       "      <td>4</td>\n",
       "      <td>1</td>\n",
       "    </tr>\n",
       "    <tr>\n",
       "      <th>249</th>\n",
       "      <td>cc_ncdrc complainant husband wife booked resid...</td>\n",
       "      <td>Won</td>\n",
       "      <td>NCDRC</td>\n",
       "      <td>4</td>\n",
       "      <td>1</td>\n",
       "    </tr>\n",
       "    <tr>\n",
       "      <th>1243</th>\n",
       "      <td>cc_chandigarh complainant husband wife. case w...</td>\n",
       "      <td>Won</td>\n",
       "      <td>Chandigarh</td>\n",
       "      <td>0</td>\n",
       "      <td>1</td>\n",
       "    </tr>\n",
       "    <tr>\n",
       "      <th>756</th>\n",
       "      <td>cc_west_bengal instant complaint section consu...</td>\n",
       "      <td>Won</td>\n",
       "      <td>West_Bengal</td>\n",
       "      <td>6</td>\n",
       "      <td>1</td>\n",
       "    </tr>\n",
       "  </tbody>\n",
       "</table>\n",
       "</div>"
      ],
      "text/plain": [
       "                                                   text Verdict        State  \\\n",
       "1950  cc_west_bengal instant complaint section consu...     Won  West_Bengal   \n",
       "267   cc_ncdrc cc/155/2016 complainants, namely, ms....     Won        NCDRC   \n",
       "249   cc_ncdrc complainant husband wife booked resid...     Won        NCDRC   \n",
       "1243  cc_chandigarh complainant husband wife. case w...     Won   Chandigarh   \n",
       "756   cc_west_bengal instant complaint section consu...     Won  West_Bengal   \n",
       "\n",
       "      Stateenc  Labelenc  \n",
       "1950         6         1  \n",
       "267          4         1  \n",
       "249          4         1  \n",
       "1243         0         1  \n",
       "756          6         1  "
      ]
     },
     "execution_count": 142,
     "metadata": {},
     "output_type": "execute_result"
    }
   ],
   "source": [
    "df_sampled_1.head()"
   ]
  },
  {
   "cell_type": "code",
   "execution_count": 143,
   "metadata": {},
   "outputs": [
    {
     "data": {
      "text/plain": [
       "NCDRC           277\n",
       "West_Bengal     247\n",
       "Delhi           231\n",
       "Chandigarh      223\n",
       "Telangana        96\n",
       "Chhattisgarh      5\n",
       "Maharashtra       1\n",
       "Name: State, dtype: int64"
      ]
     },
     "execution_count": 143,
     "metadata": {},
     "output_type": "execute_result"
    }
   ],
   "source": [
    "df_sampled_1.State.value_counts()"
   ]
  },
  {
   "cell_type": "code",
   "execution_count": 144,
   "metadata": {},
   "outputs": [],
   "source": [
    "X = df_sampled_1.text"
   ]
  },
  {
   "cell_type": "code",
   "execution_count": 145,
   "metadata": {},
   "outputs": [],
   "source": [
    "y = df_sampled_1.Verdict"
   ]
  },
  {
   "cell_type": "code",
   "execution_count": 146,
   "metadata": {},
   "outputs": [
    {
     "name": "stdout",
     "output_type": "stream",
     "text": [
      "ENCODED CLASSES : ['Dismissed' 'Won']\n",
      "1    666\n",
      "0    414\n",
      "Name: Labelenc, dtype: int64\n",
      "Won          666\n",
      "Dismissed    414\n",
      "Name: Verdict, dtype: int64\n"
     ]
    }
   ],
   "source": [
    "df_sampled_1['Labelenc'] = df_sampled_1[\"Verdict\"].values\n",
    "le = preprocessing.LabelEncoder()\n",
    "le.fit(df.Verdict)\n",
    "\n",
    "print(\"ENCODED CLASSES : {}\".format(le.classes_))\n",
    "df_sampled_1['Labelenc'] = le.transform(df_sampled_1.Labelenc)\n",
    "\n",
    "print(df_sampled_1.Labelenc.value_counts())\n",
    "print(df_sampled_1.Verdict.value_counts())"
   ]
  },
  {
   "cell_type": "code",
   "execution_count": null,
   "metadata": {},
   "outputs": [],
   "source": []
  },
  {
   "cell_type": "code",
   "execution_count": 147,
   "metadata": {},
   "outputs": [],
   "source": [
    "y_enc = df_sampled_1.Labelenc"
   ]
  },
  {
   "cell_type": "code",
   "execution_count": 148,
   "metadata": {},
   "outputs": [],
   "source": [
    "X_train_txt, X_test_txt, y_train, y_test, = train_test_split(X, y_enc,test_size=0.2, random_state=1)"
   ]
  },
  {
   "cell_type": "code",
   "execution_count": 149,
   "metadata": {},
   "outputs": [
    {
     "data": {
      "text/plain": [
       "(864, 1875)"
      ]
     },
     "execution_count": 149,
     "metadata": {},
     "output_type": "execute_result"
    }
   ],
   "source": [
    "tfidf_vec = TfidfVectorizer(stop_words='english', ngram_range=(1,4),lowercase=True,min_df=30,max_features=5000)\n",
    "X_dtm_train = tfidf_vec.fit_transform((X_train_txt))\n",
    "X_dtm_train.shape"
   ]
  },
  {
   "cell_type": "code",
   "execution_count": 150,
   "metadata": {},
   "outputs": [
    {
     "data": {
      "text/plain": [
       "(216, 1875)"
      ]
     },
     "execution_count": 150,
     "metadata": {},
     "output_type": "execute_result"
    }
   ],
   "source": [
    "X_dtm_test = tfidf_vec.transform(X_test_txt)\n",
    "X_dtm_test.shape"
   ]
  },
  {
   "cell_type": "code",
   "execution_count": 151,
   "metadata": {},
   "outputs": [],
   "source": [
    "svcclassifier = SVC(random_state=0,kernel='linear',C=3)\n",
    "svcclassifier.fit(X_dtm_train,y_train)\n",
    "y_pred_svm = svcclassifier.predict(X_dtm_test)"
   ]
  },
  {
   "cell_type": "code",
   "execution_count": 152,
   "metadata": {},
   "outputs": [
    {
     "name": "stdout",
     "output_type": "stream",
     "text": [
      "SVM ACCURACY: 0.8379629629629629\n",
      "SVM CLASSIFIER CONFUSTION MATRIX: col_0      0    1\n",
      "Labelenc         \n",
      "0         58   20\n",
      "1         15  123\n",
      "===> **SVM F1 SCORE [0.76821192 0.87544484]\n",
      "===> **SVM Recall SCORE [0.74358974 0.89130435]\n",
      "===> **SVM Precision SCORE [0.79452055 0.86013986]\n",
      "===> **SVM ROC_AUC SCORE 0.8174470457079153\n"
     ]
    }
   ],
   "source": [
    "print(\"SVM ACCURACY:\",metrics.accuracy_score(y_test,y_pred_svm))\n",
    "print('SVM CLASSIFIER CONFUSTION MATRIX:',pd.crosstab(y_test,y_pred_svm))\n",
    "print(\"===> **SVM F1 SCORE\",metrics.f1_score(y_test, y_pred_svm,average=None))\n",
    "print(\"===> **SVM Recall SCORE\",metrics.recall_score(y_test, y_pred_svm,average=None))\n",
    "print(\"===> **SVM Precision SCORE\",metrics.precision_score(y_test, y_pred_svm,average=None))\n",
    "print(\"===> **SVM ROC_AUC SCORE\",metrics.roc_auc_score(y_test, y_pred_svm,average=None))"
   ]
  },
  {
   "cell_type": "code",
   "execution_count": 153,
   "metadata": {},
   "outputs": [],
   "source": [
    "def build_models(X_train,y_train,X_test,y_test):\n",
    "    svcclassifier = SVC(random_state=0,kernel='linear',C=3)\n",
    "    svcclassifier.fit(X_dtm_train,y_train)\n",
    "    y_pred_svm = svcclassifier.predict(X_dtm_test)\n",
    "    print(\"SVM Fitted\")\n",
    "    logreg = LogisticRegression(C=1e9)\n",
    "    logreg.fit(X_dtm_train,y_train)\n",
    "    y_pred_class_logreg = logreg.predict(X_dtm_test)\n",
    "    print(\"Logreg Fitted\")\n",
    "    #nb = MultinomialNB()\n",
    "    #nb.fit(X_dtm_train,y_train)\n",
    "    #y_pred_class_nb = nb.predict(X_dtm_test)\n",
    "    #print(\"Naive Bayes Fitted\")\n",
    "    #classifier = DecisionTreeClassifier(criterion='entropy',random_state=0,max_depth=100,class_weight={0:.7,1:.3}, min_samples_leaf=15)\n",
    "    #classifier.fit(X_dtm_train,y_train)\n",
    "    #y_pred_tree = classifier.predict(X_dtm_test)\n",
    "    #print(\"DTree Fitted\")\n",
    "    rand_classifer = RandomForestClassifier(n_estimators=10,criterion='entropy',random_state=0)\n",
    "    rand_classifer.fit(X_dtm_train,y_train)\n",
    "    y_pred_randforest = rand_classifer.predict(X_dtm_test)\n",
    "    print(\"Random Forest Fitted\")\n",
    "    print(\"SVM ACCURACY:\",metrics.accuracy_score(y_test,y_pred_svm))\n",
    "    print('SVM CLASSIFIER CONFUSTION MATRIX:',pd.crosstab(y_test,y_pred_svm))\n",
    "    print(\"===> **SVM F1 SCORE\",metrics.f1_score(y_test, y_pred_svm,average=None))\n",
    "    print(\"===> **SVM Recall SCORE\",metrics.recall_score(y_test, y_pred_svm,average=None))\n",
    "    print(\"===> **SVM Precision SCORE\",metrics.precision_score(y_test, y_pred_svm,average=None))\n",
    "    print(\"===> **SVM ROC_AUC SCORE\",metrics.roc_auc_score(y_test, y_pred_svm,average=None))\n",
    "    print(\"##################################################################################################\")\n",
    "    print(\"LogisticReg ACCURACY:\",metrics.accuracy_score(y_test,y_pred_class_logreg,))\n",
    "    print('LogisticReg CLASSIFIER CONFUSTION MATRIX:',pd.crosstab(y_test,y_pred_class_logreg))\n",
    "    print(\"===> **LogisticReg F1 SCORE\",metrics.f1_score(y_test, y_pred_class_logreg,average=None))\n",
    "    print(\"===> **LogisticReg Recall SCORE\",metrics.recall_score(y_test, y_pred_class_logreg,average=None))\n",
    "    print(\"===> **LogisticReg Precision SCORE\",metrics.precision_score(y_test, y_pred_class_logreg,average=None))\n",
    "    print(\"===> **LogisticReg ROC_AUC SCORE\",metrics.roc_auc_score(y_test, y_pred_class_logreg,average=None))\n",
    "    print(\"##################################################################################################\")\n",
    "    print(\"RandForest ACCURACY:\",metrics.accuracy_score(y_test,y_pred_randforest))\n",
    "    print('RandForest CLASSIFIER CONFUSTION MATRIX:',pd.crosstab(y_test,y_pred_randforest))\n",
    "    print(\"===> **RandForest F1 SCORE\",metrics.f1_score(y_test, y_pred_randforest,average=None))\n",
    "    print(\"===> **RandForest Recall SCORE\",metrics.recall_score(y_test, y_pred_randforest,average=None))\n",
    "    print(\"===> **RandForest Precision SCORE\",metrics.precision_score(y_test, y_pred_randforest,average=None))\n",
    "    print(\"===> **RandForest ROC_AUC SCORE\",metrics.roc_auc_score(y_test, y_pred_randforest,average=None))\n",
    "    return"
   ]
  },
  {
   "cell_type": "code",
   "execution_count": 154,
   "metadata": {},
   "outputs": [
    {
     "name": "stdout",
     "output_type": "stream",
     "text": [
      "SVM Fitted\n",
      "Logreg Fitted\n",
      "Random Forest Fitted\n",
      "SVM ACCURACY: 0.8379629629629629\n",
      "SVM CLASSIFIER CONFUSTION MATRIX: col_0      0    1\n",
      "Labelenc         \n",
      "0         58   20\n",
      "1         15  123\n",
      "===> **SVM F1 SCORE [0.76821192 0.87544484]\n",
      "===> **SVM Recall SCORE [0.74358974 0.89130435]\n",
      "===> **SVM Precision SCORE [0.79452055 0.86013986]\n",
      "===> **SVM ROC_AUC SCORE 0.8174470457079153\n",
      "##################################################################################################\n",
      "LogisticReg ACCURACY: 0.8287037037037037\n",
      "LogisticReg CLASSIFIER CONFUSTION MATRIX: col_0      0    1\n",
      "Labelenc         \n",
      "0         60   18\n",
      "1         19  119\n",
      "===> **LogisticReg F1 SCORE [0.76433121 0.86545455]\n",
      "===> **LogisticReg Recall SCORE [0.76923077 0.86231884]\n",
      "===> **LogisticReg Precision SCORE [0.75949367 0.86861314]\n",
      "===> **LogisticReg ROC_AUC SCORE 0.8157748049052397\n",
      "##################################################################################################\n",
      "RandForest ACCURACY: 0.8518518518518519\n",
      "RandForest CLASSIFIER CONFUSTION MATRIX: col_0      0    1\n",
      "Labelenc         \n",
      "0         60   18\n",
      "1         14  124\n",
      "===> **RandForest F1 SCORE [0.78947368 0.88571429]\n",
      "===> **RandForest Recall SCORE [0.76923077 0.89855072]\n",
      "===> **RandForest Precision SCORE [0.81081081 0.87323944]\n",
      "===> **RandForest ROC_AUC SCORE 0.8338907469342252\n"
     ]
    }
   ],
   "source": [
    "build_models(X_train_txt,y_train,X_test_txt,y_test)"
   ]
  },
  {
   "cell_type": "code",
   "execution_count": 155,
   "metadata": {},
   "outputs": [
    {
     "data": {
      "text/html": [
       "<div>\n",
       "<style scoped>\n",
       "    .dataframe tbody tr th:only-of-type {\n",
       "        vertical-align: middle;\n",
       "    }\n",
       "\n",
       "    .dataframe tbody tr th {\n",
       "        vertical-align: top;\n",
       "    }\n",
       "\n",
       "    .dataframe thead th {\n",
       "        text-align: right;\n",
       "    }\n",
       "</style>\n",
       "<table border=\"1\" class=\"dataframe\">\n",
       "  <thead>\n",
       "    <tr style=\"text-align: right;\">\n",
       "      <th></th>\n",
       "      <th>text</th>\n",
       "      <th>Verdict</th>\n",
       "      <th>State</th>\n",
       "      <th>Stateenc</th>\n",
       "      <th>Labelenc</th>\n",
       "    </tr>\n",
       "  </thead>\n",
       "  <tbody>\n",
       "    <tr>\n",
       "      <th>1483</th>\n",
       "      <td>cc_ncdrc saurabh sood, complainant herein book...</td>\n",
       "      <td>Won</td>\n",
       "      <td>NCDRC</td>\n",
       "      <td>4</td>\n",
       "      <td>1</td>\n",
       "    </tr>\n",
       "    <tr>\n",
       "      <th>1194</th>\n",
       "      <td>cc_telangana case complainant brief, opposite ...</td>\n",
       "      <td>Won</td>\n",
       "      <td>Telangana</td>\n",
       "      <td>5</td>\n",
       "      <td>1</td>\n",
       "    </tr>\n",
       "    <tr>\n",
       "      <th>826</th>\n",
       "      <td>cc_chandigarh facts, brief, complainant initia...</td>\n",
       "      <td>Won</td>\n",
       "      <td>Chandigarh</td>\n",
       "      <td>0</td>\n",
       "      <td>1</td>\n",
       "    </tr>\n",
       "    <tr>\n",
       "      <th>1015</th>\n",
       "      <td>cc_chandigarh complainant resident jalandhar. ...</td>\n",
       "      <td>Won</td>\n",
       "      <td>Chandigarh</td>\n",
       "      <td>0</td>\n",
       "      <td>1</td>\n",
       "    </tr>\n",
       "    <tr>\n",
       "      <th>1811</th>\n",
       "      <td>cc_west_bengal instant complaint section (inad...</td>\n",
       "      <td>Won</td>\n",
       "      <td>West_Bengal</td>\n",
       "      <td>6</td>\n",
       "      <td>1</td>\n",
       "    </tr>\n",
       "  </tbody>\n",
       "</table>\n",
       "</div>"
      ],
      "text/plain": [
       "                                                   text Verdict        State  \\\n",
       "1483  cc_ncdrc saurabh sood, complainant herein book...     Won        NCDRC   \n",
       "1194  cc_telangana case complainant brief, opposite ...     Won    Telangana   \n",
       "826   cc_chandigarh facts, brief, complainant initia...     Won   Chandigarh   \n",
       "1015  cc_chandigarh complainant resident jalandhar. ...     Won   Chandigarh   \n",
       "1811  cc_west_bengal instant complaint section (inad...     Won  West_Bengal   \n",
       "\n",
       "      Stateenc  Labelenc  \n",
       "1483         4         1  \n",
       "1194         5         1  \n",
       "826          0         1  \n",
       "1015         0         1  \n",
       "1811         6         1  "
      ]
     },
     "execution_count": 155,
     "metadata": {},
     "output_type": "execute_result"
    }
   ],
   "source": [
    "df_sampled.head()"
   ]
  },
  {
   "cell_type": "code",
   "execution_count": 156,
   "metadata": {},
   "outputs": [],
   "source": [
    "def build_model_samples(s,df):\n",
    "    SVM_f1 = []\n",
    "    SVM_recall = []\n",
    "    logreg_f1 = []\n",
    "    rf_f1 = []\n",
    "    logreg_recall = []\n",
    "    rf_recall = []\n",
    "    for sam in range(s):\n",
    "        won = df_cleaned[df_cleaned['Verdict']=='Won'].sample(666,random_state=sam,replace=False)\n",
    "        dis = df_cleaned[df_cleaned['Verdict']=='Dismissed']\n",
    "        df_sampled = pd.concat([won,dis],axis=0)\n",
    "        X = df_sampled.text\n",
    "        y = df_sampled.Labelenc\n",
    "        X_train_txt, X_test_txt, y_train, y_test, = train_test_split(X, y_enc,test_size=0.2, random_state=1)\n",
    "        X_dtm_train = tfidf_vec.fit_transform((X_train_txt))\n",
    "        X_dtm_test = tfidf_vec.transform(X_test_txt)\n",
    "        print(X_dtm_train.shape)\n",
    "        print(X_dtm_test.shape)\n",
    "        svcclassifier = SVC(random_state=0,kernel='linear',C=3)\n",
    "        svcclassifier.fit(X_dtm_train,y_train)\n",
    "        y_pred_svm = svcclassifier.predict(X_dtm_test)\n",
    "        SVM_f1.append(metrics.f1_score(y_test, y_pred_svm,average=None))\n",
    "        SVM_recall.append(metrics.recall_score(y_test, y_pred_svm,average=None))\n",
    "        print(\"SVM Fitted for sample\",sam)\n",
    "        logreg.fit(X_dtm_train,y_train)\n",
    "        y_pred_class_logreg = logreg.predict(X_dtm_test)\n",
    "        logreg_f1.append(metrics.f1_score(y_test, y_pred_class_logreg,average=None))\n",
    "        logreg_recall.append(metrics.recall_score(y_test, y_pred_class_logreg,average=None))\n",
    "        print(\"Logreg Fitted for sample\",sam)\n",
    "        rand_classifer = RandomForestClassifier(n_estimators=10,criterion='entropy',random_state=0)\n",
    "        rand_classifer.fit(X_dtm_train,y_train)\n",
    "        y_pred_randforest = rand_classifer.predict(X_dtm_test)\n",
    "        rf_f1.append(metrics.f1_score(y_test, y_pred_randforest,average=None))\n",
    "        rf_recall.append(metrics.recall_score(y_test, y_pred_randforest,average=None))\n",
    "        print(\"RF Fitted for sample\",sam)\n",
    "    return SVM_recall, SVM_f1, logreg_recall,logreg_f1,rf_recall,rf_f1"
   ]
  },
  {
   "cell_type": "code",
   "execution_count": null,
   "metadata": {},
   "outputs": [],
   "source": []
  },
  {
   "cell_type": "code",
   "execution_count": 157,
   "metadata": {},
   "outputs": [
    {
     "name": "stdout",
     "output_type": "stream",
     "text": [
      "(864, 1950)\n",
      "(216, 1950)\n",
      "SVM Fitted for sample 0\n",
      "Logreg Fitted for sample 0\n",
      "RF Fitted for sample 0\n",
      "(864, 1878)\n",
      "(216, 1878)\n",
      "SVM Fitted for sample 1\n",
      "Logreg Fitted for sample 1\n",
      "RF Fitted for sample 1\n",
      "(864, 1875)\n",
      "(216, 1875)\n",
      "SVM Fitted for sample 2\n",
      "Logreg Fitted for sample 2\n",
      "RF Fitted for sample 2\n",
      "(864, 1883)\n",
      "(216, 1883)\n",
      "SVM Fitted for sample 3\n",
      "Logreg Fitted for sample 3\n",
      "RF Fitted for sample 3\n",
      "(864, 1950)\n",
      "(216, 1950)\n",
      "SVM Fitted for sample 4\n",
      "Logreg Fitted for sample 4\n",
      "RF Fitted for sample 4\n",
      "(864, 1833)\n",
      "(216, 1833)\n",
      "SVM Fitted for sample 5\n",
      "Logreg Fitted for sample 5\n",
      "RF Fitted for sample 5\n",
      "(864, 1790)\n",
      "(216, 1790)\n",
      "SVM Fitted for sample 6\n",
      "Logreg Fitted for sample 6\n",
      "RF Fitted for sample 6\n",
      "(864, 1858)\n",
      "(216, 1858)\n",
      "SVM Fitted for sample 7\n",
      "Logreg Fitted for sample 7\n",
      "RF Fitted for sample 7\n",
      "(864, 1902)\n",
      "(216, 1902)\n",
      "SVM Fitted for sample 8\n",
      "Logreg Fitted for sample 8\n",
      "RF Fitted for sample 8\n",
      "(864, 1671)\n",
      "(216, 1671)\n",
      "SVM Fitted for sample 9\n",
      "Logreg Fitted for sample 9\n",
      "RF Fitted for sample 9\n"
     ]
    }
   ],
   "source": [
    "output = build_model_samples(10,df_cleaned)"
   ]
  },
  {
   "cell_type": "code",
   "execution_count": 158,
   "metadata": {},
   "outputs": [],
   "source": [
    "SVM_recall = pd.DataFrame(output[0],columns=['Dismissed','Won'])\n",
    "SVM_F1 = pd.DataFrame(output[1],columns=['Dismissed','Won'])\n",
    "logreg_recall = pd.DataFrame(output[2],columns=['Dismissed','Won'])\n",
    "logreg_F1 = pd.DataFrame(output[3],columns=['Dismissed','Won'])\n",
    "RF_recall = pd.DataFrame(output[4],columns=['Dismissed','Won'])\n",
    "RF_F1 = pd.DataFrame(output[5],columns=['Dismissed','Won'])"
   ]
  },
  {
   "cell_type": "code",
   "execution_count": 159,
   "metadata": {},
   "outputs": [
    {
     "data": {
      "text/plain": [
       "<matplotlib.axes._subplots.AxesSubplot at 0x1bc3520f5c0>"
      ]
     },
     "execution_count": 159,
     "metadata": {},
     "output_type": "execute_result"
    },
    {
     "data": {
      "image/png": "[encoded data removed]",
      "text/plain": [
       "<Figure size 960x400 with 1 Axes>"
      ]
     },
     "metadata": {},
     "output_type": "display_data"
    }
   ],
   "source": [
    "SVM_recall.plot(figsize=(12,5),title='Recall scores of 10 downsamples- SVC Classifier',marker='o')"
   ]
  },
  {
   "cell_type": "code",
   "execution_count": 160,
   "metadata": {},
   "outputs": [
    {
     "data": {
      "text/plain": [
       "<matplotlib.axes._subplots.AxesSubplot at 0x1bc325adf28>"
      ]
     },
     "execution_count": 160,
     "metadata": {},
     "output_type": "execute_result"
    },
    {
     "data": {
      "image/png": "[encoded data removed]",
      "text/plain": [
       "<Figure size 960x400 with 1 Axes>"
      ]
     },
     "metadata": {},
     "output_type": "display_data"
    }
   ],
   "source": [
    "SVM_F1.plot(figsize=(12,5),title='F1 scores of 10 downsamples- SVC Classifier',marker='o')"
   ]
  },
  {
   "cell_type": "code",
   "execution_count": 161,
   "metadata": {},
   "outputs": [
    {
     "data": {
      "text/plain": [
       "<matplotlib.axes._subplots.AxesSubplot at 0x1bc33f87b00>"
      ]
     },
     "execution_count": 161,
     "metadata": {},
     "output_type": "execute_result"
    },
    {
     "data": {
      "image/png": "[encoded data removed]",
      "text/plain": [
       "<Figure size 960x400 with 1 Axes>"
      ]
     },
     "metadata": {},
     "output_type": "display_data"
    }
   ],
   "source": [
    "logreg_recall.plot(figsize=(12,5),title='Recall scores of 10 downsamples- LOGREG Classifier',marker='o')"
   ]
  },
  {
   "cell_type": "code",
   "execution_count": 162,
   "metadata": {},
   "outputs": [
    {
     "data": {
      "text/plain": [
       "<matplotlib.axes._subplots.AxesSubplot at 0x1bc3330acf8>"
      ]
     },
     "execution_count": 162,
     "metadata": {},
     "output_type": "execute_result"
    },
    {
     "data": {
      "image/png": "[encoded data removed]",
      "text/plain": [
       "<Figure size 960x400 with 1 Axes>"
      ]
     },
     "metadata": {},
     "output_type": "display_data"
    }
   ],
   "source": [
    "logreg_F1.plot(figsize=(12,5),title='F1 scores of 10 downsamples- SVC Classifier',marker='o')"
   ]
  },
  {
   "cell_type": "code",
   "execution_count": 163,
   "metadata": {},
   "outputs": [
    {
     "data": {
      "text/plain": [
       "<matplotlib.axes._subplots.AxesSubplot at 0x1bc346f9390>"
      ]
     },
     "execution_count": 163,
     "metadata": {},
     "output_type": "execute_result"
    },
    {
     "data": {
      "image/png": "[encoded data removed]",
      "text/plain": [
       "<Figure size 960x400 with 1 Axes>"
      ]
     },
     "metadata": {},
     "output_type": "display_data"
    }
   ],
   "source": [
    "RF_recall.plot(figsize=(12,5),title='Recall scores of 10 downsamples- Random Forest Classifier',marker='o')"
   ]
  },
  {
   "cell_type": "code",
   "execution_count": 164,
   "metadata": {},
   "outputs": [
    {
     "data": {
      "text/plain": [
       "<matplotlib.axes._subplots.AxesSubplot at 0x1bc32ce0f60>"
      ]
     },
     "execution_count": 164,
     "metadata": {},
     "output_type": "execute_result"
    },
    {
     "data": {
      "image/png": "[encoded data removed]",
      "text/plain": [
       "<Figure size 960x400 with 1 Axes>"
      ]
     },
     "metadata": {},
     "output_type": "display_data"
    }
   ],
   "source": [
    "RF_F1.plot(figsize=(12,5),title='F1 scores of 10 downsamples- Random Forest Classifier',marker='o')"
   ]
  },
  {
   "cell_type": "markdown",
   "metadata": {},
   "source": [
    "### Building Vocab words with Importance Ratios"
   ]
  },
  {
   "cell_type": "code",
   "execution_count": 165,
   "metadata": {},
   "outputs": [
    {
     "data": {
      "text/plain": [
       "1671"
      ]
     },
     "execution_count": 165,
     "metadata": {},
     "output_type": "execute_result"
    }
   ],
   "source": [
    "X_train_tokens = tfidf_vec.get_feature_names()\n",
    "len(X_train_tokens)"
   ]
  },
  {
   "cell_type": "code",
   "execution_count": null,
   "metadata": {},
   "outputs": [],
   "source": []
  },
  {
   "cell_type": "code",
   "execution_count": 167,
   "metadata": {},
   "outputs": [],
   "source": [
    "coef = svcclassifier.coef_\n",
    "#nb.feature_count_"
   ]
  },
  {
   "cell_type": "code",
   "execution_count": 168,
   "metadata": {},
   "outputs": [
    {
     "data": {
      "text/plain": [
       "<1x1875 sparse matrix of type '<class 'numpy.float64'>'\n",
       "\twith 1875 stored elements in Compressed Sparse Row format>"
      ]
     },
     "execution_count": 168,
     "metadata": {},
     "output_type": "execute_result"
    }
   ],
   "source": [
    "coef"
   ]
  },
  {
   "cell_type": "code",
   "execution_count": 169,
   "metadata": {},
   "outputs": [],
   "source": [
    "coef = svcclassifier.coef_.toarray().ravel()\n",
    "#df.z.as_matrix().ravel()\n"
   ]
  },
  {
   "cell_type": "code",
   "execution_count": 170,
   "metadata": {},
   "outputs": [],
   "source": [
    "top_positive_coefficients = np.argsort(coef)[-20:]\n",
    "top_negative_coefficients = np.argsort(coef)[:20]\n",
    "top_coefficients = np.hstack([top_negative_coefficients, top_positive_coefficients])"
   ]
  },
  {
   "cell_type": "code",
   "execution_count": 171,
   "metadata": {},
   "outputs": [
    {
     "data": {
      "text/plain": [
       "array([ 678, 1159, 1544, 1590,  594,  402,  399, 1667,  135, 1668,  253,\n",
       "        199,  633, 1858,  153, 1437,  550, 1121, 1411,  692], dtype=int64)"
      ]
     },
     "execution_count": 171,
     "metadata": {},
     "output_type": "execute_result"
    }
   ],
   "source": [
    "top_negative_coefficients"
   ]
  },
  {
   "cell_type": "code",
   "execution_count": 176,
   "metadata": {},
   "outputs": [
    {
     "data": {
      "image/png": "[encoded data removed]",
      "text/plain": [
       "<Figure size 960x400 with 1 Axes>"
      ]
     },
     "metadata": {},
     "output_type": "display_data"
    }
   ],
   "source": [
    "# create plot\n",
    "plt.figure(figsize=(12, 5))\n",
    "colors = ['red' if c < 0 else 'blue' for c in coef[top_coefficients]]\n",
    "plt.bar(np.arange(2 * 20), coef[top_coefficients], color=colors)\n",
    "feature_names = np.array(X_train_tokens)\n",
    "#plt.xticks(np.arange(1, 1 + 2 * 20), feature_names[top_coefficients], rotation=60, ha='right')\n",
    "plt.title('Visualising Top Features in Linear SVM')\n",
    "plt.show()"
   ]
  },
  {
   "cell_type": "code",
   "execution_count": 177,
   "metadata": {},
   "outputs": [
    {
     "data": {
      "text/plain": [
       "array([0.68853291, 0.33512832, 4.20409387, ..., 0.1303541 , 0.        ,\n",
       "       0.        ])"
      ]
     },
     "execution_count": 177,
     "metadata": {},
     "output_type": "execute_result"
    }
   ],
   "source": [
    "Dismissed = nb.feature_count_[0,:]\n",
    "Dismissed"
   ]
  },
  {
   "cell_type": "code",
   "execution_count": 178,
   "metadata": {},
   "outputs": [
    {
     "data": {
      "text/plain": [
       "array([14.14781547,  1.70572383, 20.25823591, ...,  0.95158435,\n",
       "        0.84172731,  1.65149084])"
      ]
     },
     "execution_count": 178,
     "metadata": {},
     "output_type": "execute_result"
    }
   ],
   "source": [
    "Won = nb.feature_count_[1,:]\n",
    "Won"
   ]
  },
  {
   "cell_type": "markdown",
   "metadata": {},
   "source": [
    "## By Adding State One hot Encoding"
   ]
  },
  {
   "cell_type": "code",
   "execution_count": 180,
   "metadata": {},
   "outputs": [],
   "source": [
    "X = df_cleaned.text\n",
    "y = df_cleaned.Labelenc"
   ]
  },
  {
   "cell_type": "code",
   "execution_count": null,
   "metadata": {},
   "outputs": [],
   "source": []
  },
  {
   "cell_type": "code",
   "execution_count": 181,
   "metadata": {},
   "outputs": [],
   "source": [
    "X_train_txt, X_test_txt, y_train, y_test,getdumm_train,getdumm_test = train_test_split(X, y,getdumm,test_size=0.2, random_state=1)"
   ]
  },
  {
   "cell_type": "code",
   "execution_count": 182,
   "metadata": {},
   "outputs": [
    {
     "data": {
      "text/plain": [
       "(1661, 3296)"
      ]
     },
     "execution_count": 182,
     "metadata": {},
     "output_type": "execute_result"
    }
   ],
   "source": [
    "tfidf_vec = TfidfVectorizer(stop_words='english', ngram_range=(1,4),lowercase=True,min_df=40,max_features=5000)\n",
    "X_dtm_train = tfidf_vec.fit_transform((X_train_txt))\n",
    "X_dtm_train.shape"
   ]
  },
  {
   "cell_type": "code",
   "execution_count": null,
   "metadata": {},
   "outputs": [],
   "source": []
  },
  {
   "cell_type": "code",
   "execution_count": 183,
   "metadata": {},
   "outputs": [],
   "source": [
    "dense = X_dtm_train.todense()\n",
    "#getdumm_train = getdumm_train.reshape(-1,1)\n",
    "final_train_dtm = np.append(dense,getdumm_train,1)"
   ]
  },
  {
   "cell_type": "code",
   "execution_count": 184,
   "metadata": {},
   "outputs": [
    {
     "data": {
      "text/plain": [
       "(416, 3296)"
      ]
     },
     "execution_count": 184,
     "metadata": {},
     "output_type": "execute_result"
    }
   ],
   "source": [
    "X_dtm_test = tfidf_vec.transform(X_test_txt)\n",
    "X_dtm_test.shape"
   ]
  },
  {
   "cell_type": "code",
   "execution_count": 185,
   "metadata": {},
   "outputs": [
    {
     "data": {
      "text/plain": [
       "SVC(C=1.0, cache_size=200, class_weight=None, coef0=0.0,\n",
       "  decision_function_shape='ovr', degree=3, gamma='auto', kernel='linear',\n",
       "  max_iter=-1, probability=False, random_state=0, shrinking=True,\n",
       "  tol=0.001, verbose=False)"
      ]
     },
     "execution_count": 185,
     "metadata": {},
     "output_type": "execute_result"
    }
   ],
   "source": [
    "svcclassifier = SVC(random_state=0,kernel='linear')\n",
    "svcclassifier.fit(final_train_dtm,y_train)"
   ]
  },
  {
   "cell_type": "code",
   "execution_count": 186,
   "metadata": {},
   "outputs": [],
   "source": [
    "dense = X_dtm_test.todense()\n",
    "#getdumm_train = getdumm_train.reshape(-1,1)\n",
    "final_test_dtm = np.append(dense,getdumm_test,1)"
   ]
  },
  {
   "cell_type": "code",
   "execution_count": 187,
   "metadata": {},
   "outputs": [
    {
     "data": {
      "text/plain": [
       "0.9494280553883203"
      ]
     },
     "execution_count": 187,
     "metadata": {},
     "output_type": "execute_result"
    }
   ],
   "source": [
    "svcclassifier.score(final_train_dtm,y_train)"
   ]
  },
  {
   "cell_type": "code",
   "execution_count": 188,
   "metadata": {},
   "outputs": [],
   "source": [
    "y_pred_svm = svcclassifier.predict(final_test_dtm)"
   ]
  },
  {
   "cell_type": "code",
   "execution_count": 189,
   "metadata": {},
   "outputs": [
    {
     "name": "stdout",
     "output_type": "stream",
     "text": [
      "SVM ACCURACY: 0.8990384615384616\n",
      "SVM CLASSIFIER CONFUSTION MATRIX: [[ 51  29]\n",
      " [ 13 323]]\n",
      "===> **SVM F1 SCORE [0.70833333 0.93895349]\n",
      "===> **SVM Recall SCORE [0.6375     0.96130952]\n",
      "===> **SVM Precision SCORE [0.796875   0.91761364]\n",
      "===> **SVM ROC_AUC SCORE 0.7994047619047618\n"
     ]
    }
   ],
   "source": [
    "print(\"SVM ACCURACY:\",metrics.accuracy_score(y_test,y_pred_svm))\n",
    "print('SVM CLASSIFIER CONFUSTION MATRIX:',metrics.confusion_matrix(y_test,y_pred_svm))\n",
    "print(\"===> **SVM F1 SCORE\",metrics.f1_score(y_test, y_pred_svm,average=None))\n",
    "print(\"===> **SVM Recall SCORE\",metrics.recall_score(y_test, y_pred_svm,average=None))\n",
    "print(\"===> **SVM Precision SCORE\",metrics.precision_score(y_test, y_pred_svm,average=None))\n",
    "print(\"===> **SVM ROC_AUC SCORE\",metrics.roc_auc_score(y_test, y_pred_svm,average=None))\n"
   ]
  },
  {
   "cell_type": "markdown",
   "metadata": {},
   "source": [
    "## LSTM Neural Network"
   ]
  },
  {
   "cell_type": "code",
   "execution_count": 190,
   "metadata": {},
   "outputs": [],
   "source": [
    "X = df_cleaned.text"
   ]
  },
  {
   "cell_type": "code",
   "execution_count": 191,
   "metadata": {},
   "outputs": [],
   "source": [
    "y = df_cleaned.Labelenc"
   ]
  },
  {
   "cell_type": "code",
   "execution_count": 192,
   "metadata": {},
   "outputs": [],
   "source": [
    "X_train_txt, X_test_txt, y_train, y_test, = train_test_split(X, y,test_size=0.2, random_state=1)"
   ]
  },
  {
   "cell_type": "code",
   "execution_count": 193,
   "metadata": {},
   "outputs": [
    {
     "name": "stderr",
     "output_type": "stream",
     "text": [
      "C:\\Users\\madhan.s\\AppData\\Local\\Continuum\\anaconda3\\lib\\site-packages\\h5py\\__init__.py:36: FutureWarning: Conversion of the second argument of issubdtype from `float` to `np.floating` is deprecated. In future, it will be treated as `np.float64 == np.dtype(float).type`.\n",
      "  from ._conv import register_converters as _register_converters\n",
      "Using TensorFlow backend.\n"
     ]
    }
   ],
   "source": [
    "from keras.datasets import imdb\n",
    "import numpy as np\n",
    "\n",
    "from keras.models import Sequential\n",
    "from keras.layers import Dense\n",
    "from keras.layers import Flatten\n",
    "from keras.layers.convolutional import Conv1D\n",
    "from keras.layers.convolutional import MaxPooling1D\n",
    "from keras.layers.embeddings import Embedding\n",
    "from keras.layers import LSTM\n",
    "from keras import callbacks\n",
    "from keras.preprocessing.text import Tokenizer\n",
    "from keras.preprocessing import sequence\n"
   ]
  },
  {
   "cell_type": "code",
   "execution_count": 194,
   "metadata": {},
   "outputs": [],
   "source": [
    "from keras.datasets import imdb\n",
    "from keras.preprocessing.sequence import pad_sequences\n",
    "vocab_size = 10000 #vocab size\n",
    "maxlen = 300  #number of word used from each review\n",
    "tok = Tokenizer(num_words=vocab_size)\n",
    "tok.fit_on_texts(X_train_txt)\n",
    "sequences_train = tok.texts_to_sequences(X_train_txt)\n",
    "sequences_test = tok.texts_to_sequences(X_test_txt)\n",
    "#load dataset as a list of ints\n",
    "#(x_train, y_train), (x_test, y_test) = imdb.load_data(num_words=vocab_size)\n",
    "#make all sequences of the same length\n",
    "x_train = sequence.pad_sequences(sequences_train, maxlen=maxlen)\n",
    "x_test =  sequence.pad_sequences(sequences_test, maxlen=maxlen)"
   ]
  },
  {
   "cell_type": "code",
   "execution_count": 195,
   "metadata": {},
   "outputs": [
    {
     "data": {
      "text/plain": [
       "(1661, 300)"
      ]
     },
     "execution_count": 195,
     "metadata": {},
     "output_type": "execute_result"
    }
   ],
   "source": [
    "x_train.shape"
   ]
  },
  {
   "cell_type": "code",
   "execution_count": 196,
   "metadata": {},
   "outputs": [
    {
     "data": {
      "text/plain": [
       "(416, 300)"
      ]
     },
     "execution_count": 196,
     "metadata": {},
     "output_type": "execute_result"
    }
   ],
   "source": [
    "x_test.shape"
   ]
  },
  {
   "cell_type": "code",
   "execution_count": 197,
   "metadata": {},
   "outputs": [],
   "source": [
    "lstm_model = Sequential()\n",
    "lstm_model.add(Embedding(vocab_size, 128))\n",
    "lstm_model.add(LSTM(128, dropout=0.2, recurrent_dropout=0.2))\n",
    "#lstm_model.add(Flatten())\n",
    "#lstm_model.add(Dense(250, activation='relu'))\n",
    "lstm_model.add(Dense(1, activation='sigmoid'))\n",
    "\n",
    "early_stopping = callbacks.EarlyStopping(monitor='val_loss', min_delta=0,\n",
    "                                         patience=2, verbose=0, mode='auto')\n",
    "\n",
    "# Compile and train.\n",
    "lstm_model.compile(loss='binary_crossentropy', \n",
    "              optimizer='adam',\n",
    "              metrics=['accuracy'])"
   ]
  },
  {
   "cell_type": "code",
   "execution_count": 198,
   "metadata": {},
   "outputs": [
    {
     "name": "stdout",
     "output_type": "stream",
     "text": [
      "Train on 1661 samples, validate on 416 samples\n",
      "Epoch 1/20\n",
      "1661/1661 [==============================] - 47s 28ms/step - loss: 0.5478 - acc: 0.7875 - val_loss: 0.4482 - val_acc: 0.8077\n",
      "Epoch 2/20\n",
      "1661/1661 [==============================] - 41s 25ms/step - loss: 0.4388 - acc: 0.8031 - val_loss: 0.4014 - val_acc: 0.8125\n",
      "Epoch 3/20\n",
      "1661/1661 [==============================] - 43s 26ms/step - loss: 0.3574 - acc: 0.8435 - val_loss: 0.3538 - val_acc: 0.8317\n",
      "Epoch 4/20\n",
      "1661/1661 [==============================] - 44s 27ms/step - loss: 0.2795 - acc: 0.8928 - val_loss: 0.3280 - val_acc: 0.8413\n",
      "Epoch 5/20\n",
      "1661/1661 [==============================] - 46s 28ms/step - loss: 0.1984 - acc: 0.9235 - val_loss: 0.3746 - val_acc: 0.8389\n",
      "Epoch 6/20\n",
      "1661/1661 [==============================] - 42s 26ms/step - loss: 0.1570 - acc: 0.9530 - val_loss: 0.3715 - val_acc: 0.8606\n",
      "416/416 [==============================] - 1s 3ms/step\n",
      "Test loss (LOWER is better)      : 0.3715188503265381\n",
      "Test accuracy (HIGHER is better) : 0.8605769230769231\n"
     ]
    }
   ],
   "source": [
    "lstm_model.fit(x_train, y_train, batch_size=64, epochs=20,\n",
    "          validation_data=(x_test, y_test),\n",
    "          callbacks=[early_stopping])\n",
    "\n",
    "loss, acc = lstm_model.evaluate(x_test, y_test, batch_size=64)\n",
    "\n",
    "print('Test loss (LOWER is better)      :', loss)\n",
    "print('Test accuracy (HIGHER is better) :', acc)"
   ]
  },
  {
   "cell_type": "code",
   "execution_count": 199,
   "metadata": {},
   "outputs": [],
   "source": [
    "lstm_pred = lstm_model.predict_classes(x_test)"
   ]
  },
  {
   "cell_type": "code",
   "execution_count": null,
   "metadata": {},
   "outputs": [],
   "source": []
  },
  {
   "cell_type": "code",
   "execution_count": 200,
   "metadata": {},
   "outputs": [],
   "source": [
    "lstm_pred = lstm_pred"
   ]
  },
  {
   "cell_type": "code",
   "execution_count": 201,
   "metadata": {},
   "outputs": [],
   "source": [
    "#lstm_pred"
   ]
  },
  {
   "cell_type": "code",
   "execution_count": 204,
   "metadata": {},
   "outputs": [
    {
     "name": "stdout",
     "output_type": "stream",
     "text": [
      "LSTM ACCURACY: 0.8605769230769231\n",
      "LSTM CLASSIFIER CONFUSTION MATRIX: [[ 38  42]\n",
      " [ 16 320]]\n",
      "===> **LSTM F1 SCORE [0.56716418 0.91690544]\n",
      "===> **LSTM Recall SCORE [0.475      0.95238095]\n",
      "===> **LSTM Precision SCORE [0.7037037 0.8839779]\n",
      "===> **LSTM ROC_AUC SCORE 0.7136904761904761\n",
      "#######################################################################################\n"
     ]
    }
   ],
   "source": [
    "print(\"LSTM ACCURACY:\",metrics.accuracy_score(y_test,lstm_pred))\n",
    "print('LSTM CLASSIFIER CONFUSTION MATRIX:',metrics.confusion_matrix(y_test,lstm_pred))\n",
    "print(\"===> **LSTM F1 SCORE\",metrics.f1_score(y_test, lstm_pred,average=None))\n",
    "print(\"===> **LSTM Recall SCORE\",metrics.recall_score(y_test, lstm_pred,average=None))\n",
    "print(\"===> **LSTM Precision SCORE\",metrics.precision_score(y_test, lstm_pred,average=None))\n",
    "print(\"===> **LSTM ROC_AUC SCORE\",metrics.roc_auc_score(y_test, lstm_pred,average=None))\n",
    "print(\"#######################################################################################\")"
   ]
  },
  {
   "cell_type": "code",
   "execution_count": null,
   "metadata": {},
   "outputs": [],
   "source": []
  },
  {
   "cell_type": "code",
   "execution_count": null,
   "metadata": {},
   "outputs": [],
   "source": []
  },
  {
   "cell_type": "code",
   "execution_count": null,
   "metadata": {},
   "outputs": [],
   "source": []
  }
 ],
 "metadata": {
  "kernelspec": {
   "display_name": "Python 3",
   "language": "python",
   "name": "python3"
  },
  "language_info": {
   "codemirror_mode": {
    "name": "ipython",
    "version": 3
   },
   "file_extension": ".py",
   "mimetype": "text/x-python",
   "name": "python",
   "nbconvert_exporter": "python",
   "pygments_lexer": "ipython3",
   "version": "3.6.5"
  }
 },
 "nbformat": 4,
 "nbformat_minor": 2
}
