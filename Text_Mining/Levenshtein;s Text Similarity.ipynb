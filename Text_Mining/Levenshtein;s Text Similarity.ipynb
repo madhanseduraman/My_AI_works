{
 "cells": [
  {
   "cell_type": "code",
   "execution_count": 3,
   "metadata": {},
   "outputs": [],
   "source": [
    "import pandas as pd\n",
    "import numpy as np\n",
    "from bs4 import BeautifulSoup\n",
    "import re\n",
    "import nltk\n",
    "from nltk.corpus import stopwords\n",
    "from sklearn.feature_extraction.text import CountVectorizer\n",
    "from sklearn.feature_extraction.text import TfidfVectorizer\n",
    "from sklearn.cluster import KMeans\n",
    "from sklearn.decomposition import PCA\n",
    "from sklearn.ensemble import RandomForestClassifier\n",
    "from sklearn.linear_model.logistic import LogisticRegression\n",
    "from sklearn.linear_model import LinearRegression\n",
    "from sklearn.neighbors import KNeighborsClassifier\n",
    "from sklearn import metrics"
   ]
  },
  {
   "cell_type": "code",
   "execution_count": 4,
   "metadata": {},
   "outputs": [],
   "source": [
    "#nineth_file = pd.read_excel('train_df.xlsx', sheet_name='Sheet1')\n",
    "#nineteen_march = pd.read_excel(r'Testing\\19_03_2018_Duplicate_Check_Output.xlsx', sheet_name='Duplicates')\n",
    "#twentieth_march = pd.read_excel(r'Testing\\20_03_2018_Duplicate_Check_Output.xlsx',sheet_name='Duplicates')\n",
    "#twentifirst_march = pd.read_excel(r'Testing\\21_03_2018_Duplicate_Check_Output.xlsx',sheet_name='Duplicates')\n",
    "#twentyseventh_march = pd.read_excel(r'Testing\\27-03-2018-Duplicate_Output.xlsx',sheet_name='Duplicates')\n",
    "second_may = pd.read_excel(r'Testing\\02_05_2018_Duplicate_Check_Output.xlsx',sheet_name='Duplicates')\n",
    "third_may = pd.read_excel(r'Testing\\03_05_2018_Duplicate_Check_Output.xlsx',sheet_name='Duplicates')\n",
    "fifteenth_may = pd.read_excel(r'Testing\\15_05_2018_Duplicate_Check_Output.xlsx',sheet_name='Duplicates')"
   ]
  },
  {
   "cell_type": "code",
   "execution_count": 6,
   "metadata": {},
   "outputs": [
    {
     "name": "stdout",
     "output_type": "stream",
     "text": [
      "(328, 63)\n",
      "(324, 63)\n",
      "(371, 63)\n"
     ]
    }
   ],
   "source": [
    "#print(nineteen_march.shape)\n",
    "#print(twentieth_march.shape)\n",
    "#print(twentifirst_march.shape)\n",
    "#print(twentyseventh_march.shape)\n",
    "print(second_may.shape)\n",
    "print(third_may.shape)\n",
    "print(fifteenth_may.shape)"
   ]
  },
  {
   "cell_type": "code",
   "execution_count": 7,
   "metadata": {},
   "outputs": [],
   "source": [
    "#nineth_file = pd.read_excel('09_02_2018_Duplicate_Check_Output.xlsx', sheet_name='Duplicates')\n",
    "#fifteenth_file = pd.read_excel('15_02_2018_Duplicate_Check_Output.xlsx', sheet_name='Duplicates')\n",
    "#dup_test_2 = nineth_file.append(fifteenth_file,ignore_index=True)\n",
    "dup_test_2 = fifteenth_may"
   ]
  },
  {
   "cell_type": "code",
   "execution_count": 8,
   "metadata": {},
   "outputs": [
    {
     "data": {
      "text/plain": [
       "(371, 63)"
      ]
     },
     "execution_count": 8,
     "metadata": {},
     "output_type": "execute_result"
    }
   ],
   "source": [
    "dup_test_2.shape"
   ]
  },
  {
   "cell_type": "code",
   "execution_count": 9,
   "metadata": {},
   "outputs": [
    {
     "data": {
      "text/html": [
       "<div>\n",
       "<style scoped>\n",
       "    .dataframe tbody tr th:only-of-type {\n",
       "        vertical-align: middle;\n",
       "    }\n",
       "\n",
       "    .dataframe tbody tr th {\n",
       "        vertical-align: top;\n",
       "    }\n",
       "\n",
       "    .dataframe thead th {\n",
       "        text-align: right;\n",
       "    }\n",
       "</style>\n",
       "<table border=\"1\" class=\"dataframe\">\n",
       "  <thead>\n",
       "    <tr style=\"text-align: right;\">\n",
       "      <th></th>\n",
       "      <th>u_task u_requested_by</th>\n",
       "      <th>u_task u_requested_by u_area</th>\n",
       "      <th>u_task u_requested_by department</th>\n",
       "      <th>u_task u_requested_by u_service_line</th>\n",
       "      <th>u_task u_requested_by vip</th>\n",
       "      <th>u_task u_requested_by preferred_language</th>\n",
       "      <th>u_task active</th>\n",
       "      <th>u_task contact_type</th>\n",
       "      <th>u_task number</th>\n",
       "      <th>u_task opened_at</th>\n",
       "      <th>...</th>\n",
       "      <th>u_gsd_level_1_fcr</th>\n",
       "      <th>u_gsd_l2_fcr</th>\n",
       "      <th>u_gsd_l1_fcr</th>\n",
       "      <th>u_dispatch_time_l2</th>\n",
       "      <th>FileName</th>\n",
       "      <th>u_task u_survey_sent</th>\n",
       "      <th>u_task parent</th>\n",
       "      <th>Comments</th>\n",
       "      <th>Index</th>\n",
       "      <th>Exceptions</th>\n",
       "    </tr>\n",
       "  </thead>\n",
       "  <tbody>\n",
       "    <tr>\n",
       "      <th>366</th>\n",
       "      <td>Zahid Aslam</td>\n",
       "      <td>EM</td>\n",
       "      <td>United Arab Emirates</td>\n",
       "      <td>Assurance</td>\n",
       "      <td>False</td>\n",
       "      <td>English</td>\n",
       "      <td>True</td>\n",
       "      <td>Phone</td>\n",
       "      <td>SR12103493</td>\n",
       "      <td>10-05-2018 06:36:40</td>\n",
       "      <td>...</td>\n",
       "      <td>NaN</td>\n",
       "      <td>False</td>\n",
       "      <td>False</td>\n",
       "      <td>NaN</td>\n",
       "      <td>Operational SLA extract (still active) - Part ...</td>\n",
       "      <td>NaN</td>\n",
       "      <td>NaN</td>\n",
       "      <td>Dupe - u_task u_business_service - Matching</td>\n",
       "      <td>D</td>\n",
       "      <td>NaN</td>\n",
       "    </tr>\n",
       "    <tr>\n",
       "      <th>367</th>\n",
       "      <td>Ze Yin Wang</td>\n",
       "      <td>AP</td>\n",
       "      <td>China</td>\n",
       "      <td>Assurance</td>\n",
       "      <td>False</td>\n",
       "      <td>English</td>\n",
       "      <td>True</td>\n",
       "      <td>Phone</td>\n",
       "      <td>SR12109910</td>\n",
       "      <td>10-05-2018 21:16:04</td>\n",
       "      <td>...</td>\n",
       "      <td>NaN</td>\n",
       "      <td>False</td>\n",
       "      <td>False</td>\n",
       "      <td>NaN</td>\n",
       "      <td>Operational SLA extract (still active) - Part ...</td>\n",
       "      <td>NaN</td>\n",
       "      <td>NaN</td>\n",
       "      <td>Master</td>\n",
       "      <td>O</td>\n",
       "      <td>NaN</td>\n",
       "    </tr>\n",
       "    <tr>\n",
       "      <th>368</th>\n",
       "      <td>Ze Yin Wang</td>\n",
       "      <td>AP</td>\n",
       "      <td>China</td>\n",
       "      <td>Assurance</td>\n",
       "      <td>False</td>\n",
       "      <td>English</td>\n",
       "      <td>True</td>\n",
       "      <td>Phone</td>\n",
       "      <td>SR12110141</td>\n",
       "      <td>10-05-2018 21:59:01</td>\n",
       "      <td>...</td>\n",
       "      <td>NaN</td>\n",
       "      <td>False</td>\n",
       "      <td>False</td>\n",
       "      <td>NaN</td>\n",
       "      <td>Operational SLA extract (still active) - Part ...</td>\n",
       "      <td>NaN</td>\n",
       "      <td>NaN</td>\n",
       "      <td>Dupe - u_task u_impacted_application - Matching</td>\n",
       "      <td>D</td>\n",
       "      <td>NaN</td>\n",
       "    </tr>\n",
       "    <tr>\n",
       "      <th>369</th>\n",
       "      <td>Zhi Zhi Han</td>\n",
       "      <td>AP</td>\n",
       "      <td>China</td>\n",
       "      <td>Assurance</td>\n",
       "      <td>False</td>\n",
       "      <td>English</td>\n",
       "      <td>True</td>\n",
       "      <td>Phone</td>\n",
       "      <td>SR12092137</td>\n",
       "      <td>09-05-2018 08:18:53</td>\n",
       "      <td>...</td>\n",
       "      <td>NaN</td>\n",
       "      <td>False</td>\n",
       "      <td>False</td>\n",
       "      <td>NaN</td>\n",
       "      <td>Operational SLA extract (still active) - Part ...</td>\n",
       "      <td>NaN</td>\n",
       "      <td>NaN</td>\n",
       "      <td>Master</td>\n",
       "      <td>O</td>\n",
       "      <td>NaN</td>\n",
       "    </tr>\n",
       "    <tr>\n",
       "      <th>370</th>\n",
       "      <td>Zhi Zhi Han</td>\n",
       "      <td>AP</td>\n",
       "      <td>China</td>\n",
       "      <td>Assurance</td>\n",
       "      <td>False</td>\n",
       "      <td>English</td>\n",
       "      <td>True</td>\n",
       "      <td>Phone</td>\n",
       "      <td>SR12115822</td>\n",
       "      <td>11-05-2018 07:31:00</td>\n",
       "      <td>...</td>\n",
       "      <td>NaN</td>\n",
       "      <td>False</td>\n",
       "      <td>False</td>\n",
       "      <td>NaN</td>\n",
       "      <td>Operational SLA extract (still active) - Part ...</td>\n",
       "      <td>NaN</td>\n",
       "      <td>NaN</td>\n",
       "      <td>Dupe - u_task u_impacted_application - Matching</td>\n",
       "      <td>D</td>\n",
       "      <td>NaN</td>\n",
       "    </tr>\n",
       "  </tbody>\n",
       "</table>\n",
       "<p>5 rows × 63 columns</p>\n",
       "</div>"
      ],
      "text/plain": [
       "    u_task u_requested_by u_task u_requested_by u_area  \\\n",
       "366           Zahid Aslam                           EM   \n",
       "367           Ze Yin Wang                           AP   \n",
       "368           Ze Yin Wang                           AP   \n",
       "369           Zhi Zhi Han                           AP   \n",
       "370           Zhi Zhi Han                           AP   \n",
       "\n",
       "    u_task u_requested_by department u_task u_requested_by u_service_line  \\\n",
       "366             United Arab Emirates                            Assurance   \n",
       "367                            China                            Assurance   \n",
       "368                            China                            Assurance   \n",
       "369                            China                            Assurance   \n",
       "370                            China                            Assurance   \n",
       "\n",
       "     u_task u_requested_by vip u_task u_requested_by preferred_language  \\\n",
       "366                      False                                  English   \n",
       "367                      False                                  English   \n",
       "368                      False                                  English   \n",
       "369                      False                                  English   \n",
       "370                      False                                  English   \n",
       "\n",
       "     u_task active u_task contact_type u_task number     u_task opened_at  \\\n",
       "366           True               Phone    SR12103493  10-05-2018 06:36:40   \n",
       "367           True               Phone    SR12109910  10-05-2018 21:16:04   \n",
       "368           True               Phone    SR12110141  10-05-2018 21:59:01   \n",
       "369           True               Phone    SR12092137  09-05-2018 08:18:53   \n",
       "370           True               Phone    SR12115822  11-05-2018 07:31:00   \n",
       "\n",
       "       ...      u_gsd_level_1_fcr  u_gsd_l2_fcr u_gsd_l1_fcr  \\\n",
       "366    ...                    NaN         False        False   \n",
       "367    ...                    NaN         False        False   \n",
       "368    ...                    NaN         False        False   \n",
       "369    ...                    NaN         False        False   \n",
       "370    ...                    NaN         False        False   \n",
       "\n",
       "    u_dispatch_time_l2                                           FileName  \\\n",
       "366                NaN  Operational SLA extract (still active) - Part ...   \n",
       "367                NaN  Operational SLA extract (still active) - Part ...   \n",
       "368                NaN  Operational SLA extract (still active) - Part ...   \n",
       "369                NaN  Operational SLA extract (still active) - Part ...   \n",
       "370                NaN  Operational SLA extract (still active) - Part ...   \n",
       "\n",
       "    u_task u_survey_sent u_task parent  \\\n",
       "366                  NaN           NaN   \n",
       "367                  NaN           NaN   \n",
       "368                  NaN           NaN   \n",
       "369                  NaN           NaN   \n",
       "370                  NaN           NaN   \n",
       "\n",
       "                                            Comments Index Exceptions  \n",
       "366      Dupe - u_task u_business_service - Matching     D        NaN  \n",
       "367                                           Master     O        NaN  \n",
       "368  Dupe - u_task u_impacted_application - Matching     D        NaN  \n",
       "369                                           Master     O        NaN  \n",
       "370  Dupe - u_task u_impacted_application - Matching     D        NaN  \n",
       "\n",
       "[5 rows x 63 columns]"
      ]
     },
     "execution_count": 9,
     "metadata": {},
     "output_type": "execute_result"
    }
   ],
   "source": [
    "dup_test_2.tail()"
   ]
  },
  {
   "cell_type": "code",
   "execution_count": 10,
   "metadata": {},
   "outputs": [
    {
     "data": {
      "text/plain": [
       "Index(['u_task u_requested_by', 'u_task u_requested_by u_area',\n",
       "       'u_task u_requested_by department',\n",
       "       'u_task u_requested_by u_service_line', 'u_task u_requested_by vip',\n",
       "       'u_task u_requested_by preferred_language', 'u_task active',\n",
       "       'u_task contact_type', 'u_task number', 'u_task opened_at',\n",
       "       'u_task u_reopen_count', 'u_task reassignment_count', 'u_task priority',\n",
       "       'u_task u_resolved_date', 'u_task sys_mod_count',\n",
       "       'u_task u_business_service', 'u_task u_impacted_application',\n",
       "       'u_task state', 'u_task short_description', 'u_task cmdb_ci',\n",
       "       'u_task u_impacted_ci', 'u_task subcategory',\n",
       "       'u_task u_impacted_account', 'u_task close_notes', 'u_task made_sla',\n",
       "       'u_task assignment_group u_tier_level', 'u_task u_level1',\n",
       "       'u_task sys_updated_on', 'u_task sys_updated_by', 'u_task u_level4',\n",
       "       'u_task u_level3', 'u_task u_level2', 'u_task opened_by',\n",
       "       'u_task opened_by u_gpn', 'u_task opened_by u_hire_date',\n",
       "       'u_task assignment_group', 'u_task assigned_to',\n",
       "       'u_task assigned_to u_gpn', 'u_task assigned_to u_hire_date',\n",
       "       'u_task watch_list', 'u_task requested_for', 'u_task u_resolved_by',\n",
       "       'u_create_agent', 'u_create_group', 'u_non_gsd_touch', 'u_open_group',\n",
       "       'u_oss_touch', 'u_linked_ticket', 'u_gsd_ola_time_l2',\n",
       "       'u_gsd_ola_time_l1', 'u_gsd_level_2_touch', 'u_gsd_level_2_fcr',\n",
       "       'u_gsd_level_1_touch', 'u_gsd_level_1_fcr', 'u_gsd_l2_fcr',\n",
       "       'u_gsd_l1_fcr', 'u_dispatch_time_l2', 'FileName',\n",
       "       'u_task u_survey_sent', 'u_task parent', 'Comments', 'Index',\n",
       "       'Exceptions'],\n",
       "      dtype='object')"
      ]
     },
     "execution_count": 10,
     "metadata": {},
     "output_type": "execute_result"
    }
   ],
   "source": [
    "dup_test_2.columns"
   ]
  },
  {
   "cell_type": "code",
   "execution_count": 11,
   "metadata": {},
   "outputs": [
    {
     "data": {
      "text/plain": [
       "Index(['u_task_u_requested_by', 'u_task_u_requested_by_u_area',\n",
       "       'u_task_u_requested_by_department',\n",
       "       'u_task_u_requested_by_u_service_line', 'u_task_u_requested_by_vip',\n",
       "       'u_task_u_requested_by_preferred_language', 'u_task_active',\n",
       "       'u_task_contact_type', 'u_task_number', 'u_task_opened_at',\n",
       "       'u_task_u_reopen_count', 'u_task_reassignment_count', 'u_task_priority',\n",
       "       'u_task_u_resolved_date', 'u_task_sys_mod_count',\n",
       "       'u_task_u_business_service', 'u_task_u_impacted_application',\n",
       "       'u_task_state', 'u_task_short_description', 'u_task_cmdb_ci',\n",
       "       'u_task_u_impacted_ci', 'u_task_subcategory',\n",
       "       'u_task_u_impacted_account', 'u_task_close_notes', 'u_task_made_sla',\n",
       "       'u_task_assignment_group_u_tier_level', 'u_task_u_level1',\n",
       "       'u_task_sys_updated_on', 'u_task_sys_updated_by', 'u_task_u_level4',\n",
       "       'u_task_u_level3', 'u_task_u_level2', 'u_task_opened_by',\n",
       "       'u_task_opened_by_u_gpn', 'u_task_opened_by_u_hire_date',\n",
       "       'u_task_assignment_group', 'u_task_assigned_to',\n",
       "       'u_task_assigned_to_u_gpn', 'u_task_assigned_to_u_hire_date',\n",
       "       'u_task_watch_list', 'u_task_requested_for', 'u_task_u_resolved_by',\n",
       "       'u_create_agent', 'u_create_group', 'u_non_gsd_touch', 'u_open_group',\n",
       "       'u_oss_touch', 'u_linked_ticket', 'u_gsd_ola_time_l2',\n",
       "       'u_gsd_ola_time_l1', 'u_gsd_level_2_touch', 'u_gsd_level_2_fcr',\n",
       "       'u_gsd_level_1_touch', 'u_gsd_level_1_fcr', 'u_gsd_l2_fcr',\n",
       "       'u_gsd_l1_fcr', 'u_dispatch_time_l2', 'FileName',\n",
       "       'u_task_u_survey_sent', 'u_task_parent', 'Comments', 'Index',\n",
       "       'Exceptions'],\n",
       "      dtype='object')"
      ]
     },
     "execution_count": 11,
     "metadata": {},
     "output_type": "execute_result"
    }
   ],
   "source": [
    "dup_test_2.columns = [c.replace(' ','_') for c in dup_test_2.columns]\n",
    "dup_test_2.columns"
   ]
  },
  {
   "cell_type": "markdown",
   "metadata": {},
   "source": [
    "## Calculate Similarities"
   ]
  },
  {
   "cell_type": "code",
   "execution_count": 12,
   "metadata": {},
   "outputs": [
    {
     "name": "stderr",
     "output_type": "stream",
     "text": [
      "C:\\Users\\madhan.s\\AppData\\Local\\Continuum\\Anaconda3\\lib\\site-packages\\gensim\\utils.py:1197: UserWarning: detected Windows; aliasing chunkize to chunkize_serial\n",
      "  warnings.warn(\"detected Windows; aliasing chunkize to chunkize_serial\")\n"
     ]
    }
   ],
   "source": [
    "import os\n",
    "import pandas as pd\n",
    "import nltk\n",
    "import gensim\n",
    "from gensim import corpora, models, similarities"
   ]
  },
  {
   "cell_type": "code",
   "execution_count": 13,
   "metadata": {},
   "outputs": [],
   "source": [
    "from difflib import SequenceMatcher\n",
    "def similar(a, b):\n",
    "    return SequenceMatcher(None, a, b).ratio()"
   ]
  },
  {
   "cell_type": "markdown",
   "metadata": {},
   "source": [
    "### Based on Original and Duplicate column"
   ]
  },
  {
   "cell_type": "code",
   "execution_count": 14,
   "metadata": {},
   "outputs": [
    {
     "name": "stderr",
     "output_type": "stream",
     "text": [
      "C:\\Users\\madhan.s\\AppData\\Local\\Continuum\\Anaconda3\\lib\\site-packages\\ipykernel_launcher.py:12: SettingWithCopyWarning: \n",
      "A value is trying to be set on a copy of a slice from a DataFrame\n",
      "\n",
      "See the caveats in the documentation: http://pandas.pydata.org/pandas-docs/stable/indexing.html#indexing-view-versus-copy\n",
      "  if sys.path[0] == '':\n"
     ]
    }
   ],
   "source": [
    "c=0\n",
    "l = len(dup_test_2)\n",
    "dup_test_2['sim_value'] = ''\n",
    "while c<l-1:\n",
    "    for i in dup_test_2.iterrows():\n",
    "        if dup_test_2['Index'][c] == 'O':\n",
    "            text_1 = dup_test_2['u_task_short_description'][c]\n",
    "            #print(\"T1:\",text_1)\n",
    "            c=c+1\n",
    "        else:\n",
    "            text_2 = dup_test_2['u_task_short_description'][c]\n",
    "            dup_test_2['sim_value'][c] = round(similar(text_1,text_2),2)\n",
    "            #print(\"T2:\",text_2)\n",
    "            #print(similar(text_1,text_2))\n",
    "            c=c+1"
   ]
  },
  {
   "cell_type": "code",
   "execution_count": 29,
   "metadata": {},
   "outputs": [],
   "source": [
    "dup_test_2.to_excel(r'Testing\\dup_test_2(2nd_may_new).xlsx')"
   ]
  },
  {
   "cell_type": "code",
   "execution_count": 15,
   "metadata": {},
   "outputs": [
    {
     "name": "stderr",
     "output_type": "stream",
     "text": [
      "C:\\Users\\madhan.s\\AppData\\Local\\Continuum\\Anaconda3\\lib\\site-packages\\ipykernel_launcher.py:15: SettingWithCopyWarning: \n",
      "A value is trying to be set on a copy of a slice from a DataFrame\n",
      "\n",
      "See the caveats in the documentation: http://pandas.pydata.org/pandas-docs/stable/indexing.html#indexing-view-versus-copy\n",
      "  from ipykernel import kernelapp as app\n",
      "C:\\Users\\madhan.s\\AppData\\Local\\Continuum\\Anaconda3\\lib\\site-packages\\ipykernel_launcher.py:16: SettingWithCopyWarning: \n",
      "A value is trying to be set on a copy of a slice from a DataFrame\n",
      "\n",
      "See the caveats in the documentation: http://pandas.pydata.org/pandas-docs/stable/indexing.html#indexing-view-versus-copy\n",
      "  app.launch_new_instance()\n"
     ]
    },
    {
     "name": "stdout",
     "output_type": "stream",
     "text": [
      "Wall time: 1min 23s\n"
     ]
    }
   ],
   "source": [
    "%%time\n",
    "c = 0\n",
    "l = len(dup_test_2)\n",
    "simtest = []\n",
    "texts=[]\n",
    "username = []\n",
    "simtest.append('')\n",
    "dup_test_2['sim_value'] = ''\n",
    "for i in dup_test_2.iterrows():\n",
    "    while c<l-1:\n",
    "        if dup_test_2['u_task_u_impacted_ci'][c] == dup_test_2['u_task_u_impacted_ci'][c+1]:\n",
    "            #username.append(dup['u_task_u_requested_by'][c])\n",
    "            #username.append(dup['u_task_u_requested_by'][c+1])\n",
    "            text_1 = dup_test_2['u_task_short_description'][c]\n",
    "            text_2 = dup_test_2['u_task_short_description'][c+1]\n",
    "            dup_test_2['sim_value'][c] = round(similar(text_1,text_2),2)\n",
    "            dup_test_2['sim_value'][c+1] = round(similar(text_1,text_2),2)\n",
    "            #simtest.append(float(similar(text_1,text_2)))\n",
    "            #simtest.append(' ')\n",
    "            c=c+1\n",
    "            texts.append(text_1)\n",
    "            texts.append(text_2)\n",
    "            #print(\"text_1:\", text_1)\n",
    "            #print(\"text_2:\", text_2)\n",
    "        else:\n",
    "            c=c+1\n",
    "\n",
    "#len(simtest)\n",
    "#len(username)"
   ]
  },
  {
   "cell_type": "markdown",
   "metadata": {},
   "source": [
    "## c = 0\n",
    "l = len(dup_test_2)\n",
    "simtest = []\n",
    "texts=[]\n",
    "username = []\n",
    "simtest.append('')\n",
    "dup_test_2['sim_value'] = ''\n",
    "for i in dup_test_2.iterrows():\n",
    "    while c<l-1:\n",
    "        if dup_test_2['u_task_u_impacted_ci'][c] == dup_test_2['u_task_u_impacted_ci'][c+1]:\n",
    "            if dup_test_2['Exceptions'].any() == 'E':\n",
    "                dup_test_2['sim_value'][c] = 'Exception'\n",
    "            else:\n",
    "                #print(dup_test_2['u_task_short_description'][c])\n",
    "                #print(dup_test_2['u_task_short_description'][c+1])\n",
    "                c=c+1\n",
    "        else:\n",
    "            c=c+1"
   ]
  },
  {
   "cell_type": "code",
   "execution_count": 1,
   "metadata": {},
   "outputs": [],
   "source": [
    "#dup_test_2.head()"
   ]
  },
  {
   "cell_type": "code",
   "execution_count": 17,
   "metadata": {},
   "outputs": [
    {
     "name": "stderr",
     "output_type": "stream",
     "text": [
      "C:\\Users\\madhan.s\\AppData\\Local\\Continuum\\Anaconda3\\lib\\site-packages\\ipykernel_launcher.py:9: SettingWithCopyWarning: \n",
      "A value is trying to be set on a copy of a slice from a DataFrame\n",
      "\n",
      "See the caveats in the documentation: http://pandas.pydata.org/pandas-docs/stable/indexing.html#indexing-view-versus-copy\n",
      "  if __name__ == '__main__':\n",
      "C:\\Users\\madhan.s\\AppData\\Local\\Continuum\\Anaconda3\\lib\\site-packages\\ipykernel_launcher.py:7: SettingWithCopyWarning: \n",
      "A value is trying to be set on a copy of a slice from a DataFrame\n",
      "\n",
      "See the caveats in the documentation: http://pandas.pydata.org/pandas-docs/stable/indexing.html#indexing-view-versus-copy\n",
      "  import sys\n"
     ]
    },
    {
     "name": "stdout",
     "output_type": "stream",
     "text": [
      "Wall time: 1min 14s\n"
     ]
    }
   ],
   "source": [
    "%%time\n",
    "c = 0\n",
    "l = len(dup_test_2)\n",
    "dup_test_2['threshold_sim_value'] = ''\n",
    "for i in dup_test_2.iterrows():\n",
    "    while c<l:\n",
    "        if (dup_test_2['sim_value'][c] < 0.5):\n",
    "            dup_test_2['threshold_sim_value'][c] = 'Less than 0.5 threshold'\n",
    "        else:\n",
    "            dup_test_2['threshold_sim_value'][c] = 'greater than 0.5 threshold'\n",
    "        c=c+1"
   ]
  },
  {
   "cell_type": "code",
   "execution_count": 18,
   "metadata": {},
   "outputs": [
    {
     "name": "stdout",
     "output_type": "stream",
     "text": [
      "(165, 65)\n",
      "(206, 65)\n",
      "(371, 65)\n"
     ]
    }
   ],
   "source": [
    "df_lessthan  = dup_test_2[dup_test_2.threshold_sim_value =='Less than 0.5 threshold']\n",
    "df_greaterthan = dup_test_2[dup_test_2.threshold_sim_value =='greater than 0.5 threshold']\n",
    "print(df_lessthan.shape)\n",
    "print(df_greaterthan.shape)\n",
    "print(dup_test_2.shape)"
   ]
  },
  {
   "cell_type": "code",
   "execution_count": 19,
   "metadata": {},
   "outputs": [],
   "source": [
    "writer = pd.ExcelWriter(r'Testing\\dup_test_2(15th_may).xlsx', engine='xlsxwriter')"
   ]
  },
  {
   "cell_type": "code",
   "execution_count": 20,
   "metadata": {},
   "outputs": [],
   "source": [
    "dup_test_2.to_excel(writer, sheet_name='all tickets')\n",
    "df_lessthan.to_excel(writer, sheet_name='< 0.5 threshold')\n",
    "df_greaterthan.to_excel(writer, sheet_name='> 0.5 threshold')\n",
    "writer.save()"
   ]
  },
  {
   "cell_type": "code",
   "execution_count": null,
   "metadata": {},
   "outputs": [],
   "source": []
  }
 ],
 "metadata": {
  "anaconda-cloud": {},
  "kernelspec": {
   "display_name": "Python 3",
   "language": "python",
   "name": "python3"
  },
  "language_info": {
   "codemirror_mode": {
    "name": "ipython",
    "version": 3
   },
   "file_extension": ".py",
   "mimetype": "text/x-python",
   "name": "python",
   "nbconvert_exporter": "python",
   "pygments_lexer": "ipython3",
   "version": "3.6.5"
  }
 },
 "nbformat": 4,
 "nbformat_minor": 1
}
