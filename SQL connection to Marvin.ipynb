{
 "cells": [
  {
   "cell_type": "markdown",
   "metadata": {},
   "source": [
    "## Importing Python Modules to read databases"
   ]
  },
  {
   "cell_type": "code",
   "execution_count": 1,
   "metadata": {},
   "outputs": [],
   "source": [
    "import pyodbc\n",
    "import pandas.io.sql\n",
    "import pandas as pd"
   ]
  },
  {
   "cell_type": "markdown",
   "metadata": {},
   "source": [
    "### Defining the database parameters and connecting with the database"
   ]
  },
  {
   "cell_type": "code",
   "execution_count": 2,
   "metadata": {},
   "outputs": [],
   "source": [
    "# parameters\n",
    "server = 'defravmfv8huwr7.ey.net'\n",
    "db= 'Service Desk'\n",
    "db1 = 'Marvin 2.0'\n",
    "uid = 'MarvinReader'\n",
    "pwd = 'Marvin@123'\n",
    "tcon = 'yes'"
   ]
  },
  {
   "cell_type": "code",
   "execution_count": 3,
   "metadata": {},
   "outputs": [],
   "source": [
    "# Create the connection with DB Service Desk\n",
    "conn_sd = pyodbc.connect('DRIVER={SQL Server};SERVER=' + server + ';DATABASE=' + db + ';Trusted_Connection=yes')"
   ]
  },
  {
   "cell_type": "code",
   "execution_count": 4,
   "metadata": {},
   "outputs": [],
   "source": [
    "# Create the connection with DB Marvin 2\n",
    "#conn_marvin = pyodbc.connect('driver={SQL Server};server=' + server + 'DATABASE=' + db1 + ';uid=' + uid + ';pwd=' + pwd + 'Trusted_Connection=' + tcon)\n",
    "conn_marvin = pyodbc.connect(driver='{SQL Server}', host=server, database=db1,\n",
    "                      trusted_connection=tcon, user=uid, password=pwd)"
   ]
  },
  {
   "cell_type": "code",
   "execution_count": 5,
   "metadata": {},
   "outputs": [],
   "source": [
    "# query db\n",
    "#sql_open = \"SELECT top 100 * FROM dbo.Stage_PostNov_Bubble\"\n",
    "#sql_closepen = \"SELECT top (10000) * FROM Reporting.SLAData_Closed_Operational_Combined\"\n",
    "\n",
    "#df_open = pandas.io.sql.read_sql(sql_open, conn_sd)\n",
    "#df_close = pandas.io.sql.read_sql(sql_closepen,conn_marvin)"
   ]
  },
  {
   "cell_type": "markdown",
   "metadata": {},
   "source": [
    "### Retrieving samples of data from Marvin2.0 Database"
   ]
  },
  {
   "cell_type": "code",
   "execution_count": 6,
   "metadata": {},
   "outputs": [
    {
     "name": "stdout",
     "output_type": "stream",
     "text": [
      "count          10781\n",
      "unique             1\n",
      "top       Secure Hub\n",
      "freq           10781\n",
      "Name: u_task_u_impacted_ci, dtype: object\n",
      "Index(['u_task_u_requested_by', 'u_task_u_requested_by_u_area',\n",
      "       'u_task_u_requested_by_department',\n",
      "       'u_task_u_requested_by_u_service_line', 'u_task_u_requested_by_vip',\n",
      "       'u_task_u_requested_by_preferred_language', 'u_task_active',\n",
      "       'u_task_contact_type', 'u_task_number', 'u_task_opened_at',\n",
      "       'u_task_local_opened_at', 'u_task_u_reopen_count',\n",
      "       'u_task_reassignment_count', 'u_task_priority',\n",
      "       'u_task_u_resolved_date', 'u_task_u_local_resolved_date',\n",
      "       'u_task_sys_mod_count', 'u_task_u_business_service',\n",
      "       'u_task_u_impacted_application', 'u_task_subcategory', 'u_task_cmdb_ci',\n",
      "       'u_task_made_sla', 'u_task_u_impacted_ci', 'u_task_u_impacted_account',\n",
      "       'u_task_state', 'u_task_short_description', 'u_task_description',\n",
      "       'u_task_close_notes', 'u_task_assignment_group_u_tier_level',\n",
      "       'u_task_u_level1', 'u_task_sys_updated_on', 'u_task_sys_updated_by',\n",
      "       'u_task_u_level4', 'u_task_u_level3', 'u_task_u_level2',\n",
      "       'u_task_opened_by', 'u_task_opened_by_u_gpn',\n",
      "       'u_task_opened_by_u_hire_date', 'u_task_assignment_group',\n",
      "       'u_task_assigned_to', 'u_task_assigned_to_u_gpn',\n",
      "       'u_task_assigned_to_u_hire_date',\n",
      "       'u_task_assigned_to_u_gsd_assigned_vendor',\n",
      "       'u_task_assigned_to_u_gsd_vendor', 'u_task_requested_for',\n",
      "       'u_task_u_resolved_by', 'u_create_agent', 'u_non_gsd_touch',\n",
      "       'u_dispatch_time_l2', 'u_open_group', 'u_oss_touch', 'u_linked_ticket',\n",
      "       'u_gsd_ola_time_l2', 'u_gsd_ola_time_l1', 'u_gsd_level_2_touch',\n",
      "       'u_gsd_level_2_fcr', 'u_gsd_level_1_touch', 'u_gsd_level_1_fcr',\n",
      "       'u_gsd_l2_fcr', 'u_gsd_l1_fcr', 'u_create_group', 'Filename',\n",
      "       'ISOperationalData', 'SubArea', 'SLA_CLosed', 'SLA_opened', 'LoadDate',\n",
      "       'IsMarvin1', 'u_task_u_survey_sent', 'u_task_parent', 'Linkedticket',\n",
      "       'OpenDesk', 'OpenDesk_Level', 'sys_updated_on', 'Opened_Vendor',\n",
      "       'ClosedDesk', 'ClosedDesk_Level'],\n",
      "      dtype='object')\n"
     ]
    }
   ],
   "source": [
    "#cols1 = \"SELECT `u\"\n",
    "cols = \"SELECT * FROM Reporting.SLAData_Closed_Operational_Combined WHERE [u_task u_impacted_ci] = 'Secure Hub'\"\n",
    "col = pandas.io.sql.read_sql(cols,conn_marvin)\n",
    "col.columns = [c.replace(' ','_') for c in col.columns]\n",
    "#df1_close.columns = [c.replace(' ','_') for c in df1_close.columns]\n",
    "print(col.u_task_u_impacted_ci.describe())\n",
    "print(col.columns)"
   ]
  },
  {
   "cell_type": "code",
   "execution_count": 7,
   "metadata": {},
   "outputs": [
    {
     "name": "stdout",
     "output_type": "stream",
     "text": [
      "count                   10607\n",
      "unique                  10421\n",
      "top       2017-06-05 09:04:54\n",
      "freq                        5\n",
      "first     2017-01-09 10:06:00\n",
      "last      2018-02-20 02:33:13\n",
      "Name: u_task_u_resolved_date, dtype: object\n",
      "Missing Values in Resolved_date: 174\n"
     ]
    }
   ],
   "source": [
    "# Reading the start and end time of tickets resolved\n",
    "print(col.u_task_u_resolved_date.describe())\n",
    "print(\"Missing Values in Resolved_date:\",col.u_task_u_resolved_date.isnull().sum())"
   ]
  },
  {
   "cell_type": "code",
   "execution_count": 8,
   "metadata": {},
   "outputs": [
    {
     "name": "stdout",
     "output_type": "stream",
     "text": [
      "count                   10781\n",
      "unique                  10774\n",
      "top       2017-06-05 07:43:58\n",
      "freq                        2\n",
      "first     2017-01-06 03:57:00\n",
      "last      2018-02-20 03:00:55\n",
      "Name: u_task_opened_at, dtype: object\n",
      "Missing Values in Opened Date: 0\n"
     ]
    }
   ],
   "source": [
    "print(col.u_task_opened_at.describe())\n",
    "print(\"Missing Values in Opened Date:\",col.u_task_opened_at.isnull().sum())"
   ]
  },
  {
   "cell_type": "code",
   "execution_count": 9,
   "metadata": {},
   "outputs": [],
   "source": [
    "col['resolved_time'] = pd.to_datetime(col.u_task_u_resolved_date.subtract(col.u_task_opened_at))\n",
    "col['resolved_hours'] = ((col.resolved_time.dt.hour)+(col.resolved_time.dt.minute/60)+(col.resolved_time.dt.second/60/60))"
   ]
  },
  {
   "cell_type": "code",
   "execution_count": 10,
   "metadata": {},
   "outputs": [
    {
     "name": "stdout",
     "output_type": "stream",
     "text": [
      "174\n"
     ]
    }
   ],
   "source": [
    "print(col.resolved_hours.isnull().sum())"
   ]
  },
  {
   "cell_type": "code",
   "execution_count": 11,
   "metadata": {},
   "outputs": [
    {
     "name": "stdout",
     "output_type": "stream",
     "text": [
      "0\n",
      "(10607, 79)\n"
     ]
    }
   ],
   "source": [
    "col.dropna(subset=['resolved_hours'], inplace=True)\n",
    "print(col.resolved_hours.isnull().sum())\n",
    "print(col.shape)"
   ]
  },
  {
   "cell_type": "code",
   "execution_count": 12,
   "metadata": {},
   "outputs": [
    {
     "data": {
      "text/plain": [
       "0.000000      6\n",
       "0.001944      1\n",
       "0.002222      2\n",
       "0.002500     14\n",
       "0.002778      6\n",
       "0.003056      4\n",
       "0.003333      6\n",
       "0.003611     11\n",
       "0.003889     11\n",
       "0.004167      8\n",
       "0.004444     10\n",
       "0.004722      2\n",
       "0.005000     11\n",
       "0.005278     11\n",
       "0.005556      8\n",
       "0.005833      4\n",
       "0.006111      7\n",
       "0.006389      3\n",
       "0.006667      4\n",
       "0.006944      3\n",
       "0.007222      6\n",
       "0.007500      5\n",
       "0.007778      5\n",
       "0.008056      8\n",
       "0.008333      5\n",
       "0.008611     10\n",
       "0.008889     10\n",
       "0.009167      8\n",
       "0.009444     13\n",
       "0.009722      5\n",
       "             ..\n",
       "23.866111     1\n",
       "23.876944     1\n",
       "23.889444     1\n",
       "23.895000     1\n",
       "23.896667     1\n",
       "23.898889     1\n",
       "23.900556     1\n",
       "23.909722     1\n",
       "23.914444     1\n",
       "23.914722     1\n",
       "23.919444     1\n",
       "23.920000     1\n",
       "23.921944     1\n",
       "23.923056     1\n",
       "23.926111     1\n",
       "23.933611     1\n",
       "23.934722     1\n",
       "23.939722     1\n",
       "23.951389     1\n",
       "23.960000     1\n",
       "23.962500     1\n",
       "23.963056     3\n",
       "23.965000     1\n",
       "23.968611     1\n",
       "23.971944     1\n",
       "23.975556     1\n",
       "23.993056     1\n",
       "23.995556     1\n",
       "23.997500     1\n",
       "23.998056     1\n",
       "Name: resolved_hours, Length: 5379, dtype: int64"
      ]
     },
     "execution_count": 12,
     "metadata": {},
     "output_type": "execute_result"
    }
   ],
   "source": [
    "col.resolved_hours.value_counts().sort_index()"
   ]
  },
  {
   "cell_type": "code",
   "execution_count": 13,
   "metadata": {},
   "outputs": [
    {
     "data": {
      "text/plain": [
       "count    10607.000000\n",
       "mean         3.189660\n",
       "std          6.368583\n",
       "min          0.000000\n",
       "25%          0.071389\n",
       "50%          0.245000\n",
       "75%          2.251389\n",
       "max         23.998056\n",
       "Name: resolved_hours, dtype: float64"
      ]
     },
     "execution_count": 13,
     "metadata": {},
     "output_type": "execute_result"
    }
   ],
   "source": [
    "col.resolved_hours.describe()"
   ]
  },
  {
   "cell_type": "code",
   "execution_count": 14,
   "metadata": {},
   "outputs": [
    {
     "data": {
      "text/plain": [
       "       ClosedDesk_Level\n",
       "count  L3/L4                 25.000000\n",
       "       Level 1             8206.000000\n",
       "       Level 2              871.000000\n",
       "       OSS                 1261.000000\n",
       "       Specialist           224.000000\n",
       "mean   L3/L4                  9.151856\n",
       "       Level 1                2.194717\n",
       "       Level 2                9.544075\n",
       "       OSS                    4.174634\n",
       "       Specialist             8.745745\n",
       "std    L3/L4                  8.565142\n",
       "       Level 1                5.320800\n",
       "       Level 2                8.481632\n",
       "       OSS                    7.202648\n",
       "       Specialist             8.168374\n",
       "min    L3/L4                  0.009444\n",
       "       Level 1                0.000000\n",
       "       Level 2                0.005556\n",
       "       OSS                    0.001944\n",
       "       Specialist             0.033333\n",
       "25%    L3/L4                  0.393333\n",
       "       Level 1                0.068333\n",
       "       Level 2                2.276806\n",
       "       OSS                    0.019167\n",
       "       Specialist             2.499583\n",
       "50%    L3/L4                  7.161111\n",
       "       Level 1                0.175000\n",
       "       Level 2                5.487500\n",
       "       OSS                    0.519444\n",
       "       Specialist             4.947361\n",
       "75%    L3/L4                 16.883333\n",
       "       Level 1                0.893611\n",
       "       Level 2               19.068750\n",
       "       OSS                    3.766667\n",
       "       Specialist            18.531042\n",
       "max    L3/L4                 23.365000\n",
       "       Level 1               23.998056\n",
       "       Level 2               23.963056\n",
       "       OSS                   23.997500\n",
       "       Specialist            23.975556\n",
       "dtype: float64"
      ]
     },
     "execution_count": 14,
     "metadata": {},
     "output_type": "execute_result"
    }
   ],
   "source": [
    "col.groupby('ClosedDesk_Level').resolved_hours.describe().unstack()\n",
    "#result.groupby('cluster_category').resolved_hours.describe().unstack()"
   ]
  },
  {
   "cell_type": "code",
   "execution_count": 15,
   "metadata": {},
   "outputs": [
    {
     "data": {
      "text/plain": [
       "<matplotlib.axes._subplots.AxesSubplot at 0x1cb72afee48>"
      ]
     },
     "execution_count": 15,
     "metadata": {},
     "output_type": "execute_result"
    },
    {
     "data": {
      "image/png": "[encoded data removed]",
      "text/plain": [
       "<matplotlib.figure.Figure at 0x1cb71cd3160>"
      ]
     },
     "metadata": {},
     "output_type": "display_data"
    },
    {
     "data": {
      "image/png": "[encoded data removed]",
      "text/plain": [
       "<matplotlib.figure.Figure at 0x1cb729b8b38>"
      ]
     },
     "metadata": {},
     "output_type": "display_data"
    },
    {
     "data": {
      "image/png": "[encoded data removed]",
      "text/plain": [
       "<matplotlib.figure.Figure at 0x1cb72a7bf28>"
      ]
     },
     "metadata": {},
     "output_type": "display_data"
    }
   ],
   "source": [
    "% matplotlib inline\n",
    "col.boxplot('resolved_hours', by = 'ClosedDesk_Level')\n",
    "col.boxplot('resolved_hours', by = 'Opened_Vendor')\n",
    "col.boxplot('resolved_hours', by = 'u_task_u_requested_by_u_service_line')"
   ]
  },
  {
   "cell_type": "code",
   "execution_count": 16,
   "metadata": {},
   "outputs": [
    {
     "name": "stdout",
     "output_type": "stream",
     "text": [
      "0                    BR - Secure Hub - How to install \n",
      "1                   FUP 2- Citrix Secure Hub iOS issue\n",
      "2                BR - Secure Hub - Não esta executando\n",
      "3                         citrix Secure Hub - Install \n",
      "4     XenMobile : Citrix secure hub saying invalid ...\n",
      "Name: u_task_short_description, dtype: object\n",
      "count          10607\n",
      "unique         10605\n",
      "top       SR09976578\n",
      "freq               2\n",
      "Name: u_task_number, dtype: object\n"
     ]
    }
   ],
   "source": [
    "# Examining the short_description details\n",
    "\n",
    "print(col.u_task_short_description.head())\n",
    "print(col.u_task_number.describe())"
   ]
  },
  {
   "cell_type": "markdown",
   "metadata": {},
   "source": [
    "### Importing required modules for text analytics"
   ]
  },
  {
   "cell_type": "code",
   "execution_count": 17,
   "metadata": {},
   "outputs": [],
   "source": [
    "import pandas as pd\n",
    "import numpy as np\n",
    "from bs4 import BeautifulSoup\n",
    "import re\n",
    "import nltk\n",
    "from nltk.corpus import stopwords\n",
    "from sklearn.feature_extraction.text import CountVectorizer\n",
    "from sklearn.feature_extraction.text import TfidfVectorizer\n",
    "from sklearn.cluster import KMeans\n",
    "from sklearn.decomposition import PCA\n",
    "from sklearn.ensemble import RandomForestClassifier\n",
    "from sklearn.linear_model.logistic import LogisticRegression\n",
    "from sklearn.linear_model import LinearRegression\n",
    "from sklearn.neighbors import KNeighborsClassifier\n",
    "from sklearn import metrics"
   ]
  },
  {
   "cell_type": "code",
   "execution_count": 18,
   "metadata": {},
   "outputs": [],
   "source": [
    "#convert the sample data 'col' into the python dataframe\n",
    "df = pd.DataFrame(col)"
   ]
  },
  {
   "cell_type": "code",
   "execution_count": 19,
   "metadata": {},
   "outputs": [
    {
     "data": {
      "text/plain": [
       "0"
      ]
     },
     "execution_count": 19,
     "metadata": {},
     "output_type": "execute_result"
    }
   ],
   "source": [
    "df.shape\n",
    "df.resolved_hours.isnull().sum()"
   ]
  },
  {
   "cell_type": "code",
   "execution_count": 20,
   "metadata": {},
   "outputs": [
    {
     "data": {
      "text/plain": [
       "secure hub - unable to sign on                                                        498\n",
       "secure hub                                                                            141\n",
       "secure hub - unable to login                                                          103\n",
       "secure hub - how to install secure hub                                                100\n",
       "secure hub installation                                                                90\n",
       "unable to login to secure hub                                                          65\n",
       "secure hub-unable to login                                                             61\n",
       "secure hub - installation                                                              51\n",
       "secure hub - logging in after windows password is changed                              45\n",
       "secure hub - unable to access                                                          42\n",
       "unable to access secure hub                                                            41\n",
       "good for mobile shutting down - upgrade to citrix secure hub required                  34\n",
       "requested to guide through to install secure hub                                       32\n",
       "secure hub - installation                                                              31\n",
       "install secure hub                                                                     30\n",
       "co - citrix secure mail                                                                29\n",
       "secure hub-how to install secure hub                                                   29\n",
       "secure hub issue                                                                       29\n",
       "secure hub- unable to login                                                            28\n",
       "secure hub-how to login secure hub                                                     28\n",
       "secure hub - how do i install? - android and ios                                       28\n",
       "secure hub-install                                                                     28\n",
       "secure hub - how to install and configure the secure hub for the first-time usage      28\n",
       "secure hub - install                                                                   27\n",
       "secure hub-installation                                                                27\n",
       "secure hub - unable to log in                                                          26\n",
       "secure hub - how to install and set up secure hub and mail                             24\n",
       "secure hub - unable to login                                                           24\n",
       "secure hub - how do i install ios                                                      23\n",
       "secure hub - how to install                                                            22\n",
       "                                                                                     ... \n",
       "secure hub:i cannot connect to secure hub citrix account in my phone..                  1\n",
       "<apl2app>cannot login secure hub                                                        1\n",
       "fup 3 02/08 @ 14:56 est : unable to login with secure mail                              1\n",
       "wfl: 30-06-2017 11:11:55 / secure mail synchronization issue - after win pw change      1\n",
       "secure hub-notifications on citrix for email                                            1\n",
       "<secure hub> - <installl>                                                               1\n",
       "need support to install secure hub on phone.                                            1\n",
       "br - secure hub - unable to install apps/cannot contact server                          1\n",
       "to guide to install secure hub                                                          1\n",
       "secure mail not updating                                                                1\n",
       "fup 1- 23/06 secure hub-unable to access                                                1\n",
       "secure mail does not update                                                             1\n",
       "chase1 07/11 @5:19am secure hub -- unable to log in                                     1\n",
       "install - information - secure hub/mail                                                 1\n",
       "pl : secure hub - installation                                                          1\n",
       "secure hub - credential  information.                                                   1\n",
       "secure hub: cannot access                                                               1\n",
       "setup secure hub & mail                                                                 1\n",
       "secure mail. signatur                                                                   1\n",
       "secure hub - invalid username and password                                              1\n",
       "secure hub- unable to download                                                          1\n",
       "issues secure mail                                                                      1\n",
       "access to mailbox via iphone/ citrix                                                    1\n",
       "secure hub - need access to secure hub application.                                     1\n",
       "user forgot the secure mail password                                                    1\n",
       "secure hub -  how to log in                                                             1\n",
       "secure hub : how to login                                                               1\n",
       "what is the password that we need to enter in secure hub                                1\n",
       "fr -secure email - unable to get connected                                              1\n",
       "                                                                                        1\n",
       "Name: u_task_short_description, Length: 6859, dtype: int64"
      ]
     },
     "execution_count": 20,
     "metadata": {},
     "output_type": "execute_result"
    }
   ],
   "source": [
    "# Examining the value counts as it exits in the data\n",
    "counts = df.u_task_short_description.str.lower().value_counts()\n",
    "counts"
   ]
  },
  {
   "cell_type": "code",
   "execution_count": 21,
   "metadata": {},
   "outputs": [
    {
     "name": "stdout",
     "output_type": "stream",
     "text": [
      "                            u_task_short_description\n",
      "0                  BR - Secure Hub - How to install \n",
      "1                 FUP 2- Citrix Secure Hub iOS issue\n",
      "2              BR - Secure Hub - Não esta executando\n",
      "3                       citrix Secure Hub - Install \n",
      "4   XenMobile : Citrix secure hub saying invalid ...\n",
      "(10607, 1)\n",
      "<class 'pandas.core.frame.DataFrame'>\n"
     ]
    }
   ],
   "source": [
    "df_sd = df.u_task_short_description\n",
    "df_sd = pd.DataFrame(df_sd)\n",
    "print(df_sd.head())\n",
    "print(df_sd.shape)\n",
    "print(type(df_sd))"
   ]
  },
  {
   "cell_type": "markdown",
   "metadata": {},
   "source": [
    "### Remove unwanted words from the data like 'secure' and 'hub'"
   ]
  },
  {
   "cell_type": "code",
   "execution_count": 22,
   "metadata": {},
   "outputs": [
    {
     "name": "stdout",
     "output_type": "stream",
     "text": [
      "                            u_task_short_description\n",
      "0                             BR     How to install \n",
      "1                           FUP 2 Citrix   iOS issue\n",
      "2                         BR     Não esta executando\n",
      "3                                 citrix    Install \n",
      "4   XenMobile : Citrix secure hub saying invalid ...\n",
      "                                u_task_short_description\n",
      "10776                                  Unable to Sign On\n",
      "10777  Software  Request  EY Contacts Push  Install  iOS\n",
      "10778                                  Unable to Sign On\n",
      "10779                        KL:  mail Unable to Sign On\n",
      "10780                                  Unable to Sign On\n",
      "(10607, 1)\n"
     ]
    }
   ],
   "source": [
    "df_sd1 = df_sd.replace({'Secure':''},regex=True)\n",
    "df_sd2 = df_sd1.replace({'Hub':''},regex=True)\n",
    "df_sd3 = df_sd2.replace({'-':''},regex=True)\n",
    "print(df_sd3.head())\n",
    "print(df_sd3.tail())\n",
    "print(df_sd3.shape)"
   ]
  },
  {
   "cell_type": "markdown",
   "metadata": {},
   "source": [
    "### Instantiating CountVectorizer for Text Analytics"
   ]
  },
  {
   "cell_type": "code",
   "execution_count": 23,
   "metadata": {},
   "outputs": [],
   "source": [
    "# Instantiating countvectorizer with parameters\n",
    "vect = CountVectorizer(min_df=2,ngram_range=(1,2))\n",
    "sd_dtm= vect.fit_transform(df_sd3.u_task_short_description)"
   ]
  },
  {
   "cell_type": "code",
   "execution_count": 24,
   "metadata": {},
   "outputs": [
    {
     "name": "stdout",
     "output_type": "stream",
     "text": [
      "['01', '01 09', '01 unable', '02', '02 unable', '03', '03 04', '03 11', '03 2017', '03 ist', '04', '04 2017', '04082017', '05', '05 09', '05 2017', '05 ist', '06', '06 11', '06 2017', '07', '07 10', '07 11', '07 12', '07 2017', '07 21', '07 30', '08', '08 09', '08 14', '08 2017', '09', '09 01', '09 11', '09 18', '09 2017', '09 21', '09 at', '10', '10 01', '10 02', '10 11', '10 19', '10 20', '10 2017', '10 30', '11', '11 03', '11 15', '11 16', '11 17', '11 19', '11 2017', '11 55', '12', '12 09', '12 2017', '129', '13', '13 citrix', '14', '14 09', '14 47', '15', '15 02', '15 am', '16', '16 11', '17', '17 03', '17 06', '17 10', '18', '19', '19 59', '1st', '20', '2017', '2017 11', '2017 12', '2017 21', '2017 23', '2017 52', '2017 citrix', '2017 hub', '2017 time', '2017 unable', '2018', '21', '21 07', '21 2017', '22', '23', '23 05', '23 pm', '24', '24 04', '25', '25 07', '26', '27', '27 07', '28', '28 11', '28 ist', '29', '29 11', '29 2017', '30', '30 11', '30 pm', '31', '32', '32 am', '33', '33 pm', '34', '35', '35 ist', '40', '40 pm', '44', '44 ist', '45', '45 pm', '47', '48', '49', '49 ist', '505', '51', '52', '52 am', '53', '53 ist', '54', '54 am', '55', '56', '56 est', '58', '59', '59 am', '59 ist', '6s', 'able', 'able to', 'about', 'about citrix', 'about how', 'about hub', 'about install', 'about installation', 'about installing', 'about issue', 'about log', 'about login', 'about mail', 'about password', 'about secure', 'about setup', 'about the', 'abroad', 'accept', 'accept password', 'accept the', 'accept user', 'accepted', 'accepting', 'accepting credentials', 'accepting my', 'accepting new', 'accepting password', 'accepting the', 'accepting windows', 'acces', 'accesing', 'accesing to', 'access', 'access access', 'access after', 'access and', 'access app', 'access apple', 'access application', 'access assigned', 'access citrix', 'access code', 'access denied', 'access due', 'access email', 'access emails', 'access error', 'access ey', 'access for', 'access from', 'access getting', 'access her', 'access his', 'access hub', 'access in', 'access issue', 'access issues', 'access it', 'access mail', 'access mails', 'access my', 'access ne', 'access on', 'access required', 'access secure', 'access the', 'access to', 'access with', 'access your', 'accessed', 'accessing', 'accessing and', 'accessing citrix', 'accessing secure', 'accessing the', 'accessing to', 'accesss', 'account', 'account could', 'account does', 'account in', 'account locked', 'account not', 'account on', 'account password', 'account to', 'accounts', 'accéder', 'acess', 'acesso', 'acesso ao', 'action', 'action required', 'activate', 'activate citrix', 'activate secur', 'activate secure', 'activate the', 'activating', 'activating citrix', 'activation', 'activation assistance', 'activation issue', 'activation of', 'active', 'active secure', 'ad', 'ad account', 'ad password', 'ad pw', 'ad reset', 'add', 'add the', 'add vpn', 'adding', 'address', 'address and', 'address change', 'address not', 'address on', 'adress', 'advice', 'after', 'after ad', 'after change', 'after changed', 'after changing', 'after email', 'after installation', 'after installing', 'after network', 'after password', 'after reinstalling', 'after the', 'after update', 'after upgrade', 'after win', 'after windows', 'again', 'al', 'all', 'all the', 'allow', 'allow the', 'allow to', 'allow vpn', 'also', 'always', 'am', 'am 21', 'am citrix', 'am est', 'am not', 'am unable', 'am using', 'an', 'an assistance', 'an email', 'an error', 'an update', 'and', 'and access', 'and activation', 'and ad', 'and also', 'and app', 'and asking', 'and can', 'and citrix', 'and companion', 'and configuration', 'and configure', 'and do', 'and email', 'and ers', 'and ey', 'and failed', 'and hub', 'and install', 'and installation', 'and ios', 'and ipad', 'and iphone', 'and is', 'and it', 'and its', 'and keep', 'and log', 'and login', 'and mail', 'and need', 'and needs', 'and not', 'and notes', 'and nothing', 'and now', 'and other', 'and outlook', 'and passcodes', 'and password', 'and readding', 'and reinstall', 'and rsa', 'and secur', 'and secure', 'and set', 'and setting', 'and setup', 'and the', 'and try', 'and unable', 'and use', 'and view', 'and wants', 'and web', 'and what', 'and windows', 'and won', 'and would', 'android', 'android and', 'android cell', 'android device', 'android error', 'android how', 'android logging', 'android mail', 'android mobile', 'android phone', 'any', 'anymore', 'anything', 'ao', 'apl2app', 'apl2app cannot', 'apl2app fail', 'apl2app fup1', 'apl2app login', 'apl2app unable', 'apl2app user', 'aplicativo', 'apllication', 'apos', 'app', 'app and', 'app assistance', 'app but', 'app can', 'app cannot', 'app citrix', 'app does', 'app for', 'app from', 'app has', 'app in', 'app installation', 'app installed', 'app is', 'app not', 'app on', 'app requires', 'app secure', 'app store', 'app the', 'app to', 'app unable', 'app using', 'appearing', 'appearing in', 'apple', 'apple id', 'apple phone', 'apple store', 'application', 'application after', 'application citrix', 'application does', 'application from', 'application has', 'application in', 'application installation', 'application is', 'application mail', 'application not', 'application on', 'application reason', 'application stopped', 'application to', 'application was', 'applications', 'applications in', 'applications installation', 'applications not', 'appropriate', 'apps', 'apps after', 'apps and', 'apps are', 'apps error', 'apps from', 'apps in', 'apps including', 'apps installation', 'apps issue', 'apps not', 'apps on', 'appstore', 'apt', 'após', 'ar', 'ar citrix', 'ar how', 'ar hub', 'ar install', 'ar logging', 'ar mail', 'ar unable', 'ar user', 'are', 'are entering', 'are invalid', 'are not', 'are the', 'arrive', 'arrive pas', 'arsecure', 'arsecure hubinstallation', 'as', 'as he', 'as incorrect', 'as it', 'as not', 'as password', 'as the', 'as trusted', 'as user', 'asap', 'asistance', 'ask', 'ask how', 'asked', 'asked about', 'asking', 'asking for', 'asking to', 'asks', 'asks for', 'asset', 'asset de', 'asset smart', 'assets', 'assets to', 'assign', 'assign to', 'assigned', 'assigned on', 'assist', 'assist on', 'assist to', 'assistance', 'assistance accessing', 'assistance for', 'assistance how', 'assistance in', 'assistance installation', 'assistance installing', 'assistance needed', 'assistance on', 'assistance regarding', 'assistance reinstalling', 'assistance request', 'assistance requested', 'assistance required', 'assistance secure', 'assistance setting', 'assistance to', 'assistance updating', 'assistance while', 'assistance with', 'assistane', 'assistant', 'assisted', 'assistence', 'assitance', 'assitance to', 'at', 'at 12', 'at the', 'at verifying', 'attached', 'attachment', 'attachments', 'attachments from', 'attachments in', 'attempts', 'au', 'au serveur', 'authenticate', 'authenticate after', 'authentication', 'authentication failure', 'authentication not', 'authorisation', 'authorization', 'authorize', 'authorize the', 'authorized', 'automatically', 'auxilio', 'auxilio na', 'auxilio para', 'available', 'awareness', 'awareness session', 'back', 'back to', 'bad', 'bad password', 'basic', 'bd', 'bd app', 'be', 'be able', 'be accessed', 'be configure', 'be created', 'be downloaded', 'be entered', 'be installed', 'be loaded', 'be opened', 'be reached', 'be supported', 'be used', 'because', 'because she', 'been', 'been found', 'been locked', 'behalf', 'behalf of', 'behavior', 'being', 'being accepted', 'betrodd', 'betrodd företagsutvecklare', 'blackberry', 'blank', 'blank page', 'blocked', 'box', 'br', 'br access', 'br app', 'br assistance', 'br auxilio', 'br can', 'br cannot', 'br chase', 'br citrix', 'br global', 'br how', 'br hub', 'br information', 'br install', 'br logging', 'br mail', 'br não', 'br password', 'br request', 'br secur', 'br secure', 'br unable', 'br untrusted', 'br user', 'browser', 'bugging', 'build', 'business', 'but', 'but does', 'but getting', 'but is', 'but it', 'but unable', 'by', 'by citrix', 'by phone', 'by secure', 'by the', 'bykhovskaya', 'ca', 'ca fr', 'calander', 'calendar', 'calendar in', 'calendar is', 'calendar option', 'calender', 'called', 'called for', 'called in', 'called regarding', 'can', 'can access', 'can authenticate', 'can be', 'can connect', 'can get', 'can install', 'can log', 'can login', 'can not', 'can open', 'can read', 'can sign', 'can uninstall', 'can use', 'cannot', 'cannot able', 'cannot access', 'cannot allow', 'cannot authenticate', 'cannot authentication', 'cannot be', 'cannot connect', 'cannot download', 'cannot enter', 'cannot find', 'cannot install', 'cannot load', 'cannot log', 'cannot logging', 'cannot login', 'cannot logon', 'cannot open', 'cannot reach', 'cannot read', 'cannot receive', 'cannot register', 'cannot see', 'cannot set', 'cannot setup', 'cannot sign', 'cannot uninstall', 'cannot update', 'cannot use', 'cant', 'cant access', 'cant connect', 'cant get', 'cant log', 'cant login', 'canvas', 'canvas applications', 'case', 'caserequest', 'caserequest to', 'cell', 'cell phone', 'cellphone', 'celular', 'cetrix', 'change', 'change ad', 'change password', 'change the', 'change windows', 'changed', 'changed her', 'changed his', 'changed password', 'changed the', 'changed unable', 'changed windows', 'changes', 'changing', 'changing ad', 'changing his', 'changing password', 'changing the', 'changing windows', 'charlotte', 'chase', 'chase citrix', 'chase hub', 'chase mx', 'chase unable', 'chase1', 'chase1 unable', 'check', 'check if', 'check your', 'checking', 'checking email', 'cirix', 'cirix hub', 'cirtix', 'citirix', 'citirx', 'citirx mail', 'citirx secure', 'citix', 'citix secure', 'citric', 'citric hub', 'citrix', 'citrix access', 'citrix account', 'citrix activation', 'citrix after', 'citrix and', 'citrix app', 'citrix application', 'citrix applications', 'citrix apps', 'citrix assistance', 'citrix can', 'citrix cannot', 'citrix citrix', 'citrix connection', 'citrix credentials', 'citrix customer', 'citrix data', 'citrix does', 'citrix doesn', 'citrix email', 'citrix en', 'citrix environment', 'citrix error', 'citrix for', 'citrix forgot', 'citrix how', 'citrix hub', 'citrix in', 'citrix incorrect', 'citrix information', 'citrix install', 'citrix installation', 'citrix installed', 'citrix invalid', 'citrix ios', 'citrix is', 'citrix issue', 'citrix issues', 'citrix logging', 'citrix login', 'citrix mail', 'citrix mails', 'citrix mobile', 'citrix need', 'citrix no', 'citrix not', 'citrix on', 'citrix passcode', 'citrix password', 'citrix phone', 'citrix probleem', 'citrix problems', 'citrix prompts', 'citrix query', 'citrix reason', 'citrix receiver', 'citrix reinstallation', 'citrix request', 'citrix required', 'citrix secur', 'citrix secure', 'citrix securehub', 'citrix setup', 'citrix seure', 'citrix tasks', 'citrix the', 'citrix to', 'citrix unable', 'citrix user', 'citrix using', 'citrix web', 'citrix with', 'citrix worxhome', 'citrix xen', 'citrix xenmobile', 'citrixmail', 'citrux', 'citrux mail', 'cittrix', 'cl', 'cl how', 'cl unable', 'click', 'click on', 'client', 'close', 'closing', 'co', 'co citrix', 'co hit', 'co hub', 'co partner', 'co unable', 'code', 'colleague', 'com', 'como', 'como instalar', 'companion', 'companion apps', 'company', 'company network', 'company server', 'compatible', 'complete', 'complete first', 'completed', 'completed upgrade', 'computer', 'computer network', 'conectando', 'configuracion', 'configuration', 'configuration and', 'configuration for', 'configuration fr', 'configuration issue', 'configuration on', 'configuration prompt', 'configuration request', 'configuração', 'configure', 'configure citrix', 'configure email', 'configure hub', 'configure mail', 'configure mailbox', 'configure secure', 'configure the', 'configure vpn', 'configured', 'configured in', 'configuring', 'configuring citrix', 'configuring hub', 'configuring the', 'confirm', 'confirm secure', 'confirm the', 'confirmation', 'confirmed', 'confirmed about', 'confirmed how', 'connect', 'connect after', 'connect citrix', 'connect ey', 'connect on', 'connect secure', 'connect the', 'connect through', 'connect to', 'connect via', 'connect with', 'connected', 'connecter', 'connecting', 'connection', 'connection error', 'connection failed', 'connection issue', 'connection timed', 'connection to', 'connections', 'connectivity', 'consegue', 'conseguindo', 'contact', 'contactbridge', 'contacts', 'contacts from', 'contacts missing', 'contacts on', 'continually', 'continue', 'continue please', 'continuously', 'corporate', 'corporate email', 'corporate mail', 'correct', 'correctly', 'correo', 'correo en', 'could', 'could not', 'could use', 'couldn', 'couldn load', 'crashing', 'crashing and', 'create', 'created', 'creation', 'credentails', 'credentails for', 'credential', 'credential could', 'credential it', 'credential to', 'credentials', 'credentials and', 'credentials are', 'credentials for', 'credentials information', 'credentials not', 'credentials to', 'credentilas', 'critix', 'crm', 'crm eform', 'csh', 'ctrix', 'current', 'currently', 'currently available', 'currently not', 'customer', 'customer called', 'customer cannot', 'customer has', 'customer is', 'customer need', 'customer needs', 'customer requesting', 'customer unable', 'customer want', 'customer wanted', 'customer wants', 'data', 'data from', 'data wipe', 'data wiped', 'date', 'date 24', 'day', 'days', 'de', 'de citrix', 'de etablissement', 'de passe', 'de provisioning', 'de se', 'de votre', 'del', 'delete', 'delete citrix', 'delete the', 'deleted', 'deleting', 'deleting and', 'denied', 'deploy', 'deploy the', 'desk', 'desk assistance', 'details', 'details query', 'detected', 'developer', 'developer prompt', 'device', 'device citrix', 'device data', 'device displays', 'device does', 'device forgot', 'device install', 'device management', 'device manager', 'device need', 'device replacement', 'devices', 'did', 'did not', 'difficult', 'difficulty', 'disable', 'display', 'displays', 'do', 'do install', 'do not', 'do open', 'document', 'documents', 'documents in', 'documents or', 'does', 'does no', 'does not', 'doesn', 'doesn accept', 'doesn work', 'doesnt', 'domain', 'domain name', 'domain password', 'don', 'dont', 'down', 'down upgrade', 'download', 'download and', 'download any', 'download app', 'download citrix', 'download mail', 'download secure', 'download the', 'downloaded', 'downloaded citrix', 'downloading', 'downloading ey', 'downloading installing', 'downloading secure', 'drive', 'due', 'due to', 'during', 'during installing', 'edit', 'edit new', 'eform', 'ej', 'ej betrodd', 'el', 'el movil', 'em2', 'email', 'email access', 'email account', 'email accounts', 'email address', 'email adress', 'email and', 'email app', 'email application', 'email citrix', 'email client', 'email configuration', 'email from', 'email id', 'email in', 'email installation', 'email is', 'email not', 'email on', 'email or', 'email password', 'email sync', 'email unable', 'emails', 'emails are', 'emails from', 'emails in', 'emails not', 'emails on', 'emails through', 'emails using', 'emails via', 'en', 'en el', 'enable', 'enable to', 'enabling', 'encryption', 'encryption features', 'endlessly', 'engage', 'engage on', 'engagement', 'enquiry', 'enroll', 'enter', 'enter credentials', 'enter in', 'enter password', 'enter the', 'enter to', 'enter user', 'entered', 'entering', 'entering the', 'enterprise', 'enterprise developer', 'entitlement', 'entitlement to', 'entries', 'entry', 'entry issue', 'environment', 'environment to', 'erreur', 'erreur lors', 'error', 'error access', 'error after', 'error app', 'error as', 'error can', 'error could', 'error entitlement', 'error exchange', 'error in', 'error incorrect', 'error invalid', 'error message', 'error no', 'error of', 'error password', 'error sync', 'error this', 'error unable', 'error when', 'error while', 'error wrong', 'errors', 'ers', 'ers app', 'ers mobile', 'es', 'es assistance', 'es cannot', 'es citrix', 'es unable', 'est', 'est pas', 'est unable', 'esta', 'esta conseguindo', 'establish', 'establish connection', 'establishing', 'establishing connection', 'et', 'etablissement', 'etablissement une', 'etc', 'exceeded', 'excel', 'exchange', 'exchange server', 'existing', 'exit', 'expense', 'experiencing', 'expired', 'expired password', 'ey', 'ey apps', 'ey canvas', 'ey com', 'ey email', 'ey emails', 'ey engage', 'ey global', 'ey iphone', 'ey laptop', 'ey mail', 'ey mails', 'ey mobile', 'ey network', 'ey people', 'ey reserve', 'ey secure', 'ey staff', 'ey store', 'ey tax', 'ey tieo', 'ey worx', 'eya', 'eya about', 'eya can', 'eya cannot', 'eya installation', 'eya request', 'eya unable', 'eygn', 'eyqa', 'eysn', 'eysn about', 'eysn can', 'eysn cannot', 'eysn citrix', 'eysn confirm', 'eysn confirmed', 'eysn forget', 'eysn forgot', 'eysn how', 'eysn inquiry', 'eysn installation', 'eysn issue', 'eysn logon', 'eysn pana', 'eysn password', 'eysn question', 'eysn request', 'eysn secure', 'eysn setup', 'eysn the', 'eysn unable', 'eysn user', 'eytax', 'eytax cannot', 'fail', 'fail to', 'failed', 'failed after', 'failed cannot', 'failed to', 'fails', 'fails after', 'failure', 'feature', 'features', 'features required', 'fetch', 'fetch the', 'few', 'file', 'files', 'files in', 'files on', 'fill', 'fill the', 'fill timesheet', 'final', 'final 14', 'final 16', 'final 28', 'final 29', 'final 31', 'find', 'find contacts', 'find in', 'find mail', 'find secure', 'find the', 'finger', 'finger print', 'fingerprint', 'fingerprint authentication', 'fingerprint touchid', 'finish', 'firm', 'first', 'first time', 'firsttime', 'firsttime usage', 'fix', 'floor', 'floor unable', 'folder', 'folders', 'follow', 'follow up3', 'fonctionne', 'fonctionne pas', 'for', 'for access', 'for android', 'for assistance', 'for assitance', 'for authorisation', 'for citrix', 'for credential', 'for credentials', 'for email', 'for emails', 'for enterprise', 'for exit', 'for first', 'for good', 'for her', 'for how', 'for hub', 'for information', 'for install', 'for installation', 'for installing', 'for ios', 'for ipad', 'for log', 'for login', 'for mail', 'for mobile', 'for new', 'for password', 'for reinstallation', 'for secret', 'for secure', 'for setting', 'for skype', 'for the', 'for vpn', 'for windows', 'for your', 'forget', 'forget password', 'forgot', 'forgot password', 'forgotten', 'forgotten password', 'former', 'found', 'found by', 'fr', 'fr citrix', 'fr how', 'fr hub', 'fr install', 'fr installation', 'fr mail', 'fr not', 'fr request', 'fr secure', 'fr unable', 'fr user', 'france', 'france logging', 'frcitrix', 'frhubcant', 'frhubcant access', 'from', 'from android', 'from app', 'from citrix', 'from ey', 'from good', 'from his', 'from hub', 'from ios', 'from ipad', 'from iphone', 'from mail', 'from mobile', 'from my', 'from old', 'from phone', 'from play', 'from secure', 'from store', 'from the', 'front', 'frsecure', 'frsecurehubcant', 'frsecurehubcant access', 'frsecurehubrequest', 'frsecurehubrequest for', 'function', 'functioning', 'functioning in', 'functions', 'fup', 'fup 01', 'fup 02', 'fup 03', 'fup 04082017', 'fup 05', 'fup 06', 'fup 08', 'fup 09', 'fup 10', 'fup 11', 'fup 15', 'fup 16', 'fup 23', 'fup 25', 'fup 26', 'fup 28', 'fup 29', 'fup app', 'fup assistance', 'fup citrix', 'fup date', 'fup final', 'fup fw', 'fup hub', 'fup iphone', 'fup mail', 'fup mailunable', 'fup on', 'fup password', 'fup secure', 'fup unable', 'fup user', 'fup01unable', 'fup01unable to', 'fup1', 'fup1 17', 'fup1 22', 'fup1 citrix', 'fup1 fup2', 'fup1 hub', 'fup1 logging', 'fup1 secure', 'fup1 unable', 'fup1 user', 'fup2', 'fup2 11', 'fup2 19', 'fup2 citrix', 'fup2 fup3', 'fup2 unable', 'fup2 user', 'fup3', 'fup3 12', 'fup3 16', 'fup3 citrix', 'fup3 final', 'fup3 not', 'fup3 unable', 'fw', 'fw citrix', 'fw welcome', 'företagsutvecklare', 'für', 'für citrix', 'galaxy', 'gbb', 'general', 'general questions', 'get', 'get access', 'get an', 'get connected', 'get email', 'get emails', 'get into', 'get logged', 'get mail', 'get mails', 'get my', 'get the', 'get to', 'gets', 'gets error', 'getting', 'getting account', 'getting an', 'getting error', 'getting incorrect', 'getting invalid', 'getting pop', 'getting the', 'gives', 'giving', 'giving error', 'global', 'global lost', 'global mail', 'global services', 'go', 'going', 'good', 'good account', 'good and', 'good app', 'good application', 'good for', 'good mobile', 'good password', 'google', 'got', 'got error', 'gt', 'guidance', 'guidance to', 'guide', 'guide her', 'guide through', 'guide to', 'guided', 'handset', 'hardware', 'has', 'has been', 'has changed', 'has not', 'has stopped', 'have', 'have an', 'have been', 'have changed', 'have exceeded', 'have no', 'have permission', 'have the', 'having', 'having issue', 'having issues', 'having problems', 'having trouble', 'hayafuji', 'hayafuji front', 'he', 'he cannot', 'he changed', 'he has', 'help', 'help for', 'help in', 'help install', 'help needed', 'help request', 'help to', 'help user', 'help with', 'helpdesk', 'her', 'her credentials', 'her email', 'her emails', 'her iphone', 'her mails', 'her mobile', 'her new', 'her phone', 'her to', 'hi', 'his', 'his ipad', 'his iphone', 'his mail', 'his mails', 'his mobile', 'his new', 'his phone', 'his windows', 'hit', 'hit citrix', 'hold', 'hold unable', 'home', 'home tkyosshby', 'how', 'how can', 'how do', 'how install', 'how it', 'how to', 'howto', 'htc', 'hub', 'hub access', 'hub account', 'hub activation', 'hub after', 'hub and', 'hub apl2app', 'hub aplicativo', 'hub app', 'hub application', 'hub applications', 'hub apps', 'hub asking', 'hub assistance', 'hub authentication', 'hub but', 'hub by', 'hub can', 'hub cannot', 'hub cant', 'hub citrix', 'hub como', 'hub configuration', 'hub connection', 'hub contact', 'hub could', 'hub couldn', 'hub credential', 'hub credentials', 'hub customer', 'hub do', 'hub does', 'hub doesn', 'hub doesnt', 'hub due', 'hub email', 'hub enquiry', 'hub erreur', 'hub error', 'hub first', 'hub for', 'hub from', 'hub getting', 'hub has', 'hub how', 'hub in', 'hub incorrect', 'hub information', 'hub instalation', 'hub install', 'hub installation', 'hub installing', 'hub invalid', 'hub iphone', 'hub is', 'hub issue', 'hub issues', 'hub it', 'hub locked', 'hub log', 'hub login', 'hub mail', 'hub mails', 'hub mobile', 'hub my', 'hub need', 'hub needs', 'hub new', 'hub not', 'hub não', 'hub on', 'hub or', 'hub password', 'hub passwordreset', 'hub problem', 'hub prompt', 'hub prompting', 'hub pwd', 'hub reason', 'hub reasonexpired', 'hub reasoninstallation', 'hub reasonunable', 'hub reinstall', 'hub reinstallation', 'hub request', 'hub requested', 'hub reset', 'hub secure', 'hub server', 'hub set', 'hub setting', 'hub setup', 'hub since', 'hub store', 'hub the', 'hub tkyosshby', 'hub tkyossksm', 'hub to', 'hub unable', 'hub uninstall', 'hub update', 'hub user', 'hub web', 'hub what', 'hub when', 'hub which', 'hub windows', 'hub with', 'hubb', 'hubhow', 'hubhow to', 'hubinstall', 'hubinstallation', 'hublogin', 'hubnot', 'hubnot able', 'hubprompting', 'hubprompting for', 'hubrequested', 'hubunable', 'hubunable to', 'hubuser', 'hubuser wants', 'icon', 'id', 'id and', 'id app', 'id authentication', 'id or', 'ie', 'ie install', 'ie installation', 'ie login', 'ie mail', 'ie new', 'ie password', 'ie replacement', 'ie unable', 'if', 'if can', 'ikke', 'impossible', 'impossible de', 'impossible to', 'in', 'in accessing', 'in after', 'in and', 'in android', 'in apl2app', 'in app', 'in appstore', 'in citrix', 'in credentials', 'in details', 'in email', 'in ey', 'in failed', 'in fails', 'in for', 'in from', 'in her', 'in his', 'in hub', 'in incorrect', 'in installation', 'in installing', 'in instructions', 'in into', 'in ios', 'in ipad', 'in iphone', 'in issue', 'in issues', 'in logging', 'in login', 'in mail', 'in mobile', 'in my', 'in new', 'in password', 'in phone', 'in requesting', 'in secure', 'in setting', 'in sr08798290', 'in the', 'in through', 'in to', 'in unable', 'in using', 'in web', 'in with', 'in worx', 'inatallation', 'inatallation instructions', 'inbox', 'inbox is', 'inc6489954', 'inc6489954 unable', 'incident', 'incident outage', 'including', 'incorrect', 'incorrect credential', 'incorrect credentials', 'incorrect login', 'incorrect password', 'incorrect user', 'incorrect username', 'indicates', 'info', 'info on', 'information', 'information about', 'information how', 'information on', 'information regarding', 'information request', 'information to', 'informação', 'informação sobre', 'informações', 'informações sobre', 'informed', 'initial', 'input', 'inquire', 'inquiry', 'inquiry about', 'inquiry how', 'inquiry to', 'instalacao', 'instalaltion', 'instalar', 'instalation', 'install', 'install access', 'install and', 'install android', 'install app', 'install application', 'install apps', 'install assistance', 'install citirix', 'install citrix', 'install csh', 'install error', 'install ers', 'install ey', 'install for', 'install good', 'install hub', 'install in', 'install information', 'install instructions', 'install ios', 'install issue', 'install it', 'install mail', 'install mobile', 'install on', 'install process', 'install request', 'install secur', 'install secure', 'install securehub', 'install software', 'install the', 'install to', 'install unable', 'installating', 'installating mail', 'installation', 'installation and', 'installation assistance', 'installation configuration', 'installation enquiry', 'installation for', 'installation fr', 'installation guide', 'installation in', 'installation information', 'installation instruction', 'installation instructions', 'installation iphone', 'installation issue', 'installation of', 'installation on', 'installation request', 'installation resolution', 'installation secur', 'installation secure', 'installations', 'installed', 'installed but', 'installed on', 'installed secure', 'installed the', 'installer', 'installing', 'installing and', 'installing citrix', 'installing hub', 'installing logging', 'installing mail', 'installing on', 'installing secure', 'installing the', 'installtion', 'instead', 'instead of', 'instruction', 'instructions', 'interaction', 'internal', 'internet', 'internet mail', 'into', 'into after', 'into application', 'into citrix', 'into from', 'into hub', 'into mail', 'into my', 'into secure', 'into the', 'into using', 'invaild', 'invaild credentials', 'invalid', 'invalid credential', 'invalid credentials', 'invalid password', 'invalid username', 'inventory', 'ios', 'ios 10', 'ios access', 'ios cannot', 'ios device', 'ios how', 'ios installation', 'ios iphone', 'ios issue', 'ios mobile', 'ios not', 'ios problem', 'ios report', 'ios unable', 'ios untrusted', 'ios10', 'ipad', 'ipad and', 'ipad citrix', 'ipad device', 'ipad pro', 'iphone', 'iphone 6s', 'iphone and', 'iphone app', 'iphone but', 'iphone citrix', 'iphone ipad', 'iphone need', 'irina', 'irina bykhovskaya', 'is', 'is blocked', 'is change', 'is changed', 'is currently', 'is getting', 'is having', 'is incorrect', 'is it', 'is locked', 'is lost', 'is my', 'is no', 'is not', 'is password', 'is prompting', 'is requesting', 'is required', 'is safe', 'is saying', 'is secure', 'is sending', 'is the', 'is there', 'is trying', 'is unable', 'ishimaru', 'isn', 'isntall', 'issue', 'issue after', 'issue citrix', 'issue customer', 'issue in', 'issue invalid', 'issue l2isdssa', 'issue logging', 'issue need', 'issue on', 'issue to', 'issue unable', 'issue with', 'issues', 'issues on', 'issues secure', 'issues with', 'ist', 'ist can', 'ist citrix', 'ist hub', 'ist installation', 'ist unable', 'ist user', 'it', 'it asset', 'it help', 'it interaction', 'it is', 'it on', 'it possible', 'it says', 'it shows', 'it up', 'its', 'jag', 'japan', 'japan eysn', 'japan incident', 'je', 'je arrive', 'join', 'jurry', 'jurry it', 'just', 'keep', 'keep on', 'keeps', 'keeps crashing', 'keeps loading', 'keeps spinning', 'key', 'key leader', 'kindly', 'kl', 'kl unable', 'klunable', 'klunable to', 'know', 'know about', 'know how', 'know some', 'know the', 'know what', 'know which', 'kommer', 'kumaki', 'l2isdm', 'l2isdsdc', 'l2isdssa', 'laptop', 'last', 'launch', 'launch citrix', 'launch mail', 'launch secure', 'launch the', 'launching', 'launching the', 'le', 'leader', 'leader unable', 'leave', 'les', 'let', 'like', 'like assistance', 'like to', 'link', 'links', 'list', 'listed', 'load', 'load store', 'load the', 'load to', 'loaded', 'loading', 'loading and', 'local', 'local assistane', 'local it', 'local network', 'location', 'lock', 'locked', 'locked out', 'log', 'log in', 'log into', 'log on', 'log onto', 'logged', 'logged in', 'loggin', 'logging', 'logging after', 'logging for', 'logging in', 'logging into', 'logging issue', 'logging on', 'logging onto', 'login', 'login access', 'login after', 'login and', 'login apl2app', 'login application', 'login as', 'login assistance', 'login citrix', 'login credentials', 'login denied', 'login details', 'login error', 'login failed', 'login failure', 'login for', 'login from', 'login getting', 'login hub', 'login id', 'login in', 'login incorrect', 'login information', 'login into', 'login is', 'login issue', 'login issues', 'login keeps', 'login mail', 'login name', 'login not', 'login on', 'login page', 'login password', 'login problem', 'login problems', 'login prompt', 'login request', 'login screen', 'login secure', 'login showing', 'login the', 'login tkyosshby', 'login to', 'login user', 'login when', 'login with', 'logingetting', 'logingetting an', 'loginto', 'loginto secure', 'loginto the', 'logoff', 'logon', 'logon after', 'logon failed', 'logon mobile', 'logon possible', 'logon secure', 'logon to', 'long', 'long time', 'longer', 'longer registered', 'loop', 'loops', 'lors', 'lors de', 'lost', 'lost asset', 'lost mobile', 'lost or', 'lost phone', 'lost smartphone', 'lost stolen', 'lte', 'mai', 'mail', 'mail access', 'mail account', 'mail activation', 'mail after', 'mail and', 'mail android', 'mail app', 'mail application', 'mail are', 'mail assistance', 'mail box', 'mail but', 'mail can', 'mail cannot', 'mail citrix', 'mail configuration', 'mail customer', 'mail do', 'mail does', 'mail emails', 'mail enable', 'mail error', 'mail ey', 'mail failed', 'mail folders', 'mail for', 'mail from', 'mail getting', 'mail giving', 'mail how', 'mail hub', 'mail id', 'mail in', 'mail incorrect', 'mail install', 'mail installation', 'mail installed', 'mail invalid', 'mail ipad', 'mail is', 'mail issue', 'mail issues', 'mail locked', 'mail log', 'mail login', 'mail mail', 'mail mails', 'mail need', 'mail new', 'mail no', 'mail not', 'mail notifications', 'mail on', 'mail password', 'mail prompts', 'mail quick', 'mail quickedit', 'mail reason', 'mail reinstall', 'mail reinstallation', 'mail request', 'mail resolved', 'mail secure', 'mail server', 'mail set', 'mail setup', 'mail stopped', 'mail sync', 'mail synchronization', 'mail the', 'mail through', 'mail to', 'mail unable', 'mail update', 'mail user', 'mail via', 'mail web', 'mail will', 'mail wipe', 'mail with', 'mail won', 'mail worxmail', 'mailaccess', 'mailbox', 'mailbox on', 'mailinstallation', 'mailnot', 'mails', 'mails are', 'mails from', 'mails in', 'mails not', 'mails on', 'mails secure', 'mails through', 'mails via', 'mailunable', 'mailunable to', 'mailuser', 'mailuser is', 'make', 'makino', 'makino apl2app', 'mam', 'managed', 'managed application', 'management', 'management in', 'management option', 'manager', 'manager and', 'march', 'maximum', 'may', 'mdm', 'me', 'med', 'meeting', 'melden', 'message', 'message access', 'message as', 'message incorrect', 'message when', 'messages', 'messages in', 'messaging', 'microsoft', 'migrate', 'migrate to', 'missing', 'mobile', 'mobile account', 'mobile and', 'mobile app', 'mobile application', 'mobile applications', 'mobile apps', 'mobile canvas', 'mobile citrix', 'mobile couldn', 'mobile device', 'mobile email', 'mobile install', 'mobile is', 'mobile mail', 'mobile not', 'mobile phone', 'mobile phones', 'mobile request', 'mobile shutting', 'mobile unable', 'mon', 'mon secure', 'month', 'more', 'more logon', 'more the', 'more work', 'mot', 'mot de', 'movil', 'multiple', 'multiple times', 'multiple users', 'murphy', 'mx', 'mx app', 'mx can', 'mx citrix', 'mx configure', 'mx how', 'mx hub', 'mx information', 'mx install', 'mx installation', 'mx log', 'mx mail', 'mx password', 'mx secure', 'mx sign', 'mx unable', 'mx user', 'my', 'my account', 'my android', 'my calendar', 'my citrix', 'my colleague', 'my credentials', 'my email', 'my emails', 'my ipad', 'my iphone', 'my mobile', 'my new', 'my password', 'my personal', 'my phone', 'my secure', 'my smart', 'my smartphone', 'my windows', 'na', 'na install', 'name', 'name and', 'name or', 'ne', 'ne fonctionne', 'ne peut', 'need', 'need access', 'need an', 'need assistance', 'need assitance', 'need citrix', 'need guidance', 'need help', 'need information', 'need new', 'need password', 'need secure', 'need support', 'need the', 'need to', 'needed', 'needed assistance', 'needed to', 'needed with', 'needs', 'needs assistance', 'needs the', 'needs to', 'netscaler', 'network', 'network is', 'network not', 'network password', 'network secure', 'never', 'new', 'new account', 'new device', 'new email', 'new emails', 'new iphone', 'new mail', 'new messages', 'new mobile', 'new password', 'new phone', 'new pin', 'new windows', 'no', 'no access', 'no connection', 'no email', 'no internet', 'no longer', 'no mail', 'no more', 'no new', 'no secure', 'no sync', 'non', 'non plus', 'not', 'not able', 'not accept', 'not accepted', 'not accepting', 'not access', 'not activate', 'not allow', 'not appearing', 'not authorized', 'not available', 'not be', 'not been', 'not being', 'not connect', 'not connected', 'not connecting', 'not currently', 'not download', 'not enter', 'not find', 'not found', 'not function', 'not functioning', 'not get', 'not getting', 'not have', 'not install', 'not listed', 'not loading', 'not log', 'not logging', 'not login', 'not open', 'not opening', 'not permitted', 'not possible', 'not reach', 'not receive', 'not receiving', 'not recognize', 'not recognized', 'not recognizing', 'not registered', 'not responding', 'not search', 'not send', 'not set', 'not showing', 'not start', 'not support', 'not sync', 'not synced', 'not synchronize', 'not synchronized', 'not synchronizing', 'not syncing', 'not syncronizing', 'not trusted', 'not up', 'not update', 'not updated', 'not updating', 'not valid', 'not work', 'not working', 'not works', 'note', 'notes', 'notes and', 'notes unable', 'nothing', 'notification', 'notification for', 'notifications', 'notifications on', 'now', 'number', 'number of', 'não', 'não consegue', 'não esta', 'of', 'of and', 'of citrix', 'of ey', 'of good', 'of hub', 'of mail', 'of my', 'of office', 'of password', 'of rsa', 'of secure', 'of sign', 'of the', 'off', 'office', 'often', 'old', 'old password', 'old phone', 'on', 'on 05', 'on after', 'on an', 'on android', 'on apl2app', 'on application', 'on asking', 'on cell', 'on citirx', 'on citrix', 'on ey', 'on getting', 'on good', 'on her', 'on his', 'on how', 'on hub', 'on incorrect', 'on installation', 'on installed', 'on installing', 'on ios', 'on ipad', 'on iphone', 'on it', 'on login', 'on lost', 'on mail', 'on mobile', 'on my', 'on new', 'on personal', 'on phone', 'on reinstalling', 'on samsung', 'on secure', 'on setting', 'on signing', 'on smartphone', 'on the', 'on to', 'on user', 'on vacation', 'on work', 'on your', 'one', 'one drive', 'one month', 'onincorrect', 'onincorrect credentials', 'onincorrect user', 'oninvalid', 'only', 'onsite', 'onto', 'onto secure', 'onuser', 'open', 'open and', 'open attachments', 'open citrix', 'open excel', 'open ey', 'open hub', 'open mail', 'open pdf', 'open secure', 'open the', 'open this', 'opened', 'opening', 'option', 'option in', 'option is', 'or', 'or bad', 'or mail', 'or password', 'or pdf', 'or receive', 'or server', 'or stolen', 'organisation', 'organisation est', 'organisation network', 'organization', 'os', 'oss', 'ossbp2r', 'other', 'other citrix', 'our', 'out', 'out of', 'out please', 'outage', 'outage inc6489954', 'outage internet', 'outage unable', 'outlook', 'outlook calendar', 'outlook email', 'outlook emails', 'outlook on', 'outlook via', 'over', 'overlay', 'overlay detected', 'pace', 'page', 'pana', 'pana can', 'pana confirmed', 'pana eya', 'pana eysn', 'pana logon', 'pana unable', 'para', 'para instalar', 'parthenon', 'partner', 'partner citrix', 'partner would', 'pas', 'pass', 'pass the', 'passcode', 'passcode for', 'passcode incorrect', 'passcodes', 'passe', 'passowrd', 'passsword', 'password', 'password after', 'password and', 'password anymore', 'password are', 'password change', 'password changed', 'password changing', 'password error', 'password expired', 'password for', 'password has', 'password in', 'password incorrect', 'password installation', 'password is', 'password issue', 'password issues', 'password locked', 'password need', 'password not', 'password of', 'password on', 'password or', 'password passcode', 'password problem', 'password prompt', 'password recovery', 'password request', 'password reset', 'password sync', 'password synchronisation', 'password synchronization', 'password to', 'password update', 'password was', 'password with', 'password wrong', 'passwordreset', 'passwords', 'passwort', 'passwort reset', 'passwrod', 'pasword', 'pasword reset', 'paul', 'pdf', 'pdf files', 'pe', 'pe citrix', 'pe install', 'pe mail', 'pe user', 'pending', 'pending update', 'people', 'perform', 'permission', 'permission to', 'permitted', 'permitted your', 'person', 'personal', 'personal phone', 'personal smartphone', 'peut', 'peut accéder', 'phone', 'phone and', 'phone but', 'phone device', 'phone for', 'phone get', 'phone is', 'phone not', 'phone please', 'phone query', 'phone resolved', 'phone samsung', 'phone with', 'phones', 'pin', 'pin for', 'pin request', 'pl', 'pl assistance', 'pl can', 'pl mail', 'pl question', 'pl secure', 'pl unable', 'play', 'play store', 'playstore', 'please', 'please assist', 'please help', 'please install', 'please reconnect', 'please try', 'please verify', 'please wait', 'please wipe', 'plus', 'pm', 'pm citrix', 'pm est', 'pm ist', 'pm unable', 'pop', 'pop up', 'popup', 'possible', 'possible activate', 'possible anymore', 'possible password', 'possible to', 'potential', 'potential outage', 'present', 'previous', 'previously', 'print', 'private', 'pro', 'probleem', 'problem', 'problem login', 'problem melden', 'problem report', 'problem sign', 'problem to', 'problem with', 'problemas', 'problems', 'problems installing', 'problems to', 'problems with', 'process', 'profile', 'prompt', 'prompt for', 'prompt incorrect', 'prompt password', 'prompt unable', 'prompt username', 'prompted', 'prompted to', 'prompting', 'prompting for', 'prompts', 'prompts for', 'properly', 'provide', 'provide assistance', 'provisioning', 'provisioning exit', 'pu', 'pu software', 'pw', 'pw change', 'pw of', 'pw reset', 'pwd', 'pwd sync', 'på', 'på secure', 'query', 'query about', 'query regarding', 'question', 'question about', 'question on', 'questions', 'questions about', 'quick', 'quick edit', 'quickedit', 're', 're citrix', 're install', 're installation', 're installing', 're ipad', 'reach', 'reach server', 'reach the', 'reached', 'read', 'read her', 'read his', 'readding', 'readding your', 'reader', 'reason', 'reason ie', 'reason installation', 'reasonexpired', 'reasonexpired password', 'reasoninstallation', 'reasonunable', 'reasonunable to', 'reasonuser', 'reasonuser wants', 'receive', 'receive an', 'receive email', 'receive emails', 'receive her', 'receive his', 'receive mails', 'receive new', 'receive the', 'received', 'receiver', 'receiving', 'receiving emails', 'receiving error', 'recently', 'recieve', 'recognise', 'recognise email', 'recognize', 'recognize the', 'recognized', 'recognizing', 'recognizing credentials', 'reconize', 'reconnect', 'recovery', 'refreshed', 'refusing', 'regarding', 'regarding citrix', 'regarding mail', 'regarding password', 'regarding secure', 'regarding unable', 'regarding what', 'register', 'register on', 'register secure', 'register the', 'registered', 'registered with', 'registration', 'reinstall', 'reinstall and', 'reinstall citrix', 'reinstall mail', 'reinstall on', 'reinstall secure', 'reinstall the', 'reinstallation', 'reinstallation of', 'reinstalled', 'reinstalling', 'reinstalling citrix', 'rejected', 'related', 'related to', 'remove', 'removed', 'reopened', 'reopened unable', 'replace', 'replace good', 'replace the', 'replaced', 'replacement', 'replacement device', 'replacing', 'replicate', 'report', 'report issue', 'reported', 'request', 'request ad', 'request assistance', 'request assistant', 'request for', 'request help', 'request how', 'request information', 'request install', 'request installation', 'request local', 'request of', 'request on', 'request password', 'request secure', 'request to', 'requested', 'requested assistance', 'requested for', 'requested help', 'requested how', 'requested to', 'requesting', 'requesting an', 'requesting android', 'requesting assistance', 'requesting configure', 'requesting for', 'requesting to', 'requests', 'requests assistance', 'requests for', 'require', 'require assistance', 'required', 'required assets', 'required by', 'required with', 'requires', 'requires vpn', 'reseau', 'reseau de', 'reserve', 'reserve but', 'reserve mobile', 'reset', 'reset for', 'reset my', 'reset of', 'reset on', 'reset password', 'reset request', 'reset secure', 'reset the', 'resetting', 'resetting password', 'resigned', 'resolution', 'resolve', 'resolved', 'resolved jurry', 'resources', 'respond', 'responding', 'retrieve', 'retry', 'revoke', 'right', 'rooted', 'rsa', 'rsa soft', 'rsa software', 'rsa token', 'running', 's7', 'safe', 'said', 'said that', 'said unable', 'same', 'samsung', 'samsung galaxy', 'saying', 'says', 'says cannot', 'says incorrect', 'says invalid', 'says need', 'screen', 'screen overlay', 'se', 'se connecter', 'search', 'secret', 'secret code', 'secue', 'secue hub', 'secuer', 'secuer hub', 'secur', 'secur and', 'secur how', 'secur hub', 'secur issue', 'secur mail', 'secur unable', 'secure', 'secure and', 'secure app', 'secure application', 'secure apps', 'secure email', 'secure enquiry', 'secure hub', 'secure hubb', 'secure hubhow', 'secure hubinstallation', 'secure hublogin', 'secure hubrequested', 'secure hubunable', 'secure id', 'secure in', 'secure installation', 'secure issue', 'secure logging', 'secure login', 'secure mail', 'secure mails', 'secure need', 'secure needs', 'secure on', 'secure password', 'secure requested', 'secure secure', 'secure unable', 'secure user', 'secure web', 'secure with', 'secured', 'securehub', 'securehub and', 'securehub installation', 'securehub is', 'securehub securemail', 'securemail', 'securemail username', 'securhub', 'securid', 'security', 'securmail', 'securmail does', 'secute', 'see', 'see email', 'seem', 'seem to', 'seems', 'seems to', 'send', 'send emails', 'send or', 'send receive', 'sending', 'senha', 'senha do', 'sercure', 'server', 'server access', 'server address', 'server error', 'server please', 'serveur', 'service', 'services', 'session', 'session citrix', 'set', 'set it', 'set up', 'setoyama', 'setting', 'setting up', 'settings', 'setup', 'setup and', 'setup citrix', 'setup in', 'setup is', 'setup issue', 'setup mail', 'setup of', 'setup on', 'setup secure', 'setup the', 'seucre', 'seucre hub', 'seucre mail', 'seure', 'seure hub', 'seure mail', 'sgoss', 'sgoss unable', 'share', 'shared', 'sharefile', 'she', 'she cannot', 'she is', 'sheet', 'sheet without', 'should', 'should be', 'show', 'showing', 'showing invalid', 'showing password', 'showing up', 'shown', 'shows', 'shows incorrect', 'shutting', 'shutting down', 'sign', 'sign in', 'sign into', 'sign off', 'sign on', 'sign onincorrect', 'sign oninvalid', 'sign onuser', 'signin', 'signing', 'signing in', 'since', 'since he', 'sincronize', 'sing', 'sing in', 'singin', 'site', 'skype', 'skype and', 'skype for', 'skype meeting', 'smart', 'smart device', 'smart phone', 'smartphone', 'smartphone advice', 'smartphone and', 'smartphone with', 'sobre', 'sobre troca', 'soft', 'soft token', 'software', 'software citrix', 'software hub', 'software mail', 'software need', 'software request', 'software secure', 'software token', 'some', 'some information', 'spinning', 'sr08798290', 'staff', 'staff wifi', 'stage', 'start', 'start up', 'started', 'starting', 'starting the', 'starts', 'steps', 'still', 'stolen', 'stolen asset', 'stop', 'stop working', 'stopped', 'stopped to', 'stopped working', 'store', 'store in', 'store is', 'store of', 'store to', 'stuck', 'stuck at', 'stuck in', 'stuck on', 'successfully', 'sucessfully', 'sucure', 'suite', 'summer', 'support', 'support encryption', 'support for', 'support to', 'supported', 'sur', 'suzuki', 'sync', 'sync after', 'sync emails', 'sync issue', 'sync not', 'sync outlook', 'sync secure', 'sync the', 'sync with', 'synced', 'synchronisation', 'synchronise', 'synchronising', 'synchronization', 'synchronization issue', 'synchronize', 'synchronize with', 'synchronized', 'synchronizing', 'synchronizing with', 'syncing', 'syncing with', 'syncronization', 'syncronizing', 'system', 'taking', 'tap', 'target', 'tas', 'tas can', 'tas cannot', 'tas unable', 'task', 'task completed', 'tasks', 'tasks and', 'tax', 'tax about', 'tax can', 'tax cannot', 'tax question', 'tax unable', 'team', 'tech', 'tech awareness', 'telefonen', 'test', 'than', 'that', 'that is', 'that the', 'the', 'the access', 'the account', 'the ad', 'the and', 'the android', 'the app', 'the apple', 'the application', 'the applications', 'the appstore', 'the attachments', 'the calendar', 'the cell', 'the cirix', 'the citrix', 'the company', 'the connection', 'the credential', 'the credentials', 'the customer', 'the device', 'the email', 'the emails', 'the error', 'the ey', 'the first', 'the firsttime', 'the for', 'the hub', 'the in', 'the incorrect', 'the information', 'the inquiry', 'the installation', 'the iphone', 'the login', 'the mail', 'the mails', 'the message', 'the mobile', 'the new', 'the office', 'the on', 'the passcode', 'the password', 'the passwords', 'the phone', 'the required', 'the right', 'the rsa', 'the same', 'the secure', 'the server', 'the store', 'the team', 'the time', 'the url', 'the user', 'the username', 'the version', 'the vpn', 'the windows', 'the with', 'there', 'there is', 'this', 'this app', 'this application', 'this device', 'this managed', 'through', 'through mobile', 'through secure', 'through to', 'ticket', 'tieo', 'til', 'till', 'time', 'time out', 'time sheet', 'time to', 'timed', 'timed out', 'timeout', 'times', 'timesheet', 'tkyosshby', 'tkyosshby hayafuji', 'tkyosshby ishimaru', 'tkyosshby kumaki', 'tkyosshby makino', 'tkyosshby setoyama', 'tkyosshby suzuki', 'tkyossksm', 'tkyossksm yokoyama', 'to', 'to acces', 'to access', 'to acess', 'to activate', 'to active', 'to add', 'to after', 'to allow', 'to and', 'to apl2app', 'to app', 'to application', 'to assist', 'to assistance', 'to authenticate', 'to authorize', 'to be', 'to change', 'to check', 'to citrix', 'to company', 'to configure', 'to confirm', 'to connect', 'to continue', 'to corporate', 'to create', 'to date', 'to delete', 'to deploy', 'to do', 'to download', 'to edit', 'to email', 'to enable', 'to enroll', 'to enter', 'to establish', 'to ey', 'to fetch', 'to fill', 'to find', 'to fix', 'to get', 'to getting', 'to guide', 'to have', 'to help', 'to his', 'to hub', 'to incorrect', 'to install', 'to invalid', 'to isntall', 'to issue', 'to know', 'to launch', 'to load', 'to log', 'to logging', 'to login', 'to logingetting', 'to loginto', 'to logoff', 'to logon', 'to mail', 'to mails', 'to make', 'to migrate', 'to mobile', 'to my', 'to needs', 'to new', 'to not', 'to on', 'to open', 'to password', 'to perform', 'to prompt', 'to provide', 'to re', 'to reach', 'to receive', 'to receiving', 'to recieve', 'to register', 'to reinstall', 'to replace', 'to request', 'to reset', 'to search', 'to secur', 'to secure', 'to securehub', 'to securemail', 'to security', 'to see', 'to send', 'to server', 'to set', 'to setup', 'to sign', 'to signin', 'to sing', 'to singin', 'to start', 'to store', 'to sync', 'to synchronize', 'to target', 'to the', 'to this', 'to to', 'to trust', 'to trusted', 'to uninstall', 'to unistall', 'to unlock', 'to update', 'to upgrade', 'to use', 'to user', 'to verify', 'to via', 'to view', 'to wipe', 'to work', 'to your', 'token', 'token and', 'token app', 'tools', 'top', 'touch', 'touch id', 'touchid', 'touchid authentication', 'touchid feature', 'tried', 'tried to', 'troca', 'troca de', 'trocar', 'trocar senha', 'trouble', 'trouble accessing', 'troubleshooting', 'trust', 'trust ey', 'trusted', 'try', 'try again', 'try to', 'trying', 'trying to', 'two', 'type', 'uanble', 'uanble to', 'uat', 'unable', 'unable access', 'unable complete', 'unable log', 'unable logging', 'unable login', 'unable sign', 'unable to', 'unable yo', 'unale', 'unale to', 'unavailable', 'unbale', 'unbale to', 'und', 'under', 'une', 'uninstall', 'uninstall and', 'uninstall from', 'uninstall the', 'uninstalled', 'uninstalling', 'unistall', 'unlock', 'unlocked', 'unread', 'unresponsive', 'untrusted', 'untrusted developer', 'untrusted enterprise', 'up', 'up account', 'up and', 'up citrix', 'up hub', 'up in', 'up mail', 'up on', 'up secure', 'up the', 'up to', 'up3', 'up3 hub', 'update', 'update citrix', 'update mail', 'update needed', 'update secure', 'update the', 'updated', 'updates', 'updates notification', 'updating', 'updating after', 'updating and', 'updating in', 'upgrade', 'upgrade to', 'upn', 'upon', 'upon login', 'urgent', 'urgent access', 'urgent citrix', 'urgent issue', 'urgent mail', 'urgent unable', 'urgentpartner', 'urgentpartner caserequest', 'url', 'usage', 'use', 'use after', 'use citrix', 'use hub', 'use incorrect', 'use mail', 'use more', 'use secure', 'use the', 'used', 'used to', 'user', 'user are', 'user ask', 'user asked', 'user called', 'user can', 'user cannot', 'user cant', 'user changed', 'user could', 'user credentials', 'user does', 'user forgot', 'user getting', 'user got', 'user has', 'user have', 'user having', 'user id', 'user inquiry', 'user is', 'user mobile', 'user name', 'user need', 'user needed', 'user needs', 'user not', 'user request', 'user requested', 'user requesting', 'user requests', 'user said', 'user says', 'user to', 'user unable', 'user want', 'user wanted', 'user wants', 'user was', 'user would', 'username', 'username and', 'username is', 'username or', 'username password', 'users', 'using', 'using email', 'using ey', 'using my', 'using new', 'using the', 'using windows', 'utilizar', 'vacation', 'valid', 'validating', 'validation', 've', 'verify', 'verify your', 'verifying', 'version', 'via', 'via citrix', 'via mail', 'via mobile', 'via secure', 'view', 'view documents', 'vip', 'vip citrix', 'vip customer', 'vip pana', 'vip secure', 'vip unable', 'votre', 'votre organisation', 'vpn', 'vpn configuration', 'vpn during', 'vpn not', 'wait', 'want', 'want an', 'want assistance', 'want to', 'wanted', 'wanted to', 'wants', 'wants assistance', 'wants to', 'was', 'was changed', 'was not', 'was unable', 'we', 'we need', 'web', 'web and', 'web error', 'web etc', 'web install', 'web installation', 'web not', 'web on', 'week', 'welcome', 'welcome to', 'wfl', 'what', 'what are', 'what credentials', 'what domain', 'what is', 'what password', 'what the', 'when', 'when installing', 'when launch', 'when password', 'when she', 'when try', 'when trying', 'when user', 'where', 'whether', 'which', 'which application', 'which credentials', 'while', 'while entering', 'while establishing', 'while installing', 'while logging', 'wifi', 'will', 'will not', 'win', 'win password', 'win pw', 'window', 'window password', 'windows', 'windows account', 'windows credentials', 'windows password', 'windows pwd', 'wipe', 'wipe device', 'wipe out', 'wipe request', 'wiped', 'wiped from', 'with', 'with ad', 'with and', 'with citrix', 'with downloading', 'with email', 'with error', 'with her', 'with hub', 'with installating', 'with installation', 'with installed', 'with installing', 'with iphone', 'with logging', 'with mail', 'with new', 'with old', 'with outlook', 'with password', 'with reinstall', 'with secure', 'with setting', 'with the', 'with windows', 'without', 'without ey', 'won', 'won accept', 'won connect', 'work', 'work anymore', 'work correctly', 'work emails', 'work on', 'work phone', 'working', 'working after', 'working and', 'working anymore', 'working in', 'working on', 'working password', 'working properly', 'working unable', 'working with', 'works', 'worx', 'worx home', 'worx installation', 'worx mail', 'worx web', 'worx what', 'worxhome', 'worxmail', 'worxmail how', 'would', 'would like', 'wrapped', 'wrapped with', 'wrong', 'wrong credential', 'wrong credentials', 'wrong password', 'xen', 'xenapp', 'xenmobile', 'xenmobile ey', 'xenmobile login', 'xenmobile mail', 'xiaomi', 'xms', 'yo', 'yo login', 'yokoyama', 'you', 'you may', 'you please', 'your', 'your account', 'your company', 'your computer', 'your email', 'your mobile', 'your organisation', 'zurücksetzen']\n"
     ]
    }
   ],
   "source": [
    "print(vect.get_feature_names()[0:5000])"
   ]
  },
  {
   "cell_type": "code",
   "execution_count": null,
   "metadata": {},
   "outputs": [],
   "source": []
  },
  {
   "cell_type": "code",
   "execution_count": 25,
   "metadata": {},
   "outputs": [],
   "source": [
    "cluster = KMeans(n_clusters=6,random_state=4235)\n",
    "sdcluster = cluster.fit_predict(sd_dtm)"
   ]
  },
  {
   "cell_type": "code",
   "execution_count": 26,
   "metadata": {},
   "outputs": [
    {
     "data": {
      "text/plain": [
       "KMeans(algorithm='auto', copy_x=True, init='k-means++', max_iter=300,\n",
       "    n_clusters=6, n_init=10, n_jobs=1, precompute_distances='auto',\n",
       "    random_state=4235, tol=0.0001, verbose=0)"
      ]
     },
     "execution_count": 26,
     "metadata": {},
     "output_type": "execute_result"
    }
   ],
   "source": [
    "cluster"
   ]
  },
  {
   "cell_type": "code",
   "execution_count": 27,
   "metadata": {},
   "outputs": [
    {
     "name": "stdout",
     "output_type": "stream",
     "text": [
      "(10607,)\n",
      "(10607, 1)\n",
      "(10607, 1)\n",
      "                  0\n",
      "count  10607.000000\n",
      "mean       2.127934\n",
      "std        1.215235\n",
      "min        0.000000\n",
      "25%        2.000000\n",
      "50%        2.000000\n",
      "75%        3.000000\n",
      "max        5.000000\n"
     ]
    },
    {
     "data": {
      "text/html": [
       "<div>\n",
       "<style scoped>\n",
       "    .dataframe tbody tr th:only-of-type {\n",
       "        vertical-align: middle;\n",
       "    }\n",
       "\n",
       "    .dataframe tbody tr th {\n",
       "        vertical-align: top;\n",
       "    }\n",
       "\n",
       "    .dataframe thead th {\n",
       "        text-align: right;\n",
       "    }\n",
       "</style>\n",
       "<table border=\"1\" class=\"dataframe\">\n",
       "  <thead>\n",
       "    <tr style=\"text-align: right;\">\n",
       "      <th></th>\n",
       "      <th>cluster_number</th>\n",
       "    </tr>\n",
       "  </thead>\n",
       "  <tbody>\n",
       "    <tr>\n",
       "      <th>10602</th>\n",
       "      <td>4</td>\n",
       "    </tr>\n",
       "    <tr>\n",
       "      <th>10603</th>\n",
       "      <td>2</td>\n",
       "    </tr>\n",
       "    <tr>\n",
       "      <th>10604</th>\n",
       "      <td>4</td>\n",
       "    </tr>\n",
       "    <tr>\n",
       "      <th>10605</th>\n",
       "      <td>4</td>\n",
       "    </tr>\n",
       "    <tr>\n",
       "      <th>10606</th>\n",
       "      <td>4</td>\n",
       "    </tr>\n",
       "  </tbody>\n",
       "</table>\n",
       "</div>"
      ],
      "text/plain": [
       "       cluster_number\n",
       "10602               4\n",
       "10603               2\n",
       "10604               4\n",
       "10605               4\n",
       "10606               4"
      ]
     },
     "execution_count": 27,
     "metadata": {},
     "output_type": "execute_result"
    }
   ],
   "source": [
    "print(sdcluster.shape)\n",
    "print(df_sd.shape)\n",
    "sdcluster = pd.DataFrame(sdcluster)\n",
    "print(sdcluster.shape)\n",
    "print(sdcluster.describe())\n",
    "type(sdcluster)\n",
    "sdcluster=sdcluster.rename(columns={0:'cluster_number'})\n",
    "sdcluster.tail()"
   ]
  },
  {
   "cell_type": "code",
   "execution_count": 28,
   "metadata": {
    "scrolled": true
   },
   "outputs": [],
   "source": [
    "import matplotlib.pyplot as plt; plt.rcdefaults()\n",
    "import numpy as np\n",
    "import matplotlib.pyplot as plt\n",
    "%matplotlib inline"
   ]
  },
  {
   "cell_type": "code",
   "execution_count": 29,
   "metadata": {},
   "outputs": [
    {
     "name": "stdout",
     "output_type": "stream",
     "text": [
      "2    5104\n",
      "4    1674\n",
      "0    1306\n",
      "3    1224\n",
      "1    1125\n",
      "5     174\n",
      "Name: cluster_number, dtype: int64\n"
     ]
    },
    {
     "data": {
      "text/plain": [
       "1125"
      ]
     },
     "execution_count": 29,
     "metadata": {},
     "output_type": "execute_result"
    }
   ],
   "source": [
    "counts = sdcluster.cluster_number.value_counts()\n",
    "#counts = df.u_task_short_description.str.lower().value_counts()\n",
    "print(counts)\n",
    "counts[1]"
   ]
  },
  {
   "cell_type": "code",
   "execution_count": 30,
   "metadata": {},
   "outputs": [
    {
     "name": "stdout",
     "output_type": "stream",
     "text": [
      "[0 1 2 3 4 5]\n",
      "2    5104\n",
      "4    1674\n",
      "0    1306\n",
      "3    1224\n",
      "1    1125\n",
      "5     174\n",
      "Name: cluster_number, dtype: int64\n"
     ]
    }
   ],
   "source": [
    "x_axis = counts\n",
    "y_axis = counts\n",
    "ind = np.arange(len(x_axis))\n",
    "print(ind)\n",
    "print(y_axis)"
   ]
  },
  {
   "cell_type": "code",
   "execution_count": 31,
   "metadata": {},
   "outputs": [
    {
     "data": {
      "text/plain": [
       "<matplotlib.text.Text at 0x1cb75e98668>"
      ]
     },
     "execution_count": 31,
     "metadata": {},
     "output_type": "execute_result"
    },
    {
     "data": {
      "image/png": "[encoded data removed]",
      "text/plain": [
       "<matplotlib.figure.Figure at 0x1cb75f525c0>"
      ]
     },
     "metadata": {},
     "output_type": "display_data"
    }
   ],
   "source": [
    "plt.bar(ind,y_axis)\n",
    "plt.xticks(ind,x_axis)\n",
    "plt.ylabel('Cluster Size')\n",
    "plt.xlabel('Custers')"
   ]
  },
  {
   "cell_type": "code",
   "execution_count": 32,
   "metadata": {},
   "outputs": [
    {
     "name": "stdout",
     "output_type": "stream",
     "text": [
      "(10607, 79)\n",
      "(10607, 1)\n",
      "(10778, 80)\n"
     ]
    }
   ],
   "source": [
    "print(df.shape)\n",
    "print(sdcluster.shape)\n",
    "result = pd.concat([sdcluster,df],axis=1,ignore_index=False)\n",
    "print(result.shape)"
   ]
  },
  {
   "cell_type": "code",
   "execution_count": 33,
   "metadata": {},
   "outputs": [],
   "source": [
    "value_0 = result.u_task_short_description[result.cluster_number==0] \n",
    "value_1 = result.u_task_short_description[result.cluster_number==1]\n",
    "value_2 = result.u_task_short_description[result.cluster_number==2]\n",
    "value_3 = result.u_task_short_description[result.cluster_number==3]\n",
    "value_4 = result.u_task_short_description[result.cluster_number==4]\n",
    "value_5 = result.u_task_short_description[result.cluster_number==5]\n",
    "value_6 = result.u_task_short_description[result.cluster_number==6]"
   ]
  },
  {
   "cell_type": "code",
   "execution_count": 34,
   "metadata": {},
   "outputs": [],
   "source": [
    "# Define the clusters to replace it in the Cluster_number columns\n",
    "# Cluster 0 = How to Install\n",
    "# Cluster 1 = Password Reset / Synchronization or Invalid Credentials\n",
    "# Cluster 2 = Unable to Login\n",
    "# Cluster 3 = How to Install or access"
   ]
  },
  {
   "cell_type": "code",
   "execution_count": 35,
   "metadata": {},
   "outputs": [
    {
     "name": "stdout",
     "output_type": "stream",
     "text": [
      "Secure Hub - Unable to Sign On                                                                                            39\n",
      "Secure Hub - Unable to login                                                                                               9\n",
      "Secure Hub - how to install Secure Hub                                                                                     9\n",
      "Secure Hub - Logging in after Windows password is changed                                                                  8\n",
      "Secure hub - How to install and set up Secure Hub and mail                                                                 7\n",
      "Secure Hub-how to install Secure Hub                                                                                       6\n",
      "Secure Hub-Unable to login                                                                                                 5\n",
      "Secure Hub - How to Install and Configure the Secure Hub for the First-Time Usage                                          5\n",
      "Secure Hub - Installation                                                                                                  5\n",
      "Secure Hub installation                                                                                                    4\n",
      "Secure Hub - How do I install? - Android and iOS                                                                           4\n",
      "SecureHub installation                                                                                                     4\n",
      "secure hub-how to login secure hub                                                                                         4\n",
      "Secure Hub - How to install Secure Hub                                                                                     4\n",
      "Unable to login to secure Hub                                                                                              4\n",
      "Secure Hub                                                                                                                 4\n",
      "Unable to login to Secure Hub                                                                                              4\n",
      "Secure hub                                                                                                                 4\n",
      "Secure Hub - How do I install iOS                                                                                          3\n",
      "Unable to access Secure Hub                                                                                                3\n",
      "Secure hub login issue                                                                                                     3\n",
      "Secure Hub login issue                                                                                                     3\n",
      "Secure Hub Installation Resolution                                                                                         3\n",
      "GOOD for Mobile Shutting down - Upgrade to Citrix Secure Hub required                                                      3\n",
      "Secure Hub-User ask how to install Secure Hub.                                                                             3\n",
      "Secure Hub - How to login                                                                                                  3\n",
      "Secure Hub : Unable yo login to Citrix hub                                                                                 2\n",
      "Secure Hub - Android - How to reset the Passcode                                                                           2\n",
      "Secure Hub - how to install secure hub                                                                                     2\n",
      "Secure Hub - Unable to access                                                                                              2\n",
      "                                                                                                                          ..\n",
      "Secure Hub -Updating after windows password has changed                                                                    1\n",
      "<Secure Hub> - <Reason -activation in new phone>                                                                           1\n",
      "Problems with the Citrix Secure Hub application                                                                            1\n",
      "Problem installing and activating Secure Hub                                                                               1\n",
      "Error -\"This device does not support encryption features required by the application.                                      1\n",
      "securehub-user would like to have an assistance with securemail installation                                               1\n",
      "Secure Hub -  unable to update                                                                                             1\n",
      "Secure Hub - Error: no access to local network                                                                             1\n",
      "Install Citrix SecureHub/SecureMail                                                                                        1\n",
      "Secure Hub : Citrix Secure Hub Login Issue.                                                                                1\n",
      "Configuracion aplicacion Secure HUB                                                                                        1\n",
      "Citrix secure hub - Mail                                                                                                   1\n",
      "[EYSN]Can't access secure hub<0.5><TKYOSSHBY><HAYAFUJI><FRONT>                                                             1\n",
      "Requested to guide through to install secure hub                                                                           1\n",
      "How to install CSH                                                                                                         1\n",
      "Secure Hub-Please follow the mobile app disable process for exit user -   mobile applications(securehub and softtoken)     1\n",
      "secure hub-unable to loginto the secure hub                                                                                1\n",
      "WG: Citrix Secure Hub iOS - cannot log in with Windows password                                                            1\n",
      "Assistance: Secure Hub setup and configuration.                                                                            1\n",
      "Secure Hub- not receiving emails                                                                                           1\n",
      "BR - Secure hub - How to install                                                                                           1\n",
      "User cannot Use the Citrix Secure Hub?                                                                                     1\n",
      "Secure Mail did not synchronize password with account on computer                                                          1\n",
      "Secure Hub- User could not login with her new password                                                                     1\n",
      "After transfer from previous smartphone cannot log into Secure Hub                                                         1\n",
      "Secure Hub : Request assistance in installing & configuring Secure hub & mail.                                             1\n",
      "Secure Hub -  install                                                                                                      1\n",
      "Secure Hub :My colleague Rahul singh is unable to access his outlook on his mobile handset. Please respond asap.           1\n",
      "Citrix Secure  Hub                                                                                                         1\n",
      "Strike 1: Secure mail : unable to login                                                                                    1\n",
      "Name: u_task_short_description, Length: 1110, dtype: int64\n",
      "(1306,)\n"
     ]
    }
   ],
   "source": [
    "print(value_0.value_counts())\n",
    "print(value_0.shape)"
   ]
  },
  {
   "cell_type": "code",
   "execution_count": 36,
   "metadata": {},
   "outputs": [
    {
     "name": "stdout",
     "output_type": "stream",
     "text": [
      "Secure Hub - Unable to Sign On                                                       46\n",
      "GOOD for Mobile Shutting down - Upgrade to Citrix Secure Hub required                 9\n",
      "Secure hub                                                                            7\n",
      "Secure Hub - how to install Secure Hub                                                7\n",
      "Secure Hub - How to Install and Configure the Secure Hub for the First-Time Usage     5\n",
      "Secure Hub - Unable to login                                                          5\n",
      "Secure Hub                                                                            5\n",
      "Secure Hub installation                                                               4\n",
      "secure hub                                                                            4\n",
      "Secure Hub - How do I install? - Android and iOS                                      4\n",
      "Secure Hub - How do I install                                                         4\n",
      "Secure Hub -Installation                                                              4\n",
      "Secure Hub-how to install.                                                            4\n",
      "Secure Hub Installation                                                               3\n",
      "Secure Hub - How to install Secure Hub                                                3\n",
      "Unable to login to secure hub                                                         3\n",
      "Secure Hub-Installation                                                               3\n",
      "Secure Hub - Installation                                                             3\n",
      "Requested to guide through to install secure hub                                      3\n",
      "Secure Hub - how to install secure hub                                                3\n",
      "secure hub installation                                                               3\n",
      "Requested to guide through to install Secure Hub                                      3\n",
      "Unable to access Secure hub                                                           2\n",
      "secure hub - install                                                                  2\n",
      "secure hub-how to login secure hub                                                    2\n",
      "Secure Hub - how to login secure hub  after Windows password is changed               2\n",
      "Secure Hub-need assistance                                                            2\n",
      "Secure Hub-Unable to access.                                                          2\n",
      "Secure Hub - Android - How to reset the Passcode                                      2\n",
      "Secure Hub - How to Install and Configure the Secure Hub                              2\n",
      "                                                                                     ..\n",
      "BR - Secure Hub - How to install the Secure Hub                                       1\n",
      "Access Outlook Email service through Secur Hub on mobile                              1\n",
      "Secure Hub credentials issue                                                          1\n",
      "Secure Hub - Pending Update                                                           1\n",
      "[EYSN]Forget SecureHub password                                                       1\n",
      "Secure Hub - How to install Secure Hub                                                1\n",
      "<Secure Hub> - <Reason-unable to login>                                               1\n",
      "HOLD. Citrix secure hub, request assistant                                            1\n",
      "France - Secure Hub - Logging in after Windows password is changed                    1\n",
      "Unable to login to Secure Hub after reset the password                                1\n",
      "secure mail                                                                           1\n",
      "Secure hub:invalid credentials                                                        1\n",
      "Secure Hub -- After installing secure hub, Asking for VPN details to be entered       1\n",
      "User requested how to install the secure hub                                          1\n",
      "[EYSN]About Secure Hub log in Password                                                1\n",
      "[EYSN][Partner]Can't log in Worx home<TKYOSSHBY><MAKINO><APL2APP>                     1\n",
      "Secure Hub--unable to login with windows password                                     1\n",
      "Citrix Secure Hub                                                                     1\n",
      "Secure Hub : Access                                                                   1\n",
      "worx web installation                                                                 1\n",
      "Sercure Hub - unable to connect                                                       1\n",
      "urgent  - Secure Hub issue                                                            1\n",
      "Secure Hub  - Unable to access mails from folders ( secure mail )                     1\n",
      "Secure HUb : Unbale to login                                                          1\n",
      "Secure Hub - How to login after changing the windows password                         1\n",
      "Secure mail - User need to access the EY mail in the Mobile device                    1\n",
      "Problem sign in to Secure Hub                                                         1\n",
      "PL : secure Hub installation                                                          1\n",
      "Secure Hub - Issues                                                                   1\n",
      "                                                                                      1\n",
      "Name: u_task_short_description, Length: 952, dtype: int64\n",
      "(1125,)\n"
     ]
    }
   ],
   "source": [
    "print(value_1.value_counts())\n",
    "print(value_1.shape)"
   ]
  },
  {
   "cell_type": "code",
   "execution_count": 37,
   "metadata": {
    "scrolled": true
   },
   "outputs": [
    {
     "name": "stdout",
     "output_type": "stream",
     "text": [
      "Secure Hub - Unable to Sign On                                                                         185\n",
      "Secure Hub                                                                                              36\n",
      "Secure Hub - Unable to login                                                                            30\n",
      "Secure hub                                                                                              29\n",
      "Secure Hub-Unable to login                                                                              22\n",
      "Secure Hub - how to install Secure Hub                                                                  22\n",
      "Secure Hub - Logging in after Windows password is changed                                               21\n",
      "GOOD for Mobile Shutting down - Upgrade to Citrix Secure Hub required                                   19\n",
      "Secure Hub - Installation                                                                               18\n",
      "CO - Citrix Secure Mail                                                                                 17\n",
      "Secure Hub installation                                                                                 15\n",
      "Secure Hub - How do I install? - Android and iOS                                                        14\n",
      "Secure hub installation                                                                                 14\n",
      "secure hub                                                                                              14\n",
      "Secure Hub-Installation                                                                                 13\n",
      "Unable to login to secure hub                                                                           12\n",
      "Secure Hub - How to install                                                                             12\n",
      "Secure Hub - How do I install iOS                                                                       11\n",
      "Secure Hub - Unable to access                                                                           11\n",
      "Secure Hub Installation                                                                                 11\n",
      "Secure hub - How to install and set up Secure Hub and mail                                              10\n",
      "Secure Hub - unable to login                                                                            10\n",
      "Secure Hub-how to install Secure Hub                                                                     9\n",
      "Secure mail - How to set up account                                                                      9\n",
      "Secure Hub – unable to access                                                                            9\n",
      "France - Secure Hub - Logging in after Windows password is changed                                       8\n",
      "Secure Hub - unable to access                                                                            8\n",
      "Secure Hub-how to install.                                                                               8\n",
      "Unable to access Secure Hub                                                                              8\n",
      "secure hub install                                                                                       8\n",
      "                                                                                                      ... \n",
      "unable to install secure hub                                                                             1\n",
      "citrix secur hub, how to install                                                                         1\n",
      "Reinstall citrix secure hub                                                                              1\n",
      "How to launch secure hub and what are login credentials                                                  1\n",
      " Secure Hub: unable to Sign in                                                                           1\n",
      "Guided through to install secure hub                                                                     1\n",
      "Secure Hub - Account issue                                                                               1\n",
      " Secure Hub- unable to login                                                                             1\n",
      "Help to install Secure Mail, Sercure Hub and Skype 4B                                                    1\n",
      "FUP 1 @ 09/10 8.02 AM  Secure Hub- Unable to access                                                      1\n",
      "Secure hub by citrix - user wants to install the secure hub by citrix and secure mail on his phone.      1\n",
      "VIP- SecureHub- Unable to access                                                                         1\n",
      "(fr) Secure Hub password reset request                                                                   1\n",
      "Secure Hub - unable to open documents in quick edit                                                      1\n",
      "Secure Hub: Request for the installation                                                                 1\n",
      "Secure hub - installation assistance                                                                     1\n",
      "Secure Hub - secure hub can not login                                                                    1\n",
      "Secure Hub - unable to login after changing windows password                                             1\n",
      "MX- Secure Hub- How to sing-in                                                                           1\n",
      "MX - User is requesting for information in order to install the Citrix applications in an iPad           1\n",
      "Secure hub - how to install                                                                              1\n",
      "AR- Secure Hub - How To                                                                                  1\n",
      "<Citrix secure hub> - <Reason ie. password change>                                                       1\n",
      "secure hub not working                                                                                   1\n",
      "Unable to login to Citrix Secure Hub after password reset                                                1\n",
      "How to install secure mail                                                                               1\n",
      "<PANA>[EYSN]About install secure hub<1.0>                                                                1\n",
      "Secure Hub - Invalid Username and password                                                               1\n",
      "PU - Secure hub\\unable to login <Assigning on user request>                                              1\n",
      "Unable to install and access Secure Hub                                                                  1\n",
      "Name: u_task_short_description, Length: 3845, dtype: int64\n",
      "(5104,)\n"
     ]
    }
   ],
   "source": [
    "print(value_2.value_counts())\n",
    "print(value_2.shape)"
   ]
  },
  {
   "cell_type": "code",
   "execution_count": 38,
   "metadata": {},
   "outputs": [
    {
     "name": "stdout",
     "output_type": "stream",
     "text": [
      "Secure Hub - Unable to Sign On                                                         50\n",
      "Secure Hub - Unable to login                                                            9\n",
      "Requested to guide through to install secure hub                                        9\n",
      "CO - Citrix Secure Mail                                                                 7\n",
      "Secure Hub installation                                                                 5\n",
      "secure hub                                                                              4\n",
      "Unable to login to secure hub                                                           4\n",
      "Secure Hub Installation                                                                 4\n",
      "Secure Hub -Unable to login: getting an error 'Incorrect user name or bad password'     4\n",
      "Secure Hub-Unable to login                                                              4\n",
      "Unable to login to Secure Hub                                                           3\n",
      "Secure Hub - unable to login                                                            3\n",
      "Secure Hub-Unable to login.                                                             3\n",
      "Secure Hub - how to install secure hub                                                  3\n",
      "Secure Hub - iOS Untrusted Enterprise Developer prompt                                  3\n",
      "Secure Hub - How do I install? - Android                                                3\n",
      "Problem login to Secure Hub                                                             3\n",
      "Secure Hub-Invaild credentials                                                          3\n",
      "Unable to login to secure Hub                                                           3\n",
      "Secure Hub - How do I install? - Android and iOS                                        3\n",
      "Unable to login to secure hub                                                           3\n",
      "Secure Hub                                                                              3\n",
      "secure hub-how to login secure hub                                                      3\n",
      "Secure Hub -Installation                                                                3\n",
      "Unable to login                                                                         3\n",
      "Secure Hub - how to install Secure Hub                                                  3\n",
      "Secure Hub - Logging in after Windows password is changed                               3\n",
      "Unable to logon to Secure Hub                                                           3\n",
      "Secure Hub -- install                                                                   2\n",
      "<Secure Hub> - <Reason-unable to login>                                                 2\n",
      "                                                                                       ..\n",
      "need help in re-configuring Citrix secure hub                                           1\n",
      "Citrix Secure Hub : Unable to access                                                    1\n",
      "RE: Citrix Secure Hub iOS  | Log on                                                     1\n",
      "France - Secure Hub - Logging in after Windows password is changed                      1\n",
      "Unable to access Secure Mail via Smartphone                                             1\n",
      "[EYA]can not login Secure Hub                                                           1\n",
      "Unable to Login to Secure Hub<APL2APP>                                                  1\n",
      "FW: IT Services INC5332045 Access to Citrix Secure hub                                  1\n",
      "wrong credentials secure hub                                                            1\n",
      "Secure HUB does not send e-mails                                                        1\n",
      "Secure Hub < installation request>                                                      1\n",
      "secure hub - installation is not working.                                               1\n",
      "Secure hub-- request to reset the password                                              1\n",
      "Securemail general contacts missing                                                     1\n",
      "Secure Hub/ Mail - unable to sign in                                                    1\n",
      "Need Assistance regarding Citrix Secure Hub                                             1\n",
      "SecureHub - emails not synchronised                                                     1\n",
      "Secure Hub - secure hub not connecting                                                  1\n",
      "Secure Hub-Unable to log in                                                             1\n",
      "Remove Citrix secure apps in related to my account as the mobile is lost                1\n",
      "Citrix Secure Hub does not work on my mobile                                            1\n",
      "Secure Hub - stuck on please wait screen                                                1\n",
      "How to update Secure Hub                                                                1\n",
      "Fup3: unable to install the secure hub                                                  1\n",
      "Secure Hub- Having trouble getting the secure hub app to work                           1\n",
      "user need citrix on his iPad                                                            1\n",
      "How to install Secure hub and mail                                                      1\n",
      "Citrix secure mail not able to launch                                                   1\n",
      "secure mail cannot connect to Secure Hub                                                1\n",
      "configure mailbox on mobile device                                                      1\n",
      "Name: u_task_short_description, Length: 1035, dtype: int64\n",
      "(1224,)\n"
     ]
    }
   ],
   "source": [
    "print(value_3.value_counts())\n",
    "print(value_3.shape)"
   ]
  },
  {
   "cell_type": "code",
   "execution_count": 39,
   "metadata": {},
   "outputs": [
    {
     "name": "stdout",
     "output_type": "stream",
     "text": [
      "Secure Hub - Unable to Sign On                                                                                       123\n",
      "Secure Hub - how to install Secure Hub                                                                                18\n",
      "Secure hub                                                                                                            12\n",
      "Secure Hub                                                                                                             9\n",
      "Secure Hub - How do I install iOS                                                                                      7\n",
      "Secure Hub - How to Install and Configure the Secure Hub for the First-Time Usage                                      6\n",
      "Secure Hub-Unable to login                                                                                             6\n",
      "Secure Hub- Unable to login                                                                                            6\n",
      "Secure Hub - Logging in after Windows password is changed                                                              6\n",
      "Unable to login to Secure Hub                                                                                          4\n",
      "Secure Hub - How do I install                                                                                          4\n",
      "Secure Hub - Unable to login                                                                                           4\n",
      "Secure Hub - How to install                                                                                            4\n",
      "Secure Hub-need assistance                                                                                             4\n",
      "Secure hub installation                                                                                                4\n",
      "Secure Hub - installation                                                                                              4\n",
      "Secure Hub - iOS Untrusted Enterprise Developer prompt                                                                 4\n",
      "Secure Hub - Installation                                                                                              4\n",
      "Secure Hub - Unable to access                                                                                          4\n",
      "Secure Hub - Installation                                                                                              4\n",
      "Unable to login Citrix Secure Hub                                                                                      3\n",
      "Secure Hub - how to install secure hub                                                                                 3\n",
      "Secure Hub issue                                                                                                       3\n",
      "Secure hub - How to install and set up Secure Hub and mail                                                             3\n",
      "secure hub login                                                                                                       3\n",
      "Secure Hub installation                                                                                                3\n",
      "secure hub                                                                                                             3\n",
      "Secure hub issue                                                                                                       3\n",
      "GOOD for Mobile Shutting down - Upgrade to Citrix Secure Hub required                                                  3\n",
      "Secure hub - unable to login                                                                                           3\n",
      "                                                                                                                    ... \n",
      "Citrix Secure Hub (WorxHome)- uninstall and re install                                                                 1\n",
      "SecureMail & SecureHub not registering new password                                                                    1\n",
      "Secure HUB does not send e-mails                                                                                       1\n",
      "MX - SecureHub - Log in Information                                                                                    1\n",
      "Unable to access secure hub                                                                                            1\n",
      "citrix secure hub - customer need to confirm the credential to enter to login to citrix hub                            1\n",
      "Unable to login access secure hub                                                                                      1\n",
      "I've replaced my iphone 6S with 8 and I lost the access to the secure email app on my iphone                           1\n",
      "[EYSN]About Scure Hub Password <1.0>                                                                                   1\n",
      "Secure Hub:Unable to login to secure Hub                                                                               1\n",
      "Secure Hub - user's requests for assistance to install Secure Hub on his iPad                                          1\n",
      "Secure Hub activation issue in Apple device                                                                            1\n",
      "<secure hub > - <Reason ie. New Device >                                                                               1\n",
      "Needs assistance with installation of Secure Mail / EY Apps                                                            1\n",
      "Secure hub - Unable to access Secure Hub and Secure Mail                                                               1\n",
      "Secure Hub: Unable to logon mobile device                                                                              1\n",
      "Secure Hub-Not able to login.                                                                                          1\n",
      "Secure Hub-Password reset                                                                                              1\n",
      "User cannot connect the Secure mail need a new reconfiguraion                                                          1\n",
      "[EYSN]about secure hub login                                                                                           1\n",
      "Logging into Secure Hub                                                                                                1\n",
      "BR - Secure Hub - User is unable to login                                                                              1\n",
      "Customer is unable to login secure mail hub                                                                            1\n",
      "Secure Hub : Secure Hub : Unable to login to Secure Hub.                                                               1\n",
      "BR- Secure Hub - Incorrect login and password                                                                          1\n",
      "how to signin to secure hub                                                                                            1\n",
      "Installation of Secure Hub and Mail                                                                                    1\n",
      "[EYA]can not finished secure hub setting since email address and windows password are rejected<TKYOSSHBY><SUZUKI>      1\n",
      "Secure Hub - request to set up                                                                                         1\n",
      "Secure Hub refusing new WIndows password                                                                               1\n",
      "Name: u_task_short_description, Length: 1335, dtype: int64\n",
      "(1674,)\n"
     ]
    }
   ],
   "source": [
    "print(value_4.value_counts())\n",
    "print(value_4.shape)"
   ]
  },
  {
   "cell_type": "code",
   "execution_count": 40,
   "metadata": {},
   "outputs": [
    {
     "name": "stdout",
     "output_type": "stream",
     "text": [
      "Secure Hub - Unable to Sign On                                                                             8\n",
      "Secure Hub - how to install secure hub                                                                     2\n",
      "Secure Hub - How do I install? - Android and iOS                                                           2\n",
      "Secure Hub - How to Install and Configure the Secure Hub for the First-Time Usage                          2\n",
      "Secure Hub - iOS Untrusted Enterprise Developer prompt                                                     1\n",
      "Secure mail-Unable to  configure Secure mail                                                               1\n",
      "FUP 3 @ 26/10 20.48  IST Password not accepting user needs assistance                                      1\n",
      "France - Secure Hub - Login Assistance                                                                     1\n",
      "[TAX]Question about SecureHub password<0.5>                                                                1\n",
      "Secure Hub-Unable to login                                                                                 1\n",
      "Secure Hub < Logging in after Windows password is changed>                                                 1\n",
      "Citrix Mail: How to set one month mail history                                                             1\n",
      "[EYSN]Unable to login Secure Hub                                                                           1\n",
      "Secure Hub - Unable to log in                                                                              1\n",
      "Unable to access Secure hub                                                                                1\n",
      "Secure Hub -  Access Required                                                                              1\n",
      "Secure Hub - How do I install                                                                              1\n",
      "Secure Hub-User ask how to install secure hub.                                                             1\n",
      "Secure Hub-prompting for credential                                                                        1\n",
      "install emiall on my iphone                                                                                1\n",
      "Secure HUB and MAIL - unable to access                                                                     1\n",
      "BR - Secure Hub Assistance                                                                                 1\n",
      "CITRIX Secure HUB - Installation                                                                           1\n",
      "Secure Hub - Inatallation instructions                                                                     1\n",
      "Secure Hub | Log on issues                                                                                 1\n",
      "Secure hub-how to install.                                                                                 1\n",
      "Citrix secure Hub - User need to install on new phone                                                      1\n",
      "Secure Hub - unable to logon Secure hub                                                                    1\n",
      "Secure Hub -- install                                                                                      1\n",
      "Secur Mail Configuration                                                                                   1\n",
      "                                                                                                          ..\n",
      "FUP1: secure hub -unable to log in .                                                                       1\n",
      "Reset password of Secure Hub Mail.                                                                         1\n",
      "User is having lots of problems with Secure Hub and Secure Mail                                            1\n",
      "Secure hub - assistance to login                                                                           1\n",
      "Secure Mail Error-\"This device does not support encryption features required by the application.\"          1\n",
      "Secure Hub - Install Secure Hub.                                                                           1\n",
      "How to sign in to Citrix secure hub                                                                        1\n",
      "BR - Secure Hub - Unable to Sign On                                                                        1\n",
      " Citrix Secure Hub Password request                                                                        1\n",
      "Citrix Secure- Hub                                                                                         1\n",
      "Secure Hub installion request                                                                              1\n",
      "Secure Hub - User requests for assistance to Install Secure Hub, Secure Mail, QuickEdit New, Secure Web    1\n",
      "< Secure HUB > - <Reason ie. Secure mail installation >                                                    1\n",
      "User is not aware of credentials  to login to  Secure hub                                                  1\n",
      "secure hub login                                                                                           1\n",
      "Install Secure Hub                                                                                         1\n",
      "Secure Hub-unable to login                                                                                 1\n",
      "Unable to login secure Hub                                                                                 1\n",
      "Secure hub installation                                                                                    1\n",
      "Secure hub :  error while establishing connection to the server.                                           1\n",
      "Secure Hub - Unable to login                                                                               1\n",
      "Unable to install SecureHub                                                                                1\n",
      "Secure Hub - How to login                                                                                  1\n",
      "Secure Hub - Logging in after changing windows password                                                    1\n",
      "Secure Hub-Unable to login secure hub.                                                                     1\n",
      "Secure Hub-access                                                                                          1\n",
      "Citrix secure hub - requesting to install secure mail                                                      1\n",
      "Secure Hub-Installation                                                                                    1\n",
      "Secure Hub - Unable to Sign On - User is unable to login to Secure Hub                                     1\n",
      "[EYSN]Cannot log in Secure Hub                                                                             1\n",
      "Name: u_task_short_description, Length: 162, dtype: int64\n",
      "(174,)\n"
     ]
    }
   ],
   "source": [
    "print(value_5.value_counts())\n",
    "print(value_5.shape)"
   ]
  },
  {
   "cell_type": "code",
   "execution_count": 41,
   "metadata": {},
   "outputs": [
    {
     "data": {
      "text/html": [
       "<div>\n",
       "<style scoped>\n",
       "    .dataframe tbody tr th:only-of-type {\n",
       "        vertical-align: middle;\n",
       "    }\n",
       "\n",
       "    .dataframe tbody tr th {\n",
       "        vertical-align: top;\n",
       "    }\n",
       "\n",
       "    .dataframe thead th {\n",
       "        text-align: right;\n",
       "    }\n",
       "</style>\n",
       "<table border=\"1\" class=\"dataframe\">\n",
       "  <thead>\n",
       "    <tr style=\"text-align: right;\">\n",
       "      <th></th>\n",
       "      <th>cluster_number</th>\n",
       "      <th>u_task_u_requested_by</th>\n",
       "      <th>u_task_u_requested_by_u_area</th>\n",
       "      <th>u_task_u_requested_by_department</th>\n",
       "      <th>u_task_u_requested_by_u_service_line</th>\n",
       "      <th>u_task_u_requested_by_vip</th>\n",
       "      <th>u_task_u_requested_by_preferred_language</th>\n",
       "      <th>u_task_active</th>\n",
       "      <th>u_task_contact_type</th>\n",
       "      <th>u_task_number</th>\n",
       "      <th>...</th>\n",
       "      <th>Linkedticket</th>\n",
       "      <th>OpenDesk</th>\n",
       "      <th>OpenDesk_Level</th>\n",
       "      <th>sys_updated_on</th>\n",
       "      <th>Opened_Vendor</th>\n",
       "      <th>ClosedDesk</th>\n",
       "      <th>ClosedDesk_Level</th>\n",
       "      <th>resolved_time</th>\n",
       "      <th>resolved_hours</th>\n",
       "      <th>cluster_category</th>\n",
       "    </tr>\n",
       "  </thead>\n",
       "  <tbody>\n",
       "    <tr>\n",
       "      <th>10776</th>\n",
       "      <td>NaN</td>\n",
       "      <td>Julia Brun</td>\n",
       "      <td>EM</td>\n",
       "      <td>FRANCE</td>\n",
       "      <td>Assurance</td>\n",
       "      <td>false</td>\n",
       "      <td>English</td>\n",
       "      <td>false</td>\n",
       "      <td>Phone</td>\n",
       "      <td>INC7279522</td>\n",
       "      <td>...</td>\n",
       "      <td>None</td>\n",
       "      <td>GSD</td>\n",
       "      <td>Level 1</td>\n",
       "      <td>None</td>\n",
       "      <td>TCS</td>\n",
       "      <td>GSD</td>\n",
       "      <td>Level 1</td>\n",
       "      <td>1970-01-01 00:04:22</td>\n",
       "      <td>0.072778</td>\n",
       "      <td>NaN</td>\n",
       "    </tr>\n",
       "    <tr>\n",
       "      <th>10777</th>\n",
       "      <td>NaN</td>\n",
       "      <td>Philippe Fourquet</td>\n",
       "      <td>EM</td>\n",
       "      <td>FRANCE</td>\n",
       "      <td>Assurance</td>\n",
       "      <td>false</td>\n",
       "      <td>English</td>\n",
       "      <td>false</td>\n",
       "      <td>Phone</td>\n",
       "      <td>SR10858558</td>\n",
       "      <td>...</td>\n",
       "      <td>None</td>\n",
       "      <td>GSD</td>\n",
       "      <td>Level 1</td>\n",
       "      <td>None</td>\n",
       "      <td>TCS</td>\n",
       "      <td>OSS</td>\n",
       "      <td>OSS</td>\n",
       "      <td>1970-01-19 05:50:14</td>\n",
       "      <td>5.837222</td>\n",
       "      <td>NaN</td>\n",
       "    </tr>\n",
       "    <tr>\n",
       "      <th>10778</th>\n",
       "      <td>NaN</td>\n",
       "      <td>Jodie Lichtenstein</td>\n",
       "      <td>AA</td>\n",
       "      <td>UNITED STATES</td>\n",
       "      <td>Assurance</td>\n",
       "      <td>false</td>\n",
       "      <td>English</td>\n",
       "      <td>false</td>\n",
       "      <td>Phone</td>\n",
       "      <td>INC7273015</td>\n",
       "      <td>...</td>\n",
       "      <td>None</td>\n",
       "      <td>GSD</td>\n",
       "      <td>Level 1</td>\n",
       "      <td>None</td>\n",
       "      <td>TCS</td>\n",
       "      <td>GSD</td>\n",
       "      <td>Level 1</td>\n",
       "      <td>1970-01-01 00:04:31</td>\n",
       "      <td>0.075278</td>\n",
       "      <td>NaN</td>\n",
       "    </tr>\n",
       "    <tr>\n",
       "      <th>10779</th>\n",
       "      <td>NaN</td>\n",
       "      <td>Kelly Rochlin</td>\n",
       "      <td>AA</td>\n",
       "      <td>UNITED STATES</td>\n",
       "      <td>Core Business Services</td>\n",
       "      <td>true</td>\n",
       "      <td>English</td>\n",
       "      <td>false</td>\n",
       "      <td>Phone</td>\n",
       "      <td>INC7261000</td>\n",
       "      <td>...</td>\n",
       "      <td>None</td>\n",
       "      <td>GSD</td>\n",
       "      <td>Level 1</td>\n",
       "      <td>None</td>\n",
       "      <td>TCS</td>\n",
       "      <td>GSD</td>\n",
       "      <td>Level 1</td>\n",
       "      <td>1970-01-01 00:11:43</td>\n",
       "      <td>0.195278</td>\n",
       "      <td>NaN</td>\n",
       "    </tr>\n",
       "    <tr>\n",
       "      <th>10780</th>\n",
       "      <td>NaN</td>\n",
       "      <td>Archit Mehra</td>\n",
       "      <td>EM</td>\n",
       "      <td>INDIA</td>\n",
       "      <td>Core Business Services</td>\n",
       "      <td>false</td>\n",
       "      <td>English</td>\n",
       "      <td>false</td>\n",
       "      <td>Phone</td>\n",
       "      <td>INC7277375</td>\n",
       "      <td>...</td>\n",
       "      <td>None</td>\n",
       "      <td>GSD</td>\n",
       "      <td>Level 1</td>\n",
       "      <td>None</td>\n",
       "      <td>Wipro</td>\n",
       "      <td>GSD</td>\n",
       "      <td>Level 1</td>\n",
       "      <td>1970-01-01 00:10:13</td>\n",
       "      <td>0.170278</td>\n",
       "      <td>NaN</td>\n",
       "    </tr>\n",
       "  </tbody>\n",
       "</table>\n",
       "<p>5 rows × 81 columns</p>\n",
       "</div>"
      ],
      "text/plain": [
       "       cluster_number u_task_u_requested_by u_task_u_requested_by_u_area  \\\n",
       "10776             NaN            Julia Brun                           EM   \n",
       "10777             NaN     Philippe Fourquet                           EM   \n",
       "10778             NaN    Jodie Lichtenstein                           AA   \n",
       "10779             NaN         Kelly Rochlin                           AA   \n",
       "10780             NaN          Archit Mehra                           EM   \n",
       "\n",
       "      u_task_u_requested_by_department u_task_u_requested_by_u_service_line  \\\n",
       "10776                           FRANCE                            Assurance   \n",
       "10777                           FRANCE                            Assurance   \n",
       "10778                    UNITED STATES                            Assurance   \n",
       "10779                    UNITED STATES               Core Business Services   \n",
       "10780                            INDIA               Core Business Services   \n",
       "\n",
       "      u_task_u_requested_by_vip u_task_u_requested_by_preferred_language  \\\n",
       "10776                     false                                  English   \n",
       "10777                     false                                  English   \n",
       "10778                     false                                  English   \n",
       "10779                      true                                  English   \n",
       "10780                     false                                  English   \n",
       "\n",
       "      u_task_active u_task_contact_type u_task_number       ...         \\\n",
       "10776         false               Phone    INC7279522       ...          \n",
       "10777         false               Phone    SR10858558       ...          \n",
       "10778         false               Phone    INC7273015       ...          \n",
       "10779         false               Phone    INC7261000       ...          \n",
       "10780         false               Phone    INC7277375       ...          \n",
       "\n",
       "      Linkedticket OpenDesk  OpenDesk_Level  sys_updated_on Opened_Vendor  \\\n",
       "10776         None      GSD         Level 1            None           TCS   \n",
       "10777         None      GSD         Level 1            None           TCS   \n",
       "10778         None      GSD         Level 1            None           TCS   \n",
       "10779         None      GSD         Level 1            None           TCS   \n",
       "10780         None      GSD         Level 1            None         Wipro   \n",
       "\n",
       "      ClosedDesk ClosedDesk_Level       resolved_time resolved_hours  \\\n",
       "10776        GSD          Level 1 1970-01-01 00:04:22       0.072778   \n",
       "10777        OSS              OSS 1970-01-19 05:50:14       5.837222   \n",
       "10778        GSD          Level 1 1970-01-01 00:04:31       0.075278   \n",
       "10779        GSD          Level 1 1970-01-01 00:11:43       0.195278   \n",
       "10780        GSD          Level 1 1970-01-01 00:10:13       0.170278   \n",
       "\n",
       "      cluster_category  \n",
       "10776              NaN  \n",
       "10777              NaN  \n",
       "10778              NaN  \n",
       "10779              NaN  \n",
       "10780              NaN  \n",
       "\n",
       "[5 rows x 81 columns]"
      ]
     },
     "execution_count": 41,
     "metadata": {},
     "output_type": "execute_result"
    }
   ],
   "source": [
    "result['cluster_category'] = result['cluster_number'].map({0:'install / login',1:'How to login / install',2:'login after windows password is changed',3:'secure hub installation',4:'Unable to login / access',5:'unable to sign on'})\n",
    "#w['female'] = w['female'].map({'female': 1, 'male': 0})\n",
    "result.tail()"
   ]
  },
  {
   "cell_type": "code",
   "execution_count": 42,
   "metadata": {},
   "outputs": [],
   "source": [
    "from __future__ import division\n",
    "cluster_category_summary = pd.crosstab(result.cluster_category,result.ClosedDesk_Level)\n",
    "requester_country = pd.crosstab(result.cluster_category,result.u_task_u_requested_by_department)\n",
    "#pd.crosstab(df.A, df.B).apply(lambda r: r/r.sum(), axis=1)"
   ]
  },
  {
   "cell_type": "code",
   "execution_count": 43,
   "metadata": {
    "scrolled": true
   },
   "outputs": [
    {
     "data": {
      "text/html": [
       "<div>\n",
       "<style scoped>\n",
       "    .dataframe tbody tr th:only-of-type {\n",
       "        vertical-align: middle;\n",
       "    }\n",
       "\n",
       "    .dataframe tbody tr th {\n",
       "        vertical-align: top;\n",
       "    }\n",
       "\n",
       "    .dataframe thead th {\n",
       "        text-align: right;\n",
       "    }\n",
       "</style>\n",
       "<table border=\"1\" class=\"dataframe\">\n",
       "  <thead>\n",
       "    <tr style=\"text-align: right;\">\n",
       "      <th>ClosedDesk_Level</th>\n",
       "      <th>L3/L4</th>\n",
       "      <th>Level 1</th>\n",
       "      <th>Level 2</th>\n",
       "      <th>OSS</th>\n",
       "      <th>Specialist</th>\n",
       "    </tr>\n",
       "    <tr>\n",
       "      <th>cluster_category</th>\n",
       "      <th></th>\n",
       "      <th></th>\n",
       "      <th></th>\n",
       "      <th></th>\n",
       "      <th></th>\n",
       "    </tr>\n",
       "  </thead>\n",
       "  <tbody>\n",
       "    <tr>\n",
       "      <th>How to login / install</th>\n",
       "      <td>2</td>\n",
       "      <td>853</td>\n",
       "      <td>77</td>\n",
       "      <td>146</td>\n",
       "      <td>25</td>\n",
       "    </tr>\n",
       "    <tr>\n",
       "      <th>Unable to login / access</th>\n",
       "      <td>2</td>\n",
       "      <td>1294</td>\n",
       "      <td>141</td>\n",
       "      <td>170</td>\n",
       "      <td>34</td>\n",
       "    </tr>\n",
       "    <tr>\n",
       "      <th>install / login</th>\n",
       "      <td>0</td>\n",
       "      <td>988</td>\n",
       "      <td>105</td>\n",
       "      <td>155</td>\n",
       "      <td>32</td>\n",
       "    </tr>\n",
       "    <tr>\n",
       "      <th>login after windows password is changed</th>\n",
       "      <td>18</td>\n",
       "      <td>3856</td>\n",
       "      <td>429</td>\n",
       "      <td>611</td>\n",
       "      <td>110</td>\n",
       "    </tr>\n",
       "    <tr>\n",
       "      <th>secure hub installation</th>\n",
       "      <td>3</td>\n",
       "      <td>950</td>\n",
       "      <td>86</td>\n",
       "      <td>141</td>\n",
       "      <td>19</td>\n",
       "    </tr>\n",
       "    <tr>\n",
       "      <th>unable to sign on</th>\n",
       "      <td>0</td>\n",
       "      <td>137</td>\n",
       "      <td>18</td>\n",
       "      <td>17</td>\n",
       "      <td>0</td>\n",
       "    </tr>\n",
       "  </tbody>\n",
       "</table>\n",
       "</div>"
      ],
      "text/plain": [
       "ClosedDesk_Level                         L3/L4  Level 1  Level 2  OSS  \\\n",
       "cluster_category                                                        \n",
       "How to login / install                       2      853       77  146   \n",
       "Unable to login / access                     2     1294      141  170   \n",
       "install / login                              0      988      105  155   \n",
       "login after windows password is changed     18     3856      429  611   \n",
       "secure hub installation                      3      950       86  141   \n",
       "unable to sign on                            0      137       18   17   \n",
       "\n",
       "ClosedDesk_Level                         Specialist  \n",
       "cluster_category                                     \n",
       "How to login / install                           25  \n",
       "Unable to login / access                         34  \n",
       "install / login                                  32  \n",
       "login after windows password is changed         110  \n",
       "secure hub installation                          19  \n",
       "unable to sign on                                 0  "
      ]
     },
     "execution_count": 43,
     "metadata": {},
     "output_type": "execute_result"
    }
   ],
   "source": [
    "cluster_category_summary\n",
    "#print(requester_country)"
   ]
  },
  {
   "cell_type": "code",
   "execution_count": 44,
   "metadata": {},
   "outputs": [],
   "source": [
    "import seaborn as sns"
   ]
  },
  {
   "cell_type": "code",
   "execution_count": 45,
   "metadata": {},
   "outputs": [
    {
     "name": "stderr",
     "output_type": "stream",
     "text": [
      "C:\\Users\\madhan.s\\AppData\\Local\\Continuum\\Anaconda3\\lib\\site-packages\\seaborn\\categorical.py:1468: FutureWarning: remove_na is deprecated and is a private function. Do not use.\n",
      "  stat_data = remove_na(group_data[hue_mask])\n"
     ]
    },
    {
     "data": {
      "text/plain": [
       "<matplotlib.axes._subplots.AxesSubplot at 0x1cb76343748>"
      ]
     },
     "execution_count": 45,
     "metadata": {},
     "output_type": "execute_result"
    },
    {
     "data": {
      "image/png": "[encoded data removed]",
      "text/plain": [
       "<matplotlib.figure.Figure at 0x1cb7632cb70>"
      ]
     },
     "metadata": {},
     "output_type": "display_data"
    }
   ],
   "source": [
    " # now stack and reset\n",
    "stacked = cluster_category_summary.stack().reset_index().rename(columns={0:'value'})\n",
    "\n",
    " # plot grouped bar chart\n",
    "sns.barplot(x=stacked.ClosedDesk_Level, y=stacked.value, hue=stacked.cluster_category)"
   ]
  },
  {
   "cell_type": "code",
   "execution_count": 46,
   "metadata": {},
   "outputs": [
    {
     "data": {
      "text/plain": [
       "<matplotlib.axes._subplots.AxesSubplot at 0x1cb76426470>"
      ]
     },
     "execution_count": 46,
     "metadata": {},
     "output_type": "execute_result"
    },
    {
     "data": {
      "image/png": "[encoded data removed]",
      "text/plain": [
       "<matplotlib.figure.Figure at 0x1cb75f52f98>"
      ]
     },
     "metadata": {},
     "output_type": "display_data"
    }
   ],
   "source": [
    "result.boxplot('resolved_hours', by = 'cluster_category')"
   ]
  },
  {
   "cell_type": "code",
   "execution_count": 47,
   "metadata": {},
   "outputs": [
    {
     "data": {
      "text/plain": [
       "       cluster_category                       \n",
       "count  How to login / install                     1104.000000\n",
       "       Unable to login / access                   1647.000000\n",
       "       install / login                            1281.000000\n",
       "       login after windows password is changed    5031.000000\n",
       "       secure hub installation                    1201.000000\n",
       "       unable to sign on                           172.000000\n",
       "mean   How to login / install                        2.748333\n",
       "       Unable to login / access                      3.223133\n",
       "       install / login                               3.206412\n",
       "       login after windows password is changed       3.275632\n",
       "       secure hub installation                       3.071248\n",
       "       unable to sign on                             3.338931\n",
       "std    How to login / install                        5.839625\n",
       "       Unable to login / access                      6.452727\n",
       "       install / login                               6.358107\n",
       "       login after windows password is changed       6.458111\n",
       "       secure hub installation                       6.219572\n",
       "       unable to sign on                             6.658544\n",
       "min    How to login / install                        0.002500\n",
       "       Unable to login / access                      0.000000\n",
       "       install / login                               0.002222\n",
       "       login after windows password is changed       0.000000\n",
       "       secure hub installation                       0.002500\n",
       "       unable to sign on                             0.010000\n",
       "25%    How to login / install                        0.069097\n",
       "       Unable to login / access                      0.073333\n",
       "       install / login                               0.069444\n",
       "       login after windows password is changed       0.070278\n",
       "       secure hub installation                       0.072778\n",
       "       unable to sign on                             0.063472\n",
       "50%    How to login / install                        0.238194\n",
       "       Unable to login / access                      0.225278\n",
       "       install / login                               0.226389\n",
       "       login after windows password is changed       0.256111\n",
       "       secure hub installation                       0.251944\n",
       "       unable to sign on                             0.164722\n",
       "75%    How to login / install                        1.919097\n",
       "       Unable to login / access                      2.293194\n",
       "       install / login                               2.150000\n",
       "       login after windows password is changed       2.411667\n",
       "       secure hub installation                       2.134167\n",
       "       unable to sign on                             2.573194\n",
       "max    How to login / install                       23.920000\n",
       "       Unable to login / access                     23.968611\n",
       "       install / login                              23.997500\n",
       "       login after windows password is changed      23.998056\n",
       "       secure hub installation                      23.963056\n",
       "       unable to sign on                            23.636111\n",
       "dtype: float64"
      ]
     },
     "execution_count": 47,
     "metadata": {},
     "output_type": "execute_result"
    }
   ],
   "source": [
    "result.groupby('cluster_category').resolved_hours.describe().unstack()"
   ]
  },
  {
   "cell_type": "code",
   "execution_count": 48,
   "metadata": {},
   "outputs": [
    {
     "data": {
      "text/html": [
       "<div>\n",
       "<style scoped>\n",
       "    .dataframe tbody tr th:only-of-type {\n",
       "        vertical-align: middle;\n",
       "    }\n",
       "\n",
       "    .dataframe tbody tr th {\n",
       "        vertical-align: top;\n",
       "    }\n",
       "\n",
       "    .dataframe thead th {\n",
       "        text-align: right;\n",
       "    }\n",
       "</style>\n",
       "<table border=\"1\" class=\"dataframe\">\n",
       "  <thead>\n",
       "    <tr style=\"text-align: right;\">\n",
       "      <th></th>\n",
       "      <th>cluster_number</th>\n",
       "      <th>u_task_u_requested_by</th>\n",
       "      <th>u_task_u_requested_by_u_area</th>\n",
       "      <th>u_task_u_requested_by_department</th>\n",
       "      <th>u_task_u_requested_by_u_service_line</th>\n",
       "      <th>u_task_u_requested_by_vip</th>\n",
       "      <th>u_task_u_requested_by_preferred_language</th>\n",
       "      <th>u_task_active</th>\n",
       "      <th>u_task_contact_type</th>\n",
       "      <th>u_task_number</th>\n",
       "      <th>...</th>\n",
       "      <th>Linkedticket</th>\n",
       "      <th>OpenDesk</th>\n",
       "      <th>OpenDesk_Level</th>\n",
       "      <th>sys_updated_on</th>\n",
       "      <th>Opened_Vendor</th>\n",
       "      <th>ClosedDesk</th>\n",
       "      <th>ClosedDesk_Level</th>\n",
       "      <th>resolved_time</th>\n",
       "      <th>resolved_hours</th>\n",
       "      <th>cluster_category</th>\n",
       "    </tr>\n",
       "  </thead>\n",
       "  <tbody>\n",
       "    <tr>\n",
       "      <th>10602</th>\n",
       "      <td>4.0</td>\n",
       "      <td>Yawar Mehboob</td>\n",
       "      <td>EM</td>\n",
       "      <td>UNITED KINGDOM</td>\n",
       "      <td>Assurance</td>\n",
       "      <td>false</td>\n",
       "      <td>English</td>\n",
       "      <td>false</td>\n",
       "      <td>Phone</td>\n",
       "      <td>INC7112728</td>\n",
       "      <td>...</td>\n",
       "      <td>None</td>\n",
       "      <td>GSD</td>\n",
       "      <td>Level 1</td>\n",
       "      <td>None</td>\n",
       "      <td>TCS</td>\n",
       "      <td>GSD</td>\n",
       "      <td>Level 1</td>\n",
       "      <td>1970-01-04 23:15:28</td>\n",
       "      <td>23.257778</td>\n",
       "      <td>Unable to login / access</td>\n",
       "    </tr>\n",
       "    <tr>\n",
       "      <th>10603</th>\n",
       "      <td>2.0</td>\n",
       "      <td>Debra Aerne</td>\n",
       "      <td>AA</td>\n",
       "      <td>UNITED STATES</td>\n",
       "      <td>Core Business Services</td>\n",
       "      <td>false</td>\n",
       "      <td>English</td>\n",
       "      <td>false</td>\n",
       "      <td>Phone</td>\n",
       "      <td>SR11033283</td>\n",
       "      <td>...</td>\n",
       "      <td>None</td>\n",
       "      <td>GSD</td>\n",
       "      <td>Level 1</td>\n",
       "      <td>None</td>\n",
       "      <td>TCS</td>\n",
       "      <td>GSD</td>\n",
       "      <td>Level 1</td>\n",
       "      <td>1970-01-01 00:06:01</td>\n",
       "      <td>0.100278</td>\n",
       "      <td>login after windows password is changed</td>\n",
       "    </tr>\n",
       "    <tr>\n",
       "      <th>10604</th>\n",
       "      <td>4.0</td>\n",
       "      <td>R Rejeesh</td>\n",
       "      <td>AA</td>\n",
       "      <td>UNITED STATES</td>\n",
       "      <td>Core Business Services</td>\n",
       "      <td>false</td>\n",
       "      <td>English</td>\n",
       "      <td>false</td>\n",
       "      <td>Phone</td>\n",
       "      <td>INC7156250</td>\n",
       "      <td>...</td>\n",
       "      <td>None</td>\n",
       "      <td>GSD</td>\n",
       "      <td>Level 1</td>\n",
       "      <td>None</td>\n",
       "      <td>TCS</td>\n",
       "      <td>GSD</td>\n",
       "      <td>Level 2</td>\n",
       "      <td>1970-01-09 23:34:16</td>\n",
       "      <td>23.571111</td>\n",
       "      <td>Unable to login / access</td>\n",
       "    </tr>\n",
       "    <tr>\n",
       "      <th>10605</th>\n",
       "      <td>4.0</td>\n",
       "      <td>Thomas O'Neill</td>\n",
       "      <td>AA</td>\n",
       "      <td>UNITED STATES</td>\n",
       "      <td>TAX</td>\n",
       "      <td>false</td>\n",
       "      <td>English</td>\n",
       "      <td>false</td>\n",
       "      <td>Phone</td>\n",
       "      <td>SR10995909</td>\n",
       "      <td>...</td>\n",
       "      <td>None</td>\n",
       "      <td>GSD</td>\n",
       "      <td>Level 1</td>\n",
       "      <td>None</td>\n",
       "      <td>TCS</td>\n",
       "      <td>GSD</td>\n",
       "      <td>Level 1</td>\n",
       "      <td>1970-01-01 00:06:28</td>\n",
       "      <td>0.107778</td>\n",
       "      <td>Unable to login / access</td>\n",
       "    </tr>\n",
       "    <tr>\n",
       "      <th>10606</th>\n",
       "      <td>4.0</td>\n",
       "      <td>Steve Krouskos</td>\n",
       "      <td>EM</td>\n",
       "      <td>UNITED KINGDOM</td>\n",
       "      <td>TAS</td>\n",
       "      <td>true</td>\n",
       "      <td>English</td>\n",
       "      <td>false</td>\n",
       "      <td>How's IT</td>\n",
       "      <td>SR11136242</td>\n",
       "      <td>...</td>\n",
       "      <td>None</td>\n",
       "      <td>OSS</td>\n",
       "      <td>OSS</td>\n",
       "      <td>None</td>\n",
       "      <td>None</td>\n",
       "      <td>OSS</td>\n",
       "      <td>OSS</td>\n",
       "      <td>1970-01-01 00:02:27</td>\n",
       "      <td>0.040833</td>\n",
       "      <td>Unable to login / access</td>\n",
       "    </tr>\n",
       "  </tbody>\n",
       "</table>\n",
       "<p>5 rows × 81 columns</p>\n",
       "</div>"
      ],
      "text/plain": [
       "       cluster_number u_task_u_requested_by u_task_u_requested_by_u_area  \\\n",
       "10602             4.0         Yawar Mehboob                           EM   \n",
       "10603             2.0           Debra Aerne                           AA   \n",
       "10604             4.0             R Rejeesh                           AA   \n",
       "10605             4.0        Thomas O'Neill                           AA   \n",
       "10606             4.0        Steve Krouskos                           EM   \n",
       "\n",
       "      u_task_u_requested_by_department u_task_u_requested_by_u_service_line  \\\n",
       "10602                   UNITED KINGDOM                            Assurance   \n",
       "10603                    UNITED STATES               Core Business Services   \n",
       "10604                    UNITED STATES               Core Business Services   \n",
       "10605                    UNITED STATES                                  TAX   \n",
       "10606                   UNITED KINGDOM                                  TAS   \n",
       "\n",
       "      u_task_u_requested_by_vip u_task_u_requested_by_preferred_language  \\\n",
       "10602                     false                                  English   \n",
       "10603                     false                                  English   \n",
       "10604                     false                                  English   \n",
       "10605                     false                                  English   \n",
       "10606                      true                                  English   \n",
       "\n",
       "      u_task_active u_task_contact_type u_task_number  \\\n",
       "10602         false               Phone    INC7112728   \n",
       "10603         false               Phone    SR11033283   \n",
       "10604         false               Phone    INC7156250   \n",
       "10605         false               Phone    SR10995909   \n",
       "10606         false            How's IT    SR11136242   \n",
       "\n",
       "                        ...                    Linkedticket OpenDesk  \\\n",
       "10602                   ...                            None      GSD   \n",
       "10603                   ...                            None      GSD   \n",
       "10604                   ...                            None      GSD   \n",
       "10605                   ...                            None      GSD   \n",
       "10606                   ...                            None      OSS   \n",
       "\n",
       "       OpenDesk_Level  sys_updated_on Opened_Vendor ClosedDesk  \\\n",
       "10602         Level 1            None           TCS        GSD   \n",
       "10603         Level 1            None           TCS        GSD   \n",
       "10604         Level 1            None           TCS        GSD   \n",
       "10605         Level 1            None           TCS        GSD   \n",
       "10606             OSS            None          None        OSS   \n",
       "\n",
       "      ClosedDesk_Level       resolved_time resolved_hours  \\\n",
       "10602          Level 1 1970-01-04 23:15:28      23.257778   \n",
       "10603          Level 1 1970-01-01 00:06:01       0.100278   \n",
       "10604          Level 2 1970-01-09 23:34:16      23.571111   \n",
       "10605          Level 1 1970-01-01 00:06:28       0.107778   \n",
       "10606              OSS 1970-01-01 00:02:27       0.040833   \n",
       "\n",
       "                              cluster_category  \n",
       "10602                 Unable to login / access  \n",
       "10603  login after windows password is changed  \n",
       "10604                 Unable to login / access  \n",
       "10605                 Unable to login / access  \n",
       "10606                 Unable to login / access  \n",
       "\n",
       "[5 rows x 81 columns]"
      ]
     },
     "execution_count": 48,
     "metadata": {},
     "output_type": "execute_result"
    }
   ],
   "source": [
    "result.dropna(subset=['cluster_category'],inplace=True)\n",
    "#col.dropna(subset=['resolved_hours'], inplace=True)\n",
    "result.tail()"
   ]
  },
  {
   "cell_type": "markdown",
   "metadata": {},
   "source": [
    "### Sample of January Data"
   ]
  },
  {
   "cell_type": "code",
   "execution_count": 49,
   "metadata": {},
   "outputs": [],
   "source": [
    "cols_jan = \"SELECT * FROM Reporting.SLAData_Closed_Operational_Combined WHERE [u_task opened_at] >= '2018-01-01' AND [u_task u_impacted_ci] = 'Secure Hub'\"\n",
    "col_jan = pandas.io.sql.read_sql(cols_jan,conn_marvin)"
   ]
  },
  {
   "cell_type": "code",
   "execution_count": 50,
   "metadata": {},
   "outputs": [],
   "source": [
    "col_jan.columns = [c.replace(' ','_') for c in col_jan.columns]"
   ]
  },
  {
   "cell_type": "code",
   "execution_count": 51,
   "metadata": {},
   "outputs": [
    {
     "data": {
      "text/plain": [
       "count                     785\n",
       "unique                    785\n",
       "top       2018-02-09 13:41:03\n",
       "freq                        1\n",
       "first     2018-01-01 07:23:59\n",
       "last      2018-02-20 03:00:55\n",
       "Name: u_task_opened_at, dtype: object"
      ]
     },
     "execution_count": 51,
     "metadata": {},
     "output_type": "execute_result"
    }
   ],
   "source": [
    "col_jan.u_task_opened_at.describe()"
   ]
  },
  {
   "cell_type": "raw",
   "metadata": {},
   "source": []
  },
  {
   "cell_type": "code",
   "execution_count": 52,
   "metadata": {},
   "outputs": [
    {
     "data": {
      "text/plain": [
       "<matplotlib.collections.PathCollection at 0x1cb76880208>"
      ]
     },
     "execution_count": 52,
     "metadata": {},
     "output_type": "execute_result"
    },
    {
     "data": {
      "image/png": "[encoded data removed]",
      "text/plain": [
       "<matplotlib.figure.Figure at 0x1cb7650c198>"
      ]
     },
     "metadata": {},
     "output_type": "display_data"
    }
   ],
   "source": [
    "import matplotlib.pyplot as plt\n",
    "import numpy as np\n",
    "from sklearn import datasets, linear_model\n",
    "from sklearn.metrics import mean_squared_error, r2_score\n",
    "plt.scatter(result.u_task_reassignment_count,result.resolved_hours)"
   ]
  },
  {
   "cell_type": "code",
   "execution_count": null,
   "metadata": {},
   "outputs": [],
   "source": []
  }
 ],
 "metadata": {
  "anaconda-cloud": {},
  "kernelspec": {
   "display_name": "Python 3",
   "language": "python",
   "name": "python3"
  },
  "language_info": {
   "codemirror_mode": {
    "name": "ipython",
    "version": 3
   },
   "file_extension": ".py",
   "mimetype": "text/x-python",
   "name": "python",
   "nbconvert_exporter": "python",
   "pygments_lexer": "ipython3",
   "version": "3.5.4"
  }
 },
 "nbformat": 4,
 "nbformat_minor": 1
}
